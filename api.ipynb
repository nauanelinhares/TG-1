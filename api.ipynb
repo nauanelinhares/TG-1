{
 "cells": [
  {
   "cell_type": "code",
   "execution_count": 1,
   "metadata": {},
   "outputs": [
    {
     "name": "stderr",
     "output_type": "stream",
     "text": [
      "/usr/lib/python3/dist-packages/scipy/__init__.py:146: UserWarning: A NumPy version >=1.17.3 and <1.25.0 is required for this version of SciPy (detected version 1.26.4\n",
      "  warnings.warn(f\"A NumPy version >={np_minversion} and <{np_maxversion}\"\n"
     ]
    }
   ],
   "source": [
    "import pandas as pd \n",
    "import numpy as np\n",
    "import requests\n",
    "import time\n",
    "import json\n",
    "import os   \n",
    "import sys\n",
    "import re\n",
    "import datetime\n",
    "import matplotlib.pyplot as plt\n",
    "import seaborn as sns\n",
    "import matplotlib.dates as mdates\n",
    "from matplotlib.dates import DateFormatter\n",
    "from matplotlib.ticker import MaxNLocator\n",
    "from matplotlib import rcParams\n",
    "from datetime import timedelta\n",
    "from tqdm import tqdm\n",
    "from concurrent.futures import ThreadPoolExecutor\n",
    "import concurrent"
   ]
  },
  {
   "cell_type": "code",
   "execution_count": 9,
   "metadata": {},
   "outputs": [
    {
     "name": "stdout",
     "output_type": "stream",
     "text": [
      "Processando cat-62\n",
      "Processando parte 1/4\n",
      "Fetching data from http://montreal.icea.decea.mil.br:5002/api/v1/cat-62?token=a779d04f85c4bf6cfa586d30aaec57c44e9b7173&idate=2022-05-01 00:00:00.001&fdate=2022-05-02 00:00:00.001\n",
      "Fetching data from http://montreal.icea.decea.mil.br:5002/api/v1/cat-62?token=a779d04f85c4bf6cfa586d30aaec57c44e9b7173&idate=2022-05-02 00:00:00.001&fdate=2022-05-03 00:00:00.001\n",
      "Fetching data from http://montreal.icea.decea.mil.br:5002/api/v1/cat-62?token=a779d04f85c4bf6cfa586d30aaec57c44e9b7173&idate=2022-05-03 00:00:00.001&fdate=2022-05-04 00:00:00.001\n",
      "Fetching data from http://montreal.icea.decea.mil.br:5002/api/v1/cat-62?token=a779d04f85c4bf6cfa586d30aaec57c44e9b7173&idate=2022-05-04 00:00:00.001&fdate=2022-05-05 00:00:00.001\n",
      "Fetching data from http://montreal.icea.decea.mil.br:5002/api/v1/cat-62?token=a779d04f85c4bf6cfa586d30aaec57c44e9b7173&idate=2022-05-05 00:00:00.001&fdate=2022-05-06 00:00:00.001\n",
      "Fetching data from http://montreal.icea.decea.mil.br:5002/api/v1/cat-62?token=a779d04f85c4bf6cfa586d30aaec57c44e9b7173&idate=2022-05-06 00:00:00.001&fdate=2022-05-07 00:00:00.001\n",
      "Fetching data from http://montreal.icea.decea.mil.br:5002/api/v1/cat-62?token=a779d04f85c4bf6cfa586d30aaec57c44e9b7173&idate=2022-05-07 00:00:00.001&fdate=2022-05-08 00:00:00.001\n",
      "Fetching data from http://montreal.icea.decea.mil.br:5002/api/v1/cat-62?token=a779d04f85c4bf6cfa586d30aaec57c44e9b7173&idate=2022-05-08 00:00:00.001&fdate=2022-05-09 00:00:00.001\n",
      "Fetching data from http://montreal.icea.decea.mil.br:5002/api/v1/cat-62?token=a779d04f85c4bf6cfa586d30aaec57c44e9b7173&idate=2022-05-09 00:00:00.001&fdate=2022-05-10 00:00:00.001\n",
      "Fetching data from http://montreal.icea.decea.mil.br:5002/api/v1/cat-62?token=a779d04f85c4bf6cfa586d30aaec57c44e9b7173&idate=2022-05-10 00:00:00.001&fdate=2022-05-11 00:00:00.001\n"
     ]
    },
    {
     "name": "stderr",
     "output_type": "stream",
     "text": [
      "Carregando dados de cat-62, Parte 1:   0%|          | 0/106 [00:00<?, ?it/s]"
     ]
    },
    {
     "name": "stderr",
     "output_type": "stream",
     "text": [
      "Carregando dados de cat-62, Parte 1:   1%|          | 1/106 [00:00<00:11,  9.31it/s]"
     ]
    },
    {
     "name": "stdout",
     "output_type": "stream",
     "text": [
      "Fetching data from http://montreal.icea.decea.mil.br:5002/api/v1/cat-62?token=a779d04f85c4bf6cfa586d30aaec57c44e9b7173&idate=2022-05-11 00:00:00.001&fdate=2022-05-12 00:00:00.001\n",
      "Fetching data from http://montreal.icea.decea.mil.br:5002/api/v1/cat-62?token=a779d04f85c4bf6cfa586d30aaec57c44e9b7173&idate=2022-05-12 00:00:00.001&fdate=2022-05-13 00:00:00.001\n",
      "Fetching data from http://montreal.icea.decea.mil.br:5002/api/v1/cat-62?token=a779d04f85c4bf6cfa586d30aaec57c44e9b7173&idate=2022-05-13 00:00:00.001&fdate=2022-05-14 00:00:00.001\n",
      "Fetching data from http://montreal.icea.decea.mil.br:5002/api/v1/cat-62?token=a779d04f85c4bf6cfa586d30aaec57c44e9b7173&idate=2022-05-14 00:00:00.001&fdate=2022-05-15 00:00:00.001\n",
      "Fetching data from http://montreal.icea.decea.mil.br:5002/api/v1/cat-62?token=a779d04f85c4bf6cfa586d30aaec57c44e9b7173&idate=2022-05-15 00:00:00.001&fdate=2022-05-16 00:00:00.001\n",
      "Fetching data from http://montreal.icea.decea.mil.br:5002/api/v1/cat-62?token=a779d04f85c4bf6cfa586d30aaec57c44e9b7173&idate=2022-05-16 00:00:00.001&fdate=2022-05-17 00:00:00.001\n",
      "Fetching data from http://montreal.icea.decea.mil.br:5002/api/v1/cat-62?token=a779d04f85c4bf6cfa586d30aaec57c44e9b7173&idate=2022-05-17 00:00:00.001&fdate=2022-05-18 00:00:00.001\n",
      "Fetching data from http://montreal.icea.decea.mil.br:5002/api/v1/cat-62?token=a779d04f85c4bf6cfa586d30aaec57c44e9b7173&idate=2022-05-18 00:00:00.001&fdate=2022-05-19 00:00:00.001\n",
      "Fetching data from http://montreal.icea.decea.mil.br:5002/api/v1/cat-62?token=a779d04f85c4bf6cfa586d30aaec57c44e9b7173&idate=2022-05-19 00:00:00.001&fdate=2022-05-20 00:00:00.001\n",
      "Fetching data from http://montreal.icea.decea.mil.br:5002/api/v1/cat-62?token=a779d04f85c4bf6cfa586d30aaec57c44e9b7173&idate=2022-05-20 00:00:00.001&fdate=2022-05-21 00:00:00.001\n",
      "Fetching data from http://montreal.icea.decea.mil.br:5002/api/v1/cat-62?token=a779d04f85c4bf6cfa586d30aaec57c44e9b7173&idate=2022-05-21 00:00:00.001&fdate=2022-05-22 00:00:00.001\n",
      "Fetching data from http://montreal.icea.decea.mil.br:5002/api/v1/cat-62?token=a779d04f85c4bf6cfa586d30aaec57c44e9b7173&idate=2022-05-22 00:00:00.001&fdate=2022-05-23 00:00:00.001\n",
      "Fetching data from http://montreal.icea.decea.mil.br:5002/api/v1/cat-62?token=a779d04f85c4bf6cfa586d30aaec57c44e9b7173&idate=2022-05-23 00:00:00.001&fdate=2022-05-24 00:00:00.001\n",
      "Fetching data from http://montreal.icea.decea.mil.br:5002/api/v1/cat-62?token=a779d04f85c4bf6cfa586d30aaec57c44e9b7173&idate=2022-05-24 00:00:00.001&fdate=2022-05-25 00:00:00.001\n",
      "Fetching data from http://montreal.icea.decea.mil.br:5002/api/v1/cat-62?token=a779d04f85c4bf6cfa586d30aaec57c44e9b7173&idate=2022-05-25 00:00:00.001&fdate=2022-05-26 00:00:00.001\n",
      "Fetching data from http://montreal.icea.decea.mil.br:5002/api/v1/cat-62?token=a779d04f85c4bf6cfa586d30aaec57c44e9b7173&idate=2022-05-26 00:00:00.001&fdate=2022-05-27 00:00:00.001\n",
      "Fetching data from http://montreal.icea.decea.mil.br:5002/api/v1/cat-62?token=a779d04f85c4bf6cfa586d30aaec57c44e9b7173&idate=2022-05-27 00:00:00.001&fdate=2022-05-28 00:00:00.001\n",
      "Fetching data from http://montreal.icea.decea.mil.br:5002/api/v1/cat-62?token=a779d04f85c4bf6cfa586d30aaec57c44e9b7173&idate=2022-05-28 00:00:00.001&fdate=2022-05-29 00:00:00.001\n"
     ]
    },
    {
     "name": "stderr",
     "output_type": "stream",
     "text": [
      "Carregando dados de cat-62, Parte 1:  25%|██▌       | 27/106 [00:00<00:00, 150.03it/s]"
     ]
    },
    {
     "name": "stdout",
     "output_type": "stream",
     "text": [
      "Fetching data from http://montreal.icea.decea.mil.br:5002/api/v1/cat-62?token=a779d04f85c4bf6cfa586d30aaec57c44e9b7173&idate=2022-05-29 00:00:00.001&fdate=2022-05-30 00:00:00.001\n",
      "Fetching data from http://montreal.icea.decea.mil.br:5002/api/v1/cat-62?token=a779d04f85c4bf6cfa586d30aaec57c44e9b7173&idate=2022-05-30 00:00:00.001&fdate=2022-05-31 00:00:00.001\n",
      "Fetching data from http://montreal.icea.decea.mil.br:5002/api/v1/cat-62?token=a779d04f85c4bf6cfa586d30aaec57c44e9b7173&idate=2022-05-31 00:00:00.001&fdate=2022-06-01 00:00:00.001\n",
      "Fetching data from http://montreal.icea.decea.mil.br:5002/api/v1/cat-62?token=a779d04f85c4bf6cfa586d30aaec57c44e9b7173&idate=2022-06-01 00:00:00.001&fdate=2022-06-02 00:00:00.001\n",
      "Fetching data from http://montreal.icea.decea.mil.br:5002/api/v1/cat-62?token=a779d04f85c4bf6cfa586d30aaec57c44e9b7173&idate=2022-06-02 00:00:00.001&fdate=2022-06-03 00:00:00.001\n",
      "Fetching data from http://montreal.icea.decea.mil.br:5002/api/v1/cat-62?token=a779d04f85c4bf6cfa586d30aaec57c44e9b7173&idate=2022-06-03 00:00:00.001&fdate=2022-06-04 00:00:00.001\n",
      "Fetching data from http://montreal.icea.decea.mil.br:5002/api/v1/cat-62?token=a779d04f85c4bf6cfa586d30aaec57c44e9b7173&idate=2022-06-04 00:00:00.001&fdate=2022-06-05 00:00:00.001\n",
      "Fetching data from http://montreal.icea.decea.mil.br:5002/api/v1/cat-62?token=a779d04f85c4bf6cfa586d30aaec57c44e9b7173&idate=2022-06-05 00:00:00.001&fdate=2022-06-06 00:00:00.001\n",
      "Fetching data from http://montreal.icea.decea.mil.br:5002/api/v1/cat-62?token=a779d04f85c4bf6cfa586d30aaec57c44e9b7173&idate=2022-06-06 00:00:00.001&fdate=2022-06-07 00:00:00.001\n",
      "Fetching data from http://montreal.icea.decea.mil.br:5002/api/v1/cat-62?token=a779d04f85c4bf6cfa586d30aaec57c44e9b7173&idate=2022-06-07 00:00:00.001&fdate=2022-06-08 00:00:00.001\n",
      "Fetching data from http://montreal.icea.decea.mil.br:5002/api/v1/cat-62?token=a779d04f85c4bf6cfa586d30aaec57c44e9b7173&idate=2022-06-08 00:00:00.001&fdate=2022-06-09 00:00:00.001\n",
      "Fetching data from http://montreal.icea.decea.mil.br:5002/api/v1/cat-62?token=a779d04f85c4bf6cfa586d30aaec57c44e9b7173&idate=2022-06-09 00:00:00.001&fdate=2022-06-10 00:00:00.001\n",
      "Fetching data from http://montreal.icea.decea.mil.br:5002/api/v1/cat-62?token=a779d04f85c4bf6cfa586d30aaec57c44e9b7173&idate=2022-06-10 00:00:00.001&fdate=2022-06-11 00:00:00.001\n",
      "Fetching data from http://montreal.icea.decea.mil.br:5002/api/v1/cat-62?token=a779d04f85c4bf6cfa586d30aaec57c44e9b7173&idate=2022-06-11 00:00:00.001&fdate=2022-06-12 00:00:00.001\n",
      "Fetching data from http://montreal.icea.decea.mil.br:5002/api/v1/cat-62?token=a779d04f85c4bf6cfa586d30aaec57c44e9b7173&idate=2022-06-12 00:00:00.001&fdate=2022-06-13 00:00:00.001\n",
      "Fetching data from http://montreal.icea.decea.mil.br:5002/api/v1/cat-62?token=a779d04f85c4bf6cfa586d30aaec57c44e9b7173&idate=2022-06-13 00:00:00.001&fdate=2022-06-14 00:00:00.001\n",
      "Fetching data from http://montreal.icea.decea.mil.br:5002/api/v1/cat-62?token=a779d04f85c4bf6cfa586d30aaec57c44e9b7173&idate=2022-06-14 00:00:00.001&fdate=2022-06-15 00:00:00.001\n",
      "Fetching data from http://montreal.icea.decea.mil.br:5002/api/v1/cat-62?token=a779d04f85c4bf6cfa586d30aaec57c44e9b7173&idate=2022-06-15 00:00:00.001&fdate=2022-06-16 00:00:00.001\n",
      "Fetching data from http://montreal.icea.decea.mil.br:5002/api/v1/cat-62?token=a779d04f85c4bf6cfa586d30aaec57c44e9b7173&idate=2022-06-16 00:00:00.001&fdate=2022-06-17 00:00:00.001\n",
      "Fetching data from http://montreal.icea.decea.mil.br:5002/api/v1/cat-62?token=a779d04f85c4bf6cfa586d30aaec57c44e9b7173&idate=2022-06-17 00:00:00.001&fdate=2022-06-18 00:00:00.001\n",
      "Fetching data from http://montreal.icea.decea.mil.br:5002/api/v1/cat-62?token=a779d04f85c4bf6cfa586d30aaec57c44e9b7173&idate=2022-06-18 00:00:00.001&fdate=2022-06-19 00:00:00.001\n",
      "Fetching data from http://montreal.icea.decea.mil.br:5002/api/v1/cat-62?token=a779d04f85c4bf6cfa586d30aaec57c44e9b7173&idate=2022-06-19 00:00:00.001&fdate=2022-06-20 00:00:00.001\n",
      "Fetching data from http://montreal.icea.decea.mil.br:5002/api/v1/cat-62?token=a779d04f85c4bf6cfa586d30aaec57c44e9b7173&idate=2022-06-20 00:00:00.001&fdate=2022-06-21 00:00:00.001\n",
      "Fetching data from http://montreal.icea.decea.mil.br:5002/api/v1/cat-62?token=a779d04f85c4bf6cfa586d30aaec57c44e9b7173&idate=2022-06-21 00:00:00.001&fdate=2022-06-22 00:00:00.001\n",
      "Fetching data from http://montreal.icea.decea.mil.br:5002/api/v1/cat-62?token=a779d04f85c4bf6cfa586d30aaec57c44e9b7173&idate=2022-06-22 00:00:00.001&fdate=2022-06-23 00:00:00.001\n",
      "Fetching data from http://montreal.icea.decea.mil.br:5002/api/v1/cat-62?token=a779d04f85c4bf6cfa586d30aaec57c44e9b7173&idate=2022-06-23 00:00:00.001&fdate=2022-06-24 00:00:00.001\n",
      "Fetching data from http://montreal.icea.decea.mil.br:5002/api/v1/cat-62?token=a779d04f85c4bf6cfa586d30aaec57c44e9b7173&idate=2022-06-24 00:00:00.001&fdate=2022-06-25 00:00:00.001\n",
      "Fetching data from http://montreal.icea.decea.mil.br:5002/api/v1/cat-62?token=a779d04f85c4bf6cfa586d30aaec57c44e9b7173&idate=2022-06-25 00:00:00.001&fdate=2022-06-26 00:00:00.001\n",
      "Fetching data from http://montreal.icea.decea.mil.br:5002/api/v1/cat-62?token=a779d04f85c4bf6cfa586d30aaec57c44e9b7173&idate=2022-06-26 00:00:00.001&fdate=2022-06-27 00:00:00.001\n",
      "Fetching data from http://montreal.icea.decea.mil.br:5002/api/v1/cat-62?token=a779d04f85c4bf6cfa586d30aaec57c44e9b7173&idate=2022-06-27 00:00:00.001&fdate=2022-06-28 00:00:00.001\n",
      "Fetching data from http://montreal.icea.decea.mil.br:5002/api/v1/cat-62?token=a779d04f85c4bf6cfa586d30aaec57c44e9b7173&idate=2022-06-28 00:00:00.001&fdate=2022-06-29 00:00:00.001\n",
      "Fetching data from http://montreal.icea.decea.mil.br:5002/api/v1/cat-62?token=a779d04f85c4bf6cfa586d30aaec57c44e9b7173&idate=2022-06-29 00:00:00.001&fdate=2022-06-30 00:00:00.001\n",
      "Fetching data from http://montreal.icea.decea.mil.br:5002/api/v1/cat-62?token=a779d04f85c4bf6cfa586d30aaec57c44e9b7173&idate=2022-06-30 00:00:00.001&fdate=2022-07-01 00:00:00.001\n",
      "Fetching data from http://montreal.icea.decea.mil.br:5002/api/v1/cat-62?token=a779d04f85c4bf6cfa586d30aaec57c44e9b7173&idate=2022-07-01 00:00:00.001&fdate=2022-07-02 00:00:00.001\n",
      "Fetching data from http://montreal.icea.decea.mil.br:5002/api/v1/cat-62?token=a779d04f85c4bf6cfa586d30aaec57c44e9b7173&idate=2022-07-02 00:00:00.001&fdate=2022-07-03 00:00:00.001\n"
     ]
    },
    {
     "name": "stderr",
     "output_type": "stream",
     "text": [
      "Carregando dados de cat-62, Parte 1:  48%|████▊     | 51/106 [00:00<00:00, 186.34it/s]"
     ]
    },
    {
     "name": "stdout",
     "output_type": "stream",
     "text": [
      "Fetching data from http://montreal.icea.decea.mil.br:5002/api/v1/cat-62?token=a779d04f85c4bf6cfa586d30aaec57c44e9b7173&idate=2022-07-03 00:00:00.001&fdate=2022-07-04 00:00:00.001\n",
      "Fetching data from http://montreal.icea.decea.mil.br:5002/api/v1/cat-62?token=a779d04f85c4bf6cfa586d30aaec57c44e9b7173&idate=2022-07-04 00:00:00.001&fdate=2022-07-05 00:00:00.001\n",
      "Fetching data from http://montreal.icea.decea.mil.br:5002/api/v1/cat-62?token=a779d04f85c4bf6cfa586d30aaec57c44e9b7173&idate=2022-07-05 00:00:00.001&fdate=2022-07-06 00:00:00.001\n",
      "Fetching data from http://montreal.icea.decea.mil.br:5002/api/v1/cat-62?token=a779d04f85c4bf6cfa586d30aaec57c44e9b7173&idate=2022-07-06 00:00:00.001&fdate=2022-07-07 00:00:00.001\n",
      "Fetching data from http://montreal.icea.decea.mil.br:5002/api/v1/cat-62?token=a779d04f85c4bf6cfa586d30aaec57c44e9b7173&idate=2022-07-07 00:00:00.001&fdate=2022-07-08 00:00:00.001\n",
      "Fetching data from http://montreal.icea.decea.mil.br:5002/api/v1/cat-62?token=a779d04f85c4bf6cfa586d30aaec57c44e9b7173&idate=2022-07-08 00:00:00.001&fdate=2022-07-09 00:00:00.001\n",
      "Fetching data from http://montreal.icea.decea.mil.br:5002/api/v1/cat-62?token=a779d04f85c4bf6cfa586d30aaec57c44e9b7173&idate=2022-07-09 00:00:00.001&fdate=2022-07-10 00:00:00.001\n",
      "Fetching data from http://montreal.icea.decea.mil.br:5002/api/v1/cat-62?token=a779d04f85c4bf6cfa586d30aaec57c44e9b7173&idate=2022-07-10 00:00:00.001&fdate=2022-07-11 00:00:00.001\n",
      "Fetching data from http://montreal.icea.decea.mil.br:5002/api/v1/cat-62?token=a779d04f85c4bf6cfa586d30aaec57c44e9b7173&idate=2022-07-11 00:00:00.001&fdate=2022-07-12 00:00:00.001\n",
      "Fetching data from http://montreal.icea.decea.mil.br:5002/api/v1/cat-62?token=a779d04f85c4bf6cfa586d30aaec57c44e9b7173&idate=2022-07-12 00:00:00.001&fdate=2022-07-13 00:00:00.001\n",
      "Fetching data from http://montreal.icea.decea.mil.br:5002/api/v1/cat-62?token=a779d04f85c4bf6cfa586d30aaec57c44e9b7173&idate=2022-07-13 00:00:00.001&fdate=2022-07-14 00:00:00.001\n",
      "Fetching data from http://montreal.icea.decea.mil.br:5002/api/v1/cat-62?token=a779d04f85c4bf6cfa586d30aaec57c44e9b7173&idate=2022-07-14 00:00:00.001&fdate=2022-07-15 00:00:00.001\n",
      "Fetching data from http://montreal.icea.decea.mil.br:5002/api/v1/cat-62?token=a779d04f85c4bf6cfa586d30aaec57c44e9b7173&idate=2022-07-15 00:00:00.001&fdate=2022-07-16 00:00:00.001\n"
     ]
    },
    {
     "name": "stderr",
     "output_type": "stream",
     "text": [
      "Carregando dados de cat-62, Parte 1:  72%|███████▏  | 76/106 [00:00<00:00, 202.80it/s]"
     ]
    },
    {
     "name": "stdout",
     "output_type": "stream",
     "text": [
      "Fetching data from http://montreal.icea.decea.mil.br:5002/api/v1/cat-62?token=a779d04f85c4bf6cfa586d30aaec57c44e9b7173&idate=2022-07-16 00:00:00.001&fdate=2022-07-17 00:00:00.001\n",
      "Fetching data from http://montreal.icea.decea.mil.br:5002/api/v1/cat-62?token=a779d04f85c4bf6cfa586d30aaec57c44e9b7173&idate=2022-07-17 00:00:00.001&fdate=2022-07-18 00:00:00.001\n",
      "Fetching data from http://montreal.icea.decea.mil.br:5002/api/v1/cat-62?token=a779d04f85c4bf6cfa586d30aaec57c44e9b7173&idate=2022-07-18 00:00:00.001&fdate=2022-07-19 00:00:00.001\n",
      "Fetching data from http://montreal.icea.decea.mil.br:5002/api/v1/cat-62?token=a779d04f85c4bf6cfa586d30aaec57c44e9b7173&idate=2022-07-19 00:00:00.001&fdate=2022-07-20 00:00:00.001\n",
      "Fetching data from http://montreal.icea.decea.mil.br:5002/api/v1/cat-62?token=a779d04f85c4bf6cfa586d30aaec57c44e9b7173&idate=2022-07-20 00:00:00.001&fdate=2022-07-21 00:00:00.001\n",
      "Fetching data from http://montreal.icea.decea.mil.br:5002/api/v1/cat-62?token=a779d04f85c4bf6cfa586d30aaec57c44e9b7173&idate=2022-07-21 00:00:00.001&fdate=2022-07-22 00:00:00.001\n",
      "Fetching data from http://montreal.icea.decea.mil.br:5002/api/v1/cat-62?token=a779d04f85c4bf6cfa586d30aaec57c44e9b7173&idate=2022-07-22 00:00:00.001&fdate=2022-07-23 00:00:00.001\n",
      "Fetching data from http://montreal.icea.decea.mil.br:5002/api/v1/cat-62?token=a779d04f85c4bf6cfa586d30aaec57c44e9b7173&idate=2022-07-23 00:00:00.001&fdate=2022-07-24 00:00:00.001\n",
      "Fetching data from http://montreal.icea.decea.mil.br:5002/api/v1/cat-62?token=a779d04f85c4bf6cfa586d30aaec57c44e9b7173&idate=2022-07-24 00:00:00.001&fdate=2022-07-25 00:00:00.001\n",
      "Fetching data from http://montreal.icea.decea.mil.br:5002/api/v1/cat-62?token=a779d04f85c4bf6cfa586d30aaec57c44e9b7173&idate=2022-07-25 00:00:00.001&fdate=2022-07-26 00:00:00.001\n",
      "Fetching data from http://montreal.icea.decea.mil.br:5002/api/v1/cat-62?token=a779d04f85c4bf6cfa586d30aaec57c44e9b7173&idate=2022-07-26 00:00:00.001&fdate=2022-07-27 00:00:00.001\n",
      "Fetching data from http://montreal.icea.decea.mil.br:5002/api/v1/cat-62?token=a779d04f85c4bf6cfa586d30aaec57c44e9b7173&idate=2022-07-27 00:00:00.001&fdate=2022-07-28 00:00:00.001\n",
      "Fetching data from http://montreal.icea.decea.mil.br:5002/api/v1/cat-62?token=a779d04f85c4bf6cfa586d30aaec57c44e9b7173&idate=2022-07-28 00:00:00.001&fdate=2022-07-29 00:00:00.001\n",
      "Fetching data from http://montreal.icea.decea.mil.br:5002/api/v1/cat-62?token=a779d04f85c4bf6cfa586d30aaec57c44e9b7173&idate=2022-07-29 00:00:00.001&fdate=2022-07-30 00:00:00.001\n",
      "Fetching data from http://montreal.icea.decea.mil.br:5002/api/v1/cat-62?token=a779d04f85c4bf6cfa586d30aaec57c44e9b7173&idate=2022-07-30 00:00:00.001&fdate=2022-07-31 00:00:00.001\n",
      "Fetching data from http://montreal.icea.decea.mil.br:5002/api/v1/cat-62?token=a779d04f85c4bf6cfa586d30aaec57c44e9b7173&idate=2022-07-31 00:00:00.001&fdate=2022-08-01 00:00:00.001\n",
      "Fetching data from http://montreal.icea.decea.mil.br:5002/api/v1/cat-62?token=a779d04f85c4bf6cfa586d30aaec57c44e9b7173&idate=2022-08-01 00:00:00.001&fdate=2022-08-02 00:00:00.001\n",
      "Fetching data from http://montreal.icea.decea.mil.br:5002/api/v1/cat-62?token=a779d04f85c4bf6cfa586d30aaec57c44e9b7173&idate=2022-08-02 00:00:00.001&fdate=2022-08-03 00:00:00.001\n",
      "Fetching data from http://montreal.icea.decea.mil.br:5002/api/v1/cat-62?token=a779d04f85c4bf6cfa586d30aaec57c44e9b7173&idate=2022-08-03 00:00:00.001&fdate=2022-08-04 00:00:00.001\n",
      "Fetching data from http://montreal.icea.decea.mil.br:5002/api/v1/cat-62?token=a779d04f85c4bf6cfa586d30aaec57c44e9b7173&idate=2022-08-04 00:00:00.001&fdate=2022-08-05 00:00:00.001\n",
      "Fetching data from http://montreal.icea.decea.mil.br:5002/api/v1/cat-62?token=a779d04f85c4bf6cfa586d30aaec57c44e9b7173&idate=2022-08-05 00:00:00.001&fdate=2022-08-06 00:00:00.001\n",
      "Fetching data from http://montreal.icea.decea.mil.br:5002/api/v1/cat-62?token=a779d04f85c4bf6cfa586d30aaec57c44e9b7173&idate=2022-08-06 00:00:00.001&fdate=2022-08-07 00:00:00.001\n",
      "Fetching data from http://montreal.icea.decea.mil.br:5002/api/v1/cat-62?token=a779d04f85c4bf6cfa586d30aaec57c44e9b7173&idate=2022-08-07 00:00:00.001&fdate=2022-08-08 00:00:00.001\n",
      "Fetching data from http://montreal.icea.decea.mil.br:5002/api/v1/cat-62?token=a779d04f85c4bf6cfa586d30aaec57c44e9b7173&idate=2022-08-08 00:00:00.001&fdate=2022-08-09 00:00:00.001\n",
      "Fetching data from http://montreal.icea.decea.mil.br:5002/api/v1/cat-62?token=a779d04f85c4bf6cfa586d30aaec57c44e9b7173&idate=2022-08-09 00:00:00.001&fdate=2022-08-10 00:00:00.001\n",
      "Fetching data from http://montreal.icea.decea.mil.br:5002/api/v1/cat-62?token=a779d04f85c4bf6cfa586d30aaec57c44e9b7173&idate=2022-08-10 00:00:00.001&fdate=2022-08-11 00:00:00.001\n",
      "Fetching data from http://montreal.icea.decea.mil.br:5002/api/v1/cat-62?token=a779d04f85c4bf6cfa586d30aaec57c44e9b7173&idate=2022-08-11 00:00:00.001&fdate=2022-08-12 00:00:00.001\n",
      "Fetching data from http://montreal.icea.decea.mil.br:5002/api/v1/cat-62?token=a779d04f85c4bf6cfa586d30aaec57c44e9b7173&idate=2022-08-12 00:00:00.001&fdate=2022-08-13 00:00:00.001\n",
      "Fetching data from http://montreal.icea.decea.mil.br:5002/api/v1/cat-62?token=a779d04f85c4bf6cfa586d30aaec57c44e9b7173&idate=2022-08-13 00:00:00.001&fdate=2022-08-14 00:00:00.001\n",
      "Fetching data from http://montreal.icea.decea.mil.br:5002/api/v1/cat-62?token=a779d04f85c4bf6cfa586d30aaec57c44e9b7173&idate=2022-08-14 00:00:00.001&fdate=2022-08-15 00:00:00.001\n"
     ]
    },
    {
     "name": "stderr",
     "output_type": "stream",
     "text": [
      "Carregando dados de cat-62, Parte 1: 100%|██████████| 106/106 [00:00<00:00, 189.38it/s]\n"
     ]
    },
    {
     "name": "stdout",
     "output_type": "stream",
     "text": [
      "Dados de cat-62 salvos em cat-62_part_1.csv\n",
      "Processando parte 2/4\n",
      "Fetching data from http://montreal.icea.decea.mil.br:5002/api/v1/cat-62?token=a779d04f85c4bf6cfa586d30aaec57c44e9b7173&idate=2022-08-15 00:00:00.001&fdate=2022-08-16 00:00:00.001\n",
      "Fetching data from http://montreal.icea.decea.mil.br:5002/api/v1/cat-62?token=a779d04f85c4bf6cfa586d30aaec57c44e9b7173&idate=2022-08-16 00:00:00.001&fdate=2022-08-17 00:00:00.001\n",
      "Fetching data from http://montreal.icea.decea.mil.br:5002/api/v1/cat-62?token=a779d04f85c4bf6cfa586d30aaec57c44e9b7173&idate=2022-08-17 00:00:00.001&fdate=2022-08-18 00:00:00.001\n",
      "Fetching data from http://montreal.icea.decea.mil.br:5002/api/v1/cat-62?token=a779d04f85c4bf6cfa586d30aaec57c44e9b7173&idate=2022-08-18 00:00:00.001&fdate=2022-08-19 00:00:00.001\n",
      "Fetching data from http://montreal.icea.decea.mil.br:5002/api/v1/cat-62?token=a779d04f85c4bf6cfa586d30aaec57c44e9b7173&idate=2022-08-19 00:00:00.001&fdate=2022-08-20 00:00:00.001\n",
      "Fetching data from http://montreal.icea.decea.mil.br:5002/api/v1/cat-62?token=a779d04f85c4bf6cfa586d30aaec57c44e9b7173&idate=2022-08-20 00:00:00.001&fdate=2022-08-21 00:00:00.001\n",
      "Fetching data from http://montreal.icea.decea.mil.br:5002/api/v1/cat-62?token=a779d04f85c4bf6cfa586d30aaec57c44e9b7173&idate=2022-08-21 00:00:00.001&fdate=2022-08-22 00:00:00.001\n",
      "Fetching data from http://montreal.icea.decea.mil.br:5002/api/v1/cat-62?token=a779d04f85c4bf6cfa586d30aaec57c44e9b7173&idate=2022-08-22 00:00:00.001&fdate=2022-08-23 00:00:00.001\n",
      "Fetching data from http://montreal.icea.decea.mil.br:5002/api/v1/cat-62?token=a779d04f85c4bf6cfa586d30aaec57c44e9b7173&idate=2022-08-23 00:00:00.001&fdate=2022-08-24 00:00:00.001\n",
      "Fetching data from http://montreal.icea.decea.mil.br:5002/api/v1/cat-62?token=a779d04f85c4bf6cfa586d30aaec57c44e9b7173&idate=2022-08-24 00:00:00.001&fdate=2022-08-25 00:00:00.001\n"
     ]
    },
    {
     "name": "stderr",
     "output_type": "stream",
     "text": [
      "Carregando dados de cat-62, Parte 2:  21%|██        | 22/106 [00:00<00:00, 193.22it/s]"
     ]
    },
    {
     "name": "stdout",
     "output_type": "stream",
     "text": [
      "Fetching data from http://montreal.icea.decea.mil.br:5002/api/v1/cat-62?token=a779d04f85c4bf6cfa586d30aaec57c44e9b7173&idate=2022-08-25 00:00:00.001&fdate=2022-08-26 00:00:00.001\n",
      "Fetching data from http://montreal.icea.decea.mil.br:5002/api/v1/cat-62?token=a779d04f85c4bf6cfa586d30aaec57c44e9b7173&idate=2022-08-26 00:00:00.001&fdate=2022-08-27 00:00:00.001\n",
      "Fetching data from http://montreal.icea.decea.mil.br:5002/api/v1/cat-62?token=a779d04f85c4bf6cfa586d30aaec57c44e9b7173&idate=2022-08-27 00:00:00.001&fdate=2022-08-28 00:00:00.001\n",
      "Fetching data from http://montreal.icea.decea.mil.br:5002/api/v1/cat-62?token=a779d04f85c4bf6cfa586d30aaec57c44e9b7173&idate=2022-08-28 00:00:00.001&fdate=2022-08-29 00:00:00.001\n",
      "Fetching data from http://montreal.icea.decea.mil.br:5002/api/v1/cat-62?token=a779d04f85c4bf6cfa586d30aaec57c44e9b7173&idate=2022-08-29 00:00:00.001&fdate=2022-08-30 00:00:00.001\n",
      "Fetching data from http://montreal.icea.decea.mil.br:5002/api/v1/cat-62?token=a779d04f85c4bf6cfa586d30aaec57c44e9b7173&idate=2022-08-30 00:00:00.001&fdate=2022-08-31 00:00:00.001\n",
      "Fetching data from http://montreal.icea.decea.mil.br:5002/api/v1/cat-62?token=a779d04f85c4bf6cfa586d30aaec57c44e9b7173&idate=2022-08-31 00:00:00.001&fdate=2022-09-01 00:00:00.001\n",
      "Fetching data from http://montreal.icea.decea.mil.br:5002/api/v1/cat-62?token=a779d04f85c4bf6cfa586d30aaec57c44e9b7173&idate=2022-09-01 00:00:00.001&fdate=2022-09-02 00:00:00.001\n",
      "Fetching data from http://montreal.icea.decea.mil.br:5002/api/v1/cat-62?token=a779d04f85c4bf6cfa586d30aaec57c44e9b7173&idate=2022-09-02 00:00:00.001&fdate=2022-09-03 00:00:00.001\n",
      "Fetching data from http://montreal.icea.decea.mil.br:5002/api/v1/cat-62?token=a779d04f85c4bf6cfa586d30aaec57c44e9b7173&idate=2022-09-03 00:00:00.001&fdate=2022-09-04 00:00:00.001\n",
      "Fetching data from http://montreal.icea.decea.mil.br:5002/api/v1/cat-62?token=a779d04f85c4bf6cfa586d30aaec57c44e9b7173&idate=2022-09-04 00:00:00.001&fdate=2022-09-05 00:00:00.001\n",
      "Fetching data from http://montreal.icea.decea.mil.br:5002/api/v1/cat-62?token=a779d04f85c4bf6cfa586d30aaec57c44e9b7173&idate=2022-09-05 00:00:00.001&fdate=2022-09-06 00:00:00.001\n",
      "Fetching data from http://montreal.icea.decea.mil.br:5002/api/v1/cat-62?token=a779d04f85c4bf6cfa586d30aaec57c44e9b7173&idate=2022-09-06 00:00:00.001&fdate=2022-09-07 00:00:00.001\n",
      "Fetching data from http://montreal.icea.decea.mil.br:5002/api/v1/cat-62?token=a779d04f85c4bf6cfa586d30aaec57c44e9b7173&idate=2022-09-07 00:00:00.001&fdate=2022-09-08 00:00:00.001\n",
      "Fetching data from http://montreal.icea.decea.mil.br:5002/api/v1/cat-62?token=a779d04f85c4bf6cfa586d30aaec57c44e9b7173&idate=2022-09-08 00:00:00.001&fdate=2022-09-09 00:00:00.001\n",
      "Fetching data from http://montreal.icea.decea.mil.br:5002/api/v1/cat-62?token=a779d04f85c4bf6cfa586d30aaec57c44e9b7173&idate=2022-09-09 00:00:00.001&fdate=2022-09-10 00:00:00.001\n",
      "Fetching data from http://montreal.icea.decea.mil.br:5002/api/v1/cat-62?token=a779d04f85c4bf6cfa586d30aaec57c44e9b7173&idate=2022-09-10 00:00:00.001&fdate=2022-09-11 00:00:00.001\n",
      "Fetching data from http://montreal.icea.decea.mil.br:5002/api/v1/cat-62?token=a779d04f85c4bf6cfa586d30aaec57c44e9b7173&idate=2022-09-11 00:00:00.001&fdate=2022-09-12 00:00:00.001\n",
      "Fetching data from http://montreal.icea.decea.mil.br:5002/api/v1/cat-62?token=a779d04f85c4bf6cfa586d30aaec57c44e9b7173&idate=2022-09-12 00:00:00.001&fdate=2022-09-13 00:00:00.001\n",
      "Fetching data from http://montreal.icea.decea.mil.br:5002/api/v1/cat-62?token=a779d04f85c4bf6cfa586d30aaec57c44e9b7173&idate=2022-09-13 00:00:00.001&fdate=2022-09-14 00:00:00.001\n",
      "Fetching data from http://montreal.icea.decea.mil.br:5002/api/v1/cat-62?token=a779d04f85c4bf6cfa586d30aaec57c44e9b7173&idate=2022-09-14 00:00:00.001&fdate=2022-09-15 00:00:00.001\n",
      "Fetching data from http://montreal.icea.decea.mil.br:5002/api/v1/cat-62?token=a779d04f85c4bf6cfa586d30aaec57c44e9b7173&idate=2022-09-15 00:00:00.001&fdate=2022-09-16 00:00:00.001\n",
      "Fetching data from http://montreal.icea.decea.mil.br:5002/api/v1/cat-62?token=a779d04f85c4bf6cfa586d30aaec57c44e9b7173&idate=2022-09-16 00:00:00.001&fdate=2022-09-17 00:00:00.001\n",
      "Fetching data from http://montreal.icea.decea.mil.br:5002/api/v1/cat-62?token=a779d04f85c4bf6cfa586d30aaec57c44e9b7173&idate=2022-09-17 00:00:00.001&fdate=2022-09-18 00:00:00.001\n",
      "Fetching data from http://montreal.icea.decea.mil.br:5002/api/v1/cat-62?token=a779d04f85c4bf6cfa586d30aaec57c44e9b7173&idate=2022-09-18 00:00:00.001&fdate=2022-09-19 00:00:00.001\n",
      "Fetching data from http://montreal.icea.decea.mil.br:5002/api/v1/cat-62?token=a779d04f85c4bf6cfa586d30aaec57c44e9b7173&idate=2022-09-19 00:00:00.001&fdate=2022-09-20 00:00:00.001\n",
      "Fetching data from http://montreal.icea.decea.mil.br:5002/api/v1/cat-62?token=a779d04f85c4bf6cfa586d30aaec57c44e9b7173&idate=2022-09-20 00:00:00.001&fdate=2022-09-21 00:00:00.001\n",
      "Fetching data from http://montreal.icea.decea.mil.br:5002/api/v1/cat-62?token=a779d04f85c4bf6cfa586d30aaec57c44e9b7173&idate=2022-09-21 00:00:00.001&fdate=2022-09-22 00:00:00.001\n",
      "Fetching data from http://montreal.icea.decea.mil.br:5002/api/v1/cat-62?token=a779d04f85c4bf6cfa586d30aaec57c44e9b7173&idate=2022-09-22 00:00:00.001&fdate=2022-09-23 00:00:00.001\n",
      "Fetching data from http://montreal.icea.decea.mil.br:5002/api/v1/cat-62?token=a779d04f85c4bf6cfa586d30aaec57c44e9b7173&idate=2022-09-23 00:00:00.001&fdate=2022-09-24 00:00:00.001\n",
      "Fetching data from http://montreal.icea.decea.mil.br:5002/api/v1/cat-62?token=a779d04f85c4bf6cfa586d30aaec57c44e9b7173&idate=2022-09-24 00:00:00.001&fdate=2022-09-25 00:00:00.001\n",
      "Fetching data from http://montreal.icea.decea.mil.br:5002/api/v1/cat-62?token=a779d04f85c4bf6cfa586d30aaec57c44e9b7173&idate=2022-09-25 00:00:00.001&fdate=2022-09-26 00:00:00.001\n",
      "Fetching data from http://montreal.icea.decea.mil.br:5002/api/v1/cat-62?token=a779d04f85c4bf6cfa586d30aaec57c44e9b7173&idate=2022-09-26 00:00:00.001&fdate=2022-09-27 00:00:00.001\n",
      "Fetching data from http://montreal.icea.decea.mil.br:5002/api/v1/cat-62?token=a779d04f85c4bf6cfa586d30aaec57c44e9b7173&idate=2022-09-27 00:00:00.001&fdate=2022-09-28 00:00:00.001\n",
      "Fetching data from http://montreal.icea.decea.mil.br:5002/api/v1/cat-62?token=a779d04f85c4bf6cfa586d30aaec57c44e9b7173&idate=2022-09-28 00:00:00.001&fdate=2022-09-29 00:00:00.001\n",
      "Fetching data from http://montreal.icea.decea.mil.br:5002/api/v1/cat-62?token=a779d04f85c4bf6cfa586d30aaec57c44e9b7173&idate=2022-09-29 00:00:00.001&fdate=2022-09-30 00:00:00.001\n",
      "Fetching data from http://montreal.icea.decea.mil.br:5002/api/v1/cat-62?token=a779d04f85c4bf6cfa586d30aaec57c44e9b7173&idate=2022-09-30 00:00:00.001&fdate=2022-10-01 00:00:00.001\n",
      "Fetching data from http://montreal.icea.decea.mil.br:5002/api/v1/cat-62?token=a779d04f85c4bf6cfa586d30aaec57c44e9b7173&idate=2022-10-01 00:00:00.001&fdate=2022-10-02 00:00:00.001\n",
      "Fetching data from http://montreal.icea.decea.mil.br:5002/api/v1/cat-62?token=a779d04f85c4bf6cfa586d30aaec57c44e9b7173&idate=2022-10-02 00:00:00.001&fdate=2022-10-03 00:00:00.001\n",
      "Fetching data from http://montreal.icea.decea.mil.br:5002/api/v1/cat-62?token=a779d04f85c4bf6cfa586d30aaec57c44e9b7173&idate=2022-10-03 00:00:00.001&fdate=2022-10-04 00:00:00.001\n",
      "Fetching data from http://montreal.icea.decea.mil.br:5002/api/v1/cat-62?token=a779d04f85c4bf6cfa586d30aaec57c44e9b7173&idate=2022-10-04 00:00:00.001&fdate=2022-10-05 00:00:00.001\n",
      "Fetching data from http://montreal.icea.decea.mil.br:5002/api/v1/cat-62?token=a779d04f85c4bf6cfa586d30aaec57c44e9b7173&idate=2022-10-05 00:00:00.001&fdate=2022-10-06 00:00:00.001\n",
      "Fetching data from http://montreal.icea.decea.mil.br:5002/api/v1/cat-62?token=a779d04f85c4bf6cfa586d30aaec57c44e9b7173&idate=2022-10-06 00:00:00.001&fdate=2022-10-07 00:00:00.001\n",
      "Fetching data from http://montreal.icea.decea.mil.br:5002/api/v1/cat-62?token=a779d04f85c4bf6cfa586d30aaec57c44e9b7173&idate=2022-10-07 00:00:00.001&fdate=2022-10-08 00:00:00.001\n",
      "Fetching data from http://montreal.icea.decea.mil.br:5002/api/v1/cat-62?token=a779d04f85c4bf6cfa586d30aaec57c44e9b7173&idate=2022-10-08 00:00:00.001&fdate=2022-10-09 00:00:00.001\n",
      "Fetching data from http://montreal.icea.decea.mil.br:5002/api/v1/cat-62?token=a779d04f85c4bf6cfa586d30aaec57c44e9b7173&idate=2022-10-09 00:00:00.001&fdate=2022-10-10 00:00:00.001\n"
     ]
    },
    {
     "name": "stderr",
     "output_type": "stream",
     "text": [
      "Carregando dados de cat-62, Parte 2:  73%|███████▎  | 77/106 [00:00<00:00, 226.27it/s]"
     ]
    },
    {
     "name": "stdout",
     "output_type": "stream",
     "text": [
      "Fetching data from http://montreal.icea.decea.mil.br:5002/api/v1/cat-62?token=a779d04f85c4bf6cfa586d30aaec57c44e9b7173&idate=2022-10-10 00:00:00.001&fdate=2022-10-11 00:00:00.001\n",
      "Fetching data from http://montreal.icea.decea.mil.br:5002/api/v1/cat-62?token=a779d04f85c4bf6cfa586d30aaec57c44e9b7173&idate=2022-10-11 00:00:00.001&fdate=2022-10-12 00:00:00.001\n",
      "Fetching data from http://montreal.icea.decea.mil.br:5002/api/v1/cat-62?token=a779d04f85c4bf6cfa586d30aaec57c44e9b7173&idate=2022-10-12 00:00:00.001&fdate=2022-10-13 00:00:00.001\n",
      "Fetching data from http://montreal.icea.decea.mil.br:5002/api/v1/cat-62?token=a779d04f85c4bf6cfa586d30aaec57c44e9b7173&idate=2022-10-13 00:00:00.001&fdate=2022-10-14 00:00:00.001\n",
      "Fetching data from http://montreal.icea.decea.mil.br:5002/api/v1/cat-62?token=a779d04f85c4bf6cfa586d30aaec57c44e9b7173&idate=2022-10-14 00:00:00.001&fdate=2022-10-15 00:00:00.001\n",
      "Fetching data from http://montreal.icea.decea.mil.br:5002/api/v1/cat-62?token=a779d04f85c4bf6cfa586d30aaec57c44e9b7173&idate=2022-10-15 00:00:00.001&fdate=2022-10-16 00:00:00.001\n",
      "Fetching data from http://montreal.icea.decea.mil.br:5002/api/v1/cat-62?token=a779d04f85c4bf6cfa586d30aaec57c44e9b7173&idate=2022-10-16 00:00:00.001&fdate=2022-10-17 00:00:00.001\n",
      "Fetching data from http://montreal.icea.decea.mil.br:5002/api/v1/cat-62?token=a779d04f85c4bf6cfa586d30aaec57c44e9b7173&idate=2022-10-17 00:00:00.001&fdate=2022-10-18 00:00:00.001\n",
      "Fetching data from http://montreal.icea.decea.mil.br:5002/api/v1/cat-62?token=a779d04f85c4bf6cfa586d30aaec57c44e9b7173&idate=2022-10-18 00:00:00.001&fdate=2022-10-19 00:00:00.001\n",
      "Fetching data from http://montreal.icea.decea.mil.br:5002/api/v1/cat-62?token=a779d04f85c4bf6cfa586d30aaec57c44e9b7173&idate=2022-10-19 00:00:00.001&fdate=2022-10-20 00:00:00.001\n",
      "Fetching data from http://montreal.icea.decea.mil.br:5002/api/v1/cat-62?token=a779d04f85c4bf6cfa586d30aaec57c44e9b7173&idate=2022-10-20 00:00:00.001&fdate=2022-10-21 00:00:00.001\n",
      "Fetching data from http://montreal.icea.decea.mil.br:5002/api/v1/cat-62?token=a779d04f85c4bf6cfa586d30aaec57c44e9b7173&idate=2022-10-21 00:00:00.001&fdate=2022-10-22 00:00:00.001\n",
      "Fetching data from http://montreal.icea.decea.mil.br:5002/api/v1/cat-62?token=a779d04f85c4bf6cfa586d30aaec57c44e9b7173&idate=2022-10-22 00:00:00.001&fdate=2022-10-23 00:00:00.001\n",
      "Fetching data from http://montreal.icea.decea.mil.br:5002/api/v1/cat-62?token=a779d04f85c4bf6cfa586d30aaec57c44e9b7173&idate=2022-10-23 00:00:00.001&fdate=2022-10-24 00:00:00.001\n",
      "Fetching data from http://montreal.icea.decea.mil.br:5002/api/v1/cat-62?token=a779d04f85c4bf6cfa586d30aaec57c44e9b7173&idate=2022-10-24 00:00:00.001&fdate=2022-10-25 00:00:00.001\n",
      "Fetching data from http://montreal.icea.decea.mil.br:5002/api/v1/cat-62?token=a779d04f85c4bf6cfa586d30aaec57c44e9b7173&idate=2022-10-25 00:00:00.001&fdate=2022-10-26 00:00:00.001\n",
      "Fetching data from http://montreal.icea.decea.mil.br:5002/api/v1/cat-62?token=a779d04f85c4bf6cfa586d30aaec57c44e9b7173&idate=2022-10-26 00:00:00.001&fdate=2022-10-27 00:00:00.001\n",
      "Fetching data from http://montreal.icea.decea.mil.br:5002/api/v1/cat-62?token=a779d04f85c4bf6cfa586d30aaec57c44e9b7173&idate=2022-10-27 00:00:00.001&fdate=2022-10-28 00:00:00.001\n",
      "Fetching data from http://montreal.icea.decea.mil.br:5002/api/v1/cat-62?token=a779d04f85c4bf6cfa586d30aaec57c44e9b7173&idate=2022-10-28 00:00:00.001&fdate=2022-10-29 00:00:00.001\n",
      "Fetching data from http://montreal.icea.decea.mil.br:5002/api/v1/cat-62?token=a779d04f85c4bf6cfa586d30aaec57c44e9b7173&idate=2022-10-29 00:00:00.001&fdate=2022-10-30 00:00:00.001\n",
      "Fetching data from http://montreal.icea.decea.mil.br:5002/api/v1/cat-62?token=a779d04f85c4bf6cfa586d30aaec57c44e9b7173&idate=2022-10-30 00:00:00.001&fdate=2022-10-31 00:00:00.001\n",
      "Fetching data from http://montreal.icea.decea.mil.br:5002/api/v1/cat-62?token=a779d04f85c4bf6cfa586d30aaec57c44e9b7173&idate=2022-10-31 00:00:00.001&fdate=2022-11-01 00:00:00.001\n",
      "Fetching data from http://montreal.icea.decea.mil.br:5002/api/v1/cat-62?token=a779d04f85c4bf6cfa586d30aaec57c44e9b7173&idate=2022-11-01 00:00:00.001&fdate=2022-11-02 00:00:00.001\n",
      "Fetching data from http://montreal.icea.decea.mil.br:5002/api/v1/cat-62?token=a779d04f85c4bf6cfa586d30aaec57c44e9b7173&idate=2022-11-02 00:00:00.001&fdate=2022-11-03 00:00:00.001\n",
      "Fetching data from http://montreal.icea.decea.mil.br:5002/api/v1/cat-62?token=a779d04f85c4bf6cfa586d30aaec57c44e9b7173&idate=2022-11-03 00:00:00.001&fdate=2022-11-04 00:00:00.001\n",
      "Fetching data from http://montreal.icea.decea.mil.br:5002/api/v1/cat-62?token=a779d04f85c4bf6cfa586d30aaec57c44e9b7173&idate=2022-11-04 00:00:00.001&fdate=2022-11-05 00:00:00.001\n",
      "Fetching data from http://montreal.icea.decea.mil.br:5002/api/v1/cat-62?token=a779d04f85c4bf6cfa586d30aaec57c44e9b7173&idate=2022-11-05 00:00:00.001&fdate=2022-11-06 00:00:00.001\n",
      "Fetching data from http://montreal.icea.decea.mil.br:5002/api/v1/cat-62?token=a779d04f85c4bf6cfa586d30aaec57c44e9b7173&idate=2022-11-06 00:00:00.001&fdate=2022-11-07 00:00:00.001\n",
      "Fetching data from http://montreal.icea.decea.mil.br:5002/api/v1/cat-62?token=a779d04f85c4bf6cfa586d30aaec57c44e9b7173&idate=2022-11-07 00:00:00.001&fdate=2022-11-08 00:00:00.001\n",
      "Fetching data from http://montreal.icea.decea.mil.br:5002/api/v1/cat-62?token=a779d04f85c4bf6cfa586d30aaec57c44e9b7173&idate=2022-11-08 00:00:00.001&fdate=2022-11-09 00:00:00.001\n",
      "Fetching data from http://montreal.icea.decea.mil.br:5002/api/v1/cat-62?token=a779d04f85c4bf6cfa586d30aaec57c44e9b7173&idate=2022-11-09 00:00:00.001&fdate=2022-11-10 00:00:00.001\n",
      "Fetching data from http://montreal.icea.decea.mil.br:5002/api/v1/cat-62?token=a779d04f85c4bf6cfa586d30aaec57c44e9b7173&idate=2022-11-10 00:00:00.001&fdate=2022-11-11 00:00:00.001\n",
      "Fetching data from http://montreal.icea.decea.mil.br:5002/api/v1/cat-62?token=a779d04f85c4bf6cfa586d30aaec57c44e9b7173&idate=2022-11-11 00:00:00.001&fdate=2022-11-12 00:00:00.001\n",
      "Fetching data from http://montreal.icea.decea.mil.br:5002/api/v1/cat-62?token=a779d04f85c4bf6cfa586d30aaec57c44e9b7173&idate=2022-11-12 00:00:00.001&fdate=2022-11-13 00:00:00.001\n",
      "Fetching data from http://montreal.icea.decea.mil.br:5002/api/v1/cat-62?token=a779d04f85c4bf6cfa586d30aaec57c44e9b7173&idate=2022-11-13 00:00:00.001&fdate=2022-11-14 00:00:00.001\n",
      "Fetching data from http://montreal.icea.decea.mil.br:5002/api/v1/cat-62?token=a779d04f85c4bf6cfa586d30aaec57c44e9b7173&idate=2022-11-14 00:00:00.001&fdate=2022-11-15 00:00:00.001\n",
      "Fetching data from http://montreal.icea.decea.mil.br:5002/api/v1/cat-62?token=a779d04f85c4bf6cfa586d30aaec57c44e9b7173&idate=2022-11-15 00:00:00.001&fdate=2022-11-16 00:00:00.001\n",
      "Fetching data from http://montreal.icea.decea.mil.br:5002/api/v1/cat-62?token=a779d04f85c4bf6cfa586d30aaec57c44e9b7173&idate=2022-11-16 00:00:00.001&fdate=2022-11-17 00:00:00.001\n",
      "Fetching data from http://montreal.icea.decea.mil.br:5002/api/v1/cat-62?token=a779d04f85c4bf6cfa586d30aaec57c44e9b7173&idate=2022-11-17 00:00:00.001&fdate=2022-11-18 00:00:00.001\n",
      "Fetching data from http://montreal.icea.decea.mil.br:5002/api/v1/cat-62?token=a779d04f85c4bf6cfa586d30aaec57c44e9b7173&idate=2022-11-18 00:00:00.001&fdate=2022-11-19 00:00:00.001\n",
      "Fetching data from http://montreal.icea.decea.mil.br:5002/api/v1/cat-62?token=a779d04f85c4bf6cfa586d30aaec57c44e9b7173&idate=2022-11-19 00:00:00.001&fdate=2022-11-20 00:00:00.001\n",
      "Fetching data from http://montreal.icea.decea.mil.br:5002/api/v1/cat-62?token=a779d04f85c4bf6cfa586d30aaec57c44e9b7173&idate=2022-11-20 00:00:00.001&fdate=2022-11-21 00:00:00.001\n",
      "Fetching data from http://montreal.icea.decea.mil.br:5002/api/v1/cat-62?token=a779d04f85c4bf6cfa586d30aaec57c44e9b7173&idate=2022-11-21 00:00:00.001&fdate=2022-11-22 00:00:00.001\n",
      "Fetching data from http://montreal.icea.decea.mil.br:5002/api/v1/cat-62?token=a779d04f85c4bf6cfa586d30aaec57c44e9b7173&idate=2022-11-22 00:00:00.001&fdate=2022-11-23 00:00:00.001\n",
      "Fetching data from http://montreal.icea.decea.mil.br:5002/api/v1/cat-62?token=a779d04f85c4bf6cfa586d30aaec57c44e9b7173&idate=2022-11-23 00:00:00.001&fdate=2022-11-24 00:00:00.001\n",
      "Fetching data from http://montreal.icea.decea.mil.br:5002/api/v1/cat-62?token=a779d04f85c4bf6cfa586d30aaec57c44e9b7173&idate=2022-11-24 00:00:00.001&fdate=2022-11-25 00:00:00.001\n",
      "Fetching data from http://montreal.icea.decea.mil.br:5002/api/v1/cat-62?token=a779d04f85c4bf6cfa586d30aaec57c44e9b7173&idate=2022-11-25 00:00:00.001&fdate=2022-11-26 00:00:00.001\n",
      "Fetching data from http://montreal.icea.decea.mil.br:5002/api/v1/cat-62?token=a779d04f85c4bf6cfa586d30aaec57c44e9b7173&idate=2022-11-26 00:00:00.001&fdate=2022-11-27 00:00:00.001\n",
      "Fetching data from http://montreal.icea.decea.mil.br:5002/api/v1/cat-62?token=a779d04f85c4bf6cfa586d30aaec57c44e9b7173&idate=2022-11-27 00:00:00.001&fdate=2022-11-28 00:00:00.001\n",
      "Fetching data from http://montreal.icea.decea.mil.br:5002/api/v1/cat-62?token=a779d04f85c4bf6cfa586d30aaec57c44e9b7173&idate=2022-11-28 00:00:00.001&fdate=2022-11-29 00:00:00.001\n"
     ]
    },
    {
     "name": "stderr",
     "output_type": "stream",
     "text": [
      "Carregando dados de cat-62, Parte 2: 100%|██████████| 106/106 [00:00<00:00, 223.11it/s]\n"
     ]
    },
    {
     "name": "stdout",
     "output_type": "stream",
     "text": [
      "Dados de cat-62 salvos em cat-62_part_2.csv\n",
      "Processando parte 3/4\n",
      "Fetching data from http://montreal.icea.decea.mil.br:5002/api/v1/cat-62?token=a779d04f85c4bf6cfa586d30aaec57c44e9b7173&idate=2022-11-29 00:00:00.001&fdate=2022-11-30 00:00:00.001\n",
      "Fetching data from http://montreal.icea.decea.mil.br:5002/api/v1/cat-62?token=a779d04f85c4bf6cfa586d30aaec57c44e9b7173&idate=2022-11-30 00:00:00.001&fdate=2022-12-01 00:00:00.001\n",
      "Fetching data from http://montreal.icea.decea.mil.br:5002/api/v1/cat-62?token=a779d04f85c4bf6cfa586d30aaec57c44e9b7173&idate=2022-12-01 00:00:00.001&fdate=2022-12-02 00:00:00.001\n",
      "Fetching data from http://montreal.icea.decea.mil.br:5002/api/v1/cat-62?token=a779d04f85c4bf6cfa586d30aaec57c44e9b7173&idate=2022-12-02 00:00:00.001&fdate=2022-12-03 00:00:00.001\n",
      "Fetching data from http://montreal.icea.decea.mil.br:5002/api/v1/cat-62?token=a779d04f85c4bf6cfa586d30aaec57c44e9b7173&idate=2022-12-03 00:00:00.001&fdate=2022-12-04 00:00:00.001\n",
      "Fetching data from http://montreal.icea.decea.mil.br:5002/api/v1/cat-62?token=a779d04f85c4bf6cfa586d30aaec57c44e9b7173&idate=2022-12-04 00:00:00.001&fdate=2022-12-05 00:00:00.001\n",
      "Fetching data from http://montreal.icea.decea.mil.br:5002/api/v1/cat-62?token=a779d04f85c4bf6cfa586d30aaec57c44e9b7173&idate=2022-12-05 00:00:00.001&fdate=2022-12-06 00:00:00.001\n",
      "Fetching data from http://montreal.icea.decea.mil.br:5002/api/v1/cat-62?token=a779d04f85c4bf6cfa586d30aaec57c44e9b7173&idate=2022-12-06 00:00:00.001&fdate=2022-12-07 00:00:00.001\n",
      "Fetching data from http://montreal.icea.decea.mil.br:5002/api/v1/cat-62?token=a779d04f85c4bf6cfa586d30aaec57c44e9b7173&idate=2022-12-07 00:00:00.001&fdate=2022-12-08 00:00:00.001\n",
      "Fetching data from http://montreal.icea.decea.mil.br:5002/api/v1/cat-62?token=a779d04f85c4bf6cfa586d30aaec57c44e9b7173&idate=2022-12-08 00:00:00.001&fdate=2022-12-09 00:00:00.001\n"
     ]
    },
    {
     "name": "stderr",
     "output_type": "stream",
     "text": [
      "Carregando dados de cat-62, Parte 3:   0%|          | 0/106 [00:00<?, ?it/s]"
     ]
    },
    {
     "name": "stdout",
     "output_type": "stream",
     "text": [
      "Fetching data from http://montreal.icea.decea.mil.br:5002/api/v1/cat-62?token=a779d04f85c4bf6cfa586d30aaec57c44e9b7173&idate=2022-12-09 00:00:00.001&fdate=2022-12-10 00:00:00.001\n",
      "Fetching data from http://montreal.icea.decea.mil.br:5002/api/v1/cat-62?token=a779d04f85c4bf6cfa586d30aaec57c44e9b7173&idate=2022-12-10 00:00:00.001&fdate=2022-12-11 00:00:00.001\n",
      "Fetching data from http://montreal.icea.decea.mil.br:5002/api/v1/cat-62?token=a779d04f85c4bf6cfa586d30aaec57c44e9b7173&idate=2022-12-11 00:00:00.001&fdate=2022-12-12 00:00:00.001\n",
      "Fetching data from http://montreal.icea.decea.mil.br:5002/api/v1/cat-62?token=a779d04f85c4bf6cfa586d30aaec57c44e9b7173&idate=2022-12-12 00:00:00.001&fdate=2022-12-13 00:00:00.001\n",
      "Fetching data from http://montreal.icea.decea.mil.br:5002/api/v1/cat-62?token=a779d04f85c4bf6cfa586d30aaec57c44e9b7173&idate=2022-12-13 00:00:00.001&fdate=2022-12-14 00:00:00.001\n",
      "Fetching data from http://montreal.icea.decea.mil.br:5002/api/v1/cat-62?token=a779d04f85c4bf6cfa586d30aaec57c44e9b7173&idate=2022-12-14 00:00:00.001&fdate=2022-12-15 00:00:00.001\n",
      "Fetching data from http://montreal.icea.decea.mil.br:5002/api/v1/cat-62?token=a779d04f85c4bf6cfa586d30aaec57c44e9b7173&idate=2022-12-15 00:00:00.001&fdate=2022-12-16 00:00:00.001\n",
      "Fetching data from http://montreal.icea.decea.mil.br:5002/api/v1/cat-62?token=a779d04f85c4bf6cfa586d30aaec57c44e9b7173&idate=2022-12-16 00:00:00.001&fdate=2022-12-17 00:00:00.001\n",
      "Fetching data from http://montreal.icea.decea.mil.br:5002/api/v1/cat-62?token=a779d04f85c4bf6cfa586d30aaec57c44e9b7173&idate=2022-12-17 00:00:00.001&fdate=2022-12-18 00:00:00.001\n",
      "Fetching data from http://montreal.icea.decea.mil.br:5002/api/v1/cat-62?token=a779d04f85c4bf6cfa586d30aaec57c44e9b7173&idate=2022-12-18 00:00:00.001&fdate=2022-12-19 00:00:00.001\n",
      "Fetching data from http://montreal.icea.decea.mil.br:5002/api/v1/cat-62?token=a779d04f85c4bf6cfa586d30aaec57c44e9b7173&idate=2022-12-19 00:00:00.001&fdate=2022-12-20 00:00:00.001\n",
      "Fetching data from http://montreal.icea.decea.mil.br:5002/api/v1/cat-62?token=a779d04f85c4bf6cfa586d30aaec57c44e9b7173&idate=2022-12-20 00:00:00.001&fdate=2022-12-21 00:00:00.001\n",
      "Fetching data from http://montreal.icea.decea.mil.br:5002/api/v1/cat-62?token=a779d04f85c4bf6cfa586d30aaec57c44e9b7173&idate=2022-12-21 00:00:00.001&fdate=2022-12-22 00:00:00.001\n",
      "Fetching data from http://montreal.icea.decea.mil.br:5002/api/v1/cat-62?token=a779d04f85c4bf6cfa586d30aaec57c44e9b7173&idate=2022-12-22 00:00:00.001&fdate=2022-12-23 00:00:00.001\n"
     ]
    },
    {
     "name": "stderr",
     "output_type": "stream",
     "text": [
      "Carregando dados de cat-62, Parte 3:  13%|█▎        | 14/106 [00:00<00:00, 123.78it/s]"
     ]
    },
    {
     "name": "stdout",
     "output_type": "stream",
     "text": [
      "Fetching data from http://montreal.icea.decea.mil.br:5002/api/v1/cat-62?token=a779d04f85c4bf6cfa586d30aaec57c44e9b7173&idate=2022-12-23 00:00:00.001&fdate=2022-12-24 00:00:00.001\n",
      "Fetching data from http://montreal.icea.decea.mil.br:5002/api/v1/cat-62?token=a779d04f85c4bf6cfa586d30aaec57c44e9b7173&idate=2022-12-24 00:00:00.001&fdate=2022-12-25 00:00:00.001\n",
      "Fetching data from http://montreal.icea.decea.mil.br:5002/api/v1/cat-62?token=a779d04f85c4bf6cfa586d30aaec57c44e9b7173&idate=2022-12-25 00:00:00.001&fdate=2022-12-26 00:00:00.001\n",
      "Fetching data from http://montreal.icea.decea.mil.br:5002/api/v1/cat-62?token=a779d04f85c4bf6cfa586d30aaec57c44e9b7173&idate=2022-12-26 00:00:00.001&fdate=2022-12-27 00:00:00.001\n",
      "Fetching data from http://montreal.icea.decea.mil.br:5002/api/v1/cat-62?token=a779d04f85c4bf6cfa586d30aaec57c44e9b7173&idate=2022-12-27 00:00:00.001&fdate=2022-12-28 00:00:00.001\n",
      "Fetching data from http://montreal.icea.decea.mil.br:5002/api/v1/cat-62?token=a779d04f85c4bf6cfa586d30aaec57c44e9b7173&idate=2022-12-28 00:00:00.001&fdate=2022-12-29 00:00:00.001\n",
      "Fetching data from http://montreal.icea.decea.mil.br:5002/api/v1/cat-62?token=a779d04f85c4bf6cfa586d30aaec57c44e9b7173&idate=2022-12-29 00:00:00.001&fdate=2022-12-30 00:00:00.001\n",
      "Fetching data from http://montreal.icea.decea.mil.br:5002/api/v1/cat-62?token=a779d04f85c4bf6cfa586d30aaec57c44e9b7173&idate=2022-12-30 00:00:00.001&fdate=2022-12-31 00:00:00.001\n",
      "Fetching data from http://montreal.icea.decea.mil.br:5002/api/v1/cat-62?token=a779d04f85c4bf6cfa586d30aaec57c44e9b7173&idate=2022-12-31 00:00:00.001&fdate=2023-01-01 00:00:00.001\n",
      "Fetching data from http://montreal.icea.decea.mil.br:5002/api/v1/cat-62?token=a779d04f85c4bf6cfa586d30aaec57c44e9b7173&idate=2023-01-01 00:00:00.001&fdate=2023-01-02 00:00:00.001\n",
      "Fetching data from http://montreal.icea.decea.mil.br:5002/api/v1/cat-62?token=a779d04f85c4bf6cfa586d30aaec57c44e9b7173&idate=2023-01-02 00:00:00.001&fdate=2023-01-03 00:00:00.001\n",
      "Fetching data from http://montreal.icea.decea.mil.br:5002/api/v1/cat-62?token=a779d04f85c4bf6cfa586d30aaec57c44e9b7173&idate=2023-01-03 00:00:00.001&fdate=2023-01-04 00:00:00.001\n",
      "Fetching data from http://montreal.icea.decea.mil.br:5002/api/v1/cat-62?token=a779d04f85c4bf6cfa586d30aaec57c44e9b7173&idate=2023-01-04 00:00:00.001&fdate=2023-01-05 00:00:00.001\n",
      "Fetching data from http://montreal.icea.decea.mil.br:5002/api/v1/cat-62?token=a779d04f85c4bf6cfa586d30aaec57c44e9b7173&idate=2023-01-05 00:00:00.001&fdate=2023-01-06 00:00:00.001\n",
      "Fetching data from http://montreal.icea.decea.mil.br:5002/api/v1/cat-62?token=a779d04f85c4bf6cfa586d30aaec57c44e9b7173&idate=2023-01-06 00:00:00.001&fdate=2023-01-07 00:00:00.001\n",
      "Fetching data from http://montreal.icea.decea.mil.br:5002/api/v1/cat-62?token=a779d04f85c4bf6cfa586d30aaec57c44e9b7173&idate=2023-01-07 00:00:00.001&fdate=2023-01-08 00:00:00.001\n",
      "Fetching data from http://montreal.icea.decea.mil.br:5002/api/v1/cat-62?token=a779d04f85c4bf6cfa586d30aaec57c44e9b7173&idate=2023-01-08 00:00:00.001&fdate=2023-01-09 00:00:00.001\n",
      "Fetching data from http://montreal.icea.decea.mil.br:5002/api/v1/cat-62?token=a779d04f85c4bf6cfa586d30aaec57c44e9b7173&idate=2023-01-09 00:00:00.001&fdate=2023-01-10 00:00:00.001\n",
      "Fetching data from http://montreal.icea.decea.mil.br:5002/api/v1/cat-62?token=a779d04f85c4bf6cfa586d30aaec57c44e9b7173&idate=2023-01-10 00:00:00.001&fdate=2023-01-11 00:00:00.001\n",
      "Fetching data from http://montreal.icea.decea.mil.br:5002/api/v1/cat-62?token=a779d04f85c4bf6cfa586d30aaec57c44e9b7173&idate=2023-01-11 00:00:00.001&fdate=2023-01-12 00:00:00.001\n",
      "Fetching data from http://montreal.icea.decea.mil.br:5002/api/v1/cat-62?token=a779d04f85c4bf6cfa586d30aaec57c44e9b7173&idate=2023-01-12 00:00:00.001&fdate=2023-01-13 00:00:00.001\n",
      "Fetching data from http://montreal.icea.decea.mil.br:5002/api/v1/cat-62?token=a779d04f85c4bf6cfa586d30aaec57c44e9b7173&idate=2023-01-13 00:00:00.001&fdate=2023-01-14 00:00:00.001\n",
      "Fetching data from http://montreal.icea.decea.mil.br:5002/api/v1/cat-62?token=a779d04f85c4bf6cfa586d30aaec57c44e9b7173&idate=2023-01-14 00:00:00.001&fdate=2023-01-15 00:00:00.001\n"
     ]
    },
    {
     "name": "stderr",
     "output_type": "stream",
     "text": [
      "Carregando dados de cat-62, Parte 3:  36%|███▌      | 38/106 [00:00<00:00, 177.37it/s]"
     ]
    },
    {
     "name": "stdout",
     "output_type": "stream",
     "text": [
      "Fetching data from http://montreal.icea.decea.mil.br:5002/api/v1/cat-62?token=a779d04f85c4bf6cfa586d30aaec57c44e9b7173&idate=2023-01-15 00:00:00.001&fdate=2023-01-16 00:00:00.001\n",
      "Fetching data from http://montreal.icea.decea.mil.br:5002/api/v1/cat-62?token=a779d04f85c4bf6cfa586d30aaec57c44e9b7173&idate=2023-01-16 00:00:00.001&fdate=2023-01-17 00:00:00.001\n",
      "Fetching data from http://montreal.icea.decea.mil.br:5002/api/v1/cat-62?token=a779d04f85c4bf6cfa586d30aaec57c44e9b7173&idate=2023-01-17 00:00:00.001&fdate=2023-01-18 00:00:00.001\n",
      "Fetching data from http://montreal.icea.decea.mil.br:5002/api/v1/cat-62?token=a779d04f85c4bf6cfa586d30aaec57c44e9b7173&idate=2023-01-18 00:00:00.001&fdate=2023-01-19 00:00:00.001\n",
      "Fetching data from http://montreal.icea.decea.mil.br:5002/api/v1/cat-62?token=a779d04f85c4bf6cfa586d30aaec57c44e9b7173&idate=2023-01-19 00:00:00.001&fdate=2023-01-20 00:00:00.001\n",
      "Fetching data from http://montreal.icea.decea.mil.br:5002/api/v1/cat-62?token=a779d04f85c4bf6cfa586d30aaec57c44e9b7173&idate=2023-01-20 00:00:00.001&fdate=2023-01-21 00:00:00.001\n",
      "Fetching data from http://montreal.icea.decea.mil.br:5002/api/v1/cat-62?token=a779d04f85c4bf6cfa586d30aaec57c44e9b7173&idate=2023-01-21 00:00:00.001&fdate=2023-01-22 00:00:00.001\n",
      "Fetching data from http://montreal.icea.decea.mil.br:5002/api/v1/cat-62?token=a779d04f85c4bf6cfa586d30aaec57c44e9b7173&idate=2023-01-22 00:00:00.001&fdate=2023-01-23 00:00:00.001\n",
      "Fetching data from http://montreal.icea.decea.mil.br:5002/api/v1/cat-62?token=a779d04f85c4bf6cfa586d30aaec57c44e9b7173&idate=2023-01-23 00:00:00.001&fdate=2023-01-24 00:00:00.001\n",
      "Fetching data from http://montreal.icea.decea.mil.br:5002/api/v1/cat-62?token=a779d04f85c4bf6cfa586d30aaec57c44e9b7173&idate=2023-01-24 00:00:00.001&fdate=2023-01-25 00:00:00.001\n",
      "Fetching data from http://montreal.icea.decea.mil.br:5002/api/v1/cat-62?token=a779d04f85c4bf6cfa586d30aaec57c44e9b7173&idate=2023-01-25 00:00:00.001&fdate=2023-01-26 00:00:00.001\n",
      "Fetching data from http://montreal.icea.decea.mil.br:5002/api/v1/cat-62?token=a779d04f85c4bf6cfa586d30aaec57c44e9b7173&idate=2023-01-26 00:00:00.001&fdate=2023-01-27 00:00:00.001\n",
      "Fetching data from http://montreal.icea.decea.mil.br:5002/api/v1/cat-62?token=a779d04f85c4bf6cfa586d30aaec57c44e9b7173&idate=2023-01-27 00:00:00.001&fdate=2023-01-28 00:00:00.001\n",
      "Fetching data from http://montreal.icea.decea.mil.br:5002/api/v1/cat-62?token=a779d04f85c4bf6cfa586d30aaec57c44e9b7173&idate=2023-01-28 00:00:00.001&fdate=2023-01-29 00:00:00.001\n",
      "Fetching data from http://montreal.icea.decea.mil.br:5002/api/v1/cat-62?token=a779d04f85c4bf6cfa586d30aaec57c44e9b7173&idate=2023-01-29 00:00:00.001&fdate=2023-01-30 00:00:00.001\n",
      "Fetching data from http://montreal.icea.decea.mil.br:5002/api/v1/cat-62?token=a779d04f85c4bf6cfa586d30aaec57c44e9b7173&idate=2023-01-30 00:00:00.001&fdate=2023-01-31 00:00:00.001\n",
      "Fetching data from http://montreal.icea.decea.mil.br:5002/api/v1/cat-62?token=a779d04f85c4bf6cfa586d30aaec57c44e9b7173&idate=2023-01-31 00:00:00.001&fdate=2023-02-01 00:00:00.001\n",
      "Fetching data from http://montreal.icea.decea.mil.br:5002/api/v1/cat-62?token=a779d04f85c4bf6cfa586d30aaec57c44e9b7173&idate=2023-02-01 00:00:00.001&fdate=2023-02-02 00:00:00.001\n",
      "Fetching data from http://montreal.icea.decea.mil.br:5002/api/v1/cat-62?token=a779d04f85c4bf6cfa586d30aaec57c44e9b7173&idate=2023-02-02 00:00:00.001&fdate=2023-02-03 00:00:00.001\n",
      "Fetching data from http://montreal.icea.decea.mil.br:5002/api/v1/cat-62?token=a779d04f85c4bf6cfa586d30aaec57c44e9b7173&idate=2023-02-03 00:00:00.001&fdate=2023-02-04 00:00:00.001\n",
      "Fetching data from http://montreal.icea.decea.mil.br:5002/api/v1/cat-62?token=a779d04f85c4bf6cfa586d30aaec57c44e9b7173&idate=2023-02-04 00:00:00.001&fdate=2023-02-05 00:00:00.001\n",
      "Fetching data from http://montreal.icea.decea.mil.br:5002/api/v1/cat-62?token=a779d04f85c4bf6cfa586d30aaec57c44e9b7173&idate=2023-02-05 00:00:00.001&fdate=2023-02-06 00:00:00.001\n",
      "Fetching data from http://montreal.icea.decea.mil.br:5002/api/v1/cat-62?token=a779d04f85c4bf6cfa586d30aaec57c44e9b7173&idate=2023-02-06 00:00:00.001&fdate=2023-02-07 00:00:00.001\n"
     ]
    },
    {
     "name": "stderr",
     "output_type": "stream",
     "text": [
      "Carregando dados de cat-62, Parte 3:  58%|█████▊    | 61/106 [00:00<00:00, 194.40it/s]"
     ]
    },
    {
     "name": "stdout",
     "output_type": "stream",
     "text": [
      "Fetching data from http://montreal.icea.decea.mil.br:5002/api/v1/cat-62?token=a779d04f85c4bf6cfa586d30aaec57c44e9b7173&idate=2023-02-07 00:00:00.001&fdate=2023-02-08 00:00:00.001\n",
      "Fetching data from http://montreal.icea.decea.mil.br:5002/api/v1/cat-62?token=a779d04f85c4bf6cfa586d30aaec57c44e9b7173&idate=2023-02-08 00:00:00.001&fdate=2023-02-09 00:00:00.001\n",
      "Fetching data from http://montreal.icea.decea.mil.br:5002/api/v1/cat-62?token=a779d04f85c4bf6cfa586d30aaec57c44e9b7173&idate=2023-02-09 00:00:00.001&fdate=2023-02-10 00:00:00.001\n",
      "Fetching data from http://montreal.icea.decea.mil.br:5002/api/v1/cat-62?token=a779d04f85c4bf6cfa586d30aaec57c44e9b7173&idate=2023-02-10 00:00:00.001&fdate=2023-02-11 00:00:00.001\n",
      "Fetching data from http://montreal.icea.decea.mil.br:5002/api/v1/cat-62?token=a779d04f85c4bf6cfa586d30aaec57c44e9b7173&idate=2023-02-11 00:00:00.001&fdate=2023-02-12 00:00:00.001\n",
      "Fetching data from http://montreal.icea.decea.mil.br:5002/api/v1/cat-62?token=a779d04f85c4bf6cfa586d30aaec57c44e9b7173&idate=2023-02-12 00:00:00.001&fdate=2023-02-13 00:00:00.001\n",
      "Fetching data from http://montreal.icea.decea.mil.br:5002/api/v1/cat-62?token=a779d04f85c4bf6cfa586d30aaec57c44e9b7173&idate=2023-02-13 00:00:00.001&fdate=2023-02-14 00:00:00.001\n",
      "Fetching data from http://montreal.icea.decea.mil.br:5002/api/v1/cat-62?token=a779d04f85c4bf6cfa586d30aaec57c44e9b7173&idate=2023-02-14 00:00:00.001&fdate=2023-02-15 00:00:00.001\n",
      "Fetching data from http://montreal.icea.decea.mil.br:5002/api/v1/cat-62?token=a779d04f85c4bf6cfa586d30aaec57c44e9b7173&idate=2023-02-15 00:00:00.001&fdate=2023-02-16 00:00:00.001\n",
      "Fetching data from http://montreal.icea.decea.mil.br:5002/api/v1/cat-62?token=a779d04f85c4bf6cfa586d30aaec57c44e9b7173&idate=2023-02-16 00:00:00.001&fdate=2023-02-17 00:00:00.001\n",
      "Fetching data from http://montreal.icea.decea.mil.br:5002/api/v1/cat-62?token=a779d04f85c4bf6cfa586d30aaec57c44e9b7173&idate=2023-02-17 00:00:00.001&fdate=2023-02-18 00:00:00.001\n",
      "Fetching data from http://montreal.icea.decea.mil.br:5002/api/v1/cat-62?token=a779d04f85c4bf6cfa586d30aaec57c44e9b7173&idate=2023-02-18 00:00:00.001&fdate=2023-02-19 00:00:00.001\n",
      "Fetching data from http://montreal.icea.decea.mil.br:5002/api/v1/cat-62?token=a779d04f85c4bf6cfa586d30aaec57c44e9b7173&idate=2023-02-19 00:00:00.001&fdate=2023-02-20 00:00:00.001\n",
      "Fetching data from http://montreal.icea.decea.mil.br:5002/api/v1/cat-62?token=a779d04f85c4bf6cfa586d30aaec57c44e9b7173&idate=2023-02-20 00:00:00.001&fdate=2023-02-21 00:00:00.001\n",
      "Fetching data from http://montreal.icea.decea.mil.br:5002/api/v1/cat-62?token=a779d04f85c4bf6cfa586d30aaec57c44e9b7173&idate=2023-02-21 00:00:00.001&fdate=2023-02-22 00:00:00.001\n",
      "Fetching data from http://montreal.icea.decea.mil.br:5002/api/v1/cat-62?token=a779d04f85c4bf6cfa586d30aaec57c44e9b7173&idate=2023-02-22 00:00:00.001&fdate=2023-02-23 00:00:00.001\n",
      "Fetching data from http://montreal.icea.decea.mil.br:5002/api/v1/cat-62?token=a779d04f85c4bf6cfa586d30aaec57c44e9b7173&idate=2023-02-23 00:00:00.001&fdate=2023-02-24 00:00:00.001\n",
      "Fetching data from http://montreal.icea.decea.mil.br:5002/api/v1/cat-62?token=a779d04f85c4bf6cfa586d30aaec57c44e9b7173&idate=2023-02-24 00:00:00.001&fdate=2023-02-25 00:00:00.001\n",
      "Fetching data from http://montreal.icea.decea.mil.br:5002/api/v1/cat-62?token=a779d04f85c4bf6cfa586d30aaec57c44e9b7173&idate=2023-02-25 00:00:00.001&fdate=2023-02-26 00:00:00.001\n",
      "Fetching data from http://montreal.icea.decea.mil.br:5002/api/v1/cat-62?token=a779d04f85c4bf6cfa586d30aaec57c44e9b7173&idate=2023-02-26 00:00:00.001&fdate=2023-02-27 00:00:00.001\n",
      "Fetching data from http://montreal.icea.decea.mil.br:5002/api/v1/cat-62?token=a779d04f85c4bf6cfa586d30aaec57c44e9b7173&idate=2023-02-27 00:00:00.001&fdate=2023-02-28 00:00:00.001\n",
      "Fetching data from http://montreal.icea.decea.mil.br:5002/api/v1/cat-62?token=a779d04f85c4bf6cfa586d30aaec57c44e9b7173&idate=2023-02-28 00:00:00.001&fdate=2023-03-01 00:00:00.001\n",
      "Fetching data from http://montreal.icea.decea.mil.br:5002/api/v1/cat-62?token=a779d04f85c4bf6cfa586d30aaec57c44e9b7173&idate=2023-03-01 00:00:00.001&fdate=2023-03-02 00:00:00.001\n",
      "Fetching data from http://montreal.icea.decea.mil.br:5002/api/v1/cat-62?token=a779d04f85c4bf6cfa586d30aaec57c44e9b7173&idate=2023-03-02 00:00:00.001&fdate=2023-03-03 00:00:00.001\n"
     ]
    },
    {
     "name": "stderr",
     "output_type": "stream",
     "text": [
      "Carregando dados de cat-62, Parte 3: 100%|██████████| 106/106 [00:00<00:00, 206.26it/s]"
     ]
    },
    {
     "name": "stdout",
     "output_type": "stream",
     "text": [
      "Fetching data from http://montreal.icea.decea.mil.br:5002/api/v1/cat-62?token=a779d04f85c4bf6cfa586d30aaec57c44e9b7173&idate=2023-03-03 00:00:00.001&fdate=2023-03-04 00:00:00.001\n",
      "Fetching data from http://montreal.icea.decea.mil.br:5002/api/v1/cat-62?token=a779d04f85c4bf6cfa586d30aaec57c44e9b7173&idate=2023-03-04 00:00:00.001&fdate=2023-03-05 00:00:00.001\n",
      "Fetching data from http://montreal.icea.decea.mil.br:5002/api/v1/cat-62?token=a779d04f85c4bf6cfa586d30aaec57c44e9b7173&idate=2023-03-05 00:00:00.001&fdate=2023-03-06 00:00:00.001\n",
      "Fetching data from http://montreal.icea.decea.mil.br:5002/api/v1/cat-62?token=a779d04f85c4bf6cfa586d30aaec57c44e9b7173&idate=2023-03-06 00:00:00.001&fdate=2023-03-07 00:00:00.001\n",
      "Fetching data from http://montreal.icea.decea.mil.br:5002/api/v1/cat-62?token=a779d04f85c4bf6cfa586d30aaec57c44e9b7173&idate=2023-03-07 00:00:00.001&fdate=2023-03-08 00:00:00.001\n",
      "Fetching data from http://montreal.icea.decea.mil.br:5002/api/v1/cat-62?token=a779d04f85c4bf6cfa586d30aaec57c44e9b7173&idate=2023-03-08 00:00:00.001&fdate=2023-03-09 00:00:00.001\n",
      "Fetching data from http://montreal.icea.decea.mil.br:5002/api/v1/cat-62?token=a779d04f85c4bf6cfa586d30aaec57c44e9b7173&idate=2023-03-09 00:00:00.001&fdate=2023-03-10 00:00:00.001\n",
      "Fetching data from http://montreal.icea.decea.mil.br:5002/api/v1/cat-62?token=a779d04f85c4bf6cfa586d30aaec57c44e9b7173&idate=2023-03-10 00:00:00.001&fdate=2023-03-11 00:00:00.001\n",
      "Fetching data from http://montreal.icea.decea.mil.br:5002/api/v1/cat-62?token=a779d04f85c4bf6cfa586d30aaec57c44e9b7173&idate=2023-03-11 00:00:00.001&fdate=2023-03-12 00:00:00.001\n",
      "Fetching data from http://montreal.icea.decea.mil.br:5002/api/v1/cat-62?token=a779d04f85c4bf6cfa586d30aaec57c44e9b7173&idate=2023-03-12 00:00:00.001&fdate=2023-03-13 00:00:00.001\n",
      "Fetching data from http://montreal.icea.decea.mil.br:5002/api/v1/cat-62?token=a779d04f85c4bf6cfa586d30aaec57c44e9b7173&idate=2023-03-13 00:00:00.001&fdate=2023-03-14 00:00:00.001\n",
      "Fetching data from http://montreal.icea.decea.mil.br:5002/api/v1/cat-62?token=a779d04f85c4bf6cfa586d30aaec57c44e9b7173&idate=2023-03-14 00:00:00.001&fdate=2023-03-15 00:00:00.001\n",
      "Dados de cat-62 salvos em cat-62_part_3.csv\n",
      "Processando parte 4/4\n",
      "Fetching data from http://montreal.icea.decea.mil.br:5002/api/v1/cat-62?token=a779d04f85c4bf6cfa586d30aaec57c44e9b7173&idate=2023-03-15 00:00:00.001&fdate=2023-03-16 00:00:00.001\n",
      "Fetching data from http://montreal.icea.decea.mil.br:5002/api/v1/cat-62?token=a779d04f85c4bf6cfa586d30aaec57c44e9b7173&idate=2023-03-16 00:00:00.001&fdate=2023-03-17 00:00:00.001\n",
      "Fetching data from http://montreal.icea.decea.mil.br:5002/api/v1/cat-62?token=a779d04f85c4bf6cfa586d30aaec57c44e9b7173&idate=2023-03-17 00:00:00.001&fdate=2023-03-18 00:00:00.001\n",
      "Fetching data from http://montreal.icea.decea.mil.br:5002/api/v1/cat-62?token=a779d04f85c4bf6cfa586d30aaec57c44e9b7173&idate=2023-03-18 00:00:00.001&fdate=2023-03-19 00:00:00.001\n",
      "Fetching data from http://montreal.icea.decea.mil.br:5002/api/v1/cat-62?token=a779d04f85c4bf6cfa586d30aaec57c44e9b7173&idate=2023-03-19 00:00:00.001&fdate=2023-03-20 00:00:00.001\n",
      "Fetching data from http://montreal.icea.decea.mil.br:5002/api/v1/cat-62?token=a779d04f85c4bf6cfa586d30aaec57c44e9b7173&idate=2023-03-20 00:00:00.001&fdate=2023-03-21 00:00:00.001\n"
     ]
    },
    {
     "name": "stderr",
     "output_type": "stream",
     "text": [
      "\n"
     ]
    },
    {
     "name": "stdout",
     "output_type": "stream",
     "text": [
      "Fetching data from http://montreal.icea.decea.mil.br:5002/api/v1/cat-62?token=a779d04f85c4bf6cfa586d30aaec57c44e9b7173&idate=2023-03-21 00:00:00.001&fdate=2023-03-22 00:00:00.001\n",
      "Fetching data from http://montreal.icea.decea.mil.br:5002/api/v1/cat-62?token=a779d04f85c4bf6cfa586d30aaec57c44e9b7173&idate=2023-03-22 00:00:00.001&fdate=2023-03-23 00:00:00.001\n",
      "Fetching data from http://montreal.icea.decea.mil.br:5002/api/v1/cat-62?token=a779d04f85c4bf6cfa586d30aaec57c44e9b7173&idate=2023-03-23 00:00:00.001&fdate=2023-03-24 00:00:00.001\n",
      "Fetching data from http://montreal.icea.decea.mil.br:5002/api/v1/cat-62?token=a779d04f85c4bf6cfa586d30aaec57c44e9b7173&idate=2023-03-24 00:00:00.001&fdate=2023-03-25 00:00:00.001\n"
     ]
    },
    {
     "name": "stderr",
     "output_type": "stream",
     "text": [
      "Carregando dados de cat-62, Parte 4:   0%|          | 0/109 [00:00<?, ?it/s]"
     ]
    },
    {
     "name": "stdout",
     "output_type": "stream",
     "text": [
      "Fetching data from http://montreal.icea.decea.mil.br:5002/api/v1/cat-62?token=a779d04f85c4bf6cfa586d30aaec57c44e9b7173&idate=2023-03-25 00:00:00.001&fdate=2023-03-26 00:00:00.001\n",
      "Fetching data from http://montreal.icea.decea.mil.br:5002/api/v1/cat-62?token=a779d04f85c4bf6cfa586d30aaec57c44e9b7173&idate=2023-03-26 00:00:00.001&fdate=2023-03-27 00:00:00.001\n",
      "Fetching data from http://montreal.icea.decea.mil.br:5002/api/v1/cat-62?token=a779d04f85c4bf6cfa586d30aaec57c44e9b7173&idate=2023-03-27 00:00:00.001&fdate=2023-03-28 00:00:00.001\n",
      "Fetching data from http://montreal.icea.decea.mil.br:5002/api/v1/cat-62?token=a779d04f85c4bf6cfa586d30aaec57c44e9b7173&idate=2023-03-28 00:00:00.001&fdate=2023-03-29 00:00:00.001\n",
      "Fetching data from http://montreal.icea.decea.mil.br:5002/api/v1/cat-62?token=a779d04f85c4bf6cfa586d30aaec57c44e9b7173&idate=2023-03-29 00:00:00.001&fdate=2023-03-30 00:00:00.001\n",
      "Fetching data from http://montreal.icea.decea.mil.br:5002/api/v1/cat-62?token=a779d04f85c4bf6cfa586d30aaec57c44e9b7173&idate=2023-03-30 00:00:00.001&fdate=2023-03-31 00:00:00.001\n",
      "Fetching data from http://montreal.icea.decea.mil.br:5002/api/v1/cat-62?token=a779d04f85c4bf6cfa586d30aaec57c44e9b7173&idate=2023-03-31 00:00:00.001&fdate=2023-04-01 00:00:00.001\n",
      "Fetching data from http://montreal.icea.decea.mil.br:5002/api/v1/cat-62?token=a779d04f85c4bf6cfa586d30aaec57c44e9b7173&idate=2023-04-01 00:00:00.001&fdate=2023-04-02 00:00:00.001\n",
      "Fetching data from http://montreal.icea.decea.mil.br:5002/api/v1/cat-62?token=a779d04f85c4bf6cfa586d30aaec57c44e9b7173&idate=2023-04-02 00:00:00.001&fdate=2023-04-03 00:00:00.001\n",
      "Fetching data from http://montreal.icea.decea.mil.br:5002/api/v1/cat-62?token=a779d04f85c4bf6cfa586d30aaec57c44e9b7173&idate=2023-04-03 00:00:00.001&fdate=2023-04-04 00:00:00.001\n",
      "Fetching data from http://montreal.icea.decea.mil.br:5002/api/v1/cat-62?token=a779d04f85c4bf6cfa586d30aaec57c44e9b7173&idate=2023-04-04 00:00:00.001&fdate=2023-04-05 00:00:00.001\n",
      "Fetching data from http://montreal.icea.decea.mil.br:5002/api/v1/cat-62?token=a779d04f85c4bf6cfa586d30aaec57c44e9b7173&idate=2023-04-05 00:00:00.001&fdate=2023-04-06 00:00:00.001\n",
      "Fetching data from http://montreal.icea.decea.mil.br:5002/api/v1/cat-62?token=a779d04f85c4bf6cfa586d30aaec57c44e9b7173&idate=2023-04-06 00:00:00.001&fdate=2023-04-07 00:00:00.001\n",
      "Fetching data from http://montreal.icea.decea.mil.br:5002/api/v1/cat-62?token=a779d04f85c4bf6cfa586d30aaec57c44e9b7173&idate=2023-04-07 00:00:00.001&fdate=2023-04-08 00:00:00.001\n",
      "Fetching data from http://montreal.icea.decea.mil.br:5002/api/v1/cat-62?token=a779d04f85c4bf6cfa586d30aaec57c44e9b7173&idate=2023-04-08 00:00:00.001&fdate=2023-04-09 00:00:00.001\n"
     ]
    },
    {
     "name": "stderr",
     "output_type": "stream",
     "text": [
      "Carregando dados de cat-62, Parte 4:  21%|██        | 23/109 [00:00<00:00, 205.81it/s]"
     ]
    },
    {
     "name": "stdout",
     "output_type": "stream",
     "text": [
      "Fetching data from http://montreal.icea.decea.mil.br:5002/api/v1/cat-62?token=a779d04f85c4bf6cfa586d30aaec57c44e9b7173&idate=2023-04-09 00:00:00.001&fdate=2023-04-10 00:00:00.001Fetching data from http://montreal.icea.decea.mil.br:5002/api/v1/cat-62?token=a779d04f85c4bf6cfa586d30aaec57c44e9b7173&idate=2023-04-10 00:00:00.001&fdate=2023-04-11 00:00:00.001\n",
      "\n",
      "Fetching data from http://montreal.icea.decea.mil.br:5002/api/v1/cat-62?token=a779d04f85c4bf6cfa586d30aaec57c44e9b7173&idate=2023-04-11 00:00:00.001&fdate=2023-04-12 00:00:00.001\n",
      "Fetching data from http://montreal.icea.decea.mil.br:5002/api/v1/cat-62?token=a779d04f85c4bf6cfa586d30aaec57c44e9b7173&idate=2023-04-12 00:00:00.001&fdate=2023-04-13 00:00:00.001\n",
      "Fetching data from http://montreal.icea.decea.mil.br:5002/api/v1/cat-62?token=a779d04f85c4bf6cfa586d30aaec57c44e9b7173&idate=2023-04-13 00:00:00.001&fdate=2023-04-14 00:00:00.001\n",
      "Fetching data from http://montreal.icea.decea.mil.br:5002/api/v1/cat-62?token=a779d04f85c4bf6cfa586d30aaec57c44e9b7173&idate=2023-04-14 00:00:00.001&fdate=2023-04-15 00:00:00.001\n",
      "Fetching data from http://montreal.icea.decea.mil.br:5002/api/v1/cat-62?token=a779d04f85c4bf6cfa586d30aaec57c44e9b7173&idate=2023-04-15 00:00:00.001&fdate=2023-04-16 00:00:00.001\n",
      "Fetching data from http://montreal.icea.decea.mil.br:5002/api/v1/cat-62?token=a779d04f85c4bf6cfa586d30aaec57c44e9b7173&idate=2023-04-16 00:00:00.001&fdate=2023-04-17 00:00:00.001\n",
      "Fetching data from http://montreal.icea.decea.mil.br:5002/api/v1/cat-62?token=a779d04f85c4bf6cfa586d30aaec57c44e9b7173&idate=2023-04-17 00:00:00.001&fdate=2023-04-18 00:00:00.001\n",
      "Fetching data from http://montreal.icea.decea.mil.br:5002/api/v1/cat-62?token=a779d04f85c4bf6cfa586d30aaec57c44e9b7173&idate=2023-04-18 00:00:00.001&fdate=2023-04-19 00:00:00.001\n",
      "Fetching data from http://montreal.icea.decea.mil.br:5002/api/v1/cat-62?token=a779d04f85c4bf6cfa586d30aaec57c44e9b7173&idate=2023-04-19 00:00:00.001&fdate=2023-04-20 00:00:00.001\n",
      "Fetching data from http://montreal.icea.decea.mil.br:5002/api/v1/cat-62?token=a779d04f85c4bf6cfa586d30aaec57c44e9b7173&idate=2023-04-20 00:00:00.001&fdate=2023-04-21 00:00:00.001\n",
      "Fetching data from http://montreal.icea.decea.mil.br:5002/api/v1/cat-62?token=a779d04f85c4bf6cfa586d30aaec57c44e9b7173&idate=2023-04-21 00:00:00.001&fdate=2023-04-22 00:00:00.001\n",
      "Fetching data from http://montreal.icea.decea.mil.br:5002/api/v1/cat-62?token=a779d04f85c4bf6cfa586d30aaec57c44e9b7173&idate=2023-04-22 00:00:00.001&fdate=2023-04-23 00:00:00.001\n",
      "Fetching data from http://montreal.icea.decea.mil.br:5002/api/v1/cat-62?token=a779d04f85c4bf6cfa586d30aaec57c44e9b7173&idate=2023-04-23 00:00:00.001&fdate=2023-04-24 00:00:00.001\n",
      "Fetching data from http://montreal.icea.decea.mil.br:5002/api/v1/cat-62?token=a779d04f85c4bf6cfa586d30aaec57c44e9b7173&idate=2023-04-24 00:00:00.001&fdate=2023-04-25 00:00:00.001\n",
      "Fetching data from http://montreal.icea.decea.mil.br:5002/api/v1/cat-62?token=a779d04f85c4bf6cfa586d30aaec57c44e9b7173&idate=2023-04-25 00:00:00.001&fdate=2023-04-26 00:00:00.001\n",
      "Fetching data from http://montreal.icea.decea.mil.br:5002/api/v1/cat-62?token=a779d04f85c4bf6cfa586d30aaec57c44e9b7173&idate=2023-04-26 00:00:00.001&fdate=2023-04-27 00:00:00.001\n",
      "Fetching data from http://montreal.icea.decea.mil.br:5002/api/v1/cat-62?token=a779d04f85c4bf6cfa586d30aaec57c44e9b7173&idate=2023-04-27 00:00:00.001&fdate=2023-04-28 00:00:00.001\n",
      "Fetching data from http://montreal.icea.decea.mil.br:5002/api/v1/cat-62?token=a779d04f85c4bf6cfa586d30aaec57c44e9b7173&idate=2023-04-28 00:00:00.001&fdate=2023-04-29 00:00:00.001\n",
      "Fetching data from http://montreal.icea.decea.mil.br:5002/api/v1/cat-62?token=a779d04f85c4bf6cfa586d30aaec57c44e9b7173&idate=2023-04-29 00:00:00.001&fdate=2023-04-30 00:00:00.001\n",
      "Fetching data from http://montreal.icea.decea.mil.br:5002/api/v1/cat-62?token=a779d04f85c4bf6cfa586d30aaec57c44e9b7173&idate=2023-04-30 00:00:00.001&fdate=2023-05-01 00:00:00.001\n",
      "Fetching data from http://montreal.icea.decea.mil.br:5002/api/v1/cat-62?token=a779d04f85c4bf6cfa586d30aaec57c44e9b7173&idate=2023-05-01 00:00:00.001&fdate=2023-05-02 00:00:00.001\n",
      "Fetching data from http://montreal.icea.decea.mil.br:5002/api/v1/cat-62?token=a779d04f85c4bf6cfa586d30aaec57c44e9b7173&idate=2023-05-02 00:00:00.001&fdate=2023-05-03 00:00:00.001\n",
      "Fetching data from http://montreal.icea.decea.mil.br:5002/api/v1/cat-62?token=a779d04f85c4bf6cfa586d30aaec57c44e9b7173&idate=2023-05-03 00:00:00.001&fdate=2023-05-04 00:00:00.001\n",
      "Fetching data from http://montreal.icea.decea.mil.br:5002/api/v1/cat-62?token=a779d04f85c4bf6cfa586d30aaec57c44e9b7173&idate=2023-05-04 00:00:00.001&fdate=2023-05-05 00:00:00.001\n",
      "Fetching data from http://montreal.icea.decea.mil.br:5002/api/v1/cat-62?token=a779d04f85c4bf6cfa586d30aaec57c44e9b7173&idate=2023-05-05 00:00:00.001&fdate=2023-05-06 00:00:00.001\n",
      "Fetching data from http://montreal.icea.decea.mil.br:5002/api/v1/cat-62?token=a779d04f85c4bf6cfa586d30aaec57c44e9b7173&idate=2023-05-06 00:00:00.001&fdate=2023-05-07 00:00:00.001\n"
     ]
    },
    {
     "name": "stderr",
     "output_type": "stream",
     "text": [
      "Carregando dados de cat-62, Parte 4:  42%|████▏     | 46/109 [00:00<00:00, 218.27it/s]"
     ]
    },
    {
     "name": "stdout",
     "output_type": "stream",
     "text": [
      "Fetching data from http://montreal.icea.decea.mil.br:5002/api/v1/cat-62?token=a779d04f85c4bf6cfa586d30aaec57c44e9b7173&idate=2023-05-07 00:00:00.001&fdate=2023-05-08 00:00:00.001\n",
      "Fetching data from http://montreal.icea.decea.mil.br:5002/api/v1/cat-62?token=a779d04f85c4bf6cfa586d30aaec57c44e9b7173&idate=2023-05-08 00:00:00.001&fdate=2023-05-09 00:00:00.001\n",
      "Fetching data from http://montreal.icea.decea.mil.br:5002/api/v1/cat-62?token=a779d04f85c4bf6cfa586d30aaec57c44e9b7173&idate=2023-05-09 00:00:00.001&fdate=2023-05-10 00:00:00.001\n",
      "Fetching data from http://montreal.icea.decea.mil.br:5002/api/v1/cat-62?token=a779d04f85c4bf6cfa586d30aaec57c44e9b7173&idate=2023-05-10 00:00:00.001&fdate=2023-05-11 00:00:00.001\n",
      "Fetching data from http://montreal.icea.decea.mil.br:5002/api/v1/cat-62?token=a779d04f85c4bf6cfa586d30aaec57c44e9b7173&idate=2023-05-11 00:00:00.001&fdate=2023-05-12 00:00:00.001\n",
      "Fetching data from http://montreal.icea.decea.mil.br:5002/api/v1/cat-62?token=a779d04f85c4bf6cfa586d30aaec57c44e9b7173&idate=2023-05-12 00:00:00.001&fdate=2023-05-13 00:00:00.001\n",
      "Fetching data from http://montreal.icea.decea.mil.br:5002/api/v1/cat-62?token=a779d04f85c4bf6cfa586d30aaec57c44e9b7173&idate=2023-05-13 00:00:00.001&fdate=2023-05-14 00:00:00.001\n",
      "Fetching data from http://montreal.icea.decea.mil.br:5002/api/v1/cat-62?token=a779d04f85c4bf6cfa586d30aaec57c44e9b7173&idate=2023-05-14 00:00:00.001&fdate=2023-05-15 00:00:00.001Fetching data from http://montreal.icea.decea.mil.br:5002/api/v1/cat-62?token=a779d04f85c4bf6cfa586d30aaec57c44e9b7173&idate=2023-05-15 00:00:00.001&fdate=2023-05-16 00:00:00.001\n",
      "\n",
      "Fetching data from http://montreal.icea.decea.mil.br:5002/api/v1/cat-62?token=a779d04f85c4bf6cfa586d30aaec57c44e9b7173&idate=2023-05-16 00:00:00.001&fdate=2023-05-17 00:00:00.001\n",
      "Fetching data from http://montreal.icea.decea.mil.br:5002/api/v1/cat-62?token=a779d04f85c4bf6cfa586d30aaec57c44e9b7173&idate=2023-05-17 00:00:00.001&fdate=2023-05-18 00:00:00.001\n",
      "Fetching data from http://montreal.icea.decea.mil.br:5002/api/v1/cat-62?token=a779d04f85c4bf6cfa586d30aaec57c44e9b7173&idate=2023-05-18 00:00:00.001&fdate=2023-05-19 00:00:00.001\n",
      "Fetching data from http://montreal.icea.decea.mil.br:5002/api/v1/cat-62?token=a779d04f85c4bf6cfa586d30aaec57c44e9b7173&idate=2023-05-19 00:00:00.001&fdate=2023-05-20 00:00:00.001\n",
      "Fetching data from http://montreal.icea.decea.mil.br:5002/api/v1/cat-62?token=a779d04f85c4bf6cfa586d30aaec57c44e9b7173&idate=2023-05-20 00:00:00.001&fdate=2023-05-21 00:00:00.001\n",
      "Fetching data from http://montreal.icea.decea.mil.br:5002/api/v1/cat-62?token=a779d04f85c4bf6cfa586d30aaec57c44e9b7173&idate=2023-05-21 00:00:00.001&fdate=2023-05-22 00:00:00.001\n",
      "Fetching data from http://montreal.icea.decea.mil.br:5002/api/v1/cat-62?token=a779d04f85c4bf6cfa586d30aaec57c44e9b7173&idate=2023-05-22 00:00:00.001&fdate=2023-05-23 00:00:00.001\n",
      "Fetching data from http://montreal.icea.decea.mil.br:5002/api/v1/cat-62?token=a779d04f85c4bf6cfa586d30aaec57c44e9b7173&idate=2023-05-23 00:00:00.001&fdate=2023-05-24 00:00:00.001\n",
      "Fetching data from http://montreal.icea.decea.mil.br:5002/api/v1/cat-62?token=a779d04f85c4bf6cfa586d30aaec57c44e9b7173&idate=2023-05-24 00:00:00.001&fdate=2023-05-25 00:00:00.001\n",
      "Fetching data from http://montreal.icea.decea.mil.br:5002/api/v1/cat-62?token=a779d04f85c4bf6cfa586d30aaec57c44e9b7173&idate=2023-05-25 00:00:00.001&fdate=2023-05-26 00:00:00.001\n",
      "Fetching data from http://montreal.icea.decea.mil.br:5002/api/v1/cat-62?token=a779d04f85c4bf6cfa586d30aaec57c44e9b7173&idate=2023-05-26 00:00:00.001&fdate=2023-05-27 00:00:00.001\n",
      "Fetching data from http://montreal.icea.decea.mil.br:5002/api/v1/cat-62?token=a779d04f85c4bf6cfa586d30aaec57c44e9b7173&idate=2023-05-27 00:00:00.001&fdate=2023-05-28 00:00:00.001\n",
      "Fetching data from http://montreal.icea.decea.mil.br:5002/api/v1/cat-62?token=a779d04f85c4bf6cfa586d30aaec57c44e9b7173&idate=2023-05-28 00:00:00.001&fdate=2023-05-29 00:00:00.001\n",
      "Fetching data from http://montreal.icea.decea.mil.br:5002/api/v1/cat-62?token=a779d04f85c4bf6cfa586d30aaec57c44e9b7173&idate=2023-05-29 00:00:00.001&fdate=2023-05-30 00:00:00.001\n"
     ]
    },
    {
     "name": "stderr",
     "output_type": "stream",
     "text": [
      "Carregando dados de cat-62, Parte 4:  65%|██████▌   | 71/109 [00:00<00:00, 218.33it/s]"
     ]
    },
    {
     "name": "stdout",
     "output_type": "stream",
     "text": [
      "Fetching data from http://montreal.icea.decea.mil.br:5002/api/v1/cat-62?token=a779d04f85c4bf6cfa586d30aaec57c44e9b7173&idate=2023-05-30 00:00:00.001&fdate=2023-05-31 00:00:00.001\n",
      "Fetching data from http://montreal.icea.decea.mil.br:5002/api/v1/cat-62?token=a779d04f85c4bf6cfa586d30aaec57c44e9b7173&idate=2023-05-31 00:00:00.001&fdate=2023-06-01 00:00:00.001\n",
      "Fetching data from http://montreal.icea.decea.mil.br:5002/api/v1/cat-62?token=a779d04f85c4bf6cfa586d30aaec57c44e9b7173&idate=2023-06-01 00:00:00.001&fdate=2023-06-02 00:00:00.001\n",
      "Fetching data from http://montreal.icea.decea.mil.br:5002/api/v1/cat-62?token=a779d04f85c4bf6cfa586d30aaec57c44e9b7173&idate=2023-06-02 00:00:00.001&fdate=2023-06-03 00:00:00.001\n",
      "Fetching data from http://montreal.icea.decea.mil.br:5002/api/v1/cat-62?token=a779d04f85c4bf6cfa586d30aaec57c44e9b7173&idate=2023-06-03 00:00:00.001&fdate=2023-06-04 00:00:00.001\n",
      "Fetching data from http://montreal.icea.decea.mil.br:5002/api/v1/cat-62?token=a779d04f85c4bf6cfa586d30aaec57c44e9b7173&idate=2023-06-04 00:00:00.001&fdate=2023-06-05 00:00:00.001\n",
      "Fetching data from http://montreal.icea.decea.mil.br:5002/api/v1/cat-62?token=a779d04f85c4bf6cfa586d30aaec57c44e9b7173&idate=2023-06-05 00:00:00.001&fdate=2023-06-06 00:00:00.001\n",
      "Fetching data from http://montreal.icea.decea.mil.br:5002/api/v1/cat-62?token=a779d04f85c4bf6cfa586d30aaec57c44e9b7173&idate=2023-06-06 00:00:00.001&fdate=2023-06-07 00:00:00.001\n",
      "Fetching data from http://montreal.icea.decea.mil.br:5002/api/v1/cat-62?token=a779d04f85c4bf6cfa586d30aaec57c44e9b7173&idate=2023-06-07 00:00:00.001&fdate=2023-06-08 00:00:00.001\n",
      "Fetching data from http://montreal.icea.decea.mil.br:5002/api/v1/cat-62?token=a779d04f85c4bf6cfa586d30aaec57c44e9b7173&idate=2023-06-08 00:00:00.001&fdate=2023-06-09 00:00:00.001\n",
      "Fetching data from http://montreal.icea.decea.mil.br:5002/api/v1/cat-62?token=a779d04f85c4bf6cfa586d30aaec57c44e9b7173&idate=2023-06-09 00:00:00.001&fdate=2023-06-10 00:00:00.001\n",
      "Fetching data from http://montreal.icea.decea.mil.br:5002/api/v1/cat-62?token=a779d04f85c4bf6cfa586d30aaec57c44e9b7173&idate=2023-06-10 00:00:00.001&fdate=2023-06-11 00:00:00.001\n",
      "Fetching data from http://montreal.icea.decea.mil.br:5002/api/v1/cat-62?token=a779d04f85c4bf6cfa586d30aaec57c44e9b7173&idate=2023-06-11 00:00:00.001&fdate=2023-06-12 00:00:00.001\n",
      "Fetching data from http://montreal.icea.decea.mil.br:5002/api/v1/cat-62?token=a779d04f85c4bf6cfa586d30aaec57c44e9b7173&idate=2023-06-12 00:00:00.001&fdate=2023-06-13 00:00:00.001\n",
      "Fetching data from http://montreal.icea.decea.mil.br:5002/api/v1/cat-62?token=a779d04f85c4bf6cfa586d30aaec57c44e9b7173&idate=2023-06-13 00:00:00.001&fdate=2023-06-14 00:00:00.001\n",
      "Fetching data from http://montreal.icea.decea.mil.br:5002/api/v1/cat-62?token=a779d04f85c4bf6cfa586d30aaec57c44e9b7173&idate=2023-06-14 00:00:00.001&fdate=2023-06-15 00:00:00.001\n",
      "Fetching data from http://montreal.icea.decea.mil.br:5002/api/v1/cat-62?token=a779d04f85c4bf6cfa586d30aaec57c44e9b7173&idate=2023-06-15 00:00:00.001&fdate=2023-06-16 00:00:00.001\n",
      "Fetching data from http://montreal.icea.decea.mil.br:5002/api/v1/cat-62?token=a779d04f85c4bf6cfa586d30aaec57c44e9b7173&idate=2023-06-16 00:00:00.001&fdate=2023-06-17 00:00:00.001\n",
      "Fetching data from http://montreal.icea.decea.mil.br:5002/api/v1/cat-62?token=a779d04f85c4bf6cfa586d30aaec57c44e9b7173&idate=2023-06-17 00:00:00.001&fdate=2023-06-18 00:00:00.001\n",
      "Fetching data from http://montreal.icea.decea.mil.br:5002/api/v1/cat-62?token=a779d04f85c4bf6cfa586d30aaec57c44e9b7173&idate=2023-06-18 00:00:00.001&fdate=2023-06-19 00:00:00.001\n",
      "Fetching data from http://montreal.icea.decea.mil.br:5002/api/v1/cat-62?token=a779d04f85c4bf6cfa586d30aaec57c44e9b7173&idate=2023-06-19 00:00:00.001&fdate=2023-06-20 00:00:00.001\n",
      "Fetching data from http://montreal.icea.decea.mil.br:5002/api/v1/cat-62?token=a779d04f85c4bf6cfa586d30aaec57c44e9b7173&idate=2023-06-20 00:00:00.001&fdate=2023-06-21 00:00:00.001\n",
      "Fetching data from http://montreal.icea.decea.mil.br:5002/api/v1/cat-62?token=a779d04f85c4bf6cfa586d30aaec57c44e9b7173&idate=2023-06-21 00:00:00.001&fdate=2023-06-22 00:00:00.001\n",
      "Fetching data from http://montreal.icea.decea.mil.br:5002/api/v1/cat-62?token=a779d04f85c4bf6cfa586d30aaec57c44e9b7173&idate=2023-06-22 00:00:00.001&fdate=2023-06-23 00:00:00.001\n",
      "Fetching data from http://montreal.icea.decea.mil.br:5002/api/v1/cat-62?token=a779d04f85c4bf6cfa586d30aaec57c44e9b7173&idate=2023-06-23 00:00:00.001&fdate=2023-06-24 00:00:00.001\n",
      "Fetching data from http://montreal.icea.decea.mil.br:5002/api/v1/cat-62?token=a779d04f85c4bf6cfa586d30aaec57c44e9b7173&idate=2023-06-24 00:00:00.001&fdate=2023-06-25 00:00:00.001\n",
      "Fetching data from http://montreal.icea.decea.mil.br:5002/api/v1/cat-62?token=a779d04f85c4bf6cfa586d30aaec57c44e9b7173&idate=2023-06-25 00:00:00.001&fdate=2023-06-26 00:00:00.001\n",
      "Fetching data from http://montreal.icea.decea.mil.br:5002/api/v1/cat-62?token=a779d04f85c4bf6cfa586d30aaec57c44e9b7173&idate=2023-06-26 00:00:00.001&fdate=2023-06-27 00:00:00.001\n",
      "Fetching data from http://montreal.icea.decea.mil.br:5002/api/v1/cat-62?token=a779d04f85c4bf6cfa586d30aaec57c44e9b7173&idate=2023-06-27 00:00:00.001&fdate=2023-06-28 00:00:00.001\n",
      "Fetching data from http://montreal.icea.decea.mil.br:5002/api/v1/cat-62?token=a779d04f85c4bf6cfa586d30aaec57c44e9b7173&idate=2023-06-28 00:00:00.001&fdate=2023-06-29 00:00:00.001\n",
      "Fetching data from http://montreal.icea.decea.mil.br:5002/api/v1/cat-62?token=a779d04f85c4bf6cfa586d30aaec57c44e9b7173&idate=2023-06-29 00:00:00.001&fdate=2023-06-30 00:00:00.001\n",
      "Fetching data from http://montreal.icea.decea.mil.br:5002/api/v1/cat-62?token=a779d04f85c4bf6cfa586d30aaec57c44e9b7173&idate=2023-06-30 00:00:00.001&fdate=2023-07-01 00:00:00.001\n",
      "Fetching data from http://montreal.icea.decea.mil.br:5002/api/v1/cat-62?token=a779d04f85c4bf6cfa586d30aaec57c44e9b7173&idate=2023-07-01 00:00:00.001&fdate=2023-07-02 00:00:00.001\n"
     ]
    },
    {
     "name": "stderr",
     "output_type": "stream",
     "text": [
      "Carregando dados de cat-62, Parte 4: 100%|██████████| 109/109 [00:00<00:00, 220.72it/s]"
     ]
    },
    {
     "name": "stdout",
     "output_type": "stream",
     "text": [
      "Dados de cat-62 salvos em cat-62_part_4.csv\n",
      "Processando bimtra\n",
      "Processando parte 1/4\n"
     ]
    },
    {
     "name": "stderr",
     "output_type": "stream",
     "text": [
      "\n"
     ]
    },
    {
     "name": "stdout",
     "output_type": "stream",
     "text": [
      "Fetching data from http://montreal.icea.decea.mil.br:5002/api/v1/bimtra?token=a779d04f85c4bf6cfa586d30aaec57c44e9b7173&idate=2022-05-01&fdate=2022-05-02\n",
      "Fetching data from http://montreal.icea.decea.mil.br:5002/api/v1/bimtra?token=a779d04f85c4bf6cfa586d30aaec57c44e9b7173&idate=2022-05-02&fdate=2022-05-03\n",
      "Fetching data from http://montreal.icea.decea.mil.br:5002/api/v1/bimtra?token=a779d04f85c4bf6cfa586d30aaec57c44e9b7173&idate=2022-05-03&fdate=2022-05-04\n",
      "Fetching data from http://montreal.icea.decea.mil.br:5002/api/v1/bimtra?token=a779d04f85c4bf6cfa586d30aaec57c44e9b7173&idate=2022-05-04&fdate=2022-05-05\n",
      "Fetching data from http://montreal.icea.decea.mil.br:5002/api/v1/bimtra?token=a779d04f85c4bf6cfa586d30aaec57c44e9b7173&idate=2022-05-05&fdate=2022-05-06\n",
      "Fetching data from http://montreal.icea.decea.mil.br:5002/api/v1/bimtra?token=a779d04f85c4bf6cfa586d30aaec57c44e9b7173&idate=2022-05-06&fdate=2022-05-07\n",
      "Fetching data from http://montreal.icea.decea.mil.br:5002/api/v1/bimtra?token=a779d04f85c4bf6cfa586d30aaec57c44e9b7173&idate=2022-05-07&fdate=2022-05-08\n",
      "Fetching data from http://montreal.icea.decea.mil.br:5002/api/v1/bimtra?token=a779d04f85c4bf6cfa586d30aaec57c44e9b7173&idate=2022-05-08&fdate=2022-05-09\n",
      "Fetching data from http://montreal.icea.decea.mil.br:5002/api/v1/bimtra?token=a779d04f85c4bf6cfa586d30aaec57c44e9b7173&idate=2022-05-09&fdate=2022-05-10\n",
      "Fetching data from http://montreal.icea.decea.mil.br:5002/api/v1/bimtra?token=a779d04f85c4bf6cfa586d30aaec57c44e9b7173&idate=2022-05-10&fdate=2022-05-11\n"
     ]
    },
    {
     "name": "stderr",
     "output_type": "stream",
     "text": [
      "Carregando dados de bimtra, Parte 1:   0%|          | 0/106 [00:00<?, ?it/s]"
     ]
    },
    {
     "name": "stdout",
     "output_type": "stream",
     "text": [
      "Fetching data from http://montreal.icea.decea.mil.br:5002/api/v1/bimtra?token=a779d04f85c4bf6cfa586d30aaec57c44e9b7173&idate=2022-05-11&fdate=2022-05-12\n",
      "Fetching data from http://montreal.icea.decea.mil.br:5002/api/v1/bimtra?token=a779d04f85c4bf6cfa586d30aaec57c44e9b7173&idate=2022-05-12&fdate=2022-05-13\n",
      "Fetching data from http://montreal.icea.decea.mil.br:5002/api/v1/bimtra?token=a779d04f85c4bf6cfa586d30aaec57c44e9b7173&idate=2022-05-13&fdate=2022-05-14\n",
      "Fetching data from http://montreal.icea.decea.mil.br:5002/api/v1/bimtra?token=a779d04f85c4bf6cfa586d30aaec57c44e9b7173&idate=2022-05-14&fdate=2022-05-15\n",
      "Fetching data from http://montreal.icea.decea.mil.br:5002/api/v1/bimtra?token=a779d04f85c4bf6cfa586d30aaec57c44e9b7173&idate=2022-05-15&fdate=2022-05-16\n",
      "Fetching data from http://montreal.icea.decea.mil.br:5002/api/v1/bimtra?token=a779d04f85c4bf6cfa586d30aaec57c44e9b7173&idate=2022-05-16&fdate=2022-05-17\n",
      "Fetching data from http://montreal.icea.decea.mil.br:5002/api/v1/bimtra?token=a779d04f85c4bf6cfa586d30aaec57c44e9b7173&idate=2022-05-17&fdate=2022-05-18\n",
      "Fetching data from http://montreal.icea.decea.mil.br:5002/api/v1/bimtra?token=a779d04f85c4bf6cfa586d30aaec57c44e9b7173&idate=2022-05-18&fdate=2022-05-19\n",
      "Fetching data from http://montreal.icea.decea.mil.br:5002/api/v1/bimtra?token=a779d04f85c4bf6cfa586d30aaec57c44e9b7173&idate=2022-05-19&fdate=2022-05-20\n",
      "Fetching data from http://montreal.icea.decea.mil.br:5002/api/v1/bimtra?token=a779d04f85c4bf6cfa586d30aaec57c44e9b7173&idate=2022-05-20&fdate=2022-05-21\n",
      "Fetching data from http://montreal.icea.decea.mil.br:5002/api/v1/bimtra?token=a779d04f85c4bf6cfa586d30aaec57c44e9b7173&idate=2022-05-21&fdate=2022-05-22\n",
      "Fetching data from http://montreal.icea.decea.mil.br:5002/api/v1/bimtra?token=a779d04f85c4bf6cfa586d30aaec57c44e9b7173&idate=2022-05-22&fdate=2022-05-23\n",
      "Fetching data from http://montreal.icea.decea.mil.br:5002/api/v1/bimtra?token=a779d04f85c4bf6cfa586d30aaec57c44e9b7173&idate=2022-05-23&fdate=2022-05-24\n",
      "Fetching data from http://montreal.icea.decea.mil.br:5002/api/v1/bimtra?token=a779d04f85c4bf6cfa586d30aaec57c44e9b7173&idate=2022-05-24&fdate=2022-05-25\n",
      "Fetching data from http://montreal.icea.decea.mil.br:5002/api/v1/bimtra?token=a779d04f85c4bf6cfa586d30aaec57c44e9b7173&idate=2022-05-25&fdate=2022-05-26\n",
      "Fetching data from http://montreal.icea.decea.mil.br:5002/api/v1/bimtra?token=a779d04f85c4bf6cfa586d30aaec57c44e9b7173&idate=2022-05-26&fdate=2022-05-27\n",
      "Fetching data from http://montreal.icea.decea.mil.br:5002/api/v1/bimtra?token=a779d04f85c4bf6cfa586d30aaec57c44e9b7173&idate=2022-05-27&fdate=2022-05-28\n",
      "Fetching data from http://montreal.icea.decea.mil.br:5002/api/v1/bimtra?token=a779d04f85c4bf6cfa586d30aaec57c44e9b7173&idate=2022-05-28&fdate=2022-05-29\n",
      "Fetching data from http://montreal.icea.decea.mil.br:5002/api/v1/bimtra?token=a779d04f85c4bf6cfa586d30aaec57c44e9b7173&idate=2022-05-29&fdate=2022-05-30\n"
     ]
    },
    {
     "name": "stderr",
     "output_type": "stream",
     "text": [
      "Carregando dados de bimtra, Parte 1:  26%|██▋       | 28/106 [00:00<00:00, 276.07it/s]"
     ]
    },
    {
     "name": "stdout",
     "output_type": "stream",
     "text": [
      "Fetching data from http://montreal.icea.decea.mil.br:5002/api/v1/bimtra?token=a779d04f85c4bf6cfa586d30aaec57c44e9b7173&idate=2022-05-30&fdate=2022-05-31\n",
      "Fetching data from http://montreal.icea.decea.mil.br:5002/api/v1/bimtra?token=a779d04f85c4bf6cfa586d30aaec57c44e9b7173&idate=2022-05-31&fdate=2022-06-01\n",
      "Fetching data from http://montreal.icea.decea.mil.br:5002/api/v1/bimtra?token=a779d04f85c4bf6cfa586d30aaec57c44e9b7173&idate=2022-06-01&fdate=2022-06-02\n",
      "Fetching data from http://montreal.icea.decea.mil.br:5002/api/v1/bimtra?token=a779d04f85c4bf6cfa586d30aaec57c44e9b7173&idate=2022-06-02&fdate=2022-06-03\n",
      "Fetching data from http://montreal.icea.decea.mil.br:5002/api/v1/bimtra?token=a779d04f85c4bf6cfa586d30aaec57c44e9b7173&idate=2022-06-03&fdate=2022-06-04\n",
      "Fetching data from http://montreal.icea.decea.mil.br:5002/api/v1/bimtra?token=a779d04f85c4bf6cfa586d30aaec57c44e9b7173&idate=2022-06-04&fdate=2022-06-05\n",
      "Fetching data from http://montreal.icea.decea.mil.br:5002/api/v1/bimtra?token=a779d04f85c4bf6cfa586d30aaec57c44e9b7173&idate=2022-06-05&fdate=2022-06-06\n",
      "Fetching data from http://montreal.icea.decea.mil.br:5002/api/v1/bimtra?token=a779d04f85c4bf6cfa586d30aaec57c44e9b7173&idate=2022-06-06&fdate=2022-06-07\n",
      "Fetching data from http://montreal.icea.decea.mil.br:5002/api/v1/bimtra?token=a779d04f85c4bf6cfa586d30aaec57c44e9b7173&idate=2022-06-07&fdate=2022-06-08\n",
      "Fetching data from http://montreal.icea.decea.mil.br:5002/api/v1/bimtra?token=a779d04f85c4bf6cfa586d30aaec57c44e9b7173&idate=2022-06-08&fdate=2022-06-09\n",
      "Fetching data from http://montreal.icea.decea.mil.br:5002/api/v1/bimtra?token=a779d04f85c4bf6cfa586d30aaec57c44e9b7173&idate=2022-06-09&fdate=2022-06-10\n",
      "Fetching data from http://montreal.icea.decea.mil.br:5002/api/v1/bimtra?token=a779d04f85c4bf6cfa586d30aaec57c44e9b7173&idate=2022-06-10&fdate=2022-06-11\n",
      "Fetching data from http://montreal.icea.decea.mil.br:5002/api/v1/bimtra?token=a779d04f85c4bf6cfa586d30aaec57c44e9b7173&idate=2022-06-11&fdate=2022-06-12\n",
      "Fetching data from http://montreal.icea.decea.mil.br:5002/api/v1/bimtra?token=a779d04f85c4bf6cfa586d30aaec57c44e9b7173&idate=2022-06-12&fdate=2022-06-13\n",
      "Fetching data from http://montreal.icea.decea.mil.br:5002/api/v1/bimtra?token=a779d04f85c4bf6cfa586d30aaec57c44e9b7173&idate=2022-06-13&fdate=2022-06-14\n",
      "Fetching data from http://montreal.icea.decea.mil.br:5002/api/v1/bimtra?token=a779d04f85c4bf6cfa586d30aaec57c44e9b7173&idate=2022-06-14&fdate=2022-06-15\n",
      "Fetching data from http://montreal.icea.decea.mil.br:5002/api/v1/bimtra?token=a779d04f85c4bf6cfa586d30aaec57c44e9b7173&idate=2022-06-15&fdate=2022-06-16\n",
      "Fetching data from http://montreal.icea.decea.mil.br:5002/api/v1/bimtra?token=a779d04f85c4bf6cfa586d30aaec57c44e9b7173&idate=2022-06-16&fdate=2022-06-17\n",
      "Fetching data from http://montreal.icea.decea.mil.br:5002/api/v1/bimtra?token=a779d04f85c4bf6cfa586d30aaec57c44e9b7173&idate=2022-06-17&fdate=2022-06-18\n",
      "Fetching data from http://montreal.icea.decea.mil.br:5002/api/v1/bimtra?token=a779d04f85c4bf6cfa586d30aaec57c44e9b7173&idate=2022-06-18&fdate=2022-06-19\n",
      "Fetching data from http://montreal.icea.decea.mil.br:5002/api/v1/bimtra?token=a779d04f85c4bf6cfa586d30aaec57c44e9b7173&idate=2022-06-19&fdate=2022-06-20\n",
      "Fetching data from http://montreal.icea.decea.mil.br:5002/api/v1/bimtra?token=a779d04f85c4bf6cfa586d30aaec57c44e9b7173&idate=2022-06-20&fdate=2022-06-21\n",
      "Fetching data from http://montreal.icea.decea.mil.br:5002/api/v1/bimtra?token=a779d04f85c4bf6cfa586d30aaec57c44e9b7173&idate=2022-06-21&fdate=2022-06-22\n",
      "Fetching data from http://montreal.icea.decea.mil.br:5002/api/v1/bimtra?token=a779d04f85c4bf6cfa586d30aaec57c44e9b7173&idate=2022-06-22&fdate=2022-06-23\n",
      "Fetching data from http://montreal.icea.decea.mil.br:5002/api/v1/bimtra?token=a779d04f85c4bf6cfa586d30aaec57c44e9b7173&idate=2022-06-23&fdate=2022-06-24\n",
      "Fetching data from http://montreal.icea.decea.mil.br:5002/api/v1/bimtra?token=a779d04f85c4bf6cfa586d30aaec57c44e9b7173&idate=2022-06-24&fdate=2022-06-25\n",
      "Fetching data from http://montreal.icea.decea.mil.br:5002/api/v1/bimtra?token=a779d04f85c4bf6cfa586d30aaec57c44e9b7173&idate=2022-06-25&fdate=2022-06-26\n",
      "Fetching data from http://montreal.icea.decea.mil.br:5002/api/v1/bimtra?token=a779d04f85c4bf6cfa586d30aaec57c44e9b7173&idate=2022-06-26&fdate=2022-06-27\n",
      "Fetching data from http://montreal.icea.decea.mil.br:5002/api/v1/bimtra?token=a779d04f85c4bf6cfa586d30aaec57c44e9b7173&idate=2022-06-27&fdate=2022-06-28\n",
      "Fetching data from http://montreal.icea.decea.mil.br:5002/api/v1/bimtra?token=a779d04f85c4bf6cfa586d30aaec57c44e9b7173&idate=2022-06-28&fdate=2022-06-29\n",
      "Fetching data from http://montreal.icea.decea.mil.br:5002/api/v1/bimtra?token=a779d04f85c4bf6cfa586d30aaec57c44e9b7173&idate=2022-06-29&fdate=2022-06-30\n",
      "Fetching data from http://montreal.icea.decea.mil.br:5002/api/v1/bimtra?token=a779d04f85c4bf6cfa586d30aaec57c44e9b7173&idate=2022-06-30&fdate=2022-07-01\n",
      "Fetching data from http://montreal.icea.decea.mil.br:5002/api/v1/bimtra?token=a779d04f85c4bf6cfa586d30aaec57c44e9b7173&idate=2022-07-01&fdate=2022-07-02\n",
      "Fetching data from http://montreal.icea.decea.mil.br:5002/api/v1/bimtra?token=a779d04f85c4bf6cfa586d30aaec57c44e9b7173&idate=2022-07-02&fdate=2022-07-03\n",
      "Fetching data from http://montreal.icea.decea.mil.br:5002/api/v1/bimtra?token=a779d04f85c4bf6cfa586d30aaec57c44e9b7173&idate=2022-07-03&fdate=2022-07-04\n",
      "Fetching data from http://montreal.icea.decea.mil.br:5002/api/v1/bimtra?token=a779d04f85c4bf6cfa586d30aaec57c44e9b7173&idate=2022-07-04&fdate=2022-07-05\n",
      "Fetching data from http://montreal.icea.decea.mil.br:5002/api/v1/bimtra?token=a779d04f85c4bf6cfa586d30aaec57c44e9b7173&idate=2022-07-05&fdate=2022-07-06\n",
      "Fetching data from http://montreal.icea.decea.mil.br:5002/api/v1/bimtra?token=a779d04f85c4bf6cfa586d30aaec57c44e9b7173&idate=2022-07-06&fdate=2022-07-07\n",
      "Fetching data from http://montreal.icea.decea.mil.br:5002/api/v1/bimtra?token=a779d04f85c4bf6cfa586d30aaec57c44e9b7173&idate=2022-07-07&fdate=2022-07-08\n"
     ]
    },
    {
     "name": "stderr",
     "output_type": "stream",
     "text": [
      "Carregando dados de bimtra, Parte 1:  53%|█████▎    | 56/106 [00:00<00:00, 261.44it/s]"
     ]
    },
    {
     "name": "stdout",
     "output_type": "stream",
     "text": [
      "Fetching data from http://montreal.icea.decea.mil.br:5002/api/v1/bimtra?token=a779d04f85c4bf6cfa586d30aaec57c44e9b7173&idate=2022-07-08&fdate=2022-07-09\n",
      "Fetching data from http://montreal.icea.decea.mil.br:5002/api/v1/bimtra?token=a779d04f85c4bf6cfa586d30aaec57c44e9b7173&idate=2022-07-09&fdate=2022-07-10\n",
      "Fetching data from http://montreal.icea.decea.mil.br:5002/api/v1/bimtra?token=a779d04f85c4bf6cfa586d30aaec57c44e9b7173&idate=2022-07-10&fdate=2022-07-11\n",
      "Fetching data from http://montreal.icea.decea.mil.br:5002/api/v1/bimtra?token=a779d04f85c4bf6cfa586d30aaec57c44e9b7173&idate=2022-07-11&fdate=2022-07-12\n",
      "Fetching data from http://montreal.icea.decea.mil.br:5002/api/v1/bimtra?token=a779d04f85c4bf6cfa586d30aaec57c44e9b7173&idate=2022-07-12&fdate=2022-07-13\n",
      "Fetching data from http://montreal.icea.decea.mil.br:5002/api/v1/bimtra?token=a779d04f85c4bf6cfa586d30aaec57c44e9b7173&idate=2022-07-13&fdate=2022-07-14\n",
      "Fetching data from http://montreal.icea.decea.mil.br:5002/api/v1/bimtra?token=a779d04f85c4bf6cfa586d30aaec57c44e9b7173&idate=2022-07-14&fdate=2022-07-15\n",
      "Fetching data from http://montreal.icea.decea.mil.br:5002/api/v1/bimtra?token=a779d04f85c4bf6cfa586d30aaec57c44e9b7173&idate=2022-07-15&fdate=2022-07-16\n",
      "Fetching data from http://montreal.icea.decea.mil.br:5002/api/v1/bimtra?token=a779d04f85c4bf6cfa586d30aaec57c44e9b7173&idate=2022-07-16&fdate=2022-07-17\n",
      "Fetching data from http://montreal.icea.decea.mil.br:5002/api/v1/bimtra?token=a779d04f85c4bf6cfa586d30aaec57c44e9b7173&idate=2022-07-17&fdate=2022-07-18\n",
      "Fetching data from http://montreal.icea.decea.mil.br:5002/api/v1/bimtra?token=a779d04f85c4bf6cfa586d30aaec57c44e9b7173&idate=2022-07-18&fdate=2022-07-19\n"
     ]
    },
    {
     "name": "stderr",
     "output_type": "stream",
     "text": [
      "Carregando dados de bimtra, Parte 1:  78%|███████▊  | 83/106 [00:00<00:00, 246.09it/s]"
     ]
    },
    {
     "name": "stdout",
     "output_type": "stream",
     "text": [
      "Fetching data from http://montreal.icea.decea.mil.br:5002/api/v1/bimtra?token=a779d04f85c4bf6cfa586d30aaec57c44e9b7173&idate=2022-07-19&fdate=2022-07-20\n",
      "Fetching data from http://montreal.icea.decea.mil.br:5002/api/v1/bimtra?token=a779d04f85c4bf6cfa586d30aaec57c44e9b7173&idate=2022-07-20&fdate=2022-07-21\n",
      "Fetching data from http://montreal.icea.decea.mil.br:5002/api/v1/bimtra?token=a779d04f85c4bf6cfa586d30aaec57c44e9b7173&idate=2022-07-21&fdate=2022-07-22\n",
      "Fetching data from http://montreal.icea.decea.mil.br:5002/api/v1/bimtra?token=a779d04f85c4bf6cfa586d30aaec57c44e9b7173&idate=2022-07-22&fdate=2022-07-23\n",
      "Fetching data from http://montreal.icea.decea.mil.br:5002/api/v1/bimtra?token=a779d04f85c4bf6cfa586d30aaec57c44e9b7173&idate=2022-07-23&fdate=2022-07-24\n",
      "Fetching data from http://montreal.icea.decea.mil.br:5002/api/v1/bimtra?token=a779d04f85c4bf6cfa586d30aaec57c44e9b7173&idate=2022-07-24&fdate=2022-07-25\n",
      "Fetching data from http://montreal.icea.decea.mil.br:5002/api/v1/bimtra?token=a779d04f85c4bf6cfa586d30aaec57c44e9b7173&idate=2022-07-25&fdate=2022-07-26\n",
      "Fetching data from http://montreal.icea.decea.mil.br:5002/api/v1/bimtra?token=a779d04f85c4bf6cfa586d30aaec57c44e9b7173&idate=2022-07-26&fdate=2022-07-27\n",
      "Fetching data from http://montreal.icea.decea.mil.br:5002/api/v1/bimtra?token=a779d04f85c4bf6cfa586d30aaec57c44e9b7173&idate=2022-07-27&fdate=2022-07-28\n",
      "Fetching data from http://montreal.icea.decea.mil.br:5002/api/v1/bimtra?token=a779d04f85c4bf6cfa586d30aaec57c44e9b7173&idate=2022-07-28&fdate=2022-07-29\n",
      "Fetching data from http://montreal.icea.decea.mil.br:5002/api/v1/bimtra?token=a779d04f85c4bf6cfa586d30aaec57c44e9b7173&idate=2022-07-29&fdate=2022-07-30\n",
      "Fetching data from http://montreal.icea.decea.mil.br:5002/api/v1/bimtra?token=a779d04f85c4bf6cfa586d30aaec57c44e9b7173&idate=2022-07-30&fdate=2022-07-31\n",
      "Fetching data from http://montreal.icea.decea.mil.br:5002/api/v1/bimtra?token=a779d04f85c4bf6cfa586d30aaec57c44e9b7173&idate=2022-07-31&fdate=2022-08-01\n",
      "Fetching data from http://montreal.icea.decea.mil.br:5002/api/v1/bimtra?token=a779d04f85c4bf6cfa586d30aaec57c44e9b7173&idate=2022-08-01&fdate=2022-08-02\n",
      "Fetching data from http://montreal.icea.decea.mil.br:5002/api/v1/bimtra?token=a779d04f85c4bf6cfa586d30aaec57c44e9b7173&idate=2022-08-02&fdate=2022-08-03\n",
      "Fetching data from http://montreal.icea.decea.mil.br:5002/api/v1/bimtra?token=a779d04f85c4bf6cfa586d30aaec57c44e9b7173&idate=2022-08-03&fdate=2022-08-04\n",
      "Fetching data from http://montreal.icea.decea.mil.br:5002/api/v1/bimtra?token=a779d04f85c4bf6cfa586d30aaec57c44e9b7173&idate=2022-08-04&fdate=2022-08-05\n",
      "Fetching data from http://montreal.icea.decea.mil.br:5002/api/v1/bimtra?token=a779d04f85c4bf6cfa586d30aaec57c44e9b7173&idate=2022-08-05&fdate=2022-08-06\n",
      "Fetching data from http://montreal.icea.decea.mil.br:5002/api/v1/bimtra?token=a779d04f85c4bf6cfa586d30aaec57c44e9b7173&idate=2022-08-06&fdate=2022-08-07\n",
      "Fetching data from http://montreal.icea.decea.mil.br:5002/api/v1/bimtra?token=a779d04f85c4bf6cfa586d30aaec57c44e9b7173&idate=2022-08-07&fdate=2022-08-08\n",
      "Fetching data from http://montreal.icea.decea.mil.br:5002/api/v1/bimtra?token=a779d04f85c4bf6cfa586d30aaec57c44e9b7173&idate=2022-08-08&fdate=2022-08-09\n",
      "Fetching data from http://montreal.icea.decea.mil.br:5002/api/v1/bimtra?token=a779d04f85c4bf6cfa586d30aaec57c44e9b7173&idate=2022-08-09&fdate=2022-08-10\n",
      "Fetching data from http://montreal.icea.decea.mil.br:5002/api/v1/bimtra?token=a779d04f85c4bf6cfa586d30aaec57c44e9b7173&idate=2022-08-10&fdate=2022-08-11\n",
      "Fetching data from http://montreal.icea.decea.mil.br:5002/api/v1/bimtra?token=a779d04f85c4bf6cfa586d30aaec57c44e9b7173&idate=2022-08-11&fdate=2022-08-12\n",
      "Fetching data from http://montreal.icea.decea.mil.br:5002/api/v1/bimtra?token=a779d04f85c4bf6cfa586d30aaec57c44e9b7173&idate=2022-08-12&fdate=2022-08-13\n",
      "Fetching data from http://montreal.icea.decea.mil.br:5002/api/v1/bimtra?token=a779d04f85c4bf6cfa586d30aaec57c44e9b7173&idate=2022-08-13&fdate=2022-08-14\n",
      "Fetching data from http://montreal.icea.decea.mil.br:5002/api/v1/bimtra?token=a779d04f85c4bf6cfa586d30aaec57c44e9b7173&idate=2022-08-14&fdate=2022-08-15\n"
     ]
    },
    {
     "name": "stderr",
     "output_type": "stream",
     "text": [
      "Carregando dados de bimtra, Parte 1: 100%|██████████| 106/106 [00:00<00:00, 246.59it/s]\n"
     ]
    },
    {
     "name": "stdout",
     "output_type": "stream",
     "text": [
      "Dados de bimtra salvos em bimtra_part_1.csv\n",
      "Processando parte 2/4\n",
      "Fetching data from http://montreal.icea.decea.mil.br:5002/api/v1/bimtra?token=a779d04f85c4bf6cfa586d30aaec57c44e9b7173&idate=2022-08-15&fdate=2022-08-16\n",
      "Fetching data from http://montreal.icea.decea.mil.br:5002/api/v1/bimtra?token=a779d04f85c4bf6cfa586d30aaec57c44e9b7173&idate=2022-08-16&fdate=2022-08-17\n",
      "Fetching data from http://montreal.icea.decea.mil.br:5002/api/v1/bimtra?token=a779d04f85c4bf6cfa586d30aaec57c44e9b7173&idate=2022-08-17&fdate=2022-08-18\n",
      "Fetching data from http://montreal.icea.decea.mil.br:5002/api/v1/bimtra?token=a779d04f85c4bf6cfa586d30aaec57c44e9b7173&idate=2022-08-18&fdate=2022-08-19\n",
      "Fetching data from http://montreal.icea.decea.mil.br:5002/api/v1/bimtra?token=a779d04f85c4bf6cfa586d30aaec57c44e9b7173&idate=2022-08-19&fdate=2022-08-20\n",
      "Fetching data from http://montreal.icea.decea.mil.br:5002/api/v1/bimtra?token=a779d04f85c4bf6cfa586d30aaec57c44e9b7173&idate=2022-08-20&fdate=2022-08-21\n",
      "Fetching data from http://montreal.icea.decea.mil.br:5002/api/v1/bimtra?token=a779d04f85c4bf6cfa586d30aaec57c44e9b7173&idate=2022-08-21&fdate=2022-08-22\n",
      "Fetching data from http://montreal.icea.decea.mil.br:5002/api/v1/bimtra?token=a779d04f85c4bf6cfa586d30aaec57c44e9b7173&idate=2022-08-22&fdate=2022-08-23\n",
      "Fetching data from http://montreal.icea.decea.mil.br:5002/api/v1/bimtra?token=a779d04f85c4bf6cfa586d30aaec57c44e9b7173&idate=2022-08-23&fdate=2022-08-24\n",
      "Fetching data from http://montreal.icea.decea.mil.br:5002/api/v1/bimtra?token=a779d04f85c4bf6cfa586d30aaec57c44e9b7173&idate=2022-08-24&fdate=2022-08-25\n"
     ]
    },
    {
     "name": "stderr",
     "output_type": "stream",
     "text": [
      "Carregando dados de bimtra, Parte 2:   0%|          | 0/106 [00:00<?, ?it/s]"
     ]
    },
    {
     "name": "stdout",
     "output_type": "stream",
     "text": [
      "Fetching data from http://montreal.icea.decea.mil.br:5002/api/v1/bimtra?token=a779d04f85c4bf6cfa586d30aaec57c44e9b7173&idate=2022-08-25&fdate=2022-08-26Fetching data from http://montreal.icea.decea.mil.br:5002/api/v1/bimtra?token=a779d04f85c4bf6cfa586d30aaec57c44e9b7173&idate=2022-08-26&fdate=2022-08-27\n"
     ]
    },
    {
     "name": "stderr",
     "output_type": "stream",
     "text": [
      "Carregando dados de bimtra, Parte 2:  19%|█▉        | 20/106 [00:00<00:00, 199.05it/s]"
     ]
    },
    {
     "name": "stdout",
     "output_type": "stream",
     "text": [
      "\n",
      "Fetching data from http://montreal.icea.decea.mil.br:5002/api/v1/bimtra?token=a779d04f85c4bf6cfa586d30aaec57c44e9b7173&idate=2022-08-27&fdate=2022-08-28\n",
      "Fetching data from http://montreal.icea.decea.mil.br:5002/api/v1/bimtra?token=a779d04f85c4bf6cfa586d30aaec57c44e9b7173&idate=2022-08-28&fdate=2022-08-29\n",
      "Fetching data from http://montreal.icea.decea.mil.br:5002/api/v1/bimtra?token=a779d04f85c4bf6cfa586d30aaec57c44e9b7173&idate=2022-08-29&fdate=2022-08-30\n",
      "Fetching data from http://montreal.icea.decea.mil.br:5002/api/v1/bimtra?token=a779d04f85c4bf6cfa586d30aaec57c44e9b7173&idate=2022-08-30&fdate=2022-08-31\n",
      "Fetching data from http://montreal.icea.decea.mil.br:5002/api/v1/bimtra?token=a779d04f85c4bf6cfa586d30aaec57c44e9b7173&idate=2022-08-31&fdate=2022-09-01\n",
      "Fetching data from http://montreal.icea.decea.mil.br:5002/api/v1/bimtra?token=a779d04f85c4bf6cfa586d30aaec57c44e9b7173&idate=2022-09-01&fdate=2022-09-02\n",
      "Fetching data from http://montreal.icea.decea.mil.br:5002/api/v1/bimtra?token=a779d04f85c4bf6cfa586d30aaec57c44e9b7173&idate=2022-09-02&fdate=2022-09-03\n",
      "Fetching data from http://montreal.icea.decea.mil.br:5002/api/v1/bimtra?token=a779d04f85c4bf6cfa586d30aaec57c44e9b7173&idate=2022-09-03&fdate=2022-09-04\n",
      "Fetching data from http://montreal.icea.decea.mil.br:5002/api/v1/bimtra?token=a779d04f85c4bf6cfa586d30aaec57c44e9b7173&idate=2022-09-04&fdate=2022-09-05\n",
      "Fetching data from http://montreal.icea.decea.mil.br:5002/api/v1/bimtra?token=a779d04f85c4bf6cfa586d30aaec57c44e9b7173&idate=2022-09-05&fdate=2022-09-06\n",
      "Fetching data from http://montreal.icea.decea.mil.br:5002/api/v1/bimtra?token=a779d04f85c4bf6cfa586d30aaec57c44e9b7173&idate=2022-09-06&fdate=2022-09-07\n",
      "Fetching data from http://montreal.icea.decea.mil.br:5002/api/v1/bimtra?token=a779d04f85c4bf6cfa586d30aaec57c44e9b7173&idate=2022-09-07&fdate=2022-09-08\n",
      "Fetching data from http://montreal.icea.decea.mil.br:5002/api/v1/bimtra?token=a779d04f85c4bf6cfa586d30aaec57c44e9b7173&idate=2022-09-08&fdate=2022-09-09\n",
      "Fetching data from http://montreal.icea.decea.mil.br:5002/api/v1/bimtra?token=a779d04f85c4bf6cfa586d30aaec57c44e9b7173&idate=2022-09-09&fdate=2022-09-10\n",
      "Fetching data from http://montreal.icea.decea.mil.br:5002/api/v1/bimtra?token=a779d04f85c4bf6cfa586d30aaec57c44e9b7173&idate=2022-09-10&fdate=2022-09-11\n",
      "Fetching data from http://montreal.icea.decea.mil.br:5002/api/v1/bimtra?token=a779d04f85c4bf6cfa586d30aaec57c44e9b7173&idate=2022-09-11&fdate=2022-09-12\n",
      "Fetching data from http://montreal.icea.decea.mil.br:5002/api/v1/bimtra?token=a779d04f85c4bf6cfa586d30aaec57c44e9b7173&idate=2022-09-12&fdate=2022-09-13\n",
      "Fetching data from http://montreal.icea.decea.mil.br:5002/api/v1/bimtra?token=a779d04f85c4bf6cfa586d30aaec57c44e9b7173&idate=2022-09-13&fdate=2022-09-14\n",
      "Fetching data from http://montreal.icea.decea.mil.br:5002/api/v1/bimtra?token=a779d04f85c4bf6cfa586d30aaec57c44e9b7173&idate=2022-09-14&fdate=2022-09-15\n",
      "Fetching data from http://montreal.icea.decea.mil.br:5002/api/v1/bimtra?token=a779d04f85c4bf6cfa586d30aaec57c44e9b7173&idate=2022-09-15&fdate=2022-09-16\n",
      "Fetching data from http://montreal.icea.decea.mil.br:5002/api/v1/bimtra?token=a779d04f85c4bf6cfa586d30aaec57c44e9b7173&idate=2022-09-16&fdate=2022-09-17\n",
      "Fetching data from http://montreal.icea.decea.mil.br:5002/api/v1/bimtra?token=a779d04f85c4bf6cfa586d30aaec57c44e9b7173&idate=2022-09-17&fdate=2022-09-18\n",
      "Fetching data from http://montreal.icea.decea.mil.br:5002/api/v1/bimtra?token=a779d04f85c4bf6cfa586d30aaec57c44e9b7173&idate=2022-09-18&fdate=2022-09-19\n",
      "Fetching data from http://montreal.icea.decea.mil.br:5002/api/v1/bimtra?token=a779d04f85c4bf6cfa586d30aaec57c44e9b7173&idate=2022-09-19&fdate=2022-09-20\n",
      "Fetching data from http://montreal.icea.decea.mil.br:5002/api/v1/bimtra?token=a779d04f85c4bf6cfa586d30aaec57c44e9b7173&idate=2022-09-20&fdate=2022-09-21\n",
      "Fetching data from http://montreal.icea.decea.mil.br:5002/api/v1/bimtra?token=a779d04f85c4bf6cfa586d30aaec57c44e9b7173&idate=2022-09-21&fdate=2022-09-22\n",
      "Fetching data from http://montreal.icea.decea.mil.br:5002/api/v1/bimtra?token=a779d04f85c4bf6cfa586d30aaec57c44e9b7173&idate=2022-09-22&fdate=2022-09-23\n",
      "Fetching data from http://montreal.icea.decea.mil.br:5002/api/v1/bimtra?token=a779d04f85c4bf6cfa586d30aaec57c44e9b7173&idate=2022-09-23&fdate=2022-09-24\n",
      "Fetching data from http://montreal.icea.decea.mil.br:5002/api/v1/bimtra?token=a779d04f85c4bf6cfa586d30aaec57c44e9b7173&idate=2022-09-24&fdate=2022-09-25\n",
      "Fetching data from http://montreal.icea.decea.mil.br:5002/api/v1/bimtra?token=a779d04f85c4bf6cfa586d30aaec57c44e9b7173&idate=2022-09-25&fdate=2022-09-26\n",
      "Fetching data from http://montreal.icea.decea.mil.br:5002/api/v1/bimtra?token=a779d04f85c4bf6cfa586d30aaec57c44e9b7173&idate=2022-09-26&fdate=2022-09-27\n",
      "Fetching data from http://montreal.icea.decea.mil.br:5002/api/v1/bimtra?token=a779d04f85c4bf6cfa586d30aaec57c44e9b7173&idate=2022-09-27&fdate=2022-09-28\n",
      "Fetching data from http://montreal.icea.decea.mil.br:5002/api/v1/bimtra?token=a779d04f85c4bf6cfa586d30aaec57c44e9b7173&idate=2022-09-28&fdate=2022-09-29\n",
      "Fetching data from http://montreal.icea.decea.mil.br:5002/api/v1/bimtra?token=a779d04f85c4bf6cfa586d30aaec57c44e9b7173&idate=2022-09-29&fdate=2022-09-30\n",
      "Fetching data from http://montreal.icea.decea.mil.br:5002/api/v1/bimtra?token=a779d04f85c4bf6cfa586d30aaec57c44e9b7173&idate=2022-09-30&fdate=2022-10-01\n",
      "Fetching data from http://montreal.icea.decea.mil.br:5002/api/v1/bimtra?token=a779d04f85c4bf6cfa586d30aaec57c44e9b7173&idate=2022-10-01&fdate=2022-10-02\n",
      "Fetching data from http://montreal.icea.decea.mil.br:5002/api/v1/bimtra?token=a779d04f85c4bf6cfa586d30aaec57c44e9b7173&idate=2022-10-02&fdate=2022-10-03\n",
      "Fetching data from http://montreal.icea.decea.mil.br:5002/api/v1/bimtra?token=a779d04f85c4bf6cfa586d30aaec57c44e9b7173&idate=2022-10-03&fdate=2022-10-04\n",
      "Fetching data from http://montreal.icea.decea.mil.br:5002/api/v1/bimtra?token=a779d04f85c4bf6cfa586d30aaec57c44e9b7173&idate=2022-10-04&fdate=2022-10-05\n",
      "Fetching data from http://montreal.icea.decea.mil.br:5002/api/v1/bimtra?token=a779d04f85c4bf6cfa586d30aaec57c44e9b7173&idate=2022-10-05&fdate=2022-10-06\n",
      "Fetching data from http://montreal.icea.decea.mil.br:5002/api/v1/bimtra?token=a779d04f85c4bf6cfa586d30aaec57c44e9b7173&idate=2022-10-06&fdate=2022-10-07\n"
     ]
    },
    {
     "name": "stderr",
     "output_type": "stream",
     "text": [
      "Carregando dados de bimtra, Parte 2:  45%|████▌     | 48/106 [00:00<00:00, 227.38it/s]"
     ]
    },
    {
     "name": "stdout",
     "output_type": "stream",
     "text": [
      "Fetching data from http://montreal.icea.decea.mil.br:5002/api/v1/bimtra?token=a779d04f85c4bf6cfa586d30aaec57c44e9b7173&idate=2022-10-07&fdate=2022-10-08\n",
      "Fetching data from http://montreal.icea.decea.mil.br:5002/api/v1/bimtra?token=a779d04f85c4bf6cfa586d30aaec57c44e9b7173&idate=2022-10-08&fdate=2022-10-09\n",
      "Fetching data from http://montreal.icea.decea.mil.br:5002/api/v1/bimtra?token=a779d04f85c4bf6cfa586d30aaec57c44e9b7173&idate=2022-10-09&fdate=2022-10-10\n",
      "Fetching data from http://montreal.icea.decea.mil.br:5002/api/v1/bimtra?token=a779d04f85c4bf6cfa586d30aaec57c44e9b7173&idate=2022-10-10&fdate=2022-10-11\n",
      "Fetching data from http://montreal.icea.decea.mil.br:5002/api/v1/bimtra?token=a779d04f85c4bf6cfa586d30aaec57c44e9b7173&idate=2022-10-11&fdate=2022-10-12\n",
      "Fetching data from http://montreal.icea.decea.mil.br:5002/api/v1/bimtra?token=a779d04f85c4bf6cfa586d30aaec57c44e9b7173&idate=2022-10-12&fdate=2022-10-13\n",
      "Fetching data from http://montreal.icea.decea.mil.br:5002/api/v1/bimtra?token=a779d04f85c4bf6cfa586d30aaec57c44e9b7173&idate=2022-10-13&fdate=2022-10-14\n",
      "Fetching data from http://montreal.icea.decea.mil.br:5002/api/v1/bimtra?token=a779d04f85c4bf6cfa586d30aaec57c44e9b7173&idate=2022-10-14&fdate=2022-10-15\n",
      "Fetching data from http://montreal.icea.decea.mil.br:5002/api/v1/bimtra?token=a779d04f85c4bf6cfa586d30aaec57c44e9b7173&idate=2022-10-15&fdate=2022-10-16\n",
      "Fetching data from http://montreal.icea.decea.mil.br:5002/api/v1/bimtra?token=a779d04f85c4bf6cfa586d30aaec57c44e9b7173&idate=2022-10-16&fdate=2022-10-17\n",
      "Fetching data from http://montreal.icea.decea.mil.br:5002/api/v1/bimtra?token=a779d04f85c4bf6cfa586d30aaec57c44e9b7173&idate=2022-10-17&fdate=2022-10-18\n"
     ]
    },
    {
     "name": "stderr",
     "output_type": "stream",
     "text": [
      "Carregando dados de bimtra, Parte 2:  72%|███████▏  | 76/106 [00:00<00:00, 243.38it/s]"
     ]
    },
    {
     "name": "stdout",
     "output_type": "stream",
     "text": [
      "Fetching data from http://montreal.icea.decea.mil.br:5002/api/v1/bimtra?token=a779d04f85c4bf6cfa586d30aaec57c44e9b7173&idate=2022-10-18&fdate=2022-10-19\n",
      "Fetching data from http://montreal.icea.decea.mil.br:5002/api/v1/bimtra?token=a779d04f85c4bf6cfa586d30aaec57c44e9b7173&idate=2022-10-19&fdate=2022-10-20\n",
      "Fetching data from http://montreal.icea.decea.mil.br:5002/api/v1/bimtra?token=a779d04f85c4bf6cfa586d30aaec57c44e9b7173&idate=2022-10-20&fdate=2022-10-21\n",
      "Fetching data from http://montreal.icea.decea.mil.br:5002/api/v1/bimtra?token=a779d04f85c4bf6cfa586d30aaec57c44e9b7173&idate=2022-10-21&fdate=2022-10-22\n",
      "Fetching data from http://montreal.icea.decea.mil.br:5002/api/v1/bimtra?token=a779d04f85c4bf6cfa586d30aaec57c44e9b7173&idate=2022-10-22&fdate=2022-10-23\n",
      "Fetching data from http://montreal.icea.decea.mil.br:5002/api/v1/bimtra?token=a779d04f85c4bf6cfa586d30aaec57c44e9b7173&idate=2022-10-23&fdate=2022-10-24\n",
      "Fetching data from http://montreal.icea.decea.mil.br:5002/api/v1/bimtra?token=a779d04f85c4bf6cfa586d30aaec57c44e9b7173&idate=2022-10-24&fdate=2022-10-25\n",
      "Fetching data from http://montreal.icea.decea.mil.br:5002/api/v1/bimtra?token=a779d04f85c4bf6cfa586d30aaec57c44e9b7173&idate=2022-10-25&fdate=2022-10-26\n",
      "Fetching data from http://montreal.icea.decea.mil.br:5002/api/v1/bimtra?token=a779d04f85c4bf6cfa586d30aaec57c44e9b7173&idate=2022-10-26&fdate=2022-10-27\n",
      "Fetching data from http://montreal.icea.decea.mil.br:5002/api/v1/bimtra?token=a779d04f85c4bf6cfa586d30aaec57c44e9b7173&idate=2022-10-27&fdate=2022-10-28\n",
      "Fetching data from http://montreal.icea.decea.mil.br:5002/api/v1/bimtra?token=a779d04f85c4bf6cfa586d30aaec57c44e9b7173&idate=2022-10-28&fdate=2022-10-29\n",
      "Fetching data from http://montreal.icea.decea.mil.br:5002/api/v1/bimtra?token=a779d04f85c4bf6cfa586d30aaec57c44e9b7173&idate=2022-10-29&fdate=2022-10-30\n",
      "Fetching data from http://montreal.icea.decea.mil.br:5002/api/v1/bimtra?token=a779d04f85c4bf6cfa586d30aaec57c44e9b7173&idate=2022-10-30&fdate=2022-10-31\n",
      "Fetching data from http://montreal.icea.decea.mil.br:5002/api/v1/bimtra?token=a779d04f85c4bf6cfa586d30aaec57c44e9b7173&idate=2022-10-31&fdate=2022-11-01\n",
      "Fetching data from http://montreal.icea.decea.mil.br:5002/api/v1/bimtra?token=a779d04f85c4bf6cfa586d30aaec57c44e9b7173&idate=2022-11-01&fdate=2022-11-02\n",
      "Fetching data from http://montreal.icea.decea.mil.br:5002/api/v1/bimtra?token=a779d04f85c4bf6cfa586d30aaec57c44e9b7173&idate=2022-11-02&fdate=2022-11-03\n",
      "Fetching data from http://montreal.icea.decea.mil.br:5002/api/v1/bimtra?token=a779d04f85c4bf6cfa586d30aaec57c44e9b7173&idate=2022-11-03&fdate=2022-11-04\n",
      "Fetching data from http://montreal.icea.decea.mil.br:5002/api/v1/bimtra?token=a779d04f85c4bf6cfa586d30aaec57c44e9b7173&idate=2022-11-04&fdate=2022-11-05\n",
      "Fetching data from http://montreal.icea.decea.mil.br:5002/api/v1/bimtra?token=a779d04f85c4bf6cfa586d30aaec57c44e9b7173&idate=2022-11-05&fdate=2022-11-06\n",
      "Fetching data from http://montreal.icea.decea.mil.br:5002/api/v1/bimtra?token=a779d04f85c4bf6cfa586d30aaec57c44e9b7173&idate=2022-11-06&fdate=2022-11-07\n",
      "Fetching data from http://montreal.icea.decea.mil.br:5002/api/v1/bimtra?token=a779d04f85c4bf6cfa586d30aaec57c44e9b7173&idate=2022-11-07&fdate=2022-11-08\n",
      "Fetching data from http://montreal.icea.decea.mil.br:5002/api/v1/bimtra?token=a779d04f85c4bf6cfa586d30aaec57c44e9b7173&idate=2022-11-08&fdate=2022-11-09\n",
      "Fetching data from http://montreal.icea.decea.mil.br:5002/api/v1/bimtra?token=a779d04f85c4bf6cfa586d30aaec57c44e9b7173&idate=2022-11-09&fdate=2022-11-10\n",
      "Fetching data from http://montreal.icea.decea.mil.br:5002/api/v1/bimtra?token=a779d04f85c4bf6cfa586d30aaec57c44e9b7173&idate=2022-11-10&fdate=2022-11-11\n",
      "Fetching data from http://montreal.icea.decea.mil.br:5002/api/v1/bimtra?token=a779d04f85c4bf6cfa586d30aaec57c44e9b7173&idate=2022-11-11&fdate=2022-11-12\n",
      "Fetching data from http://montreal.icea.decea.mil.br:5002/api/v1/bimtra?token=a779d04f85c4bf6cfa586d30aaec57c44e9b7173&idate=2022-11-12&fdate=2022-11-13Fetching data from http://montreal.icea.decea.mil.br:5002/api/v1/bimtra?token=a779d04f85c4bf6cfa586d30aaec57c44e9b7173&idate=2022-11-13&fdate=2022-11-14\n",
      "\n",
      "Fetching data from http://montreal.icea.decea.mil.br:5002/api/v1/bimtra?token=a779d04f85c4bf6cfa586d30aaec57c44e9b7173&idate=2022-11-14&fdate=2022-11-15\n",
      "Fetching data from http://montreal.icea.decea.mil.br:5002/api/v1/bimtra?token=a779d04f85c4bf6cfa586d30aaec57c44e9b7173&idate=2022-11-15&fdate=2022-11-16\n",
      "Fetching data from http://montreal.icea.decea.mil.br:5002/api/v1/bimtra?token=a779d04f85c4bf6cfa586d30aaec57c44e9b7173&idate=2022-11-16&fdate=2022-11-17\n",
      "Fetching data from http://montreal.icea.decea.mil.br:5002/api/v1/bimtra?token=a779d04f85c4bf6cfa586d30aaec57c44e9b7173&idate=2022-11-17&fdate=2022-11-18\n",
      "Fetching data from http://montreal.icea.decea.mil.br:5002/api/v1/bimtra?token=a779d04f85c4bf6cfa586d30aaec57c44e9b7173&idate=2022-11-18&fdate=2022-11-19\n",
      "Fetching data from http://montreal.icea.decea.mil.br:5002/api/v1/bimtra?token=a779d04f85c4bf6cfa586d30aaec57c44e9b7173&idate=2022-11-19&fdate=2022-11-20\n",
      "Fetching data from http://montreal.icea.decea.mil.br:5002/api/v1/bimtra?token=a779d04f85c4bf6cfa586d30aaec57c44e9b7173&idate=2022-11-20&fdate=2022-11-21\n",
      "Fetching data from http://montreal.icea.decea.mil.br:5002/api/v1/bimtra?token=a779d04f85c4bf6cfa586d30aaec57c44e9b7173&idate=2022-11-21&fdate=2022-11-22\n"
     ]
    },
    {
     "name": "stderr",
     "output_type": "stream",
     "text": [
      "Carregando dados de bimtra, Parte 2: 100%|██████████| 106/106 [00:00<00:00, 236.52it/s]"
     ]
    },
    {
     "name": "stdout",
     "output_type": "stream",
     "text": [
      "Fetching data from http://montreal.icea.decea.mil.br:5002/api/v1/bimtra?token=a779d04f85c4bf6cfa586d30aaec57c44e9b7173&idate=2022-11-22&fdate=2022-11-23\n",
      "Fetching data from http://montreal.icea.decea.mil.br:5002/api/v1/bimtra?token=a779d04f85c4bf6cfa586d30aaec57c44e9b7173&idate=2022-11-23&fdate=2022-11-24\n",
      "Fetching data from http://montreal.icea.decea.mil.br:5002/api/v1/bimtra?token=a779d04f85c4bf6cfa586d30aaec57c44e9b7173&idate=2022-11-24&fdate=2022-11-25\n",
      "Fetching data from http://montreal.icea.decea.mil.br:5002/api/v1/bimtra?token=a779d04f85c4bf6cfa586d30aaec57c44e9b7173&idate=2022-11-25&fdate=2022-11-26\n",
      "Fetching data from http://montreal.icea.decea.mil.br:5002/api/v1/bimtra?token=a779d04f85c4bf6cfa586d30aaec57c44e9b7173&idate=2022-11-26&fdate=2022-11-27\n",
      "Fetching data from http://montreal.icea.decea.mil.br:5002/api/v1/bimtra?token=a779d04f85c4bf6cfa586d30aaec57c44e9b7173&idate=2022-11-27&fdate=2022-11-28\n",
      "Fetching data from http://montreal.icea.decea.mil.br:5002/api/v1/bimtra?token=a779d04f85c4bf6cfa586d30aaec57c44e9b7173&idate=2022-11-28&fdate=2022-11-29\n"
     ]
    },
    {
     "name": "stderr",
     "output_type": "stream",
     "text": [
      "\n"
     ]
    },
    {
     "name": "stdout",
     "output_type": "stream",
     "text": [
      "Dados de bimtra salvos em bimtra_part_2.csv\n",
      "Processando parte 3/4\n",
      "Fetching data from http://montreal.icea.decea.mil.br:5002/api/v1/bimtra?token=a779d04f85c4bf6cfa586d30aaec57c44e9b7173&idate=2022-11-29&fdate=2022-11-30\n",
      "Fetching data from http://montreal.icea.decea.mil.br:5002/api/v1/bimtra?token=a779d04f85c4bf6cfa586d30aaec57c44e9b7173&idate=2022-11-30&fdate=2022-12-01\n",
      "Fetching data from http://montreal.icea.decea.mil.br:5002/api/v1/bimtra?token=a779d04f85c4bf6cfa586d30aaec57c44e9b7173&idate=2022-12-01&fdate=2022-12-02\n",
      "Fetching data from http://montreal.icea.decea.mil.br:5002/api/v1/bimtra?token=a779d04f85c4bf6cfa586d30aaec57c44e9b7173&idate=2022-12-02&fdate=2022-12-03\n",
      "Fetching data from http://montreal.icea.decea.mil.br:5002/api/v1/bimtra?token=a779d04f85c4bf6cfa586d30aaec57c44e9b7173&idate=2022-12-03&fdate=2022-12-04\n",
      "Fetching data from http://montreal.icea.decea.mil.br:5002/api/v1/bimtra?token=a779d04f85c4bf6cfa586d30aaec57c44e9b7173&idate=2022-12-04&fdate=2022-12-05\n",
      "Fetching data from http://montreal.icea.decea.mil.br:5002/api/v1/bimtra?token=a779d04f85c4bf6cfa586d30aaec57c44e9b7173&idate=2022-12-05&fdate=2022-12-06\n",
      "Fetching data from http://montreal.icea.decea.mil.br:5002/api/v1/bimtra?token=a779d04f85c4bf6cfa586d30aaec57c44e9b7173&idate=2022-12-06&fdate=2022-12-07\n",
      "Fetching data from http://montreal.icea.decea.mil.br:5002/api/v1/bimtra?token=a779d04f85c4bf6cfa586d30aaec57c44e9b7173&idate=2022-12-07&fdate=2022-12-08\n",
      "Fetching data from http://montreal.icea.decea.mil.br:5002/api/v1/bimtra?token=a779d04f85c4bf6cfa586d30aaec57c44e9b7173&idate=2022-12-08&fdate=2022-12-09\n"
     ]
    },
    {
     "name": "stderr",
     "output_type": "stream",
     "text": [
      "Carregando dados de bimtra, Parte 3:   0%|          | 0/106 [00:00<?, ?it/s]"
     ]
    },
    {
     "name": "stdout",
     "output_type": "stream",
     "text": [
      "Fetching data from http://montreal.icea.decea.mil.br:5002/api/v1/bimtra?token=a779d04f85c4bf6cfa586d30aaec57c44e9b7173&idate=2022-12-09&fdate=2022-12-10\n",
      "Fetching data from http://montreal.icea.decea.mil.br:5002/api/v1/bimtra?token=a779d04f85c4bf6cfa586d30aaec57c44e9b7173&idate=2022-12-10&fdate=2022-12-11\n",
      "Fetching data from http://montreal.icea.decea.mil.br:5002/api/v1/bimtra?token=a779d04f85c4bf6cfa586d30aaec57c44e9b7173&idate=2022-12-11&fdate=2022-12-12\n",
      "Fetching data from http://montreal.icea.decea.mil.br:5002/api/v1/bimtra?token=a779d04f85c4bf6cfa586d30aaec57c44e9b7173&idate=2022-12-12&fdate=2022-12-13\n",
      "Fetching data from http://montreal.icea.decea.mil.br:5002/api/v1/bimtra?token=a779d04f85c4bf6cfa586d30aaec57c44e9b7173&idate=2022-12-13&fdate=2022-12-14\n",
      "Fetching data from http://montreal.icea.decea.mil.br:5002/api/v1/bimtra?token=a779d04f85c4bf6cfa586d30aaec57c44e9b7173&idate=2022-12-14&fdate=2022-12-15\n",
      "Fetching data from http://montreal.icea.decea.mil.br:5002/api/v1/bimtra?token=a779d04f85c4bf6cfa586d30aaec57c44e9b7173&idate=2022-12-15&fdate=2022-12-16\n",
      "Fetching data from http://montreal.icea.decea.mil.br:5002/api/v1/bimtra?token=a779d04f85c4bf6cfa586d30aaec57c44e9b7173&idate=2022-12-16&fdate=2022-12-17\n",
      "Fetching data from http://montreal.icea.decea.mil.br:5002/api/v1/bimtra?token=a779d04f85c4bf6cfa586d30aaec57c44e9b7173&idate=2022-12-17&fdate=2022-12-18\n",
      "Fetching data from http://montreal.icea.decea.mil.br:5002/api/v1/bimtra?token=a779d04f85c4bf6cfa586d30aaec57c44e9b7173&idate=2022-12-18&fdate=2022-12-19\n",
      "Fetching data from http://montreal.icea.decea.mil.br:5002/api/v1/bimtra?token=a779d04f85c4bf6cfa586d30aaec57c44e9b7173&idate=2022-12-19&fdate=2022-12-20\n",
      "Fetching data from http://montreal.icea.decea.mil.br:5002/api/v1/bimtra?token=a779d04f85c4bf6cfa586d30aaec57c44e9b7173&idate=2022-12-20&fdate=2022-12-21\n",
      "Fetching data from http://montreal.icea.decea.mil.br:5002/api/v1/bimtra?token=a779d04f85c4bf6cfa586d30aaec57c44e9b7173&idate=2022-12-21&fdate=2022-12-22\n",
      "Fetching data from http://montreal.icea.decea.mil.br:5002/api/v1/bimtra?token=a779d04f85c4bf6cfa586d30aaec57c44e9b7173&idate=2022-12-22&fdate=2022-12-23\n",
      "Fetching data from http://montreal.icea.decea.mil.br:5002/api/v1/bimtra?token=a779d04f85c4bf6cfa586d30aaec57c44e9b7173&idate=2022-12-23&fdate=2022-12-24\n"
     ]
    },
    {
     "name": "stderr",
     "output_type": "stream",
     "text": [
      "Carregando dados de bimtra, Parte 3:  24%|██▎       | 25/106 [00:00<00:00, 245.21it/s]"
     ]
    },
    {
     "name": "stdout",
     "output_type": "stream",
     "text": [
      "Fetching data from http://montreal.icea.decea.mil.br:5002/api/v1/bimtra?token=a779d04f85c4bf6cfa586d30aaec57c44e9b7173&idate=2022-12-24&fdate=2022-12-25\n",
      "Fetching data from http://montreal.icea.decea.mil.br:5002/api/v1/bimtra?token=a779d04f85c4bf6cfa586d30aaec57c44e9b7173&idate=2022-12-25&fdate=2022-12-26\n",
      "Fetching data from http://montreal.icea.decea.mil.br:5002/api/v1/bimtra?token=a779d04f85c4bf6cfa586d30aaec57c44e9b7173&idate=2022-12-26&fdate=2022-12-27\n",
      "Fetching data from http://montreal.icea.decea.mil.br:5002/api/v1/bimtra?token=a779d04f85c4bf6cfa586d30aaec57c44e9b7173&idate=2022-12-27&fdate=2022-12-28\n",
      "Fetching data from http://montreal.icea.decea.mil.br:5002/api/v1/bimtra?token=a779d04f85c4bf6cfa586d30aaec57c44e9b7173&idate=2022-12-28&fdate=2022-12-29\n",
      "Fetching data from http://montreal.icea.decea.mil.br:5002/api/v1/bimtra?token=a779d04f85c4bf6cfa586d30aaec57c44e9b7173&idate=2022-12-29&fdate=2022-12-30\n",
      "Fetching data from http://montreal.icea.decea.mil.br:5002/api/v1/bimtra?token=a779d04f85c4bf6cfa586d30aaec57c44e9b7173&idate=2022-12-30&fdate=2022-12-31\n",
      "Fetching data from http://montreal.icea.decea.mil.br:5002/api/v1/bimtra?token=a779d04f85c4bf6cfa586d30aaec57c44e9b7173&idate=2022-12-31&fdate=2023-01-01\n",
      "Fetching data from http://montreal.icea.decea.mil.br:5002/api/v1/bimtra?token=a779d04f85c4bf6cfa586d30aaec57c44e9b7173&idate=2023-01-01&fdate=2023-01-02\n",
      "Fetching data from http://montreal.icea.decea.mil.br:5002/api/v1/bimtra?token=a779d04f85c4bf6cfa586d30aaec57c44e9b7173&idate=2023-01-02&fdate=2023-01-03\n",
      "Fetching data from http://montreal.icea.decea.mil.br:5002/api/v1/bimtra?token=a779d04f85c4bf6cfa586d30aaec57c44e9b7173&idate=2023-01-03&fdate=2023-01-04\n",
      "Fetching data from http://montreal.icea.decea.mil.br:5002/api/v1/bimtra?token=a779d04f85c4bf6cfa586d30aaec57c44e9b7173&idate=2023-01-04&fdate=2023-01-05Fetching data from http://montreal.icea.decea.mil.br:5002/api/v1/bimtra?token=a779d04f85c4bf6cfa586d30aaec57c44e9b7173&idate=2023-01-05&fdate=2023-01-06\n",
      "\n",
      "Fetching data from http://montreal.icea.decea.mil.br:5002/api/v1/bimtra?token=a779d04f85c4bf6cfa586d30aaec57c44e9b7173&idate=2023-01-06&fdate=2023-01-07\n",
      "Fetching data from http://montreal.icea.decea.mil.br:5002/api/v1/bimtra?token=a779d04f85c4bf6cfa586d30aaec57c44e9b7173&idate=2023-01-07&fdate=2023-01-08\n",
      "Fetching data from http://montreal.icea.decea.mil.br:5002/api/v1/bimtra?token=a779d04f85c4bf6cfa586d30aaec57c44e9b7173&idate=2023-01-08&fdate=2023-01-09\n",
      "Fetching data from http://montreal.icea.decea.mil.br:5002/api/v1/bimtra?token=a779d04f85c4bf6cfa586d30aaec57c44e9b7173&idate=2023-01-09&fdate=2023-01-10\n",
      "Fetching data from http://montreal.icea.decea.mil.br:5002/api/v1/bimtra?token=a779d04f85c4bf6cfa586d30aaec57c44e9b7173&idate=2023-01-10&fdate=2023-01-11\n",
      "Fetching data from http://montreal.icea.decea.mil.br:5002/api/v1/bimtra?token=a779d04f85c4bf6cfa586d30aaec57c44e9b7173&idate=2023-01-11&fdate=2023-01-12\n",
      "Fetching data from http://montreal.icea.decea.mil.br:5002/api/v1/bimtra?token=a779d04f85c4bf6cfa586d30aaec57c44e9b7173&idate=2023-01-12&fdate=2023-01-13\n",
      "Fetching data from http://montreal.icea.decea.mil.br:5002/api/v1/bimtra?token=a779d04f85c4bf6cfa586d30aaec57c44e9b7173&idate=2023-01-13&fdate=2023-01-14\n",
      "Fetching data from http://montreal.icea.decea.mil.br:5002/api/v1/bimtra?token=a779d04f85c4bf6cfa586d30aaec57c44e9b7173&idate=2023-01-14&fdate=2023-01-15\n",
      "Fetching data from http://montreal.icea.decea.mil.br:5002/api/v1/bimtra?token=a779d04f85c4bf6cfa586d30aaec57c44e9b7173&idate=2023-01-15&fdate=2023-01-16\n",
      "Fetching data from http://montreal.icea.decea.mil.br:5002/api/v1/bimtra?token=a779d04f85c4bf6cfa586d30aaec57c44e9b7173&idate=2023-01-16&fdate=2023-01-17\n",
      "Fetching data from http://montreal.icea.decea.mil.br:5002/api/v1/bimtra?token=a779d04f85c4bf6cfa586d30aaec57c44e9b7173&idate=2023-01-17&fdate=2023-01-18\n",
      "Fetching data from http://montreal.icea.decea.mil.br:5002/api/v1/bimtra?token=a779d04f85c4bf6cfa586d30aaec57c44e9b7173&idate=2023-01-18&fdate=2023-01-19\n",
      "Fetching data from http://montreal.icea.decea.mil.br:5002/api/v1/bimtra?token=a779d04f85c4bf6cfa586d30aaec57c44e9b7173&idate=2023-01-19&fdate=2023-01-20\n",
      "Fetching data from http://montreal.icea.decea.mil.br:5002/api/v1/bimtra?token=a779d04f85c4bf6cfa586d30aaec57c44e9b7173&idate=2023-01-20&fdate=2023-01-21\n",
      "Fetching data from http://montreal.icea.decea.mil.br:5002/api/v1/bimtra?token=a779d04f85c4bf6cfa586d30aaec57c44e9b7173&idate=2023-01-21&fdate=2023-01-22\n",
      "Fetching data from http://montreal.icea.decea.mil.br:5002/api/v1/bimtra?token=a779d04f85c4bf6cfa586d30aaec57c44e9b7173&idate=2023-01-22&fdate=2023-01-23\n",
      "Fetching data from http://montreal.icea.decea.mil.br:5002/api/v1/bimtra?token=a779d04f85c4bf6cfa586d30aaec57c44e9b7173&idate=2023-01-23&fdate=2023-01-24\n",
      "Fetching data from http://montreal.icea.decea.mil.br:5002/api/v1/bimtra?token=a779d04f85c4bf6cfa586d30aaec57c44e9b7173&idate=2023-01-24&fdate=2023-01-25\n",
      "Fetching data from http://montreal.icea.decea.mil.br:5002/api/v1/bimtra?token=a779d04f85c4bf6cfa586d30aaec57c44e9b7173&idate=2023-01-25&fdate=2023-01-26\n",
      "Fetching data from http://montreal.icea.decea.mil.br:5002/api/v1/bimtra?token=a779d04f85c4bf6cfa586d30aaec57c44e9b7173&idate=2023-01-26&fdate=2023-01-27\n",
      "Fetching data from http://montreal.icea.decea.mil.br:5002/api/v1/bimtra?token=a779d04f85c4bf6cfa586d30aaec57c44e9b7173&idate=2023-01-27&fdate=2023-01-28\n",
      "Fetching data from http://montreal.icea.decea.mil.br:5002/api/v1/bimtra?token=a779d04f85c4bf6cfa586d30aaec57c44e9b7173&idate=2023-01-28&fdate=2023-01-29\n",
      "Fetching data from http://montreal.icea.decea.mil.br:5002/api/v1/bimtra?token=a779d04f85c4bf6cfa586d30aaec57c44e9b7173&idate=2023-01-29&fdate=2023-01-30\n",
      "Fetching data from http://montreal.icea.decea.mil.br:5002/api/v1/bimtra?token=a779d04f85c4bf6cfa586d30aaec57c44e9b7173&idate=2023-01-30&fdate=2023-01-31\n"
     ]
    },
    {
     "name": "stderr",
     "output_type": "stream",
     "text": [
      "Carregando dados de bimtra, Parte 3:  47%|████▋     | 50/106 [00:00<00:00, 233.69it/s]"
     ]
    },
    {
     "name": "stdout",
     "output_type": "stream",
     "text": [
      "Fetching data from http://montreal.icea.decea.mil.br:5002/api/v1/bimtra?token=a779d04f85c4bf6cfa586d30aaec57c44e9b7173&idate=2023-01-31&fdate=2023-02-01Fetching data from http://montreal.icea.decea.mil.br:5002/api/v1/bimtra?token=a779d04f85c4bf6cfa586d30aaec57c44e9b7173&idate=2023-02-01&fdate=2023-02-02\n",
      "Fetching data from http://montreal.icea.decea.mil.br:5002/api/v1/bimtra?token=a779d04f85c4bf6cfa586d30aaec57c44e9b7173&idate=2023-02-02&fdate=2023-02-03\n",
      "\n",
      "Fetching data from http://montreal.icea.decea.mil.br:5002/api/v1/bimtra?token=a779d04f85c4bf6cfa586d30aaec57c44e9b7173&idate=2023-02-03&fdate=2023-02-04\n",
      "Fetching data from http://montreal.icea.decea.mil.br:5002/api/v1/bimtra?token=a779d04f85c4bf6cfa586d30aaec57c44e9b7173&idate=2023-02-04&fdate=2023-02-05\n",
      "Fetching data from http://montreal.icea.decea.mil.br:5002/api/v1/bimtra?token=a779d04f85c4bf6cfa586d30aaec57c44e9b7173&idate=2023-02-05&fdate=2023-02-06\n",
      "Fetching data from http://montreal.icea.decea.mil.br:5002/api/v1/bimtra?token=a779d04f85c4bf6cfa586d30aaec57c44e9b7173&idate=2023-02-06&fdate=2023-02-07\n",
      "Fetching data from http://montreal.icea.decea.mil.br:5002/api/v1/bimtra?token=a779d04f85c4bf6cfa586d30aaec57c44e9b7173&idate=2023-02-07&fdate=2023-02-08\n",
      "Fetching data from http://montreal.icea.decea.mil.br:5002/api/v1/bimtra?token=a779d04f85c4bf6cfa586d30aaec57c44e9b7173&idate=2023-02-08&fdate=2023-02-09\n",
      "Fetching data from http://montreal.icea.decea.mil.br:5002/api/v1/bimtra?token=a779d04f85c4bf6cfa586d30aaec57c44e9b7173&idate=2023-02-09&fdate=2023-02-10\n",
      "Fetching data from http://montreal.icea.decea.mil.br:5002/api/v1/bimtra?token=a779d04f85c4bf6cfa586d30aaec57c44e9b7173&idate=2023-02-10&fdate=2023-02-11\n",
      "Fetching data from http://montreal.icea.decea.mil.br:5002/api/v1/bimtra?token=a779d04f85c4bf6cfa586d30aaec57c44e9b7173&idate=2023-02-11&fdate=2023-02-12\n",
      "Fetching data from http://montreal.icea.decea.mil.br:5002/api/v1/bimtra?token=a779d04f85c4bf6cfa586d30aaec57c44e9b7173&idate=2023-02-12&fdate=2023-02-13\n",
      "Fetching data from http://montreal.icea.decea.mil.br:5002/api/v1/bimtra?token=a779d04f85c4bf6cfa586d30aaec57c44e9b7173&idate=2023-02-13&fdate=2023-02-14\n",
      "Fetching data from http://montreal.icea.decea.mil.br:5002/api/v1/bimtra?token=a779d04f85c4bf6cfa586d30aaec57c44e9b7173&idate=2023-02-14&fdate=2023-02-15\n",
      "Fetching data from http://montreal.icea.decea.mil.br:5002/api/v1/bimtra?token=a779d04f85c4bf6cfa586d30aaec57c44e9b7173&idate=2023-02-15&fdate=2023-02-16\n",
      "Fetching data from http://montreal.icea.decea.mil.br:5002/api/v1/bimtra?token=a779d04f85c4bf6cfa586d30aaec57c44e9b7173&idate=2023-02-16&fdate=2023-02-17\n",
      "Fetching data from http://montreal.icea.decea.mil.br:5002/api/v1/bimtra?token=a779d04f85c4bf6cfa586d30aaec57c44e9b7173&idate=2023-02-17&fdate=2023-02-18\n",
      "Fetching data from http://montreal.icea.decea.mil.br:5002/api/v1/bimtra?token=a779d04f85c4bf6cfa586d30aaec57c44e9b7173&idate=2023-02-18&fdate=2023-02-19\n",
      "Fetching data from http://montreal.icea.decea.mil.br:5002/api/v1/bimtra?token=a779d04f85c4bf6cfa586d30aaec57c44e9b7173&idate=2023-02-19&fdate=2023-02-20\n",
      "Fetching data from http://montreal.icea.decea.mil.br:5002/api/v1/bimtra?token=a779d04f85c4bf6cfa586d30aaec57c44e9b7173&idate=2023-02-20&fdate=2023-02-21\n",
      "Fetching data from http://montreal.icea.decea.mil.br:5002/api/v1/bimtra?token=a779d04f85c4bf6cfa586d30aaec57c44e9b7173&idate=2023-02-21&fdate=2023-02-22\n",
      "Fetching data from http://montreal.icea.decea.mil.br:5002/api/v1/bimtra?token=a779d04f85c4bf6cfa586d30aaec57c44e9b7173&idate=2023-02-22&fdate=2023-02-23\n",
      "Fetching data from http://montreal.icea.decea.mil.br:5002/api/v1/bimtra?token=a779d04f85c4bf6cfa586d30aaec57c44e9b7173&idate=2023-02-23&fdate=2023-02-24\n",
      "Fetching data from http://montreal.icea.decea.mil.br:5002/api/v1/bimtra?token=a779d04f85c4bf6cfa586d30aaec57c44e9b7173&idate=2023-02-24&fdate=2023-02-25\n",
      "Fetching data from http://montreal.icea.decea.mil.br:5002/api/v1/bimtra?token=a779d04f85c4bf6cfa586d30aaec57c44e9b7173&idate=2023-02-25&fdate=2023-02-26\n",
      "Fetching data from http://montreal.icea.decea.mil.br:5002/api/v1/bimtra?token=a779d04f85c4bf6cfa586d30aaec57c44e9b7173&idate=2023-02-26&fdate=2023-02-27\n"
     ]
    },
    {
     "name": "stderr",
     "output_type": "stream",
     "text": [
      "Carregando dados de bimtra, Parte 3:  76%|███████▋  | 81/106 [00:00<00:00, 253.36it/s]"
     ]
    },
    {
     "name": "stdout",
     "output_type": "stream",
     "text": [
      "Fetching data from http://montreal.icea.decea.mil.br:5002/api/v1/bimtra?token=a779d04f85c4bf6cfa586d30aaec57c44e9b7173&idate=2023-02-27&fdate=2023-02-28\n",
      "Fetching data from http://montreal.icea.decea.mil.br:5002/api/v1/bimtra?token=a779d04f85c4bf6cfa586d30aaec57c44e9b7173&idate=2023-02-28&fdate=2023-03-01\n",
      "Fetching data from http://montreal.icea.decea.mil.br:5002/api/v1/bimtra?token=a779d04f85c4bf6cfa586d30aaec57c44e9b7173&idate=2023-03-01&fdate=2023-03-02\n",
      "Fetching data from http://montreal.icea.decea.mil.br:5002/api/v1/bimtra?token=a779d04f85c4bf6cfa586d30aaec57c44e9b7173&idate=2023-03-02&fdate=2023-03-03\n",
      "Fetching data from http://montreal.icea.decea.mil.br:5002/api/v1/bimtra?token=a779d04f85c4bf6cfa586d30aaec57c44e9b7173&idate=2023-03-03&fdate=2023-03-04\n",
      "Fetching data from http://montreal.icea.decea.mil.br:5002/api/v1/bimtra?token=a779d04f85c4bf6cfa586d30aaec57c44e9b7173&idate=2023-03-04&fdate=2023-03-05\n",
      "Fetching data from http://montreal.icea.decea.mil.br:5002/api/v1/bimtra?token=a779d04f85c4bf6cfa586d30aaec57c44e9b7173&idate=2023-03-05&fdate=2023-03-06\n",
      "Fetching data from http://montreal.icea.decea.mil.br:5002/api/v1/bimtra?token=a779d04f85c4bf6cfa586d30aaec57c44e9b7173&idate=2023-03-06&fdate=2023-03-07\n",
      "Fetching data from http://montreal.icea.decea.mil.br:5002/api/v1/bimtra?token=a779d04f85c4bf6cfa586d30aaec57c44e9b7173&idate=2023-03-07&fdate=2023-03-08\n",
      "Fetching data from http://montreal.icea.decea.mil.br:5002/api/v1/bimtra?token=a779d04f85c4bf6cfa586d30aaec57c44e9b7173&idate=2023-03-08&fdate=2023-03-09\n",
      "Fetching data from http://montreal.icea.decea.mil.br:5002/api/v1/bimtra?token=a779d04f85c4bf6cfa586d30aaec57c44e9b7173&idate=2023-03-09&fdate=2023-03-10\n",
      "Fetching data from http://montreal.icea.decea.mil.br:5002/api/v1/bimtra?token=a779d04f85c4bf6cfa586d30aaec57c44e9b7173&idate=2023-03-10&fdate=2023-03-11\n",
      "Fetching data from http://montreal.icea.decea.mil.br:5002/api/v1/bimtra?token=a779d04f85c4bf6cfa586d30aaec57c44e9b7173&idate=2023-03-11&fdate=2023-03-12\n",
      "Fetching data from http://montreal.icea.decea.mil.br:5002/api/v1/bimtra?token=a779d04f85c4bf6cfa586d30aaec57c44e9b7173&idate=2023-03-12&fdate=2023-03-13\n",
      "Fetching data from http://montreal.icea.decea.mil.br:5002/api/v1/bimtra?token=a779d04f85c4bf6cfa586d30aaec57c44e9b7173&idate=2023-03-13&fdate=2023-03-14\n",
      "Fetching data from http://montreal.icea.decea.mil.br:5002/api/v1/bimtra?token=a779d04f85c4bf6cfa586d30aaec57c44e9b7173&idate=2023-03-14&fdate=2023-03-15\n"
     ]
    },
    {
     "name": "stderr",
     "output_type": "stream",
     "text": [
      "Carregando dados de bimtra, Parte 3: 100%|██████████| 106/106 [00:00<00:00, 245.89it/s]\n"
     ]
    },
    {
     "name": "stdout",
     "output_type": "stream",
     "text": [
      "Dados de bimtra salvos em bimtra_part_3.csv\n",
      "Processando parte 4/4\n",
      "Fetching data from http://montreal.icea.decea.mil.br:5002/api/v1/bimtra?token=a779d04f85c4bf6cfa586d30aaec57c44e9b7173&idate=2023-03-15&fdate=2023-03-16\n",
      "Fetching data from http://montreal.icea.decea.mil.br:5002/api/v1/bimtra?token=a779d04f85c4bf6cfa586d30aaec57c44e9b7173&idate=2023-03-16&fdate=2023-03-17\n",
      "Fetching data from http://montreal.icea.decea.mil.br:5002/api/v1/bimtra?token=a779d04f85c4bf6cfa586d30aaec57c44e9b7173&idate=2023-03-17&fdate=2023-03-18\n",
      "Fetching data from http://montreal.icea.decea.mil.br:5002/api/v1/bimtra?token=a779d04f85c4bf6cfa586d30aaec57c44e9b7173&idate=2023-03-18&fdate=2023-03-19\n",
      "Fetching data from http://montreal.icea.decea.mil.br:5002/api/v1/bimtra?token=a779d04f85c4bf6cfa586d30aaec57c44e9b7173&idate=2023-03-19&fdate=2023-03-20\n",
      "Fetching data from http://montreal.icea.decea.mil.br:5002/api/v1/bimtra?token=a779d04f85c4bf6cfa586d30aaec57c44e9b7173&idate=2023-03-20&fdate=2023-03-21\n",
      "Fetching data from http://montreal.icea.decea.mil.br:5002/api/v1/bimtra?token=a779d04f85c4bf6cfa586d30aaec57c44e9b7173&idate=2023-03-21&fdate=2023-03-22\n",
      "Fetching data from http://montreal.icea.decea.mil.br:5002/api/v1/bimtra?token=a779d04f85c4bf6cfa586d30aaec57c44e9b7173&idate=2023-03-22&fdate=2023-03-23\n",
      "Fetching data from http://montreal.icea.decea.mil.br:5002/api/v1/bimtra?token=a779d04f85c4bf6cfa586d30aaec57c44e9b7173&idate=2023-03-23&fdate=2023-03-24\n",
      "Fetching data from http://montreal.icea.decea.mil.br:5002/api/v1/bimtra?token=a779d04f85c4bf6cfa586d30aaec57c44e9b7173&idate=2023-03-24&fdate=2023-03-25\n"
     ]
    },
    {
     "name": "stderr",
     "output_type": "stream",
     "text": [
      "Carregando dados de bimtra, Parte 4:   0%|          | 0/109 [00:00<?, ?it/s]"
     ]
    },
    {
     "name": "stdout",
     "output_type": "stream",
     "text": [
      "Fetching data from http://montreal.icea.decea.mil.br:5002/api/v1/bimtra?token=a779d04f85c4bf6cfa586d30aaec57c44e9b7173&idate=2023-03-25&fdate=2023-03-26\n",
      "Fetching data from http://montreal.icea.decea.mil.br:5002/api/v1/bimtra?token=a779d04f85c4bf6cfa586d30aaec57c44e9b7173&idate=2023-03-26&fdate=2023-03-27\n",
      "Fetching data from http://montreal.icea.decea.mil.br:5002/api/v1/bimtra?token=a779d04f85c4bf6cfa586d30aaec57c44e9b7173&idate=2023-03-27&fdate=2023-03-28\n",
      "Fetching data from http://montreal.icea.decea.mil.br:5002/api/v1/bimtra?token=a779d04f85c4bf6cfa586d30aaec57c44e9b7173&idate=2023-03-28&fdate=2023-03-29\n",
      "Fetching data from http://montreal.icea.decea.mil.br:5002/api/v1/bimtra?token=a779d04f85c4bf6cfa586d30aaec57c44e9b7173&idate=2023-03-29&fdate=2023-03-30\n",
      "Fetching data from http://montreal.icea.decea.mil.br:5002/api/v1/bimtra?token=a779d04f85c4bf6cfa586d30aaec57c44e9b7173&idate=2023-03-30&fdate=2023-03-31\n",
      "Fetching data from http://montreal.icea.decea.mil.br:5002/api/v1/bimtra?token=a779d04f85c4bf6cfa586d30aaec57c44e9b7173&idate=2023-03-31&fdate=2023-04-01\n",
      "Fetching data from http://montreal.icea.decea.mil.br:5002/api/v1/bimtra?token=a779d04f85c4bf6cfa586d30aaec57c44e9b7173&idate=2023-04-01&fdate=2023-04-02\n",
      "Fetching data from http://montreal.icea.decea.mil.br:5002/api/v1/bimtra?token=a779d04f85c4bf6cfa586d30aaec57c44e9b7173&idate=2023-04-02&fdate=2023-04-03\n",
      "Fetching data from http://montreal.icea.decea.mil.br:5002/api/v1/bimtra?token=a779d04f85c4bf6cfa586d30aaec57c44e9b7173&idate=2023-04-03&fdate=2023-04-04\n"
     ]
    },
    {
     "name": "stderr",
     "output_type": "stream",
     "text": [
      "Carregando dados de bimtra, Parte 4:  21%|██        | 23/109 [00:00<00:00, 215.70it/s]"
     ]
    },
    {
     "name": "stdout",
     "output_type": "stream",
     "text": [
      "Fetching data from http://montreal.icea.decea.mil.br:5002/api/v1/bimtra?token=a779d04f85c4bf6cfa586d30aaec57c44e9b7173&idate=2023-04-04&fdate=2023-04-05\n",
      "Fetching data from http://montreal.icea.decea.mil.br:5002/api/v1/bimtra?token=a779d04f85c4bf6cfa586d30aaec57c44e9b7173&idate=2023-04-05&fdate=2023-04-06\n",
      "Fetching data from http://montreal.icea.decea.mil.br:5002/api/v1/bimtra?token=a779d04f85c4bf6cfa586d30aaec57c44e9b7173&idate=2023-04-06&fdate=2023-04-07\n",
      "Fetching data from http://montreal.icea.decea.mil.br:5002/api/v1/bimtra?token=a779d04f85c4bf6cfa586d30aaec57c44e9b7173&idate=2023-04-07&fdate=2023-04-08\n",
      "Fetching data from http://montreal.icea.decea.mil.br:5002/api/v1/bimtra?token=a779d04f85c4bf6cfa586d30aaec57c44e9b7173&idate=2023-04-08&fdate=2023-04-09\n",
      "Fetching data from http://montreal.icea.decea.mil.br:5002/api/v1/bimtra?token=a779d04f85c4bf6cfa586d30aaec57c44e9b7173&idate=2023-04-09&fdate=2023-04-10\n",
      "Fetching data from http://montreal.icea.decea.mil.br:5002/api/v1/bimtra?token=a779d04f85c4bf6cfa586d30aaec57c44e9b7173&idate=2023-04-10&fdate=2023-04-11\n",
      "Fetching data from http://montreal.icea.decea.mil.br:5002/api/v1/bimtra?token=a779d04f85c4bf6cfa586d30aaec57c44e9b7173&idate=2023-04-11&fdate=2023-04-12\n",
      "Fetching data from http://montreal.icea.decea.mil.br:5002/api/v1/bimtra?token=a779d04f85c4bf6cfa586d30aaec57c44e9b7173&idate=2023-04-12&fdate=2023-04-13\n",
      "Fetching data from http://montreal.icea.decea.mil.br:5002/api/v1/bimtra?token=a779d04f85c4bf6cfa586d30aaec57c44e9b7173&idate=2023-04-13&fdate=2023-04-14\n",
      "Fetching data from http://montreal.icea.decea.mil.br:5002/api/v1/bimtra?token=a779d04f85c4bf6cfa586d30aaec57c44e9b7173&idate=2023-04-14&fdate=2023-04-15\n",
      "Fetching data from http://montreal.icea.decea.mil.br:5002/api/v1/bimtra?token=a779d04f85c4bf6cfa586d30aaec57c44e9b7173&idate=2023-04-15&fdate=2023-04-16\n",
      "Fetching data from http://montreal.icea.decea.mil.br:5002/api/v1/bimtra?token=a779d04f85c4bf6cfa586d30aaec57c44e9b7173&idate=2023-04-16&fdate=2023-04-17\n",
      "Fetching data from http://montreal.icea.decea.mil.br:5002/api/v1/bimtra?token=a779d04f85c4bf6cfa586d30aaec57c44e9b7173&idate=2023-04-17&fdate=2023-04-18\n",
      "Fetching data from http://montreal.icea.decea.mil.br:5002/api/v1/bimtra?token=a779d04f85c4bf6cfa586d30aaec57c44e9b7173&idate=2023-04-18&fdate=2023-04-19\n",
      "Fetching data from http://montreal.icea.decea.mil.br:5002/api/v1/bimtra?token=a779d04f85c4bf6cfa586d30aaec57c44e9b7173&idate=2023-04-19&fdate=2023-04-20\n",
      "Fetching data from http://montreal.icea.decea.mil.br:5002/api/v1/bimtra?token=a779d04f85c4bf6cfa586d30aaec57c44e9b7173&idate=2023-04-20&fdate=2023-04-21\n",
      "Fetching data from http://montreal.icea.decea.mil.br:5002/api/v1/bimtra?token=a779d04f85c4bf6cfa586d30aaec57c44e9b7173&idate=2023-04-21&fdate=2023-04-22\n",
      "Fetching data from http://montreal.icea.decea.mil.br:5002/api/v1/bimtra?token=a779d04f85c4bf6cfa586d30aaec57c44e9b7173&idate=2023-04-22&fdate=2023-04-23\n",
      "Fetching data from http://montreal.icea.decea.mil.br:5002/api/v1/bimtra?token=a779d04f85c4bf6cfa586d30aaec57c44e9b7173&idate=2023-04-23&fdate=2023-04-24\n",
      "Fetching data from http://montreal.icea.decea.mil.br:5002/api/v1/bimtra?token=a779d04f85c4bf6cfa586d30aaec57c44e9b7173&idate=2023-04-24&fdate=2023-04-25\n",
      "Fetching data from http://montreal.icea.decea.mil.br:5002/api/v1/bimtra?token=a779d04f85c4bf6cfa586d30aaec57c44e9b7173&idate=2023-04-25&fdate=2023-04-26\n",
      "Fetching data from http://montreal.icea.decea.mil.br:5002/api/v1/bimtra?token=a779d04f85c4bf6cfa586d30aaec57c44e9b7173&idate=2023-04-26&fdate=2023-04-27\n",
      "Fetching data from http://montreal.icea.decea.mil.br:5002/api/v1/bimtra?token=a779d04f85c4bf6cfa586d30aaec57c44e9b7173&idate=2023-04-27&fdate=2023-04-28\n",
      "Fetching data from http://montreal.icea.decea.mil.br:5002/api/v1/bimtra?token=a779d04f85c4bf6cfa586d30aaec57c44e9b7173&idate=2023-04-28&fdate=2023-04-29\n"
     ]
    },
    {
     "name": "stderr",
     "output_type": "stream",
     "text": [
      "Carregando dados de bimtra, Parte 4:  41%|████▏     | 45/109 [00:00<00:00, 212.52it/s]"
     ]
    },
    {
     "name": "stdout",
     "output_type": "stream",
     "text": [
      "Fetching data from http://montreal.icea.decea.mil.br:5002/api/v1/bimtra?token=a779d04f85c4bf6cfa586d30aaec57c44e9b7173&idate=2023-04-29&fdate=2023-04-30\n",
      "Fetching data from http://montreal.icea.decea.mil.br:5002/api/v1/bimtra?token=a779d04f85c4bf6cfa586d30aaec57c44e9b7173&idate=2023-04-30&fdate=2023-05-01\n",
      "Fetching data from http://montreal.icea.decea.mil.br:5002/api/v1/bimtra?token=a779d04f85c4bf6cfa586d30aaec57c44e9b7173&idate=2023-05-01&fdate=2023-05-02\n",
      "Fetching data from http://montreal.icea.decea.mil.br:5002/api/v1/bimtra?token=a779d04f85c4bf6cfa586d30aaec57c44e9b7173&idate=2023-05-02&fdate=2023-05-03\n",
      "Fetching data from http://montreal.icea.decea.mil.br:5002/api/v1/bimtra?token=a779d04f85c4bf6cfa586d30aaec57c44e9b7173&idate=2023-05-03&fdate=2023-05-04\n",
      "Fetching data from http://montreal.icea.decea.mil.br:5002/api/v1/bimtra?token=a779d04f85c4bf6cfa586d30aaec57c44e9b7173&idate=2023-05-04&fdate=2023-05-05\n",
      "Fetching data from http://montreal.icea.decea.mil.br:5002/api/v1/bimtra?token=a779d04f85c4bf6cfa586d30aaec57c44e9b7173&idate=2023-05-05&fdate=2023-05-06\n",
      "Fetching data from http://montreal.icea.decea.mil.br:5002/api/v1/bimtra?token=a779d04f85c4bf6cfa586d30aaec57c44e9b7173&idate=2023-05-06&fdate=2023-05-07\n",
      "Fetching data from http://montreal.icea.decea.mil.br:5002/api/v1/bimtra?token=a779d04f85c4bf6cfa586d30aaec57c44e9b7173&idate=2023-05-07&fdate=2023-05-08\n",
      "Fetching data from http://montreal.icea.decea.mil.br:5002/api/v1/bimtra?token=a779d04f85c4bf6cfa586d30aaec57c44e9b7173&idate=2023-05-08&fdate=2023-05-09\n",
      "Fetching data from http://montreal.icea.decea.mil.br:5002/api/v1/bimtra?token=a779d04f85c4bf6cfa586d30aaec57c44e9b7173&idate=2023-05-09&fdate=2023-05-10\n",
      "Fetching data from http://montreal.icea.decea.mil.br:5002/api/v1/bimtra?token=a779d04f85c4bf6cfa586d30aaec57c44e9b7173&idate=2023-05-10&fdate=2023-05-11\n",
      "Fetching data from http://montreal.icea.decea.mil.br:5002/api/v1/bimtra?token=a779d04f85c4bf6cfa586d30aaec57c44e9b7173&idate=2023-05-11&fdate=2023-05-12\n",
      "Fetching data from http://montreal.icea.decea.mil.br:5002/api/v1/bimtra?token=a779d04f85c4bf6cfa586d30aaec57c44e9b7173&idate=2023-05-12&fdate=2023-05-13\n",
      "Fetching data from http://montreal.icea.decea.mil.br:5002/api/v1/bimtra?token=a779d04f85c4bf6cfa586d30aaec57c44e9b7173&idate=2023-05-13&fdate=2023-05-14Fetching data from http://montreal.icea.decea.mil.br:5002/api/v1/bimtra?token=a779d04f85c4bf6cfa586d30aaec57c44e9b7173&idate=2023-05-14&fdate=2023-05-15\n",
      "Fetching data from http://montreal.icea.decea.mil.br:5002/api/v1/bimtra?token=a779d04f85c4bf6cfa586d30aaec57c44e9b7173&idate=2023-05-15&fdate=2023-05-16\n",
      "\n",
      "Fetching data from http://montreal.icea.decea.mil.br:5002/api/v1/bimtra?token=a779d04f85c4bf6cfa586d30aaec57c44e9b7173&idate=2023-05-16&fdate=2023-05-17\n",
      "Fetching data from http://montreal.icea.decea.mil.br:5002/api/v1/bimtra?token=a779d04f85c4bf6cfa586d30aaec57c44e9b7173&idate=2023-05-17&fdate=2023-05-18\n",
      "Fetching data from http://montreal.icea.decea.mil.br:5002/api/v1/bimtra?token=a779d04f85c4bf6cfa586d30aaec57c44e9b7173&idate=2023-05-18&fdate=2023-05-19\n",
      "Fetching data from http://montreal.icea.decea.mil.br:5002/api/v1/bimtra?token=a779d04f85c4bf6cfa586d30aaec57c44e9b7173&idate=2023-05-19&fdate=2023-05-20\n",
      "Fetching data from http://montreal.icea.decea.mil.br:5002/api/v1/bimtra?token=a779d04f85c4bf6cfa586d30aaec57c44e9b7173&idate=2023-05-20&fdate=2023-05-21\n",
      "Fetching data from http://montreal.icea.decea.mil.br:5002/api/v1/bimtra?token=a779d04f85c4bf6cfa586d30aaec57c44e9b7173&idate=2023-05-21&fdate=2023-05-22\n"
     ]
    },
    {
     "name": "stderr",
     "output_type": "stream",
     "text": [
      "Carregando dados de bimtra, Parte 4:  64%|██████▍   | 70/109 [00:00<00:00, 222.30it/s]"
     ]
    },
    {
     "name": "stdout",
     "output_type": "stream",
     "text": [
      "Fetching data from http://montreal.icea.decea.mil.br:5002/api/v1/bimtra?token=a779d04f85c4bf6cfa586d30aaec57c44e9b7173&idate=2023-05-22&fdate=2023-05-23Fetching data from http://montreal.icea.decea.mil.br:5002/api/v1/bimtra?token=a779d04f85c4bf6cfa586d30aaec57c44e9b7173&idate=2023-05-23&fdate=2023-05-24\n",
      "\n",
      "Fetching data from http://montreal.icea.decea.mil.br:5002/api/v1/bimtra?token=a779d04f85c4bf6cfa586d30aaec57c44e9b7173&idate=2023-05-24&fdate=2023-05-25\n",
      "Fetching data from http://montreal.icea.decea.mil.br:5002/api/v1/bimtra?token=a779d04f85c4bf6cfa586d30aaec57c44e9b7173&idate=2023-05-25&fdate=2023-05-26\n",
      "Fetching data from http://montreal.icea.decea.mil.br:5002/api/v1/bimtra?token=a779d04f85c4bf6cfa586d30aaec57c44e9b7173&idate=2023-05-26&fdate=2023-05-27\n",
      "Fetching data from http://montreal.icea.decea.mil.br:5002/api/v1/bimtra?token=a779d04f85c4bf6cfa586d30aaec57c44e9b7173&idate=2023-05-27&fdate=2023-05-28\n",
      "Fetching data from http://montreal.icea.decea.mil.br:5002/api/v1/bimtra?token=a779d04f85c4bf6cfa586d30aaec57c44e9b7173&idate=2023-05-28&fdate=2023-05-29\n",
      "Fetching data from http://montreal.icea.decea.mil.br:5002/api/v1/bimtra?token=a779d04f85c4bf6cfa586d30aaec57c44e9b7173&idate=2023-05-29&fdate=2023-05-30\n",
      "Fetching data from http://montreal.icea.decea.mil.br:5002/api/v1/bimtra?token=a779d04f85c4bf6cfa586d30aaec57c44e9b7173&idate=2023-05-30&fdate=2023-05-31\n",
      "Fetching data from http://montreal.icea.decea.mil.br:5002/api/v1/bimtra?token=a779d04f85c4bf6cfa586d30aaec57c44e9b7173&idate=2023-05-31&fdate=2023-06-01\n",
      "Fetching data from http://montreal.icea.decea.mil.br:5002/api/v1/bimtra?token=a779d04f85c4bf6cfa586d30aaec57c44e9b7173&idate=2023-06-01&fdate=2023-06-02\n",
      "Fetching data from http://montreal.icea.decea.mil.br:5002/api/v1/bimtra?token=a779d04f85c4bf6cfa586d30aaec57c44e9b7173&idate=2023-06-02&fdate=2023-06-03\n",
      "Fetching data from http://montreal.icea.decea.mil.br:5002/api/v1/bimtra?token=a779d04f85c4bf6cfa586d30aaec57c44e9b7173&idate=2023-06-03&fdate=2023-06-04\n",
      "Fetching data from http://montreal.icea.decea.mil.br:5002/api/v1/bimtra?token=a779d04f85c4bf6cfa586d30aaec57c44e9b7173&idate=2023-06-04&fdate=2023-06-05\n",
      "Fetching data from http://montreal.icea.decea.mil.br:5002/api/v1/bimtra?token=a779d04f85c4bf6cfa586d30aaec57c44e9b7173&idate=2023-06-05&fdate=2023-06-06\n",
      "Fetching data from http://montreal.icea.decea.mil.br:5002/api/v1/bimtra?token=a779d04f85c4bf6cfa586d30aaec57c44e9b7173&idate=2023-06-06&fdate=2023-06-07\n",
      "Fetching data from http://montreal.icea.decea.mil.br:5002/api/v1/bimtra?token=a779d04f85c4bf6cfa586d30aaec57c44e9b7173&idate=2023-06-07&fdate=2023-06-08\n",
      "Fetching data from http://montreal.icea.decea.mil.br:5002/api/v1/bimtra?token=a779d04f85c4bf6cfa586d30aaec57c44e9b7173&idate=2023-06-08&fdate=2023-06-09\n",
      "Fetching data from http://montreal.icea.decea.mil.br:5002/api/v1/bimtra?token=a779d04f85c4bf6cfa586d30aaec57c44e9b7173&idate=2023-06-09&fdate=2023-06-10\n",
      "Fetching data from http://montreal.icea.decea.mil.br:5002/api/v1/bimtra?token=a779d04f85c4bf6cfa586d30aaec57c44e9b7173&idate=2023-06-10&fdate=2023-06-11\n",
      "Fetching data from http://montreal.icea.decea.mil.br:5002/api/v1/bimtra?token=a779d04f85c4bf6cfa586d30aaec57c44e9b7173&idate=2023-06-11&fdate=2023-06-12\n",
      "Fetching data from http://montreal.icea.decea.mil.br:5002/api/v1/bimtra?token=a779d04f85c4bf6cfa586d30aaec57c44e9b7173&idate=2023-06-12&fdate=2023-06-13\n",
      "Fetching data from http://montreal.icea.decea.mil.br:5002/api/v1/bimtra?token=a779d04f85c4bf6cfa586d30aaec57c44e9b7173&idate=2023-06-13&fdate=2023-06-14\n",
      "Fetching data from http://montreal.icea.decea.mil.br:5002/api/v1/bimtra?token=a779d04f85c4bf6cfa586d30aaec57c44e9b7173&idate=2023-06-14&fdate=2023-06-15\n",
      "Fetching data from http://montreal.icea.decea.mil.br:5002/api/v1/bimtra?token=a779d04f85c4bf6cfa586d30aaec57c44e9b7173&idate=2023-06-15&fdate=2023-06-16\n",
      "Fetching data from http://montreal.icea.decea.mil.br:5002/api/v1/bimtra?token=a779d04f85c4bf6cfa586d30aaec57c44e9b7173&idate=2023-06-16&fdate=2023-06-17\n",
      "Fetching data from http://montreal.icea.decea.mil.br:5002/api/v1/bimtra?token=a779d04f85c4bf6cfa586d30aaec57c44e9b7173&idate=2023-06-17&fdate=2023-06-18\n"
     ]
    },
    {
     "name": "stderr",
     "output_type": "stream",
     "text": [
      "Carregando dados de bimtra, Parte 4:  88%|████████▊ | 96/109 [00:00<00:00, 226.36it/s]"
     ]
    },
    {
     "name": "stdout",
     "output_type": "stream",
     "text": [
      "Fetching data from http://montreal.icea.decea.mil.br:5002/api/v1/bimtra?token=a779d04f85c4bf6cfa586d30aaec57c44e9b7173&idate=2023-06-18&fdate=2023-06-19Fetching data from http://montreal.icea.decea.mil.br:5002/api/v1/bimtra?token=a779d04f85c4bf6cfa586d30aaec57c44e9b7173&idate=2023-06-19&fdate=2023-06-20\n",
      "Fetching data from http://montreal.icea.decea.mil.br:5002/api/v1/bimtra?token=a779d04f85c4bf6cfa586d30aaec57c44e9b7173&idate=2023-06-20&fdate=2023-06-21\n",
      "\n",
      "Fetching data from http://montreal.icea.decea.mil.br:5002/api/v1/bimtra?token=a779d04f85c4bf6cfa586d30aaec57c44e9b7173&idate=2023-06-21&fdate=2023-06-22\n",
      "Fetching data from http://montreal.icea.decea.mil.br:5002/api/v1/bimtra?token=a779d04f85c4bf6cfa586d30aaec57c44e9b7173&idate=2023-06-22&fdate=2023-06-23\n",
      "Fetching data from http://montreal.icea.decea.mil.br:5002/api/v1/bimtra?token=a779d04f85c4bf6cfa586d30aaec57c44e9b7173&idate=2023-06-23&fdate=2023-06-24\n",
      "Fetching data from http://montreal.icea.decea.mil.br:5002/api/v1/bimtra?token=a779d04f85c4bf6cfa586d30aaec57c44e9b7173&idate=2023-06-24&fdate=2023-06-25\n",
      "Fetching data from http://montreal.icea.decea.mil.br:5002/api/v1/bimtra?token=a779d04f85c4bf6cfa586d30aaec57c44e9b7173&idate=2023-06-25&fdate=2023-06-26\n",
      "Fetching data from http://montreal.icea.decea.mil.br:5002/api/v1/bimtra?token=a779d04f85c4bf6cfa586d30aaec57c44e9b7173&idate=2023-06-26&fdate=2023-06-27\n",
      "Fetching data from http://montreal.icea.decea.mil.br:5002/api/v1/bimtra?token=a779d04f85c4bf6cfa586d30aaec57c44e9b7173&idate=2023-06-27&fdate=2023-06-28\n",
      "Fetching data from http://montreal.icea.decea.mil.br:5002/api/v1/bimtra?token=a779d04f85c4bf6cfa586d30aaec57c44e9b7173&idate=2023-06-28&fdate=2023-06-29\n",
      "Fetching data from http://montreal.icea.decea.mil.br:5002/api/v1/bimtra?token=a779d04f85c4bf6cfa586d30aaec57c44e9b7173&idate=2023-06-29&fdate=2023-06-30\n",
      "Fetching data from http://montreal.icea.decea.mil.br:5002/api/v1/bimtra?token=a779d04f85c4bf6cfa586d30aaec57c44e9b7173&idate=2023-06-30&fdate=2023-07-01\n",
      "Fetching data from http://montreal.icea.decea.mil.br:5002/api/v1/bimtra?token=a779d04f85c4bf6cfa586d30aaec57c44e9b7173&idate=2023-07-01&fdate=2023-07-02\n"
     ]
    },
    {
     "name": "stderr",
     "output_type": "stream",
     "text": [
      "Carregando dados de bimtra, Parte 4: 100%|██████████| 109/109 [00:00<00:00, 232.10it/s]\n"
     ]
    },
    {
     "name": "stdout",
     "output_type": "stream",
     "text": [
      "Dados de bimtra salvos em bimtra_part_4.csv\n",
      "Processando tc-real\n",
      "Processando parte 1/4\n",
      "Fetching data from http://montreal.icea.decea.mil.br:5002/api/v1/tc-real?token=a779d04f85c4bf6cfa586d30aaec57c44e9b7173&idate=2022-05-01&fdate=2022-05-02\n",
      "Fetching data from http://montreal.icea.decea.mil.br:5002/api/v1/tc-real?token=a779d04f85c4bf6cfa586d30aaec57c44e9b7173&idate=2022-05-02&fdate=2022-05-03\n",
      "Fetching data from http://montreal.icea.decea.mil.br:5002/api/v1/tc-real?token=a779d04f85c4bf6cfa586d30aaec57c44e9b7173&idate=2022-05-03&fdate=2022-05-04\n",
      "Fetching data from http://montreal.icea.decea.mil.br:5002/api/v1/tc-real?token=a779d04f85c4bf6cfa586d30aaec57c44e9b7173&idate=2022-05-04&fdate=2022-05-05\n",
      "Fetching data from http://montreal.icea.decea.mil.br:5002/api/v1/tc-real?token=a779d04f85c4bf6cfa586d30aaec57c44e9b7173&idate=2022-05-05&fdate=2022-05-06\n",
      "Fetching data from http://montreal.icea.decea.mil.br:5002/api/v1/tc-real?token=a779d04f85c4bf6cfa586d30aaec57c44e9b7173&idate=2022-05-06&fdate=2022-05-07\n",
      "Fetching data from http://montreal.icea.decea.mil.br:5002/api/v1/tc-real?token=a779d04f85c4bf6cfa586d30aaec57c44e9b7173&idate=2022-05-07&fdate=2022-05-08\n",
      "Fetching data from http://montreal.icea.decea.mil.br:5002/api/v1/tc-real?token=a779d04f85c4bf6cfa586d30aaec57c44e9b7173&idate=2022-05-08&fdate=2022-05-09\n",
      "Fetching data from http://montreal.icea.decea.mil.br:5002/api/v1/tc-real?token=a779d04f85c4bf6cfa586d30aaec57c44e9b7173&idate=2022-05-09&fdate=2022-05-10\n",
      "Fetching data from http://montreal.icea.decea.mil.br:5002/api/v1/tc-real?token=a779d04f85c4bf6cfa586d30aaec57c44e9b7173&idate=2022-05-10&fdate=2022-05-11\n"
     ]
    },
    {
     "name": "stderr",
     "output_type": "stream",
     "text": [
      "Carregando dados de tc-real, Parte 1:   0%|          | 0/106 [00:00<?, ?it/s]"
     ]
    },
    {
     "name": "stdout",
     "output_type": "stream",
     "text": [
      "Fetching data from http://montreal.icea.decea.mil.br:5002/api/v1/tc-real?token=a779d04f85c4bf6cfa586d30aaec57c44e9b7173&idate=2022-05-11&fdate=2022-05-12\n",
      "Fetching data from http://montreal.icea.decea.mil.br:5002/api/v1/tc-real?token=a779d04f85c4bf6cfa586d30aaec57c44e9b7173&idate=2022-05-12&fdate=2022-05-13\n",
      "Fetching data from http://montreal.icea.decea.mil.br:5002/api/v1/tc-real?token=a779d04f85c4bf6cfa586d30aaec57c44e9b7173&idate=2022-05-13&fdate=2022-05-14\n",
      "Fetching data from http://montreal.icea.decea.mil.br:5002/api/v1/tc-real?token=a779d04f85c4bf6cfa586d30aaec57c44e9b7173&idate=2022-05-14&fdate=2022-05-15\n",
      "Fetching data from http://montreal.icea.decea.mil.br:5002/api/v1/tc-real?token=a779d04f85c4bf6cfa586d30aaec57c44e9b7173&idate=2022-05-15&fdate=2022-05-16\n",
      "Fetching data from http://montreal.icea.decea.mil.br:5002/api/v1/tc-real?token=a779d04f85c4bf6cfa586d30aaec57c44e9b7173&idate=2022-05-16&fdate=2022-05-17\n",
      "Fetching data from http://montreal.icea.decea.mil.br:5002/api/v1/tc-real?token=a779d04f85c4bf6cfa586d30aaec57c44e9b7173&idate=2022-05-17&fdate=2022-05-18\n",
      "Fetching data from http://montreal.icea.decea.mil.br:5002/api/v1/tc-real?token=a779d04f85c4bf6cfa586d30aaec57c44e9b7173&idate=2022-05-18&fdate=2022-05-19\n",
      "Fetching data from http://montreal.icea.decea.mil.br:5002/api/v1/tc-real?token=a779d04f85c4bf6cfa586d30aaec57c44e9b7173&idate=2022-05-19&fdate=2022-05-20\n",
      "Fetching data from http://montreal.icea.decea.mil.br:5002/api/v1/tc-real?token=a779d04f85c4bf6cfa586d30aaec57c44e9b7173&idate=2022-05-20&fdate=2022-05-21\n",
      "Fetching data from http://montreal.icea.decea.mil.br:5002/api/v1/tc-real?token=a779d04f85c4bf6cfa586d30aaec57c44e9b7173&idate=2022-05-21&fdate=2022-05-22\n",
      "Fetching data from http://montreal.icea.decea.mil.br:5002/api/v1/tc-real?token=a779d04f85c4bf6cfa586d30aaec57c44e9b7173&idate=2022-05-22&fdate=2022-05-23\n",
      "Fetching data from http://montreal.icea.decea.mil.br:5002/api/v1/tc-real?token=a779d04f85c4bf6cfa586d30aaec57c44e9b7173&idate=2022-05-23&fdate=2022-05-24\n",
      "Fetching data from http://montreal.icea.decea.mil.br:5002/api/v1/tc-real?token=a779d04f85c4bf6cfa586d30aaec57c44e9b7173&idate=2022-05-24&fdate=2022-05-25\n",
      "Fetching data from http://montreal.icea.decea.mil.br:5002/api/v1/tc-real?token=a779d04f85c4bf6cfa586d30aaec57c44e9b7173&idate=2022-05-25&fdate=2022-05-26\n",
      "Fetching data from http://montreal.icea.decea.mil.br:5002/api/v1/tc-real?token=a779d04f85c4bf6cfa586d30aaec57c44e9b7173&idate=2022-05-26&fdate=2022-05-27\n",
      "Fetching data from http://montreal.icea.decea.mil.br:5002/api/v1/tc-real?token=a779d04f85c4bf6cfa586d30aaec57c44e9b7173&idate=2022-05-27&fdate=2022-05-28\n",
      "Fetching data from http://montreal.icea.decea.mil.br:5002/api/v1/tc-real?token=a779d04f85c4bf6cfa586d30aaec57c44e9b7173&idate=2022-05-28&fdate=2022-05-29\n",
      "Fetching data from http://montreal.icea.decea.mil.br:5002/api/v1/tc-real?token=a779d04f85c4bf6cfa586d30aaec57c44e9b7173&idate=2022-05-29&fdate=2022-05-30\n",
      "Fetching data from http://montreal.icea.decea.mil.br:5002/api/v1/tc-real?token=a779d04f85c4bf6cfa586d30aaec57c44e9b7173&idate=2022-05-30&fdate=2022-05-31\n",
      "Fetching data from http://montreal.icea.decea.mil.br:5002/api/v1/tc-real?token=a779d04f85c4bf6cfa586d30aaec57c44e9b7173&idate=2022-05-31&fdate=2022-06-01\n"
     ]
    },
    {
     "name": "stderr",
     "output_type": "stream",
     "text": [
      "Carregando dados de tc-real, Parte 1:  22%|██▏       | 23/106 [00:00<00:00, 215.34it/s]"
     ]
    },
    {
     "name": "stdout",
     "output_type": "stream",
     "text": [
      "Fetching data from http://montreal.icea.decea.mil.br:5002/api/v1/tc-real?token=a779d04f85c4bf6cfa586d30aaec57c44e9b7173&idate=2022-06-01&fdate=2022-06-02\n",
      "Fetching data from http://montreal.icea.decea.mil.br:5002/api/v1/tc-real?token=a779d04f85c4bf6cfa586d30aaec57c44e9b7173&idate=2022-06-02&fdate=2022-06-03\n",
      "Fetching data from http://montreal.icea.decea.mil.br:5002/api/v1/tc-real?token=a779d04f85c4bf6cfa586d30aaec57c44e9b7173&idate=2022-06-03&fdate=2022-06-04\n",
      "Fetching data from http://montreal.icea.decea.mil.br:5002/api/v1/tc-real?token=a779d04f85c4bf6cfa586d30aaec57c44e9b7173&idate=2022-06-04&fdate=2022-06-05\n",
      "Fetching data from http://montreal.icea.decea.mil.br:5002/api/v1/tc-real?token=a779d04f85c4bf6cfa586d30aaec57c44e9b7173&idate=2022-06-05&fdate=2022-06-06\n",
      "Fetching data from http://montreal.icea.decea.mil.br:5002/api/v1/tc-real?token=a779d04f85c4bf6cfa586d30aaec57c44e9b7173&idate=2022-06-06&fdate=2022-06-07\n",
      "Fetching data from http://montreal.icea.decea.mil.br:5002/api/v1/tc-real?token=a779d04f85c4bf6cfa586d30aaec57c44e9b7173&idate=2022-06-07&fdate=2022-06-08\n",
      "Fetching data from http://montreal.icea.decea.mil.br:5002/api/v1/tc-real?token=a779d04f85c4bf6cfa586d30aaec57c44e9b7173&idate=2022-06-08&fdate=2022-06-09\n",
      "Fetching data from http://montreal.icea.decea.mil.br:5002/api/v1/tc-real?token=a779d04f85c4bf6cfa586d30aaec57c44e9b7173&idate=2022-06-09&fdate=2022-06-10\n",
      "Fetching data from http://montreal.icea.decea.mil.br:5002/api/v1/tc-real?token=a779d04f85c4bf6cfa586d30aaec57c44e9b7173&idate=2022-06-10&fdate=2022-06-11\n",
      "Fetching data from http://montreal.icea.decea.mil.br:5002/api/v1/tc-real?token=a779d04f85c4bf6cfa586d30aaec57c44e9b7173&idate=2022-06-11&fdate=2022-06-12\n",
      "Fetching data from http://montreal.icea.decea.mil.br:5002/api/v1/tc-real?token=a779d04f85c4bf6cfa586d30aaec57c44e9b7173&idate=2022-06-12&fdate=2022-06-13\n",
      "Fetching data from http://montreal.icea.decea.mil.br:5002/api/v1/tc-real?token=a779d04f85c4bf6cfa586d30aaec57c44e9b7173&idate=2022-06-13&fdate=2022-06-14\n",
      "Fetching data from http://montreal.icea.decea.mil.br:5002/api/v1/tc-real?token=a779d04f85c4bf6cfa586d30aaec57c44e9b7173&idate=2022-06-14&fdate=2022-06-15\n",
      "Fetching data from http://montreal.icea.decea.mil.br:5002/api/v1/tc-real?token=a779d04f85c4bf6cfa586d30aaec57c44e9b7173&idate=2022-06-15&fdate=2022-06-16\n",
      "Fetching data from http://montreal.icea.decea.mil.br:5002/api/v1/tc-real?token=a779d04f85c4bf6cfa586d30aaec57c44e9b7173&idate=2022-06-16&fdate=2022-06-17\n",
      "Fetching data from http://montreal.icea.decea.mil.br:5002/api/v1/tc-real?token=a779d04f85c4bf6cfa586d30aaec57c44e9b7173&idate=2022-06-17&fdate=2022-06-18\n",
      "Fetching data from http://montreal.icea.decea.mil.br:5002/api/v1/tc-real?token=a779d04f85c4bf6cfa586d30aaec57c44e9b7173&idate=2022-06-18&fdate=2022-06-19\n",
      "Fetching data from http://montreal.icea.decea.mil.br:5002/api/v1/tc-real?token=a779d04f85c4bf6cfa586d30aaec57c44e9b7173&idate=2022-06-19&fdate=2022-06-20\n",
      "Fetching data from http://montreal.icea.decea.mil.br:5002/api/v1/tc-real?token=a779d04f85c4bf6cfa586d30aaec57c44e9b7173&idate=2022-06-20&fdate=2022-06-21\n",
      "Fetching data from http://montreal.icea.decea.mil.br:5002/api/v1/tc-real?token=a779d04f85c4bf6cfa586d30aaec57c44e9b7173&idate=2022-06-21&fdate=2022-06-22\n"
     ]
    },
    {
     "name": "stderr",
     "output_type": "stream",
     "text": [
      "Carregando dados de tc-real, Parte 1:  42%|████▏     | 45/106 [00:00<00:00, 195.17it/s]"
     ]
    },
    {
     "name": "stdout",
     "output_type": "stream",
     "text": [
      "Fetching data from http://montreal.icea.decea.mil.br:5002/api/v1/tc-real?token=a779d04f85c4bf6cfa586d30aaec57c44e9b7173&idate=2022-06-22&fdate=2022-06-23\n",
      "Fetching data from http://montreal.icea.decea.mil.br:5002/api/v1/tc-real?token=a779d04f85c4bf6cfa586d30aaec57c44e9b7173&idate=2022-06-23&fdate=2022-06-24\n",
      "Fetching data from http://montreal.icea.decea.mil.br:5002/api/v1/tc-real?token=a779d04f85c4bf6cfa586d30aaec57c44e9b7173&idate=2022-06-24&fdate=2022-06-25\n",
      "Fetching data from http://montreal.icea.decea.mil.br:5002/api/v1/tc-real?token=a779d04f85c4bf6cfa586d30aaec57c44e9b7173&idate=2022-06-25&fdate=2022-06-26\n",
      "Fetching data from http://montreal.icea.decea.mil.br:5002/api/v1/tc-real?token=a779d04f85c4bf6cfa586d30aaec57c44e9b7173&idate=2022-06-26&fdate=2022-06-27\n",
      "Fetching data from http://montreal.icea.decea.mil.br:5002/api/v1/tc-real?token=a779d04f85c4bf6cfa586d30aaec57c44e9b7173&idate=2022-06-27&fdate=2022-06-28\n",
      "Fetching data from http://montreal.icea.decea.mil.br:5002/api/v1/tc-real?token=a779d04f85c4bf6cfa586d30aaec57c44e9b7173&idate=2022-06-28&fdate=2022-06-29\n",
      "Fetching data from http://montreal.icea.decea.mil.br:5002/api/v1/tc-real?token=a779d04f85c4bf6cfa586d30aaec57c44e9b7173&idate=2022-06-29&fdate=2022-06-30\n",
      "Fetching data from http://montreal.icea.decea.mil.br:5002/api/v1/tc-real?token=a779d04f85c4bf6cfa586d30aaec57c44e9b7173&idate=2022-06-30&fdate=2022-07-01\n",
      "Fetching data from http://montreal.icea.decea.mil.br:5002/api/v1/tc-real?token=a779d04f85c4bf6cfa586d30aaec57c44e9b7173&idate=2022-07-01&fdate=2022-07-02\n",
      "Fetching data from http://montreal.icea.decea.mil.br:5002/api/v1/tc-real?token=a779d04f85c4bf6cfa586d30aaec57c44e9b7173&idate=2022-07-02&fdate=2022-07-03\n",
      "Fetching data from http://montreal.icea.decea.mil.br:5002/api/v1/tc-real?token=a779d04f85c4bf6cfa586d30aaec57c44e9b7173&idate=2022-07-03&fdate=2022-07-04\n",
      "Fetching data from http://montreal.icea.decea.mil.br:5002/api/v1/tc-real?token=a779d04f85c4bf6cfa586d30aaec57c44e9b7173&idate=2022-07-04&fdate=2022-07-05\n",
      "Fetching data from http://montreal.icea.decea.mil.br:5002/api/v1/tc-real?token=a779d04f85c4bf6cfa586d30aaec57c44e9b7173&idate=2022-07-05&fdate=2022-07-06\n",
      "Fetching data from http://montreal.icea.decea.mil.br:5002/api/v1/tc-real?token=a779d04f85c4bf6cfa586d30aaec57c44e9b7173&idate=2022-07-06&fdate=2022-07-07\n",
      "Fetching data from http://montreal.icea.decea.mil.br:5002/api/v1/tc-real?token=a779d04f85c4bf6cfa586d30aaec57c44e9b7173&idate=2022-07-07&fdate=2022-07-08\n",
      "Fetching data from http://montreal.icea.decea.mil.br:5002/api/v1/tc-real?token=a779d04f85c4bf6cfa586d30aaec57c44e9b7173&idate=2022-07-08&fdate=2022-07-09\n",
      "Fetching data from http://montreal.icea.decea.mil.br:5002/api/v1/tc-real?token=a779d04f85c4bf6cfa586d30aaec57c44e9b7173&idate=2022-07-09&fdate=2022-07-10\n"
     ]
    },
    {
     "name": "stderr",
     "output_type": "stream",
     "text": [
      "Carregando dados de tc-real, Parte 1:  66%|██████▌   | 70/106 [00:00<00:00, 214.14it/s]"
     ]
    },
    {
     "name": "stdout",
     "output_type": "stream",
     "text": [
      "Fetching data from http://montreal.icea.decea.mil.br:5002/api/v1/tc-real?token=a779d04f85c4bf6cfa586d30aaec57c44e9b7173&idate=2022-07-10&fdate=2022-07-11\n",
      "Fetching data from http://montreal.icea.decea.mil.br:5002/api/v1/tc-real?token=a779d04f85c4bf6cfa586d30aaec57c44e9b7173&idate=2022-07-11&fdate=2022-07-12\n",
      "Fetching data from http://montreal.icea.decea.mil.br:5002/api/v1/tc-real?token=a779d04f85c4bf6cfa586d30aaec57c44e9b7173&idate=2022-07-12&fdate=2022-07-13\n",
      "Fetching data from http://montreal.icea.decea.mil.br:5002/api/v1/tc-real?token=a779d04f85c4bf6cfa586d30aaec57c44e9b7173&idate=2022-07-13&fdate=2022-07-14\n",
      "Fetching data from http://montreal.icea.decea.mil.br:5002/api/v1/tc-real?token=a779d04f85c4bf6cfa586d30aaec57c44e9b7173&idate=2022-07-14&fdate=2022-07-15\n",
      "Fetching data from http://montreal.icea.decea.mil.br:5002/api/v1/tc-real?token=a779d04f85c4bf6cfa586d30aaec57c44e9b7173&idate=2022-07-15&fdate=2022-07-16\n",
      "Fetching data from http://montreal.icea.decea.mil.br:5002/api/v1/tc-real?token=a779d04f85c4bf6cfa586d30aaec57c44e9b7173&idate=2022-07-16&fdate=2022-07-17\n",
      "Fetching data from http://montreal.icea.decea.mil.br:5002/api/v1/tc-real?token=a779d04f85c4bf6cfa586d30aaec57c44e9b7173&idate=2022-07-17&fdate=2022-07-18\n",
      "Fetching data from http://montreal.icea.decea.mil.br:5002/api/v1/tc-real?token=a779d04f85c4bf6cfa586d30aaec57c44e9b7173&idate=2022-07-18&fdate=2022-07-19\n",
      "Fetching data from http://montreal.icea.decea.mil.br:5002/api/v1/tc-real?token=a779d04f85c4bf6cfa586d30aaec57c44e9b7173&idate=2022-07-19&fdate=2022-07-20\n",
      "Fetching data from http://montreal.icea.decea.mil.br:5002/api/v1/tc-real?token=a779d04f85c4bf6cfa586d30aaec57c44e9b7173&idate=2022-07-20&fdate=2022-07-21\n",
      "Fetching data from http://montreal.icea.decea.mil.br:5002/api/v1/tc-real?token=a779d04f85c4bf6cfa586d30aaec57c44e9b7173&idate=2022-07-21&fdate=2022-07-22\n",
      "Fetching data from http://montreal.icea.decea.mil.br:5002/api/v1/tc-real?token=a779d04f85c4bf6cfa586d30aaec57c44e9b7173&idate=2022-07-22&fdate=2022-07-23\n",
      "Fetching data from http://montreal.icea.decea.mil.br:5002/api/v1/tc-real?token=a779d04f85c4bf6cfa586d30aaec57c44e9b7173&idate=2022-07-23&fdate=2022-07-24\n",
      "Fetching data from http://montreal.icea.decea.mil.br:5002/api/v1/tc-real?token=a779d04f85c4bf6cfa586d30aaec57c44e9b7173&idate=2022-07-24&fdate=2022-07-25\n",
      "Fetching data from http://montreal.icea.decea.mil.br:5002/api/v1/tc-real?token=a779d04f85c4bf6cfa586d30aaec57c44e9b7173&idate=2022-07-25&fdate=2022-07-26\n",
      "Fetching data from http://montreal.icea.decea.mil.br:5002/api/v1/tc-real?token=a779d04f85c4bf6cfa586d30aaec57c44e9b7173&idate=2022-07-26&fdate=2022-07-27\n",
      "Fetching data from http://montreal.icea.decea.mil.br:5002/api/v1/tc-real?token=a779d04f85c4bf6cfa586d30aaec57c44e9b7173&idate=2022-07-27&fdate=2022-07-28\n",
      "Fetching data from http://montreal.icea.decea.mil.br:5002/api/v1/tc-real?token=a779d04f85c4bf6cfa586d30aaec57c44e9b7173&idate=2022-07-28&fdate=2022-07-29\n",
      "Fetching data from http://montreal.icea.decea.mil.br:5002/api/v1/tc-real?token=a779d04f85c4bf6cfa586d30aaec57c44e9b7173&idate=2022-07-29&fdate=2022-07-30\n",
      "Fetching data from http://montreal.icea.decea.mil.br:5002/api/v1/tc-real?token=a779d04f85c4bf6cfa586d30aaec57c44e9b7173&idate=2022-07-30&fdate=2022-07-31\n",
      "Fetching data from http://montreal.icea.decea.mil.br:5002/api/v1/tc-real?token=a779d04f85c4bf6cfa586d30aaec57c44e9b7173&idate=2022-07-31&fdate=2022-08-01\n",
      "Fetching data from http://montreal.icea.decea.mil.br:5002/api/v1/tc-real?token=a779d04f85c4bf6cfa586d30aaec57c44e9b7173&idate=2022-08-01&fdate=2022-08-02\n",
      "Fetching data from http://montreal.icea.decea.mil.br:5002/api/v1/tc-real?token=a779d04f85c4bf6cfa586d30aaec57c44e9b7173&idate=2022-08-02&fdate=2022-08-03\n",
      "Fetching data from http://montreal.icea.decea.mil.br:5002/api/v1/tc-real?token=a779d04f85c4bf6cfa586d30aaec57c44e9b7173&idate=2022-08-03&fdate=2022-08-04\n",
      "Fetching data from http://montreal.icea.decea.mil.br:5002/api/v1/tc-real?token=a779d04f85c4bf6cfa586d30aaec57c44e9b7173&idate=2022-08-04&fdate=2022-08-05\n",
      "Fetching data from http://montreal.icea.decea.mil.br:5002/api/v1/tc-real?token=a779d04f85c4bf6cfa586d30aaec57c44e9b7173&idate=2022-08-05&fdate=2022-08-06\n",
      "Fetching data from http://montreal.icea.decea.mil.br:5002/api/v1/tc-real?token=a779d04f85c4bf6cfa586d30aaec57c44e9b7173&idate=2022-08-06&fdate=2022-08-07\n"
     ]
    },
    {
     "name": "stderr",
     "output_type": "stream",
     "text": [
      "Carregando dados de tc-real, Parte 1:  87%|████████▋ | 92/106 [00:00<00:00, 209.23it/s]"
     ]
    },
    {
     "name": "stdout",
     "output_type": "stream",
     "text": [
      "Fetching data from http://montreal.icea.decea.mil.br:5002/api/v1/tc-real?token=a779d04f85c4bf6cfa586d30aaec57c44e9b7173&idate=2022-08-07&fdate=2022-08-08\n",
      "Fetching data from http://montreal.icea.decea.mil.br:5002/api/v1/tc-real?token=a779d04f85c4bf6cfa586d30aaec57c44e9b7173&idate=2022-08-08&fdate=2022-08-09\n",
      "Fetching data from http://montreal.icea.decea.mil.br:5002/api/v1/tc-real?token=a779d04f85c4bf6cfa586d30aaec57c44e9b7173&idate=2022-08-09&fdate=2022-08-10\n",
      "Fetching data from http://montreal.icea.decea.mil.br:5002/api/v1/tc-real?token=a779d04f85c4bf6cfa586d30aaec57c44e9b7173&idate=2022-08-10&fdate=2022-08-11\n",
      "Fetching data from http://montreal.icea.decea.mil.br:5002/api/v1/tc-real?token=a779d04f85c4bf6cfa586d30aaec57c44e9b7173&idate=2022-08-11&fdate=2022-08-12\n",
      "Fetching data from http://montreal.icea.decea.mil.br:5002/api/v1/tc-real?token=a779d04f85c4bf6cfa586d30aaec57c44e9b7173&idate=2022-08-12&fdate=2022-08-13\n",
      "Fetching data from http://montreal.icea.decea.mil.br:5002/api/v1/tc-real?token=a779d04f85c4bf6cfa586d30aaec57c44e9b7173&idate=2022-08-13&fdate=2022-08-14\n",
      "Fetching data from http://montreal.icea.decea.mil.br:5002/api/v1/tc-real?token=a779d04f85c4bf6cfa586d30aaec57c44e9b7173&idate=2022-08-14&fdate=2022-08-15\n"
     ]
    },
    {
     "name": "stderr",
     "output_type": "stream",
     "text": [
      "Carregando dados de tc-real, Parte 1: 100%|██████████| 106/106 [00:00<00:00, 204.77it/s]\n"
     ]
    },
    {
     "name": "stdout",
     "output_type": "stream",
     "text": [
      "Dados de tc-real salvos em tc-real_part_1.csv\n",
      "Processando parte 2/4\n",
      "Fetching data from http://montreal.icea.decea.mil.br:5002/api/v1/tc-real?token=a779d04f85c4bf6cfa586d30aaec57c44e9b7173&idate=2022-08-15&fdate=2022-08-16\n",
      "Fetching data from http://montreal.icea.decea.mil.br:5002/api/v1/tc-real?token=a779d04f85c4bf6cfa586d30aaec57c44e9b7173&idate=2022-08-16&fdate=2022-08-17\n",
      "Fetching data from http://montreal.icea.decea.mil.br:5002/api/v1/tc-real?token=a779d04f85c4bf6cfa586d30aaec57c44e9b7173&idate=2022-08-17&fdate=2022-08-18\n",
      "Fetching data from http://montreal.icea.decea.mil.br:5002/api/v1/tc-real?token=a779d04f85c4bf6cfa586d30aaec57c44e9b7173&idate=2022-08-18&fdate=2022-08-19\n",
      "Fetching data from http://montreal.icea.decea.mil.br:5002/api/v1/tc-real?token=a779d04f85c4bf6cfa586d30aaec57c44e9b7173&idate=2022-08-19&fdate=2022-08-20\n",
      "Fetching data from http://montreal.icea.decea.mil.br:5002/api/v1/tc-real?token=a779d04f85c4bf6cfa586d30aaec57c44e9b7173&idate=2022-08-20&fdate=2022-08-21\n",
      "Fetching data from http://montreal.icea.decea.mil.br:5002/api/v1/tc-real?token=a779d04f85c4bf6cfa586d30aaec57c44e9b7173&idate=2022-08-21&fdate=2022-08-22\n",
      "Fetching data from http://montreal.icea.decea.mil.br:5002/api/v1/tc-real?token=a779d04f85c4bf6cfa586d30aaec57c44e9b7173&idate=2022-08-22&fdate=2022-08-23\n",
      "Fetching data from http://montreal.icea.decea.mil.br:5002/api/v1/tc-real?token=a779d04f85c4bf6cfa586d30aaec57c44e9b7173&idate=2022-08-23&fdate=2022-08-24\n",
      "Fetching data from http://montreal.icea.decea.mil.br:5002/api/v1/tc-real?token=a779d04f85c4bf6cfa586d30aaec57c44e9b7173&idate=2022-08-24&fdate=2022-08-25\n"
     ]
    },
    {
     "name": "stderr",
     "output_type": "stream",
     "text": [
      "Carregando dados de tc-real, Parte 2:   0%|          | 0/106 [00:00<?, ?it/s]"
     ]
    },
    {
     "name": "stdout",
     "output_type": "stream",
     "text": [
      "Fetching data from http://montreal.icea.decea.mil.br:5002/api/v1/tc-real?token=a779d04f85c4bf6cfa586d30aaec57c44e9b7173&idate=2022-08-25&fdate=2022-08-26\n",
      "Fetching data from http://montreal.icea.decea.mil.br:5002/api/v1/tc-real?token=a779d04f85c4bf6cfa586d30aaec57c44e9b7173&idate=2022-08-26&fdate=2022-08-27\n",
      "Fetching data from http://montreal.icea.decea.mil.br:5002/api/v1/tc-real?token=a779d04f85c4bf6cfa586d30aaec57c44e9b7173&idate=2022-08-27&fdate=2022-08-28\n",
      "Fetching data from http://montreal.icea.decea.mil.br:5002/api/v1/tc-real?token=a779d04f85c4bf6cfa586d30aaec57c44e9b7173&idate=2022-08-28&fdate=2022-08-29\n",
      "Fetching data from http://montreal.icea.decea.mil.br:5002/api/v1/tc-real?token=a779d04f85c4bf6cfa586d30aaec57c44e9b7173&idate=2022-08-29&fdate=2022-08-30\n",
      "Fetching data from http://montreal.icea.decea.mil.br:5002/api/v1/tc-real?token=a779d04f85c4bf6cfa586d30aaec57c44e9b7173&idate=2022-08-30&fdate=2022-08-31\n",
      "Fetching data from http://montreal.icea.decea.mil.br:5002/api/v1/tc-real?token=a779d04f85c4bf6cfa586d30aaec57c44e9b7173&idate=2022-08-31&fdate=2022-09-01\n",
      "Fetching data from http://montreal.icea.decea.mil.br:5002/api/v1/tc-real?token=a779d04f85c4bf6cfa586d30aaec57c44e9b7173&idate=2022-09-01&fdate=2022-09-02\n",
      "Fetching data from http://montreal.icea.decea.mil.br:5002/api/v1/tc-real?token=a779d04f85c4bf6cfa586d30aaec57c44e9b7173&idate=2022-09-02&fdate=2022-09-03\n",
      "Fetching data from http://montreal.icea.decea.mil.br:5002/api/v1/tc-real?token=a779d04f85c4bf6cfa586d30aaec57c44e9b7173&idate=2022-09-03&fdate=2022-09-04\n",
      "Fetching data from http://montreal.icea.decea.mil.br:5002/api/v1/tc-real?token=a779d04f85c4bf6cfa586d30aaec57c44e9b7173&idate=2022-09-04&fdate=2022-09-05\n",
      "Fetching data from http://montreal.icea.decea.mil.br:5002/api/v1/tc-real?token=a779d04f85c4bf6cfa586d30aaec57c44e9b7173&idate=2022-09-05&fdate=2022-09-06\n",
      "Fetching data from http://montreal.icea.decea.mil.br:5002/api/v1/tc-real?token=a779d04f85c4bf6cfa586d30aaec57c44e9b7173&idate=2022-09-06&fdate=2022-09-07\n"
     ]
    },
    {
     "name": "stderr",
     "output_type": "stream",
     "text": [
      "Carregando dados de tc-real, Parte 2:  21%|██        | 22/106 [00:00<00:00, 184.13it/s]"
     ]
    },
    {
     "name": "stdout",
     "output_type": "stream",
     "text": [
      "Fetching data from http://montreal.icea.decea.mil.br:5002/api/v1/tc-real?token=a779d04f85c4bf6cfa586d30aaec57c44e9b7173&idate=2022-09-07&fdate=2022-09-08Fetching data from http://montreal.icea.decea.mil.br:5002/api/v1/tc-real?token=a779d04f85c4bf6cfa586d30aaec57c44e9b7173&idate=2022-09-08&fdate=2022-09-09\n",
      "Fetching data from http://montreal.icea.decea.mil.br:5002/api/v1/tc-real?token=a779d04f85c4bf6cfa586d30aaec57c44e9b7173&idate=2022-09-09&fdate=2022-09-10\n",
      "\n",
      "Fetching data from http://montreal.icea.decea.mil.br:5002/api/v1/tc-real?token=a779d04f85c4bf6cfa586d30aaec57c44e9b7173&idate=2022-09-10&fdate=2022-09-11\n",
      "Fetching data from http://montreal.icea.decea.mil.br:5002/api/v1/tc-real?token=a779d04f85c4bf6cfa586d30aaec57c44e9b7173&idate=2022-09-11&fdate=2022-09-12\n",
      "Fetching data from http://montreal.icea.decea.mil.br:5002/api/v1/tc-real?token=a779d04f85c4bf6cfa586d30aaec57c44e9b7173&idate=2022-09-12&fdate=2022-09-13\n",
      "Fetching data from http://montreal.icea.decea.mil.br:5002/api/v1/tc-real?token=a779d04f85c4bf6cfa586d30aaec57c44e9b7173&idate=2022-09-13&fdate=2022-09-14\n",
      "Fetching data from http://montreal.icea.decea.mil.br:5002/api/v1/tc-real?token=a779d04f85c4bf6cfa586d30aaec57c44e9b7173&idate=2022-09-14&fdate=2022-09-15\n",
      "Fetching data from http://montreal.icea.decea.mil.br:5002/api/v1/tc-real?token=a779d04f85c4bf6cfa586d30aaec57c44e9b7173&idate=2022-09-15&fdate=2022-09-16\n",
      "Fetching data from http://montreal.icea.decea.mil.br:5002/api/v1/tc-real?token=a779d04f85c4bf6cfa586d30aaec57c44e9b7173&idate=2022-09-16&fdate=2022-09-17\n",
      "Fetching data from http://montreal.icea.decea.mil.br:5002/api/v1/tc-real?token=a779d04f85c4bf6cfa586d30aaec57c44e9b7173&idate=2022-09-17&fdate=2022-09-18\n",
      "Fetching data from http://montreal.icea.decea.mil.br:5002/api/v1/tc-real?token=a779d04f85c4bf6cfa586d30aaec57c44e9b7173&idate=2022-09-18&fdate=2022-09-19\n",
      "Fetching data from http://montreal.icea.decea.mil.br:5002/api/v1/tc-real?token=a779d04f85c4bf6cfa586d30aaec57c44e9b7173&idate=2022-09-19&fdate=2022-09-20\n",
      "Fetching data from http://montreal.icea.decea.mil.br:5002/api/v1/tc-real?token=a779d04f85c4bf6cfa586d30aaec57c44e9b7173&idate=2022-09-20&fdate=2022-09-21\n",
      "Fetching data from http://montreal.icea.decea.mil.br:5002/api/v1/tc-real?token=a779d04f85c4bf6cfa586d30aaec57c44e9b7173&idate=2022-09-21&fdate=2022-09-22\n",
      "Fetching data from http://montreal.icea.decea.mil.br:5002/api/v1/tc-real?token=a779d04f85c4bf6cfa586d30aaec57c44e9b7173&idate=2022-09-22&fdate=2022-09-23\n",
      "Fetching data from http://montreal.icea.decea.mil.br:5002/api/v1/tc-real?token=a779d04f85c4bf6cfa586d30aaec57c44e9b7173&idate=2022-09-23&fdate=2022-09-24\n",
      "Fetching data from http://montreal.icea.decea.mil.br:5002/api/v1/tc-real?token=a779d04f85c4bf6cfa586d30aaec57c44e9b7173&idate=2022-09-24&fdate=2022-09-25\n",
      "Fetching data from http://montreal.icea.decea.mil.br:5002/api/v1/tc-real?token=a779d04f85c4bf6cfa586d30aaec57c44e9b7173&idate=2022-09-25&fdate=2022-09-26\n",
      "Fetching data from http://montreal.icea.decea.mil.br:5002/api/v1/tc-real?token=a779d04f85c4bf6cfa586d30aaec57c44e9b7173&idate=2022-09-26&fdate=2022-09-27\n",
      "Fetching data from http://montreal.icea.decea.mil.br:5002/api/v1/tc-real?token=a779d04f85c4bf6cfa586d30aaec57c44e9b7173&idate=2022-09-27&fdate=2022-09-28\n",
      "Fetching data from http://montreal.icea.decea.mil.br:5002/api/v1/tc-real?token=a779d04f85c4bf6cfa586d30aaec57c44e9b7173&idate=2022-09-28&fdate=2022-09-29\n",
      "Fetching data from http://montreal.icea.decea.mil.br:5002/api/v1/tc-real?token=a779d04f85c4bf6cfa586d30aaec57c44e9b7173&idate=2022-09-29&fdate=2022-09-30\n",
      "Fetching data from http://montreal.icea.decea.mil.br:5002/api/v1/tc-real?token=a779d04f85c4bf6cfa586d30aaec57c44e9b7173&idate=2022-09-30&fdate=2022-10-01\n",
      "Fetching data from http://montreal.icea.decea.mil.br:5002/api/v1/tc-real?token=a779d04f85c4bf6cfa586d30aaec57c44e9b7173&idate=2022-10-01&fdate=2022-10-02\n",
      "Fetching data from http://montreal.icea.decea.mil.br:5002/api/v1/tc-real?token=a779d04f85c4bf6cfa586d30aaec57c44e9b7173&idate=2022-10-02&fdate=2022-10-03\n"
     ]
    },
    {
     "name": "stderr",
     "output_type": "stream",
     "text": [
      "Carregando dados de tc-real, Parte 2:  39%|███▊      | 41/106 [00:00<00:00, 145.95it/s]"
     ]
    },
    {
     "name": "stdout",
     "output_type": "stream",
     "text": [
      "Fetching data from http://montreal.icea.decea.mil.br:5002/api/v1/tc-real?token=a779d04f85c4bf6cfa586d30aaec57c44e9b7173&idate=2022-10-03&fdate=2022-10-04Fetching data from http://montreal.icea.decea.mil.br:5002/api/v1/tc-real?token=a779d04f85c4bf6cfa586d30aaec57c44e9b7173&idate=2022-10-04&fdate=2022-10-05\n",
      "\n",
      "Fetching data from http://montreal.icea.decea.mil.br:5002/api/v1/tc-real?token=a779d04f85c4bf6cfa586d30aaec57c44e9b7173&idate=2022-10-05&fdate=2022-10-06\n",
      "Fetching data from http://montreal.icea.decea.mil.br:5002/api/v1/tc-real?token=a779d04f85c4bf6cfa586d30aaec57c44e9b7173&idate=2022-10-06&fdate=2022-10-07\n",
      "Fetching data from http://montreal.icea.decea.mil.br:5002/api/v1/tc-real?token=a779d04f85c4bf6cfa586d30aaec57c44e9b7173&idate=2022-10-07&fdate=2022-10-08\n",
      "Fetching data from http://montreal.icea.decea.mil.br:5002/api/v1/tc-real?token=a779d04f85c4bf6cfa586d30aaec57c44e9b7173&idate=2022-10-08&fdate=2022-10-09\n",
      "Fetching data from http://montreal.icea.decea.mil.br:5002/api/v1/tc-real?token=a779d04f85c4bf6cfa586d30aaec57c44e9b7173&idate=2022-10-09&fdate=2022-10-10\n",
      "Fetching data from http://montreal.icea.decea.mil.br:5002/api/v1/tc-real?token=a779d04f85c4bf6cfa586d30aaec57c44e9b7173&idate=2022-10-10&fdate=2022-10-11\n",
      "Fetching data from http://montreal.icea.decea.mil.br:5002/api/v1/tc-real?token=a779d04f85c4bf6cfa586d30aaec57c44e9b7173&idate=2022-10-11&fdate=2022-10-12\n",
      "Fetching data from http://montreal.icea.decea.mil.br:5002/api/v1/tc-real?token=a779d04f85c4bf6cfa586d30aaec57c44e9b7173&idate=2022-10-12&fdate=2022-10-13\n",
      "Fetching data from http://montreal.icea.decea.mil.br:5002/api/v1/tc-real?token=a779d04f85c4bf6cfa586d30aaec57c44e9b7173&idate=2022-10-13&fdate=2022-10-14\n",
      "Fetching data from http://montreal.icea.decea.mil.br:5002/api/v1/tc-real?token=a779d04f85c4bf6cfa586d30aaec57c44e9b7173&idate=2022-10-14&fdate=2022-10-15\n",
      "Fetching data from http://montreal.icea.decea.mil.br:5002/api/v1/tc-real?token=a779d04f85c4bf6cfa586d30aaec57c44e9b7173&idate=2022-10-15&fdate=2022-10-16\n",
      "Fetching data from http://montreal.icea.decea.mil.br:5002/api/v1/tc-real?token=a779d04f85c4bf6cfa586d30aaec57c44e9b7173&idate=2022-10-16&fdate=2022-10-17\n"
     ]
    },
    {
     "name": "stderr",
     "output_type": "stream",
     "text": [
      "Carregando dados de tc-real, Parte 2:  53%|█████▎    | 56/106 [00:00<00:00, 128.08it/s]"
     ]
    },
    {
     "name": "stdout",
     "output_type": "stream",
     "text": [
      "Fetching data from http://montreal.icea.decea.mil.br:5002/api/v1/tc-real?token=a779d04f85c4bf6cfa586d30aaec57c44e9b7173&idate=2022-10-17&fdate=2022-10-18\n",
      "Fetching data from http://montreal.icea.decea.mil.br:5002/api/v1/tc-real?token=a779d04f85c4bf6cfa586d30aaec57c44e9b7173&idate=2022-10-18&fdate=2022-10-19\n",
      "Fetching data from http://montreal.icea.decea.mil.br:5002/api/v1/tc-real?token=a779d04f85c4bf6cfa586d30aaec57c44e9b7173&idate=2022-10-19&fdate=2022-10-20\n",
      "Fetching data from http://montreal.icea.decea.mil.br:5002/api/v1/tc-real?token=a779d04f85c4bf6cfa586d30aaec57c44e9b7173&idate=2022-10-20&fdate=2022-10-21\n",
      "Fetching data from http://montreal.icea.decea.mil.br:5002/api/v1/tc-real?token=a779d04f85c4bf6cfa586d30aaec57c44e9b7173&idate=2022-10-21&fdate=2022-10-22\n",
      "Fetching data from http://montreal.icea.decea.mil.br:5002/api/v1/tc-real?token=a779d04f85c4bf6cfa586d30aaec57c44e9b7173&idate=2022-10-22&fdate=2022-10-23\n",
      "Fetching data from http://montreal.icea.decea.mil.br:5002/api/v1/tc-real?token=a779d04f85c4bf6cfa586d30aaec57c44e9b7173&idate=2022-10-23&fdate=2022-10-24\n",
      "Fetching data from http://montreal.icea.decea.mil.br:5002/api/v1/tc-real?token=a779d04f85c4bf6cfa586d30aaec57c44e9b7173&idate=2022-10-24&fdate=2022-10-25\n",
      "Fetching data from http://montreal.icea.decea.mil.br:5002/api/v1/tc-real?token=a779d04f85c4bf6cfa586d30aaec57c44e9b7173&idate=2022-10-25&fdate=2022-10-26\n",
      "Fetching data from http://montreal.icea.decea.mil.br:5002/api/v1/tc-real?token=a779d04f85c4bf6cfa586d30aaec57c44e9b7173&idate=2022-10-26&fdate=2022-10-27\n",
      "Fetching data from http://montreal.icea.decea.mil.br:5002/api/v1/tc-real?token=a779d04f85c4bf6cfa586d30aaec57c44e9b7173&idate=2022-10-27&fdate=2022-10-28\n",
      "Fetching data from http://montreal.icea.decea.mil.br:5002/api/v1/tc-real?token=a779d04f85c4bf6cfa586d30aaec57c44e9b7173&idate=2022-10-28&fdate=2022-10-29\n",
      "Fetching data from http://montreal.icea.decea.mil.br:5002/api/v1/tc-real?token=a779d04f85c4bf6cfa586d30aaec57c44e9b7173&idate=2022-10-29&fdate=2022-10-30\n",
      "Fetching data from http://montreal.icea.decea.mil.br:5002/api/v1/tc-real?token=a779d04f85c4bf6cfa586d30aaec57c44e9b7173&idate=2022-10-30&fdate=2022-10-31\n"
     ]
    },
    {
     "name": "stderr",
     "output_type": "stream",
     "text": [
      "Carregando dados de tc-real, Parte 2:  67%|██████▋   | 71/106 [00:00<00:00, 129.72it/s]"
     ]
    },
    {
     "name": "stdout",
     "output_type": "stream",
     "text": [
      "Fetching data from http://montreal.icea.decea.mil.br:5002/api/v1/tc-real?token=a779d04f85c4bf6cfa586d30aaec57c44e9b7173&idate=2022-10-31&fdate=2022-11-01\n",
      "Fetching data from http://montreal.icea.decea.mil.br:5002/api/v1/tc-real?token=a779d04f85c4bf6cfa586d30aaec57c44e9b7173&idate=2022-11-01&fdate=2022-11-02\n",
      "Fetching data from http://montreal.icea.decea.mil.br:5002/api/v1/tc-real?token=a779d04f85c4bf6cfa586d30aaec57c44e9b7173&idate=2022-11-02&fdate=2022-11-03\n",
      "Fetching data from http://montreal.icea.decea.mil.br:5002/api/v1/tc-real?token=a779d04f85c4bf6cfa586d30aaec57c44e9b7173&idate=2022-11-03&fdate=2022-11-04\n",
      "Fetching data from http://montreal.icea.decea.mil.br:5002/api/v1/tc-real?token=a779d04f85c4bf6cfa586d30aaec57c44e9b7173&idate=2022-11-04&fdate=2022-11-05\n",
      "Fetching data from http://montreal.icea.decea.mil.br:5002/api/v1/tc-real?token=a779d04f85c4bf6cfa586d30aaec57c44e9b7173&idate=2022-11-05&fdate=2022-11-06\n",
      "Fetching data from http://montreal.icea.decea.mil.br:5002/api/v1/tc-real?token=a779d04f85c4bf6cfa586d30aaec57c44e9b7173&idate=2022-11-06&fdate=2022-11-07\n",
      "Fetching data from http://montreal.icea.decea.mil.br:5002/api/v1/tc-real?token=a779d04f85c4bf6cfa586d30aaec57c44e9b7173&idate=2022-11-07&fdate=2022-11-08\n",
      "Fetching data from http://montreal.icea.decea.mil.br:5002/api/v1/tc-real?token=a779d04f85c4bf6cfa586d30aaec57c44e9b7173&idate=2022-11-08&fdate=2022-11-09\n",
      "Fetching data from http://montreal.icea.decea.mil.br:5002/api/v1/tc-real?token=a779d04f85c4bf6cfa586d30aaec57c44e9b7173&idate=2022-11-09&fdate=2022-11-10\n",
      "Fetching data from http://montreal.icea.decea.mil.br:5002/api/v1/tc-real?token=a779d04f85c4bf6cfa586d30aaec57c44e9b7173&idate=2022-11-10&fdate=2022-11-11\n",
      "Fetching data from http://montreal.icea.decea.mil.br:5002/api/v1/tc-real?token=a779d04f85c4bf6cfa586d30aaec57c44e9b7173&idate=2022-11-11&fdate=2022-11-12\n",
      "Fetching data from http://montreal.icea.decea.mil.br:5002/api/v1/tc-real?token=a779d04f85c4bf6cfa586d30aaec57c44e9b7173&idate=2022-11-12&fdate=2022-11-13\n",
      "Fetching data from http://montreal.icea.decea.mil.br:5002/api/v1/tc-real?token=a779d04f85c4bf6cfa586d30aaec57c44e9b7173&idate=2022-11-13&fdate=2022-11-14\n",
      "Fetching data from http://montreal.icea.decea.mil.br:5002/api/v1/tc-real?token=a779d04f85c4bf6cfa586d30aaec57c44e9b7173&idate=2022-11-14&fdate=2022-11-15\n",
      "Fetching data from http://montreal.icea.decea.mil.br:5002/api/v1/tc-real?token=a779d04f85c4bf6cfa586d30aaec57c44e9b7173&idate=2022-11-15&fdate=2022-11-16\n",
      "Fetching data from http://montreal.icea.decea.mil.br:5002/api/v1/tc-real?token=a779d04f85c4bf6cfa586d30aaec57c44e9b7173&idate=2022-11-16&fdate=2022-11-17\n",
      "Fetching data from http://montreal.icea.decea.mil.br:5002/api/v1/tc-real?token=a779d04f85c4bf6cfa586d30aaec57c44e9b7173&idate=2022-11-17&fdate=2022-11-18\n",
      "Fetching data from http://montreal.icea.decea.mil.br:5002/api/v1/tc-real?token=a779d04f85c4bf6cfa586d30aaec57c44e9b7173&idate=2022-11-18&fdate=2022-11-19\n",
      "Fetching data from http://montreal.icea.decea.mil.br:5002/api/v1/tc-real?token=a779d04f85c4bf6cfa586d30aaec57c44e9b7173&idate=2022-11-19&fdate=2022-11-20\n",
      "Fetching data from http://montreal.icea.decea.mil.br:5002/api/v1/tc-real?token=a779d04f85c4bf6cfa586d30aaec57c44e9b7173&idate=2022-11-20&fdate=2022-11-21\n",
      "Fetching data from http://montreal.icea.decea.mil.br:5002/api/v1/tc-real?token=a779d04f85c4bf6cfa586d30aaec57c44e9b7173&idate=2022-11-21&fdate=2022-11-22\n",
      "Fetching data from http://montreal.icea.decea.mil.br:5002/api/v1/tc-real?token=a779d04f85c4bf6cfa586d30aaec57c44e9b7173&idate=2022-11-22&fdate=2022-11-23\n",
      "Fetching data from http://montreal.icea.decea.mil.br:5002/api/v1/tc-real?token=a779d04f85c4bf6cfa586d30aaec57c44e9b7173&idate=2022-11-23&fdate=2022-11-24\n"
     ]
    },
    {
     "name": "stderr",
     "output_type": "stream",
     "text": [
      "Carregando dados de tc-real, Parte 2:  90%|████████▉ | 95/106 [00:00<00:00, 162.63it/s]"
     ]
    },
    {
     "name": "stdout",
     "output_type": "stream",
     "text": [
      "Fetching data from http://montreal.icea.decea.mil.br:5002/api/v1/tc-real?token=a779d04f85c4bf6cfa586d30aaec57c44e9b7173&idate=2022-11-24&fdate=2022-11-25\n",
      "Fetching data from http://montreal.icea.decea.mil.br:5002/api/v1/tc-real?token=a779d04f85c4bf6cfa586d30aaec57c44e9b7173&idate=2022-11-25&fdate=2022-11-26\n",
      "Fetching data from http://montreal.icea.decea.mil.br:5002/api/v1/tc-real?token=a779d04f85c4bf6cfa586d30aaec57c44e9b7173&idate=2022-11-26&fdate=2022-11-27\n",
      "Fetching data from http://montreal.icea.decea.mil.br:5002/api/v1/tc-real?token=a779d04f85c4bf6cfa586d30aaec57c44e9b7173&idate=2022-11-27&fdate=2022-11-28\n",
      "Fetching data from http://montreal.icea.decea.mil.br:5002/api/v1/tc-real?token=a779d04f85c4bf6cfa586d30aaec57c44e9b7173&idate=2022-11-28&fdate=2022-11-29\n"
     ]
    },
    {
     "name": "stderr",
     "output_type": "stream",
     "text": [
      "Carregando dados de tc-real, Parte 2: 100%|██████████| 106/106 [00:00<00:00, 157.08it/s]\n"
     ]
    },
    {
     "name": "stdout",
     "output_type": "stream",
     "text": [
      "Dados de tc-real salvos em tc-real_part_2.csv\n",
      "Processando parte 3/4\n",
      "Fetching data from http://montreal.icea.decea.mil.br:5002/api/v1/tc-real?token=a779d04f85c4bf6cfa586d30aaec57c44e9b7173&idate=2022-11-29&fdate=2022-11-30\n",
      "Fetching data from http://montreal.icea.decea.mil.br:5002/api/v1/tc-real?token=a779d04f85c4bf6cfa586d30aaec57c44e9b7173&idate=2022-11-30&fdate=2022-12-01\n",
      "Fetching data from http://montreal.icea.decea.mil.br:5002/api/v1/tc-real?token=a779d04f85c4bf6cfa586d30aaec57c44e9b7173&idate=2022-12-01&fdate=2022-12-02\n",
      "Fetching data from http://montreal.icea.decea.mil.br:5002/api/v1/tc-real?token=a779d04f85c4bf6cfa586d30aaec57c44e9b7173&idate=2022-12-02&fdate=2022-12-03\n",
      "Fetching data from http://montreal.icea.decea.mil.br:5002/api/v1/tc-real?token=a779d04f85c4bf6cfa586d30aaec57c44e9b7173&idate=2022-12-03&fdate=2022-12-04\n",
      "Fetching data from http://montreal.icea.decea.mil.br:5002/api/v1/tc-real?token=a779d04f85c4bf6cfa586d30aaec57c44e9b7173&idate=2022-12-04&fdate=2022-12-05\n",
      "Fetching data from http://montreal.icea.decea.mil.br:5002/api/v1/tc-real?token=a779d04f85c4bf6cfa586d30aaec57c44e9b7173&idate=2022-12-05&fdate=2022-12-06\n",
      "Fetching data from http://montreal.icea.decea.mil.br:5002/api/v1/tc-real?token=a779d04f85c4bf6cfa586d30aaec57c44e9b7173&idate=2022-12-06&fdate=2022-12-07\n",
      "Fetching data from http://montreal.icea.decea.mil.br:5002/api/v1/tc-real?token=a779d04f85c4bf6cfa586d30aaec57c44e9b7173&idate=2022-12-07&fdate=2022-12-08\n",
      "Fetching data from http://montreal.icea.decea.mil.br:5002/api/v1/tc-real?token=a779d04f85c4bf6cfa586d30aaec57c44e9b7173&idate=2022-12-08&fdate=2022-12-09\n"
     ]
    },
    {
     "name": "stderr",
     "output_type": "stream",
     "text": [
      "Carregando dados de tc-real, Parte 3:  22%|██▏       | 23/106 [00:00<00:00, 226.73it/s]"
     ]
    },
    {
     "name": "stdout",
     "output_type": "stream",
     "text": [
      "Fetching data from http://montreal.icea.decea.mil.br:5002/api/v1/tc-real?token=a779d04f85c4bf6cfa586d30aaec57c44e9b7173&idate=2022-12-09&fdate=2022-12-10\n",
      "Fetching data from http://montreal.icea.decea.mil.br:5002/api/v1/tc-real?token=a779d04f85c4bf6cfa586d30aaec57c44e9b7173&idate=2022-12-10&fdate=2022-12-11\n",
      "Fetching data from http://montreal.icea.decea.mil.br:5002/api/v1/tc-real?token=a779d04f85c4bf6cfa586d30aaec57c44e9b7173&idate=2022-12-11&fdate=2022-12-12\n",
      "Fetching data from http://montreal.icea.decea.mil.br:5002/api/v1/tc-real?token=a779d04f85c4bf6cfa586d30aaec57c44e9b7173&idate=2022-12-12&fdate=2022-12-13\n",
      "Fetching data from http://montreal.icea.decea.mil.br:5002/api/v1/tc-real?token=a779d04f85c4bf6cfa586d30aaec57c44e9b7173&idate=2022-12-13&fdate=2022-12-14\n",
      "Fetching data from http://montreal.icea.decea.mil.br:5002/api/v1/tc-real?token=a779d04f85c4bf6cfa586d30aaec57c44e9b7173&idate=2022-12-14&fdate=2022-12-15\n",
      "Fetching data from http://montreal.icea.decea.mil.br:5002/api/v1/tc-real?token=a779d04f85c4bf6cfa586d30aaec57c44e9b7173&idate=2022-12-15&fdate=2022-12-16\n",
      "Fetching data from http://montreal.icea.decea.mil.br:5002/api/v1/tc-real?token=a779d04f85c4bf6cfa586d30aaec57c44e9b7173&idate=2022-12-16&fdate=2022-12-17\n",
      "Fetching data from http://montreal.icea.decea.mil.br:5002/api/v1/tc-real?token=a779d04f85c4bf6cfa586d30aaec57c44e9b7173&idate=2022-12-17&fdate=2022-12-18\n",
      "Fetching data from http://montreal.icea.decea.mil.br:5002/api/v1/tc-real?token=a779d04f85c4bf6cfa586d30aaec57c44e9b7173&idate=2022-12-18&fdate=2022-12-19\n",
      "Fetching data from http://montreal.icea.decea.mil.br:5002/api/v1/tc-real?token=a779d04f85c4bf6cfa586d30aaec57c44e9b7173&idate=2022-12-19&fdate=2022-12-20\n",
      "Fetching data from http://montreal.icea.decea.mil.br:5002/api/v1/tc-real?token=a779d04f85c4bf6cfa586d30aaec57c44e9b7173&idate=2022-12-20&fdate=2022-12-21\n",
      "Fetching data from http://montreal.icea.decea.mil.br:5002/api/v1/tc-real?token=a779d04f85c4bf6cfa586d30aaec57c44e9b7173&idate=2022-12-21&fdate=2022-12-22\n",
      "Fetching data from http://montreal.icea.decea.mil.br:5002/api/v1/tc-real?token=a779d04f85c4bf6cfa586d30aaec57c44e9b7173&idate=2022-12-22&fdate=2022-12-23\n",
      "Fetching data from http://montreal.icea.decea.mil.br:5002/api/v1/tc-real?token=a779d04f85c4bf6cfa586d30aaec57c44e9b7173&idate=2022-12-23&fdate=2022-12-24\n",
      "Fetching data from http://montreal.icea.decea.mil.br:5002/api/v1/tc-real?token=a779d04f85c4bf6cfa586d30aaec57c44e9b7173&idate=2022-12-24&fdate=2022-12-25\n",
      "Fetching data from http://montreal.icea.decea.mil.br:5002/api/v1/tc-real?token=a779d04f85c4bf6cfa586d30aaec57c44e9b7173&idate=2022-12-25&fdate=2022-12-26\n",
      "Fetching data from http://montreal.icea.decea.mil.br:5002/api/v1/tc-real?token=a779d04f85c4bf6cfa586d30aaec57c44e9b7173&idate=2022-12-26&fdate=2022-12-27\n",
      "Fetching data from http://montreal.icea.decea.mil.br:5002/api/v1/tc-real?token=a779d04f85c4bf6cfa586d30aaec57c44e9b7173&idate=2022-12-27&fdate=2022-12-28\n",
      "Fetching data from http://montreal.icea.decea.mil.br:5002/api/v1/tc-real?token=a779d04f85c4bf6cfa586d30aaec57c44e9b7173&idate=2022-12-28&fdate=2022-12-29\n",
      "Fetching data from http://montreal.icea.decea.mil.br:5002/api/v1/tc-real?token=a779d04f85c4bf6cfa586d30aaec57c44e9b7173&idate=2022-12-29&fdate=2022-12-30\n",
      "Fetching data from http://montreal.icea.decea.mil.br:5002/api/v1/tc-real?token=a779d04f85c4bf6cfa586d30aaec57c44e9b7173&idate=2022-12-30&fdate=2022-12-31\n",
      "Fetching data from http://montreal.icea.decea.mil.br:5002/api/v1/tc-real?token=a779d04f85c4bf6cfa586d30aaec57c44e9b7173&idate=2022-12-31&fdate=2023-01-01\n",
      "Fetching data from http://montreal.icea.decea.mil.br:5002/api/v1/tc-real?token=a779d04f85c4bf6cfa586d30aaec57c44e9b7173&idate=2023-01-01&fdate=2023-01-02\n",
      "Fetching data from http://montreal.icea.decea.mil.br:5002/api/v1/tc-real?token=a779d04f85c4bf6cfa586d30aaec57c44e9b7173&idate=2023-01-02&fdate=2023-01-03\n",
      "Fetching data from http://montreal.icea.decea.mil.br:5002/api/v1/tc-real?token=a779d04f85c4bf6cfa586d30aaec57c44e9b7173&idate=2023-01-03&fdate=2023-01-04\n",
      "Fetching data from http://montreal.icea.decea.mil.br:5002/api/v1/tc-real?token=a779d04f85c4bf6cfa586d30aaec57c44e9b7173&idate=2023-01-04&fdate=2023-01-05\n",
      "Fetching data from http://montreal.icea.decea.mil.br:5002/api/v1/tc-real?token=a779d04f85c4bf6cfa586d30aaec57c44e9b7173&idate=2023-01-05&fdate=2023-01-06\n",
      "Fetching data from http://montreal.icea.decea.mil.br:5002/api/v1/tc-real?token=a779d04f85c4bf6cfa586d30aaec57c44e9b7173&idate=2023-01-06&fdate=2023-01-07\n",
      "Fetching data from http://montreal.icea.decea.mil.br:5002/api/v1/tc-real?token=a779d04f85c4bf6cfa586d30aaec57c44e9b7173&idate=2023-01-07&fdate=2023-01-08\n",
      "Fetching data from http://montreal.icea.decea.mil.br:5002/api/v1/tc-real?token=a779d04f85c4bf6cfa586d30aaec57c44e9b7173&idate=2023-01-08&fdate=2023-01-09\n",
      "Fetching data from http://montreal.icea.decea.mil.br:5002/api/v1/tc-real?token=a779d04f85c4bf6cfa586d30aaec57c44e9b7173&idate=2023-01-09&fdate=2023-01-10\n",
      "Fetching data from http://montreal.icea.decea.mil.br:5002/api/v1/tc-real?token=a779d04f85c4bf6cfa586d30aaec57c44e9b7173&idate=2023-01-10&fdate=2023-01-11\n",
      "Fetching data from http://montreal.icea.decea.mil.br:5002/api/v1/tc-real?token=a779d04f85c4bf6cfa586d30aaec57c44e9b7173&idate=2023-01-11&fdate=2023-01-12\n",
      "Fetching data from http://montreal.icea.decea.mil.br:5002/api/v1/tc-real?token=a779d04f85c4bf6cfa586d30aaec57c44e9b7173&idate=2023-01-12&fdate=2023-01-13\n",
      "Fetching data from http://montreal.icea.decea.mil.br:5002/api/v1/tc-real?token=a779d04f85c4bf6cfa586d30aaec57c44e9b7173&idate=2023-01-13&fdate=2023-01-14\n",
      "Fetching data from http://montreal.icea.decea.mil.br:5002/api/v1/tc-real?token=a779d04f85c4bf6cfa586d30aaec57c44e9b7173&idate=2023-01-14&fdate=2023-01-15\n",
      "Fetching data from http://montreal.icea.decea.mil.br:5002/api/v1/tc-real?token=a779d04f85c4bf6cfa586d30aaec57c44e9b7173&idate=2023-01-15&fdate=2023-01-16\n",
      "Fetching data from http://montreal.icea.decea.mil.br:5002/api/v1/tc-real?token=a779d04f85c4bf6cfa586d30aaec57c44e9b7173&idate=2023-01-16&fdate=2023-01-17\n",
      "Fetching data from http://montreal.icea.decea.mil.br:5002/api/v1/tc-real?token=a779d04f85c4bf6cfa586d30aaec57c44e9b7173&idate=2023-01-17&fdate=2023-01-18\n",
      "Fetching data from http://montreal.icea.decea.mil.br:5002/api/v1/tc-real?token=a779d04f85c4bf6cfa586d30aaec57c44e9b7173&idate=2023-01-18&fdate=2023-01-19\n",
      "Fetching data from http://montreal.icea.decea.mil.br:5002/api/v1/tc-real?token=a779d04f85c4bf6cfa586d30aaec57c44e9b7173&idate=2023-01-19&fdate=2023-01-20\n",
      "Fetching data from http://montreal.icea.decea.mil.br:5002/api/v1/tc-real?token=a779d04f85c4bf6cfa586d30aaec57c44e9b7173&idate=2023-01-20&fdate=2023-01-21\n",
      "Fetching data from http://montreal.icea.decea.mil.br:5002/api/v1/tc-real?token=a779d04f85c4bf6cfa586d30aaec57c44e9b7173&idate=2023-01-21&fdate=2023-01-22\n",
      "Fetching data from http://montreal.icea.decea.mil.br:5002/api/v1/tc-real?token=a779d04f85c4bf6cfa586d30aaec57c44e9b7173&idate=2023-01-22&fdate=2023-01-23\n",
      "Fetching data from http://montreal.icea.decea.mil.br:5002/api/v1/tc-real?token=a779d04f85c4bf6cfa586d30aaec57c44e9b7173&idate=2023-01-23&fdate=2023-01-24\n"
     ]
    },
    {
     "name": "stderr",
     "output_type": "stream",
     "text": [
      "Carregando dados de tc-real, Parte 3:  44%|████▍     | 47/106 [00:00<00:00, 197.41it/s]"
     ]
    },
    {
     "name": "stdout",
     "output_type": "stream",
     "text": [
      "Fetching data from http://montreal.icea.decea.mil.br:5002/api/v1/tc-real?token=a779d04f85c4bf6cfa586d30aaec57c44e9b7173&idate=2023-01-24&fdate=2023-01-25\n",
      "Fetching data from http://montreal.icea.decea.mil.br:5002/api/v1/tc-real?token=a779d04f85c4bf6cfa586d30aaec57c44e9b7173&idate=2023-01-25&fdate=2023-01-26\n",
      "Fetching data from http://montreal.icea.decea.mil.br:5002/api/v1/tc-real?token=a779d04f85c4bf6cfa586d30aaec57c44e9b7173&idate=2023-01-26&fdate=2023-01-27\n",
      "Fetching data from http://montreal.icea.decea.mil.br:5002/api/v1/tc-real?token=a779d04f85c4bf6cfa586d30aaec57c44e9b7173&idate=2023-01-27&fdate=2023-01-28\n",
      "Fetching data from http://montreal.icea.decea.mil.br:5002/api/v1/tc-real?token=a779d04f85c4bf6cfa586d30aaec57c44e9b7173&idate=2023-01-28&fdate=2023-01-29\n",
      "Fetching data from http://montreal.icea.decea.mil.br:5002/api/v1/tc-real?token=a779d04f85c4bf6cfa586d30aaec57c44e9b7173&idate=2023-01-29&fdate=2023-01-30\n",
      "Fetching data from http://montreal.icea.decea.mil.br:5002/api/v1/tc-real?token=a779d04f85c4bf6cfa586d30aaec57c44e9b7173&idate=2023-01-30&fdate=2023-01-31\n",
      "Fetching data from http://montreal.icea.decea.mil.br:5002/api/v1/tc-real?token=a779d04f85c4bf6cfa586d30aaec57c44e9b7173&idate=2023-01-31&fdate=2023-02-01\n",
      "Fetching data from http://montreal.icea.decea.mil.br:5002/api/v1/tc-real?token=a779d04f85c4bf6cfa586d30aaec57c44e9b7173&idate=2023-02-01&fdate=2023-02-02\n",
      "Fetching data from http://montreal.icea.decea.mil.br:5002/api/v1/tc-real?token=a779d04f85c4bf6cfa586d30aaec57c44e9b7173&idate=2023-02-02&fdate=2023-02-03\n",
      "Fetching data from http://montreal.icea.decea.mil.br:5002/api/v1/tc-real?token=a779d04f85c4bf6cfa586d30aaec57c44e9b7173&idate=2023-02-03&fdate=2023-02-04\n",
      "Fetching data from http://montreal.icea.decea.mil.br:5002/api/v1/tc-real?token=a779d04f85c4bf6cfa586d30aaec57c44e9b7173&idate=2023-02-04&fdate=2023-02-05\n",
      "Fetching data from http://montreal.icea.decea.mil.br:5002/api/v1/tc-real?token=a779d04f85c4bf6cfa586d30aaec57c44e9b7173&idate=2023-02-05&fdate=2023-02-06\n",
      "Fetching data from http://montreal.icea.decea.mil.br:5002/api/v1/tc-real?token=a779d04f85c4bf6cfa586d30aaec57c44e9b7173&idate=2023-02-06&fdate=2023-02-07\n",
      "Fetching data from http://montreal.icea.decea.mil.br:5002/api/v1/tc-real?token=a779d04f85c4bf6cfa586d30aaec57c44e9b7173&idate=2023-02-07&fdate=2023-02-08\n",
      "Fetching data from http://montreal.icea.decea.mil.br:5002/api/v1/tc-real?token=a779d04f85c4bf6cfa586d30aaec57c44e9b7173&idate=2023-02-08&fdate=2023-02-09\n",
      "Fetching data from http://montreal.icea.decea.mil.br:5002/api/v1/tc-real?token=a779d04f85c4bf6cfa586d30aaec57c44e9b7173&idate=2023-02-09&fdate=2023-02-10\n",
      "Fetching data from http://montreal.icea.decea.mil.br:5002/api/v1/tc-real?token=a779d04f85c4bf6cfa586d30aaec57c44e9b7173&idate=2023-02-10&fdate=2023-02-11\n",
      "Fetching data from http://montreal.icea.decea.mil.br:5002/api/v1/tc-real?token=a779d04f85c4bf6cfa586d30aaec57c44e9b7173&idate=2023-02-11&fdate=2023-02-12\n",
      "Fetching data from http://montreal.icea.decea.mil.br:5002/api/v1/tc-real?token=a779d04f85c4bf6cfa586d30aaec57c44e9b7173&idate=2023-02-12&fdate=2023-02-13\n",
      "Fetching data from http://montreal.icea.decea.mil.br:5002/api/v1/tc-real?token=a779d04f85c4bf6cfa586d30aaec57c44e9b7173&idate=2023-02-13&fdate=2023-02-14\n",
      "Fetching data from http://montreal.icea.decea.mil.br:5002/api/v1/tc-real?token=a779d04f85c4bf6cfa586d30aaec57c44e9b7173&idate=2023-02-14&fdate=2023-02-15\n"
     ]
    },
    {
     "name": "stderr",
     "output_type": "stream",
     "text": [
      "Carregando dados de tc-real, Parte 3:  69%|██████▉   | 73/106 [00:00<00:00, 220.85it/s]"
     ]
    },
    {
     "name": "stdout",
     "output_type": "stream",
     "text": [
      "Fetching data from http://montreal.icea.decea.mil.br:5002/api/v1/tc-real?token=a779d04f85c4bf6cfa586d30aaec57c44e9b7173&idate=2023-02-15&fdate=2023-02-16Fetching data from http://montreal.icea.decea.mil.br:5002/api/v1/tc-real?token=a779d04f85c4bf6cfa586d30aaec57c44e9b7173&idate=2023-02-16&fdate=2023-02-17\n",
      "\n",
      "Fetching data from http://montreal.icea.decea.mil.br:5002/api/v1/tc-real?token=a779d04f85c4bf6cfa586d30aaec57c44e9b7173&idate=2023-02-17&fdate=2023-02-18\n",
      "Fetching data from http://montreal.icea.decea.mil.br:5002/api/v1/tc-real?token=a779d04f85c4bf6cfa586d30aaec57c44e9b7173&idate=2023-02-18&fdate=2023-02-19\n",
      "Fetching data from http://montreal.icea.decea.mil.br:5002/api/v1/tc-real?token=a779d04f85c4bf6cfa586d30aaec57c44e9b7173&idate=2023-02-19&fdate=2023-02-20\n",
      "Fetching data from http://montreal.icea.decea.mil.br:5002/api/v1/tc-real?token=a779d04f85c4bf6cfa586d30aaec57c44e9b7173&idate=2023-02-20&fdate=2023-02-21\n",
      "Fetching data from http://montreal.icea.decea.mil.br:5002/api/v1/tc-real?token=a779d04f85c4bf6cfa586d30aaec57c44e9b7173&idate=2023-02-21&fdate=2023-02-22\n",
      "Fetching data from http://montreal.icea.decea.mil.br:5002/api/v1/tc-real?token=a779d04f85c4bf6cfa586d30aaec57c44e9b7173&idate=2023-02-22&fdate=2023-02-23\n",
      "Fetching data from http://montreal.icea.decea.mil.br:5002/api/v1/tc-real?token=a779d04f85c4bf6cfa586d30aaec57c44e9b7173&idate=2023-02-23&fdate=2023-02-24\n",
      "Fetching data from http://montreal.icea.decea.mil.br:5002/api/v1/tc-real?token=a779d04f85c4bf6cfa586d30aaec57c44e9b7173&idate=2023-02-24&fdate=2023-02-25\n",
      "Fetching data from http://montreal.icea.decea.mil.br:5002/api/v1/tc-real?token=a779d04f85c4bf6cfa586d30aaec57c44e9b7173&idate=2023-02-25&fdate=2023-02-26\n",
      "Fetching data from http://montreal.icea.decea.mil.br:5002/api/v1/tc-real?token=a779d04f85c4bf6cfa586d30aaec57c44e9b7173&idate=2023-02-26&fdate=2023-02-27\n",
      "Fetching data from http://montreal.icea.decea.mil.br:5002/api/v1/tc-real?token=a779d04f85c4bf6cfa586d30aaec57c44e9b7173&idate=2023-02-27&fdate=2023-02-28\n",
      "Fetching data from http://montreal.icea.decea.mil.br:5002/api/v1/tc-real?token=a779d04f85c4bf6cfa586d30aaec57c44e9b7173&idate=2023-02-28&fdate=2023-03-01\n",
      "Fetching data from http://montreal.icea.decea.mil.br:5002/api/v1/tc-real?token=a779d04f85c4bf6cfa586d30aaec57c44e9b7173&idate=2023-03-01&fdate=2023-03-02\n",
      "Fetching data from http://montreal.icea.decea.mil.br:5002/api/v1/tc-real?token=a779d04f85c4bf6cfa586d30aaec57c44e9b7173&idate=2023-03-02&fdate=2023-03-03\n",
      "Fetching data from http://montreal.icea.decea.mil.br:5002/api/v1/tc-real?token=a779d04f85c4bf6cfa586d30aaec57c44e9b7173&idate=2023-03-03&fdate=2023-03-04\n",
      "Fetching data from http://montreal.icea.decea.mil.br:5002/api/v1/tc-real?token=a779d04f85c4bf6cfa586d30aaec57c44e9b7173&idate=2023-03-04&fdate=2023-03-05\n",
      "Fetching data from http://montreal.icea.decea.mil.br:5002/api/v1/tc-real?token=a779d04f85c4bf6cfa586d30aaec57c44e9b7173&idate=2023-03-05&fdate=2023-03-06Fetching data from http://montreal.icea.decea.mil.br:5002/api/v1/tc-real?token=a779d04f85c4bf6cfa586d30aaec57c44e9b7173&idate=2023-03-06&fdate=2023-03-07\n",
      "\n",
      "Fetching data from http://montreal.icea.decea.mil.br:5002/api/v1/tc-real?token=a779d04f85c4bf6cfa586d30aaec57c44e9b7173&idate=2023-03-07&fdate=2023-03-08\n",
      "Fetching data from http://montreal.icea.decea.mil.br:5002/api/v1/tc-real?token=a779d04f85c4bf6cfa586d30aaec57c44e9b7173&idate=2023-03-08&fdate=2023-03-09\n",
      "Fetching data from http://montreal.icea.decea.mil.br:5002/api/v1/tc-real?token=a779d04f85c4bf6cfa586d30aaec57c44e9b7173&idate=2023-03-09&fdate=2023-03-10\n",
      "Fetching data from http://montreal.icea.decea.mil.br:5002/api/v1/tc-real?token=a779d04f85c4bf6cfa586d30aaec57c44e9b7173&idate=2023-03-10&fdate=2023-03-11\n",
      "Fetching data from http://montreal.icea.decea.mil.br:5002/api/v1/tc-real?token=a779d04f85c4bf6cfa586d30aaec57c44e9b7173&idate=2023-03-11&fdate=2023-03-12\n",
      "Fetching data from http://montreal.icea.decea.mil.br:5002/api/v1/tc-real?token=a779d04f85c4bf6cfa586d30aaec57c44e9b7173&idate=2023-03-12&fdate=2023-03-13\n",
      "Fetching data from http://montreal.icea.decea.mil.br:5002/api/v1/tc-real?token=a779d04f85c4bf6cfa586d30aaec57c44e9b7173&idate=2023-03-13&fdate=2023-03-14\n",
      "Fetching data from http://montreal.icea.decea.mil.br:5002/api/v1/tc-real?token=a779d04f85c4bf6cfa586d30aaec57c44e9b7173&idate=2023-03-14&fdate=2023-03-15\n"
     ]
    },
    {
     "name": "stderr",
     "output_type": "stream",
     "text": [
      "Carregando dados de tc-real, Parte 3: 100%|██████████| 106/106 [00:00<00:00, 226.00it/s]\n"
     ]
    },
    {
     "name": "stdout",
     "output_type": "stream",
     "text": [
      "Dados de tc-real salvos em tc-real_part_3.csv\n",
      "Processando parte 4/4\n",
      "Fetching data from http://montreal.icea.decea.mil.br:5002/api/v1/tc-real?token=a779d04f85c4bf6cfa586d30aaec57c44e9b7173&idate=2023-03-15&fdate=2023-03-16\n",
      "Fetching data from http://montreal.icea.decea.mil.br:5002/api/v1/tc-real?token=a779d04f85c4bf6cfa586d30aaec57c44e9b7173&idate=2023-03-16&fdate=2023-03-17\n",
      "Fetching data from http://montreal.icea.decea.mil.br:5002/api/v1/tc-real?token=a779d04f85c4bf6cfa586d30aaec57c44e9b7173&idate=2023-03-17&fdate=2023-03-18\n",
      "Fetching data from http://montreal.icea.decea.mil.br:5002/api/v1/tc-real?token=a779d04f85c4bf6cfa586d30aaec57c44e9b7173&idate=2023-03-18&fdate=2023-03-19\n",
      "Fetching data from http://montreal.icea.decea.mil.br:5002/api/v1/tc-real?token=a779d04f85c4bf6cfa586d30aaec57c44e9b7173&idate=2023-03-19&fdate=2023-03-20\n",
      "Fetching data from http://montreal.icea.decea.mil.br:5002/api/v1/tc-real?token=a779d04f85c4bf6cfa586d30aaec57c44e9b7173&idate=2023-03-20&fdate=2023-03-21\n",
      "Fetching data from http://montreal.icea.decea.mil.br:5002/api/v1/tc-real?token=a779d04f85c4bf6cfa586d30aaec57c44e9b7173&idate=2023-03-21&fdate=2023-03-22\n",
      "Fetching data from http://montreal.icea.decea.mil.br:5002/api/v1/tc-real?token=a779d04f85c4bf6cfa586d30aaec57c44e9b7173&idate=2023-03-22&fdate=2023-03-23\n",
      "Fetching data from http://montreal.icea.decea.mil.br:5002/api/v1/tc-real?token=a779d04f85c4bf6cfa586d30aaec57c44e9b7173&idate=2023-03-23&fdate=2023-03-24\n",
      "Fetching data from http://montreal.icea.decea.mil.br:5002/api/v1/tc-real?token=a779d04f85c4bf6cfa586d30aaec57c44e9b7173&idate=2023-03-24&fdate=2023-03-25\n"
     ]
    },
    {
     "name": "stderr",
     "output_type": "stream",
     "text": [
      "Carregando dados de tc-real, Parte 4:   0%|          | 0/109 [00:00<?, ?it/s]"
     ]
    },
    {
     "name": "stdout",
     "output_type": "stream",
     "text": [
      "Fetching data from http://montreal.icea.decea.mil.br:5002/api/v1/tc-real?token=a779d04f85c4bf6cfa586d30aaec57c44e9b7173&idate=2023-03-25&fdate=2023-03-26\n",
      "Fetching data from http://montreal.icea.decea.mil.br:5002/api/v1/tc-real?token=a779d04f85c4bf6cfa586d30aaec57c44e9b7173&idate=2023-03-26&fdate=2023-03-27\n",
      "Fetching data from http://montreal.icea.decea.mil.br:5002/api/v1/tc-real?token=a779d04f85c4bf6cfa586d30aaec57c44e9b7173&idate=2023-03-27&fdate=2023-03-28\n",
      "Fetching data from http://montreal.icea.decea.mil.br:5002/api/v1/tc-real?token=a779d04f85c4bf6cfa586d30aaec57c44e9b7173&idate=2023-03-28&fdate=2023-03-29\n",
      "Fetching data from http://montreal.icea.decea.mil.br:5002/api/v1/tc-real?token=a779d04f85c4bf6cfa586d30aaec57c44e9b7173&idate=2023-03-29&fdate=2023-03-30\n",
      "Fetching data from http://montreal.icea.decea.mil.br:5002/api/v1/tc-real?token=a779d04f85c4bf6cfa586d30aaec57c44e9b7173&idate=2023-03-30&fdate=2023-03-31\n",
      "Fetching data from http://montreal.icea.decea.mil.br:5002/api/v1/tc-real?token=a779d04f85c4bf6cfa586d30aaec57c44e9b7173&idate=2023-03-31&fdate=2023-04-01\n",
      "Fetching data from http://montreal.icea.decea.mil.br:5002/api/v1/tc-real?token=a779d04f85c4bf6cfa586d30aaec57c44e9b7173&idate=2023-04-01&fdate=2023-04-02\n",
      "Fetching data from http://montreal.icea.decea.mil.br:5002/api/v1/tc-real?token=a779d04f85c4bf6cfa586d30aaec57c44e9b7173&idate=2023-04-02&fdate=2023-04-03\n",
      "Fetching data from http://montreal.icea.decea.mil.br:5002/api/v1/tc-real?token=a779d04f85c4bf6cfa586d30aaec57c44e9b7173&idate=2023-04-03&fdate=2023-04-04\n",
      "Fetching data from http://montreal.icea.decea.mil.br:5002/api/v1/tc-real?token=a779d04f85c4bf6cfa586d30aaec57c44e9b7173&idate=2023-04-04&fdate=2023-04-05\n",
      "Fetching data from http://montreal.icea.decea.mil.br:5002/api/v1/tc-real?token=a779d04f85c4bf6cfa586d30aaec57c44e9b7173&idate=2023-04-05&fdate=2023-04-06\n",
      "Fetching data from http://montreal.icea.decea.mil.br:5002/api/v1/tc-real?token=a779d04f85c4bf6cfa586d30aaec57c44e9b7173&idate=2023-04-06&fdate=2023-04-07\n",
      "Fetching data from http://montreal.icea.decea.mil.br:5002/api/v1/tc-real?token=a779d04f85c4bf6cfa586d30aaec57c44e9b7173&idate=2023-04-07&fdate=2023-04-08\n",
      "Fetching data from http://montreal.icea.decea.mil.br:5002/api/v1/tc-real?token=a779d04f85c4bf6cfa586d30aaec57c44e9b7173&idate=2023-04-08&fdate=2023-04-09\n",
      "Fetching data from http://montreal.icea.decea.mil.br:5002/api/v1/tc-real?token=a779d04f85c4bf6cfa586d30aaec57c44e9b7173&idate=2023-04-09&fdate=2023-04-10\n",
      "Fetching data from http://montreal.icea.decea.mil.br:5002/api/v1/tc-real?token=a779d04f85c4bf6cfa586d30aaec57c44e9b7173&idate=2023-04-10&fdate=2023-04-11\n",
      "Fetching data from http://montreal.icea.decea.mil.br:5002/api/v1/tc-real?token=a779d04f85c4bf6cfa586d30aaec57c44e9b7173&idate=2023-04-11&fdate=2023-04-12\n",
      "Fetching data from http://montreal.icea.decea.mil.br:5002/api/v1/tc-real?token=a779d04f85c4bf6cfa586d30aaec57c44e9b7173&idate=2023-04-12&fdate=2023-04-13\n",
      "Fetching data from http://montreal.icea.decea.mil.br:5002/api/v1/tc-real?token=a779d04f85c4bf6cfa586d30aaec57c44e9b7173&idate=2023-04-13&fdate=2023-04-14\n",
      "Fetching data from http://montreal.icea.decea.mil.br:5002/api/v1/tc-real?token=a779d04f85c4bf6cfa586d30aaec57c44e9b7173&idate=2023-04-14&fdate=2023-04-15\n"
     ]
    },
    {
     "name": "stderr",
     "output_type": "stream",
     "text": [
      "Carregando dados de tc-real, Parte 4:  20%|██        | 22/109 [00:00<00:00, 211.52it/s]"
     ]
    },
    {
     "name": "stdout",
     "output_type": "stream",
     "text": [
      "Fetching data from http://montreal.icea.decea.mil.br:5002/api/v1/tc-real?token=a779d04f85c4bf6cfa586d30aaec57c44e9b7173&idate=2023-04-15&fdate=2023-04-16\n",
      "Fetching data from http://montreal.icea.decea.mil.br:5002/api/v1/tc-real?token=a779d04f85c4bf6cfa586d30aaec57c44e9b7173&idate=2023-04-16&fdate=2023-04-17\n",
      "Fetching data from http://montreal.icea.decea.mil.br:5002/api/v1/tc-real?token=a779d04f85c4bf6cfa586d30aaec57c44e9b7173&idate=2023-04-17&fdate=2023-04-18\n",
      "Fetching data from http://montreal.icea.decea.mil.br:5002/api/v1/tc-real?token=a779d04f85c4bf6cfa586d30aaec57c44e9b7173&idate=2023-04-18&fdate=2023-04-19\n",
      "Fetching data from http://montreal.icea.decea.mil.br:5002/api/v1/tc-real?token=a779d04f85c4bf6cfa586d30aaec57c44e9b7173&idate=2023-04-19&fdate=2023-04-20\n",
      "Fetching data from http://montreal.icea.decea.mil.br:5002/api/v1/tc-real?token=a779d04f85c4bf6cfa586d30aaec57c44e9b7173&idate=2023-04-20&fdate=2023-04-21\n",
      "Fetching data from http://montreal.icea.decea.mil.br:5002/api/v1/tc-real?token=a779d04f85c4bf6cfa586d30aaec57c44e9b7173&idate=2023-04-21&fdate=2023-04-22\n",
      "Fetching data from http://montreal.icea.decea.mil.br:5002/api/v1/tc-real?token=a779d04f85c4bf6cfa586d30aaec57c44e9b7173&idate=2023-04-22&fdate=2023-04-23\n",
      "Fetching data from http://montreal.icea.decea.mil.br:5002/api/v1/tc-real?token=a779d04f85c4bf6cfa586d30aaec57c44e9b7173&idate=2023-04-23&fdate=2023-04-24\n",
      "Fetching data from http://montreal.icea.decea.mil.br:5002/api/v1/tc-real?token=a779d04f85c4bf6cfa586d30aaec57c44e9b7173&idate=2023-04-24&fdate=2023-04-25\n",
      "Fetching data from http://montreal.icea.decea.mil.br:5002/api/v1/tc-real?token=a779d04f85c4bf6cfa586d30aaec57c44e9b7173&idate=2023-04-25&fdate=2023-04-26\n",
      "Fetching data from http://montreal.icea.decea.mil.br:5002/api/v1/tc-real?token=a779d04f85c4bf6cfa586d30aaec57c44e9b7173&idate=2023-04-26&fdate=2023-04-27\n",
      "Fetching data from http://montreal.icea.decea.mil.br:5002/api/v1/tc-real?token=a779d04f85c4bf6cfa586d30aaec57c44e9b7173&idate=2023-04-27&fdate=2023-04-28\n",
      "Fetching data from http://montreal.icea.decea.mil.br:5002/api/v1/tc-real?token=a779d04f85c4bf6cfa586d30aaec57c44e9b7173&idate=2023-04-28&fdate=2023-04-29\n",
      "Fetching data from http://montreal.icea.decea.mil.br:5002/api/v1/tc-real?token=a779d04f85c4bf6cfa586d30aaec57c44e9b7173&idate=2023-04-29&fdate=2023-04-30\n",
      "Fetching data from http://montreal.icea.decea.mil.br:5002/api/v1/tc-real?token=a779d04f85c4bf6cfa586d30aaec57c44e9b7173&idate=2023-04-30&fdate=2023-05-01\n",
      "Fetching data from http://montreal.icea.decea.mil.br:5002/api/v1/tc-real?token=a779d04f85c4bf6cfa586d30aaec57c44e9b7173&idate=2023-05-01&fdate=2023-05-02\n",
      "Fetching data from http://montreal.icea.decea.mil.br:5002/api/v1/tc-real?token=a779d04f85c4bf6cfa586d30aaec57c44e9b7173&idate=2023-05-02&fdate=2023-05-03\n",
      "Fetching data from http://montreal.icea.decea.mil.br:5002/api/v1/tc-real?token=a779d04f85c4bf6cfa586d30aaec57c44e9b7173&idate=2023-05-03&fdate=2023-05-04\n",
      "Fetching data from http://montreal.icea.decea.mil.br:5002/api/v1/tc-real?token=a779d04f85c4bf6cfa586d30aaec57c44e9b7173&idate=2023-05-04&fdate=2023-05-05\n",
      "Fetching data from http://montreal.icea.decea.mil.br:5002/api/v1/tc-real?token=a779d04f85c4bf6cfa586d30aaec57c44e9b7173&idate=2023-05-05&fdate=2023-05-06\n"
     ]
    },
    {
     "name": "stderr",
     "output_type": "stream",
     "text": [
      "Carregando dados de tc-real, Parte 4:  46%|████▌     | 50/109 [00:00<00:00, 241.43it/s]"
     ]
    },
    {
     "name": "stdout",
     "output_type": "stream",
     "text": [
      "Fetching data from http://montreal.icea.decea.mil.br:5002/api/v1/tc-real?token=a779d04f85c4bf6cfa586d30aaec57c44e9b7173&idate=2023-05-06&fdate=2023-05-07\n",
      "Fetching data from http://montreal.icea.decea.mil.br:5002/api/v1/tc-real?token=a779d04f85c4bf6cfa586d30aaec57c44e9b7173&idate=2023-05-07&fdate=2023-05-08\n",
      "Fetching data from http://montreal.icea.decea.mil.br:5002/api/v1/tc-real?token=a779d04f85c4bf6cfa586d30aaec57c44e9b7173&idate=2023-05-08&fdate=2023-05-09\n",
      "Fetching data from http://montreal.icea.decea.mil.br:5002/api/v1/tc-real?token=a779d04f85c4bf6cfa586d30aaec57c44e9b7173&idate=2023-05-09&fdate=2023-05-10\n",
      "Fetching data from http://montreal.icea.decea.mil.br:5002/api/v1/tc-real?token=a779d04f85c4bf6cfa586d30aaec57c44e9b7173&idate=2023-05-10&fdate=2023-05-11\n",
      "Fetching data from http://montreal.icea.decea.mil.br:5002/api/v1/tc-real?token=a779d04f85c4bf6cfa586d30aaec57c44e9b7173&idate=2023-05-11&fdate=2023-05-12\n",
      "Fetching data from http://montreal.icea.decea.mil.br:5002/api/v1/tc-real?token=a779d04f85c4bf6cfa586d30aaec57c44e9b7173&idate=2023-05-12&fdate=2023-05-13\n",
      "Fetching data from http://montreal.icea.decea.mil.br:5002/api/v1/tc-real?token=a779d04f85c4bf6cfa586d30aaec57c44e9b7173&idate=2023-05-13&fdate=2023-05-14\n",
      "Fetching data from http://montreal.icea.decea.mil.br:5002/api/v1/tc-real?token=a779d04f85c4bf6cfa586d30aaec57c44e9b7173&idate=2023-05-14&fdate=2023-05-15\n",
      "Fetching data from http://montreal.icea.decea.mil.br:5002/api/v1/tc-real?token=a779d04f85c4bf6cfa586d30aaec57c44e9b7173&idate=2023-05-15&fdate=2023-05-16\n",
      "Fetching data from http://montreal.icea.decea.mil.br:5002/api/v1/tc-real?token=a779d04f85c4bf6cfa586d30aaec57c44e9b7173&idate=2023-05-16&fdate=2023-05-17\n",
      "Fetching data from http://montreal.icea.decea.mil.br:5002/api/v1/tc-real?token=a779d04f85c4bf6cfa586d30aaec57c44e9b7173&idate=2023-05-17&fdate=2023-05-18\n",
      "Fetching data from http://montreal.icea.decea.mil.br:5002/api/v1/tc-real?token=a779d04f85c4bf6cfa586d30aaec57c44e9b7173&idate=2023-05-18&fdate=2023-05-19\n",
      "Fetching data from http://montreal.icea.decea.mil.br:5002/api/v1/tc-real?token=a779d04f85c4bf6cfa586d30aaec57c44e9b7173&idate=2023-05-19&fdate=2023-05-20\n",
      "Fetching data from http://montreal.icea.decea.mil.br:5002/api/v1/tc-real?token=a779d04f85c4bf6cfa586d30aaec57c44e9b7173&idate=2023-05-20&fdate=2023-05-21\n",
      "Fetching data from http://montreal.icea.decea.mil.br:5002/api/v1/tc-real?token=a779d04f85c4bf6cfa586d30aaec57c44e9b7173&idate=2023-05-21&fdate=2023-05-22\n",
      "Fetching data from http://montreal.icea.decea.mil.br:5002/api/v1/tc-real?token=a779d04f85c4bf6cfa586d30aaec57c44e9b7173&idate=2023-05-22&fdate=2023-05-23\n",
      "Fetching data from http://montreal.icea.decea.mil.br:5002/api/v1/tc-real?token=a779d04f85c4bf6cfa586d30aaec57c44e9b7173&idate=2023-05-23&fdate=2023-05-24Fetching data from http://montreal.icea.decea.mil.br:5002/api/v1/tc-real?token=a779d04f85c4bf6cfa586d30aaec57c44e9b7173&idate=2023-05-24&fdate=2023-05-25\n",
      "\n",
      "Fetching data from http://montreal.icea.decea.mil.br:5002/api/v1/tc-real?token=a779d04f85c4bf6cfa586d30aaec57c44e9b7173&idate=2023-05-25&fdate=2023-05-26\n",
      "Fetching data from http://montreal.icea.decea.mil.br:5002/api/v1/tc-real?token=a779d04f85c4bf6cfa586d30aaec57c44e9b7173&idate=2023-05-26&fdate=2023-05-27\n",
      "Fetching data from http://montreal.icea.decea.mil.br:5002/api/v1/tc-real?token=a779d04f85c4bf6cfa586d30aaec57c44e9b7173&idate=2023-05-27&fdate=2023-05-28\n",
      "Fetching data from http://montreal.icea.decea.mil.br:5002/api/v1/tc-real?token=a779d04f85c4bf6cfa586d30aaec57c44e9b7173&idate=2023-05-28&fdate=2023-05-29\n",
      "Fetching data from http://montreal.icea.decea.mil.br:5002/api/v1/tc-real?token=a779d04f85c4bf6cfa586d30aaec57c44e9b7173&idate=2023-05-29&fdate=2023-05-30\n",
      "Fetching data from http://montreal.icea.decea.mil.br:5002/api/v1/tc-real?token=a779d04f85c4bf6cfa586d30aaec57c44e9b7173&idate=2023-05-30&fdate=2023-05-31\n",
      "Fetching data from http://montreal.icea.decea.mil.br:5002/api/v1/tc-real?token=a779d04f85c4bf6cfa586d30aaec57c44e9b7173&idate=2023-05-31&fdate=2023-06-01\n",
      "Fetching data from http://montreal.icea.decea.mil.br:5002/api/v1/tc-real?token=a779d04f85c4bf6cfa586d30aaec57c44e9b7173&idate=2023-06-01&fdate=2023-06-02\n",
      "Fetching data from http://montreal.icea.decea.mil.br:5002/api/v1/tc-real?token=a779d04f85c4bf6cfa586d30aaec57c44e9b7173&idate=2023-06-02&fdate=2023-06-03\n",
      "Fetching data from http://montreal.icea.decea.mil.br:5002/api/v1/tc-real?token=a779d04f85c4bf6cfa586d30aaec57c44e9b7173&idate=2023-06-03&fdate=2023-06-04\n"
     ]
    },
    {
     "name": "stderr",
     "output_type": "stream",
     "text": [
      "Carregando dados de tc-real, Parte 4:  69%|██████▉   | 75/109 [00:00<00:00, 230.23it/s]"
     ]
    },
    {
     "name": "stdout",
     "output_type": "stream",
     "text": [
      "Fetching data from http://montreal.icea.decea.mil.br:5002/api/v1/tc-real?token=a779d04f85c4bf6cfa586d30aaec57c44e9b7173&idate=2023-06-04&fdate=2023-06-05\n",
      "Fetching data from http://montreal.icea.decea.mil.br:5002/api/v1/tc-real?token=a779d04f85c4bf6cfa586d30aaec57c44e9b7173&idate=2023-06-05&fdate=2023-06-06\n",
      "Fetching data from http://montreal.icea.decea.mil.br:5002/api/v1/tc-real?token=a779d04f85c4bf6cfa586d30aaec57c44e9b7173&idate=2023-06-06&fdate=2023-06-07\n",
      "Fetching data from http://montreal.icea.decea.mil.br:5002/api/v1/tc-real?token=a779d04f85c4bf6cfa586d30aaec57c44e9b7173&idate=2023-06-07&fdate=2023-06-08\n",
      "Fetching data from http://montreal.icea.decea.mil.br:5002/api/v1/tc-real?token=a779d04f85c4bf6cfa586d30aaec57c44e9b7173&idate=2023-06-08&fdate=2023-06-09\n",
      "Fetching data from http://montreal.icea.decea.mil.br:5002/api/v1/tc-real?token=a779d04f85c4bf6cfa586d30aaec57c44e9b7173&idate=2023-06-09&fdate=2023-06-10\n",
      "Fetching data from http://montreal.icea.decea.mil.br:5002/api/v1/tc-real?token=a779d04f85c4bf6cfa586d30aaec57c44e9b7173&idate=2023-06-10&fdate=2023-06-11\n",
      "Fetching data from http://montreal.icea.decea.mil.br:5002/api/v1/tc-real?token=a779d04f85c4bf6cfa586d30aaec57c44e9b7173&idate=2023-06-11&fdate=2023-06-12\n",
      "Fetching data from http://montreal.icea.decea.mil.br:5002/api/v1/tc-real?token=a779d04f85c4bf6cfa586d30aaec57c44e9b7173&idate=2023-06-12&fdate=2023-06-13\n",
      "Fetching data from http://montreal.icea.decea.mil.br:5002/api/v1/tc-real?token=a779d04f85c4bf6cfa586d30aaec57c44e9b7173&idate=2023-06-13&fdate=2023-06-14\n",
      "Fetching data from http://montreal.icea.decea.mil.br:5002/api/v1/tc-real?token=a779d04f85c4bf6cfa586d30aaec57c44e9b7173&idate=2023-06-14&fdate=2023-06-15\n",
      "Fetching data from http://montreal.icea.decea.mil.br:5002/api/v1/tc-real?token=a779d04f85c4bf6cfa586d30aaec57c44e9b7173&idate=2023-06-15&fdate=2023-06-16\n",
      "Fetching data from http://montreal.icea.decea.mil.br:5002/api/v1/tc-real?token=a779d04f85c4bf6cfa586d30aaec57c44e9b7173&idate=2023-06-16&fdate=2023-06-17\n",
      "Fetching data from http://montreal.icea.decea.mil.br:5002/api/v1/tc-real?token=a779d04f85c4bf6cfa586d30aaec57c44e9b7173&idate=2023-06-17&fdate=2023-06-18\n",
      "Fetching data from http://montreal.icea.decea.mil.br:5002/api/v1/tc-real?token=a779d04f85c4bf6cfa586d30aaec57c44e9b7173&idate=2023-06-18&fdate=2023-06-19\n",
      "Fetching data from http://montreal.icea.decea.mil.br:5002/api/v1/tc-real?token=a779d04f85c4bf6cfa586d30aaec57c44e9b7173&idate=2023-06-19&fdate=2023-06-20\n",
      "Fetching data from http://montreal.icea.decea.mil.br:5002/api/v1/tc-real?token=a779d04f85c4bf6cfa586d30aaec57c44e9b7173&idate=2023-06-20&fdate=2023-06-21\n",
      "Fetching data from http://montreal.icea.decea.mil.br:5002/api/v1/tc-real?token=a779d04f85c4bf6cfa586d30aaec57c44e9b7173&idate=2023-06-21&fdate=2023-06-22\n",
      "Fetching data from http://montreal.icea.decea.mil.br:5002/api/v1/tc-real?token=a779d04f85c4bf6cfa586d30aaec57c44e9b7173&idate=2023-06-22&fdate=2023-06-23\n",
      "Fetching data from http://montreal.icea.decea.mil.br:5002/api/v1/tc-real?token=a779d04f85c4bf6cfa586d30aaec57c44e9b7173&idate=2023-06-23&fdate=2023-06-24\n",
      "Fetching data from http://montreal.icea.decea.mil.br:5002/api/v1/tc-real?token=a779d04f85c4bf6cfa586d30aaec57c44e9b7173&idate=2023-06-24&fdate=2023-06-25\n",
      "Fetching data from http://montreal.icea.decea.mil.br:5002/api/v1/tc-real?token=a779d04f85c4bf6cfa586d30aaec57c44e9b7173&idate=2023-06-25&fdate=2023-06-26\n",
      "Fetching data from http://montreal.icea.decea.mil.br:5002/api/v1/tc-real?token=a779d04f85c4bf6cfa586d30aaec57c44e9b7173&idate=2023-06-26&fdate=2023-06-27\n",
      "Fetching data from http://montreal.icea.decea.mil.br:5002/api/v1/tc-real?token=a779d04f85c4bf6cfa586d30aaec57c44e9b7173&idate=2023-06-27&fdate=2023-06-28\n"
     ]
    },
    {
     "name": "stderr",
     "output_type": "stream",
     "text": [
      "Carregando dados de tc-real, Parte 4: 100%|██████████| 109/109 [00:00<00:00, 250.46it/s]"
     ]
    },
    {
     "name": "stdout",
     "output_type": "stream",
     "text": [
      "Fetching data from http://montreal.icea.decea.mil.br:5002/api/v1/tc-real?token=a779d04f85c4bf6cfa586d30aaec57c44e9b7173&idate=2023-06-28&fdate=2023-06-29Fetching data from http://montreal.icea.decea.mil.br:5002/api/v1/tc-real?token=a779d04f85c4bf6cfa586d30aaec57c44e9b7173&idate=2023-06-29&fdate=2023-06-30\n",
      "\n",
      "Fetching data from http://montreal.icea.decea.mil.br:5002/api/v1/tc-real?token=a779d04f85c4bf6cfa586d30aaec57c44e9b7173&idate=2023-06-30&fdate=2023-07-01\n",
      "Fetching data from http://montreal.icea.decea.mil.br:5002/api/v1/tc-real?token=a779d04f85c4bf6cfa586d30aaec57c44e9b7173&idate=2023-07-01&fdate=2023-07-02\n",
      "Dados de tc-real salvos em tc-real_part_4.csv\n",
      "Processando tc-prev\n",
      "Processando parte 1/4\n",
      "Fetching data from http://montreal.icea.decea.mil.br:5002/api/v1/tc-prev?token=a779d04f85c4bf6cfa586d30aaec57c44e9b7173&idate=2022-05-01&fdate=2022-05-02\n",
      "Fetching data from http://montreal.icea.decea.mil.br:5002/api/v1/tc-prev?token=a779d04f85c4bf6cfa586d30aaec57c44e9b7173&idate=2022-05-02&fdate=2022-05-03\n"
     ]
    },
    {
     "name": "stderr",
     "output_type": "stream",
     "text": [
      "\n"
     ]
    },
    {
     "name": "stdout",
     "output_type": "stream",
     "text": [
      "Fetching data from http://montreal.icea.decea.mil.br:5002/api/v1/tc-prev?token=a779d04f85c4bf6cfa586d30aaec57c44e9b7173&idate=2022-05-03&fdate=2022-05-04\n",
      "Fetching data from http://montreal.icea.decea.mil.br:5002/api/v1/tc-prev?token=a779d04f85c4bf6cfa586d30aaec57c44e9b7173&idate=2022-05-04&fdate=2022-05-05\n",
      "Fetching data from http://montreal.icea.decea.mil.br:5002/api/v1/tc-prev?token=a779d04f85c4bf6cfa586d30aaec57c44e9b7173&idate=2022-05-05&fdate=2022-05-06\n",
      "Fetching data from http://montreal.icea.decea.mil.br:5002/api/v1/tc-prev?token=a779d04f85c4bf6cfa586d30aaec57c44e9b7173&idate=2022-05-06&fdate=2022-05-07\n",
      "Fetching data from http://montreal.icea.decea.mil.br:5002/api/v1/tc-prev?token=a779d04f85c4bf6cfa586d30aaec57c44e9b7173&idate=2022-05-07&fdate=2022-05-08\n",
      "Fetching data from http://montreal.icea.decea.mil.br:5002/api/v1/tc-prev?token=a779d04f85c4bf6cfa586d30aaec57c44e9b7173&idate=2022-05-08&fdate=2022-05-09\n",
      "Fetching data from http://montreal.icea.decea.mil.br:5002/api/v1/tc-prev?token=a779d04f85c4bf6cfa586d30aaec57c44e9b7173&idate=2022-05-09&fdate=2022-05-10\n",
      "Fetching data from http://montreal.icea.decea.mil.br:5002/api/v1/tc-prev?token=a779d04f85c4bf6cfa586d30aaec57c44e9b7173&idate=2022-05-10&fdate=2022-05-11\n"
     ]
    },
    {
     "name": "stderr",
     "output_type": "stream",
     "text": [
      "Carregando dados de tc-prev, Parte 1:   0%|          | 0/106 [00:00<?, ?it/s]"
     ]
    },
    {
     "name": "stdout",
     "output_type": "stream",
     "text": [
      "Fetching data from http://montreal.icea.decea.mil.br:5002/api/v1/tc-prev?token=a779d04f85c4bf6cfa586d30aaec57c44e9b7173&idate=2022-05-11&fdate=2022-05-12\n",
      "Fetching data from http://montreal.icea.decea.mil.br:5002/api/v1/tc-prev?token=a779d04f85c4bf6cfa586d30aaec57c44e9b7173&idate=2022-05-12&fdate=2022-05-13\n",
      "Fetching data from http://montreal.icea.decea.mil.br:5002/api/v1/tc-prev?token=a779d04f85c4bf6cfa586d30aaec57c44e9b7173&idate=2022-05-13&fdate=2022-05-14\n"
     ]
    },
    {
     "name": "stderr",
     "output_type": "stream",
     "text": [
      "Carregando dados de tc-prev, Parte 1:  18%|█▊        | 19/106 [00:00<00:00, 185.47it/s]"
     ]
    },
    {
     "name": "stdout",
     "output_type": "stream",
     "text": [
      "Fetching data from http://montreal.icea.decea.mil.br:5002/api/v1/tc-prev?token=a779d04f85c4bf6cfa586d30aaec57c44e9b7173&idate=2022-05-14&fdate=2022-05-15Fetching data from http://montreal.icea.decea.mil.br:5002/api/v1/tc-prev?token=a779d04f85c4bf6cfa586d30aaec57c44e9b7173&idate=2022-05-15&fdate=2022-05-16\n",
      "Fetching data from http://montreal.icea.decea.mil.br:5002/api/v1/tc-prev?token=a779d04f85c4bf6cfa586d30aaec57c44e9b7173&idate=2022-05-16&fdate=2022-05-17\n",
      "\n",
      "Fetching data from http://montreal.icea.decea.mil.br:5002/api/v1/tc-prev?token=a779d04f85c4bf6cfa586d30aaec57c44e9b7173&idate=2022-05-17&fdate=2022-05-18\n",
      "Fetching data from http://montreal.icea.decea.mil.br:5002/api/v1/tc-prev?token=a779d04f85c4bf6cfa586d30aaec57c44e9b7173&idate=2022-05-18&fdate=2022-05-19\n",
      "Fetching data from http://montreal.icea.decea.mil.br:5002/api/v1/tc-prev?token=a779d04f85c4bf6cfa586d30aaec57c44e9b7173&idate=2022-05-19&fdate=2022-05-20\n",
      "Fetching data from http://montreal.icea.decea.mil.br:5002/api/v1/tc-prev?token=a779d04f85c4bf6cfa586d30aaec57c44e9b7173&idate=2022-05-20&fdate=2022-05-21\n",
      "Fetching data from http://montreal.icea.decea.mil.br:5002/api/v1/tc-prev?token=a779d04f85c4bf6cfa586d30aaec57c44e9b7173&idate=2022-05-21&fdate=2022-05-22\n",
      "Fetching data from http://montreal.icea.decea.mil.br:5002/api/v1/tc-prev?token=a779d04f85c4bf6cfa586d30aaec57c44e9b7173&idate=2022-05-22&fdate=2022-05-23\n",
      "Fetching data from http://montreal.icea.decea.mil.br:5002/api/v1/tc-prev?token=a779d04f85c4bf6cfa586d30aaec57c44e9b7173&idate=2022-05-23&fdate=2022-05-24\n",
      "Fetching data from http://montreal.icea.decea.mil.br:5002/api/v1/tc-prev?token=a779d04f85c4bf6cfa586d30aaec57c44e9b7173&idate=2022-05-24&fdate=2022-05-25\n",
      "Fetching data from http://montreal.icea.decea.mil.br:5002/api/v1/tc-prev?token=a779d04f85c4bf6cfa586d30aaec57c44e9b7173&idate=2022-05-25&fdate=2022-05-26\n",
      "Fetching data from http://montreal.icea.decea.mil.br:5002/api/v1/tc-prev?token=a779d04f85c4bf6cfa586d30aaec57c44e9b7173&idate=2022-05-26&fdate=2022-05-27\n",
      "Fetching data from http://montreal.icea.decea.mil.br:5002/api/v1/tc-prev?token=a779d04f85c4bf6cfa586d30aaec57c44e9b7173&idate=2022-05-27&fdate=2022-05-28\n",
      "Fetching data from http://montreal.icea.decea.mil.br:5002/api/v1/tc-prev?token=a779d04f85c4bf6cfa586d30aaec57c44e9b7173&idate=2022-05-28&fdate=2022-05-29\n",
      "Fetching data from http://montreal.icea.decea.mil.br:5002/api/v1/tc-prev?token=a779d04f85c4bf6cfa586d30aaec57c44e9b7173&idate=2022-05-29&fdate=2022-05-30\n",
      "Fetching data from http://montreal.icea.decea.mil.br:5002/api/v1/tc-prev?token=a779d04f85c4bf6cfa586d30aaec57c44e9b7173&idate=2022-05-30&fdate=2022-05-31\n",
      "Fetching data from http://montreal.icea.decea.mil.br:5002/api/v1/tc-prev?token=a779d04f85c4bf6cfa586d30aaec57c44e9b7173&idate=2022-05-31&fdate=2022-06-01\n",
      "Fetching data from http://montreal.icea.decea.mil.br:5002/api/v1/tc-prev?token=a779d04f85c4bf6cfa586d30aaec57c44e9b7173&idate=2022-06-01&fdate=2022-06-02\n",
      "Fetching data from http://montreal.icea.decea.mil.br:5002/api/v1/tc-prev?token=a779d04f85c4bf6cfa586d30aaec57c44e9b7173&idate=2022-06-02&fdate=2022-06-03\n",
      "Fetching data from http://montreal.icea.decea.mil.br:5002/api/v1/tc-prev?token=a779d04f85c4bf6cfa586d30aaec57c44e9b7173&idate=2022-06-03&fdate=2022-06-04\n",
      "Fetching data from http://montreal.icea.decea.mil.br:5002/api/v1/tc-prev?token=a779d04f85c4bf6cfa586d30aaec57c44e9b7173&idate=2022-06-04&fdate=2022-06-05\n",
      "Fetching data from http://montreal.icea.decea.mil.br:5002/api/v1/tc-prev?token=a779d04f85c4bf6cfa586d30aaec57c44e9b7173&idate=2022-06-05&fdate=2022-06-06\n",
      "Fetching data from http://montreal.icea.decea.mil.br:5002/api/v1/tc-prev?token=a779d04f85c4bf6cfa586d30aaec57c44e9b7173&idate=2022-06-06&fdate=2022-06-07\n",
      "Fetching data from http://montreal.icea.decea.mil.br:5002/api/v1/tc-prev?token=a779d04f85c4bf6cfa586d30aaec57c44e9b7173&idate=2022-06-07&fdate=2022-06-08\n",
      "Fetching data from http://montreal.icea.decea.mil.br:5002/api/v1/tc-prev?token=a779d04f85c4bf6cfa586d30aaec57c44e9b7173&idate=2022-06-08&fdate=2022-06-09\n",
      "Fetching data from http://montreal.icea.decea.mil.br:5002/api/v1/tc-prev?token=a779d04f85c4bf6cfa586d30aaec57c44e9b7173&idate=2022-06-09&fdate=2022-06-10\n",
      "Fetching data from http://montreal.icea.decea.mil.br:5002/api/v1/tc-prev?token=a779d04f85c4bf6cfa586d30aaec57c44e9b7173&idate=2022-06-10&fdate=2022-06-11\n",
      "Fetching data from http://montreal.icea.decea.mil.br:5002/api/v1/tc-prev?token=a779d04f85c4bf6cfa586d30aaec57c44e9b7173&idate=2022-06-11&fdate=2022-06-12\n",
      "Fetching data from http://montreal.icea.decea.mil.br:5002/api/v1/tc-prev?token=a779d04f85c4bf6cfa586d30aaec57c44e9b7173&idate=2022-06-12&fdate=2022-06-13\n",
      "Fetching data from http://montreal.icea.decea.mil.br:5002/api/v1/tc-prev?token=a779d04f85c4bf6cfa586d30aaec57c44e9b7173&idate=2022-06-13&fdate=2022-06-14\n",
      "Fetching data from http://montreal.icea.decea.mil.br:5002/api/v1/tc-prev?token=a779d04f85c4bf6cfa586d30aaec57c44e9b7173&idate=2022-06-14&fdate=2022-06-15\n",
      "Fetching data from http://montreal.icea.decea.mil.br:5002/api/v1/tc-prev?token=a779d04f85c4bf6cfa586d30aaec57c44e9b7173&idate=2022-06-15&fdate=2022-06-16\n",
      "Fetching data from http://montreal.icea.decea.mil.br:5002/api/v1/tc-prev?token=a779d04f85c4bf6cfa586d30aaec57c44e9b7173&idate=2022-06-16&fdate=2022-06-17\n",
      "Fetching data from http://montreal.icea.decea.mil.br:5002/api/v1/tc-prev?token=a779d04f85c4bf6cfa586d30aaec57c44e9b7173&idate=2022-06-17&fdate=2022-06-18\n",
      "Fetching data from http://montreal.icea.decea.mil.br:5002/api/v1/tc-prev?token=a779d04f85c4bf6cfa586d30aaec57c44e9b7173&idate=2022-06-18&fdate=2022-06-19\n",
      "Fetching data from http://montreal.icea.decea.mil.br:5002/api/v1/tc-prev?token=a779d04f85c4bf6cfa586d30aaec57c44e9b7173&idate=2022-06-19&fdate=2022-06-20\n"
     ]
    },
    {
     "name": "stderr",
     "output_type": "stream",
     "text": [
      "Carregando dados de tc-prev, Parte 1:  39%|███▊      | 41/106 [00:00<00:00, 197.40it/s]"
     ]
    },
    {
     "name": "stdout",
     "output_type": "stream",
     "text": [
      "Fetching data from http://montreal.icea.decea.mil.br:5002/api/v1/tc-prev?token=a779d04f85c4bf6cfa586d30aaec57c44e9b7173&idate=2022-06-20&fdate=2022-06-21\n",
      "Fetching data from http://montreal.icea.decea.mil.br:5002/api/v1/tc-prev?token=a779d04f85c4bf6cfa586d30aaec57c44e9b7173&idate=2022-06-21&fdate=2022-06-22\n",
      "Fetching data from http://montreal.icea.decea.mil.br:5002/api/v1/tc-prev?token=a779d04f85c4bf6cfa586d30aaec57c44e9b7173&idate=2022-06-22&fdate=2022-06-23\n",
      "Fetching data from http://montreal.icea.decea.mil.br:5002/api/v1/tc-prev?token=a779d04f85c4bf6cfa586d30aaec57c44e9b7173&idate=2022-06-23&fdate=2022-06-24\n",
      "Fetching data from http://montreal.icea.decea.mil.br:5002/api/v1/tc-prev?token=a779d04f85c4bf6cfa586d30aaec57c44e9b7173&idate=2022-06-24&fdate=2022-06-25\n",
      "Fetching data from http://montreal.icea.decea.mil.br:5002/api/v1/tc-prev?token=a779d04f85c4bf6cfa586d30aaec57c44e9b7173&idate=2022-06-25&fdate=2022-06-26\n",
      "Fetching data from http://montreal.icea.decea.mil.br:5002/api/v1/tc-prev?token=a779d04f85c4bf6cfa586d30aaec57c44e9b7173&idate=2022-06-26&fdate=2022-06-27\n",
      "Fetching data from http://montreal.icea.decea.mil.br:5002/api/v1/tc-prev?token=a779d04f85c4bf6cfa586d30aaec57c44e9b7173&idate=2022-06-27&fdate=2022-06-28\n",
      "Fetching data from http://montreal.icea.decea.mil.br:5002/api/v1/tc-prev?token=a779d04f85c4bf6cfa586d30aaec57c44e9b7173&idate=2022-06-28&fdate=2022-06-29\n",
      "Fetching data from http://montreal.icea.decea.mil.br:5002/api/v1/tc-prev?token=a779d04f85c4bf6cfa586d30aaec57c44e9b7173&idate=2022-06-29&fdate=2022-06-30\n",
      "Fetching data from http://montreal.icea.decea.mil.br:5002/api/v1/tc-prev?token=a779d04f85c4bf6cfa586d30aaec57c44e9b7173&idate=2022-06-30&fdate=2022-07-01\n"
     ]
    },
    {
     "name": "stderr",
     "output_type": "stream",
     "text": [
      "Carregando dados de tc-prev, Parte 1:  61%|██████▏   | 65/106 [00:00<00:00, 212.81it/s]"
     ]
    },
    {
     "name": "stdout",
     "output_type": "stream",
     "text": [
      "Fetching data from http://montreal.icea.decea.mil.br:5002/api/v1/tc-prev?token=a779d04f85c4bf6cfa586d30aaec57c44e9b7173&idate=2022-07-01&fdate=2022-07-02\n",
      "Fetching data from http://montreal.icea.decea.mil.br:5002/api/v1/tc-prev?token=a779d04f85c4bf6cfa586d30aaec57c44e9b7173&idate=2022-07-02&fdate=2022-07-03\n",
      "Fetching data from http://montreal.icea.decea.mil.br:5002/api/v1/tc-prev?token=a779d04f85c4bf6cfa586d30aaec57c44e9b7173&idate=2022-07-03&fdate=2022-07-04\n",
      "Fetching data from http://montreal.icea.decea.mil.br:5002/api/v1/tc-prev?token=a779d04f85c4bf6cfa586d30aaec57c44e9b7173&idate=2022-07-04&fdate=2022-07-05\n",
      "Fetching data from http://montreal.icea.decea.mil.br:5002/api/v1/tc-prev?token=a779d04f85c4bf6cfa586d30aaec57c44e9b7173&idate=2022-07-05&fdate=2022-07-06\n",
      "Fetching data from http://montreal.icea.decea.mil.br:5002/api/v1/tc-prev?token=a779d04f85c4bf6cfa586d30aaec57c44e9b7173&idate=2022-07-06&fdate=2022-07-07\n",
      "Fetching data from http://montreal.icea.decea.mil.br:5002/api/v1/tc-prev?token=a779d04f85c4bf6cfa586d30aaec57c44e9b7173&idate=2022-07-07&fdate=2022-07-08\n",
      "Fetching data from http://montreal.icea.decea.mil.br:5002/api/v1/tc-prev?token=a779d04f85c4bf6cfa586d30aaec57c44e9b7173&idate=2022-07-08&fdate=2022-07-09\n",
      "Fetching data from http://montreal.icea.decea.mil.br:5002/api/v1/tc-prev?token=a779d04f85c4bf6cfa586d30aaec57c44e9b7173&idate=2022-07-09&fdate=2022-07-10\n",
      "Fetching data from http://montreal.icea.decea.mil.br:5002/api/v1/tc-prev?token=a779d04f85c4bf6cfa586d30aaec57c44e9b7173&idate=2022-07-10&fdate=2022-07-11\n",
      "Fetching data from http://montreal.icea.decea.mil.br:5002/api/v1/tc-prev?token=a779d04f85c4bf6cfa586d30aaec57c44e9b7173&idate=2022-07-11&fdate=2022-07-12\n",
      "Fetching data from http://montreal.icea.decea.mil.br:5002/api/v1/tc-prev?token=a779d04f85c4bf6cfa586d30aaec57c44e9b7173&idate=2022-07-12&fdate=2022-07-13\n",
      "Fetching data from http://montreal.icea.decea.mil.br:5002/api/v1/tc-prev?token=a779d04f85c4bf6cfa586d30aaec57c44e9b7173&idate=2022-07-13&fdate=2022-07-14\n",
      "Fetching data from http://montreal.icea.decea.mil.br:5002/api/v1/tc-prev?token=a779d04f85c4bf6cfa586d30aaec57c44e9b7173&idate=2022-07-14&fdate=2022-07-15\n",
      "Fetching data from http://montreal.icea.decea.mil.br:5002/api/v1/tc-prev?token=a779d04f85c4bf6cfa586d30aaec57c44e9b7173&idate=2022-07-15&fdate=2022-07-16\n",
      "Fetching data from http://montreal.icea.decea.mil.br:5002/api/v1/tc-prev?token=a779d04f85c4bf6cfa586d30aaec57c44e9b7173&idate=2022-07-16&fdate=2022-07-17\n",
      "Fetching data from http://montreal.icea.decea.mil.br:5002/api/v1/tc-prev?token=a779d04f85c4bf6cfa586d30aaec57c44e9b7173&idate=2022-07-17&fdate=2022-07-18\n",
      "Fetching data from http://montreal.icea.decea.mil.br:5002/api/v1/tc-prev?token=a779d04f85c4bf6cfa586d30aaec57c44e9b7173&idate=2022-07-18&fdate=2022-07-19\n",
      "Fetching data from http://montreal.icea.decea.mil.br:5002/api/v1/tc-prev?token=a779d04f85c4bf6cfa586d30aaec57c44e9b7173&idate=2022-07-19&fdate=2022-07-20\n",
      "Fetching data from http://montreal.icea.decea.mil.br:5002/api/v1/tc-prev?token=a779d04f85c4bf6cfa586d30aaec57c44e9b7173&idate=2022-07-20&fdate=2022-07-21\n",
      "Fetching data from http://montreal.icea.decea.mil.br:5002/api/v1/tc-prev?token=a779d04f85c4bf6cfa586d30aaec57c44e9b7173&idate=2022-07-21&fdate=2022-07-22\n",
      "Fetching data from http://montreal.icea.decea.mil.br:5002/api/v1/tc-prev?token=a779d04f85c4bf6cfa586d30aaec57c44e9b7173&idate=2022-07-22&fdate=2022-07-23\n",
      "Fetching data from http://montreal.icea.decea.mil.br:5002/api/v1/tc-prev?token=a779d04f85c4bf6cfa586d30aaec57c44e9b7173&idate=2022-07-23&fdate=2022-07-24\n",
      "Fetching data from http://montreal.icea.decea.mil.br:5002/api/v1/tc-prev?token=a779d04f85c4bf6cfa586d30aaec57c44e9b7173&idate=2022-07-24&fdate=2022-07-25\n",
      "Fetching data from http://montreal.icea.decea.mil.br:5002/api/v1/tc-prev?token=a779d04f85c4bf6cfa586d30aaec57c44e9b7173&idate=2022-07-25&fdate=2022-07-26\n",
      "Fetching data from http://montreal.icea.decea.mil.br:5002/api/v1/tc-prev?token=a779d04f85c4bf6cfa586d30aaec57c44e9b7173&idate=2022-07-26&fdate=2022-07-27\n",
      "Fetching data from http://montreal.icea.decea.mil.br:5002/api/v1/tc-prev?token=a779d04f85c4bf6cfa586d30aaec57c44e9b7173&idate=2022-07-27&fdate=2022-07-28\n",
      "Fetching data from http://montreal.icea.decea.mil.br:5002/api/v1/tc-prev?token=a779d04f85c4bf6cfa586d30aaec57c44e9b7173&idate=2022-07-28&fdate=2022-07-29\n",
      "Fetching data from http://montreal.icea.decea.mil.br:5002/api/v1/tc-prev?token=a779d04f85c4bf6cfa586d30aaec57c44e9b7173&idate=2022-07-29&fdate=2022-07-30\n",
      "Fetching data from http://montreal.icea.decea.mil.br:5002/api/v1/tc-prev?token=a779d04f85c4bf6cfa586d30aaec57c44e9b7173&idate=2022-07-30&fdate=2022-07-31\n",
      "Fetching data from http://montreal.icea.decea.mil.br:5002/api/v1/tc-prev?token=a779d04f85c4bf6cfa586d30aaec57c44e9b7173&idate=2022-07-31&fdate=2022-08-01\n",
      "Fetching data from http://montreal.icea.decea.mil.br:5002/api/v1/tc-prev?token=a779d04f85c4bf6cfa586d30aaec57c44e9b7173&idate=2022-08-01&fdate=2022-08-02\n",
      "Fetching data from http://montreal.icea.decea.mil.br:5002/api/v1/tc-prev?token=a779d04f85c4bf6cfa586d30aaec57c44e9b7173&idate=2022-08-02&fdate=2022-08-03\n",
      "Fetching data from http://montreal.icea.decea.mil.br:5002/api/v1/tc-prev?token=a779d04f85c4bf6cfa586d30aaec57c44e9b7173&idate=2022-08-03&fdate=2022-08-04\n",
      "Fetching data from http://montreal.icea.decea.mil.br:5002/api/v1/tc-prev?token=a779d04f85c4bf6cfa586d30aaec57c44e9b7173&idate=2022-08-04&fdate=2022-08-05\n",
      "Fetching data from http://montreal.icea.decea.mil.br:5002/api/v1/tc-prev?token=a779d04f85c4bf6cfa586d30aaec57c44e9b7173&idate=2022-08-05&fdate=2022-08-06\n",
      "Fetching data from http://montreal.icea.decea.mil.br:5002/api/v1/tc-prev?token=a779d04f85c4bf6cfa586d30aaec57c44e9b7173&idate=2022-08-06&fdate=2022-08-07\n",
      "Fetching data from http://montreal.icea.decea.mil.br:5002/api/v1/tc-prev?token=a779d04f85c4bf6cfa586d30aaec57c44e9b7173&idate=2022-08-07&fdate=2022-08-08\n"
     ]
    },
    {
     "name": "stderr",
     "output_type": "stream",
     "text": [
      "Carregando dados de tc-prev, Parte 1:  85%|████████▍ | 90/106 [00:00<00:00, 226.95it/s]"
     ]
    },
    {
     "name": "stdout",
     "output_type": "stream",
     "text": [
      "Fetching data from http://montreal.icea.decea.mil.br:5002/api/v1/tc-prev?token=a779d04f85c4bf6cfa586d30aaec57c44e9b7173&idate=2022-08-08&fdate=2022-08-09\n",
      "Fetching data from http://montreal.icea.decea.mil.br:5002/api/v1/tc-prev?token=a779d04f85c4bf6cfa586d30aaec57c44e9b7173&idate=2022-08-09&fdate=2022-08-10\n",
      "Fetching data from http://montreal.icea.decea.mil.br:5002/api/v1/tc-prev?token=a779d04f85c4bf6cfa586d30aaec57c44e9b7173&idate=2022-08-10&fdate=2022-08-11\n",
      "Fetching data from http://montreal.icea.decea.mil.br:5002/api/v1/tc-prev?token=a779d04f85c4bf6cfa586d30aaec57c44e9b7173&idate=2022-08-11&fdate=2022-08-12\n",
      "Fetching data from http://montreal.icea.decea.mil.br:5002/api/v1/tc-prev?token=a779d04f85c4bf6cfa586d30aaec57c44e9b7173&idate=2022-08-12&fdate=2022-08-13\n",
      "Fetching data from http://montreal.icea.decea.mil.br:5002/api/v1/tc-prev?token=a779d04f85c4bf6cfa586d30aaec57c44e9b7173&idate=2022-08-13&fdate=2022-08-14\n",
      "Fetching data from http://montreal.icea.decea.mil.br:5002/api/v1/tc-prev?token=a779d04f85c4bf6cfa586d30aaec57c44e9b7173&idate=2022-08-14&fdate=2022-08-15\n"
     ]
    },
    {
     "name": "stderr",
     "output_type": "stream",
     "text": [
      "Carregando dados de tc-prev, Parte 1: 100%|██████████| 106/106 [00:00<00:00, 222.15it/s]\n"
     ]
    },
    {
     "name": "stdout",
     "output_type": "stream",
     "text": [
      "Dados de tc-prev salvos em tc-prev_part_1.csv\n",
      "Processando parte 2/4\n",
      "Fetching data from http://montreal.icea.decea.mil.br:5002/api/v1/tc-prev?token=a779d04f85c4bf6cfa586d30aaec57c44e9b7173&idate=2022-08-15&fdate=2022-08-16\n",
      "Fetching data from http://montreal.icea.decea.mil.br:5002/api/v1/tc-prev?token=a779d04f85c4bf6cfa586d30aaec57c44e9b7173&idate=2022-08-16&fdate=2022-08-17\n",
      "Fetching data from http://montreal.icea.decea.mil.br:5002/api/v1/tc-prev?token=a779d04f85c4bf6cfa586d30aaec57c44e9b7173&idate=2022-08-17&fdate=2022-08-18\n",
      "Fetching data from http://montreal.icea.decea.mil.br:5002/api/v1/tc-prev?token=a779d04f85c4bf6cfa586d30aaec57c44e9b7173&idate=2022-08-18&fdate=2022-08-19\n",
      "Fetching data from http://montreal.icea.decea.mil.br:5002/api/v1/tc-prev?token=a779d04f85c4bf6cfa586d30aaec57c44e9b7173&idate=2022-08-19&fdate=2022-08-20\n",
      "Fetching data from http://montreal.icea.decea.mil.br:5002/api/v1/tc-prev?token=a779d04f85c4bf6cfa586d30aaec57c44e9b7173&idate=2022-08-20&fdate=2022-08-21\n",
      "Fetching data from http://montreal.icea.decea.mil.br:5002/api/v1/tc-prev?token=a779d04f85c4bf6cfa586d30aaec57c44e9b7173&idate=2022-08-21&fdate=2022-08-22\n",
      "Fetching data from http://montreal.icea.decea.mil.br:5002/api/v1/tc-prev?token=a779d04f85c4bf6cfa586d30aaec57c44e9b7173&idate=2022-08-22&fdate=2022-08-23\n",
      "Fetching data from http://montreal.icea.decea.mil.br:5002/api/v1/tc-prev?token=a779d04f85c4bf6cfa586d30aaec57c44e9b7173&idate=2022-08-23&fdate=2022-08-24\n",
      "Fetching data from http://montreal.icea.decea.mil.br:5002/api/v1/tc-prev?token=a779d04f85c4bf6cfa586d30aaec57c44e9b7173&idate=2022-08-24&fdate=2022-08-25\n"
     ]
    },
    {
     "name": "stderr",
     "output_type": "stream",
     "text": [
      "Carregando dados de tc-prev, Parte 2:   0%|          | 0/106 [00:00<?, ?it/s]"
     ]
    },
    {
     "name": "stdout",
     "output_type": "stream",
     "text": [
      "Fetching data from http://montreal.icea.decea.mil.br:5002/api/v1/tc-prev?token=a779d04f85c4bf6cfa586d30aaec57c44e9b7173&idate=2022-08-25&fdate=2022-08-26\n",
      "Fetching data from http://montreal.icea.decea.mil.br:5002/api/v1/tc-prev?token=a779d04f85c4bf6cfa586d30aaec57c44e9b7173&idate=2022-08-26&fdate=2022-08-27\n",
      "Fetching data from http://montreal.icea.decea.mil.br:5002/api/v1/tc-prev?token=a779d04f85c4bf6cfa586d30aaec57c44e9b7173&idate=2022-08-27&fdate=2022-08-28\n",
      "Fetching data from http://montreal.icea.decea.mil.br:5002/api/v1/tc-prev?token=a779d04f85c4bf6cfa586d30aaec57c44e9b7173&idate=2022-08-28&fdate=2022-08-29\n",
      "Fetching data from http://montreal.icea.decea.mil.br:5002/api/v1/tc-prev?token=a779d04f85c4bf6cfa586d30aaec57c44e9b7173&idate=2022-08-29&fdate=2022-08-30\n",
      "Fetching data from http://montreal.icea.decea.mil.br:5002/api/v1/tc-prev?token=a779d04f85c4bf6cfa586d30aaec57c44e9b7173&idate=2022-08-30&fdate=2022-08-31\n",
      "Fetching data from http://montreal.icea.decea.mil.br:5002/api/v1/tc-prev?token=a779d04f85c4bf6cfa586d30aaec57c44e9b7173&idate=2022-08-31&fdate=2022-09-01\n",
      "Fetching data from http://montreal.icea.decea.mil.br:5002/api/v1/tc-prev?token=a779d04f85c4bf6cfa586d30aaec57c44e9b7173&idate=2022-09-01&fdate=2022-09-02\n",
      "Fetching data from http://montreal.icea.decea.mil.br:5002/api/v1/tc-prev?token=a779d04f85c4bf6cfa586d30aaec57c44e9b7173&idate=2022-09-02&fdate=2022-09-03\n",
      "Fetching data from http://montreal.icea.decea.mil.br:5002/api/v1/tc-prev?token=a779d04f85c4bf6cfa586d30aaec57c44e9b7173&idate=2022-09-03&fdate=2022-09-04\n",
      "Fetching data from http://montreal.icea.decea.mil.br:5002/api/v1/tc-prev?token=a779d04f85c4bf6cfa586d30aaec57c44e9b7173&idate=2022-09-04&fdate=2022-09-05\n",
      "Fetching data from http://montreal.icea.decea.mil.br:5002/api/v1/tc-prev?token=a779d04f85c4bf6cfa586d30aaec57c44e9b7173&idate=2022-09-05&fdate=2022-09-06\n",
      "Fetching data from http://montreal.icea.decea.mil.br:5002/api/v1/tc-prev?token=a779d04f85c4bf6cfa586d30aaec57c44e9b7173&idate=2022-09-06&fdate=2022-09-07\n",
      "Fetching data from http://montreal.icea.decea.mil.br:5002/api/v1/tc-prev?token=a779d04f85c4bf6cfa586d30aaec57c44e9b7173&idate=2022-09-07&fdate=2022-09-08\n",
      "Fetching data from http://montreal.icea.decea.mil.br:5002/api/v1/tc-prev?token=a779d04f85c4bf6cfa586d30aaec57c44e9b7173&idate=2022-09-08&fdate=2022-09-09\n",
      "Fetching data from http://montreal.icea.decea.mil.br:5002/api/v1/tc-prev?token=a779d04f85c4bf6cfa586d30aaec57c44e9b7173&idate=2022-09-09&fdate=2022-09-10\n",
      "Fetching data from http://montreal.icea.decea.mil.br:5002/api/v1/tc-prev?token=a779d04f85c4bf6cfa586d30aaec57c44e9b7173&idate=2022-09-10&fdate=2022-09-11\n",
      "Fetching data from http://montreal.icea.decea.mil.br:5002/api/v1/tc-prev?token=a779d04f85c4bf6cfa586d30aaec57c44e9b7173&idate=2022-09-11&fdate=2022-09-12\n",
      "Fetching data from http://montreal.icea.decea.mil.br:5002/api/v1/tc-prev?token=a779d04f85c4bf6cfa586d30aaec57c44e9b7173&idate=2022-09-12&fdate=2022-09-13\n",
      "Fetching data from http://montreal.icea.decea.mil.br:5002/api/v1/tc-prev?token=a779d04f85c4bf6cfa586d30aaec57c44e9b7173&idate=2022-09-13&fdate=2022-09-14\n",
      "Fetching data from http://montreal.icea.decea.mil.br:5002/api/v1/tc-prev?token=a779d04f85c4bf6cfa586d30aaec57c44e9b7173&idate=2022-09-14&fdate=2022-09-15\n"
     ]
    },
    {
     "name": "stderr",
     "output_type": "stream",
     "text": [
      "Carregando dados de tc-prev, Parte 2:  23%|██▎       | 24/106 [00:00<00:00, 234.36it/s]"
     ]
    },
    {
     "name": "stdout",
     "output_type": "stream",
     "text": [
      "Fetching data from http://montreal.icea.decea.mil.br:5002/api/v1/tc-prev?token=a779d04f85c4bf6cfa586d30aaec57c44e9b7173&idate=2022-09-15&fdate=2022-09-16\n",
      "Fetching data from http://montreal.icea.decea.mil.br:5002/api/v1/tc-prev?token=a779d04f85c4bf6cfa586d30aaec57c44e9b7173&idate=2022-09-16&fdate=2022-09-17\n",
      "Fetching data from http://montreal.icea.decea.mil.br:5002/api/v1/tc-prev?token=a779d04f85c4bf6cfa586d30aaec57c44e9b7173&idate=2022-09-17&fdate=2022-09-18\n",
      "Fetching data from http://montreal.icea.decea.mil.br:5002/api/v1/tc-prev?token=a779d04f85c4bf6cfa586d30aaec57c44e9b7173&idate=2022-09-18&fdate=2022-09-19\n",
      "Fetching data from http://montreal.icea.decea.mil.br:5002/api/v1/tc-prev?token=a779d04f85c4bf6cfa586d30aaec57c44e9b7173&idate=2022-09-19&fdate=2022-09-20\n",
      "Fetching data from http://montreal.icea.decea.mil.br:5002/api/v1/tc-prev?token=a779d04f85c4bf6cfa586d30aaec57c44e9b7173&idate=2022-09-20&fdate=2022-09-21\n",
      "Fetching data from http://montreal.icea.decea.mil.br:5002/api/v1/tc-prev?token=a779d04f85c4bf6cfa586d30aaec57c44e9b7173&idate=2022-09-21&fdate=2022-09-22\n",
      "Fetching data from http://montreal.icea.decea.mil.br:5002/api/v1/tc-prev?token=a779d04f85c4bf6cfa586d30aaec57c44e9b7173&idate=2022-09-22&fdate=2022-09-23\n",
      "Fetching data from http://montreal.icea.decea.mil.br:5002/api/v1/tc-prev?token=a779d04f85c4bf6cfa586d30aaec57c44e9b7173&idate=2022-09-23&fdate=2022-09-24\n",
      "Fetching data from http://montreal.icea.decea.mil.br:5002/api/v1/tc-prev?token=a779d04f85c4bf6cfa586d30aaec57c44e9b7173&idate=2022-09-24&fdate=2022-09-25\n",
      "Fetching data from http://montreal.icea.decea.mil.br:5002/api/v1/tc-prev?token=a779d04f85c4bf6cfa586d30aaec57c44e9b7173&idate=2022-09-25&fdate=2022-09-26\n",
      "Fetching data from http://montreal.icea.decea.mil.br:5002/api/v1/tc-prev?token=a779d04f85c4bf6cfa586d30aaec57c44e9b7173&idate=2022-09-26&fdate=2022-09-27\n",
      "Fetching data from http://montreal.icea.decea.mil.br:5002/api/v1/tc-prev?token=a779d04f85c4bf6cfa586d30aaec57c44e9b7173&idate=2022-09-27&fdate=2022-09-28\n",
      "Fetching data from http://montreal.icea.decea.mil.br:5002/api/v1/tc-prev?token=a779d04f85c4bf6cfa586d30aaec57c44e9b7173&idate=2022-09-28&fdate=2022-09-29\n",
      "Fetching data from http://montreal.icea.decea.mil.br:5002/api/v1/tc-prev?token=a779d04f85c4bf6cfa586d30aaec57c44e9b7173&idate=2022-09-29&fdate=2022-09-30\n",
      "Fetching data from http://montreal.icea.decea.mil.br:5002/api/v1/tc-prev?token=a779d04f85c4bf6cfa586d30aaec57c44e9b7173&idate=2022-09-30&fdate=2022-10-01\n",
      "Fetching data from http://montreal.icea.decea.mil.br:5002/api/v1/tc-prev?token=a779d04f85c4bf6cfa586d30aaec57c44e9b7173&idate=2022-10-01&fdate=2022-10-02\n",
      "Fetching data from http://montreal.icea.decea.mil.br:5002/api/v1/tc-prev?token=a779d04f85c4bf6cfa586d30aaec57c44e9b7173&idate=2022-10-02&fdate=2022-10-03\n",
      "Fetching data from http://montreal.icea.decea.mil.br:5002/api/v1/tc-prev?token=a779d04f85c4bf6cfa586d30aaec57c44e9b7173&idate=2022-10-03&fdate=2022-10-04\n",
      "Fetching data from http://montreal.icea.decea.mil.br:5002/api/v1/tc-prev?token=a779d04f85c4bf6cfa586d30aaec57c44e9b7173&idate=2022-10-04&fdate=2022-10-05\n",
      "Fetching data from http://montreal.icea.decea.mil.br:5002/api/v1/tc-prev?token=a779d04f85c4bf6cfa586d30aaec57c44e9b7173&idate=2022-10-05&fdate=2022-10-06\n",
      "Fetching data from http://montreal.icea.decea.mil.br:5002/api/v1/tc-prev?token=a779d04f85c4bf6cfa586d30aaec57c44e9b7173&idate=2022-10-06&fdate=2022-10-07\n",
      "Fetching data from http://montreal.icea.decea.mil.br:5002/api/v1/tc-prev?token=a779d04f85c4bf6cfa586d30aaec57c44e9b7173&idate=2022-10-07&fdate=2022-10-08\n",
      "Fetching data from http://montreal.icea.decea.mil.br:5002/api/v1/tc-prev?token=a779d04f85c4bf6cfa586d30aaec57c44e9b7173&idate=2022-10-08&fdate=2022-10-09\n"
     ]
    },
    {
     "name": "stderr",
     "output_type": "stream",
     "text": [
      "Carregando dados de tc-prev, Parte 2:  47%|████▋     | 50/106 [00:00<00:00, 245.63it/s]"
     ]
    },
    {
     "name": "stdout",
     "output_type": "stream",
     "text": [
      "Fetching data from http://montreal.icea.decea.mil.br:5002/api/v1/tc-prev?token=a779d04f85c4bf6cfa586d30aaec57c44e9b7173&idate=2022-10-09&fdate=2022-10-10\n",
      "Fetching data from http://montreal.icea.decea.mil.br:5002/api/v1/tc-prev?token=a779d04f85c4bf6cfa586d30aaec57c44e9b7173&idate=2022-10-10&fdate=2022-10-11\n",
      "Fetching data from http://montreal.icea.decea.mil.br:5002/api/v1/tc-prev?token=a779d04f85c4bf6cfa586d30aaec57c44e9b7173&idate=2022-10-11&fdate=2022-10-12\n",
      "Fetching data from http://montreal.icea.decea.mil.br:5002/api/v1/tc-prev?token=a779d04f85c4bf6cfa586d30aaec57c44e9b7173&idate=2022-10-12&fdate=2022-10-13\n",
      "Fetching data from http://montreal.icea.decea.mil.br:5002/api/v1/tc-prev?token=a779d04f85c4bf6cfa586d30aaec57c44e9b7173&idate=2022-10-13&fdate=2022-10-14\n",
      "Fetching data from http://montreal.icea.decea.mil.br:5002/api/v1/tc-prev?token=a779d04f85c4bf6cfa586d30aaec57c44e9b7173&idate=2022-10-14&fdate=2022-10-15\n",
      "Fetching data from http://montreal.icea.decea.mil.br:5002/api/v1/tc-prev?token=a779d04f85c4bf6cfa586d30aaec57c44e9b7173&idate=2022-10-15&fdate=2022-10-16\n",
      "Fetching data from http://montreal.icea.decea.mil.br:5002/api/v1/tc-prev?token=a779d04f85c4bf6cfa586d30aaec57c44e9b7173&idate=2022-10-16&fdate=2022-10-17\n",
      "Fetching data from http://montreal.icea.decea.mil.br:5002/api/v1/tc-prev?token=a779d04f85c4bf6cfa586d30aaec57c44e9b7173&idate=2022-10-17&fdate=2022-10-18\n",
      "Fetching data from http://montreal.icea.decea.mil.br:5002/api/v1/tc-prev?token=a779d04f85c4bf6cfa586d30aaec57c44e9b7173&idate=2022-10-18&fdate=2022-10-19\n",
      "Fetching data from http://montreal.icea.decea.mil.br:5002/api/v1/tc-prev?token=a779d04f85c4bf6cfa586d30aaec57c44e9b7173&idate=2022-10-19&fdate=2022-10-20\n",
      "Fetching data from http://montreal.icea.decea.mil.br:5002/api/v1/tc-prev?token=a779d04f85c4bf6cfa586d30aaec57c44e9b7173&idate=2022-10-20&fdate=2022-10-21\n",
      "Fetching data from http://montreal.icea.decea.mil.br:5002/api/v1/tc-prev?token=a779d04f85c4bf6cfa586d30aaec57c44e9b7173&idate=2022-10-21&fdate=2022-10-22\n",
      "Fetching data from http://montreal.icea.decea.mil.br:5002/api/v1/tc-prev?token=a779d04f85c4bf6cfa586d30aaec57c44e9b7173&idate=2022-10-22&fdate=2022-10-23\n",
      "Fetching data from http://montreal.icea.decea.mil.br:5002/api/v1/tc-prev?token=a779d04f85c4bf6cfa586d30aaec57c44e9b7173&idate=2022-10-23&fdate=2022-10-24\n",
      "Fetching data from http://montreal.icea.decea.mil.br:5002/api/v1/tc-prev?token=a779d04f85c4bf6cfa586d30aaec57c44e9b7173&idate=2022-10-24&fdate=2022-10-25\n",
      "Fetching data from http://montreal.icea.decea.mil.br:5002/api/v1/tc-prev?token=a779d04f85c4bf6cfa586d30aaec57c44e9b7173&idate=2022-10-25&fdate=2022-10-26\n",
      "Fetching data from http://montreal.icea.decea.mil.br:5002/api/v1/tc-prev?token=a779d04f85c4bf6cfa586d30aaec57c44e9b7173&idate=2022-10-26&fdate=2022-10-27Fetching data from http://montreal.icea.decea.mil.br:5002/api/v1/tc-prev?token=a779d04f85c4bf6cfa586d30aaec57c44e9b7173&idate=2022-10-27&fdate=2022-10-28\n",
      "\n",
      "Fetching data from http://montreal.icea.decea.mil.br:5002/api/v1/tc-prev?token=a779d04f85c4bf6cfa586d30aaec57c44e9b7173&idate=2022-10-28&fdate=2022-10-29\n",
      "Fetching data from http://montreal.icea.decea.mil.br:5002/api/v1/tc-prev?token=a779d04f85c4bf6cfa586d30aaec57c44e9b7173&idate=2022-10-29&fdate=2022-10-30\n",
      "Fetching data from http://montreal.icea.decea.mil.br:5002/api/v1/tc-prev?token=a779d04f85c4bf6cfa586d30aaec57c44e9b7173&idate=2022-10-30&fdate=2022-10-31\n",
      "Fetching data from http://montreal.icea.decea.mil.br:5002/api/v1/tc-prev?token=a779d04f85c4bf6cfa586d30aaec57c44e9b7173&idate=2022-10-31&fdate=2022-11-01\n",
      "Fetching data from http://montreal.icea.decea.mil.br:5002/api/v1/tc-prev?token=a779d04f85c4bf6cfa586d30aaec57c44e9b7173&idate=2022-11-01&fdate=2022-11-02\n",
      "Fetching data from http://montreal.icea.decea.mil.br:5002/api/v1/tc-prev?token=a779d04f85c4bf6cfa586d30aaec57c44e9b7173&idate=2022-11-02&fdate=2022-11-03\n",
      "Fetching data from http://montreal.icea.decea.mil.br:5002/api/v1/tc-prev?token=a779d04f85c4bf6cfa586d30aaec57c44e9b7173&idate=2022-11-03&fdate=2022-11-04\n",
      "Fetching data from http://montreal.icea.decea.mil.br:5002/api/v1/tc-prev?token=a779d04f85c4bf6cfa586d30aaec57c44e9b7173&idate=2022-11-04&fdate=2022-11-05\n",
      "Fetching data from http://montreal.icea.decea.mil.br:5002/api/v1/tc-prev?token=a779d04f85c4bf6cfa586d30aaec57c44e9b7173&idate=2022-11-05&fdate=2022-11-06\n"
     ]
    },
    {
     "name": "stderr",
     "output_type": "stream",
     "text": [
      "Carregando dados de tc-prev, Parte 2:  71%|███████   | 75/106 [00:00<00:00, 225.43it/s]"
     ]
    },
    {
     "name": "stdout",
     "output_type": "stream",
     "text": [
      "Fetching data from http://montreal.icea.decea.mil.br:5002/api/v1/tc-prev?token=a779d04f85c4bf6cfa586d30aaec57c44e9b7173&idate=2022-11-06&fdate=2022-11-07Fetching data from http://montreal.icea.decea.mil.br:5002/api/v1/tc-prev?token=a779d04f85c4bf6cfa586d30aaec57c44e9b7173&idate=2022-11-07&fdate=2022-11-08\n",
      "\n",
      "Fetching data from http://montreal.icea.decea.mil.br:5002/api/v1/tc-prev?token=a779d04f85c4bf6cfa586d30aaec57c44e9b7173&idate=2022-11-08&fdate=2022-11-09\n",
      "Fetching data from http://montreal.icea.decea.mil.br:5002/api/v1/tc-prev?token=a779d04f85c4bf6cfa586d30aaec57c44e9b7173&idate=2022-11-09&fdate=2022-11-10\n",
      "Fetching data from http://montreal.icea.decea.mil.br:5002/api/v1/tc-prev?token=a779d04f85c4bf6cfa586d30aaec57c44e9b7173&idate=2022-11-10&fdate=2022-11-11\n",
      "Fetching data from http://montreal.icea.decea.mil.br:5002/api/v1/tc-prev?token=a779d04f85c4bf6cfa586d30aaec57c44e9b7173&idate=2022-11-11&fdate=2022-11-12\n",
      "Fetching data from http://montreal.icea.decea.mil.br:5002/api/v1/tc-prev?token=a779d04f85c4bf6cfa586d30aaec57c44e9b7173&idate=2022-11-12&fdate=2022-11-13\n",
      "Fetching data from http://montreal.icea.decea.mil.br:5002/api/v1/tc-prev?token=a779d04f85c4bf6cfa586d30aaec57c44e9b7173&idate=2022-11-13&fdate=2022-11-14\n",
      "Fetching data from http://montreal.icea.decea.mil.br:5002/api/v1/tc-prev?token=a779d04f85c4bf6cfa586d30aaec57c44e9b7173&idate=2022-11-14&fdate=2022-11-15\n",
      "Fetching data from http://montreal.icea.decea.mil.br:5002/api/v1/tc-prev?token=a779d04f85c4bf6cfa586d30aaec57c44e9b7173&idate=2022-11-15&fdate=2022-11-16\n",
      "Fetching data from http://montreal.icea.decea.mil.br:5002/api/v1/tc-prev?token=a779d04f85c4bf6cfa586d30aaec57c44e9b7173&idate=2022-11-16&fdate=2022-11-17\n",
      "Fetching data from http://montreal.icea.decea.mil.br:5002/api/v1/tc-prev?token=a779d04f85c4bf6cfa586d30aaec57c44e9b7173&idate=2022-11-17&fdate=2022-11-18\n",
      "Fetching data from http://montreal.icea.decea.mil.br:5002/api/v1/tc-prev?token=a779d04f85c4bf6cfa586d30aaec57c44e9b7173&idate=2022-11-18&fdate=2022-11-19\n",
      "Fetching data from http://montreal.icea.decea.mil.br:5002/api/v1/tc-prev?token=a779d04f85c4bf6cfa586d30aaec57c44e9b7173&idate=2022-11-19&fdate=2022-11-20\n",
      "Fetching data from http://montreal.icea.decea.mil.br:5002/api/v1/tc-prev?token=a779d04f85c4bf6cfa586d30aaec57c44e9b7173&idate=2022-11-20&fdate=2022-11-21\n",
      "Fetching data from http://montreal.icea.decea.mil.br:5002/api/v1/tc-prev?token=a779d04f85c4bf6cfa586d30aaec57c44e9b7173&idate=2022-11-21&fdate=2022-11-22\n",
      "Fetching data from http://montreal.icea.decea.mil.br:5002/api/v1/tc-prev?token=a779d04f85c4bf6cfa586d30aaec57c44e9b7173&idate=2022-11-22&fdate=2022-11-23\n",
      "Fetching data from http://montreal.icea.decea.mil.br:5002/api/v1/tc-prev?token=a779d04f85c4bf6cfa586d30aaec57c44e9b7173&idate=2022-11-23&fdate=2022-11-24\n",
      "Fetching data from http://montreal.icea.decea.mil.br:5002/api/v1/tc-prev?token=a779d04f85c4bf6cfa586d30aaec57c44e9b7173&idate=2022-11-24&fdate=2022-11-25\n",
      "Fetching data from http://montreal.icea.decea.mil.br:5002/api/v1/tc-prev?token=a779d04f85c4bf6cfa586d30aaec57c44e9b7173&idate=2022-11-25&fdate=2022-11-26\n",
      "Fetching data from http://montreal.icea.decea.mil.br:5002/api/v1/tc-prev?token=a779d04f85c4bf6cfa586d30aaec57c44e9b7173&idate=2022-11-26&fdate=2022-11-27\n",
      "Fetching data from http://montreal.icea.decea.mil.br:5002/api/v1/tc-prev?token=a779d04f85c4bf6cfa586d30aaec57c44e9b7173&idate=2022-11-27&fdate=2022-11-28\n",
      "Fetching data from http://montreal.icea.decea.mil.br:5002/api/v1/tc-prev?token=a779d04f85c4bf6cfa586d30aaec57c44e9b7173&idate=2022-11-28&fdate=2022-11-29\n"
     ]
    },
    {
     "name": "stderr",
     "output_type": "stream",
     "text": [
      "Carregando dados de tc-prev, Parte 2: 100%|██████████| 106/106 [00:00<00:00, 236.97it/s]"
     ]
    },
    {
     "name": "stdout",
     "output_type": "stream",
     "text": [
      "Dados de tc-prev salvos em tc-prev_part_2.csv\n",
      "Processando parte 3/4\n",
      "Fetching data from http://montreal.icea.decea.mil.br:5002/api/v1/tc-prev?token=a779d04f85c4bf6cfa586d30aaec57c44e9b7173&idate=2022-11-29&fdate=2022-11-30\n",
      "Fetching data from http://montreal.icea.decea.mil.br:5002/api/v1/tc-prev?token=a779d04f85c4bf6cfa586d30aaec57c44e9b7173&idate=2022-11-30&fdate=2022-12-01\n",
      "Fetching data from http://montreal.icea.decea.mil.br:5002/api/v1/tc-prev?token=a779d04f85c4bf6cfa586d30aaec57c44e9b7173&idate=2022-12-01&fdate=2022-12-02\n",
      "Fetching data from http://montreal.icea.decea.mil.br:5002/api/v1/tc-prev?token=a779d04f85c4bf6cfa586d30aaec57c44e9b7173&idate=2022-12-02&fdate=2022-12-03\n",
      "Fetching data from http://montreal.icea.decea.mil.br:5002/api/v1/tc-prev?token=a779d04f85c4bf6cfa586d30aaec57c44e9b7173&idate=2022-12-03&fdate=2022-12-04\n",
      "Fetching data from http://montreal.icea.decea.mil.br:5002/api/v1/tc-prev?token=a779d04f85c4bf6cfa586d30aaec57c44e9b7173&idate=2022-12-04&fdate=2022-12-05\n",
      "Fetching data from http://montreal.icea.decea.mil.br:5002/api/v1/tc-prev?token=a779d04f85c4bf6cfa586d30aaec57c44e9b7173&idate=2022-12-05&fdate=2022-12-06\n",
      "Fetching data from http://montreal.icea.decea.mil.br:5002/api/v1/tc-prev?token=a779d04f85c4bf6cfa586d30aaec57c44e9b7173&idate=2022-12-06&fdate=2022-12-07\n",
      "Fetching data from http://montreal.icea.decea.mil.br:5002/api/v1/tc-prev?token=a779d04f85c4bf6cfa586d30aaec57c44e9b7173&idate=2022-12-07&fdate=2022-12-08\n"
     ]
    },
    {
     "name": "stderr",
     "output_type": "stream",
     "text": [
      "\n"
     ]
    },
    {
     "name": "stdout",
     "output_type": "stream",
     "text": [
      "Fetching data from http://montreal.icea.decea.mil.br:5002/api/v1/tc-prev?token=a779d04f85c4bf6cfa586d30aaec57c44e9b7173&idate=2022-12-08&fdate=2022-12-09\n"
     ]
    },
    {
     "name": "stderr",
     "output_type": "stream",
     "text": [
      "Carregando dados de tc-prev, Parte 3:   0%|          | 0/106 [00:00<?, ?it/s]"
     ]
    },
    {
     "name": "stdout",
     "output_type": "stream",
     "text": [
      "Fetching data from http://montreal.icea.decea.mil.br:5002/api/v1/tc-prev?token=a779d04f85c4bf6cfa586d30aaec57c44e9b7173&idate=2022-12-09&fdate=2022-12-10\n",
      "Fetching data from http://montreal.icea.decea.mil.br:5002/api/v1/tc-prev?token=a779d04f85c4bf6cfa586d30aaec57c44e9b7173&idate=2022-12-10&fdate=2022-12-11\n",
      "Fetching data from http://montreal.icea.decea.mil.br:5002/api/v1/tc-prev?token=a779d04f85c4bf6cfa586d30aaec57c44e9b7173&idate=2022-12-11&fdate=2022-12-12\n",
      "Fetching data from http://montreal.icea.decea.mil.br:5002/api/v1/tc-prev?token=a779d04f85c4bf6cfa586d30aaec57c44e9b7173&idate=2022-12-12&fdate=2022-12-13\n",
      "Fetching data from http://montreal.icea.decea.mil.br:5002/api/v1/tc-prev?token=a779d04f85c4bf6cfa586d30aaec57c44e9b7173&idate=2022-12-13&fdate=2022-12-14\n",
      "Fetching data from http://montreal.icea.decea.mil.br:5002/api/v1/tc-prev?token=a779d04f85c4bf6cfa586d30aaec57c44e9b7173&idate=2022-12-14&fdate=2022-12-15\n",
      "Fetching data from http://montreal.icea.decea.mil.br:5002/api/v1/tc-prev?token=a779d04f85c4bf6cfa586d30aaec57c44e9b7173&idate=2022-12-15&fdate=2022-12-16\n",
      "Fetching data from http://montreal.icea.decea.mil.br:5002/api/v1/tc-prev?token=a779d04f85c4bf6cfa586d30aaec57c44e9b7173&idate=2022-12-16&fdate=2022-12-17\n",
      "Fetching data from http://montreal.icea.decea.mil.br:5002/api/v1/tc-prev?token=a779d04f85c4bf6cfa586d30aaec57c44e9b7173&idate=2022-12-17&fdate=2022-12-18\n",
      "Fetching data from http://montreal.icea.decea.mil.br:5002/api/v1/tc-prev?token=a779d04f85c4bf6cfa586d30aaec57c44e9b7173&idate=2022-12-18&fdate=2022-12-19\n",
      "Fetching data from http://montreal.icea.decea.mil.br:5002/api/v1/tc-prev?token=a779d04f85c4bf6cfa586d30aaec57c44e9b7173&idate=2022-12-19&fdate=2022-12-20\n"
     ]
    },
    {
     "name": "stderr",
     "output_type": "stream",
     "text": [
      "Carregando dados de tc-prev, Parte 3:  24%|██▎       | 25/106 [00:00<00:00, 241.67it/s]"
     ]
    },
    {
     "name": "stdout",
     "output_type": "stream",
     "text": [
      "Fetching data from http://montreal.icea.decea.mil.br:5002/api/v1/tc-prev?token=a779d04f85c4bf6cfa586d30aaec57c44e9b7173&idate=2022-12-20&fdate=2022-12-21\n",
      "Fetching data from http://montreal.icea.decea.mil.br:5002/api/v1/tc-prev?token=a779d04f85c4bf6cfa586d30aaec57c44e9b7173&idate=2022-12-21&fdate=2022-12-22\n",
      "Fetching data from http://montreal.icea.decea.mil.br:5002/api/v1/tc-prev?token=a779d04f85c4bf6cfa586d30aaec57c44e9b7173&idate=2022-12-22&fdate=2022-12-23\n",
      "Fetching data from http://montreal.icea.decea.mil.br:5002/api/v1/tc-prev?token=a779d04f85c4bf6cfa586d30aaec57c44e9b7173&idate=2022-12-23&fdate=2022-12-24\n",
      "Fetching data from http://montreal.icea.decea.mil.br:5002/api/v1/tc-prev?token=a779d04f85c4bf6cfa586d30aaec57c44e9b7173&idate=2022-12-24&fdate=2022-12-25\n",
      "Fetching data from http://montreal.icea.decea.mil.br:5002/api/v1/tc-prev?token=a779d04f85c4bf6cfa586d30aaec57c44e9b7173&idate=2022-12-25&fdate=2022-12-26\n",
      "Fetching data from http://montreal.icea.decea.mil.br:5002/api/v1/tc-prev?token=a779d04f85c4bf6cfa586d30aaec57c44e9b7173&idate=2022-12-26&fdate=2022-12-27\n",
      "Fetching data from http://montreal.icea.decea.mil.br:5002/api/v1/tc-prev?token=a779d04f85c4bf6cfa586d30aaec57c44e9b7173&idate=2022-12-27&fdate=2022-12-28\n",
      "Fetching data from http://montreal.icea.decea.mil.br:5002/api/v1/tc-prev?token=a779d04f85c4bf6cfa586d30aaec57c44e9b7173&idate=2022-12-28&fdate=2022-12-29\n",
      "Fetching data from http://montreal.icea.decea.mil.br:5002/api/v1/tc-prev?token=a779d04f85c4bf6cfa586d30aaec57c44e9b7173&idate=2022-12-29&fdate=2022-12-30\n",
      "Fetching data from http://montreal.icea.decea.mil.br:5002/api/v1/tc-prev?token=a779d04f85c4bf6cfa586d30aaec57c44e9b7173&idate=2022-12-30&fdate=2022-12-31\n",
      "Fetching data from http://montreal.icea.decea.mil.br:5002/api/v1/tc-prev?token=a779d04f85c4bf6cfa586d30aaec57c44e9b7173&idate=2022-12-31&fdate=2023-01-01\n",
      "Fetching data from http://montreal.icea.decea.mil.br:5002/api/v1/tc-prev?token=a779d04f85c4bf6cfa586d30aaec57c44e9b7173&idate=2023-01-01&fdate=2023-01-02\n",
      "Fetching data from http://montreal.icea.decea.mil.br:5002/api/v1/tc-prev?token=a779d04f85c4bf6cfa586d30aaec57c44e9b7173&idate=2023-01-02&fdate=2023-01-03\n",
      "Fetching data from http://montreal.icea.decea.mil.br:5002/api/v1/tc-prev?token=a779d04f85c4bf6cfa586d30aaec57c44e9b7173&idate=2023-01-03&fdate=2023-01-04\n",
      "Fetching data from http://montreal.icea.decea.mil.br:5002/api/v1/tc-prev?token=a779d04f85c4bf6cfa586d30aaec57c44e9b7173&idate=2023-01-04&fdate=2023-01-05\n",
      "Fetching data from http://montreal.icea.decea.mil.br:5002/api/v1/tc-prev?token=a779d04f85c4bf6cfa586d30aaec57c44e9b7173&idate=2023-01-05&fdate=2023-01-06\n",
      "Fetching data from http://montreal.icea.decea.mil.br:5002/api/v1/tc-prev?token=a779d04f85c4bf6cfa586d30aaec57c44e9b7173&idate=2023-01-06&fdate=2023-01-07\n",
      "Fetching data from http://montreal.icea.decea.mil.br:5002/api/v1/tc-prev?token=a779d04f85c4bf6cfa586d30aaec57c44e9b7173&idate=2023-01-07&fdate=2023-01-08\n",
      "Fetching data from http://montreal.icea.decea.mil.br:5002/api/v1/tc-prev?token=a779d04f85c4bf6cfa586d30aaec57c44e9b7173&idate=2023-01-08&fdate=2023-01-09\n",
      "Fetching data from http://montreal.icea.decea.mil.br:5002/api/v1/tc-prev?token=a779d04f85c4bf6cfa586d30aaec57c44e9b7173&idate=2023-01-09&fdate=2023-01-10\n",
      "Fetching data from http://montreal.icea.decea.mil.br:5002/api/v1/tc-prev?token=a779d04f85c4bf6cfa586d30aaec57c44e9b7173&idate=2023-01-10&fdate=2023-01-11\n",
      "Fetching data from http://montreal.icea.decea.mil.br:5002/api/v1/tc-prev?token=a779d04f85c4bf6cfa586d30aaec57c44e9b7173&idate=2023-01-11&fdate=2023-01-12\n",
      "Fetching data from http://montreal.icea.decea.mil.br:5002/api/v1/tc-prev?token=a779d04f85c4bf6cfa586d30aaec57c44e9b7173&idate=2023-01-12&fdate=2023-01-13\n",
      "Fetching data from http://montreal.icea.decea.mil.br:5002/api/v1/tc-prev?token=a779d04f85c4bf6cfa586d30aaec57c44e9b7173&idate=2023-01-13&fdate=2023-01-14\n",
      "Fetching data from http://montreal.icea.decea.mil.br:5002/api/v1/tc-prev?token=a779d04f85c4bf6cfa586d30aaec57c44e9b7173&idate=2023-01-14&fdate=2023-01-15\n",
      "Fetching data from http://montreal.icea.decea.mil.br:5002/api/v1/tc-prev?token=a779d04f85c4bf6cfa586d30aaec57c44e9b7173&idate=2023-01-15&fdate=2023-01-16\n",
      "Fetching data from http://montreal.icea.decea.mil.br:5002/api/v1/tc-prev?token=a779d04f85c4bf6cfa586d30aaec57c44e9b7173&idate=2023-01-16&fdate=2023-01-17\n",
      "Fetching data from http://montreal.icea.decea.mil.br:5002/api/v1/tc-prev?token=a779d04f85c4bf6cfa586d30aaec57c44e9b7173&idate=2023-01-17&fdate=2023-01-18\n",
      "Fetching data from http://montreal.icea.decea.mil.br:5002/api/v1/tc-prev?token=a779d04f85c4bf6cfa586d30aaec57c44e9b7173&idate=2023-01-18&fdate=2023-01-19\n",
      "Fetching data from http://montreal.icea.decea.mil.br:5002/api/v1/tc-prev?token=a779d04f85c4bf6cfa586d30aaec57c44e9b7173&idate=2023-01-19&fdate=2023-01-20\n",
      "Fetching data from http://montreal.icea.decea.mil.br:5002/api/v1/tc-prev?token=a779d04f85c4bf6cfa586d30aaec57c44e9b7173&idate=2023-01-20&fdate=2023-01-21\n",
      "Fetching data from http://montreal.icea.decea.mil.br:5002/api/v1/tc-prev?token=a779d04f85c4bf6cfa586d30aaec57c44e9b7173&idate=2023-01-21&fdate=2023-01-22\n",
      "Fetching data from http://montreal.icea.decea.mil.br:5002/api/v1/tc-prev?token=a779d04f85c4bf6cfa586d30aaec57c44e9b7173&idate=2023-01-22&fdate=2023-01-23\n",
      "Fetching data from http://montreal.icea.decea.mil.br:5002/api/v1/tc-prev?token=a779d04f85c4bf6cfa586d30aaec57c44e9b7173&idate=2023-01-23&fdate=2023-01-24\n",
      "Fetching data from http://montreal.icea.decea.mil.br:5002/api/v1/tc-prev?token=a779d04f85c4bf6cfa586d30aaec57c44e9b7173&idate=2023-01-24&fdate=2023-01-25\n",
      "Fetching data from http://montreal.icea.decea.mil.br:5002/api/v1/tc-prev?token=a779d04f85c4bf6cfa586d30aaec57c44e9b7173&idate=2023-01-25&fdate=2023-01-26\n",
      "Fetching data from http://montreal.icea.decea.mil.br:5002/api/v1/tc-prev?token=a779d04f85c4bf6cfa586d30aaec57c44e9b7173&idate=2023-01-26&fdate=2023-01-27\n",
      "Fetching data from http://montreal.icea.decea.mil.br:5002/api/v1/tc-prev?token=a779d04f85c4bf6cfa586d30aaec57c44e9b7173&idate=2023-01-27&fdate=2023-01-28\n",
      "Fetching data from http://montreal.icea.decea.mil.br:5002/api/v1/tc-prev?token=a779d04f85c4bf6cfa586d30aaec57c44e9b7173&idate=2023-01-28&fdate=2023-01-29\n"
     ]
    },
    {
     "name": "stderr",
     "output_type": "stream",
     "text": [
      "Carregando dados de tc-prev, Parte 3:  49%|████▉     | 52/106 [00:00<00:00, 249.60it/s]"
     ]
    },
    {
     "name": "stdout",
     "output_type": "stream",
     "text": [
      "Fetching data from http://montreal.icea.decea.mil.br:5002/api/v1/tc-prev?token=a779d04f85c4bf6cfa586d30aaec57c44e9b7173&idate=2023-01-29&fdate=2023-01-30\n",
      "Fetching data from http://montreal.icea.decea.mil.br:5002/api/v1/tc-prev?token=a779d04f85c4bf6cfa586d30aaec57c44e9b7173&idate=2023-01-30&fdate=2023-01-31\n",
      "Fetching data from http://montreal.icea.decea.mil.br:5002/api/v1/tc-prev?token=a779d04f85c4bf6cfa586d30aaec57c44e9b7173&idate=2023-01-31&fdate=2023-02-01\n",
      "Fetching data from http://montreal.icea.decea.mil.br:5002/api/v1/tc-prev?token=a779d04f85c4bf6cfa586d30aaec57c44e9b7173&idate=2023-02-01&fdate=2023-02-02\n",
      "Fetching data from http://montreal.icea.decea.mil.br:5002/api/v1/tc-prev?token=a779d04f85c4bf6cfa586d30aaec57c44e9b7173&idate=2023-02-02&fdate=2023-02-03\n",
      "Fetching data from http://montreal.icea.decea.mil.br:5002/api/v1/tc-prev?token=a779d04f85c4bf6cfa586d30aaec57c44e9b7173&idate=2023-02-03&fdate=2023-02-04\n",
      "Fetching data from http://montreal.icea.decea.mil.br:5002/api/v1/tc-prev?token=a779d04f85c4bf6cfa586d30aaec57c44e9b7173&idate=2023-02-04&fdate=2023-02-05\n",
      "Fetching data from http://montreal.icea.decea.mil.br:5002/api/v1/tc-prev?token=a779d04f85c4bf6cfa586d30aaec57c44e9b7173&idate=2023-02-05&fdate=2023-02-06\n",
      "Fetching data from http://montreal.icea.decea.mil.br:5002/api/v1/tc-prev?token=a779d04f85c4bf6cfa586d30aaec57c44e9b7173&idate=2023-02-06&fdate=2023-02-07\n",
      "Fetching data from http://montreal.icea.decea.mil.br:5002/api/v1/tc-prev?token=a779d04f85c4bf6cfa586d30aaec57c44e9b7173&idate=2023-02-07&fdate=2023-02-08\n",
      "Fetching data from http://montreal.icea.decea.mil.br:5002/api/v1/tc-prev?token=a779d04f85c4bf6cfa586d30aaec57c44e9b7173&idate=2023-02-08&fdate=2023-02-09\n"
     ]
    },
    {
     "name": "stderr",
     "output_type": "stream",
     "text": [
      "Carregando dados de tc-prev, Parte 3:  73%|███████▎  | 77/106 [00:00<00:00, 246.56it/s]"
     ]
    },
    {
     "name": "stdout",
     "output_type": "stream",
     "text": [
      "Fetching data from http://montreal.icea.decea.mil.br:5002/api/v1/tc-prev?token=a779d04f85c4bf6cfa586d30aaec57c44e9b7173&idate=2023-02-09&fdate=2023-02-10\n",
      "Fetching data from http://montreal.icea.decea.mil.br:5002/api/v1/tc-prev?token=a779d04f85c4bf6cfa586d30aaec57c44e9b7173&idate=2023-02-10&fdate=2023-02-11\n",
      "Fetching data from http://montreal.icea.decea.mil.br:5002/api/v1/tc-prev?token=a779d04f85c4bf6cfa586d30aaec57c44e9b7173&idate=2023-02-11&fdate=2023-02-12\n",
      "Fetching data from http://montreal.icea.decea.mil.br:5002/api/v1/tc-prev?token=a779d04f85c4bf6cfa586d30aaec57c44e9b7173&idate=2023-02-12&fdate=2023-02-13\n",
      "Fetching data from http://montreal.icea.decea.mil.br:5002/api/v1/tc-prev?token=a779d04f85c4bf6cfa586d30aaec57c44e9b7173&idate=2023-02-13&fdate=2023-02-14\n",
      "Fetching data from http://montreal.icea.decea.mil.br:5002/api/v1/tc-prev?token=a779d04f85c4bf6cfa586d30aaec57c44e9b7173&idate=2023-02-14&fdate=2023-02-15\n",
      "Fetching data from http://montreal.icea.decea.mil.br:5002/api/v1/tc-prev?token=a779d04f85c4bf6cfa586d30aaec57c44e9b7173&idate=2023-02-15&fdate=2023-02-16\n",
      "Fetching data from http://montreal.icea.decea.mil.br:5002/api/v1/tc-prev?token=a779d04f85c4bf6cfa586d30aaec57c44e9b7173&idate=2023-02-16&fdate=2023-02-17\n",
      "Fetching data from http://montreal.icea.decea.mil.br:5002/api/v1/tc-prev?token=a779d04f85c4bf6cfa586d30aaec57c44e9b7173&idate=2023-02-17&fdate=2023-02-18\n",
      "Fetching data from http://montreal.icea.decea.mil.br:5002/api/v1/tc-prev?token=a779d04f85c4bf6cfa586d30aaec57c44e9b7173&idate=2023-02-18&fdate=2023-02-19\n",
      "Fetching data from http://montreal.icea.decea.mil.br:5002/api/v1/tc-prev?token=a779d04f85c4bf6cfa586d30aaec57c44e9b7173&idate=2023-02-19&fdate=2023-02-20\n",
      "Fetching data from http://montreal.icea.decea.mil.br:5002/api/v1/tc-prev?token=a779d04f85c4bf6cfa586d30aaec57c44e9b7173&idate=2023-02-20&fdate=2023-02-21\n",
      "Fetching data from http://montreal.icea.decea.mil.br:5002/api/v1/tc-prev?token=a779d04f85c4bf6cfa586d30aaec57c44e9b7173&idate=2023-02-21&fdate=2023-02-22\n",
      "Fetching data from http://montreal.icea.decea.mil.br:5002/api/v1/tc-prev?token=a779d04f85c4bf6cfa586d30aaec57c44e9b7173&idate=2023-02-22&fdate=2023-02-23\n",
      "Fetching data from http://montreal.icea.decea.mil.br:5002/api/v1/tc-prev?token=a779d04f85c4bf6cfa586d30aaec57c44e9b7173&idate=2023-02-23&fdate=2023-02-24\n",
      "Fetching data from http://montreal.icea.decea.mil.br:5002/api/v1/tc-prev?token=a779d04f85c4bf6cfa586d30aaec57c44e9b7173&idate=2023-02-24&fdate=2023-02-25\n",
      "Fetching data from http://montreal.icea.decea.mil.br:5002/api/v1/tc-prev?token=a779d04f85c4bf6cfa586d30aaec57c44e9b7173&idate=2023-02-25&fdate=2023-02-26\n",
      "Fetching data from http://montreal.icea.decea.mil.br:5002/api/v1/tc-prev?token=a779d04f85c4bf6cfa586d30aaec57c44e9b7173&idate=2023-02-26&fdate=2023-02-27\n",
      "Fetching data from http://montreal.icea.decea.mil.br:5002/api/v1/tc-prev?token=a779d04f85c4bf6cfa586d30aaec57c44e9b7173&idate=2023-02-27&fdate=2023-02-28\n",
      "Fetching data from http://montreal.icea.decea.mil.br:5002/api/v1/tc-prev?token=a779d04f85c4bf6cfa586d30aaec57c44e9b7173&idate=2023-02-28&fdate=2023-03-01\n",
      "Fetching data from http://montreal.icea.decea.mil.br:5002/api/v1/tc-prev?token=a779d04f85c4bf6cfa586d30aaec57c44e9b7173&idate=2023-03-01&fdate=2023-03-02\n",
      "Fetching data from http://montreal.icea.decea.mil.br:5002/api/v1/tc-prev?token=a779d04f85c4bf6cfa586d30aaec57c44e9b7173&idate=2023-03-02&fdate=2023-03-03\n",
      "Fetching data from http://montreal.icea.decea.mil.br:5002/api/v1/tc-prev?token=a779d04f85c4bf6cfa586d30aaec57c44e9b7173&idate=2023-03-03&fdate=2023-03-04\n",
      "Fetching data from http://montreal.icea.decea.mil.br:5002/api/v1/tc-prev?token=a779d04f85c4bf6cfa586d30aaec57c44e9b7173&idate=2023-03-04&fdate=2023-03-05\n",
      "Fetching data from http://montreal.icea.decea.mil.br:5002/api/v1/tc-prev?token=a779d04f85c4bf6cfa586d30aaec57c44e9b7173&idate=2023-03-05&fdate=2023-03-06\n",
      "Fetching data from http://montreal.icea.decea.mil.br:5002/api/v1/tc-prev?token=a779d04f85c4bf6cfa586d30aaec57c44e9b7173&idate=2023-03-06&fdate=2023-03-07\n",
      "Fetching data from http://montreal.icea.decea.mil.br:5002/api/v1/tc-prev?token=a779d04f85c4bf6cfa586d30aaec57c44e9b7173&idate=2023-03-07&fdate=2023-03-08\n",
      "Fetching data from http://montreal.icea.decea.mil.br:5002/api/v1/tc-prev?token=a779d04f85c4bf6cfa586d30aaec57c44e9b7173&idate=2023-03-08&fdate=2023-03-09\n",
      "Fetching data from http://montreal.icea.decea.mil.br:5002/api/v1/tc-prev?token=a779d04f85c4bf6cfa586d30aaec57c44e9b7173&idate=2023-03-09&fdate=2023-03-10\n",
      "Fetching data from http://montreal.icea.decea.mil.br:5002/api/v1/tc-prev?token=a779d04f85c4bf6cfa586d30aaec57c44e9b7173&idate=2023-03-10&fdate=2023-03-11Fetching data from http://montreal.icea.decea.mil.br:5002/api/v1/tc-prev?token=a779d04f85c4bf6cfa586d30aaec57c44e9b7173&idate=2023-03-11&fdate=2023-03-12\n",
      "Fetching data from http://montreal.icea.decea.mil.br:5002/api/v1/tc-prev?token=a779d04f85c4bf6cfa586d30aaec57c44e9b7173&idate=2023-03-12&fdate=2023-03-13\n",
      "\n",
      "Fetching data from http://montreal.icea.decea.mil.br:5002/api/v1/tc-prev?token=a779d04f85c4bf6cfa586d30aaec57c44e9b7173&idate=2023-03-13&fdate=2023-03-14\n",
      "Fetching data from http://montreal.icea.decea.mil.br:5002/api/v1/tc-prev?token=a779d04f85c4bf6cfa586d30aaec57c44e9b7173&idate=2023-03-14&fdate=2023-03-15\n"
     ]
    },
    {
     "name": "stderr",
     "output_type": "stream",
     "text": [
      "Carregando dados de tc-prev, Parte 3: 100%|██████████| 106/106 [00:00<00:00, 239.39it/s]"
     ]
    },
    {
     "name": "stdout",
     "output_type": "stream",
     "text": [
      "Dados de tc-prev salvos em tc-prev_part_3.csv\n",
      "Processando parte 4/4\n"
     ]
    },
    {
     "name": "stderr",
     "output_type": "stream",
     "text": [
      "\n"
     ]
    },
    {
     "name": "stdout",
     "output_type": "stream",
     "text": [
      "Fetching data from http://montreal.icea.decea.mil.br:5002/api/v1/tc-prev?token=a779d04f85c4bf6cfa586d30aaec57c44e9b7173&idate=2023-03-15&fdate=2023-03-16\n",
      "Fetching data from http://montreal.icea.decea.mil.br:5002/api/v1/tc-prev?token=a779d04f85c4bf6cfa586d30aaec57c44e9b7173&idate=2023-03-16&fdate=2023-03-17\n",
      "Fetching data from http://montreal.icea.decea.mil.br:5002/api/v1/tc-prev?token=a779d04f85c4bf6cfa586d30aaec57c44e9b7173&idate=2023-03-17&fdate=2023-03-18\n",
      "Fetching data from http://montreal.icea.decea.mil.br:5002/api/v1/tc-prev?token=a779d04f85c4bf6cfa586d30aaec57c44e9b7173&idate=2023-03-18&fdate=2023-03-19\n",
      "Fetching data from http://montreal.icea.decea.mil.br:5002/api/v1/tc-prev?token=a779d04f85c4bf6cfa586d30aaec57c44e9b7173&idate=2023-03-19&fdate=2023-03-20\n",
      "Fetching data from http://montreal.icea.decea.mil.br:5002/api/v1/tc-prev?token=a779d04f85c4bf6cfa586d30aaec57c44e9b7173&idate=2023-03-20&fdate=2023-03-21\n",
      "Fetching data from http://montreal.icea.decea.mil.br:5002/api/v1/tc-prev?token=a779d04f85c4bf6cfa586d30aaec57c44e9b7173&idate=2023-03-21&fdate=2023-03-22\n",
      "Fetching data from http://montreal.icea.decea.mil.br:5002/api/v1/tc-prev?token=a779d04f85c4bf6cfa586d30aaec57c44e9b7173&idate=2023-03-22&fdate=2023-03-23\n",
      "Fetching data from http://montreal.icea.decea.mil.br:5002/api/v1/tc-prev?token=a779d04f85c4bf6cfa586d30aaec57c44e9b7173&idate=2023-03-23&fdate=2023-03-24\n",
      "Fetching data from http://montreal.icea.decea.mil.br:5002/api/v1/tc-prev?token=a779d04f85c4bf6cfa586d30aaec57c44e9b7173&idate=2023-03-24&fdate=2023-03-25\n"
     ]
    },
    {
     "name": "stderr",
     "output_type": "stream",
     "text": [
      "Carregando dados de tc-prev, Parte 4:   0%|          | 0/109 [00:00<?, ?it/s]"
     ]
    },
    {
     "name": "stdout",
     "output_type": "stream",
     "text": [
      "Fetching data from http://montreal.icea.decea.mil.br:5002/api/v1/tc-prev?token=a779d04f85c4bf6cfa586d30aaec57c44e9b7173&idate=2023-03-25&fdate=2023-03-26\n",
      "Fetching data from http://montreal.icea.decea.mil.br:5002/api/v1/tc-prev?token=a779d04f85c4bf6cfa586d30aaec57c44e9b7173&idate=2023-03-26&fdate=2023-03-27\n",
      "Fetching data from http://montreal.icea.decea.mil.br:5002/api/v1/tc-prev?token=a779d04f85c4bf6cfa586d30aaec57c44e9b7173&idate=2023-03-27&fdate=2023-03-28\n",
      "Fetching data from http://montreal.icea.decea.mil.br:5002/api/v1/tc-prev?token=a779d04f85c4bf6cfa586d30aaec57c44e9b7173&idate=2023-03-28&fdate=2023-03-29\n",
      "Fetching data from http://montreal.icea.decea.mil.br:5002/api/v1/tc-prev?token=a779d04f85c4bf6cfa586d30aaec57c44e9b7173&idate=2023-03-29&fdate=2023-03-30\n",
      "Fetching data from http://montreal.icea.decea.mil.br:5002/api/v1/tc-prev?token=a779d04f85c4bf6cfa586d30aaec57c44e9b7173&idate=2023-03-30&fdate=2023-03-31\n",
      "Fetching data from http://montreal.icea.decea.mil.br:5002/api/v1/tc-prev?token=a779d04f85c4bf6cfa586d30aaec57c44e9b7173&idate=2023-03-31&fdate=2023-04-01\n",
      "Fetching data from http://montreal.icea.decea.mil.br:5002/api/v1/tc-prev?token=a779d04f85c4bf6cfa586d30aaec57c44e9b7173&idate=2023-04-01&fdate=2023-04-02\n",
      "Fetching data from http://montreal.icea.decea.mil.br:5002/api/v1/tc-prev?token=a779d04f85c4bf6cfa586d30aaec57c44e9b7173&idate=2023-04-02&fdate=2023-04-03\n",
      "Fetching data from http://montreal.icea.decea.mil.br:5002/api/v1/tc-prev?token=a779d04f85c4bf6cfa586d30aaec57c44e9b7173&idate=2023-04-03&fdate=2023-04-04\n",
      "Fetching data from http://montreal.icea.decea.mil.br:5002/api/v1/tc-prev?token=a779d04f85c4bf6cfa586d30aaec57c44e9b7173&idate=2023-04-04&fdate=2023-04-05\n",
      "Fetching data from http://montreal.icea.decea.mil.br:5002/api/v1/tc-prev?token=a779d04f85c4bf6cfa586d30aaec57c44e9b7173&idate=2023-04-05&fdate=2023-04-06\n",
      "Fetching data from http://montreal.icea.decea.mil.br:5002/api/v1/tc-prev?token=a779d04f85c4bf6cfa586d30aaec57c44e9b7173&idate=2023-04-06&fdate=2023-04-07\n",
      "Fetching data from http://montreal.icea.decea.mil.br:5002/api/v1/tc-prev?token=a779d04f85c4bf6cfa586d30aaec57c44e9b7173&idate=2023-04-07&fdate=2023-04-08\n",
      "Fetching data from http://montreal.icea.decea.mil.br:5002/api/v1/tc-prev?token=a779d04f85c4bf6cfa586d30aaec57c44e9b7173&idate=2023-04-08&fdate=2023-04-09\n"
     ]
    },
    {
     "name": "stderr",
     "output_type": "stream",
     "text": [
      "Carregando dados de tc-prev, Parte 4:  25%|██▍       | 27/109 [00:00<00:00, 248.79it/s]"
     ]
    },
    {
     "name": "stdout",
     "output_type": "stream",
     "text": [
      "Fetching data from http://montreal.icea.decea.mil.br:5002/api/v1/tc-prev?token=a779d04f85c4bf6cfa586d30aaec57c44e9b7173&idate=2023-04-09&fdate=2023-04-10\n",
      "Fetching data from http://montreal.icea.decea.mil.br:5002/api/v1/tc-prev?token=a779d04f85c4bf6cfa586d30aaec57c44e9b7173&idate=2023-04-10&fdate=2023-04-11\n",
      "Fetching data from http://montreal.icea.decea.mil.br:5002/api/v1/tc-prev?token=a779d04f85c4bf6cfa586d30aaec57c44e9b7173&idate=2023-04-11&fdate=2023-04-12\n",
      "Fetching data from http://montreal.icea.decea.mil.br:5002/api/v1/tc-prev?token=a779d04f85c4bf6cfa586d30aaec57c44e9b7173&idate=2023-04-12&fdate=2023-04-13\n",
      "Fetching data from http://montreal.icea.decea.mil.br:5002/api/v1/tc-prev?token=a779d04f85c4bf6cfa586d30aaec57c44e9b7173&idate=2023-04-13&fdate=2023-04-14\n",
      "Fetching data from http://montreal.icea.decea.mil.br:5002/api/v1/tc-prev?token=a779d04f85c4bf6cfa586d30aaec57c44e9b7173&idate=2023-04-14&fdate=2023-04-15\n",
      "Fetching data from http://montreal.icea.decea.mil.br:5002/api/v1/tc-prev?token=a779d04f85c4bf6cfa586d30aaec57c44e9b7173&idate=2023-04-15&fdate=2023-04-16\n",
      "Fetching data from http://montreal.icea.decea.mil.br:5002/api/v1/tc-prev?token=a779d04f85c4bf6cfa586d30aaec57c44e9b7173&idate=2023-04-16&fdate=2023-04-17\n",
      "Fetching data from http://montreal.icea.decea.mil.br:5002/api/v1/tc-prev?token=a779d04f85c4bf6cfa586d30aaec57c44e9b7173&idate=2023-04-17&fdate=2023-04-18\n",
      "Fetching data from http://montreal.icea.decea.mil.br:5002/api/v1/tc-prev?token=a779d04f85c4bf6cfa586d30aaec57c44e9b7173&idate=2023-04-18&fdate=2023-04-19\n",
      "Fetching data from http://montreal.icea.decea.mil.br:5002/api/v1/tc-prev?token=a779d04f85c4bf6cfa586d30aaec57c44e9b7173&idate=2023-04-19&fdate=2023-04-20\n",
      "Fetching data from http://montreal.icea.decea.mil.br:5002/api/v1/tc-prev?token=a779d04f85c4bf6cfa586d30aaec57c44e9b7173&idate=2023-04-20&fdate=2023-04-21\n",
      "Fetching data from http://montreal.icea.decea.mil.br:5002/api/v1/tc-prev?token=a779d04f85c4bf6cfa586d30aaec57c44e9b7173&idate=2023-04-21&fdate=2023-04-22\n",
      "Fetching data from http://montreal.icea.decea.mil.br:5002/api/v1/tc-prev?token=a779d04f85c4bf6cfa586d30aaec57c44e9b7173&idate=2023-04-22&fdate=2023-04-23\n",
      "Fetching data from http://montreal.icea.decea.mil.br:5002/api/v1/tc-prev?token=a779d04f85c4bf6cfa586d30aaec57c44e9b7173&idate=2023-04-23&fdate=2023-04-24\n",
      "Fetching data from http://montreal.icea.decea.mil.br:5002/api/v1/tc-prev?token=a779d04f85c4bf6cfa586d30aaec57c44e9b7173&idate=2023-04-24&fdate=2023-04-25\n",
      "Fetching data from http://montreal.icea.decea.mil.br:5002/api/v1/tc-prev?token=a779d04f85c4bf6cfa586d30aaec57c44e9b7173&idate=2023-04-25&fdate=2023-04-26Fetching data from http://montreal.icea.decea.mil.br:5002/api/v1/tc-prev?token=a779d04f85c4bf6cfa586d30aaec57c44e9b7173&idate=2023-04-26&fdate=2023-04-27\n",
      "Fetching data from http://montreal.icea.decea.mil.br:5002/api/v1/tc-prev?token=a779d04f85c4bf6cfa586d30aaec57c44e9b7173&idate=2023-04-27&fdate=2023-04-28\n",
      "Fetching data from http://montreal.icea.decea.mil.br:5002/api/v1/tc-prev?token=a779d04f85c4bf6cfa586d30aaec57c44e9b7173&idate=2023-04-28&fdate=2023-04-29\n",
      "Fetching data from http://montreal.icea.decea.mil.br:5002/api/v1/tc-prev?token=a779d04f85c4bf6cfa586d30aaec57c44e9b7173&idate=2023-04-29&fdate=2023-04-30\n",
      "\n",
      "Fetching data from http://montreal.icea.decea.mil.br:5002/api/v1/tc-prev?token=a779d04f85c4bf6cfa586d30aaec57c44e9b7173&idate=2023-04-30&fdate=2023-05-01\n",
      "Fetching data from http://montreal.icea.decea.mil.br:5002/api/v1/tc-prev?token=a779d04f85c4bf6cfa586d30aaec57c44e9b7173&idate=2023-05-01&fdate=2023-05-02\n",
      "Fetching data from http://montreal.icea.decea.mil.br:5002/api/v1/tc-prev?token=a779d04f85c4bf6cfa586d30aaec57c44e9b7173&idate=2023-05-02&fdate=2023-05-03\n",
      "Fetching data from http://montreal.icea.decea.mil.br:5002/api/v1/tc-prev?token=a779d04f85c4bf6cfa586d30aaec57c44e9b7173&idate=2023-05-03&fdate=2023-05-04\n",
      "Fetching data from http://montreal.icea.decea.mil.br:5002/api/v1/tc-prev?token=a779d04f85c4bf6cfa586d30aaec57c44e9b7173&idate=2023-05-04&fdate=2023-05-05\n",
      "Fetching data from http://montreal.icea.decea.mil.br:5002/api/v1/tc-prev?token=a779d04f85c4bf6cfa586d30aaec57c44e9b7173&idate=2023-05-05&fdate=2023-05-06\n",
      "Fetching data from http://montreal.icea.decea.mil.br:5002/api/v1/tc-prev?token=a779d04f85c4bf6cfa586d30aaec57c44e9b7173&idate=2023-05-06&fdate=2023-05-07\n",
      "Fetching data from http://montreal.icea.decea.mil.br:5002/api/v1/tc-prev?token=a779d04f85c4bf6cfa586d30aaec57c44e9b7173&idate=2023-05-07&fdate=2023-05-08Fetching data from http://montreal.icea.decea.mil.br:5002/api/v1/tc-prev?token=a779d04f85c4bf6cfa586d30aaec57c44e9b7173&idate=2023-05-08&fdate=2023-05-09\n",
      "\n",
      "Fetching data from http://montreal.icea.decea.mil.br:5002/api/v1/tc-prev?token=a779d04f85c4bf6cfa586d30aaec57c44e9b7173&idate=2023-05-09&fdate=2023-05-10\n",
      "Fetching data from http://montreal.icea.decea.mil.br:5002/api/v1/tc-prev?token=a779d04f85c4bf6cfa586d30aaec57c44e9b7173&idate=2023-05-10&fdate=2023-05-11\n",
      "Fetching data from http://montreal.icea.decea.mil.br:5002/api/v1/tc-prev?token=a779d04f85c4bf6cfa586d30aaec57c44e9b7173&idate=2023-05-11&fdate=2023-05-12\n",
      "Fetching data from http://montreal.icea.decea.mil.br:5002/api/v1/tc-prev?token=a779d04f85c4bf6cfa586d30aaec57c44e9b7173&idate=2023-05-12&fdate=2023-05-13\n",
      "Fetching data from http://montreal.icea.decea.mil.br:5002/api/v1/tc-prev?token=a779d04f85c4bf6cfa586d30aaec57c44e9b7173&idate=2023-05-13&fdate=2023-05-14\n",
      "Fetching data from http://montreal.icea.decea.mil.br:5002/api/v1/tc-prev?token=a779d04f85c4bf6cfa586d30aaec57c44e9b7173&idate=2023-05-14&fdate=2023-05-15\n"
     ]
    },
    {
     "name": "stderr",
     "output_type": "stream",
     "text": [
      "Carregando dados de tc-prev, Parte 4:  48%|████▊     | 52/109 [00:00<00:00, 231.88it/s]"
     ]
    },
    {
     "name": "stdout",
     "output_type": "stream",
     "text": [
      "Fetching data from http://montreal.icea.decea.mil.br:5002/api/v1/tc-prev?token=a779d04f85c4bf6cfa586d30aaec57c44e9b7173&idate=2023-05-15&fdate=2023-05-16Fetching data from http://montreal.icea.decea.mil.br:5002/api/v1/tc-prev?token=a779d04f85c4bf6cfa586d30aaec57c44e9b7173&idate=2023-05-16&fdate=2023-05-17\n",
      "\n",
      "Fetching data from http://montreal.icea.decea.mil.br:5002/api/v1/tc-prev?token=a779d04f85c4bf6cfa586d30aaec57c44e9b7173&idate=2023-05-17&fdate=2023-05-18\n",
      "Fetching data from http://montreal.icea.decea.mil.br:5002/api/v1/tc-prev?token=a779d04f85c4bf6cfa586d30aaec57c44e9b7173&idate=2023-05-18&fdate=2023-05-19\n",
      "Fetching data from http://montreal.icea.decea.mil.br:5002/api/v1/tc-prev?token=a779d04f85c4bf6cfa586d30aaec57c44e9b7173&idate=2023-05-19&fdate=2023-05-20\n",
      "Fetching data from http://montreal.icea.decea.mil.br:5002/api/v1/tc-prev?token=a779d04f85c4bf6cfa586d30aaec57c44e9b7173&idate=2023-05-20&fdate=2023-05-21\n",
      "Fetching data from http://montreal.icea.decea.mil.br:5002/api/v1/tc-prev?token=a779d04f85c4bf6cfa586d30aaec57c44e9b7173&idate=2023-05-21&fdate=2023-05-22\n",
      "Fetching data from http://montreal.icea.decea.mil.br:5002/api/v1/tc-prev?token=a779d04f85c4bf6cfa586d30aaec57c44e9b7173&idate=2023-05-22&fdate=2023-05-23\n",
      "Fetching data from http://montreal.icea.decea.mil.br:5002/api/v1/tc-prev?token=a779d04f85c4bf6cfa586d30aaec57c44e9b7173&idate=2023-05-23&fdate=2023-05-24\n",
      "Fetching data from http://montreal.icea.decea.mil.br:5002/api/v1/tc-prev?token=a779d04f85c4bf6cfa586d30aaec57c44e9b7173&idate=2023-05-24&fdate=2023-05-25\n",
      "Fetching data from http://montreal.icea.decea.mil.br:5002/api/v1/tc-prev?token=a779d04f85c4bf6cfa586d30aaec57c44e9b7173&idate=2023-05-25&fdate=2023-05-26\n"
     ]
    },
    {
     "name": "stderr",
     "output_type": "stream",
     "text": [
      "Carregando dados de tc-prev, Parte 4:  72%|███████▏  | 79/109 [00:00<00:00, 242.34it/s]"
     ]
    },
    {
     "name": "stdout",
     "output_type": "stream",
     "text": [
      "Fetching data from http://montreal.icea.decea.mil.br:5002/api/v1/tc-prev?token=a779d04f85c4bf6cfa586d30aaec57c44e9b7173&idate=2023-05-26&fdate=2023-05-27Fetching data from http://montreal.icea.decea.mil.br:5002/api/v1/tc-prev?token=a779d04f85c4bf6cfa586d30aaec57c44e9b7173&idate=2023-05-27&fdate=2023-05-28\n",
      "\n",
      "Fetching data from http://montreal.icea.decea.mil.br:5002/api/v1/tc-prev?token=a779d04f85c4bf6cfa586d30aaec57c44e9b7173&idate=2023-05-28&fdate=2023-05-29\n",
      "Fetching data from http://montreal.icea.decea.mil.br:5002/api/v1/tc-prev?token=a779d04f85c4bf6cfa586d30aaec57c44e9b7173&idate=2023-05-29&fdate=2023-05-30\n",
      "Fetching data from http://montreal.icea.decea.mil.br:5002/api/v1/tc-prev?token=a779d04f85c4bf6cfa586d30aaec57c44e9b7173&idate=2023-05-30&fdate=2023-05-31\n",
      "Fetching data from http://montreal.icea.decea.mil.br:5002/api/v1/tc-prev?token=a779d04f85c4bf6cfa586d30aaec57c44e9b7173&idate=2023-05-31&fdate=2023-06-01\n",
      "Fetching data from http://montreal.icea.decea.mil.br:5002/api/v1/tc-prev?token=a779d04f85c4bf6cfa586d30aaec57c44e9b7173&idate=2023-06-01&fdate=2023-06-02\n",
      "Fetching data from http://montreal.icea.decea.mil.br:5002/api/v1/tc-prev?token=a779d04f85c4bf6cfa586d30aaec57c44e9b7173&idate=2023-06-02&fdate=2023-06-03\n",
      "Fetching data from http://montreal.icea.decea.mil.br:5002/api/v1/tc-prev?token=a779d04f85c4bf6cfa586d30aaec57c44e9b7173&idate=2023-06-03&fdate=2023-06-04\n",
      "Fetching data from http://montreal.icea.decea.mil.br:5002/api/v1/tc-prev?token=a779d04f85c4bf6cfa586d30aaec57c44e9b7173&idate=2023-06-04&fdate=2023-06-05\n",
      "Fetching data from http://montreal.icea.decea.mil.br:5002/api/v1/tc-prev?token=a779d04f85c4bf6cfa586d30aaec57c44e9b7173&idate=2023-06-05&fdate=2023-06-06\n",
      "Fetching data from http://montreal.icea.decea.mil.br:5002/api/v1/tc-prev?token=a779d04f85c4bf6cfa586d30aaec57c44e9b7173&idate=2023-06-06&fdate=2023-06-07\n",
      "Fetching data from http://montreal.icea.decea.mil.br:5002/api/v1/tc-prev?token=a779d04f85c4bf6cfa586d30aaec57c44e9b7173&idate=2023-06-07&fdate=2023-06-08\n",
      "Fetching data from http://montreal.icea.decea.mil.br:5002/api/v1/tc-prev?token=a779d04f85c4bf6cfa586d30aaec57c44e9b7173&idate=2023-06-08&fdate=2023-06-09\n",
      "Fetching data from http://montreal.icea.decea.mil.br:5002/api/v1/tc-prev?token=a779d04f85c4bf6cfa586d30aaec57c44e9b7173&idate=2023-06-09&fdate=2023-06-10\n",
      "Fetching data from http://montreal.icea.decea.mil.br:5002/api/v1/tc-prev?token=a779d04f85c4bf6cfa586d30aaec57c44e9b7173&idate=2023-06-10&fdate=2023-06-11\n",
      "Fetching data from http://montreal.icea.decea.mil.br:5002/api/v1/tc-prev?token=a779d04f85c4bf6cfa586d30aaec57c44e9b7173&idate=2023-06-11&fdate=2023-06-12\n",
      "Fetching data from http://montreal.icea.decea.mil.br:5002/api/v1/tc-prev?token=a779d04f85c4bf6cfa586d30aaec57c44e9b7173&idate=2023-06-12&fdate=2023-06-13\n",
      "Fetching data from http://montreal.icea.decea.mil.br:5002/api/v1/tc-prev?token=a779d04f85c4bf6cfa586d30aaec57c44e9b7173&idate=2023-06-13&fdate=2023-06-14\n",
      "Fetching data from http://montreal.icea.decea.mil.br:5002/api/v1/tc-prev?token=a779d04f85c4bf6cfa586d30aaec57c44e9b7173&idate=2023-06-14&fdate=2023-06-15\n",
      "Fetching data from http://montreal.icea.decea.mil.br:5002/api/v1/tc-prev?token=a779d04f85c4bf6cfa586d30aaec57c44e9b7173&idate=2023-06-15&fdate=2023-06-16\n",
      "Fetching data from http://montreal.icea.decea.mil.br:5002/api/v1/tc-prev?token=a779d04f85c4bf6cfa586d30aaec57c44e9b7173&idate=2023-06-16&fdate=2023-06-17\n",
      "Fetching data from http://montreal.icea.decea.mil.br:5002/api/v1/tc-prev?token=a779d04f85c4bf6cfa586d30aaec57c44e9b7173&idate=2023-06-17&fdate=2023-06-18\n",
      "Fetching data from http://montreal.icea.decea.mil.br:5002/api/v1/tc-prev?token=a779d04f85c4bf6cfa586d30aaec57c44e9b7173&idate=2023-06-18&fdate=2023-06-19\n",
      "Fetching data from http://montreal.icea.decea.mil.br:5002/api/v1/tc-prev?token=a779d04f85c4bf6cfa586d30aaec57c44e9b7173&idate=2023-06-19&fdate=2023-06-20\n",
      "Fetching data from http://montreal.icea.decea.mil.br:5002/api/v1/tc-prev?token=a779d04f85c4bf6cfa586d30aaec57c44e9b7173&idate=2023-06-20&fdate=2023-06-21\n",
      "Fetching data from http://montreal.icea.decea.mil.br:5002/api/v1/tc-prev?token=a779d04f85c4bf6cfa586d30aaec57c44e9b7173&idate=2023-06-21&fdate=2023-06-22\n",
      "Fetching data from http://montreal.icea.decea.mil.br:5002/api/v1/tc-prev?token=a779d04f85c4bf6cfa586d30aaec57c44e9b7173&idate=2023-06-22&fdate=2023-06-23\n",
      "Fetching data from http://montreal.icea.decea.mil.br:5002/api/v1/tc-prev?token=a779d04f85c4bf6cfa586d30aaec57c44e9b7173&idate=2023-06-23&fdate=2023-06-24\n",
      "Fetching data from http://montreal.icea.decea.mil.br:5002/api/v1/tc-prev?token=a779d04f85c4bf6cfa586d30aaec57c44e9b7173&idate=2023-06-24&fdate=2023-06-25\n",
      "Fetching data from http://montreal.icea.decea.mil.br:5002/api/v1/tc-prev?token=a779d04f85c4bf6cfa586d30aaec57c44e9b7173&idate=2023-06-25&fdate=2023-06-26\n",
      "Fetching data from http://montreal.icea.decea.mil.br:5002/api/v1/tc-prev?token=a779d04f85c4bf6cfa586d30aaec57c44e9b7173&idate=2023-06-26&fdate=2023-06-27\n",
      "Fetching data from http://montreal.icea.decea.mil.br:5002/api/v1/tc-prev?token=a779d04f85c4bf6cfa586d30aaec57c44e9b7173&idate=2023-06-27&fdate=2023-06-28\n",
      "Fetching data from http://montreal.icea.decea.mil.br:5002/api/v1/tc-prev?token=a779d04f85c4bf6cfa586d30aaec57c44e9b7173&idate=2023-06-28&fdate=2023-06-29\n",
      "Fetching data from http://montreal.icea.decea.mil.br:5002/api/v1/tc-prev?token=a779d04f85c4bf6cfa586d30aaec57c44e9b7173&idate=2023-06-29&fdate=2023-06-30\n",
      "Fetching data from http://montreal.icea.decea.mil.br:5002/api/v1/tc-prev?token=a779d04f85c4bf6cfa586d30aaec57c44e9b7173&idate=2023-06-30&fdate=2023-07-01\n"
     ]
    },
    {
     "name": "stderr",
     "output_type": "stream",
     "text": [
      "Carregando dados de tc-prev, Parte 4: 100%|██████████| 109/109 [00:00<00:00, 233.27it/s]"
     ]
    },
    {
     "name": "stdout",
     "output_type": "stream",
     "text": [
      "Fetching data from http://montreal.icea.decea.mil.br:5002/api/v1/tc-prev?token=a779d04f85c4bf6cfa586d30aaec57c44e9b7173&idate=2023-07-01&fdate=2023-07-02\n"
     ]
    },
    {
     "name": "stderr",
     "output_type": "stream",
     "text": [
      "\n"
     ]
    },
    {
     "name": "stdout",
     "output_type": "stream",
     "text": [
      "Dados de tc-prev salvos em tc-prev_part_4.csv\n",
      "Processando metaf\n",
      "Processando parte 1/4\n",
      "Fetching data from http://montreal.icea.decea.mil.br:5002/api/v1/metaf?token=a779d04f85c4bf6cfa586d30aaec57c44e9b7173&idate=2022-05-01&fdate=2022-05-02\n",
      "Fetching data from http://montreal.icea.decea.mil.br:5002/api/v1/metaf?token=a779d04f85c4bf6cfa586d30aaec57c44e9b7173&idate=2022-05-02&fdate=2022-05-03\n",
      "Fetching data from http://montreal.icea.decea.mil.br:5002/api/v1/metaf?token=a779d04f85c4bf6cfa586d30aaec57c44e9b7173&idate=2022-05-03&fdate=2022-05-04\n",
      "Fetching data from http://montreal.icea.decea.mil.br:5002/api/v1/metaf?token=a779d04f85c4bf6cfa586d30aaec57c44e9b7173&idate=2022-05-04&fdate=2022-05-05\n",
      "Fetching data from http://montreal.icea.decea.mil.br:5002/api/v1/metaf?token=a779d04f85c4bf6cfa586d30aaec57c44e9b7173&idate=2022-05-05&fdate=2022-05-06\n",
      "Fetching data from http://montreal.icea.decea.mil.br:5002/api/v1/metaf?token=a779d04f85c4bf6cfa586d30aaec57c44e9b7173&idate=2022-05-06&fdate=2022-05-07\n",
      "Fetching data from http://montreal.icea.decea.mil.br:5002/api/v1/metaf?token=a779d04f85c4bf6cfa586d30aaec57c44e9b7173&idate=2022-05-07&fdate=2022-05-08\n",
      "Fetching data from http://montreal.icea.decea.mil.br:5002/api/v1/metaf?token=a779d04f85c4bf6cfa586d30aaec57c44e9b7173&idate=2022-05-08&fdate=2022-05-09\n",
      "Fetching data from http://montreal.icea.decea.mil.br:5002/api/v1/metaf?token=a779d04f85c4bf6cfa586d30aaec57c44e9b7173&idate=2022-05-09&fdate=2022-05-10\n",
      "Fetching data from http://montreal.icea.decea.mil.br:5002/api/v1/metaf?token=a779d04f85c4bf6cfa586d30aaec57c44e9b7173&idate=2022-05-10&fdate=2022-05-11\n"
     ]
    },
    {
     "name": "stderr",
     "output_type": "stream",
     "text": [
      "Carregando dados de metaf, Parte 1:   0%|          | 0/106 [00:00<?, ?it/s]"
     ]
    },
    {
     "name": "stdout",
     "output_type": "stream",
     "text": [
      "Fetching data from http://montreal.icea.decea.mil.br:5002/api/v1/metaf?token=a779d04f85c4bf6cfa586d30aaec57c44e9b7173&idate=2022-05-11&fdate=2022-05-12\n",
      "Fetching data from http://montreal.icea.decea.mil.br:5002/api/v1/metaf?token=a779d04f85c4bf6cfa586d30aaec57c44e9b7173&idate=2022-05-12&fdate=2022-05-13\n",
      "Fetching data from http://montreal.icea.decea.mil.br:5002/api/v1/metaf?token=a779d04f85c4bf6cfa586d30aaec57c44e9b7173&idate=2022-05-13&fdate=2022-05-14\n",
      "Fetching data from http://montreal.icea.decea.mil.br:5002/api/v1/metaf?token=a779d04f85c4bf6cfa586d30aaec57c44e9b7173&idate=2022-05-14&fdate=2022-05-15\n",
      "Fetching data from http://montreal.icea.decea.mil.br:5002/api/v1/metaf?token=a779d04f85c4bf6cfa586d30aaec57c44e9b7173&idate=2022-05-15&fdate=2022-05-16\n",
      "Fetching data from http://montreal.icea.decea.mil.br:5002/api/v1/metaf?token=a779d04f85c4bf6cfa586d30aaec57c44e9b7173&idate=2022-05-16&fdate=2022-05-17\n",
      "Fetching data from http://montreal.icea.decea.mil.br:5002/api/v1/metaf?token=a779d04f85c4bf6cfa586d30aaec57c44e9b7173&idate=2022-05-17&fdate=2022-05-18\n",
      "Fetching data from http://montreal.icea.decea.mil.br:5002/api/v1/metaf?token=a779d04f85c4bf6cfa586d30aaec57c44e9b7173&idate=2022-05-18&fdate=2022-05-19\n",
      "Fetching data from http://montreal.icea.decea.mil.br:5002/api/v1/metaf?token=a779d04f85c4bf6cfa586d30aaec57c44e9b7173&idate=2022-05-19&fdate=2022-05-20\n",
      "Fetching data from http://montreal.icea.decea.mil.br:5002/api/v1/metaf?token=a779d04f85c4bf6cfa586d30aaec57c44e9b7173&idate=2022-05-20&fdate=2022-05-21\n",
      "Fetching data from http://montreal.icea.decea.mil.br:5002/api/v1/metaf?token=a779d04f85c4bf6cfa586d30aaec57c44e9b7173&idate=2022-05-21&fdate=2022-05-22\n",
      "Fetching data from http://montreal.icea.decea.mil.br:5002/api/v1/metaf?token=a779d04f85c4bf6cfa586d30aaec57c44e9b7173&idate=2022-05-22&fdate=2022-05-23\n",
      "Fetching data from http://montreal.icea.decea.mil.br:5002/api/v1/metaf?token=a779d04f85c4bf6cfa586d30aaec57c44e9b7173&idate=2022-05-23&fdate=2022-05-24\n",
      "Fetching data from http://montreal.icea.decea.mil.br:5002/api/v1/metaf?token=a779d04f85c4bf6cfa586d30aaec57c44e9b7173&idate=2022-05-24&fdate=2022-05-25\n",
      "Fetching data from http://montreal.icea.decea.mil.br:5002/api/v1/metaf?token=a779d04f85c4bf6cfa586d30aaec57c44e9b7173&idate=2022-05-25&fdate=2022-05-26\n",
      "Fetching data from http://montreal.icea.decea.mil.br:5002/api/v1/metaf?token=a779d04f85c4bf6cfa586d30aaec57c44e9b7173&idate=2022-05-26&fdate=2022-05-27\n",
      "Fetching data from http://montreal.icea.decea.mil.br:5002/api/v1/metaf?token=a779d04f85c4bf6cfa586d30aaec57c44e9b7173&idate=2022-05-27&fdate=2022-05-28\n",
      "Fetching data from http://montreal.icea.decea.mil.br:5002/api/v1/metaf?token=a779d04f85c4bf6cfa586d30aaec57c44e9b7173&idate=2022-05-28&fdate=2022-05-29\n",
      "Fetching data from http://montreal.icea.decea.mil.br:5002/api/v1/metaf?token=a779d04f85c4bf6cfa586d30aaec57c44e9b7173&idate=2022-05-29&fdate=2022-05-30\n",
      "Fetching data from http://montreal.icea.decea.mil.br:5002/api/v1/metaf?token=a779d04f85c4bf6cfa586d30aaec57c44e9b7173&idate=2022-05-30&fdate=2022-05-31\n",
      "Fetching data from http://montreal.icea.decea.mil.br:5002/api/v1/metaf?token=a779d04f85c4bf6cfa586d30aaec57c44e9b7173&idate=2022-05-31&fdate=2022-06-01\n",
      "Fetching data from http://montreal.icea.decea.mil.br:5002/api/v1/metaf?token=a779d04f85c4bf6cfa586d30aaec57c44e9b7173&idate=2022-06-01&fdate=2022-06-02\n",
      "Fetching data from http://montreal.icea.decea.mil.br:5002/api/v1/metaf?token=a779d04f85c4bf6cfa586d30aaec57c44e9b7173&idate=2022-06-02&fdate=2022-06-03\n",
      "Fetching data from http://montreal.icea.decea.mil.br:5002/api/v1/metaf?token=a779d04f85c4bf6cfa586d30aaec57c44e9b7173&idate=2022-06-03&fdate=2022-06-04\n",
      "Fetching data from http://montreal.icea.decea.mil.br:5002/api/v1/metaf?token=a779d04f85c4bf6cfa586d30aaec57c44e9b7173&idate=2022-06-04&fdate=2022-06-05\n",
      "Fetching data from http://montreal.icea.decea.mil.br:5002/api/v1/metaf?token=a779d04f85c4bf6cfa586d30aaec57c44e9b7173&idate=2022-06-05&fdate=2022-06-06\n"
     ]
    },
    {
     "name": "stderr",
     "output_type": "stream",
     "text": [
      "Carregando dados de metaf, Parte 1:  24%|██▎       | 25/106 [00:00<00:00, 235.77it/s]"
     ]
    },
    {
     "name": "stdout",
     "output_type": "stream",
     "text": [
      "Fetching data from http://montreal.icea.decea.mil.br:5002/api/v1/metaf?token=a779d04f85c4bf6cfa586d30aaec57c44e9b7173&idate=2022-06-06&fdate=2022-06-07\n",
      "Fetching data from http://montreal.icea.decea.mil.br:5002/api/v1/metaf?token=a779d04f85c4bf6cfa586d30aaec57c44e9b7173&idate=2022-06-07&fdate=2022-06-08\n",
      "Fetching data from http://montreal.icea.decea.mil.br:5002/api/v1/metaf?token=a779d04f85c4bf6cfa586d30aaec57c44e9b7173&idate=2022-06-08&fdate=2022-06-09\n",
      "Fetching data from http://montreal.icea.decea.mil.br:5002/api/v1/metaf?token=a779d04f85c4bf6cfa586d30aaec57c44e9b7173&idate=2022-06-09&fdate=2022-06-10\n",
      "Fetching data from http://montreal.icea.decea.mil.br:5002/api/v1/metaf?token=a779d04f85c4bf6cfa586d30aaec57c44e9b7173&idate=2022-06-10&fdate=2022-06-11\n",
      "Fetching data from http://montreal.icea.decea.mil.br:5002/api/v1/metaf?token=a779d04f85c4bf6cfa586d30aaec57c44e9b7173&idate=2022-06-11&fdate=2022-06-12Fetching data from http://montreal.icea.decea.mil.br:5002/api/v1/metaf?token=a779d04f85c4bf6cfa586d30aaec57c44e9b7173&idate=2022-06-12&fdate=2022-06-13\n",
      "\n",
      "Fetching data from http://montreal.icea.decea.mil.br:5002/api/v1/metaf?token=a779d04f85c4bf6cfa586d30aaec57c44e9b7173&idate=2022-06-13&fdate=2022-06-14\n",
      "Fetching data from http://montreal.icea.decea.mil.br:5002/api/v1/metaf?token=a779d04f85c4bf6cfa586d30aaec57c44e9b7173&idate=2022-06-14&fdate=2022-06-15\n",
      "Fetching data from http://montreal.icea.decea.mil.br:5002/api/v1/metaf?token=a779d04f85c4bf6cfa586d30aaec57c44e9b7173&idate=2022-06-15&fdate=2022-06-16\n",
      "Fetching data from http://montreal.icea.decea.mil.br:5002/api/v1/metaf?token=a779d04f85c4bf6cfa586d30aaec57c44e9b7173&idate=2022-06-16&fdate=2022-06-17\n",
      "Fetching data from http://montreal.icea.decea.mil.br:5002/api/v1/metaf?token=a779d04f85c4bf6cfa586d30aaec57c44e9b7173&idate=2022-06-17&fdate=2022-06-18\n",
      "Fetching data from http://montreal.icea.decea.mil.br:5002/api/v1/metaf?token=a779d04f85c4bf6cfa586d30aaec57c44e9b7173&idate=2022-06-18&fdate=2022-06-19\n",
      "Fetching data from http://montreal.icea.decea.mil.br:5002/api/v1/metaf?token=a779d04f85c4bf6cfa586d30aaec57c44e9b7173&idate=2022-06-19&fdate=2022-06-20\n",
      "Fetching data from http://montreal.icea.decea.mil.br:5002/api/v1/metaf?token=a779d04f85c4bf6cfa586d30aaec57c44e9b7173&idate=2022-06-20&fdate=2022-06-21\n",
      "Fetching data from http://montreal.icea.decea.mil.br:5002/api/v1/metaf?token=a779d04f85c4bf6cfa586d30aaec57c44e9b7173&idate=2022-06-21&fdate=2022-06-22\n"
     ]
    },
    {
     "name": "stderr",
     "output_type": "stream",
     "text": [
      "Carregando dados de metaf, Parte 1:  49%|████▉     | 52/106 [00:00<00:00, 249.88it/s]"
     ]
    },
    {
     "name": "stdout",
     "output_type": "stream",
     "text": [
      "Fetching data from http://montreal.icea.decea.mil.br:5002/api/v1/metaf?token=a779d04f85c4bf6cfa586d30aaec57c44e9b7173&idate=2022-06-22&fdate=2022-06-23\n",
      "Fetching data from http://montreal.icea.decea.mil.br:5002/api/v1/metaf?token=a779d04f85c4bf6cfa586d30aaec57c44e9b7173&idate=2022-06-23&fdate=2022-06-24\n",
      "Fetching data from http://montreal.icea.decea.mil.br:5002/api/v1/metaf?token=a779d04f85c4bf6cfa586d30aaec57c44e9b7173&idate=2022-06-24&fdate=2022-06-25\n",
      "Fetching data from http://montreal.icea.decea.mil.br:5002/api/v1/metaf?token=a779d04f85c4bf6cfa586d30aaec57c44e9b7173&idate=2022-06-25&fdate=2022-06-26\n",
      "Fetching data from http://montreal.icea.decea.mil.br:5002/api/v1/metaf?token=a779d04f85c4bf6cfa586d30aaec57c44e9b7173&idate=2022-06-26&fdate=2022-06-27\n",
      "Fetching data from http://montreal.icea.decea.mil.br:5002/api/v1/metaf?token=a779d04f85c4bf6cfa586d30aaec57c44e9b7173&idate=2022-06-27&fdate=2022-06-28\n",
      "Fetching data from http://montreal.icea.decea.mil.br:5002/api/v1/metaf?token=a779d04f85c4bf6cfa586d30aaec57c44e9b7173&idate=2022-06-28&fdate=2022-06-29\n",
      "Fetching data from http://montreal.icea.decea.mil.br:5002/api/v1/metaf?token=a779d04f85c4bf6cfa586d30aaec57c44e9b7173&idate=2022-06-29&fdate=2022-06-30\n",
      "Fetching data from http://montreal.icea.decea.mil.br:5002/api/v1/metaf?token=a779d04f85c4bf6cfa586d30aaec57c44e9b7173&idate=2022-06-30&fdate=2022-07-01\n",
      "Fetching data from http://montreal.icea.decea.mil.br:5002/api/v1/metaf?token=a779d04f85c4bf6cfa586d30aaec57c44e9b7173&idate=2022-07-01&fdate=2022-07-02\n",
      "Fetching data from http://montreal.icea.decea.mil.br:5002/api/v1/metaf?token=a779d04f85c4bf6cfa586d30aaec57c44e9b7173&idate=2022-07-02&fdate=2022-07-03\n",
      "Fetching data from http://montreal.icea.decea.mil.br:5002/api/v1/metaf?token=a779d04f85c4bf6cfa586d30aaec57c44e9b7173&idate=2022-07-03&fdate=2022-07-04\n",
      "Fetching data from http://montreal.icea.decea.mil.br:5002/api/v1/metaf?token=a779d04f85c4bf6cfa586d30aaec57c44e9b7173&idate=2022-07-04&fdate=2022-07-05\n",
      "Fetching data from http://montreal.icea.decea.mil.br:5002/api/v1/metaf?token=a779d04f85c4bf6cfa586d30aaec57c44e9b7173&idate=2022-07-05&fdate=2022-07-06\n",
      "Fetching data from http://montreal.icea.decea.mil.br:5002/api/v1/metaf?token=a779d04f85c4bf6cfa586d30aaec57c44e9b7173&idate=2022-07-06&fdate=2022-07-07\n",
      "Fetching data from http://montreal.icea.decea.mil.br:5002/api/v1/metaf?token=a779d04f85c4bf6cfa586d30aaec57c44e9b7173&idate=2022-07-07&fdate=2022-07-08\n",
      "Fetching data from http://montreal.icea.decea.mil.br:5002/api/v1/metaf?token=a779d04f85c4bf6cfa586d30aaec57c44e9b7173&idate=2022-07-08&fdate=2022-07-09\n",
      "Fetching data from http://montreal.icea.decea.mil.br:5002/api/v1/metaf?token=a779d04f85c4bf6cfa586d30aaec57c44e9b7173&idate=2022-07-09&fdate=2022-07-10\n",
      "Fetching data from http://montreal.icea.decea.mil.br:5002/api/v1/metaf?token=a779d04f85c4bf6cfa586d30aaec57c44e9b7173&idate=2022-07-10&fdate=2022-07-11\n",
      "Fetching data from http://montreal.icea.decea.mil.br:5002/api/v1/metaf?token=a779d04f85c4bf6cfa586d30aaec57c44e9b7173&idate=2022-07-11&fdate=2022-07-12\n",
      "Fetching data from http://montreal.icea.decea.mil.br:5002/api/v1/metaf?token=a779d04f85c4bf6cfa586d30aaec57c44e9b7173&idate=2022-07-12&fdate=2022-07-13\n",
      "Fetching data from http://montreal.icea.decea.mil.br:5002/api/v1/metaf?token=a779d04f85c4bf6cfa586d30aaec57c44e9b7173&idate=2022-07-13&fdate=2022-07-14\n",
      "Fetching data from http://montreal.icea.decea.mil.br:5002/api/v1/metaf?token=a779d04f85c4bf6cfa586d30aaec57c44e9b7173&idate=2022-07-14&fdate=2022-07-15\n",
      "Fetching data from http://montreal.icea.decea.mil.br:5002/api/v1/metaf?token=a779d04f85c4bf6cfa586d30aaec57c44e9b7173&idate=2022-07-15&fdate=2022-07-16\n",
      "Fetching data from http://montreal.icea.decea.mil.br:5002/api/v1/metaf?token=a779d04f85c4bf6cfa586d30aaec57c44e9b7173&idate=2022-07-16&fdate=2022-07-17\n",
      "Fetching data from http://montreal.icea.decea.mil.br:5002/api/v1/metaf?token=a779d04f85c4bf6cfa586d30aaec57c44e9b7173&idate=2022-07-17&fdate=2022-07-18\n",
      "Fetching data from http://montreal.icea.decea.mil.br:5002/api/v1/metaf?token=a779d04f85c4bf6cfa586d30aaec57c44e9b7173&idate=2022-07-18&fdate=2022-07-19\n",
      "Fetching data from http://montreal.icea.decea.mil.br:5002/api/v1/metaf?token=a779d04f85c4bf6cfa586d30aaec57c44e9b7173&idate=2022-07-19&fdate=2022-07-20\n",
      "Fetching data from http://montreal.icea.decea.mil.br:5002/api/v1/metaf?token=a779d04f85c4bf6cfa586d30aaec57c44e9b7173&idate=2022-07-20&fdate=2022-07-21\n",
      "Fetching data from http://montreal.icea.decea.mil.br:5002/api/v1/metaf?token=a779d04f85c4bf6cfa586d30aaec57c44e9b7173&idate=2022-07-21&fdate=2022-07-22\n"
     ]
    },
    {
     "name": "stderr",
     "output_type": "stream",
     "text": [
      "Carregando dados de metaf, Parte 1:  76%|███████▋  | 81/106 [00:00<00:00, 263.22it/s]"
     ]
    },
    {
     "name": "stdout",
     "output_type": "stream",
     "text": [
      "Fetching data from http://montreal.icea.decea.mil.br:5002/api/v1/metaf?token=a779d04f85c4bf6cfa586d30aaec57c44e9b7173&idate=2022-07-22&fdate=2022-07-23\n",
      "Fetching data from http://montreal.icea.decea.mil.br:5002/api/v1/metaf?token=a779d04f85c4bf6cfa586d30aaec57c44e9b7173&idate=2022-07-23&fdate=2022-07-24\n",
      "Fetching data from http://montreal.icea.decea.mil.br:5002/api/v1/metaf?token=a779d04f85c4bf6cfa586d30aaec57c44e9b7173&idate=2022-07-24&fdate=2022-07-25\n",
      "Fetching data from http://montreal.icea.decea.mil.br:5002/api/v1/metaf?token=a779d04f85c4bf6cfa586d30aaec57c44e9b7173&idate=2022-07-25&fdate=2022-07-26\n",
      "Fetching data from http://montreal.icea.decea.mil.br:5002/api/v1/metaf?token=a779d04f85c4bf6cfa586d30aaec57c44e9b7173&idate=2022-07-26&fdate=2022-07-27\n",
      "Fetching data from http://montreal.icea.decea.mil.br:5002/api/v1/metaf?token=a779d04f85c4bf6cfa586d30aaec57c44e9b7173&idate=2022-07-27&fdate=2022-07-28\n",
      "Fetching data from http://montreal.icea.decea.mil.br:5002/api/v1/metaf?token=a779d04f85c4bf6cfa586d30aaec57c44e9b7173&idate=2022-07-28&fdate=2022-07-29\n",
      "Fetching data from http://montreal.icea.decea.mil.br:5002/api/v1/metaf?token=a779d04f85c4bf6cfa586d30aaec57c44e9b7173&idate=2022-07-29&fdate=2022-07-30\n",
      "Fetching data from http://montreal.icea.decea.mil.br:5002/api/v1/metaf?token=a779d04f85c4bf6cfa586d30aaec57c44e9b7173&idate=2022-07-30&fdate=2022-07-31\n",
      "Fetching data from http://montreal.icea.decea.mil.br:5002/api/v1/metaf?token=a779d04f85c4bf6cfa586d30aaec57c44e9b7173&idate=2022-07-31&fdate=2022-08-01\n",
      "Fetching data from http://montreal.icea.decea.mil.br:5002/api/v1/metaf?token=a779d04f85c4bf6cfa586d30aaec57c44e9b7173&idate=2022-08-01&fdate=2022-08-02\n",
      "Fetching data from http://montreal.icea.decea.mil.br:5002/api/v1/metaf?token=a779d04f85c4bf6cfa586d30aaec57c44e9b7173&idate=2022-08-02&fdate=2022-08-03\n",
      "Fetching data from http://montreal.icea.decea.mil.br:5002/api/v1/metaf?token=a779d04f85c4bf6cfa586d30aaec57c44e9b7173&idate=2022-08-03&fdate=2022-08-04\n",
      "Fetching data from http://montreal.icea.decea.mil.br:5002/api/v1/metaf?token=a779d04f85c4bf6cfa586d30aaec57c44e9b7173&idate=2022-08-04&fdate=2022-08-05\n",
      "Fetching data from http://montreal.icea.decea.mil.br:5002/api/v1/metaf?token=a779d04f85c4bf6cfa586d30aaec57c44e9b7173&idate=2022-08-05&fdate=2022-08-06\n",
      "Fetching data from http://montreal.icea.decea.mil.br:5002/api/v1/metaf?token=a779d04f85c4bf6cfa586d30aaec57c44e9b7173&idate=2022-08-06&fdate=2022-08-07\n",
      "Fetching data from http://montreal.icea.decea.mil.br:5002/api/v1/metaf?token=a779d04f85c4bf6cfa586d30aaec57c44e9b7173&idate=2022-08-07&fdate=2022-08-08\n",
      "Fetching data from http://montreal.icea.decea.mil.br:5002/api/v1/metaf?token=a779d04f85c4bf6cfa586d30aaec57c44e9b7173&idate=2022-08-08&fdate=2022-08-09Fetching data from http://montreal.icea.decea.mil.br:5002/api/v1/metaf?token=a779d04f85c4bf6cfa586d30aaec57c44e9b7173&idate=2022-08-09&fdate=2022-08-10\n",
      "\n",
      "Fetching data from http://montreal.icea.decea.mil.br:5002/api/v1/metaf?token=a779d04f85c4bf6cfa586d30aaec57c44e9b7173&idate=2022-08-10&fdate=2022-08-11\n",
      "Fetching data from http://montreal.icea.decea.mil.br:5002/api/v1/metaf?token=a779d04f85c4bf6cfa586d30aaec57c44e9b7173&idate=2022-08-11&fdate=2022-08-12\n",
      "Fetching data from http://montreal.icea.decea.mil.br:5002/api/v1/metaf?token=a779d04f85c4bf6cfa586d30aaec57c44e9b7173&idate=2022-08-12&fdate=2022-08-13\n"
     ]
    },
    {
     "name": "stderr",
     "output_type": "stream",
     "text": [
      "Carregando dados de metaf, Parte 1: 100%|██████████| 106/106 [00:00<00:00, 249.24it/s]"
     ]
    },
    {
     "name": "stdout",
     "output_type": "stream",
     "text": [
      "Fetching data from http://montreal.icea.decea.mil.br:5002/api/v1/metaf?token=a779d04f85c4bf6cfa586d30aaec57c44e9b7173&idate=2022-08-13&fdate=2022-08-14\n",
      "Fetching data from http://montreal.icea.decea.mil.br:5002/api/v1/metaf?token=a779d04f85c4bf6cfa586d30aaec57c44e9b7173&idate=2022-08-14&fdate=2022-08-15\n"
     ]
    },
    {
     "name": "stderr",
     "output_type": "stream",
     "text": [
      "\n"
     ]
    },
    {
     "name": "stdout",
     "output_type": "stream",
     "text": [
      "Dados de metaf salvos em metaf_part_1.csv\n",
      "Processando parte 2/4\n",
      "Fetching data from http://montreal.icea.decea.mil.br:5002/api/v1/metaf?token=a779d04f85c4bf6cfa586d30aaec57c44e9b7173&idate=2022-08-15&fdate=2022-08-16\n",
      "Fetching data from http://montreal.icea.decea.mil.br:5002/api/v1/metaf?token=a779d04f85c4bf6cfa586d30aaec57c44e9b7173&idate=2022-08-16&fdate=2022-08-17\n",
      "Fetching data from http://montreal.icea.decea.mil.br:5002/api/v1/metaf?token=a779d04f85c4bf6cfa586d30aaec57c44e9b7173&idate=2022-08-17&fdate=2022-08-18\n",
      "Fetching data from http://montreal.icea.decea.mil.br:5002/api/v1/metaf?token=a779d04f85c4bf6cfa586d30aaec57c44e9b7173&idate=2022-08-18&fdate=2022-08-19\n",
      "Fetching data from http://montreal.icea.decea.mil.br:5002/api/v1/metaf?token=a779d04f85c4bf6cfa586d30aaec57c44e9b7173&idate=2022-08-19&fdate=2022-08-20\n",
      "Fetching data from http://montreal.icea.decea.mil.br:5002/api/v1/metaf?token=a779d04f85c4bf6cfa586d30aaec57c44e9b7173&idate=2022-08-20&fdate=2022-08-21\n",
      "Fetching data from http://montreal.icea.decea.mil.br:5002/api/v1/metaf?token=a779d04f85c4bf6cfa586d30aaec57c44e9b7173&idate=2022-08-21&fdate=2022-08-22\n",
      "Fetching data from http://montreal.icea.decea.mil.br:5002/api/v1/metaf?token=a779d04f85c4bf6cfa586d30aaec57c44e9b7173&idate=2022-08-22&fdate=2022-08-23\n",
      "Fetching data from http://montreal.icea.decea.mil.br:5002/api/v1/metaf?token=a779d04f85c4bf6cfa586d30aaec57c44e9b7173&idate=2022-08-23&fdate=2022-08-24\n",
      "Fetching data from http://montreal.icea.decea.mil.br:5002/api/v1/metaf?token=a779d04f85c4bf6cfa586d30aaec57c44e9b7173&idate=2022-08-24&fdate=2022-08-25\n"
     ]
    },
    {
     "name": "stderr",
     "output_type": "stream",
     "text": [
      "Carregando dados de metaf, Parte 2:   0%|          | 0/106 [00:00<?, ?it/s]"
     ]
    },
    {
     "name": "stdout",
     "output_type": "stream",
     "text": [
      "Fetching data from http://montreal.icea.decea.mil.br:5002/api/v1/metaf?token=a779d04f85c4bf6cfa586d30aaec57c44e9b7173&idate=2022-08-25&fdate=2022-08-26\n",
      "Fetching data from http://montreal.icea.decea.mil.br:5002/api/v1/metaf?token=a779d04f85c4bf6cfa586d30aaec57c44e9b7173&idate=2022-08-26&fdate=2022-08-27\n",
      "Fetching data from http://montreal.icea.decea.mil.br:5002/api/v1/metaf?token=a779d04f85c4bf6cfa586d30aaec57c44e9b7173&idate=2022-08-27&fdate=2022-08-28Fetching data from http://montreal.icea.decea.mil.br:5002/api/v1/metaf?token=a779d04f85c4bf6cfa586d30aaec57c44e9b7173&idate=2022-08-28&fdate=2022-08-29\n",
      "Fetching data from http://montreal.icea.decea.mil.br:5002/api/v1/metaf?token=a779d04f85c4bf6cfa586d30aaec57c44e9b7173&idate=2022-08-29&fdate=2022-08-30\n",
      "\n",
      "Fetching data from http://montreal.icea.decea.mil.br:5002/api/v1/metaf?token=a779d04f85c4bf6cfa586d30aaec57c44e9b7173&idate=2022-08-30&fdate=2022-08-31\n",
      "Fetching data from http://montreal.icea.decea.mil.br:5002/api/v1/metaf?token=a779d04f85c4bf6cfa586d30aaec57c44e9b7173&idate=2022-08-31&fdate=2022-09-01\n",
      "Fetching data from http://montreal.icea.decea.mil.br:5002/api/v1/metaf?token=a779d04f85c4bf6cfa586d30aaec57c44e9b7173&idate=2022-09-01&fdate=2022-09-02\n",
      "Fetching data from http://montreal.icea.decea.mil.br:5002/api/v1/metaf?token=a779d04f85c4bf6cfa586d30aaec57c44e9b7173&idate=2022-09-02&fdate=2022-09-03\n",
      "Fetching data from http://montreal.icea.decea.mil.br:5002/api/v1/metaf?token=a779d04f85c4bf6cfa586d30aaec57c44e9b7173&idate=2022-09-03&fdate=2022-09-04\n",
      "Fetching data from http://montreal.icea.decea.mil.br:5002/api/v1/metaf?token=a779d04f85c4bf6cfa586d30aaec57c44e9b7173&idate=2022-09-04&fdate=2022-09-05\n",
      "Fetching data from http://montreal.icea.decea.mil.br:5002/api/v1/metaf?token=a779d04f85c4bf6cfa586d30aaec57c44e9b7173&idate=2022-09-05&fdate=2022-09-06\n",
      "Fetching data from http://montreal.icea.decea.mil.br:5002/api/v1/metaf?token=a779d04f85c4bf6cfa586d30aaec57c44e9b7173&idate=2022-09-06&fdate=2022-09-07\n",
      "Fetching data from http://montreal.icea.decea.mil.br:5002/api/v1/metaf?token=a779d04f85c4bf6cfa586d30aaec57c44e9b7173&idate=2022-09-07&fdate=2022-09-08\n",
      "Fetching data from http://montreal.icea.decea.mil.br:5002/api/v1/metaf?token=a779d04f85c4bf6cfa586d30aaec57c44e9b7173&idate=2022-09-08&fdate=2022-09-09\n",
      "Fetching data from http://montreal.icea.decea.mil.br:5002/api/v1/metaf?token=a779d04f85c4bf6cfa586d30aaec57c44e9b7173&idate=2022-09-09&fdate=2022-09-10\n",
      "Fetching data from http://montreal.icea.decea.mil.br:5002/api/v1/metaf?token=a779d04f85c4bf6cfa586d30aaec57c44e9b7173&idate=2022-09-10&fdate=2022-09-11\n",
      "Fetching data from http://montreal.icea.decea.mil.br:5002/api/v1/metaf?token=a779d04f85c4bf6cfa586d30aaec57c44e9b7173&idate=2022-09-11&fdate=2022-09-12\n",
      "Fetching data from http://montreal.icea.decea.mil.br:5002/api/v1/metaf?token=a779d04f85c4bf6cfa586d30aaec57c44e9b7173&idate=2022-09-12&fdate=2022-09-13\n",
      "Fetching data from http://montreal.icea.decea.mil.br:5002/api/v1/metaf?token=a779d04f85c4bf6cfa586d30aaec57c44e9b7173&idate=2022-09-13&fdate=2022-09-14\n"
     ]
    },
    {
     "name": "stderr",
     "output_type": "stream",
     "text": [
      "Carregando dados de metaf, Parte 2:  25%|██▌       | 27/106 [00:00<00:00, 267.53it/s]"
     ]
    },
    {
     "name": "stdout",
     "output_type": "stream",
     "text": [
      "Fetching data from http://montreal.icea.decea.mil.br:5002/api/v1/metaf?token=a779d04f85c4bf6cfa586d30aaec57c44e9b7173&idate=2022-09-14&fdate=2022-09-15\n",
      "Fetching data from http://montreal.icea.decea.mil.br:5002/api/v1/metaf?token=a779d04f85c4bf6cfa586d30aaec57c44e9b7173&idate=2022-09-15&fdate=2022-09-16\n",
      "Fetching data from http://montreal.icea.decea.mil.br:5002/api/v1/metaf?token=a779d04f85c4bf6cfa586d30aaec57c44e9b7173&idate=2022-09-16&fdate=2022-09-17\n",
      "Fetching data from http://montreal.icea.decea.mil.br:5002/api/v1/metaf?token=a779d04f85c4bf6cfa586d30aaec57c44e9b7173&idate=2022-09-17&fdate=2022-09-18\n",
      "Fetching data from http://montreal.icea.decea.mil.br:5002/api/v1/metaf?token=a779d04f85c4bf6cfa586d30aaec57c44e9b7173&idate=2022-09-18&fdate=2022-09-19\n",
      "Fetching data from http://montreal.icea.decea.mil.br:5002/api/v1/metaf?token=a779d04f85c4bf6cfa586d30aaec57c44e9b7173&idate=2022-09-19&fdate=2022-09-20\n",
      "Fetching data from http://montreal.icea.decea.mil.br:5002/api/v1/metaf?token=a779d04f85c4bf6cfa586d30aaec57c44e9b7173&idate=2022-09-20&fdate=2022-09-21\n",
      "Fetching data from http://montreal.icea.decea.mil.br:5002/api/v1/metaf?token=a779d04f85c4bf6cfa586d30aaec57c44e9b7173&idate=2022-09-21&fdate=2022-09-22\n",
      "Fetching data from http://montreal.icea.decea.mil.br:5002/api/v1/metaf?token=a779d04f85c4bf6cfa586d30aaec57c44e9b7173&idate=2022-09-22&fdate=2022-09-23\n",
      "Fetching data from http://montreal.icea.decea.mil.br:5002/api/v1/metaf?token=a779d04f85c4bf6cfa586d30aaec57c44e9b7173&idate=2022-09-23&fdate=2022-09-24\n",
      "Fetching data from http://montreal.icea.decea.mil.br:5002/api/v1/metaf?token=a779d04f85c4bf6cfa586d30aaec57c44e9b7173&idate=2022-09-24&fdate=2022-09-25Fetching data from http://montreal.icea.decea.mil.br:5002/api/v1/metaf?token=a779d04f85c4bf6cfa586d30aaec57c44e9b7173&idate=2022-09-25&fdate=2022-09-26\n",
      "\n",
      "Fetching data from http://montreal.icea.decea.mil.br:5002/api/v1/metaf?token=a779d04f85c4bf6cfa586d30aaec57c44e9b7173&idate=2022-09-26&fdate=2022-09-27\n",
      "Fetching data from http://montreal.icea.decea.mil.br:5002/api/v1/metaf?token=a779d04f85c4bf6cfa586d30aaec57c44e9b7173&idate=2022-09-27&fdate=2022-09-28\n",
      "Fetching data from http://montreal.icea.decea.mil.br:5002/api/v1/metaf?token=a779d04f85c4bf6cfa586d30aaec57c44e9b7173&idate=2022-09-28&fdate=2022-09-29\n",
      "Fetching data from http://montreal.icea.decea.mil.br:5002/api/v1/metaf?token=a779d04f85c4bf6cfa586d30aaec57c44e9b7173&idate=2022-09-29&fdate=2022-09-30\n",
      "Fetching data from http://montreal.icea.decea.mil.br:5002/api/v1/metaf?token=a779d04f85c4bf6cfa586d30aaec57c44e9b7173&idate=2022-09-30&fdate=2022-10-01\n",
      "Fetching data from http://montreal.icea.decea.mil.br:5002/api/v1/metaf?token=a779d04f85c4bf6cfa586d30aaec57c44e9b7173&idate=2022-10-01&fdate=2022-10-02\n",
      "Fetching data from http://montreal.icea.decea.mil.br:5002/api/v1/metaf?token=a779d04f85c4bf6cfa586d30aaec57c44e9b7173&idate=2022-10-02&fdate=2022-10-03\n",
      "Fetching data from http://montreal.icea.decea.mil.br:5002/api/v1/metaf?token=a779d04f85c4bf6cfa586d30aaec57c44e9b7173&idate=2022-10-03&fdate=2022-10-04\n",
      "Fetching data from http://montreal.icea.decea.mil.br:5002/api/v1/metaf?token=a779d04f85c4bf6cfa586d30aaec57c44e9b7173&idate=2022-10-04&fdate=2022-10-05\n",
      "Fetching data from http://montreal.icea.decea.mil.br:5002/api/v1/metaf?token=a779d04f85c4bf6cfa586d30aaec57c44e9b7173&idate=2022-10-05&fdate=2022-10-06\n",
      "Fetching data from http://montreal.icea.decea.mil.br:5002/api/v1/metaf?token=a779d04f85c4bf6cfa586d30aaec57c44e9b7173&idate=2022-10-06&fdate=2022-10-07\n",
      "Fetching data from http://montreal.icea.decea.mil.br:5002/api/v1/metaf?token=a779d04f85c4bf6cfa586d30aaec57c44e9b7173&idate=2022-10-07&fdate=2022-10-08\n",
      "Fetching data from http://montreal.icea.decea.mil.br:5002/api/v1/metaf?token=a779d04f85c4bf6cfa586d30aaec57c44e9b7173&idate=2022-10-08&fdate=2022-10-09\n",
      "Fetching data from http://montreal.icea.decea.mil.br:5002/api/v1/metaf?token=a779d04f85c4bf6cfa586d30aaec57c44e9b7173&idate=2022-10-09&fdate=2022-10-10Fetching data from http://montreal.icea.decea.mil.br:5002/api/v1/metaf?token=a779d04f85c4bf6cfa586d30aaec57c44e9b7173&idate=2022-10-10&fdate=2022-10-11\n",
      "Fetching data from http://montreal.icea.decea.mil.br:5002/api/v1/metaf?token=a779d04f85c4bf6cfa586d30aaec57c44e9b7173&idate=2022-10-11&fdate=2022-10-12\n",
      "\n",
      "Fetching data from http://montreal.icea.decea.mil.br:5002/api/v1/metaf?token=a779d04f85c4bf6cfa586d30aaec57c44e9b7173&idate=2022-10-12&fdate=2022-10-13\n",
      "Fetching data from http://montreal.icea.decea.mil.br:5002/api/v1/metaf?token=a779d04f85c4bf6cfa586d30aaec57c44e9b7173&idate=2022-10-13&fdate=2022-10-14\n",
      "Fetching data from http://montreal.icea.decea.mil.br:5002/api/v1/metaf?token=a779d04f85c4bf6cfa586d30aaec57c44e9b7173&idate=2022-10-14&fdate=2022-10-15\n",
      "Fetching data from http://montreal.icea.decea.mil.br:5002/api/v1/metaf?token=a779d04f85c4bf6cfa586d30aaec57c44e9b7173&idate=2022-10-15&fdate=2022-10-16\n",
      "Fetching data from http://montreal.icea.decea.mil.br:5002/api/v1/metaf?token=a779d04f85c4bf6cfa586d30aaec57c44e9b7173&idate=2022-10-16&fdate=2022-10-17\n",
      "Fetching data from http://montreal.icea.decea.mil.br:5002/api/v1/metaf?token=a779d04f85c4bf6cfa586d30aaec57c44e9b7173&idate=2022-10-17&fdate=2022-10-18\n"
     ]
    },
    {
     "name": "stderr",
     "output_type": "stream",
     "text": [
      "Carregando dados de metaf, Parte 2:  51%|█████     | 54/106 [00:00<00:00, 248.65it/s]"
     ]
    },
    {
     "name": "stdout",
     "output_type": "stream",
     "text": [
      "Fetching data from http://montreal.icea.decea.mil.br:5002/api/v1/metaf?token=a779d04f85c4bf6cfa586d30aaec57c44e9b7173&idate=2022-10-18&fdate=2022-10-19\n",
      "Fetching data from http://montreal.icea.decea.mil.br:5002/api/v1/metaf?token=a779d04f85c4bf6cfa586d30aaec57c44e9b7173&idate=2022-10-19&fdate=2022-10-20\n",
      "Fetching data from http://montreal.icea.decea.mil.br:5002/api/v1/metaf?token=a779d04f85c4bf6cfa586d30aaec57c44e9b7173&idate=2022-10-20&fdate=2022-10-21\n",
      "Fetching data from http://montreal.icea.decea.mil.br:5002/api/v1/metaf?token=a779d04f85c4bf6cfa586d30aaec57c44e9b7173&idate=2022-10-21&fdate=2022-10-22\n",
      "Fetching data from http://montreal.icea.decea.mil.br:5002/api/v1/metaf?token=a779d04f85c4bf6cfa586d30aaec57c44e9b7173&idate=2022-10-22&fdate=2022-10-23\n",
      "Fetching data from http://montreal.icea.decea.mil.br:5002/api/v1/metaf?token=a779d04f85c4bf6cfa586d30aaec57c44e9b7173&idate=2022-10-23&fdate=2022-10-24\n",
      "Fetching data from http://montreal.icea.decea.mil.br:5002/api/v1/metaf?token=a779d04f85c4bf6cfa586d30aaec57c44e9b7173&idate=2022-10-24&fdate=2022-10-25\n",
      "Fetching data from http://montreal.icea.decea.mil.br:5002/api/v1/metaf?token=a779d04f85c4bf6cfa586d30aaec57c44e9b7173&idate=2022-10-25&fdate=2022-10-26\n",
      "Fetching data from http://montreal.icea.decea.mil.br:5002/api/v1/metaf?token=a779d04f85c4bf6cfa586d30aaec57c44e9b7173&idate=2022-10-26&fdate=2022-10-27\n",
      "Fetching data from http://montreal.icea.decea.mil.br:5002/api/v1/metaf?token=a779d04f85c4bf6cfa586d30aaec57c44e9b7173&idate=2022-10-27&fdate=2022-10-28\n",
      "Fetching data from http://montreal.icea.decea.mil.br:5002/api/v1/metaf?token=a779d04f85c4bf6cfa586d30aaec57c44e9b7173&idate=2022-10-28&fdate=2022-10-29\n",
      "Fetching data from http://montreal.icea.decea.mil.br:5002/api/v1/metaf?token=a779d04f85c4bf6cfa586d30aaec57c44e9b7173&idate=2022-10-29&fdate=2022-10-30\n",
      "Fetching data from http://montreal.icea.decea.mil.br:5002/api/v1/metaf?token=a779d04f85c4bf6cfa586d30aaec57c44e9b7173&idate=2022-10-30&fdate=2022-10-31\n",
      "Fetching data from http://montreal.icea.decea.mil.br:5002/api/v1/metaf?token=a779d04f85c4bf6cfa586d30aaec57c44e9b7173&idate=2022-10-31&fdate=2022-11-01\n",
      "Fetching data from http://montreal.icea.decea.mil.br:5002/api/v1/metaf?token=a779d04f85c4bf6cfa586d30aaec57c44e9b7173&idate=2022-11-01&fdate=2022-11-02\n",
      "Fetching data from http://montreal.icea.decea.mil.br:5002/api/v1/metaf?token=a779d04f85c4bf6cfa586d30aaec57c44e9b7173&idate=2022-11-02&fdate=2022-11-03\n",
      "Fetching data from http://montreal.icea.decea.mil.br:5002/api/v1/metaf?token=a779d04f85c4bf6cfa586d30aaec57c44e9b7173&idate=2022-11-03&fdate=2022-11-04\n",
      "Fetching data from http://montreal.icea.decea.mil.br:5002/api/v1/metaf?token=a779d04f85c4bf6cfa586d30aaec57c44e9b7173&idate=2022-11-04&fdate=2022-11-05\n",
      "Fetching data from http://montreal.icea.decea.mil.br:5002/api/v1/metaf?token=a779d04f85c4bf6cfa586d30aaec57c44e9b7173&idate=2022-11-05&fdate=2022-11-06\n",
      "Fetching data from http://montreal.icea.decea.mil.br:5002/api/v1/metaf?token=a779d04f85c4bf6cfa586d30aaec57c44e9b7173&idate=2022-11-06&fdate=2022-11-07\n"
     ]
    },
    {
     "name": "stderr",
     "output_type": "stream",
     "text": [
      "Carregando dados de metaf, Parte 2:  75%|███████▍  | 79/106 [00:00<00:00, 227.11it/s]"
     ]
    },
    {
     "name": "stdout",
     "output_type": "stream",
     "text": [
      "Fetching data from http://montreal.icea.decea.mil.br:5002/api/v1/metaf?token=a779d04f85c4bf6cfa586d30aaec57c44e9b7173&idate=2022-11-07&fdate=2022-11-08\n",
      "Fetching data from http://montreal.icea.decea.mil.br:5002/api/v1/metaf?token=a779d04f85c4bf6cfa586d30aaec57c44e9b7173&idate=2022-11-08&fdate=2022-11-09\n",
      "Fetching data from http://montreal.icea.decea.mil.br:5002/api/v1/metaf?token=a779d04f85c4bf6cfa586d30aaec57c44e9b7173&idate=2022-11-09&fdate=2022-11-10\n",
      "Fetching data from http://montreal.icea.decea.mil.br:5002/api/v1/metaf?token=a779d04f85c4bf6cfa586d30aaec57c44e9b7173&idate=2022-11-10&fdate=2022-11-11\n",
      "Fetching data from http://montreal.icea.decea.mil.br:5002/api/v1/metaf?token=a779d04f85c4bf6cfa586d30aaec57c44e9b7173&idate=2022-11-11&fdate=2022-11-12\n",
      "Fetching data from http://montreal.icea.decea.mil.br:5002/api/v1/metaf?token=a779d04f85c4bf6cfa586d30aaec57c44e9b7173&idate=2022-11-12&fdate=2022-11-13\n",
      "Fetching data from http://montreal.icea.decea.mil.br:5002/api/v1/metaf?token=a779d04f85c4bf6cfa586d30aaec57c44e9b7173&idate=2022-11-13&fdate=2022-11-14\n",
      "Fetching data from http://montreal.icea.decea.mil.br:5002/api/v1/metaf?token=a779d04f85c4bf6cfa586d30aaec57c44e9b7173&idate=2022-11-14&fdate=2022-11-15\n",
      "Fetching data from http://montreal.icea.decea.mil.br:5002/api/v1/metaf?token=a779d04f85c4bf6cfa586d30aaec57c44e9b7173&idate=2022-11-15&fdate=2022-11-16\n",
      "Fetching data from http://montreal.icea.decea.mil.br:5002/api/v1/metaf?token=a779d04f85c4bf6cfa586d30aaec57c44e9b7173&idate=2022-11-16&fdate=2022-11-17\n",
      "Fetching data from http://montreal.icea.decea.mil.br:5002/api/v1/metaf?token=a779d04f85c4bf6cfa586d30aaec57c44e9b7173&idate=2022-11-17&fdate=2022-11-18\n",
      "Fetching data from http://montreal.icea.decea.mil.br:5002/api/v1/metaf?token=a779d04f85c4bf6cfa586d30aaec57c44e9b7173&idate=2022-11-18&fdate=2022-11-19\n",
      "Fetching data from http://montreal.icea.decea.mil.br:5002/api/v1/metaf?token=a779d04f85c4bf6cfa586d30aaec57c44e9b7173&idate=2022-11-19&fdate=2022-11-20\n",
      "Fetching data from http://montreal.icea.decea.mil.br:5002/api/v1/metaf?token=a779d04f85c4bf6cfa586d30aaec57c44e9b7173&idate=2022-11-20&fdate=2022-11-21\n",
      "Fetching data from http://montreal.icea.decea.mil.br:5002/api/v1/metaf?token=a779d04f85c4bf6cfa586d30aaec57c44e9b7173&idate=2022-11-21&fdate=2022-11-22\n",
      "Fetching data from http://montreal.icea.decea.mil.br:5002/api/v1/metaf?token=a779d04f85c4bf6cfa586d30aaec57c44e9b7173&idate=2022-11-22&fdate=2022-11-23\n",
      "Fetching data from http://montreal.icea.decea.mil.br:5002/api/v1/metaf?token=a779d04f85c4bf6cfa586d30aaec57c44e9b7173&idate=2022-11-23&fdate=2022-11-24\n",
      "Fetching data from http://montreal.icea.decea.mil.br:5002/api/v1/metaf?token=a779d04f85c4bf6cfa586d30aaec57c44e9b7173&idate=2022-11-24&fdate=2022-11-25\n",
      "Fetching data from http://montreal.icea.decea.mil.br:5002/api/v1/metaf?token=a779d04f85c4bf6cfa586d30aaec57c44e9b7173&idate=2022-11-25&fdate=2022-11-26\n",
      "Fetching data from http://montreal.icea.decea.mil.br:5002/api/v1/metaf?token=a779d04f85c4bf6cfa586d30aaec57c44e9b7173&idate=2022-11-26&fdate=2022-11-27\n",
      "Fetching data from http://montreal.icea.decea.mil.br:5002/api/v1/metaf?token=a779d04f85c4bf6cfa586d30aaec57c44e9b7173&idate=2022-11-27&fdate=2022-11-28\n",
      "Fetching data from http://montreal.icea.decea.mil.br:5002/api/v1/metaf?token=a779d04f85c4bf6cfa586d30aaec57c44e9b7173&idate=2022-11-28&fdate=2022-11-29\n"
     ]
    },
    {
     "name": "stderr",
     "output_type": "stream",
     "text": [
      "Carregando dados de metaf, Parte 2: 100%|██████████| 106/106 [00:00<00:00, 220.29it/s]\n"
     ]
    },
    {
     "name": "stdout",
     "output_type": "stream",
     "text": [
      "Dados de metaf salvos em metaf_part_2.csv\n",
      "Processando parte 3/4\n",
      "Fetching data from http://montreal.icea.decea.mil.br:5002/api/v1/metaf?token=a779d04f85c4bf6cfa586d30aaec57c44e9b7173&idate=2022-11-29&fdate=2022-11-30\n",
      "Fetching data from http://montreal.icea.decea.mil.br:5002/api/v1/metaf?token=a779d04f85c4bf6cfa586d30aaec57c44e9b7173&idate=2022-11-30&fdate=2022-12-01\n",
      "Fetching data from http://montreal.icea.decea.mil.br:5002/api/v1/metaf?token=a779d04f85c4bf6cfa586d30aaec57c44e9b7173&idate=2022-12-01&fdate=2022-12-02\n",
      "Fetching data from http://montreal.icea.decea.mil.br:5002/api/v1/metaf?token=a779d04f85c4bf6cfa586d30aaec57c44e9b7173&idate=2022-12-02&fdate=2022-12-03\n",
      "Fetching data from http://montreal.icea.decea.mil.br:5002/api/v1/metaf?token=a779d04f85c4bf6cfa586d30aaec57c44e9b7173&idate=2022-12-03&fdate=2022-12-04\n",
      "Fetching data from http://montreal.icea.decea.mil.br:5002/api/v1/metaf?token=a779d04f85c4bf6cfa586d30aaec57c44e9b7173&idate=2022-12-04&fdate=2022-12-05\n",
      "Fetching data from http://montreal.icea.decea.mil.br:5002/api/v1/metaf?token=a779d04f85c4bf6cfa586d30aaec57c44e9b7173&idate=2022-12-05&fdate=2022-12-06\n",
      "Fetching data from http://montreal.icea.decea.mil.br:5002/api/v1/metaf?token=a779d04f85c4bf6cfa586d30aaec57c44e9b7173&idate=2022-12-06&fdate=2022-12-07\n",
      "Fetching data from http://montreal.icea.decea.mil.br:5002/api/v1/metaf?token=a779d04f85c4bf6cfa586d30aaec57c44e9b7173&idate=2022-12-07&fdate=2022-12-08\n",
      "Fetching data from http://montreal.icea.decea.mil.br:5002/api/v1/metaf?token=a779d04f85c4bf6cfa586d30aaec57c44e9b7173&idate=2022-12-08&fdate=2022-12-09\n"
     ]
    },
    {
     "name": "stderr",
     "output_type": "stream",
     "text": [
      "Carregando dados de metaf, Parte 3:   0%|          | 0/106 [00:00<?, ?it/s]"
     ]
    },
    {
     "name": "stdout",
     "output_type": "stream",
     "text": [
      "Fetching data from http://montreal.icea.decea.mil.br:5002/api/v1/metaf?token=a779d04f85c4bf6cfa586d30aaec57c44e9b7173&idate=2022-12-09&fdate=2022-12-10\n",
      "Fetching data from http://montreal.icea.decea.mil.br:5002/api/v1/metaf?token=a779d04f85c4bf6cfa586d30aaec57c44e9b7173&idate=2022-12-10&fdate=2022-12-11\n",
      "Fetching data from http://montreal.icea.decea.mil.br:5002/api/v1/metaf?token=a779d04f85c4bf6cfa586d30aaec57c44e9b7173&idate=2022-12-11&fdate=2022-12-12\n",
      "Fetching data from http://montreal.icea.decea.mil.br:5002/api/v1/metaf?token=a779d04f85c4bf6cfa586d30aaec57c44e9b7173&idate=2022-12-12&fdate=2022-12-13\n",
      "Fetching data from http://montreal.icea.decea.mil.br:5002/api/v1/metaf?token=a779d04f85c4bf6cfa586d30aaec57c44e9b7173&idate=2022-12-13&fdate=2022-12-14\n",
      "Fetching data from http://montreal.icea.decea.mil.br:5002/api/v1/metaf?token=a779d04f85c4bf6cfa586d30aaec57c44e9b7173&idate=2022-12-14&fdate=2022-12-15\n",
      "Fetching data from http://montreal.icea.decea.mil.br:5002/api/v1/metaf?token=a779d04f85c4bf6cfa586d30aaec57c44e9b7173&idate=2022-12-15&fdate=2022-12-16\n",
      "Fetching data from http://montreal.icea.decea.mil.br:5002/api/v1/metaf?token=a779d04f85c4bf6cfa586d30aaec57c44e9b7173&idate=2022-12-16&fdate=2022-12-17\n",
      "Fetching data from http://montreal.icea.decea.mil.br:5002/api/v1/metaf?token=a779d04f85c4bf6cfa586d30aaec57c44e9b7173&idate=2022-12-17&fdate=2022-12-18\n",
      "Fetching data from http://montreal.icea.decea.mil.br:5002/api/v1/metaf?token=a779d04f85c4bf6cfa586d30aaec57c44e9b7173&idate=2022-12-18&fdate=2022-12-19\n",
      "Fetching data from http://montreal.icea.decea.mil.br:5002/api/v1/metaf?token=a779d04f85c4bf6cfa586d30aaec57c44e9b7173&idate=2022-12-19&fdate=2022-12-20\n",
      "Fetching data from http://montreal.icea.decea.mil.br:5002/api/v1/metaf?token=a779d04f85c4bf6cfa586d30aaec57c44e9b7173&idate=2022-12-20&fdate=2022-12-21\n",
      "Fetching data from http://montreal.icea.decea.mil.br:5002/api/v1/metaf?token=a779d04f85c4bf6cfa586d30aaec57c44e9b7173&idate=2022-12-21&fdate=2022-12-22\n",
      "Fetching data from http://montreal.icea.decea.mil.br:5002/api/v1/metaf?token=a779d04f85c4bf6cfa586d30aaec57c44e9b7173&idate=2022-12-22&fdate=2022-12-23\n",
      "Fetching data from http://montreal.icea.decea.mil.br:5002/api/v1/metaf?token=a779d04f85c4bf6cfa586d30aaec57c44e9b7173&idate=2022-12-23&fdate=2022-12-24\n",
      "Fetching data from http://montreal.icea.decea.mil.br:5002/api/v1/metaf?token=a779d04f85c4bf6cfa586d30aaec57c44e9b7173&idate=2022-12-24&fdate=2022-12-25\n",
      "Fetching data from http://montreal.icea.decea.mil.br:5002/api/v1/metaf?token=a779d04f85c4bf6cfa586d30aaec57c44e9b7173&idate=2022-12-25&fdate=2022-12-26\n",
      "Fetching data from http://montreal.icea.decea.mil.br:5002/api/v1/metaf?token=a779d04f85c4bf6cfa586d30aaec57c44e9b7173&idate=2022-12-26&fdate=2022-12-27\n",
      "Fetching data from http://montreal.icea.decea.mil.br:5002/api/v1/metaf?token=a779d04f85c4bf6cfa586d30aaec57c44e9b7173&idate=2022-12-27&fdate=2022-12-28\n",
      "Fetching data from http://montreal.icea.decea.mil.br:5002/api/v1/metaf?token=a779d04f85c4bf6cfa586d30aaec57c44e9b7173&idate=2022-12-28&fdate=2022-12-29\n",
      "Fetching data from http://montreal.icea.decea.mil.br:5002/api/v1/metaf?token=a779d04f85c4bf6cfa586d30aaec57c44e9b7173&idate=2022-12-29&fdate=2022-12-30\n"
     ]
    },
    {
     "name": "stderr",
     "output_type": "stream",
     "text": [
      "Carregando dados de metaf, Parte 3:  21%|██        | 22/106 [00:00<00:00, 219.98it/s]"
     ]
    },
    {
     "name": "stdout",
     "output_type": "stream",
     "text": [
      "Fetching data from http://montreal.icea.decea.mil.br:5002/api/v1/metaf?token=a779d04f85c4bf6cfa586d30aaec57c44e9b7173&idate=2022-12-30&fdate=2022-12-31\n",
      "Fetching data from http://montreal.icea.decea.mil.br:5002/api/v1/metaf?token=a779d04f85c4bf6cfa586d30aaec57c44e9b7173&idate=2022-12-31&fdate=2023-01-01\n",
      "Fetching data from http://montreal.icea.decea.mil.br:5002/api/v1/metaf?token=a779d04f85c4bf6cfa586d30aaec57c44e9b7173&idate=2023-01-01&fdate=2023-01-02\n",
      "Fetching data from http://montreal.icea.decea.mil.br:5002/api/v1/metaf?token=a779d04f85c4bf6cfa586d30aaec57c44e9b7173&idate=2023-01-02&fdate=2023-01-03\n",
      "Fetching data from http://montreal.icea.decea.mil.br:5002/api/v1/metaf?token=a779d04f85c4bf6cfa586d30aaec57c44e9b7173&idate=2023-01-03&fdate=2023-01-04\n",
      "Fetching data from http://montreal.icea.decea.mil.br:5002/api/v1/metaf?token=a779d04f85c4bf6cfa586d30aaec57c44e9b7173&idate=2023-01-04&fdate=2023-01-05\n",
      "Fetching data from http://montreal.icea.decea.mil.br:5002/api/v1/metaf?token=a779d04f85c4bf6cfa586d30aaec57c44e9b7173&idate=2023-01-05&fdate=2023-01-06\n",
      "Fetching data from http://montreal.icea.decea.mil.br:5002/api/v1/metaf?token=a779d04f85c4bf6cfa586d30aaec57c44e9b7173&idate=2023-01-06&fdate=2023-01-07\n",
      "Fetching data from http://montreal.icea.decea.mil.br:5002/api/v1/metaf?token=a779d04f85c4bf6cfa586d30aaec57c44e9b7173&idate=2023-01-07&fdate=2023-01-08\n",
      "Fetching data from http://montreal.icea.decea.mil.br:5002/api/v1/metaf?token=a779d04f85c4bf6cfa586d30aaec57c44e9b7173&idate=2023-01-08&fdate=2023-01-09\n",
      "Fetching data from http://montreal.icea.decea.mil.br:5002/api/v1/metaf?token=a779d04f85c4bf6cfa586d30aaec57c44e9b7173&idate=2023-01-09&fdate=2023-01-10\n",
      "Fetching data from http://montreal.icea.decea.mil.br:5002/api/v1/metaf?token=a779d04f85c4bf6cfa586d30aaec57c44e9b7173&idate=2023-01-10&fdate=2023-01-11\n",
      "Fetching data from http://montreal.icea.decea.mil.br:5002/api/v1/metaf?token=a779d04f85c4bf6cfa586d30aaec57c44e9b7173&idate=2023-01-11&fdate=2023-01-12\n",
      "Fetching data from http://montreal.icea.decea.mil.br:5002/api/v1/metaf?token=a779d04f85c4bf6cfa586d30aaec57c44e9b7173&idate=2023-01-12&fdate=2023-01-13\n",
      "Fetching data from http://montreal.icea.decea.mil.br:5002/api/v1/metaf?token=a779d04f85c4bf6cfa586d30aaec57c44e9b7173&idate=2023-01-13&fdate=2023-01-14\n",
      "Fetching data from http://montreal.icea.decea.mil.br:5002/api/v1/metaf?token=a779d04f85c4bf6cfa586d30aaec57c44e9b7173&idate=2023-01-14&fdate=2023-01-15\n",
      "Fetching data from http://montreal.icea.decea.mil.br:5002/api/v1/metaf?token=a779d04f85c4bf6cfa586d30aaec57c44e9b7173&idate=2023-01-15&fdate=2023-01-16\n",
      "Fetching data from http://montreal.icea.decea.mil.br:5002/api/v1/metaf?token=a779d04f85c4bf6cfa586d30aaec57c44e9b7173&idate=2023-01-16&fdate=2023-01-17\n",
      "Fetching data from http://montreal.icea.decea.mil.br:5002/api/v1/metaf?token=a779d04f85c4bf6cfa586d30aaec57c44e9b7173&idate=2023-01-17&fdate=2023-01-18\n",
      "Fetching data from http://montreal.icea.decea.mil.br:5002/api/v1/metaf?token=a779d04f85c4bf6cfa586d30aaec57c44e9b7173&idate=2023-01-18&fdate=2023-01-19\n",
      "Fetching data from http://montreal.icea.decea.mil.br:5002/api/v1/metaf?token=a779d04f85c4bf6cfa586d30aaec57c44e9b7173&idate=2023-01-19&fdate=2023-01-20\n",
      "Fetching data from http://montreal.icea.decea.mil.br:5002/api/v1/metaf?token=a779d04f85c4bf6cfa586d30aaec57c44e9b7173&idate=2023-01-20&fdate=2023-01-21\n"
     ]
    },
    {
     "name": "stderr",
     "output_type": "stream",
     "text": [
      "Carregando dados de metaf, Parte 3:  44%|████▍     | 47/106 [00:00<00:00, 234.45it/s]"
     ]
    },
    {
     "name": "stdout",
     "output_type": "stream",
     "text": [
      "Fetching data from http://montreal.icea.decea.mil.br:5002/api/v1/metaf?token=a779d04f85c4bf6cfa586d30aaec57c44e9b7173&idate=2023-01-21&fdate=2023-01-22\n",
      "Fetching data from http://montreal.icea.decea.mil.br:5002/api/v1/metaf?token=a779d04f85c4bf6cfa586d30aaec57c44e9b7173&idate=2023-01-22&fdate=2023-01-23\n",
      "Fetching data from http://montreal.icea.decea.mil.br:5002/api/v1/metaf?token=a779d04f85c4bf6cfa586d30aaec57c44e9b7173&idate=2023-01-23&fdate=2023-01-24\n",
      "Fetching data from http://montreal.icea.decea.mil.br:5002/api/v1/metaf?token=a779d04f85c4bf6cfa586d30aaec57c44e9b7173&idate=2023-01-24&fdate=2023-01-25\n",
      "Fetching data from http://montreal.icea.decea.mil.br:5002/api/v1/metaf?token=a779d04f85c4bf6cfa586d30aaec57c44e9b7173&idate=2023-01-25&fdate=2023-01-26\n",
      "Fetching data from http://montreal.icea.decea.mil.br:5002/api/v1/metaf?token=a779d04f85c4bf6cfa586d30aaec57c44e9b7173&idate=2023-01-26&fdate=2023-01-27\n",
      "Fetching data from http://montreal.icea.decea.mil.br:5002/api/v1/metaf?token=a779d04f85c4bf6cfa586d30aaec57c44e9b7173&idate=2023-01-27&fdate=2023-01-28\n",
      "Fetching data from http://montreal.icea.decea.mil.br:5002/api/v1/metaf?token=a779d04f85c4bf6cfa586d30aaec57c44e9b7173&idate=2023-01-28&fdate=2023-01-29\n",
      "Fetching data from http://montreal.icea.decea.mil.br:5002/api/v1/metaf?token=a779d04f85c4bf6cfa586d30aaec57c44e9b7173&idate=2023-01-29&fdate=2023-01-30\n",
      "Fetching data from http://montreal.icea.decea.mil.br:5002/api/v1/metaf?token=a779d04f85c4bf6cfa586d30aaec57c44e9b7173&idate=2023-01-30&fdate=2023-01-31\n",
      "Fetching data from http://montreal.icea.decea.mil.br:5002/api/v1/metaf?token=a779d04f85c4bf6cfa586d30aaec57c44e9b7173&idate=2023-01-31&fdate=2023-02-01\n",
      "Fetching data from http://montreal.icea.decea.mil.br:5002/api/v1/metaf?token=a779d04f85c4bf6cfa586d30aaec57c44e9b7173&idate=2023-02-01&fdate=2023-02-02\n",
      "Fetching data from http://montreal.icea.decea.mil.br:5002/api/v1/metaf?token=a779d04f85c4bf6cfa586d30aaec57c44e9b7173&idate=2023-02-02&fdate=2023-02-03\n",
      "Fetching data from http://montreal.icea.decea.mil.br:5002/api/v1/metaf?token=a779d04f85c4bf6cfa586d30aaec57c44e9b7173&idate=2023-02-03&fdate=2023-02-04\n",
      "Fetching data from http://montreal.icea.decea.mil.br:5002/api/v1/metaf?token=a779d04f85c4bf6cfa586d30aaec57c44e9b7173&idate=2023-02-04&fdate=2023-02-05\n",
      "Fetching data from http://montreal.icea.decea.mil.br:5002/api/v1/metaf?token=a779d04f85c4bf6cfa586d30aaec57c44e9b7173&idate=2023-02-05&fdate=2023-02-06\n",
      "Fetching data from http://montreal.icea.decea.mil.br:5002/api/v1/metaf?token=a779d04f85c4bf6cfa586d30aaec57c44e9b7173&idate=2023-02-06&fdate=2023-02-07\n",
      "Fetching data from http://montreal.icea.decea.mil.br:5002/api/v1/metaf?token=a779d04f85c4bf6cfa586d30aaec57c44e9b7173&idate=2023-02-07&fdate=2023-02-08\n",
      "Fetching data from http://montreal.icea.decea.mil.br:5002/api/v1/metaf?token=a779d04f85c4bf6cfa586d30aaec57c44e9b7173&idate=2023-02-08&fdate=2023-02-09\n",
      "Fetching data from http://montreal.icea.decea.mil.br:5002/api/v1/metaf?token=a779d04f85c4bf6cfa586d30aaec57c44e9b7173&idate=2023-02-09&fdate=2023-02-10\n",
      "Fetching data from http://montreal.icea.decea.mil.br:5002/api/v1/metaf?token=a779d04f85c4bf6cfa586d30aaec57c44e9b7173&idate=2023-02-10&fdate=2023-02-11\n",
      "Fetching data from http://montreal.icea.decea.mil.br:5002/api/v1/metaf?token=a779d04f85c4bf6cfa586d30aaec57c44e9b7173&idate=2023-02-11&fdate=2023-02-12\n"
     ]
    },
    {
     "name": "stderr",
     "output_type": "stream",
     "text": [
      "Carregando dados de metaf, Parte 3:  67%|██████▋   | 71/106 [00:00<00:00, 205.48it/s]"
     ]
    },
    {
     "name": "stdout",
     "output_type": "stream",
     "text": [
      "Fetching data from http://montreal.icea.decea.mil.br:5002/api/v1/metaf?token=a779d04f85c4bf6cfa586d30aaec57c44e9b7173&idate=2023-02-12&fdate=2023-02-13Fetching data from http://montreal.icea.decea.mil.br:5002/api/v1/metaf?token=a779d04f85c4bf6cfa586d30aaec57c44e9b7173&idate=2023-02-13&fdate=2023-02-14\n",
      "\n",
      "Fetching data from http://montreal.icea.decea.mil.br:5002/api/v1/metaf?token=a779d04f85c4bf6cfa586d30aaec57c44e9b7173&idate=2023-02-14&fdate=2023-02-15\n",
      "Fetching data from http://montreal.icea.decea.mil.br:5002/api/v1/metaf?token=a779d04f85c4bf6cfa586d30aaec57c44e9b7173&idate=2023-02-15&fdate=2023-02-16\n",
      "Fetching data from http://montreal.icea.decea.mil.br:5002/api/v1/metaf?token=a779d04f85c4bf6cfa586d30aaec57c44e9b7173&idate=2023-02-16&fdate=2023-02-17\n",
      "Fetching data from http://montreal.icea.decea.mil.br:5002/api/v1/metaf?token=a779d04f85c4bf6cfa586d30aaec57c44e9b7173&idate=2023-02-17&fdate=2023-02-18\n",
      "Fetching data from http://montreal.icea.decea.mil.br:5002/api/v1/metaf?token=a779d04f85c4bf6cfa586d30aaec57c44e9b7173&idate=2023-02-18&fdate=2023-02-19\n",
      "Fetching data from http://montreal.icea.decea.mil.br:5002/api/v1/metaf?token=a779d04f85c4bf6cfa586d30aaec57c44e9b7173&idate=2023-02-19&fdate=2023-02-20\n",
      "Fetching data from http://montreal.icea.decea.mil.br:5002/api/v1/metaf?token=a779d04f85c4bf6cfa586d30aaec57c44e9b7173&idate=2023-02-20&fdate=2023-02-21\n",
      "Fetching data from http://montreal.icea.decea.mil.br:5002/api/v1/metaf?token=a779d04f85c4bf6cfa586d30aaec57c44e9b7173&idate=2023-02-21&fdate=2023-02-22\n",
      "Fetching data from http://montreal.icea.decea.mil.br:5002/api/v1/metaf?token=a779d04f85c4bf6cfa586d30aaec57c44e9b7173&idate=2023-02-22&fdate=2023-02-23\n",
      "Fetching data from http://montreal.icea.decea.mil.br:5002/api/v1/metaf?token=a779d04f85c4bf6cfa586d30aaec57c44e9b7173&idate=2023-02-23&fdate=2023-02-24\n",
      "Fetching data from http://montreal.icea.decea.mil.br:5002/api/v1/metaf?token=a779d04f85c4bf6cfa586d30aaec57c44e9b7173&idate=2023-02-24&fdate=2023-02-25\n",
      "Fetching data from http://montreal.icea.decea.mil.br:5002/api/v1/metaf?token=a779d04f85c4bf6cfa586d30aaec57c44e9b7173&idate=2023-02-25&fdate=2023-02-26\n",
      "Fetching data from http://montreal.icea.decea.mil.br:5002/api/v1/metaf?token=a779d04f85c4bf6cfa586d30aaec57c44e9b7173&idate=2023-02-26&fdate=2023-02-27\n",
      "Fetching data from http://montreal.icea.decea.mil.br:5002/api/v1/metaf?token=a779d04f85c4bf6cfa586d30aaec57c44e9b7173&idate=2023-02-27&fdate=2023-02-28\n",
      "Fetching data from http://montreal.icea.decea.mil.br:5002/api/v1/metaf?token=a779d04f85c4bf6cfa586d30aaec57c44e9b7173&idate=2023-02-28&fdate=2023-03-01\n",
      "Fetching data from http://montreal.icea.decea.mil.br:5002/api/v1/metaf?token=a779d04f85c4bf6cfa586d30aaec57c44e9b7173&idate=2023-03-01&fdate=2023-03-02\n",
      "Fetching data from http://montreal.icea.decea.mil.br:5002/api/v1/metaf?token=a779d04f85c4bf6cfa586d30aaec57c44e9b7173&idate=2023-03-02&fdate=2023-03-03\n",
      "Fetching data from http://montreal.icea.decea.mil.br:5002/api/v1/metaf?token=a779d04f85c4bf6cfa586d30aaec57c44e9b7173&idate=2023-03-03&fdate=2023-03-04\n",
      "Fetching data from http://montreal.icea.decea.mil.br:5002/api/v1/metaf?token=a779d04f85c4bf6cfa586d30aaec57c44e9b7173&idate=2023-03-04&fdate=2023-03-05\n",
      "Fetching data from http://montreal.icea.decea.mil.br:5002/api/v1/metaf?token=a779d04f85c4bf6cfa586d30aaec57c44e9b7173&idate=2023-03-05&fdate=2023-03-06\n",
      "Fetching data from http://montreal.icea.decea.mil.br:5002/api/v1/metaf?token=a779d04f85c4bf6cfa586d30aaec57c44e9b7173&idate=2023-03-06&fdate=2023-03-07\n",
      "Fetching data from http://montreal.icea.decea.mil.br:5002/api/v1/metaf?token=a779d04f85c4bf6cfa586d30aaec57c44e9b7173&idate=2023-03-07&fdate=2023-03-08\n",
      "Fetching data from http://montreal.icea.decea.mil.br:5002/api/v1/metaf?token=a779d04f85c4bf6cfa586d30aaec57c44e9b7173&idate=2023-03-08&fdate=2023-03-09\n",
      "Fetching data from http://montreal.icea.decea.mil.br:5002/api/v1/metaf?token=a779d04f85c4bf6cfa586d30aaec57c44e9b7173&idate=2023-03-09&fdate=2023-03-10\n",
      "Fetching data from http://montreal.icea.decea.mil.br:5002/api/v1/metaf?token=a779d04f85c4bf6cfa586d30aaec57c44e9b7173&idate=2023-03-10&fdate=2023-03-11\n",
      "Fetching data from http://montreal.icea.decea.mil.br:5002/api/v1/metaf?token=a779d04f85c4bf6cfa586d30aaec57c44e9b7173&idate=2023-03-11&fdate=2023-03-12\n",
      "Fetching data from http://montreal.icea.decea.mil.br:5002/api/v1/metaf?token=a779d04f85c4bf6cfa586d30aaec57c44e9b7173&idate=2023-03-12&fdate=2023-03-13\n"
     ]
    },
    {
     "name": "stderr",
     "output_type": "stream",
     "text": [
      "Carregando dados de metaf, Parte 3: 100%|██████████| 106/106 [00:00<00:00, 219.86it/s]\n"
     ]
    },
    {
     "name": "stdout",
     "output_type": "stream",
     "text": [
      "Fetching data from http://montreal.icea.decea.mil.br:5002/api/v1/metaf?token=a779d04f85c4bf6cfa586d30aaec57c44e9b7173&idate=2023-03-13&fdate=2023-03-14\n",
      "Fetching data from http://montreal.icea.decea.mil.br:5002/api/v1/metaf?token=a779d04f85c4bf6cfa586d30aaec57c44e9b7173&idate=2023-03-14&fdate=2023-03-15\n",
      "Dados de metaf salvos em metaf_part_3.csv\n",
      "Processando parte 4/4\n",
      "Fetching data from http://montreal.icea.decea.mil.br:5002/api/v1/metaf?token=a779d04f85c4bf6cfa586d30aaec57c44e9b7173&idate=2023-03-15&fdate=2023-03-16\n",
      "Fetching data from http://montreal.icea.decea.mil.br:5002/api/v1/metaf?token=a779d04f85c4bf6cfa586d30aaec57c44e9b7173&idate=2023-03-16&fdate=2023-03-17\n",
      "Fetching data from http://montreal.icea.decea.mil.br:5002/api/v1/metaf?token=a779d04f85c4bf6cfa586d30aaec57c44e9b7173&idate=2023-03-17&fdate=2023-03-18\n",
      "Fetching data from http://montreal.icea.decea.mil.br:5002/api/v1/metaf?token=a779d04f85c4bf6cfa586d30aaec57c44e9b7173&idate=2023-03-18&fdate=2023-03-19\n",
      "Fetching data from http://montreal.icea.decea.mil.br:5002/api/v1/metaf?token=a779d04f85c4bf6cfa586d30aaec57c44e9b7173&idate=2023-03-19&fdate=2023-03-20\n",
      "Fetching data from http://montreal.icea.decea.mil.br:5002/api/v1/metaf?token=a779d04f85c4bf6cfa586d30aaec57c44e9b7173&idate=2023-03-20&fdate=2023-03-21\n",
      "Fetching data from http://montreal.icea.decea.mil.br:5002/api/v1/metaf?token=a779d04f85c4bf6cfa586d30aaec57c44e9b7173&idate=2023-03-21&fdate=2023-03-22\n",
      "Fetching data from http://montreal.icea.decea.mil.br:5002/api/v1/metaf?token=a779d04f85c4bf6cfa586d30aaec57c44e9b7173&idate=2023-03-22&fdate=2023-03-23\n",
      "Fetching data from http://montreal.icea.decea.mil.br:5002/api/v1/metaf?token=a779d04f85c4bf6cfa586d30aaec57c44e9b7173&idate=2023-03-23&fdate=2023-03-24\n",
      "Fetching data from http://montreal.icea.decea.mil.br:5002/api/v1/metaf?token=a779d04f85c4bf6cfa586d30aaec57c44e9b7173&idate=2023-03-24&fdate=2023-03-25\n"
     ]
    },
    {
     "name": "stderr",
     "output_type": "stream",
     "text": [
      "Carregando dados de metaf, Parte 4:   0%|          | 0/109 [00:00<?, ?it/s]"
     ]
    },
    {
     "name": "stdout",
     "output_type": "stream",
     "text": [
      "Fetching data from http://montreal.icea.decea.mil.br:5002/api/v1/metaf?token=a779d04f85c4bf6cfa586d30aaec57c44e9b7173&idate=2023-03-25&fdate=2023-03-26\n",
      "Fetching data from http://montreal.icea.decea.mil.br:5002/api/v1/metaf?token=a779d04f85c4bf6cfa586d30aaec57c44e9b7173&idate=2023-03-26&fdate=2023-03-27\n",
      "Fetching data from http://montreal.icea.decea.mil.br:5002/api/v1/metaf?token=a779d04f85c4bf6cfa586d30aaec57c44e9b7173&idate=2023-03-27&fdate=2023-03-28\n",
      "Fetching data from http://montreal.icea.decea.mil.br:5002/api/v1/metaf?token=a779d04f85c4bf6cfa586d30aaec57c44e9b7173&idate=2023-03-28&fdate=2023-03-29\n",
      "Fetching data from http://montreal.icea.decea.mil.br:5002/api/v1/metaf?token=a779d04f85c4bf6cfa586d30aaec57c44e9b7173&idate=2023-03-29&fdate=2023-03-30\n",
      "Fetching data from http://montreal.icea.decea.mil.br:5002/api/v1/metaf?token=a779d04f85c4bf6cfa586d30aaec57c44e9b7173&idate=2023-03-30&fdate=2023-03-31\n",
      "Fetching data from http://montreal.icea.decea.mil.br:5002/api/v1/metaf?token=a779d04f85c4bf6cfa586d30aaec57c44e9b7173&idate=2023-03-31&fdate=2023-04-01\n",
      "Fetching data from http://montreal.icea.decea.mil.br:5002/api/v1/metaf?token=a779d04f85c4bf6cfa586d30aaec57c44e9b7173&idate=2023-04-01&fdate=2023-04-02\n",
      "Fetching data from http://montreal.icea.decea.mil.br:5002/api/v1/metaf?token=a779d04f85c4bf6cfa586d30aaec57c44e9b7173&idate=2023-04-02&fdate=2023-04-03\n",
      "Fetching data from http://montreal.icea.decea.mil.br:5002/api/v1/metaf?token=a779d04f85c4bf6cfa586d30aaec57c44e9b7173&idate=2023-04-03&fdate=2023-04-04\n",
      "Fetching data from http://montreal.icea.decea.mil.br:5002/api/v1/metaf?token=a779d04f85c4bf6cfa586d30aaec57c44e9b7173&idate=2023-04-04&fdate=2023-04-05\n",
      "Fetching data from http://montreal.icea.decea.mil.br:5002/api/v1/metaf?token=a779d04f85c4bf6cfa586d30aaec57c44e9b7173&idate=2023-04-05&fdate=2023-04-06\n",
      "Fetching data from http://montreal.icea.decea.mil.br:5002/api/v1/metaf?token=a779d04f85c4bf6cfa586d30aaec57c44e9b7173&idate=2023-04-06&fdate=2023-04-07\n",
      "Fetching data from http://montreal.icea.decea.mil.br:5002/api/v1/metaf?token=a779d04f85c4bf6cfa586d30aaec57c44e9b7173&idate=2023-04-07&fdate=2023-04-08\n",
      "Fetching data from http://montreal.icea.decea.mil.br:5002/api/v1/metaf?token=a779d04f85c4bf6cfa586d30aaec57c44e9b7173&idate=2023-04-08&fdate=2023-04-09\n",
      "Fetching data from http://montreal.icea.decea.mil.br:5002/api/v1/metaf?token=a779d04f85c4bf6cfa586d30aaec57c44e9b7173&idate=2023-04-09&fdate=2023-04-10\n",
      "Fetching data from http://montreal.icea.decea.mil.br:5002/api/v1/metaf?token=a779d04f85c4bf6cfa586d30aaec57c44e9b7173&idate=2023-04-10&fdate=2023-04-11\n",
      "Fetching data from http://montreal.icea.decea.mil.br:5002/api/v1/metaf?token=a779d04f85c4bf6cfa586d30aaec57c44e9b7173&idate=2023-04-11&fdate=2023-04-12\n"
     ]
    },
    {
     "name": "stderr",
     "output_type": "stream",
     "text": [
      "Carregando dados de metaf, Parte 4:  18%|█▊        | 20/109 [00:00<00:00, 196.53it/s]"
     ]
    },
    {
     "name": "stdout",
     "output_type": "stream",
     "text": [
      "Fetching data from http://montreal.icea.decea.mil.br:5002/api/v1/metaf?token=a779d04f85c4bf6cfa586d30aaec57c44e9b7173&idate=2023-04-12&fdate=2023-04-13\n",
      "Fetching data from http://montreal.icea.decea.mil.br:5002/api/v1/metaf?token=a779d04f85c4bf6cfa586d30aaec57c44e9b7173&idate=2023-04-13&fdate=2023-04-14\n",
      "Fetching data from http://montreal.icea.decea.mil.br:5002/api/v1/metaf?token=a779d04f85c4bf6cfa586d30aaec57c44e9b7173&idate=2023-04-14&fdate=2023-04-15\n",
      "Fetching data from http://montreal.icea.decea.mil.br:5002/api/v1/metaf?token=a779d04f85c4bf6cfa586d30aaec57c44e9b7173&idate=2023-04-15&fdate=2023-04-16\n",
      "Fetching data from http://montreal.icea.decea.mil.br:5002/api/v1/metaf?token=a779d04f85c4bf6cfa586d30aaec57c44e9b7173&idate=2023-04-16&fdate=2023-04-17\n",
      "Fetching data from http://montreal.icea.decea.mil.br:5002/api/v1/metaf?token=a779d04f85c4bf6cfa586d30aaec57c44e9b7173&idate=2023-04-17&fdate=2023-04-18\n",
      "Fetching data from http://montreal.icea.decea.mil.br:5002/api/v1/metaf?token=a779d04f85c4bf6cfa586d30aaec57c44e9b7173&idate=2023-04-18&fdate=2023-04-19\n",
      "Fetching data from http://montreal.icea.decea.mil.br:5002/api/v1/metaf?token=a779d04f85c4bf6cfa586d30aaec57c44e9b7173&idate=2023-04-19&fdate=2023-04-20\n",
      "Fetching data from http://montreal.icea.decea.mil.br:5002/api/v1/metaf?token=a779d04f85c4bf6cfa586d30aaec57c44e9b7173&idate=2023-04-20&fdate=2023-04-21\n",
      "Fetching data from http://montreal.icea.decea.mil.br:5002/api/v1/metaf?token=a779d04f85c4bf6cfa586d30aaec57c44e9b7173&idate=2023-04-21&fdate=2023-04-22\n"
     ]
    },
    {
     "name": "stderr",
     "output_type": "stream",
     "text": [
      "Carregando dados de metaf, Parte 4:  39%|███▊      | 42/109 [00:00<00:00, 204.50it/s]"
     ]
    },
    {
     "name": "stdout",
     "output_type": "stream",
     "text": [
      "Fetching data from http://montreal.icea.decea.mil.br:5002/api/v1/metaf?token=a779d04f85c4bf6cfa586d30aaec57c44e9b7173&idate=2023-04-22&fdate=2023-04-23\n",
      "Fetching data from http://montreal.icea.decea.mil.br:5002/api/v1/metaf?token=a779d04f85c4bf6cfa586d30aaec57c44e9b7173&idate=2023-04-23&fdate=2023-04-24\n",
      "Fetching data from http://montreal.icea.decea.mil.br:5002/api/v1/metaf?token=a779d04f85c4bf6cfa586d30aaec57c44e9b7173&idate=2023-04-24&fdate=2023-04-25\n",
      "Fetching data from http://montreal.icea.decea.mil.br:5002/api/v1/metaf?token=a779d04f85c4bf6cfa586d30aaec57c44e9b7173&idate=2023-04-25&fdate=2023-04-26\n",
      "Fetching data from http://montreal.icea.decea.mil.br:5002/api/v1/metaf?token=a779d04f85c4bf6cfa586d30aaec57c44e9b7173&idate=2023-04-26&fdate=2023-04-27\n",
      "Fetching data from http://montreal.icea.decea.mil.br:5002/api/v1/metaf?token=a779d04f85c4bf6cfa586d30aaec57c44e9b7173&idate=2023-04-27&fdate=2023-04-28\n",
      "Fetching data from http://montreal.icea.decea.mil.br:5002/api/v1/metaf?token=a779d04f85c4bf6cfa586d30aaec57c44e9b7173&idate=2023-04-28&fdate=2023-04-29\n",
      "Fetching data from http://montreal.icea.decea.mil.br:5002/api/v1/metaf?token=a779d04f85c4bf6cfa586d30aaec57c44e9b7173&idate=2023-04-29&fdate=2023-04-30\n",
      "Fetching data from http://montreal.icea.decea.mil.br:5002/api/v1/metaf?token=a779d04f85c4bf6cfa586d30aaec57c44e9b7173&idate=2023-04-30&fdate=2023-05-01\n",
      "Fetching data from http://montreal.icea.decea.mil.br:5002/api/v1/metaf?token=a779d04f85c4bf6cfa586d30aaec57c44e9b7173&idate=2023-05-01&fdate=2023-05-02\n",
      "Fetching data from http://montreal.icea.decea.mil.br:5002/api/v1/metaf?token=a779d04f85c4bf6cfa586d30aaec57c44e9b7173&idate=2023-05-02&fdate=2023-05-03\n",
      "Fetching data from http://montreal.icea.decea.mil.br:5002/api/v1/metaf?token=a779d04f85c4bf6cfa586d30aaec57c44e9b7173&idate=2023-05-03&fdate=2023-05-04\n",
      "Fetching data from http://montreal.icea.decea.mil.br:5002/api/v1/metaf?token=a779d04f85c4bf6cfa586d30aaec57c44e9b7173&idate=2023-05-04&fdate=2023-05-05\n",
      "Fetching data from http://montreal.icea.decea.mil.br:5002/api/v1/metaf?token=a779d04f85c4bf6cfa586d30aaec57c44e9b7173&idate=2023-05-05&fdate=2023-05-06\n",
      "Fetching data from http://montreal.icea.decea.mil.br:5002/api/v1/metaf?token=a779d04f85c4bf6cfa586d30aaec57c44e9b7173&idate=2023-05-06&fdate=2023-05-07\n",
      "Fetching data from http://montreal.icea.decea.mil.br:5002/api/v1/metaf?token=a779d04f85c4bf6cfa586d30aaec57c44e9b7173&idate=2023-05-07&fdate=2023-05-08\n",
      "Fetching data from http://montreal.icea.decea.mil.br:5002/api/v1/metaf?token=a779d04f85c4bf6cfa586d30aaec57c44e9b7173&idate=2023-05-08&fdate=2023-05-09\n",
      "Fetching data from http://montreal.icea.decea.mil.br:5002/api/v1/metaf?token=a779d04f85c4bf6cfa586d30aaec57c44e9b7173&idate=2023-05-09&fdate=2023-05-10\n",
      "Fetching data from http://montreal.icea.decea.mil.br:5002/api/v1/metaf?token=a779d04f85c4bf6cfa586d30aaec57c44e9b7173&idate=2023-05-10&fdate=2023-05-11\n",
      "Fetching data from http://montreal.icea.decea.mil.br:5002/api/v1/metaf?token=a779d04f85c4bf6cfa586d30aaec57c44e9b7173&idate=2023-05-11&fdate=2023-05-12\n",
      "Fetching data from http://montreal.icea.decea.mil.br:5002/api/v1/metaf?token=a779d04f85c4bf6cfa586d30aaec57c44e9b7173&idate=2023-05-12&fdate=2023-05-13\n",
      "Fetching data from http://montreal.icea.decea.mil.br:5002/api/v1/metaf?token=a779d04f85c4bf6cfa586d30aaec57c44e9b7173&idate=2023-05-13&fdate=2023-05-14\n",
      "Fetching data from http://montreal.icea.decea.mil.br:5002/api/v1/metaf?token=a779d04f85c4bf6cfa586d30aaec57c44e9b7173&idate=2023-05-14&fdate=2023-05-15\n",
      "Fetching data from http://montreal.icea.decea.mil.br:5002/api/v1/metaf?token=a779d04f85c4bf6cfa586d30aaec57c44e9b7173&idate=2023-05-15&fdate=2023-05-16Fetching data from http://montreal.icea.decea.mil.br:5002/api/v1/metaf?token=a779d04f85c4bf6cfa586d30aaec57c44e9b7173&idate=2023-05-16&fdate=2023-05-17\n",
      "Fetching data from http://montreal.icea.decea.mil.br:5002/api/v1/metaf?token=a779d04f85c4bf6cfa586d30aaec57c44e9b7173&idate=2023-05-17&fdate=2023-05-18\n",
      "\n",
      "Fetching data from http://montreal.icea.decea.mil.br:5002/api/v1/metaf?token=a779d04f85c4bf6cfa586d30aaec57c44e9b7173&idate=2023-05-18&fdate=2023-05-19\n",
      "Fetching data from http://montreal.icea.decea.mil.br:5002/api/v1/metaf?token=a779d04f85c4bf6cfa586d30aaec57c44e9b7173&idate=2023-05-19&fdate=2023-05-20\n",
      "Fetching data from http://montreal.icea.decea.mil.br:5002/api/v1/metaf?token=a779d04f85c4bf6cfa586d30aaec57c44e9b7173&idate=2023-05-20&fdate=2023-05-21\n",
      "Fetching data from http://montreal.icea.decea.mil.br:5002/api/v1/metaf?token=a779d04f85c4bf6cfa586d30aaec57c44e9b7173&idate=2023-05-21&fdate=2023-05-22\n",
      "Fetching data from http://montreal.icea.decea.mil.br:5002/api/v1/metaf?token=a779d04f85c4bf6cfa586d30aaec57c44e9b7173&idate=2023-05-22&fdate=2023-05-23\n",
      "Fetching data from http://montreal.icea.decea.mil.br:5002/api/v1/metaf?token=a779d04f85c4bf6cfa586d30aaec57c44e9b7173&idate=2023-05-23&fdate=2023-05-24\n"
     ]
    },
    {
     "name": "stderr",
     "output_type": "stream",
     "text": [
      "Carregando dados de metaf, Parte 4:  58%|█████▊    | 63/109 [00:00<00:00, 194.29it/s]"
     ]
    },
    {
     "name": "stdout",
     "output_type": "stream",
     "text": [
      "Fetching data from http://montreal.icea.decea.mil.br:5002/api/v1/metaf?token=a779d04f85c4bf6cfa586d30aaec57c44e9b7173&idate=2023-05-24&fdate=2023-05-25\n",
      "Fetching data from http://montreal.icea.decea.mil.br:5002/api/v1/metaf?token=a779d04f85c4bf6cfa586d30aaec57c44e9b7173&idate=2023-05-25&fdate=2023-05-26\n",
      "Fetching data from http://montreal.icea.decea.mil.br:5002/api/v1/metaf?token=a779d04f85c4bf6cfa586d30aaec57c44e9b7173&idate=2023-05-26&fdate=2023-05-27\n",
      "Fetching data from http://montreal.icea.decea.mil.br:5002/api/v1/metaf?token=a779d04f85c4bf6cfa586d30aaec57c44e9b7173&idate=2023-05-27&fdate=2023-05-28\n",
      "Fetching data from http://montreal.icea.decea.mil.br:5002/api/v1/metaf?token=a779d04f85c4bf6cfa586d30aaec57c44e9b7173&idate=2023-05-28&fdate=2023-05-29\n",
      "Fetching data from http://montreal.icea.decea.mil.br:5002/api/v1/metaf?token=a779d04f85c4bf6cfa586d30aaec57c44e9b7173&idate=2023-05-29&fdate=2023-05-30\n",
      "Fetching data from http://montreal.icea.decea.mil.br:5002/api/v1/metaf?token=a779d04f85c4bf6cfa586d30aaec57c44e9b7173&idate=2023-05-30&fdate=2023-05-31\n",
      "Fetching data from http://montreal.icea.decea.mil.br:5002/api/v1/metaf?token=a779d04f85c4bf6cfa586d30aaec57c44e9b7173&idate=2023-05-31&fdate=2023-06-01\n",
      "Fetching data from http://montreal.icea.decea.mil.br:5002/api/v1/metaf?token=a779d04f85c4bf6cfa586d30aaec57c44e9b7173&idate=2023-06-01&fdate=2023-06-02\n",
      "Fetching data from http://montreal.icea.decea.mil.br:5002/api/v1/metaf?token=a779d04f85c4bf6cfa586d30aaec57c44e9b7173&idate=2023-06-02&fdate=2023-06-03\n",
      "Fetching data from http://montreal.icea.decea.mil.br:5002/api/v1/metaf?token=a779d04f85c4bf6cfa586d30aaec57c44e9b7173&idate=2023-06-03&fdate=2023-06-04\n",
      "Fetching data from http://montreal.icea.decea.mil.br:5002/api/v1/metaf?token=a779d04f85c4bf6cfa586d30aaec57c44e9b7173&idate=2023-06-04&fdate=2023-06-05\n",
      "Fetching data from http://montreal.icea.decea.mil.br:5002/api/v1/metaf?token=a779d04f85c4bf6cfa586d30aaec57c44e9b7173&idate=2023-06-05&fdate=2023-06-06\n",
      "Fetching data from http://montreal.icea.decea.mil.br:5002/api/v1/metaf?token=a779d04f85c4bf6cfa586d30aaec57c44e9b7173&idate=2023-06-06&fdate=2023-06-07\n",
      "Fetching data from http://montreal.icea.decea.mil.br:5002/api/v1/metaf?token=a779d04f85c4bf6cfa586d30aaec57c44e9b7173&idate=2023-06-07&fdate=2023-06-08\n",
      "Fetching data from http://montreal.icea.decea.mil.br:5002/api/v1/metaf?token=a779d04f85c4bf6cfa586d30aaec57c44e9b7173&idate=2023-06-08&fdate=2023-06-09\n",
      "Fetching data from http://montreal.icea.decea.mil.br:5002/api/v1/metaf?token=a779d04f85c4bf6cfa586d30aaec57c44e9b7173&idate=2023-06-09&fdate=2023-06-10\n",
      "Fetching data from http://montreal.icea.decea.mil.br:5002/api/v1/metaf?token=a779d04f85c4bf6cfa586d30aaec57c44e9b7173&idate=2023-06-10&fdate=2023-06-11\n",
      "Fetching data from http://montreal.icea.decea.mil.br:5002/api/v1/metaf?token=a779d04f85c4bf6cfa586d30aaec57c44e9b7173&idate=2023-06-11&fdate=2023-06-12\n",
      "Fetching data from http://montreal.icea.decea.mil.br:5002/api/v1/metaf?token=a779d04f85c4bf6cfa586d30aaec57c44e9b7173&idate=2023-06-12&fdate=2023-06-13\n",
      "Fetching data from http://montreal.icea.decea.mil.br:5002/api/v1/metaf?token=a779d04f85c4bf6cfa586d30aaec57c44e9b7173&idate=2023-06-13&fdate=2023-06-14\n",
      "Fetching data from http://montreal.icea.decea.mil.br:5002/api/v1/metaf?token=a779d04f85c4bf6cfa586d30aaec57c44e9b7173&idate=2023-06-14&fdate=2023-06-15\n",
      "Fetching data from http://montreal.icea.decea.mil.br:5002/api/v1/metaf?token=a779d04f85c4bf6cfa586d30aaec57c44e9b7173&idate=2023-06-15&fdate=2023-06-16\n",
      "Fetching data from http://montreal.icea.decea.mil.br:5002/api/v1/metaf?token=a779d04f85c4bf6cfa586d30aaec57c44e9b7173&idate=2023-06-16&fdate=2023-06-17\n",
      "Fetching data from http://montreal.icea.decea.mil.br:5002/api/v1/metaf?token=a779d04f85c4bf6cfa586d30aaec57c44e9b7173&idate=2023-06-17&fdate=2023-06-18\n"
     ]
    },
    {
     "name": "stderr",
     "output_type": "stream",
     "text": [
      "Carregando dados de metaf, Parte 4:  79%|███████▉  | 86/109 [00:00<00:00, 207.27it/s]"
     ]
    },
    {
     "name": "stdout",
     "output_type": "stream",
     "text": [
      "Fetching data from http://montreal.icea.decea.mil.br:5002/api/v1/metaf?token=a779d04f85c4bf6cfa586d30aaec57c44e9b7173&idate=2023-06-18&fdate=2023-06-19Fetching data from http://montreal.icea.decea.mil.br:5002/api/v1/metaf?token=a779d04f85c4bf6cfa586d30aaec57c44e9b7173&idate=2023-06-19&fdate=2023-06-20\n",
      "\n",
      "Fetching data from http://montreal.icea.decea.mil.br:5002/api/v1/metaf?token=a779d04f85c4bf6cfa586d30aaec57c44e9b7173&idate=2023-06-20&fdate=2023-06-21\n",
      "Fetching data from http://montreal.icea.decea.mil.br:5002/api/v1/metaf?token=a779d04f85c4bf6cfa586d30aaec57c44e9b7173&idate=2023-06-21&fdate=2023-06-22\n",
      "Fetching data from http://montreal.icea.decea.mil.br:5002/api/v1/metaf?token=a779d04f85c4bf6cfa586d30aaec57c44e9b7173&idate=2023-06-22&fdate=2023-06-23\n",
      "Fetching data from http://montreal.icea.decea.mil.br:5002/api/v1/metaf?token=a779d04f85c4bf6cfa586d30aaec57c44e9b7173&idate=2023-06-23&fdate=2023-06-24\n",
      "Fetching data from http://montreal.icea.decea.mil.br:5002/api/v1/metaf?token=a779d04f85c4bf6cfa586d30aaec57c44e9b7173&idate=2023-06-24&fdate=2023-06-25\n",
      "Fetching data from http://montreal.icea.decea.mil.br:5002/api/v1/metaf?token=a779d04f85c4bf6cfa586d30aaec57c44e9b7173&idate=2023-06-25&fdate=2023-06-26\n",
      "Fetching data from http://montreal.icea.decea.mil.br:5002/api/v1/metaf?token=a779d04f85c4bf6cfa586d30aaec57c44e9b7173&idate=2023-06-26&fdate=2023-06-27\n",
      "Fetching data from http://montreal.icea.decea.mil.br:5002/api/v1/metaf?token=a779d04f85c4bf6cfa586d30aaec57c44e9b7173&idate=2023-06-27&fdate=2023-06-28\n",
      "Fetching data from http://montreal.icea.decea.mil.br:5002/api/v1/metaf?token=a779d04f85c4bf6cfa586d30aaec57c44e9b7173&idate=2023-06-28&fdate=2023-06-29\n",
      "Fetching data from http://montreal.icea.decea.mil.br:5002/api/v1/metaf?token=a779d04f85c4bf6cfa586d30aaec57c44e9b7173&idate=2023-06-29&fdate=2023-06-30\n",
      "Fetching data from http://montreal.icea.decea.mil.br:5002/api/v1/metaf?token=a779d04f85c4bf6cfa586d30aaec57c44e9b7173&idate=2023-06-30&fdate=2023-07-01\n",
      "Fetching data from http://montreal.icea.decea.mil.br:5002/api/v1/metaf?token=a779d04f85c4bf6cfa586d30aaec57c44e9b7173&idate=2023-07-01&fdate=2023-07-02\n"
     ]
    },
    {
     "name": "stderr",
     "output_type": "stream",
     "text": [
      "Carregando dados de metaf, Parte 4: 100%|██████████| 109/109 [00:00<00:00, 208.94it/s]"
     ]
    },
    {
     "name": "stdout",
     "output_type": "stream",
     "text": [
      "Dados de metaf salvos em metaf_part_4.csv\n",
      "Processando metar\n",
      "Processando parte 1/4\n",
      "Fetching data from http://montreal.icea.decea.mil.br:5002/api/v1/metar?token=a779d04f85c4bf6cfa586d30aaec57c44e9b7173&idate=2022-05-01&fdate=2022-05-02\n",
      "Fetching data from http://montreal.icea.decea.mil.br:5002/api/v1/metar?token=a779d04f85c4bf6cfa586d30aaec57c44e9b7173&idate=2022-05-02&fdate=2022-05-03\n"
     ]
    },
    {
     "name": "stderr",
     "output_type": "stream",
     "text": [
      "\n"
     ]
    },
    {
     "name": "stdout",
     "output_type": "stream",
     "text": [
      "Fetching data from http://montreal.icea.decea.mil.br:5002/api/v1/metar?token=a779d04f85c4bf6cfa586d30aaec57c44e9b7173&idate=2022-05-03&fdate=2022-05-04\n",
      "Fetching data from http://montreal.icea.decea.mil.br:5002/api/v1/metar?token=a779d04f85c4bf6cfa586d30aaec57c44e9b7173&idate=2022-05-04&fdate=2022-05-05\n",
      "Fetching data from http://montreal.icea.decea.mil.br:5002/api/v1/metar?token=a779d04f85c4bf6cfa586d30aaec57c44e9b7173&idate=2022-05-05&fdate=2022-05-06\n",
      "Fetching data from http://montreal.icea.decea.mil.br:5002/api/v1/metar?token=a779d04f85c4bf6cfa586d30aaec57c44e9b7173&idate=2022-05-06&fdate=2022-05-07\n",
      "Fetching data from http://montreal.icea.decea.mil.br:5002/api/v1/metar?token=a779d04f85c4bf6cfa586d30aaec57c44e9b7173&idate=2022-05-07&fdate=2022-05-08\n",
      "Fetching data from http://montreal.icea.decea.mil.br:5002/api/v1/metar?token=a779d04f85c4bf6cfa586d30aaec57c44e9b7173&idate=2022-05-08&fdate=2022-05-09\n",
      "Fetching data from http://montreal.icea.decea.mil.br:5002/api/v1/metar?token=a779d04f85c4bf6cfa586d30aaec57c44e9b7173&idate=2022-05-09&fdate=2022-05-10\n",
      "Fetching data from http://montreal.icea.decea.mil.br:5002/api/v1/metar?token=a779d04f85c4bf6cfa586d30aaec57c44e9b7173&idate=2022-05-10&fdate=2022-05-11\n"
     ]
    },
    {
     "name": "stderr",
     "output_type": "stream",
     "text": [
      "Carregando dados de metar, Parte 1:   0%|          | 0/106 [00:00<?, ?it/s]"
     ]
    },
    {
     "name": "stdout",
     "output_type": "stream",
     "text": [
      "Fetching data from http://montreal.icea.decea.mil.br:5002/api/v1/metar?token=a779d04f85c4bf6cfa586d30aaec57c44e9b7173&idate=2022-05-11&fdate=2022-05-12\n",
      "Fetching data from http://montreal.icea.decea.mil.br:5002/api/v1/metar?token=a779d04f85c4bf6cfa586d30aaec57c44e9b7173&idate=2022-05-12&fdate=2022-05-13\n",
      "Fetching data from http://montreal.icea.decea.mil.br:5002/api/v1/metar?token=a779d04f85c4bf6cfa586d30aaec57c44e9b7173&idate=2022-05-13&fdate=2022-05-14\n",
      "Fetching data from http://montreal.icea.decea.mil.br:5002/api/v1/metar?token=a779d04f85c4bf6cfa586d30aaec57c44e9b7173&idate=2022-05-14&fdate=2022-05-15\n",
      "Fetching data from http://montreal.icea.decea.mil.br:5002/api/v1/metar?token=a779d04f85c4bf6cfa586d30aaec57c44e9b7173&idate=2022-05-15&fdate=2022-05-16\n",
      "Fetching data from http://montreal.icea.decea.mil.br:5002/api/v1/metar?token=a779d04f85c4bf6cfa586d30aaec57c44e9b7173&idate=2022-05-16&fdate=2022-05-17\n",
      "Fetching data from http://montreal.icea.decea.mil.br:5002/api/v1/metar?token=a779d04f85c4bf6cfa586d30aaec57c44e9b7173&idate=2022-05-17&fdate=2022-05-18\n",
      "Fetching data from http://montreal.icea.decea.mil.br:5002/api/v1/metar?token=a779d04f85c4bf6cfa586d30aaec57c44e9b7173&idate=2022-05-18&fdate=2022-05-19\n",
      "Fetching data from http://montreal.icea.decea.mil.br:5002/api/v1/metar?token=a779d04f85c4bf6cfa586d30aaec57c44e9b7173&idate=2022-05-19&fdate=2022-05-20\n",
      "Fetching data from http://montreal.icea.decea.mil.br:5002/api/v1/metar?token=a779d04f85c4bf6cfa586d30aaec57c44e9b7173&idate=2022-05-20&fdate=2022-05-21\n",
      "Fetching data from http://montreal.icea.decea.mil.br:5002/api/v1/metar?token=a779d04f85c4bf6cfa586d30aaec57c44e9b7173&idate=2022-05-21&fdate=2022-05-22\n",
      "Fetching data from http://montreal.icea.decea.mil.br:5002/api/v1/metar?token=a779d04f85c4bf6cfa586d30aaec57c44e9b7173&idate=2022-05-22&fdate=2022-05-23\n"
     ]
    },
    {
     "name": "stderr",
     "output_type": "stream",
     "text": [
      "Carregando dados de metar, Parte 1:  18%|█▊        | 19/106 [00:00<00:00, 150.12it/s]"
     ]
    },
    {
     "name": "stdout",
     "output_type": "stream",
     "text": [
      "Fetching data from http://montreal.icea.decea.mil.br:5002/api/v1/metar?token=a779d04f85c4bf6cfa586d30aaec57c44e9b7173&idate=2022-05-23&fdate=2022-05-24\n",
      "Fetching data from http://montreal.icea.decea.mil.br:5002/api/v1/metar?token=a779d04f85c4bf6cfa586d30aaec57c44e9b7173&idate=2022-05-24&fdate=2022-05-25\n",
      "Fetching data from http://montreal.icea.decea.mil.br:5002/api/v1/metar?token=a779d04f85c4bf6cfa586d30aaec57c44e9b7173&idate=2022-05-25&fdate=2022-05-26\n",
      "Fetching data from http://montreal.icea.decea.mil.br:5002/api/v1/metar?token=a779d04f85c4bf6cfa586d30aaec57c44e9b7173&idate=2022-05-26&fdate=2022-05-27\n",
      "Fetching data from http://montreal.icea.decea.mil.br:5002/api/v1/metar?token=a779d04f85c4bf6cfa586d30aaec57c44e9b7173&idate=2022-05-27&fdate=2022-05-28\n",
      "Fetching data from http://montreal.icea.decea.mil.br:5002/api/v1/metar?token=a779d04f85c4bf6cfa586d30aaec57c44e9b7173&idate=2022-05-28&fdate=2022-05-29\n",
      "Fetching data from http://montreal.icea.decea.mil.br:5002/api/v1/metar?token=a779d04f85c4bf6cfa586d30aaec57c44e9b7173&idate=2022-05-29&fdate=2022-05-30\n",
      "Fetching data from http://montreal.icea.decea.mil.br:5002/api/v1/metar?token=a779d04f85c4bf6cfa586d30aaec57c44e9b7173&idate=2022-05-30&fdate=2022-05-31\n",
      "Fetching data from http://montreal.icea.decea.mil.br:5002/api/v1/metar?token=a779d04f85c4bf6cfa586d30aaec57c44e9b7173&idate=2022-05-31&fdate=2022-06-01\n",
      "Fetching data from http://montreal.icea.decea.mil.br:5002/api/v1/metar?token=a779d04f85c4bf6cfa586d30aaec57c44e9b7173&idate=2022-06-01&fdate=2022-06-02\n",
      "Fetching data from http://montreal.icea.decea.mil.br:5002/api/v1/metar?token=a779d04f85c4bf6cfa586d30aaec57c44e9b7173&idate=2022-06-02&fdate=2022-06-03\n",
      "Fetching data from http://montreal.icea.decea.mil.br:5002/api/v1/metar?token=a779d04f85c4bf6cfa586d30aaec57c44e9b7173&idate=2022-06-03&fdate=2022-06-04\n",
      "Fetching data from http://montreal.icea.decea.mil.br:5002/api/v1/metar?token=a779d04f85c4bf6cfa586d30aaec57c44e9b7173&idate=2022-06-04&fdate=2022-06-05\n",
      "Fetching data from http://montreal.icea.decea.mil.br:5002/api/v1/metar?token=a779d04f85c4bf6cfa586d30aaec57c44e9b7173&idate=2022-06-05&fdate=2022-06-06\n",
      "Fetching data from http://montreal.icea.decea.mil.br:5002/api/v1/metar?token=a779d04f85c4bf6cfa586d30aaec57c44e9b7173&idate=2022-06-06&fdate=2022-06-07\n",
      "Fetching data from http://montreal.icea.decea.mil.br:5002/api/v1/metar?token=a779d04f85c4bf6cfa586d30aaec57c44e9b7173&idate=2022-06-07&fdate=2022-06-08\n",
      "Fetching data from http://montreal.icea.decea.mil.br:5002/api/v1/metar?token=a779d04f85c4bf6cfa586d30aaec57c44e9b7173&idate=2022-06-08&fdate=2022-06-09\n",
      "Fetching data from http://montreal.icea.decea.mil.br:5002/api/v1/metar?token=a779d04f85c4bf6cfa586d30aaec57c44e9b7173&idate=2022-06-09&fdate=2022-06-10\n",
      "Fetching data from http://montreal.icea.decea.mil.br:5002/api/v1/metar?token=a779d04f85c4bf6cfa586d30aaec57c44e9b7173&idate=2022-06-10&fdate=2022-06-11\n",
      "Fetching data from http://montreal.icea.decea.mil.br:5002/api/v1/metar?token=a779d04f85c4bf6cfa586d30aaec57c44e9b7173&idate=2022-06-11&fdate=2022-06-12\n",
      "Fetching data from http://montreal.icea.decea.mil.br:5002/api/v1/metar?token=a779d04f85c4bf6cfa586d30aaec57c44e9b7173&idate=2022-06-12&fdate=2022-06-13\n",
      "Fetching data from http://montreal.icea.decea.mil.br:5002/api/v1/metar?token=a779d04f85c4bf6cfa586d30aaec57c44e9b7173&idate=2022-06-13&fdate=2022-06-14\n",
      "Fetching data from http://montreal.icea.decea.mil.br:5002/api/v1/metar?token=a779d04f85c4bf6cfa586d30aaec57c44e9b7173&idate=2022-06-14&fdate=2022-06-15\n",
      "Fetching data from http://montreal.icea.decea.mil.br:5002/api/v1/metar?token=a779d04f85c4bf6cfa586d30aaec57c44e9b7173&idate=2022-06-15&fdate=2022-06-16\n",
      "Fetching data from http://montreal.icea.decea.mil.br:5002/api/v1/metar?token=a779d04f85c4bf6cfa586d30aaec57c44e9b7173&idate=2022-06-16&fdate=2022-06-17\n",
      "Fetching data from http://montreal.icea.decea.mil.br:5002/api/v1/metar?token=a779d04f85c4bf6cfa586d30aaec57c44e9b7173&idate=2022-06-17&fdate=2022-06-18\n",
      "Fetching data from http://montreal.icea.decea.mil.br:5002/api/v1/metar?token=a779d04f85c4bf6cfa586d30aaec57c44e9b7173&idate=2022-06-18&fdate=2022-06-19\n",
      "Fetching data from http://montreal.icea.decea.mil.br:5002/api/v1/metar?token=a779d04f85c4bf6cfa586d30aaec57c44e9b7173&idate=2022-06-19&fdate=2022-06-20\n",
      "Fetching data from http://montreal.icea.decea.mil.br:5002/api/v1/metar?token=a779d04f85c4bf6cfa586d30aaec57c44e9b7173&idate=2022-06-20&fdate=2022-06-21\n",
      "Fetching data from http://montreal.icea.decea.mil.br:5002/api/v1/metar?token=a779d04f85c4bf6cfa586d30aaec57c44e9b7173&idate=2022-06-21&fdate=2022-06-22\n",
      "Fetching data from http://montreal.icea.decea.mil.br:5002/api/v1/metar?token=a779d04f85c4bf6cfa586d30aaec57c44e9b7173&idate=2022-06-22&fdate=2022-06-23\n"
     ]
    },
    {
     "name": "stderr",
     "output_type": "stream",
     "text": [
      "Carregando dados de metar, Parte 1:  42%|████▏     | 45/106 [00:00<00:00, 208.27it/s]"
     ]
    },
    {
     "name": "stdout",
     "output_type": "stream",
     "text": [
      "Fetching data from http://montreal.icea.decea.mil.br:5002/api/v1/metar?token=a779d04f85c4bf6cfa586d30aaec57c44e9b7173&idate=2022-06-23&fdate=2022-06-24\n",
      "Fetching data from http://montreal.icea.decea.mil.br:5002/api/v1/metar?token=a779d04f85c4bf6cfa586d30aaec57c44e9b7173&idate=2022-06-24&fdate=2022-06-25\n",
      "Fetching data from http://montreal.icea.decea.mil.br:5002/api/v1/metar?token=a779d04f85c4bf6cfa586d30aaec57c44e9b7173&idate=2022-06-25&fdate=2022-06-26\n",
      "Fetching data from http://montreal.icea.decea.mil.br:5002/api/v1/metar?token=a779d04f85c4bf6cfa586d30aaec57c44e9b7173&idate=2022-06-26&fdate=2022-06-27\n",
      "Fetching data from http://montreal.icea.decea.mil.br:5002/api/v1/metar?token=a779d04f85c4bf6cfa586d30aaec57c44e9b7173&idate=2022-06-27&fdate=2022-06-28\n",
      "Fetching data from http://montreal.icea.decea.mil.br:5002/api/v1/metar?token=a779d04f85c4bf6cfa586d30aaec57c44e9b7173&idate=2022-06-28&fdate=2022-06-29\n",
      "Fetching data from http://montreal.icea.decea.mil.br:5002/api/v1/metar?token=a779d04f85c4bf6cfa586d30aaec57c44e9b7173&idate=2022-06-29&fdate=2022-06-30\n",
      "Fetching data from http://montreal.icea.decea.mil.br:5002/api/v1/metar?token=a779d04f85c4bf6cfa586d30aaec57c44e9b7173&idate=2022-06-30&fdate=2022-07-01\n",
      "Fetching data from http://montreal.icea.decea.mil.br:5002/api/v1/metar?token=a779d04f85c4bf6cfa586d30aaec57c44e9b7173&idate=2022-07-01&fdate=2022-07-02\n",
      "Fetching data from http://montreal.icea.decea.mil.br:5002/api/v1/metar?token=a779d04f85c4bf6cfa586d30aaec57c44e9b7173&idate=2022-07-02&fdate=2022-07-03\n",
      "Fetching data from http://montreal.icea.decea.mil.br:5002/api/v1/metar?token=a779d04f85c4bf6cfa586d30aaec57c44e9b7173&idate=2022-07-03&fdate=2022-07-04\n",
      "Fetching data from http://montreal.icea.decea.mil.br:5002/api/v1/metar?token=a779d04f85c4bf6cfa586d30aaec57c44e9b7173&idate=2022-07-04&fdate=2022-07-05\n",
      "Fetching data from http://montreal.icea.decea.mil.br:5002/api/v1/metar?token=a779d04f85c4bf6cfa586d30aaec57c44e9b7173&idate=2022-07-05&fdate=2022-07-06\n",
      "Fetching data from http://montreal.icea.decea.mil.br:5002/api/v1/metar?token=a779d04f85c4bf6cfa586d30aaec57c44e9b7173&idate=2022-07-06&fdate=2022-07-07\n"
     ]
    },
    {
     "name": "stderr",
     "output_type": "stream",
     "text": [
      "Carregando dados de metar, Parte 1:  64%|██████▍   | 68/106 [00:00<00:00, 203.65it/s]"
     ]
    },
    {
     "name": "stdout",
     "output_type": "stream",
     "text": [
      "Fetching data from http://montreal.icea.decea.mil.br:5002/api/v1/metar?token=a779d04f85c4bf6cfa586d30aaec57c44e9b7173&idate=2022-07-07&fdate=2022-07-08\n",
      "Fetching data from http://montreal.icea.decea.mil.br:5002/api/v1/metar?token=a779d04f85c4bf6cfa586d30aaec57c44e9b7173&idate=2022-07-08&fdate=2022-07-09\n",
      "Fetching data from http://montreal.icea.decea.mil.br:5002/api/v1/metar?token=a779d04f85c4bf6cfa586d30aaec57c44e9b7173&idate=2022-07-09&fdate=2022-07-10\n",
      "Fetching data from http://montreal.icea.decea.mil.br:5002/api/v1/metar?token=a779d04f85c4bf6cfa586d30aaec57c44e9b7173&idate=2022-07-10&fdate=2022-07-11\n",
      "Fetching data from http://montreal.icea.decea.mil.br:5002/api/v1/metar?token=a779d04f85c4bf6cfa586d30aaec57c44e9b7173&idate=2022-07-11&fdate=2022-07-12\n",
      "Fetching data from http://montreal.icea.decea.mil.br:5002/api/v1/metar?token=a779d04f85c4bf6cfa586d30aaec57c44e9b7173&idate=2022-07-12&fdate=2022-07-13\n",
      "Fetching data from http://montreal.icea.decea.mil.br:5002/api/v1/metar?token=a779d04f85c4bf6cfa586d30aaec57c44e9b7173&idate=2022-07-13&fdate=2022-07-14\n",
      "Fetching data from http://montreal.icea.decea.mil.br:5002/api/v1/metar?token=a779d04f85c4bf6cfa586d30aaec57c44e9b7173&idate=2022-07-14&fdate=2022-07-15\n",
      "Fetching data from http://montreal.icea.decea.mil.br:5002/api/v1/metar?token=a779d04f85c4bf6cfa586d30aaec57c44e9b7173&idate=2022-07-15&fdate=2022-07-16\n",
      "Fetching data from http://montreal.icea.decea.mil.br:5002/api/v1/metar?token=a779d04f85c4bf6cfa586d30aaec57c44e9b7173&idate=2022-07-16&fdate=2022-07-17\n",
      "Fetching data from http://montreal.icea.decea.mil.br:5002/api/v1/metar?token=a779d04f85c4bf6cfa586d30aaec57c44e9b7173&idate=2022-07-17&fdate=2022-07-18\n",
      "Fetching data from http://montreal.icea.decea.mil.br:5002/api/v1/metar?token=a779d04f85c4bf6cfa586d30aaec57c44e9b7173&idate=2022-07-18&fdate=2022-07-19\n",
      "Fetching data from http://montreal.icea.decea.mil.br:5002/api/v1/metar?token=a779d04f85c4bf6cfa586d30aaec57c44e9b7173&idate=2022-07-19&fdate=2022-07-20\n",
      "Fetching data from http://montreal.icea.decea.mil.br:5002/api/v1/metar?token=a779d04f85c4bf6cfa586d30aaec57c44e9b7173&idate=2022-07-20&fdate=2022-07-21\n",
      "Fetching data from http://montreal.icea.decea.mil.br:5002/api/v1/metar?token=a779d04f85c4bf6cfa586d30aaec57c44e9b7173&idate=2022-07-21&fdate=2022-07-22\n",
      "Fetching data from http://montreal.icea.decea.mil.br:5002/api/v1/metar?token=a779d04f85c4bf6cfa586d30aaec57c44e9b7173&idate=2022-07-22&fdate=2022-07-23\n",
      "Fetching data from http://montreal.icea.decea.mil.br:5002/api/v1/metar?token=a779d04f85c4bf6cfa586d30aaec57c44e9b7173&idate=2022-07-23&fdate=2022-07-24\n",
      "Fetching data from http://montreal.icea.decea.mil.br:5002/api/v1/metar?token=a779d04f85c4bf6cfa586d30aaec57c44e9b7173&idate=2022-07-24&fdate=2022-07-25\n",
      "Fetching data from http://montreal.icea.decea.mil.br:5002/api/v1/metar?token=a779d04f85c4bf6cfa586d30aaec57c44e9b7173&idate=2022-07-25&fdate=2022-07-26\n",
      "Fetching data from http://montreal.icea.decea.mil.br:5002/api/v1/metar?token=a779d04f85c4bf6cfa586d30aaec57c44e9b7173&idate=2022-07-26&fdate=2022-07-27\n",
      "Fetching data from http://montreal.icea.decea.mil.br:5002/api/v1/metar?token=a779d04f85c4bf6cfa586d30aaec57c44e9b7173&idate=2022-07-27&fdate=2022-07-28\n",
      "Fetching data from http://montreal.icea.decea.mil.br:5002/api/v1/metar?token=a779d04f85c4bf6cfa586d30aaec57c44e9b7173&idate=2022-07-28&fdate=2022-07-29\n",
      "Fetching data from http://montreal.icea.decea.mil.br:5002/api/v1/metar?token=a779d04f85c4bf6cfa586d30aaec57c44e9b7173&idate=2022-07-29&fdate=2022-07-30\n",
      "Fetching data from http://montreal.icea.decea.mil.br:5002/api/v1/metar?token=a779d04f85c4bf6cfa586d30aaec57c44e9b7173&idate=2022-07-30&fdate=2022-07-31\n",
      "Fetching data from http://montreal.icea.decea.mil.br:5002/api/v1/metar?token=a779d04f85c4bf6cfa586d30aaec57c44e9b7173&idate=2022-07-31&fdate=2022-08-01\n",
      "Fetching data from http://montreal.icea.decea.mil.br:5002/api/v1/metar?token=a779d04f85c4bf6cfa586d30aaec57c44e9b7173&idate=2022-08-01&fdate=2022-08-02\n",
      "Fetching data from http://montreal.icea.decea.mil.br:5002/api/v1/metar?token=a779d04f85c4bf6cfa586d30aaec57c44e9b7173&idate=2022-08-02&fdate=2022-08-03\n",
      "Fetching data from http://montreal.icea.decea.mil.br:5002/api/v1/metar?token=a779d04f85c4bf6cfa586d30aaec57c44e9b7173&idate=2022-08-03&fdate=2022-08-04\n",
      "Fetching data from http://montreal.icea.decea.mil.br:5002/api/v1/metar?token=a779d04f85c4bf6cfa586d30aaec57c44e9b7173&idate=2022-08-04&fdate=2022-08-05\n",
      "Fetching data from http://montreal.icea.decea.mil.br:5002/api/v1/metar?token=a779d04f85c4bf6cfa586d30aaec57c44e9b7173&idate=2022-08-05&fdate=2022-08-06\n",
      "Fetching data from http://montreal.icea.decea.mil.br:5002/api/v1/metar?token=a779d04f85c4bf6cfa586d30aaec57c44e9b7173&idate=2022-08-06&fdate=2022-08-07\n",
      "Fetching data from http://montreal.icea.decea.mil.br:5002/api/v1/metar?token=a779d04f85c4bf6cfa586d30aaec57c44e9b7173&idate=2022-08-07&fdate=2022-08-08\n"
     ]
    },
    {
     "name": "stderr",
     "output_type": "stream",
     "text": [
      "Carregando dados de metar, Parte 1:  85%|████████▍ | 90/106 [00:00<00:00, 183.40it/s]"
     ]
    },
    {
     "name": "stdout",
     "output_type": "stream",
     "text": [
      "Fetching data from http://montreal.icea.decea.mil.br:5002/api/v1/metar?token=a779d04f85c4bf6cfa586d30aaec57c44e9b7173&idate=2022-08-08&fdate=2022-08-09\n",
      "Fetching data from http://montreal.icea.decea.mil.br:5002/api/v1/metar?token=a779d04f85c4bf6cfa586d30aaec57c44e9b7173&idate=2022-08-09&fdate=2022-08-10\n",
      "Fetching data from http://montreal.icea.decea.mil.br:5002/api/v1/metar?token=a779d04f85c4bf6cfa586d30aaec57c44e9b7173&idate=2022-08-10&fdate=2022-08-11\n",
      "Fetching data from http://montreal.icea.decea.mil.br:5002/api/v1/metar?token=a779d04f85c4bf6cfa586d30aaec57c44e9b7173&idate=2022-08-11&fdate=2022-08-12\n",
      "Fetching data from http://montreal.icea.decea.mil.br:5002/api/v1/metar?token=a779d04f85c4bf6cfa586d30aaec57c44e9b7173&idate=2022-08-12&fdate=2022-08-13\n",
      "Fetching data from http://montreal.icea.decea.mil.br:5002/api/v1/metar?token=a779d04f85c4bf6cfa586d30aaec57c44e9b7173&idate=2022-08-13&fdate=2022-08-14\n",
      "Fetching data from http://montreal.icea.decea.mil.br:5002/api/v1/metar?token=a779d04f85c4bf6cfa586d30aaec57c44e9b7173&idate=2022-08-14&fdate=2022-08-15\n"
     ]
    },
    {
     "name": "stderr",
     "output_type": "stream",
     "text": [
      "Carregando dados de metar, Parte 1: 100%|██████████| 106/106 [00:00<00:00, 197.48it/s]\n"
     ]
    },
    {
     "name": "stdout",
     "output_type": "stream",
     "text": [
      "Dados de metar salvos em metar_part_1.csv\n",
      "Processando parte 2/4\n",
      "Fetching data from http://montreal.icea.decea.mil.br:5002/api/v1/metar?token=a779d04f85c4bf6cfa586d30aaec57c44e9b7173&idate=2022-08-15&fdate=2022-08-16\n",
      "Fetching data from http://montreal.icea.decea.mil.br:5002/api/v1/metar?token=a779d04f85c4bf6cfa586d30aaec57c44e9b7173&idate=2022-08-16&fdate=2022-08-17\n",
      "Fetching data from http://montreal.icea.decea.mil.br:5002/api/v1/metar?token=a779d04f85c4bf6cfa586d30aaec57c44e9b7173&idate=2022-08-17&fdate=2022-08-18\n",
      "Fetching data from http://montreal.icea.decea.mil.br:5002/api/v1/metar?token=a779d04f85c4bf6cfa586d30aaec57c44e9b7173&idate=2022-08-18&fdate=2022-08-19\n",
      "Fetching data from http://montreal.icea.decea.mil.br:5002/api/v1/metar?token=a779d04f85c4bf6cfa586d30aaec57c44e9b7173&idate=2022-08-19&fdate=2022-08-20\n",
      "Fetching data from http://montreal.icea.decea.mil.br:5002/api/v1/metar?token=a779d04f85c4bf6cfa586d30aaec57c44e9b7173&idate=2022-08-20&fdate=2022-08-21\n",
      "Fetching data from http://montreal.icea.decea.mil.br:5002/api/v1/metar?token=a779d04f85c4bf6cfa586d30aaec57c44e9b7173&idate=2022-08-21&fdate=2022-08-22\n",
      "Fetching data from http://montreal.icea.decea.mil.br:5002/api/v1/metar?token=a779d04f85c4bf6cfa586d30aaec57c44e9b7173&idate=2022-08-22&fdate=2022-08-23\n",
      "Fetching data from http://montreal.icea.decea.mil.br:5002/api/v1/metar?token=a779d04f85c4bf6cfa586d30aaec57c44e9b7173&idate=2022-08-23&fdate=2022-08-24\n",
      "Fetching data from http://montreal.icea.decea.mil.br:5002/api/v1/metar?token=a779d04f85c4bf6cfa586d30aaec57c44e9b7173&idate=2022-08-24&fdate=2022-08-25\n"
     ]
    },
    {
     "name": "stderr",
     "output_type": "stream",
     "text": [
      "Carregando dados de metar, Parte 2:   0%|          | 0/106 [00:00<?, ?it/s]"
     ]
    },
    {
     "name": "stdout",
     "output_type": "stream",
     "text": [
      "Fetching data from http://montreal.icea.decea.mil.br:5002/api/v1/metar?token=a779d04f85c4bf6cfa586d30aaec57c44e9b7173&idate=2022-08-25&fdate=2022-08-26\n",
      "Fetching data from http://montreal.icea.decea.mil.br:5002/api/v1/metar?token=a779d04f85c4bf6cfa586d30aaec57c44e9b7173&idate=2022-08-26&fdate=2022-08-27\n",
      "Fetching data from http://montreal.icea.decea.mil.br:5002/api/v1/metar?token=a779d04f85c4bf6cfa586d30aaec57c44e9b7173&idate=2022-08-27&fdate=2022-08-28\n",
      "Fetching data from http://montreal.icea.decea.mil.br:5002/api/v1/metar?token=a779d04f85c4bf6cfa586d30aaec57c44e9b7173&idate=2022-08-28&fdate=2022-08-29\n",
      "Fetching data from http://montreal.icea.decea.mil.br:5002/api/v1/metar?token=a779d04f85c4bf6cfa586d30aaec57c44e9b7173&idate=2022-08-29&fdate=2022-08-30\n",
      "Fetching data from http://montreal.icea.decea.mil.br:5002/api/v1/metar?token=a779d04f85c4bf6cfa586d30aaec57c44e9b7173&idate=2022-08-30&fdate=2022-08-31\n",
      "Fetching data from http://montreal.icea.decea.mil.br:5002/api/v1/metar?token=a779d04f85c4bf6cfa586d30aaec57c44e9b7173&idate=2022-08-31&fdate=2022-09-01\n",
      "Fetching data from http://montreal.icea.decea.mil.br:5002/api/v1/metar?token=a779d04f85c4bf6cfa586d30aaec57c44e9b7173&idate=2022-09-01&fdate=2022-09-02\n",
      "Fetching data from http://montreal.icea.decea.mil.br:5002/api/v1/metar?token=a779d04f85c4bf6cfa586d30aaec57c44e9b7173&idate=2022-09-02&fdate=2022-09-03\n",
      "Fetching data from http://montreal.icea.decea.mil.br:5002/api/v1/metar?token=a779d04f85c4bf6cfa586d30aaec57c44e9b7173&idate=2022-09-03&fdate=2022-09-04\n",
      "Fetching data from http://montreal.icea.decea.mil.br:5002/api/v1/metar?token=a779d04f85c4bf6cfa586d30aaec57c44e9b7173&idate=2022-09-04&fdate=2022-09-05\n",
      "Fetching data from http://montreal.icea.decea.mil.br:5002/api/v1/metar?token=a779d04f85c4bf6cfa586d30aaec57c44e9b7173&idate=2022-09-05&fdate=2022-09-06\n",
      "Fetching data from http://montreal.icea.decea.mil.br:5002/api/v1/metar?token=a779d04f85c4bf6cfa586d30aaec57c44e9b7173&idate=2022-09-06&fdate=2022-09-07\n",
      "Fetching data from http://montreal.icea.decea.mil.br:5002/api/v1/metar?token=a779d04f85c4bf6cfa586d30aaec57c44e9b7173&idate=2022-09-07&fdate=2022-09-08\n",
      "Fetching data from http://montreal.icea.decea.mil.br:5002/api/v1/metar?token=a779d04f85c4bf6cfa586d30aaec57c44e9b7173&idate=2022-09-08&fdate=2022-09-09\n",
      "Fetching data from http://montreal.icea.decea.mil.br:5002/api/v1/metar?token=a779d04f85c4bf6cfa586d30aaec57c44e9b7173&idate=2022-09-09&fdate=2022-09-10\n",
      "Fetching data from http://montreal.icea.decea.mil.br:5002/api/v1/metar?token=a779d04f85c4bf6cfa586d30aaec57c44e9b7173&idate=2022-09-10&fdate=2022-09-11\n",
      "Fetching data from http://montreal.icea.decea.mil.br:5002/api/v1/metar?token=a779d04f85c4bf6cfa586d30aaec57c44e9b7173&idate=2022-09-11&fdate=2022-09-12\n",
      "Fetching data from http://montreal.icea.decea.mil.br:5002/api/v1/metar?token=a779d04f85c4bf6cfa586d30aaec57c44e9b7173&idate=2022-09-12&fdate=2022-09-13\n",
      "Fetching data from http://montreal.icea.decea.mil.br:5002/api/v1/metar?token=a779d04f85c4bf6cfa586d30aaec57c44e9b7173&idate=2022-09-13&fdate=2022-09-14\n",
      "Fetching data from http://montreal.icea.decea.mil.br:5002/api/v1/metar?token=a779d04f85c4bf6cfa586d30aaec57c44e9b7173&idate=2022-09-14&fdate=2022-09-15\n"
     ]
    },
    {
     "name": "stderr",
     "output_type": "stream",
     "text": [
      "Carregando dados de metar, Parte 2:  21%|██        | 22/106 [00:00<00:00, 205.92it/s]"
     ]
    },
    {
     "name": "stdout",
     "output_type": "stream",
     "text": [
      "Fetching data from http://montreal.icea.decea.mil.br:5002/api/v1/metar?token=a779d04f85c4bf6cfa586d30aaec57c44e9b7173&idate=2022-09-15&fdate=2022-09-16\n",
      "Fetching data from http://montreal.icea.decea.mil.br:5002/api/v1/metar?token=a779d04f85c4bf6cfa586d30aaec57c44e9b7173&idate=2022-09-16&fdate=2022-09-17\n",
      "Fetching data from http://montreal.icea.decea.mil.br:5002/api/v1/metar?token=a779d04f85c4bf6cfa586d30aaec57c44e9b7173&idate=2022-09-17&fdate=2022-09-18\n",
      "Fetching data from http://montreal.icea.decea.mil.br:5002/api/v1/metar?token=a779d04f85c4bf6cfa586d30aaec57c44e9b7173&idate=2022-09-18&fdate=2022-09-19\n",
      "Fetching data from http://montreal.icea.decea.mil.br:5002/api/v1/metar?token=a779d04f85c4bf6cfa586d30aaec57c44e9b7173&idate=2022-09-19&fdate=2022-09-20\n",
      "Fetching data from http://montreal.icea.decea.mil.br:5002/api/v1/metar?token=a779d04f85c4bf6cfa586d30aaec57c44e9b7173&idate=2022-09-20&fdate=2022-09-21\n",
      "Fetching data from http://montreal.icea.decea.mil.br:5002/api/v1/metar?token=a779d04f85c4bf6cfa586d30aaec57c44e9b7173&idate=2022-09-21&fdate=2022-09-22\n",
      "Fetching data from http://montreal.icea.decea.mil.br:5002/api/v1/metar?token=a779d04f85c4bf6cfa586d30aaec57c44e9b7173&idate=2022-09-22&fdate=2022-09-23\n",
      "Fetching data from http://montreal.icea.decea.mil.br:5002/api/v1/metar?token=a779d04f85c4bf6cfa586d30aaec57c44e9b7173&idate=2022-09-23&fdate=2022-09-24\n",
      "Fetching data from http://montreal.icea.decea.mil.br:5002/api/v1/metar?token=a779d04f85c4bf6cfa586d30aaec57c44e9b7173&idate=2022-09-24&fdate=2022-09-25\n",
      "Fetching data from http://montreal.icea.decea.mil.br:5002/api/v1/metar?token=a779d04f85c4bf6cfa586d30aaec57c44e9b7173&idate=2022-09-25&fdate=2022-09-26\n",
      "Fetching data from http://montreal.icea.decea.mil.br:5002/api/v1/metar?token=a779d04f85c4bf6cfa586d30aaec57c44e9b7173&idate=2022-09-26&fdate=2022-09-27\n",
      "Fetching data from http://montreal.icea.decea.mil.br:5002/api/v1/metar?token=a779d04f85c4bf6cfa586d30aaec57c44e9b7173&idate=2022-09-27&fdate=2022-09-28\n",
      "Fetching data from http://montreal.icea.decea.mil.br:5002/api/v1/metar?token=a779d04f85c4bf6cfa586d30aaec57c44e9b7173&idate=2022-09-28&fdate=2022-09-29\n",
      "Fetching data from http://montreal.icea.decea.mil.br:5002/api/v1/metar?token=a779d04f85c4bf6cfa586d30aaec57c44e9b7173&idate=2022-09-29&fdate=2022-09-30\n",
      "Fetching data from http://montreal.icea.decea.mil.br:5002/api/v1/metar?token=a779d04f85c4bf6cfa586d30aaec57c44e9b7173&idate=2022-09-30&fdate=2022-10-01\n",
      "Fetching data from http://montreal.icea.decea.mil.br:5002/api/v1/metar?token=a779d04f85c4bf6cfa586d30aaec57c44e9b7173&idate=2022-10-01&fdate=2022-10-02\n",
      "Fetching data from http://montreal.icea.decea.mil.br:5002/api/v1/metar?token=a779d04f85c4bf6cfa586d30aaec57c44e9b7173&idate=2022-10-02&fdate=2022-10-03\n",
      "Fetching data from http://montreal.icea.decea.mil.br:5002/api/v1/metar?token=a779d04f85c4bf6cfa586d30aaec57c44e9b7173&idate=2022-10-03&fdate=2022-10-04\n",
      "Fetching data from http://montreal.icea.decea.mil.br:5002/api/v1/metar?token=a779d04f85c4bf6cfa586d30aaec57c44e9b7173&idate=2022-10-04&fdate=2022-10-05\n",
      "Fetching data from http://montreal.icea.decea.mil.br:5002/api/v1/metar?token=a779d04f85c4bf6cfa586d30aaec57c44e9b7173&idate=2022-10-05&fdate=2022-10-06\n"
     ]
    },
    {
     "name": "stderr",
     "output_type": "stream",
     "text": [
      "Carregando dados de metar, Parte 2:  44%|████▍     | 47/106 [00:00<00:00, 230.22it/s]"
     ]
    },
    {
     "name": "stdout",
     "output_type": "stream",
     "text": [
      "Fetching data from http://montreal.icea.decea.mil.br:5002/api/v1/metar?token=a779d04f85c4bf6cfa586d30aaec57c44e9b7173&idate=2022-10-06&fdate=2022-10-07\n",
      "Fetching data from http://montreal.icea.decea.mil.br:5002/api/v1/metar?token=a779d04f85c4bf6cfa586d30aaec57c44e9b7173&idate=2022-10-07&fdate=2022-10-08\n",
      "Fetching data from http://montreal.icea.decea.mil.br:5002/api/v1/metar?token=a779d04f85c4bf6cfa586d30aaec57c44e9b7173&idate=2022-10-08&fdate=2022-10-09\n",
      "Fetching data from http://montreal.icea.decea.mil.br:5002/api/v1/metar?token=a779d04f85c4bf6cfa586d30aaec57c44e9b7173&idate=2022-10-09&fdate=2022-10-10\n",
      "Fetching data from http://montreal.icea.decea.mil.br:5002/api/v1/metar?token=a779d04f85c4bf6cfa586d30aaec57c44e9b7173&idate=2022-10-10&fdate=2022-10-11\n",
      "Fetching data from http://montreal.icea.decea.mil.br:5002/api/v1/metar?token=a779d04f85c4bf6cfa586d30aaec57c44e9b7173&idate=2022-10-11&fdate=2022-10-12\n",
      "Fetching data from http://montreal.icea.decea.mil.br:5002/api/v1/metar?token=a779d04f85c4bf6cfa586d30aaec57c44e9b7173&idate=2022-10-12&fdate=2022-10-13\n",
      "Fetching data from http://montreal.icea.decea.mil.br:5002/api/v1/metar?token=a779d04f85c4bf6cfa586d30aaec57c44e9b7173&idate=2022-10-13&fdate=2022-10-14\n",
      "Fetching data from http://montreal.icea.decea.mil.br:5002/api/v1/metar?token=a779d04f85c4bf6cfa586d30aaec57c44e9b7173&idate=2022-10-14&fdate=2022-10-15\n",
      "Fetching data from http://montreal.icea.decea.mil.br:5002/api/v1/metar?token=a779d04f85c4bf6cfa586d30aaec57c44e9b7173&idate=2022-10-15&fdate=2022-10-16\n",
      "Fetching data from http://montreal.icea.decea.mil.br:5002/api/v1/metar?token=a779d04f85c4bf6cfa586d30aaec57c44e9b7173&idate=2022-10-16&fdate=2022-10-17\n",
      "Fetching data from http://montreal.icea.decea.mil.br:5002/api/v1/metar?token=a779d04f85c4bf6cfa586d30aaec57c44e9b7173&idate=2022-10-17&fdate=2022-10-18\n",
      "Fetching data from http://montreal.icea.decea.mil.br:5002/api/v1/metar?token=a779d04f85c4bf6cfa586d30aaec57c44e9b7173&idate=2022-10-18&fdate=2022-10-19\n",
      "Fetching data from http://montreal.icea.decea.mil.br:5002/api/v1/metar?token=a779d04f85c4bf6cfa586d30aaec57c44e9b7173&idate=2022-10-19&fdate=2022-10-20\n",
      "Fetching data from http://montreal.icea.decea.mil.br:5002/api/v1/metar?token=a779d04f85c4bf6cfa586d30aaec57c44e9b7173&idate=2022-10-20&fdate=2022-10-21\n",
      "Fetching data from http://montreal.icea.decea.mil.br:5002/api/v1/metar?token=a779d04f85c4bf6cfa586d30aaec57c44e9b7173&idate=2022-10-21&fdate=2022-10-22\n",
      "Fetching data from http://montreal.icea.decea.mil.br:5002/api/v1/metar?token=a779d04f85c4bf6cfa586d30aaec57c44e9b7173&idate=2022-10-22&fdate=2022-10-23\n",
      "Fetching data from http://montreal.icea.decea.mil.br:5002/api/v1/metar?token=a779d04f85c4bf6cfa586d30aaec57c44e9b7173&idate=2022-10-23&fdate=2022-10-24\n",
      "Fetching data from http://montreal.icea.decea.mil.br:5002/api/v1/metar?token=a779d04f85c4bf6cfa586d30aaec57c44e9b7173&idate=2022-10-24&fdate=2022-10-25\n",
      "Fetching data from http://montreal.icea.decea.mil.br:5002/api/v1/metar?token=a779d04f85c4bf6cfa586d30aaec57c44e9b7173&idate=2022-10-25&fdate=2022-10-26\n",
      "Fetching data from http://montreal.icea.decea.mil.br:5002/api/v1/metar?token=a779d04f85c4bf6cfa586d30aaec57c44e9b7173&idate=2022-10-26&fdate=2022-10-27\n",
      "Fetching data from http://montreal.icea.decea.mil.br:5002/api/v1/metar?token=a779d04f85c4bf6cfa586d30aaec57c44e9b7173&idate=2022-10-27&fdate=2022-10-28\n",
      "Fetching data from http://montreal.icea.decea.mil.br:5002/api/v1/metar?token=a779d04f85c4bf6cfa586d30aaec57c44e9b7173&idate=2022-10-28&fdate=2022-10-29\n",
      "Fetching data from http://montreal.icea.decea.mil.br:5002/api/v1/metar?token=a779d04f85c4bf6cfa586d30aaec57c44e9b7173&idate=2022-10-29&fdate=2022-10-30\n",
      "Fetching data from http://montreal.icea.decea.mil.br:5002/api/v1/metar?token=a779d04f85c4bf6cfa586d30aaec57c44e9b7173&idate=2022-10-30&fdate=2022-10-31\n",
      "Fetching data from http://montreal.icea.decea.mil.br:5002/api/v1/metar?token=a779d04f85c4bf6cfa586d30aaec57c44e9b7173&idate=2022-10-31&fdate=2022-11-01\n",
      "Fetching data from http://montreal.icea.decea.mil.br:5002/api/v1/metar?token=a779d04f85c4bf6cfa586d30aaec57c44e9b7173&idate=2022-11-01&fdate=2022-11-02\n"
     ]
    },
    {
     "name": "stderr",
     "output_type": "stream",
     "text": [
      "Carregando dados de metar, Parte 2:  67%|██████▋   | 71/106 [00:00<00:00, 226.40it/s]"
     ]
    },
    {
     "name": "stdout",
     "output_type": "stream",
     "text": [
      "Fetching data from http://montreal.icea.decea.mil.br:5002/api/v1/metar?token=a779d04f85c4bf6cfa586d30aaec57c44e9b7173&idate=2022-11-02&fdate=2022-11-03Fetching data from http://montreal.icea.decea.mil.br:5002/api/v1/metar?token=a779d04f85c4bf6cfa586d30aaec57c44e9b7173&idate=2022-11-03&fdate=2022-11-04\n",
      "Fetching data from http://montreal.icea.decea.mil.br:5002/api/v1/metar?token=a779d04f85c4bf6cfa586d30aaec57c44e9b7173&idate=2022-11-04&fdate=2022-11-05\n",
      "Fetching data from http://montreal.icea.decea.mil.br:5002/api/v1/metar?token=a779d04f85c4bf6cfa586d30aaec57c44e9b7173&idate=2022-11-05&fdate=2022-11-06\n",
      "\n",
      "Fetching data from http://montreal.icea.decea.mil.br:5002/api/v1/metar?token=a779d04f85c4bf6cfa586d30aaec57c44e9b7173&idate=2022-11-06&fdate=2022-11-07\n",
      "Fetching data from http://montreal.icea.decea.mil.br:5002/api/v1/metar?token=a779d04f85c4bf6cfa586d30aaec57c44e9b7173&idate=2022-11-07&fdate=2022-11-08\n",
      "Fetching data from http://montreal.icea.decea.mil.br:5002/api/v1/metar?token=a779d04f85c4bf6cfa586d30aaec57c44e9b7173&idate=2022-11-08&fdate=2022-11-09\n",
      "Fetching data from http://montreal.icea.decea.mil.br:5002/api/v1/metar?token=a779d04f85c4bf6cfa586d30aaec57c44e9b7173&idate=2022-11-09&fdate=2022-11-10\n",
      "Fetching data from http://montreal.icea.decea.mil.br:5002/api/v1/metar?token=a779d04f85c4bf6cfa586d30aaec57c44e9b7173&idate=2022-11-10&fdate=2022-11-11\n",
      "Fetching data from http://montreal.icea.decea.mil.br:5002/api/v1/metar?token=a779d04f85c4bf6cfa586d30aaec57c44e9b7173&idate=2022-11-11&fdate=2022-11-12\n",
      "Fetching data from http://montreal.icea.decea.mil.br:5002/api/v1/metar?token=a779d04f85c4bf6cfa586d30aaec57c44e9b7173&idate=2022-11-12&fdate=2022-11-13\n",
      "Fetching data from http://montreal.icea.decea.mil.br:5002/api/v1/metar?token=a779d04f85c4bf6cfa586d30aaec57c44e9b7173&idate=2022-11-13&fdate=2022-11-14\n",
      "Fetching data from http://montreal.icea.decea.mil.br:5002/api/v1/metar?token=a779d04f85c4bf6cfa586d30aaec57c44e9b7173&idate=2022-11-14&fdate=2022-11-15\n",
      "Fetching data from http://montreal.icea.decea.mil.br:5002/api/v1/metar?token=a779d04f85c4bf6cfa586d30aaec57c44e9b7173&idate=2022-11-15&fdate=2022-11-16\n",
      "Fetching data from http://montreal.icea.decea.mil.br:5002/api/v1/metar?token=a779d04f85c4bf6cfa586d30aaec57c44e9b7173&idate=2022-11-16&fdate=2022-11-17\n",
      "Fetching data from http://montreal.icea.decea.mil.br:5002/api/v1/metar?token=a779d04f85c4bf6cfa586d30aaec57c44e9b7173&idate=2022-11-17&fdate=2022-11-18\n",
      "Fetching data from http://montreal.icea.decea.mil.br:5002/api/v1/metar?token=a779d04f85c4bf6cfa586d30aaec57c44e9b7173&idate=2022-11-18&fdate=2022-11-19\n",
      "Fetching data from http://montreal.icea.decea.mil.br:5002/api/v1/metar?token=a779d04f85c4bf6cfa586d30aaec57c44e9b7173&idate=2022-11-19&fdate=2022-11-20\n",
      "Fetching data from http://montreal.icea.decea.mil.br:5002/api/v1/metar?token=a779d04f85c4bf6cfa586d30aaec57c44e9b7173&idate=2022-11-20&fdate=2022-11-21\n",
      "Fetching data from http://montreal.icea.decea.mil.br:5002/api/v1/metar?token=a779d04f85c4bf6cfa586d30aaec57c44e9b7173&idate=2022-11-21&fdate=2022-11-22\n"
     ]
    },
    {
     "name": "stderr",
     "output_type": "stream",
     "text": [
      "Carregando dados de metar, Parte 2:  89%|████████▊ | 94/106 [00:00<00:00, 225.21it/s]"
     ]
    },
    {
     "name": "stdout",
     "output_type": "stream",
     "text": [
      "Fetching data from http://montreal.icea.decea.mil.br:5002/api/v1/metar?token=a779d04f85c4bf6cfa586d30aaec57c44e9b7173&idate=2022-11-22&fdate=2022-11-23\n",
      "Fetching data from http://montreal.icea.decea.mil.br:5002/api/v1/metar?token=a779d04f85c4bf6cfa586d30aaec57c44e9b7173&idate=2022-11-23&fdate=2022-11-24\n",
      "Fetching data from http://montreal.icea.decea.mil.br:5002/api/v1/metar?token=a779d04f85c4bf6cfa586d30aaec57c44e9b7173&idate=2022-11-24&fdate=2022-11-25\n",
      "Fetching data from http://montreal.icea.decea.mil.br:5002/api/v1/metar?token=a779d04f85c4bf6cfa586d30aaec57c44e9b7173&idate=2022-11-25&fdate=2022-11-26\n",
      "Fetching data from http://montreal.icea.decea.mil.br:5002/api/v1/metar?token=a779d04f85c4bf6cfa586d30aaec57c44e9b7173&idate=2022-11-26&fdate=2022-11-27\n",
      "Fetching data from http://montreal.icea.decea.mil.br:5002/api/v1/metar?token=a779d04f85c4bf6cfa586d30aaec57c44e9b7173&idate=2022-11-27&fdate=2022-11-28\n",
      "Fetching data from http://montreal.icea.decea.mil.br:5002/api/v1/metar?token=a779d04f85c4bf6cfa586d30aaec57c44e9b7173&idate=2022-11-28&fdate=2022-11-29\n"
     ]
    },
    {
     "name": "stderr",
     "output_type": "stream",
     "text": [
      "Carregando dados de metar, Parte 2: 100%|██████████| 106/106 [00:00<00:00, 235.51it/s]"
     ]
    },
    {
     "name": "stdout",
     "output_type": "stream",
     "text": [
      "Dados de metar salvos em metar_part_2.csv\n",
      "Processando parte 3/4\n",
      "Fetching data from http://montreal.icea.decea.mil.br:5002/api/v1/metar?token=a779d04f85c4bf6cfa586d30aaec57c44e9b7173&idate=2022-11-29&fdate=2022-11-30\n",
      "Fetching data from http://montreal.icea.decea.mil.br:5002/api/v1/metar?token=a779d04f85c4bf6cfa586d30aaec57c44e9b7173&idate=2022-11-30&fdate=2022-12-01\n",
      "Fetching data from http://montreal.icea.decea.mil.br:5002/api/v1/metar?token=a779d04f85c4bf6cfa586d30aaec57c44e9b7173&idate=2022-12-01&fdate=2022-12-02\n",
      "Fetching data from http://montreal.icea.decea.mil.br:5002/api/v1/metar?token=a779d04f85c4bf6cfa586d30aaec57c44e9b7173&idate=2022-12-02&fdate=2022-12-03\n",
      "Fetching data from http://montreal.icea.decea.mil.br:5002/api/v1/metar?token=a779d04f85c4bf6cfa586d30aaec57c44e9b7173&idate=2022-12-03&fdate=2022-12-04\n",
      "Fetching data from http://montreal.icea.decea.mil.br:5002/api/v1/metar?token=a779d04f85c4bf6cfa586d30aaec57c44e9b7173&idate=2022-12-04&fdate=2022-12-05\n"
     ]
    },
    {
     "name": "stderr",
     "output_type": "stream",
     "text": [
      "\n"
     ]
    },
    {
     "name": "stdout",
     "output_type": "stream",
     "text": [
      "Fetching data from http://montreal.icea.decea.mil.br:5002/api/v1/metar?token=a779d04f85c4bf6cfa586d30aaec57c44e9b7173&idate=2022-12-05&fdate=2022-12-06\n",
      "Fetching data from http://montreal.icea.decea.mil.br:5002/api/v1/metar?token=a779d04f85c4bf6cfa586d30aaec57c44e9b7173&idate=2022-12-06&fdate=2022-12-07\n",
      "Fetching data from http://montreal.icea.decea.mil.br:5002/api/v1/metar?token=a779d04f85c4bf6cfa586d30aaec57c44e9b7173&idate=2022-12-07&fdate=2022-12-08\n",
      "Fetching data from http://montreal.icea.decea.mil.br:5002/api/v1/metar?token=a779d04f85c4bf6cfa586d30aaec57c44e9b7173&idate=2022-12-08&fdate=2022-12-09\n"
     ]
    },
    {
     "name": "stderr",
     "output_type": "stream",
     "text": [
      "Carregando dados de metar, Parte 3:   0%|          | 0/106 [00:00<?, ?it/s]"
     ]
    },
    {
     "name": "stdout",
     "output_type": "stream",
     "text": [
      "Fetching data from http://montreal.icea.decea.mil.br:5002/api/v1/metar?token=a779d04f85c4bf6cfa586d30aaec57c44e9b7173&idate=2022-12-09&fdate=2022-12-10\n",
      "Fetching data from http://montreal.icea.decea.mil.br:5002/api/v1/metar?token=a779d04f85c4bf6cfa586d30aaec57c44e9b7173&idate=2022-12-10&fdate=2022-12-11\n",
      "Fetching data from http://montreal.icea.decea.mil.br:5002/api/v1/metar?token=a779d04f85c4bf6cfa586d30aaec57c44e9b7173&idate=2022-12-11&fdate=2022-12-12\n",
      "Fetching data from http://montreal.icea.decea.mil.br:5002/api/v1/metar?token=a779d04f85c4bf6cfa586d30aaec57c44e9b7173&idate=2022-12-12&fdate=2022-12-13\n",
      "Fetching data from http://montreal.icea.decea.mil.br:5002/api/v1/metar?token=a779d04f85c4bf6cfa586d30aaec57c44e9b7173&idate=2022-12-13&fdate=2022-12-14\n",
      "Fetching data from http://montreal.icea.decea.mil.br:5002/api/v1/metar?token=a779d04f85c4bf6cfa586d30aaec57c44e9b7173&idate=2022-12-14&fdate=2022-12-15\n",
      "Fetching data from http://montreal.icea.decea.mil.br:5002/api/v1/metar?token=a779d04f85c4bf6cfa586d30aaec57c44e9b7173&idate=2022-12-15&fdate=2022-12-16\n",
      "Fetching data from http://montreal.icea.decea.mil.br:5002/api/v1/metar?token=a779d04f85c4bf6cfa586d30aaec57c44e9b7173&idate=2022-12-16&fdate=2022-12-17\n",
      "Fetching data from http://montreal.icea.decea.mil.br:5002/api/v1/metar?token=a779d04f85c4bf6cfa586d30aaec57c44e9b7173&idate=2022-12-17&fdate=2022-12-18\n",
      "Fetching data from http://montreal.icea.decea.mil.br:5002/api/v1/metar?token=a779d04f85c4bf6cfa586d30aaec57c44e9b7173&idate=2022-12-18&fdate=2022-12-19\n",
      "Fetching data from http://montreal.icea.decea.mil.br:5002/api/v1/metar?token=a779d04f85c4bf6cfa586d30aaec57c44e9b7173&idate=2022-12-19&fdate=2022-12-20\n",
      "Fetching data from http://montreal.icea.decea.mil.br:5002/api/v1/metar?token=a779d04f85c4bf6cfa586d30aaec57c44e9b7173&idate=2022-12-20&fdate=2022-12-21\n",
      "Fetching data from http://montreal.icea.decea.mil.br:5002/api/v1/metar?token=a779d04f85c4bf6cfa586d30aaec57c44e9b7173&idate=2022-12-21&fdate=2022-12-22\n",
      "Fetching data from http://montreal.icea.decea.mil.br:5002/api/v1/metar?token=a779d04f85c4bf6cfa586d30aaec57c44e9b7173&idate=2022-12-22&fdate=2022-12-23\n",
      "Fetching data from http://montreal.icea.decea.mil.br:5002/api/v1/metar?token=a779d04f85c4bf6cfa586d30aaec57c44e9b7173&idate=2022-12-23&fdate=2022-12-24\n",
      "Fetching data from http://montreal.icea.decea.mil.br:5002/api/v1/metar?token=a779d04f85c4bf6cfa586d30aaec57c44e9b7173&idate=2022-12-24&fdate=2022-12-25\n",
      "Fetching data from http://montreal.icea.decea.mil.br:5002/api/v1/metar?token=a779d04f85c4bf6cfa586d30aaec57c44e9b7173&idate=2022-12-25&fdate=2022-12-26\n",
      "Fetching data from http://montreal.icea.decea.mil.br:5002/api/v1/metar?token=a779d04f85c4bf6cfa586d30aaec57c44e9b7173&idate=2022-12-26&fdate=2022-12-27\n",
      "Fetching data from http://montreal.icea.decea.mil.br:5002/api/v1/metar?token=a779d04f85c4bf6cfa586d30aaec57c44e9b7173&idate=2022-12-27&fdate=2022-12-28\n",
      "Fetching data from http://montreal.icea.decea.mil.br:5002/api/v1/metar?token=a779d04f85c4bf6cfa586d30aaec57c44e9b7173&idate=2022-12-28&fdate=2022-12-29\n",
      "Fetching data from http://montreal.icea.decea.mil.br:5002/api/v1/metar?token=a779d04f85c4bf6cfa586d30aaec57c44e9b7173&idate=2022-12-29&fdate=2022-12-30\n",
      "Fetching data from http://montreal.icea.decea.mil.br:5002/api/v1/metar?token=a779d04f85c4bf6cfa586d30aaec57c44e9b7173&idate=2022-12-30&fdate=2022-12-31\n",
      "Fetching data from http://montreal.icea.decea.mil.br:5002/api/v1/metar?token=a779d04f85c4bf6cfa586d30aaec57c44e9b7173&idate=2022-12-31&fdate=2023-01-01\n",
      "Fetching data from http://montreal.icea.decea.mil.br:5002/api/v1/metar?token=a779d04f85c4bf6cfa586d30aaec57c44e9b7173&idate=2023-01-01&fdate=2023-01-02\n",
      "Fetching data from http://montreal.icea.decea.mil.br:5002/api/v1/metar?token=a779d04f85c4bf6cfa586d30aaec57c44e9b7173&idate=2023-01-02&fdate=2023-01-03Fetching data from http://montreal.icea.decea.mil.br:5002/api/v1/metar?token=a779d04f85c4bf6cfa586d30aaec57c44e9b7173&idate=2023-01-03&fdate=2023-01-04\n",
      "Fetching data from http://montreal.icea.decea.mil.br:5002/api/v1/metar?token=a779d04f85c4bf6cfa586d30aaec57c44e9b7173&idate=2023-01-04&fdate=2023-01-05\n",
      "Fetching data from http://montreal.icea.decea.mil.br:5002/api/v1/metar?token=a779d04f85c4bf6cfa586d30aaec57c44e9b7173&idate=2023-01-05&fdate=2023-01-06\n",
      "Fetching data from http://montreal.icea.decea.mil.br:5002/api/v1/metar?token=a779d04f85c4bf6cfa586d30aaec57c44e9b7173&idate=2023-01-06&fdate=2023-01-07\n",
      "Fetching data from http://montreal.icea.decea.mil.br:5002/api/v1/metar?token=a779d04f85c4bf6cfa586d30aaec57c44e9b7173&idate=2023-01-07&fdate=2023-01-08\n",
      "\n",
      "Fetching data from http://montreal.icea.decea.mil.br:5002/api/v1/metar?token=a779d04f85c4bf6cfa586d30aaec57c44e9b7173&idate=2023-01-08&fdate=2023-01-09\n",
      "Fetching data from http://montreal.icea.decea.mil.br:5002/api/v1/metar?token=a779d04f85c4bf6cfa586d30aaec57c44e9b7173&idate=2023-01-09&fdate=2023-01-10\n",
      "Fetching data from http://montreal.icea.decea.mil.br:5002/api/v1/metar?token=a779d04f85c4bf6cfa586d30aaec57c44e9b7173&idate=2023-01-10&fdate=2023-01-11\n",
      "Fetching data from http://montreal.icea.decea.mil.br:5002/api/v1/metar?token=a779d04f85c4bf6cfa586d30aaec57c44e9b7173&idate=2023-01-11&fdate=2023-01-12\n"
     ]
    },
    {
     "name": "stderr",
     "output_type": "stream",
     "text": [
      "Carregando dados de metar, Parte 3:  24%|██▎       | 25/106 [00:00<00:00, 120.08it/s]"
     ]
    },
    {
     "name": "stdout",
     "output_type": "stream",
     "text": [
      "Fetching data from http://montreal.icea.decea.mil.br:5002/api/v1/metar?token=a779d04f85c4bf6cfa586d30aaec57c44e9b7173&idate=2023-01-12&fdate=2023-01-13\n",
      "Fetching data from http://montreal.icea.decea.mil.br:5002/api/v1/metar?token=a779d04f85c4bf6cfa586d30aaec57c44e9b7173&idate=2023-01-13&fdate=2023-01-14\n",
      "Fetching data from http://montreal.icea.decea.mil.br:5002/api/v1/metar?token=a779d04f85c4bf6cfa586d30aaec57c44e9b7173&idate=2023-01-14&fdate=2023-01-15\n",
      "Fetching data from http://montreal.icea.decea.mil.br:5002/api/v1/metar?token=a779d04f85c4bf6cfa586d30aaec57c44e9b7173&idate=2023-01-15&fdate=2023-01-16\n",
      "Fetching data from http://montreal.icea.decea.mil.br:5002/api/v1/metar?token=a779d04f85c4bf6cfa586d30aaec57c44e9b7173&idate=2023-01-16&fdate=2023-01-17\n",
      "Fetching data from http://montreal.icea.decea.mil.br:5002/api/v1/metar?token=a779d04f85c4bf6cfa586d30aaec57c44e9b7173&idate=2023-01-17&fdate=2023-01-18\n",
      "Fetching data from http://montreal.icea.decea.mil.br:5002/api/v1/metar?token=a779d04f85c4bf6cfa586d30aaec57c44e9b7173&idate=2023-01-18&fdate=2023-01-19\n",
      "Fetching data from http://montreal.icea.decea.mil.br:5002/api/v1/metar?token=a779d04f85c4bf6cfa586d30aaec57c44e9b7173&idate=2023-01-19&fdate=2023-01-20\n"
     ]
    },
    {
     "name": "stderr",
     "output_type": "stream",
     "text": [
      "Carregando dados de metar, Parte 3:  58%|█████▊    | 61/106 [00:00<00:00, 213.76it/s]"
     ]
    },
    {
     "name": "stdout",
     "output_type": "stream",
     "text": [
      "Fetching data from http://montreal.icea.decea.mil.br:5002/api/v1/metar?token=a779d04f85c4bf6cfa586d30aaec57c44e9b7173&idate=2023-01-20&fdate=2023-01-21\n",
      "Fetching data from http://montreal.icea.decea.mil.br:5002/api/v1/metar?token=a779d04f85c4bf6cfa586d30aaec57c44e9b7173&idate=2023-01-21&fdate=2023-01-22\n",
      "Fetching data from http://montreal.icea.decea.mil.br:5002/api/v1/metar?token=a779d04f85c4bf6cfa586d30aaec57c44e9b7173&idate=2023-01-22&fdate=2023-01-23\n",
      "Fetching data from http://montreal.icea.decea.mil.br:5002/api/v1/metar?token=a779d04f85c4bf6cfa586d30aaec57c44e9b7173&idate=2023-01-23&fdate=2023-01-24\n",
      "Fetching data from http://montreal.icea.decea.mil.br:5002/api/v1/metar?token=a779d04f85c4bf6cfa586d30aaec57c44e9b7173&idate=2023-01-24&fdate=2023-01-25\n",
      "Fetching data from http://montreal.icea.decea.mil.br:5002/api/v1/metar?token=a779d04f85c4bf6cfa586d30aaec57c44e9b7173&idate=2023-01-25&fdate=2023-01-26\n",
      "Fetching data from http://montreal.icea.decea.mil.br:5002/api/v1/metar?token=a779d04f85c4bf6cfa586d30aaec57c44e9b7173&idate=2023-01-26&fdate=2023-01-27\n",
      "Fetching data from http://montreal.icea.decea.mil.br:5002/api/v1/metar?token=a779d04f85c4bf6cfa586d30aaec57c44e9b7173&idate=2023-01-27&fdate=2023-01-28\n",
      "Fetching data from http://montreal.icea.decea.mil.br:5002/api/v1/metar?token=a779d04f85c4bf6cfa586d30aaec57c44e9b7173&idate=2023-01-28&fdate=2023-01-29\n",
      "Fetching data from http://montreal.icea.decea.mil.br:5002/api/v1/metar?token=a779d04f85c4bf6cfa586d30aaec57c44e9b7173&idate=2023-01-29&fdate=2023-01-30\n",
      "Fetching data from http://montreal.icea.decea.mil.br:5002/api/v1/metar?token=a779d04f85c4bf6cfa586d30aaec57c44e9b7173&idate=2023-01-30&fdate=2023-01-31\n",
      "Fetching data from http://montreal.icea.decea.mil.br:5002/api/v1/metar?token=a779d04f85c4bf6cfa586d30aaec57c44e9b7173&idate=2023-01-31&fdate=2023-02-01\n",
      "Fetching data from http://montreal.icea.decea.mil.br:5002/api/v1/metar?token=a779d04f85c4bf6cfa586d30aaec57c44e9b7173&idate=2023-02-01&fdate=2023-02-02\n",
      "Fetching data from http://montreal.icea.decea.mil.br:5002/api/v1/metar?token=a779d04f85c4bf6cfa586d30aaec57c44e9b7173&idate=2023-02-02&fdate=2023-02-03\n",
      "Fetching data from http://montreal.icea.decea.mil.br:5002/api/v1/metar?token=a779d04f85c4bf6cfa586d30aaec57c44e9b7173&idate=2023-02-03&fdate=2023-02-04\n",
      "Fetching data from http://montreal.icea.decea.mil.br:5002/api/v1/metar?token=a779d04f85c4bf6cfa586d30aaec57c44e9b7173&idate=2023-02-04&fdate=2023-02-05\n",
      "Fetching data from http://montreal.icea.decea.mil.br:5002/api/v1/metar?token=a779d04f85c4bf6cfa586d30aaec57c44e9b7173&idate=2023-02-05&fdate=2023-02-06\n",
      "Fetching data from http://montreal.icea.decea.mil.br:5002/api/v1/metar?token=a779d04f85c4bf6cfa586d30aaec57c44e9b7173&idate=2023-02-06&fdate=2023-02-07\n",
      "Fetching data from http://montreal.icea.decea.mil.br:5002/api/v1/metar?token=a779d04f85c4bf6cfa586d30aaec57c44e9b7173&idate=2023-02-07&fdate=2023-02-08\n",
      "Fetching data from http://montreal.icea.decea.mil.br:5002/api/v1/metar?token=a779d04f85c4bf6cfa586d30aaec57c44e9b7173&idate=2023-02-08&fdate=2023-02-09\n",
      "Fetching data from http://montreal.icea.decea.mil.br:5002/api/v1/metar?token=a779d04f85c4bf6cfa586d30aaec57c44e9b7173&idate=2023-02-09&fdate=2023-02-10\n",
      "Fetching data from http://montreal.icea.decea.mil.br:5002/api/v1/metar?token=a779d04f85c4bf6cfa586d30aaec57c44e9b7173&idate=2023-02-10&fdate=2023-02-11\n",
      "Fetching data from http://montreal.icea.decea.mil.br:5002/api/v1/metar?token=a779d04f85c4bf6cfa586d30aaec57c44e9b7173&idate=2023-02-11&fdate=2023-02-12\n",
      "Fetching data from http://montreal.icea.decea.mil.br:5002/api/v1/metar?token=a779d04f85c4bf6cfa586d30aaec57c44e9b7173&idate=2023-02-12&fdate=2023-02-13\n",
      "Fetching data from http://montreal.icea.decea.mil.br:5002/api/v1/metar?token=a779d04f85c4bf6cfa586d30aaec57c44e9b7173&idate=2023-02-13&fdate=2023-02-14\n",
      "Fetching data from http://montreal.icea.decea.mil.br:5002/api/v1/metar?token=a779d04f85c4bf6cfa586d30aaec57c44e9b7173&idate=2023-02-14&fdate=2023-02-15\n",
      "Fetching data from http://montreal.icea.decea.mil.br:5002/api/v1/metar?token=a779d04f85c4bf6cfa586d30aaec57c44e9b7173&idate=2023-02-15&fdate=2023-02-16\n",
      "Fetching data from http://montreal.icea.decea.mil.br:5002/api/v1/metar?token=a779d04f85c4bf6cfa586d30aaec57c44e9b7173&idate=2023-02-16&fdate=2023-02-17\n",
      "Fetching data from http://montreal.icea.decea.mil.br:5002/api/v1/metar?token=a779d04f85c4bf6cfa586d30aaec57c44e9b7173&idate=2023-02-17&fdate=2023-02-18\n",
      "Fetching data from http://montreal.icea.decea.mil.br:5002/api/v1/metar?token=a779d04f85c4bf6cfa586d30aaec57c44e9b7173&idate=2023-02-18&fdate=2023-02-19\n",
      "Fetching data from http://montreal.icea.decea.mil.br:5002/api/v1/metar?token=a779d04f85c4bf6cfa586d30aaec57c44e9b7173&idate=2023-02-19&fdate=2023-02-20\n",
      "Fetching data from http://montreal.icea.decea.mil.br:5002/api/v1/metar?token=a779d04f85c4bf6cfa586d30aaec57c44e9b7173&idate=2023-02-20&fdate=2023-02-21\n",
      "Fetching data from http://montreal.icea.decea.mil.br:5002/api/v1/metar?token=a779d04f85c4bf6cfa586d30aaec57c44e9b7173&idate=2023-02-21&fdate=2023-02-22\n",
      "Fetching data from http://montreal.icea.decea.mil.br:5002/api/v1/metar?token=a779d04f85c4bf6cfa586d30aaec57c44e9b7173&idate=2023-02-22&fdate=2023-02-23\n",
      "Fetching data from http://montreal.icea.decea.mil.br:5002/api/v1/metar?token=a779d04f85c4bf6cfa586d30aaec57c44e9b7173&idate=2023-02-23&fdate=2023-02-24\n",
      "Fetching data from http://montreal.icea.decea.mil.br:5002/api/v1/metar?token=a779d04f85c4bf6cfa586d30aaec57c44e9b7173&idate=2023-02-24&fdate=2023-02-25\n",
      "Fetching data from http://montreal.icea.decea.mil.br:5002/api/v1/metar?token=a779d04f85c4bf6cfa586d30aaec57c44e9b7173&idate=2023-02-25&fdate=2023-02-26\n",
      "Fetching data from http://montreal.icea.decea.mil.br:5002/api/v1/metar?token=a779d04f85c4bf6cfa586d30aaec57c44e9b7173&idate=2023-02-26&fdate=2023-02-27\n",
      "Fetching data from http://montreal.icea.decea.mil.br:5002/api/v1/metar?token=a779d04f85c4bf6cfa586d30aaec57c44e9b7173&idate=2023-02-27&fdate=2023-02-28\n",
      "Fetching data from http://montreal.icea.decea.mil.br:5002/api/v1/metar?token=a779d04f85c4bf6cfa586d30aaec57c44e9b7173&idate=2023-02-28&fdate=2023-03-01\n",
      "Fetching data from http://montreal.icea.decea.mil.br:5002/api/v1/metar?token=a779d04f85c4bf6cfa586d30aaec57c44e9b7173&idate=2023-03-01&fdate=2023-03-02\n",
      "Fetching data from http://montreal.icea.decea.mil.br:5002/api/v1/metar?token=a779d04f85c4bf6cfa586d30aaec57c44e9b7173&idate=2023-03-02&fdate=2023-03-03\n",
      "Fetching data from http://montreal.icea.decea.mil.br:5002/api/v1/metar?token=a779d04f85c4bf6cfa586d30aaec57c44e9b7173&idate=2023-03-03&fdate=2023-03-04\n",
      "Fetching data from http://montreal.icea.decea.mil.br:5002/api/v1/metar?token=a779d04f85c4bf6cfa586d30aaec57c44e9b7173&idate=2023-03-04&fdate=2023-03-05\n",
      "Fetching data from http://montreal.icea.decea.mil.br:5002/api/v1/metar?token=a779d04f85c4bf6cfa586d30aaec57c44e9b7173&idate=2023-03-05&fdate=2023-03-06\n",
      "Fetching data from http://montreal.icea.decea.mil.br:5002/api/v1/metar?token=a779d04f85c4bf6cfa586d30aaec57c44e9b7173&idate=2023-03-06&fdate=2023-03-07\n"
     ]
    },
    {
     "name": "stderr",
     "output_type": "stream",
     "text": [
      "Carregando dados de metar, Parte 3:  85%|████████▍ | 90/106 [00:00<00:00, 235.89it/s]"
     ]
    },
    {
     "name": "stdout",
     "output_type": "stream",
     "text": [
      "Fetching data from http://montreal.icea.decea.mil.br:5002/api/v1/metar?token=a779d04f85c4bf6cfa586d30aaec57c44e9b7173&idate=2023-03-07&fdate=2023-03-08\n",
      "Fetching data from http://montreal.icea.decea.mil.br:5002/api/v1/metar?token=a779d04f85c4bf6cfa586d30aaec57c44e9b7173&idate=2023-03-08&fdate=2023-03-09\n",
      "Fetching data from http://montreal.icea.decea.mil.br:5002/api/v1/metar?token=a779d04f85c4bf6cfa586d30aaec57c44e9b7173&idate=2023-03-09&fdate=2023-03-10\n",
      "Fetching data from http://montreal.icea.decea.mil.br:5002/api/v1/metar?token=a779d04f85c4bf6cfa586d30aaec57c44e9b7173&idate=2023-03-10&fdate=2023-03-11\n",
      "Fetching data from http://montreal.icea.decea.mil.br:5002/api/v1/metar?token=a779d04f85c4bf6cfa586d30aaec57c44e9b7173&idate=2023-03-11&fdate=2023-03-12\n",
      "Fetching data from http://montreal.icea.decea.mil.br:5002/api/v1/metar?token=a779d04f85c4bf6cfa586d30aaec57c44e9b7173&idate=2023-03-12&fdate=2023-03-13\n",
      "Fetching data from http://montreal.icea.decea.mil.br:5002/api/v1/metar?token=a779d04f85c4bf6cfa586d30aaec57c44e9b7173&idate=2023-03-13&fdate=2023-03-14\n",
      "Fetching data from http://montreal.icea.decea.mil.br:5002/api/v1/metar?token=a779d04f85c4bf6cfa586d30aaec57c44e9b7173&idate=2023-03-14&fdate=2023-03-15\n"
     ]
    },
    {
     "name": "stderr",
     "output_type": "stream",
     "text": [
      "Carregando dados de metar, Parte 3: 100%|██████████| 106/106 [00:00<00:00, 224.04it/s]\n"
     ]
    },
    {
     "name": "stdout",
     "output_type": "stream",
     "text": [
      "Dados de metar salvos em metar_part_3.csv\n",
      "Processando parte 4/4\n",
      "Fetching data from http://montreal.icea.decea.mil.br:5002/api/v1/metar?token=a779d04f85c4bf6cfa586d30aaec57c44e9b7173&idate=2023-03-15&fdate=2023-03-16\n",
      "Fetching data from http://montreal.icea.decea.mil.br:5002/api/v1/metar?token=a779d04f85c4bf6cfa586d30aaec57c44e9b7173&idate=2023-03-16&fdate=2023-03-17\n",
      "Fetching data from http://montreal.icea.decea.mil.br:5002/api/v1/metar?token=a779d04f85c4bf6cfa586d30aaec57c44e9b7173&idate=2023-03-17&fdate=2023-03-18\n",
      "Fetching data from http://montreal.icea.decea.mil.br:5002/api/v1/metar?token=a779d04f85c4bf6cfa586d30aaec57c44e9b7173&idate=2023-03-18&fdate=2023-03-19\n",
      "Fetching data from http://montreal.icea.decea.mil.br:5002/api/v1/metar?token=a779d04f85c4bf6cfa586d30aaec57c44e9b7173&idate=2023-03-19&fdate=2023-03-20\n",
      "Fetching data from http://montreal.icea.decea.mil.br:5002/api/v1/metar?token=a779d04f85c4bf6cfa586d30aaec57c44e9b7173&idate=2023-03-20&fdate=2023-03-21\n",
      "Fetching data from http://montreal.icea.decea.mil.br:5002/api/v1/metar?token=a779d04f85c4bf6cfa586d30aaec57c44e9b7173&idate=2023-03-21&fdate=2023-03-22\n",
      "Fetching data from http://montreal.icea.decea.mil.br:5002/api/v1/metar?token=a779d04f85c4bf6cfa586d30aaec57c44e9b7173&idate=2023-03-22&fdate=2023-03-23\n",
      "Fetching data from http://montreal.icea.decea.mil.br:5002/api/v1/metar?token=a779d04f85c4bf6cfa586d30aaec57c44e9b7173&idate=2023-03-23&fdate=2023-03-24\n",
      "Fetching data from http://montreal.icea.decea.mil.br:5002/api/v1/metar?token=a779d04f85c4bf6cfa586d30aaec57c44e9b7173&idate=2023-03-24&fdate=2023-03-25\n"
     ]
    },
    {
     "name": "stderr",
     "output_type": "stream",
     "text": [
      "Carregando dados de metar, Parte 4:  14%|█▍        | 15/109 [00:00<00:00, 148.12it/s]"
     ]
    },
    {
     "name": "stdout",
     "output_type": "stream",
     "text": [
      "Fetching data from http://montreal.icea.decea.mil.br:5002/api/v1/metar?token=a779d04f85c4bf6cfa586d30aaec57c44e9b7173&idate=2023-03-25&fdate=2023-03-26\n",
      "Fetching data from http://montreal.icea.decea.mil.br:5002/api/v1/metar?token=a779d04f85c4bf6cfa586d30aaec57c44e9b7173&idate=2023-03-26&fdate=2023-03-27\n",
      "Fetching data from http://montreal.icea.decea.mil.br:5002/api/v1/metar?token=a779d04f85c4bf6cfa586d30aaec57c44e9b7173&idate=2023-03-27&fdate=2023-03-28\n",
      "Fetching data from http://montreal.icea.decea.mil.br:5002/api/v1/metar?token=a779d04f85c4bf6cfa586d30aaec57c44e9b7173&idate=2023-03-28&fdate=2023-03-29\n",
      "Fetching data from http://montreal.icea.decea.mil.br:5002/api/v1/metar?token=a779d04f85c4bf6cfa586d30aaec57c44e9b7173&idate=2023-03-29&fdate=2023-03-30\n",
      "Fetching data from http://montreal.icea.decea.mil.br:5002/api/v1/metar?token=a779d04f85c4bf6cfa586d30aaec57c44e9b7173&idate=2023-03-30&fdate=2023-03-31\n",
      "Fetching data from http://montreal.icea.decea.mil.br:5002/api/v1/metar?token=a779d04f85c4bf6cfa586d30aaec57c44e9b7173&idate=2023-03-31&fdate=2023-04-01\n",
      "Fetching data from http://montreal.icea.decea.mil.br:5002/api/v1/metar?token=a779d04f85c4bf6cfa586d30aaec57c44e9b7173&idate=2023-04-01&fdate=2023-04-02\n",
      "Fetching data from http://montreal.icea.decea.mil.br:5002/api/v1/metar?token=a779d04f85c4bf6cfa586d30aaec57c44e9b7173&idate=2023-04-02&fdate=2023-04-03\n",
      "Fetching data from http://montreal.icea.decea.mil.br:5002/api/v1/metar?token=a779d04f85c4bf6cfa586d30aaec57c44e9b7173&idate=2023-04-03&fdate=2023-04-04\n",
      "Fetching data from http://montreal.icea.decea.mil.br:5002/api/v1/metar?token=a779d04f85c4bf6cfa586d30aaec57c44e9b7173&idate=2023-04-04&fdate=2023-04-05\n",
      "Fetching data from http://montreal.icea.decea.mil.br:5002/api/v1/metar?token=a779d04f85c4bf6cfa586d30aaec57c44e9b7173&idate=2023-04-05&fdate=2023-04-06\n",
      "Fetching data from http://montreal.icea.decea.mil.br:5002/api/v1/metar?token=a779d04f85c4bf6cfa586d30aaec57c44e9b7173&idate=2023-04-06&fdate=2023-04-07\n",
      "Fetching data from http://montreal.icea.decea.mil.br:5002/api/v1/metar?token=a779d04f85c4bf6cfa586d30aaec57c44e9b7173&idate=2023-04-07&fdate=2023-04-08\n",
      "Fetching data from http://montreal.icea.decea.mil.br:5002/api/v1/metar?token=a779d04f85c4bf6cfa586d30aaec57c44e9b7173&idate=2023-04-08&fdate=2023-04-09\n",
      "Fetching data from http://montreal.icea.decea.mil.br:5002/api/v1/metar?token=a779d04f85c4bf6cfa586d30aaec57c44e9b7173&idate=2023-04-09&fdate=2023-04-10\n",
      "Fetching data from http://montreal.icea.decea.mil.br:5002/api/v1/metar?token=a779d04f85c4bf6cfa586d30aaec57c44e9b7173&idate=2023-04-10&fdate=2023-04-11\n",
      "Fetching data from http://montreal.icea.decea.mil.br:5002/api/v1/metar?token=a779d04f85c4bf6cfa586d30aaec57c44e9b7173&idate=2023-04-11&fdate=2023-04-12\n",
      "Fetching data from http://montreal.icea.decea.mil.br:5002/api/v1/metar?token=a779d04f85c4bf6cfa586d30aaec57c44e9b7173&idate=2023-04-12&fdate=2023-04-13\n",
      "Fetching data from http://montreal.icea.decea.mil.br:5002/api/v1/metar?token=a779d04f85c4bf6cfa586d30aaec57c44e9b7173&idate=2023-04-13&fdate=2023-04-14\n",
      "Fetching data from http://montreal.icea.decea.mil.br:5002/api/v1/metar?token=a779d04f85c4bf6cfa586d30aaec57c44e9b7173&idate=2023-04-14&fdate=2023-04-15\n",
      "Fetching data from http://montreal.icea.decea.mil.br:5002/api/v1/metar?token=a779d04f85c4bf6cfa586d30aaec57c44e9b7173&idate=2023-04-15&fdate=2023-04-16\n",
      "Fetching data from http://montreal.icea.decea.mil.br:5002/api/v1/metar?token=a779d04f85c4bf6cfa586d30aaec57c44e9b7173&idate=2023-04-16&fdate=2023-04-17\n",
      "Fetching data from http://montreal.icea.decea.mil.br:5002/api/v1/metar?token=a779d04f85c4bf6cfa586d30aaec57c44e9b7173&idate=2023-04-17&fdate=2023-04-18\n",
      "Fetching data from http://montreal.icea.decea.mil.br:5002/api/v1/metar?token=a779d04f85c4bf6cfa586d30aaec57c44e9b7173&idate=2023-04-18&fdate=2023-04-19\n",
      "Fetching data from http://montreal.icea.decea.mil.br:5002/api/v1/metar?token=a779d04f85c4bf6cfa586d30aaec57c44e9b7173&idate=2023-04-19&fdate=2023-04-20\n",
      "Fetching data from http://montreal.icea.decea.mil.br:5002/api/v1/metar?token=a779d04f85c4bf6cfa586d30aaec57c44e9b7173&idate=2023-04-20&fdate=2023-04-21\n",
      "Fetching data from http://montreal.icea.decea.mil.br:5002/api/v1/metar?token=a779d04f85c4bf6cfa586d30aaec57c44e9b7173&idate=2023-04-21&fdate=2023-04-22\n",
      "Fetching data from http://montreal.icea.decea.mil.br:5002/api/v1/metar?token=a779d04f85c4bf6cfa586d30aaec57c44e9b7173&idate=2023-04-22&fdate=2023-04-23\n",
      "Fetching data from http://montreal.icea.decea.mil.br:5002/api/v1/metar?token=a779d04f85c4bf6cfa586d30aaec57c44e9b7173&idate=2023-04-23&fdate=2023-04-24\n",
      "Fetching data from http://montreal.icea.decea.mil.br:5002/api/v1/metar?token=a779d04f85c4bf6cfa586d30aaec57c44e9b7173&idate=2023-04-24&fdate=2023-04-25\n",
      "Fetching data from http://montreal.icea.decea.mil.br:5002/api/v1/metar?token=a779d04f85c4bf6cfa586d30aaec57c44e9b7173&idate=2023-04-25&fdate=2023-04-26\n",
      "Fetching data from http://montreal.icea.decea.mil.br:5002/api/v1/metar?token=a779d04f85c4bf6cfa586d30aaec57c44e9b7173&idate=2023-04-26&fdate=2023-04-27\n",
      "Fetching data from http://montreal.icea.decea.mil.br:5002/api/v1/metar?token=a779d04f85c4bf6cfa586d30aaec57c44e9b7173&idate=2023-04-27&fdate=2023-04-28\n",
      "Fetching data from http://montreal.icea.decea.mil.br:5002/api/v1/metar?token=a779d04f85c4bf6cfa586d30aaec57c44e9b7173&idate=2023-04-28&fdate=2023-04-29\n",
      "Fetching data from http://montreal.icea.decea.mil.br:5002/api/v1/metar?token=a779d04f85c4bf6cfa586d30aaec57c44e9b7173&idate=2023-04-29&fdate=2023-04-30\n",
      "Fetching data from http://montreal.icea.decea.mil.br:5002/api/v1/metar?token=a779d04f85c4bf6cfa586d30aaec57c44e9b7173&idate=2023-04-30&fdate=2023-05-01\n",
      "Fetching data from http://montreal.icea.decea.mil.br:5002/api/v1/metar?token=a779d04f85c4bf6cfa586d30aaec57c44e9b7173&idate=2023-05-01&fdate=2023-05-02\n",
      "Fetching data from http://montreal.icea.decea.mil.br:5002/api/v1/metar?token=a779d04f85c4bf6cfa586d30aaec57c44e9b7173&idate=2023-05-02&fdate=2023-05-03\n",
      "Fetching data from http://montreal.icea.decea.mil.br:5002/api/v1/metar?token=a779d04f85c4bf6cfa586d30aaec57c44e9b7173&idate=2023-05-03&fdate=2023-05-04\n"
     ]
    },
    {
     "name": "stderr",
     "output_type": "stream",
     "text": [
      "Carregando dados de metar, Parte 4:  42%|████▏     | 46/109 [00:00<00:00, 239.86it/s]"
     ]
    },
    {
     "name": "stdout",
     "output_type": "stream",
     "text": [
      "Fetching data from http://montreal.icea.decea.mil.br:5002/api/v1/metar?token=a779d04f85c4bf6cfa586d30aaec57c44e9b7173&idate=2023-05-04&fdate=2023-05-05\n",
      "Fetching data from http://montreal.icea.decea.mil.br:5002/api/v1/metar?token=a779d04f85c4bf6cfa586d30aaec57c44e9b7173&idate=2023-05-05&fdate=2023-05-06\n",
      "Fetching data from http://montreal.icea.decea.mil.br:5002/api/v1/metar?token=a779d04f85c4bf6cfa586d30aaec57c44e9b7173&idate=2023-05-06&fdate=2023-05-07\n",
      "Fetching data from http://montreal.icea.decea.mil.br:5002/api/v1/metar?token=a779d04f85c4bf6cfa586d30aaec57c44e9b7173&idate=2023-05-07&fdate=2023-05-08\n",
      "Fetching data from http://montreal.icea.decea.mil.br:5002/api/v1/metar?token=a779d04f85c4bf6cfa586d30aaec57c44e9b7173&idate=2023-05-08&fdate=2023-05-09\n",
      "Fetching data from http://montreal.icea.decea.mil.br:5002/api/v1/metar?token=a779d04f85c4bf6cfa586d30aaec57c44e9b7173&idate=2023-05-09&fdate=2023-05-10\n",
      "Fetching data from http://montreal.icea.decea.mil.br:5002/api/v1/metar?token=a779d04f85c4bf6cfa586d30aaec57c44e9b7173&idate=2023-05-10&fdate=2023-05-11\n",
      "Fetching data from http://montreal.icea.decea.mil.br:5002/api/v1/metar?token=a779d04f85c4bf6cfa586d30aaec57c44e9b7173&idate=2023-05-11&fdate=2023-05-12\n",
      "Fetching data from http://montreal.icea.decea.mil.br:5002/api/v1/metar?token=a779d04f85c4bf6cfa586d30aaec57c44e9b7173&idate=2023-05-12&fdate=2023-05-13\n"
     ]
    },
    {
     "name": "stderr",
     "output_type": "stream",
     "text": [
      "Carregando dados de metar, Parte 4:  71%|███████   | 77/109 [00:00<00:00, 257.80it/s]"
     ]
    },
    {
     "name": "stdout",
     "output_type": "stream",
     "text": [
      "Fetching data from http://montreal.icea.decea.mil.br:5002/api/v1/metar?token=a779d04f85c4bf6cfa586d30aaec57c44e9b7173&idate=2023-05-13&fdate=2023-05-14\n",
      "Fetching data from http://montreal.icea.decea.mil.br:5002/api/v1/metar?token=a779d04f85c4bf6cfa586d30aaec57c44e9b7173&idate=2023-05-14&fdate=2023-05-15\n",
      "Fetching data from http://montreal.icea.decea.mil.br:5002/api/v1/metar?token=a779d04f85c4bf6cfa586d30aaec57c44e9b7173&idate=2023-05-15&fdate=2023-05-16\n",
      "Fetching data from http://montreal.icea.decea.mil.br:5002/api/v1/metar?token=a779d04f85c4bf6cfa586d30aaec57c44e9b7173&idate=2023-05-16&fdate=2023-05-17\n",
      "Fetching data from http://montreal.icea.decea.mil.br:5002/api/v1/metar?token=a779d04f85c4bf6cfa586d30aaec57c44e9b7173&idate=2023-05-17&fdate=2023-05-18\n",
      "Fetching data from http://montreal.icea.decea.mil.br:5002/api/v1/metar?token=a779d04f85c4bf6cfa586d30aaec57c44e9b7173&idate=2023-05-18&fdate=2023-05-19\n",
      "Fetching data from http://montreal.icea.decea.mil.br:5002/api/v1/metar?token=a779d04f85c4bf6cfa586d30aaec57c44e9b7173&idate=2023-05-19&fdate=2023-05-20\n",
      "Fetching data from http://montreal.icea.decea.mil.br:5002/api/v1/metar?token=a779d04f85c4bf6cfa586d30aaec57c44e9b7173&idate=2023-05-20&fdate=2023-05-21\n",
      "Fetching data from http://montreal.icea.decea.mil.br:5002/api/v1/metar?token=a779d04f85c4bf6cfa586d30aaec57c44e9b7173&idate=2023-05-21&fdate=2023-05-22\n",
      "Fetching data from http://montreal.icea.decea.mil.br:5002/api/v1/metar?token=a779d04f85c4bf6cfa586d30aaec57c44e9b7173&idate=2023-05-22&fdate=2023-05-23\n",
      "Fetching data from http://montreal.icea.decea.mil.br:5002/api/v1/metar?token=a779d04f85c4bf6cfa586d30aaec57c44e9b7173&idate=2023-05-23&fdate=2023-05-24\n",
      "Fetching data from http://montreal.icea.decea.mil.br:5002/api/v1/metar?token=a779d04f85c4bf6cfa586d30aaec57c44e9b7173&idate=2023-05-24&fdate=2023-05-25\n",
      "Fetching data from http://montreal.icea.decea.mil.br:5002/api/v1/metar?token=a779d04f85c4bf6cfa586d30aaec57c44e9b7173&idate=2023-05-25&fdate=2023-05-26\n",
      "Fetching data from http://montreal.icea.decea.mil.br:5002/api/v1/metar?token=a779d04f85c4bf6cfa586d30aaec57c44e9b7173&idate=2023-05-26&fdate=2023-05-27\n",
      "Fetching data from http://montreal.icea.decea.mil.br:5002/api/v1/metar?token=a779d04f85c4bf6cfa586d30aaec57c44e9b7173&idate=2023-05-27&fdate=2023-05-28\n",
      "Fetching data from http://montreal.icea.decea.mil.br:5002/api/v1/metar?token=a779d04f85c4bf6cfa586d30aaec57c44e9b7173&idate=2023-05-28&fdate=2023-05-29\n",
      "Fetching data from http://montreal.icea.decea.mil.br:5002/api/v1/metar?token=a779d04f85c4bf6cfa586d30aaec57c44e9b7173&idate=2023-05-29&fdate=2023-05-30\n",
      "Fetching data from http://montreal.icea.decea.mil.br:5002/api/v1/metar?token=a779d04f85c4bf6cfa586d30aaec57c44e9b7173&idate=2023-05-30&fdate=2023-05-31\n",
      "Fetching data from http://montreal.icea.decea.mil.br:5002/api/v1/metar?token=a779d04f85c4bf6cfa586d30aaec57c44e9b7173&idate=2023-05-31&fdate=2023-06-01\n",
      "Fetching data from http://montreal.icea.decea.mil.br:5002/api/v1/metar?token=a779d04f85c4bf6cfa586d30aaec57c44e9b7173&idate=2023-06-01&fdate=2023-06-02\n",
      "Fetching data from http://montreal.icea.decea.mil.br:5002/api/v1/metar?token=a779d04f85c4bf6cfa586d30aaec57c44e9b7173&idate=2023-06-02&fdate=2023-06-03\n",
      "Fetching data from http://montreal.icea.decea.mil.br:5002/api/v1/metar?token=a779d04f85c4bf6cfa586d30aaec57c44e9b7173&idate=2023-06-03&fdate=2023-06-04\n",
      "Fetching data from http://montreal.icea.decea.mil.br:5002/api/v1/metar?token=a779d04f85c4bf6cfa586d30aaec57c44e9b7173&idate=2023-06-04&fdate=2023-06-05\n",
      "Fetching data from http://montreal.icea.decea.mil.br:5002/api/v1/metar?token=a779d04f85c4bf6cfa586d30aaec57c44e9b7173&idate=2023-06-05&fdate=2023-06-06\n",
      "Fetching data from http://montreal.icea.decea.mil.br:5002/api/v1/metar?token=a779d04f85c4bf6cfa586d30aaec57c44e9b7173&idate=2023-06-06&fdate=2023-06-07\n",
      "Fetching data from http://montreal.icea.decea.mil.br:5002/api/v1/metar?token=a779d04f85c4bf6cfa586d30aaec57c44e9b7173&idate=2023-06-07&fdate=2023-06-08\n",
      "Fetching data from http://montreal.icea.decea.mil.br:5002/api/v1/metar?token=a779d04f85c4bf6cfa586d30aaec57c44e9b7173&idate=2023-06-08&fdate=2023-06-09\n",
      "Fetching data from http://montreal.icea.decea.mil.br:5002/api/v1/metar?token=a779d04f85c4bf6cfa586d30aaec57c44e9b7173&idate=2023-06-09&fdate=2023-06-10\n",
      "Fetching data from http://montreal.icea.decea.mil.br:5002/api/v1/metar?token=a779d04f85c4bf6cfa586d30aaec57c44e9b7173&idate=2023-06-10&fdate=2023-06-11\n",
      "Fetching data from http://montreal.icea.decea.mil.br:5002/api/v1/metar?token=a779d04f85c4bf6cfa586d30aaec57c44e9b7173&idate=2023-06-11&fdate=2023-06-12\n",
      "Fetching data from http://montreal.icea.decea.mil.br:5002/api/v1/metar?token=a779d04f85c4bf6cfa586d30aaec57c44e9b7173&idate=2023-06-12&fdate=2023-06-13\n",
      "Fetching data from http://montreal.icea.decea.mil.br:5002/api/v1/metar?token=a779d04f85c4bf6cfa586d30aaec57c44e9b7173&idate=2023-06-13&fdate=2023-06-14\n",
      "Fetching data from http://montreal.icea.decea.mil.br:5002/api/v1/metar?token=a779d04f85c4bf6cfa586d30aaec57c44e9b7173&idate=2023-06-14&fdate=2023-06-15\n",
      "Fetching data from http://montreal.icea.decea.mil.br:5002/api/v1/metar?token=a779d04f85c4bf6cfa586d30aaec57c44e9b7173&idate=2023-06-15&fdate=2023-06-16\n",
      "Fetching data from http://montreal.icea.decea.mil.br:5002/api/v1/metar?token=a779d04f85c4bf6cfa586d30aaec57c44e9b7173&idate=2023-06-16&fdate=2023-06-17\n",
      "Fetching data from http://montreal.icea.decea.mil.br:5002/api/v1/metar?token=a779d04f85c4bf6cfa586d30aaec57c44e9b7173&idate=2023-06-17&fdate=2023-06-18\n",
      "Fetching data from http://montreal.icea.decea.mil.br:5002/api/v1/metar?token=a779d04f85c4bf6cfa586d30aaec57c44e9b7173&idate=2023-06-18&fdate=2023-06-19\n",
      "Fetching data from http://montreal.icea.decea.mil.br:5002/api/v1/metar?token=a779d04f85c4bf6cfa586d30aaec57c44e9b7173&idate=2023-06-19&fdate=2023-06-20\n",
      "Fetching data from http://montreal.icea.decea.mil.br:5002/api/v1/metar?token=a779d04f85c4bf6cfa586d30aaec57c44e9b7173&idate=2023-06-20&fdate=2023-06-21\n",
      "Fetching data from http://montreal.icea.decea.mil.br:5002/api/v1/metar?token=a779d04f85c4bf6cfa586d30aaec57c44e9b7173&idate=2023-06-21&fdate=2023-06-22\n",
      "Fetching data from http://montreal.icea.decea.mil.br:5002/api/v1/metar?token=a779d04f85c4bf6cfa586d30aaec57c44e9b7173&idate=2023-06-22&fdate=2023-06-23\n",
      "Fetching data from http://montreal.icea.decea.mil.br:5002/api/v1/metar?token=a779d04f85c4bf6cfa586d30aaec57c44e9b7173&idate=2023-06-23&fdate=2023-06-24\n"
     ]
    },
    {
     "name": "stderr",
     "output_type": "stream",
     "text": [
      "Carregando dados de metar, Parte 4:  94%|█████████▍| 103/109 [00:00<00:00, 219.99it/s]"
     ]
    },
    {
     "name": "stdout",
     "output_type": "stream",
     "text": [
      "Fetching data from http://montreal.icea.decea.mil.br:5002/api/v1/metar?token=a779d04f85c4bf6cfa586d30aaec57c44e9b7173&idate=2023-06-24&fdate=2023-06-25Fetching data from http://montreal.icea.decea.mil.br:5002/api/v1/metar?token=a779d04f85c4bf6cfa586d30aaec57c44e9b7173&idate=2023-06-25&fdate=2023-06-26\n",
      "\n",
      "Fetching data from http://montreal.icea.decea.mil.br:5002/api/v1/metar?token=a779d04f85c4bf6cfa586d30aaec57c44e9b7173&idate=2023-06-26&fdate=2023-06-27\n",
      "Fetching data from http://montreal.icea.decea.mil.br:5002/api/v1/metar?token=a779d04f85c4bf6cfa586d30aaec57c44e9b7173&idate=2023-06-27&fdate=2023-06-28\n",
      "Fetching data from http://montreal.icea.decea.mil.br:5002/api/v1/metar?token=a779d04f85c4bf6cfa586d30aaec57c44e9b7173&idate=2023-06-28&fdate=2023-06-29\n",
      "Fetching data from http://montreal.icea.decea.mil.br:5002/api/v1/metar?token=a779d04f85c4bf6cfa586d30aaec57c44e9b7173&idate=2023-06-29&fdate=2023-06-30\n",
      "Fetching data from http://montreal.icea.decea.mil.br:5002/api/v1/metar?token=a779d04f85c4bf6cfa586d30aaec57c44e9b7173&idate=2023-06-30&fdate=2023-07-01\n",
      "Fetching data from http://montreal.icea.decea.mil.br:5002/api/v1/metar?token=a779d04f85c4bf6cfa586d30aaec57c44e9b7173&idate=2023-07-01&fdate=2023-07-02\n"
     ]
    },
    {
     "name": "stderr",
     "output_type": "stream",
     "text": [
      "Carregando dados de metar, Parte 4: 100%|██████████| 109/109 [00:00<00:00, 173.49it/s]\n"
     ]
    },
    {
     "name": "stdout",
     "output_type": "stream",
     "text": [
      "Dados de metar salvos em metar_part_4.csv\n",
      "Processando esperas\n",
      "Processando parte 1/4\n",
      "Fetching data from http://montreal.icea.decea.mil.br:5002/api/v1/esperas?token=a779d04f85c4bf6cfa586d30aaec57c44e9b7173&idate=2022-05-01&fdate=2022-05-02\n",
      "Fetching data from http://montreal.icea.decea.mil.br:5002/api/v1/esperas?token=a779d04f85c4bf6cfa586d30aaec57c44e9b7173&idate=2022-05-02&fdate=2022-05-03\n",
      "Fetching data from http://montreal.icea.decea.mil.br:5002/api/v1/esperas?token=a779d04f85c4bf6cfa586d30aaec57c44e9b7173&idate=2022-05-03&fdate=2022-05-04\n",
      "Fetching data from http://montreal.icea.decea.mil.br:5002/api/v1/esperas?token=a779d04f85c4bf6cfa586d30aaec57c44e9b7173&idate=2022-05-04&fdate=2022-05-05\n",
      "Fetching data from http://montreal.icea.decea.mil.br:5002/api/v1/esperas?token=a779d04f85c4bf6cfa586d30aaec57c44e9b7173&idate=2022-05-05&fdate=2022-05-06\n",
      "Fetching data from http://montreal.icea.decea.mil.br:5002/api/v1/esperas?token=a779d04f85c4bf6cfa586d30aaec57c44e9b7173&idate=2022-05-06&fdate=2022-05-07\n",
      "Fetching data from http://montreal.icea.decea.mil.br:5002/api/v1/esperas?token=a779d04f85c4bf6cfa586d30aaec57c44e9b7173&idate=2022-05-07&fdate=2022-05-08\n",
      "Fetching data from http://montreal.icea.decea.mil.br:5002/api/v1/esperas?token=a779d04f85c4bf6cfa586d30aaec57c44e9b7173&idate=2022-05-08&fdate=2022-05-09\n",
      "Fetching data from http://montreal.icea.decea.mil.br:5002/api/v1/esperas?token=a779d04f85c4bf6cfa586d30aaec57c44e9b7173&idate=2022-05-09&fdate=2022-05-10\n",
      "Fetching data from http://montreal.icea.decea.mil.br:5002/api/v1/esperas?token=a779d04f85c4bf6cfa586d30aaec57c44e9b7173&idate=2022-05-10&fdate=2022-05-11\n"
     ]
    },
    {
     "name": "stderr",
     "output_type": "stream",
     "text": [
      "Carregando dados de esperas, Parte 1:  23%|██▎       | 24/106 [00:00<00:00, 227.28it/s]"
     ]
    },
    {
     "name": "stdout",
     "output_type": "stream",
     "text": [
      "Fetching data from http://montreal.icea.decea.mil.br:5002/api/v1/esperas?token=a779d04f85c4bf6cfa586d30aaec57c44e9b7173&idate=2022-05-11&fdate=2022-05-12\n",
      "Fetching data from http://montreal.icea.decea.mil.br:5002/api/v1/esperas?token=a779d04f85c4bf6cfa586d30aaec57c44e9b7173&idate=2022-05-12&fdate=2022-05-13\n",
      "Fetching data from http://montreal.icea.decea.mil.br:5002/api/v1/esperas?token=a779d04f85c4bf6cfa586d30aaec57c44e9b7173&idate=2022-05-13&fdate=2022-05-14\n",
      "Fetching data from http://montreal.icea.decea.mil.br:5002/api/v1/esperas?token=a779d04f85c4bf6cfa586d30aaec57c44e9b7173&idate=2022-05-14&fdate=2022-05-15\n",
      "Fetching data from http://montreal.icea.decea.mil.br:5002/api/v1/esperas?token=a779d04f85c4bf6cfa586d30aaec57c44e9b7173&idate=2022-05-15&fdate=2022-05-16\n",
      "Fetching data from http://montreal.icea.decea.mil.br:5002/api/v1/esperas?token=a779d04f85c4bf6cfa586d30aaec57c44e9b7173&idate=2022-05-16&fdate=2022-05-17\n",
      "Fetching data from http://montreal.icea.decea.mil.br:5002/api/v1/esperas?token=a779d04f85c4bf6cfa586d30aaec57c44e9b7173&idate=2022-05-17&fdate=2022-05-18\n",
      "Fetching data from http://montreal.icea.decea.mil.br:5002/api/v1/esperas?token=a779d04f85c4bf6cfa586d30aaec57c44e9b7173&idate=2022-05-18&fdate=2022-05-19\n",
      "Fetching data from http://montreal.icea.decea.mil.br:5002/api/v1/esperas?token=a779d04f85c4bf6cfa586d30aaec57c44e9b7173&idate=2022-05-19&fdate=2022-05-20\n",
      "Fetching data from http://montreal.icea.decea.mil.br:5002/api/v1/esperas?token=a779d04f85c4bf6cfa586d30aaec57c44e9b7173&idate=2022-05-20&fdate=2022-05-21\n",
      "Fetching data from http://montreal.icea.decea.mil.br:5002/api/v1/esperas?token=a779d04f85c4bf6cfa586d30aaec57c44e9b7173&idate=2022-05-21&fdate=2022-05-22\n",
      "Fetching data from http://montreal.icea.decea.mil.br:5002/api/v1/esperas?token=a779d04f85c4bf6cfa586d30aaec57c44e9b7173&idate=2022-05-22&fdate=2022-05-23\n",
      "Fetching data from http://montreal.icea.decea.mil.br:5002/api/v1/esperas?token=a779d04f85c4bf6cfa586d30aaec57c44e9b7173&idate=2022-05-23&fdate=2022-05-24\n",
      "Fetching data from http://montreal.icea.decea.mil.br:5002/api/v1/esperas?token=a779d04f85c4bf6cfa586d30aaec57c44e9b7173&idate=2022-05-24&fdate=2022-05-25\n",
      "Fetching data from http://montreal.icea.decea.mil.br:5002/api/v1/esperas?token=a779d04f85c4bf6cfa586d30aaec57c44e9b7173&idate=2022-05-25&fdate=2022-05-26\n",
      "Fetching data from http://montreal.icea.decea.mil.br:5002/api/v1/esperas?token=a779d04f85c4bf6cfa586d30aaec57c44e9b7173&idate=2022-05-26&fdate=2022-05-27\n",
      "Fetching data from http://montreal.icea.decea.mil.br:5002/api/v1/esperas?token=a779d04f85c4bf6cfa586d30aaec57c44e9b7173&idate=2022-05-27&fdate=2022-05-28\n",
      "Fetching data from http://montreal.icea.decea.mil.br:5002/api/v1/esperas?token=a779d04f85c4bf6cfa586d30aaec57c44e9b7173&idate=2022-05-28&fdate=2022-05-29\n",
      "Fetching data from http://montreal.icea.decea.mil.br:5002/api/v1/esperas?token=a779d04f85c4bf6cfa586d30aaec57c44e9b7173&idate=2022-05-29&fdate=2022-05-30\n",
      "Fetching data from http://montreal.icea.decea.mil.br:5002/api/v1/esperas?token=a779d04f85c4bf6cfa586d30aaec57c44e9b7173&idate=2022-05-30&fdate=2022-05-31\n",
      "Fetching data from http://montreal.icea.decea.mil.br:5002/api/v1/esperas?token=a779d04f85c4bf6cfa586d30aaec57c44e9b7173&idate=2022-05-31&fdate=2022-06-01\n",
      "Fetching data from http://montreal.icea.decea.mil.br:5002/api/v1/esperas?token=a779d04f85c4bf6cfa586d30aaec57c44e9b7173&idate=2022-06-01&fdate=2022-06-02\n",
      "Fetching data from http://montreal.icea.decea.mil.br:5002/api/v1/esperas?token=a779d04f85c4bf6cfa586d30aaec57c44e9b7173&idate=2022-06-02&fdate=2022-06-03\n",
      "Fetching data from http://montreal.icea.decea.mil.br:5002/api/v1/esperas?token=a779d04f85c4bf6cfa586d30aaec57c44e9b7173&idate=2022-06-03&fdate=2022-06-04\n",
      "Fetching data from http://montreal.icea.decea.mil.br:5002/api/v1/esperas?token=a779d04f85c4bf6cfa586d30aaec57c44e9b7173&idate=2022-06-04&fdate=2022-06-05\n",
      "Fetching data from http://montreal.icea.decea.mil.br:5002/api/v1/esperas?token=a779d04f85c4bf6cfa586d30aaec57c44e9b7173&idate=2022-06-05&fdate=2022-06-06\n",
      "Fetching data from http://montreal.icea.decea.mil.br:5002/api/v1/esperas?token=a779d04f85c4bf6cfa586d30aaec57c44e9b7173&idate=2022-06-06&fdate=2022-06-07\n",
      "Fetching data from http://montreal.icea.decea.mil.br:5002/api/v1/esperas?token=a779d04f85c4bf6cfa586d30aaec57c44e9b7173&idate=2022-06-07&fdate=2022-06-08\n",
      "Fetching data from http://montreal.icea.decea.mil.br:5002/api/v1/esperas?token=a779d04f85c4bf6cfa586d30aaec57c44e9b7173&idate=2022-06-08&fdate=2022-06-09\n",
      "Fetching data from http://montreal.icea.decea.mil.br:5002/api/v1/esperas?token=a779d04f85c4bf6cfa586d30aaec57c44e9b7173&idate=2022-06-09&fdate=2022-06-10\n",
      "Fetching data from http://montreal.icea.decea.mil.br:5002/api/v1/esperas?token=a779d04f85c4bf6cfa586d30aaec57c44e9b7173&idate=2022-06-10&fdate=2022-06-11\n",
      "Fetching data from http://montreal.icea.decea.mil.br:5002/api/v1/esperas?token=a779d04f85c4bf6cfa586d30aaec57c44e9b7173&idate=2022-06-11&fdate=2022-06-12\n",
      "Fetching data from http://montreal.icea.decea.mil.br:5002/api/v1/esperas?token=a779d04f85c4bf6cfa586d30aaec57c44e9b7173&idate=2022-06-12&fdate=2022-06-13\n",
      "Fetching data from http://montreal.icea.decea.mil.br:5002/api/v1/esperas?token=a779d04f85c4bf6cfa586d30aaec57c44e9b7173&idate=2022-06-13&fdate=2022-06-14\n",
      "Fetching data from http://montreal.icea.decea.mil.br:5002/api/v1/esperas?token=a779d04f85c4bf6cfa586d30aaec57c44e9b7173&idate=2022-06-14&fdate=2022-06-15\n",
      "Fetching data from http://montreal.icea.decea.mil.br:5002/api/v1/esperas?token=a779d04f85c4bf6cfa586d30aaec57c44e9b7173&idate=2022-06-15&fdate=2022-06-16\n",
      "Fetching data from http://montreal.icea.decea.mil.br:5002/api/v1/esperas?token=a779d04f85c4bf6cfa586d30aaec57c44e9b7173&idate=2022-06-16&fdate=2022-06-17\n",
      "Fetching data from http://montreal.icea.decea.mil.br:5002/api/v1/esperas?token=a779d04f85c4bf6cfa586d30aaec57c44e9b7173&idate=2022-06-17&fdate=2022-06-18\n",
      "Fetching data from http://montreal.icea.decea.mil.br:5002/api/v1/esperas?token=a779d04f85c4bf6cfa586d30aaec57c44e9b7173&idate=2022-06-18&fdate=2022-06-19\n",
      "Fetching data from http://montreal.icea.decea.mil.br:5002/api/v1/esperas?token=a779d04f85c4bf6cfa586d30aaec57c44e9b7173&idate=2022-06-19&fdate=2022-06-20\n",
      "Fetching data from http://montreal.icea.decea.mil.br:5002/api/v1/esperas?token=a779d04f85c4bf6cfa586d30aaec57c44e9b7173&idate=2022-06-20&fdate=2022-06-21\n",
      "Fetching data from http://montreal.icea.decea.mil.br:5002/api/v1/esperas?token=a779d04f85c4bf6cfa586d30aaec57c44e9b7173&idate=2022-06-21&fdate=2022-06-22\n",
      "Fetching data from http://montreal.icea.decea.mil.br:5002/api/v1/esperas?token=a779d04f85c4bf6cfa586d30aaec57c44e9b7173&idate=2022-06-22&fdate=2022-06-23\n",
      "Fetching data from http://montreal.icea.decea.mil.br:5002/api/v1/esperas?token=a779d04f85c4bf6cfa586d30aaec57c44e9b7173&idate=2022-06-23&fdate=2022-06-24\n",
      "Fetching data from http://montreal.icea.decea.mil.br:5002/api/v1/esperas?token=a779d04f85c4bf6cfa586d30aaec57c44e9b7173&idate=2022-06-24&fdate=2022-06-25\n",
      "Fetching data from http://montreal.icea.decea.mil.br:5002/api/v1/esperas?token=a779d04f85c4bf6cfa586d30aaec57c44e9b7173&idate=2022-06-25&fdate=2022-06-26\n"
     ]
    },
    {
     "name": "stderr",
     "output_type": "stream",
     "text": [
      "Carregando dados de esperas, Parte 1:  67%|██████▋   | 71/106 [00:00<00:00, 225.93it/s]"
     ]
    },
    {
     "name": "stdout",
     "output_type": "stream",
     "text": [
      "Fetching data from http://montreal.icea.decea.mil.br:5002/api/v1/esperas?token=a779d04f85c4bf6cfa586d30aaec57c44e9b7173&idate=2022-06-26&fdate=2022-06-27\n",
      "Fetching data from http://montreal.icea.decea.mil.br:5002/api/v1/esperas?token=a779d04f85c4bf6cfa586d30aaec57c44e9b7173&idate=2022-06-27&fdate=2022-06-28\n",
      "Fetching data from http://montreal.icea.decea.mil.br:5002/api/v1/esperas?token=a779d04f85c4bf6cfa586d30aaec57c44e9b7173&idate=2022-06-28&fdate=2022-06-29\n",
      "Fetching data from http://montreal.icea.decea.mil.br:5002/api/v1/esperas?token=a779d04f85c4bf6cfa586d30aaec57c44e9b7173&idate=2022-06-29&fdate=2022-06-30\n",
      "Fetching data from http://montreal.icea.decea.mil.br:5002/api/v1/esperas?token=a779d04f85c4bf6cfa586d30aaec57c44e9b7173&idate=2022-06-30&fdate=2022-07-01\n",
      "Fetching data from http://montreal.icea.decea.mil.br:5002/api/v1/esperas?token=a779d04f85c4bf6cfa586d30aaec57c44e9b7173&idate=2022-07-01&fdate=2022-07-02\n",
      "Fetching data from http://montreal.icea.decea.mil.br:5002/api/v1/esperas?token=a779d04f85c4bf6cfa586d30aaec57c44e9b7173&idate=2022-07-02&fdate=2022-07-03\n",
      "Fetching data from http://montreal.icea.decea.mil.br:5002/api/v1/esperas?token=a779d04f85c4bf6cfa586d30aaec57c44e9b7173&idate=2022-07-03&fdate=2022-07-04\n",
      "Fetching data from http://montreal.icea.decea.mil.br:5002/api/v1/esperas?token=a779d04f85c4bf6cfa586d30aaec57c44e9b7173&idate=2022-07-04&fdate=2022-07-05\n",
      "Fetching data from http://montreal.icea.decea.mil.br:5002/api/v1/esperas?token=a779d04f85c4bf6cfa586d30aaec57c44e9b7173&idate=2022-07-05&fdate=2022-07-06\n",
      "Fetching data from http://montreal.icea.decea.mil.br:5002/api/v1/esperas?token=a779d04f85c4bf6cfa586d30aaec57c44e9b7173&idate=2022-07-06&fdate=2022-07-07\n",
      "Fetching data from http://montreal.icea.decea.mil.br:5002/api/v1/esperas?token=a779d04f85c4bf6cfa586d30aaec57c44e9b7173&idate=2022-07-07&fdate=2022-07-08\n",
      "Fetching data from http://montreal.icea.decea.mil.br:5002/api/v1/esperas?token=a779d04f85c4bf6cfa586d30aaec57c44e9b7173&idate=2022-07-08&fdate=2022-07-09\n",
      "Fetching data from http://montreal.icea.decea.mil.br:5002/api/v1/esperas?token=a779d04f85c4bf6cfa586d30aaec57c44e9b7173&idate=2022-07-09&fdate=2022-07-10\n",
      "Fetching data from http://montreal.icea.decea.mil.br:5002/api/v1/esperas?token=a779d04f85c4bf6cfa586d30aaec57c44e9b7173&idate=2022-07-10&fdate=2022-07-11\n",
      "Fetching data from http://montreal.icea.decea.mil.br:5002/api/v1/esperas?token=a779d04f85c4bf6cfa586d30aaec57c44e9b7173&idate=2022-07-11&fdate=2022-07-12\n",
      "Fetching data from http://montreal.icea.decea.mil.br:5002/api/v1/esperas?token=a779d04f85c4bf6cfa586d30aaec57c44e9b7173&idate=2022-07-12&fdate=2022-07-13\n",
      "Fetching data from http://montreal.icea.decea.mil.br:5002/api/v1/esperas?token=a779d04f85c4bf6cfa586d30aaec57c44e9b7173&idate=2022-07-13&fdate=2022-07-14\n",
      "Fetching data from http://montreal.icea.decea.mil.br:5002/api/v1/esperas?token=a779d04f85c4bf6cfa586d30aaec57c44e9b7173&idate=2022-07-14&fdate=2022-07-15\n",
      "Fetching data from http://montreal.icea.decea.mil.br:5002/api/v1/esperas?token=a779d04f85c4bf6cfa586d30aaec57c44e9b7173&idate=2022-07-15&fdate=2022-07-16\n",
      "Fetching data from http://montreal.icea.decea.mil.br:5002/api/v1/esperas?token=a779d04f85c4bf6cfa586d30aaec57c44e9b7173&idate=2022-07-16&fdate=2022-07-17\n",
      "Fetching data from http://montreal.icea.decea.mil.br:5002/api/v1/esperas?token=a779d04f85c4bf6cfa586d30aaec57c44e9b7173&idate=2022-07-17&fdate=2022-07-18\n",
      "Fetching data from http://montreal.icea.decea.mil.br:5002/api/v1/esperas?token=a779d04f85c4bf6cfa586d30aaec57c44e9b7173&idate=2022-07-18&fdate=2022-07-19\n",
      "Fetching data from http://montreal.icea.decea.mil.br:5002/api/v1/esperas?token=a779d04f85c4bf6cfa586d30aaec57c44e9b7173&idate=2022-07-19&fdate=2022-07-20\n",
      "Fetching data from http://montreal.icea.decea.mil.br:5002/api/v1/esperas?token=a779d04f85c4bf6cfa586d30aaec57c44e9b7173&idate=2022-07-20&fdate=2022-07-21\n",
      "Fetching data from http://montreal.icea.decea.mil.br:5002/api/v1/esperas?token=a779d04f85c4bf6cfa586d30aaec57c44e9b7173&idate=2022-07-21&fdate=2022-07-22\n",
      "Fetching data from http://montreal.icea.decea.mil.br:5002/api/v1/esperas?token=a779d04f85c4bf6cfa586d30aaec57c44e9b7173&idate=2022-07-22&fdate=2022-07-23\n",
      "Fetching data from http://montreal.icea.decea.mil.br:5002/api/v1/esperas?token=a779d04f85c4bf6cfa586d30aaec57c44e9b7173&idate=2022-07-23&fdate=2022-07-24\n",
      "Fetching data from http://montreal.icea.decea.mil.br:5002/api/v1/esperas?token=a779d04f85c4bf6cfa586d30aaec57c44e9b7173&idate=2022-07-24&fdate=2022-07-25\n",
      "Fetching data from http://montreal.icea.decea.mil.br:5002/api/v1/esperas?token=a779d04f85c4bf6cfa586d30aaec57c44e9b7173&idate=2022-07-25&fdate=2022-07-26\n",
      "Fetching data from http://montreal.icea.decea.mil.br:5002/api/v1/esperas?token=a779d04f85c4bf6cfa586d30aaec57c44e9b7173&idate=2022-07-26&fdate=2022-07-27\n",
      "Fetching data from http://montreal.icea.decea.mil.br:5002/api/v1/esperas?token=a779d04f85c4bf6cfa586d30aaec57c44e9b7173&idate=2022-07-27&fdate=2022-07-28\n",
      "Fetching data from http://montreal.icea.decea.mil.br:5002/api/v1/esperas?token=a779d04f85c4bf6cfa586d30aaec57c44e9b7173&idate=2022-07-28&fdate=2022-07-29\n",
      "Fetching data from http://montreal.icea.decea.mil.br:5002/api/v1/esperas?token=a779d04f85c4bf6cfa586d30aaec57c44e9b7173&idate=2022-07-29&fdate=2022-07-30\n",
      "Fetching data from http://montreal.icea.decea.mil.br:5002/api/v1/esperas?token=a779d04f85c4bf6cfa586d30aaec57c44e9b7173&idate=2022-07-30&fdate=2022-07-31\n",
      "Fetching data from http://montreal.icea.decea.mil.br:5002/api/v1/esperas?token=a779d04f85c4bf6cfa586d30aaec57c44e9b7173&idate=2022-07-31&fdate=2022-08-01\n",
      "Fetching data from http://montreal.icea.decea.mil.br:5002/api/v1/esperas?token=a779d04f85c4bf6cfa586d30aaec57c44e9b7173&idate=2022-08-01&fdate=2022-08-02\n",
      "Fetching data from http://montreal.icea.decea.mil.br:5002/api/v1/esperas?token=a779d04f85c4bf6cfa586d30aaec57c44e9b7173&idate=2022-08-02&fdate=2022-08-03\n",
      "Fetching data from http://montreal.icea.decea.mil.br:5002/api/v1/esperas?token=a779d04f85c4bf6cfa586d30aaec57c44e9b7173&idate=2022-08-03&fdate=2022-08-04\n",
      "Fetching data from http://montreal.icea.decea.mil.br:5002/api/v1/esperas?token=a779d04f85c4bf6cfa586d30aaec57c44e9b7173&idate=2022-08-04&fdate=2022-08-05\n",
      "Fetching data from http://montreal.icea.decea.mil.br:5002/api/v1/esperas?token=a779d04f85c4bf6cfa586d30aaec57c44e9b7173&idate=2022-08-05&fdate=2022-08-06\n",
      "Fetching data from http://montreal.icea.decea.mil.br:5002/api/v1/esperas?token=a779d04f85c4bf6cfa586d30aaec57c44e9b7173&idate=2022-08-06&fdate=2022-08-07\n",
      "Fetching data from http://montreal.icea.decea.mil.br:5002/api/v1/esperas?token=a779d04f85c4bf6cfa586d30aaec57c44e9b7173&idate=2022-08-07&fdate=2022-08-08\n",
      "Fetching data from http://montreal.icea.decea.mil.br:5002/api/v1/esperas?token=a779d04f85c4bf6cfa586d30aaec57c44e9b7173&idate=2022-08-08&fdate=2022-08-09\n",
      "Fetching data from http://montreal.icea.decea.mil.br:5002/api/v1/esperas?token=a779d04f85c4bf6cfa586d30aaec57c44e9b7173&idate=2022-08-09&fdate=2022-08-10\n",
      "Fetching data from http://montreal.icea.decea.mil.br:5002/api/v1/esperas?token=a779d04f85c4bf6cfa586d30aaec57c44e9b7173&idate=2022-08-10&fdate=2022-08-11\n",
      "Fetching data from http://montreal.icea.decea.mil.br:5002/api/v1/esperas?token=a779d04f85c4bf6cfa586d30aaec57c44e9b7173&idate=2022-08-11&fdate=2022-08-12\n",
      "Fetching data from http://montreal.icea.decea.mil.br:5002/api/v1/esperas?token=a779d04f85c4bf6cfa586d30aaec57c44e9b7173&idate=2022-08-12&fdate=2022-08-13\n",
      "Fetching data from http://montreal.icea.decea.mil.br:5002/api/v1/esperas?token=a779d04f85c4bf6cfa586d30aaec57c44e9b7173&idate=2022-08-13&fdate=2022-08-14\n",
      "Fetching data from http://montreal.icea.decea.mil.br:5002/api/v1/esperas?token=a779d04f85c4bf6cfa586d30aaec57c44e9b7173&idate=2022-08-14&fdate=2022-08-15\n"
     ]
    },
    {
     "name": "stderr",
     "output_type": "stream",
     "text": [
      "Carregando dados de esperas, Parte 1: 100%|██████████| 106/106 [00:00<00:00, 232.34it/s]\n"
     ]
    },
    {
     "name": "stdout",
     "output_type": "stream",
     "text": [
      "Dados de esperas salvos em esperas_part_1.csv\n",
      "Processando parte 2/4\n",
      "Fetching data from http://montreal.icea.decea.mil.br:5002/api/v1/esperas?token=a779d04f85c4bf6cfa586d30aaec57c44e9b7173&idate=2022-08-15&fdate=2022-08-16\n",
      "Fetching data from http://montreal.icea.decea.mil.br:5002/api/v1/esperas?token=a779d04f85c4bf6cfa586d30aaec57c44e9b7173&idate=2022-08-16&fdate=2022-08-17\n",
      "Fetching data from http://montreal.icea.decea.mil.br:5002/api/v1/esperas?token=a779d04f85c4bf6cfa586d30aaec57c44e9b7173&idate=2022-08-17&fdate=2022-08-18\n",
      "Fetching data from http://montreal.icea.decea.mil.br:5002/api/v1/esperas?token=a779d04f85c4bf6cfa586d30aaec57c44e9b7173&idate=2022-08-18&fdate=2022-08-19\n",
      "Fetching data from http://montreal.icea.decea.mil.br:5002/api/v1/esperas?token=a779d04f85c4bf6cfa586d30aaec57c44e9b7173&idate=2022-08-19&fdate=2022-08-20\n",
      "Fetching data from http://montreal.icea.decea.mil.br:5002/api/v1/esperas?token=a779d04f85c4bf6cfa586d30aaec57c44e9b7173&idate=2022-08-20&fdate=2022-08-21\n",
      "Fetching data from http://montreal.icea.decea.mil.br:5002/api/v1/esperas?token=a779d04f85c4bf6cfa586d30aaec57c44e9b7173&idate=2022-08-21&fdate=2022-08-22\n",
      "Fetching data from http://montreal.icea.decea.mil.br:5002/api/v1/esperas?token=a779d04f85c4bf6cfa586d30aaec57c44e9b7173&idate=2022-08-22&fdate=2022-08-23\n",
      "Fetching data from http://montreal.icea.decea.mil.br:5002/api/v1/esperas?token=a779d04f85c4bf6cfa586d30aaec57c44e9b7173&idate=2022-08-23&fdate=2022-08-24\n",
      "Fetching data from http://montreal.icea.decea.mil.br:5002/api/v1/esperas?token=a779d04f85c4bf6cfa586d30aaec57c44e9b7173&idate=2022-08-24&fdate=2022-08-25\n"
     ]
    },
    {
     "name": "stderr",
     "output_type": "stream",
     "text": [
      "Carregando dados de esperas, Parte 2:   0%|          | 0/106 [00:00<?, ?it/s]"
     ]
    },
    {
     "name": "stdout",
     "output_type": "stream",
     "text": [
      "Fetching data from http://montreal.icea.decea.mil.br:5002/api/v1/esperas?token=a779d04f85c4bf6cfa586d30aaec57c44e9b7173&idate=2022-08-25&fdate=2022-08-26\n",
      "Fetching data from http://montreal.icea.decea.mil.br:5002/api/v1/esperas?token=a779d04f85c4bf6cfa586d30aaec57c44e9b7173&idate=2022-08-26&fdate=2022-08-27\n",
      "Fetching data from http://montreal.icea.decea.mil.br:5002/api/v1/esperas?token=a779d04f85c4bf6cfa586d30aaec57c44e9b7173&idate=2022-08-27&fdate=2022-08-28\n",
      "Fetching data from http://montreal.icea.decea.mil.br:5002/api/v1/esperas?token=a779d04f85c4bf6cfa586d30aaec57c44e9b7173&idate=2022-08-28&fdate=2022-08-29\n",
      "Fetching data from http://montreal.icea.decea.mil.br:5002/api/v1/esperas?token=a779d04f85c4bf6cfa586d30aaec57c44e9b7173&idate=2022-08-29&fdate=2022-08-30\n",
      "Fetching data from http://montreal.icea.decea.mil.br:5002/api/v1/esperas?token=a779d04f85c4bf6cfa586d30aaec57c44e9b7173&idate=2022-08-30&fdate=2022-08-31\n",
      "Fetching data from http://montreal.icea.decea.mil.br:5002/api/v1/esperas?token=a779d04f85c4bf6cfa586d30aaec57c44e9b7173&idate=2022-08-31&fdate=2022-09-01\n",
      "Fetching data from http://montreal.icea.decea.mil.br:5002/api/v1/esperas?token=a779d04f85c4bf6cfa586d30aaec57c44e9b7173&idate=2022-09-01&fdate=2022-09-02\n",
      "Fetching data from http://montreal.icea.decea.mil.br:5002/api/v1/esperas?token=a779d04f85c4bf6cfa586d30aaec57c44e9b7173&idate=2022-09-02&fdate=2022-09-03\n",
      "Fetching data from http://montreal.icea.decea.mil.br:5002/api/v1/esperas?token=a779d04f85c4bf6cfa586d30aaec57c44e9b7173&idate=2022-09-03&fdate=2022-09-04\n",
      "Fetching data from http://montreal.icea.decea.mil.br:5002/api/v1/esperas?token=a779d04f85c4bf6cfa586d30aaec57c44e9b7173&idate=2022-09-04&fdate=2022-09-05\n",
      "Fetching data from http://montreal.icea.decea.mil.br:5002/api/v1/esperas?token=a779d04f85c4bf6cfa586d30aaec57c44e9b7173&idate=2022-09-05&fdate=2022-09-06\n",
      "Fetching data from http://montreal.icea.decea.mil.br:5002/api/v1/esperas?token=a779d04f85c4bf6cfa586d30aaec57c44e9b7173&idate=2022-09-06&fdate=2022-09-07\n",
      "Fetching data from http://montreal.icea.decea.mil.br:5002/api/v1/esperas?token=a779d04f85c4bf6cfa586d30aaec57c44e9b7173&idate=2022-09-07&fdate=2022-09-08\n",
      "Fetching data from http://montreal.icea.decea.mil.br:5002/api/v1/esperas?token=a779d04f85c4bf6cfa586d30aaec57c44e9b7173&idate=2022-09-08&fdate=2022-09-09\n",
      "Fetching data from http://montreal.icea.decea.mil.br:5002/api/v1/esperas?token=a779d04f85c4bf6cfa586d30aaec57c44e9b7173&idate=2022-09-09&fdate=2022-09-10\n",
      "Fetching data from http://montreal.icea.decea.mil.br:5002/api/v1/esperas?token=a779d04f85c4bf6cfa586d30aaec57c44e9b7173&idate=2022-09-10&fdate=2022-09-11\n",
      "Fetching data from http://montreal.icea.decea.mil.br:5002/api/v1/esperas?token=a779d04f85c4bf6cfa586d30aaec57c44e9b7173&idate=2022-09-11&fdate=2022-09-12\n",
      "Fetching data from http://montreal.icea.decea.mil.br:5002/api/v1/esperas?token=a779d04f85c4bf6cfa586d30aaec57c44e9b7173&idate=2022-09-12&fdate=2022-09-13\n",
      "Fetching data from http://montreal.icea.decea.mil.br:5002/api/v1/esperas?token=a779d04f85c4bf6cfa586d30aaec57c44e9b7173&idate=2022-09-13&fdate=2022-09-14\n",
      "Fetching data from http://montreal.icea.decea.mil.br:5002/api/v1/esperas?token=a779d04f85c4bf6cfa586d30aaec57c44e9b7173&idate=2022-09-14&fdate=2022-09-15\n",
      "Fetching data from http://montreal.icea.decea.mil.br:5002/api/v1/esperas?token=a779d04f85c4bf6cfa586d30aaec57c44e9b7173&idate=2022-09-15&fdate=2022-09-16\n",
      "Fetching data from http://montreal.icea.decea.mil.br:5002/api/v1/esperas?token=a779d04f85c4bf6cfa586d30aaec57c44e9b7173&idate=2022-09-16&fdate=2022-09-17\n"
     ]
    },
    {
     "name": "stderr",
     "output_type": "stream",
     "text": [
      "Carregando dados de esperas, Parte 2:  25%|██▍       | 26/106 [00:00<00:00, 254.43it/s]"
     ]
    },
    {
     "name": "stdout",
     "output_type": "stream",
     "text": [
      "Fetching data from http://montreal.icea.decea.mil.br:5002/api/v1/esperas?token=a779d04f85c4bf6cfa586d30aaec57c44e9b7173&idate=2022-09-17&fdate=2022-09-18\n",
      "Fetching data from http://montreal.icea.decea.mil.br:5002/api/v1/esperas?token=a779d04f85c4bf6cfa586d30aaec57c44e9b7173&idate=2022-09-18&fdate=2022-09-19\n",
      "Fetching data from http://montreal.icea.decea.mil.br:5002/api/v1/esperas?token=a779d04f85c4bf6cfa586d30aaec57c44e9b7173&idate=2022-09-19&fdate=2022-09-20\n",
      "Fetching data from http://montreal.icea.decea.mil.br:5002/api/v1/esperas?token=a779d04f85c4bf6cfa586d30aaec57c44e9b7173&idate=2022-09-20&fdate=2022-09-21\n",
      "Fetching data from http://montreal.icea.decea.mil.br:5002/api/v1/esperas?token=a779d04f85c4bf6cfa586d30aaec57c44e9b7173&idate=2022-09-21&fdate=2022-09-22\n",
      "Fetching data from http://montreal.icea.decea.mil.br:5002/api/v1/esperas?token=a779d04f85c4bf6cfa586d30aaec57c44e9b7173&idate=2022-09-22&fdate=2022-09-23\n",
      "Fetching data from http://montreal.icea.decea.mil.br:5002/api/v1/esperas?token=a779d04f85c4bf6cfa586d30aaec57c44e9b7173&idate=2022-09-23&fdate=2022-09-24\n",
      "Fetching data from http://montreal.icea.decea.mil.br:5002/api/v1/esperas?token=a779d04f85c4bf6cfa586d30aaec57c44e9b7173&idate=2022-09-24&fdate=2022-09-25\n",
      "Fetching data from http://montreal.icea.decea.mil.br:5002/api/v1/esperas?token=a779d04f85c4bf6cfa586d30aaec57c44e9b7173&idate=2022-09-25&fdate=2022-09-26\n",
      "Fetching data from http://montreal.icea.decea.mil.br:5002/api/v1/esperas?token=a779d04f85c4bf6cfa586d30aaec57c44e9b7173&idate=2022-09-26&fdate=2022-09-27\n",
      "Fetching data from http://montreal.icea.decea.mil.br:5002/api/v1/esperas?token=a779d04f85c4bf6cfa586d30aaec57c44e9b7173&idate=2022-09-27&fdate=2022-09-28\n",
      "Fetching data from http://montreal.icea.decea.mil.br:5002/api/v1/esperas?token=a779d04f85c4bf6cfa586d30aaec57c44e9b7173&idate=2022-09-28&fdate=2022-09-29\n",
      "Fetching data from http://montreal.icea.decea.mil.br:5002/api/v1/esperas?token=a779d04f85c4bf6cfa586d30aaec57c44e9b7173&idate=2022-09-29&fdate=2022-09-30\n",
      "Fetching data from http://montreal.icea.decea.mil.br:5002/api/v1/esperas?token=a779d04f85c4bf6cfa586d30aaec57c44e9b7173&idate=2022-09-30&fdate=2022-10-01\n",
      "Fetching data from http://montreal.icea.decea.mil.br:5002/api/v1/esperas?token=a779d04f85c4bf6cfa586d30aaec57c44e9b7173&idate=2022-10-01&fdate=2022-10-02\n",
      "Fetching data from http://montreal.icea.decea.mil.br:5002/api/v1/esperas?token=a779d04f85c4bf6cfa586d30aaec57c44e9b7173&idate=2022-10-02&fdate=2022-10-03\n",
      "Fetching data from http://montreal.icea.decea.mil.br:5002/api/v1/esperas?token=a779d04f85c4bf6cfa586d30aaec57c44e9b7173&idate=2022-10-03&fdate=2022-10-04\n",
      "Fetching data from http://montreal.icea.decea.mil.br:5002/api/v1/esperas?token=a779d04f85c4bf6cfa586d30aaec57c44e9b7173&idate=2022-10-04&fdate=2022-10-05\n",
      "Fetching data from http://montreal.icea.decea.mil.br:5002/api/v1/esperas?token=a779d04f85c4bf6cfa586d30aaec57c44e9b7173&idate=2022-10-05&fdate=2022-10-06\n",
      "Fetching data from http://montreal.icea.decea.mil.br:5002/api/v1/esperas?token=a779d04f85c4bf6cfa586d30aaec57c44e9b7173&idate=2022-10-06&fdate=2022-10-07\n",
      "Fetching data from http://montreal.icea.decea.mil.br:5002/api/v1/esperas?token=a779d04f85c4bf6cfa586d30aaec57c44e9b7173&idate=2022-10-07&fdate=2022-10-08\n",
      "Fetching data from http://montreal.icea.decea.mil.br:5002/api/v1/esperas?token=a779d04f85c4bf6cfa586d30aaec57c44e9b7173&idate=2022-10-08&fdate=2022-10-09\n",
      "Fetching data from http://montreal.icea.decea.mil.br:5002/api/v1/esperas?token=a779d04f85c4bf6cfa586d30aaec57c44e9b7173&idate=2022-10-09&fdate=2022-10-10\n",
      "Fetching data from http://montreal.icea.decea.mil.br:5002/api/v1/esperas?token=a779d04f85c4bf6cfa586d30aaec57c44e9b7173&idate=2022-10-10&fdate=2022-10-11\n",
      "Fetching data from http://montreal.icea.decea.mil.br:5002/api/v1/esperas?token=a779d04f85c4bf6cfa586d30aaec57c44e9b7173&idate=2022-10-11&fdate=2022-10-12\n",
      "Fetching data from http://montreal.icea.decea.mil.br:5002/api/v1/esperas?token=a779d04f85c4bf6cfa586d30aaec57c44e9b7173&idate=2022-10-12&fdate=2022-10-13\n",
      "Fetching data from http://montreal.icea.decea.mil.br:5002/api/v1/esperas?token=a779d04f85c4bf6cfa586d30aaec57c44e9b7173&idate=2022-10-13&fdate=2022-10-14\n",
      "Fetching data from http://montreal.icea.decea.mil.br:5002/api/v1/esperas?token=a779d04f85c4bf6cfa586d30aaec57c44e9b7173&idate=2022-10-14&fdate=2022-10-15\n"
     ]
    },
    {
     "name": "stderr",
     "output_type": "stream",
     "text": [
      "Carregando dados de esperas, Parte 2:  49%|████▉     | 52/106 [00:00<00:00, 203.28it/s]"
     ]
    },
    {
     "name": "stdout",
     "output_type": "stream",
     "text": [
      "Fetching data from http://montreal.icea.decea.mil.br:5002/api/v1/esperas?token=a779d04f85c4bf6cfa586d30aaec57c44e9b7173&idate=2022-10-15&fdate=2022-10-16Fetching data from http://montreal.icea.decea.mil.br:5002/api/v1/esperas?token=a779d04f85c4bf6cfa586d30aaec57c44e9b7173&idate=2022-10-16&fdate=2022-10-17\n",
      "Fetching data from http://montreal.icea.decea.mil.br:5002/api/v1/esperas?token=a779d04f85c4bf6cfa586d30aaec57c44e9b7173&idate=2022-10-17&fdate=2022-10-18\n",
      "Fetching data from http://montreal.icea.decea.mil.br:5002/api/v1/esperas?token=a779d04f85c4bf6cfa586d30aaec57c44e9b7173&idate=2022-10-18&fdate=2022-10-19\n",
      "\n",
      "Fetching data from http://montreal.icea.decea.mil.br:5002/api/v1/esperas?token=a779d04f85c4bf6cfa586d30aaec57c44e9b7173&idate=2022-10-19&fdate=2022-10-20\n",
      "Fetching data from http://montreal.icea.decea.mil.br:5002/api/v1/esperas?token=a779d04f85c4bf6cfa586d30aaec57c44e9b7173&idate=2022-10-20&fdate=2022-10-21\n",
      "Fetching data from http://montreal.icea.decea.mil.br:5002/api/v1/esperas?token=a779d04f85c4bf6cfa586d30aaec57c44e9b7173&idate=2022-10-21&fdate=2022-10-22\n",
      "Fetching data from http://montreal.icea.decea.mil.br:5002/api/v1/esperas?token=a779d04f85c4bf6cfa586d30aaec57c44e9b7173&idate=2022-10-22&fdate=2022-10-23\n",
      "Fetching data from http://montreal.icea.decea.mil.br:5002/api/v1/esperas?token=a779d04f85c4bf6cfa586d30aaec57c44e9b7173&idate=2022-10-23&fdate=2022-10-24\n",
      "Fetching data from http://montreal.icea.decea.mil.br:5002/api/v1/esperas?token=a779d04f85c4bf6cfa586d30aaec57c44e9b7173&idate=2022-10-24&fdate=2022-10-25\n",
      "Fetching data from http://montreal.icea.decea.mil.br:5002/api/v1/esperas?token=a779d04f85c4bf6cfa586d30aaec57c44e9b7173&idate=2022-10-25&fdate=2022-10-26\n",
      "Fetching data from http://montreal.icea.decea.mil.br:5002/api/v1/esperas?token=a779d04f85c4bf6cfa586d30aaec57c44e9b7173&idate=2022-10-26&fdate=2022-10-27\n",
      "Fetching data from http://montreal.icea.decea.mil.br:5002/api/v1/esperas?token=a779d04f85c4bf6cfa586d30aaec57c44e9b7173&idate=2022-10-27&fdate=2022-10-28\n",
      "Fetching data from http://montreal.icea.decea.mil.br:5002/api/v1/esperas?token=a779d04f85c4bf6cfa586d30aaec57c44e9b7173&idate=2022-10-28&fdate=2022-10-29\n",
      "Fetching data from http://montreal.icea.decea.mil.br:5002/api/v1/esperas?token=a779d04f85c4bf6cfa586d30aaec57c44e9b7173&idate=2022-10-29&fdate=2022-10-30\n"
     ]
    },
    {
     "name": "stderr",
     "output_type": "stream",
     "text": [
      "Carregando dados de esperas, Parte 2:  72%|███████▏  | 76/106 [00:00<00:00, 216.41it/s]"
     ]
    },
    {
     "name": "stdout",
     "output_type": "stream",
     "text": [
      "Fetching data from http://montreal.icea.decea.mil.br:5002/api/v1/esperas?token=a779d04f85c4bf6cfa586d30aaec57c44e9b7173&idate=2022-10-30&fdate=2022-10-31\n",
      "Fetching data from http://montreal.icea.decea.mil.br:5002/api/v1/esperas?token=a779d04f85c4bf6cfa586d30aaec57c44e9b7173&idate=2022-10-31&fdate=2022-11-01\n",
      "Fetching data from http://montreal.icea.decea.mil.br:5002/api/v1/esperas?token=a779d04f85c4bf6cfa586d30aaec57c44e9b7173&idate=2022-11-01&fdate=2022-11-02\n",
      "Fetching data from http://montreal.icea.decea.mil.br:5002/api/v1/esperas?token=a779d04f85c4bf6cfa586d30aaec57c44e9b7173&idate=2022-11-02&fdate=2022-11-03\n",
      "Fetching data from http://montreal.icea.decea.mil.br:5002/api/v1/esperas?token=a779d04f85c4bf6cfa586d30aaec57c44e9b7173&idate=2022-11-03&fdate=2022-11-04\n",
      "Fetching data from http://montreal.icea.decea.mil.br:5002/api/v1/esperas?token=a779d04f85c4bf6cfa586d30aaec57c44e9b7173&idate=2022-11-04&fdate=2022-11-05\n",
      "Fetching data from http://montreal.icea.decea.mil.br:5002/api/v1/esperas?token=a779d04f85c4bf6cfa586d30aaec57c44e9b7173&idate=2022-11-05&fdate=2022-11-06\n",
      "Fetching data from http://montreal.icea.decea.mil.br:5002/api/v1/esperas?token=a779d04f85c4bf6cfa586d30aaec57c44e9b7173&idate=2022-11-06&fdate=2022-11-07\n",
      "Fetching data from http://montreal.icea.decea.mil.br:5002/api/v1/esperas?token=a779d04f85c4bf6cfa586d30aaec57c44e9b7173&idate=2022-11-07&fdate=2022-11-08\n",
      "Fetching data from http://montreal.icea.decea.mil.br:5002/api/v1/esperas?token=a779d04f85c4bf6cfa586d30aaec57c44e9b7173&idate=2022-11-08&fdate=2022-11-09\n",
      "Fetching data from http://montreal.icea.decea.mil.br:5002/api/v1/esperas?token=a779d04f85c4bf6cfa586d30aaec57c44e9b7173&idate=2022-11-09&fdate=2022-11-10\n",
      "Fetching data from http://montreal.icea.decea.mil.br:5002/api/v1/esperas?token=a779d04f85c4bf6cfa586d30aaec57c44e9b7173&idate=2022-11-10&fdate=2022-11-11\n",
      "Fetching data from http://montreal.icea.decea.mil.br:5002/api/v1/esperas?token=a779d04f85c4bf6cfa586d30aaec57c44e9b7173&idate=2022-11-11&fdate=2022-11-12\n",
      "Fetching data from http://montreal.icea.decea.mil.br:5002/api/v1/esperas?token=a779d04f85c4bf6cfa586d30aaec57c44e9b7173&idate=2022-11-12&fdate=2022-11-13\n",
      "Fetching data from http://montreal.icea.decea.mil.br:5002/api/v1/esperas?token=a779d04f85c4bf6cfa586d30aaec57c44e9b7173&idate=2022-11-13&fdate=2022-11-14\n",
      "Fetching data from http://montreal.icea.decea.mil.br:5002/api/v1/esperas?token=a779d04f85c4bf6cfa586d30aaec57c44e9b7173&idate=2022-11-14&fdate=2022-11-15\n",
      "Fetching data from http://montreal.icea.decea.mil.br:5002/api/v1/esperas?token=a779d04f85c4bf6cfa586d30aaec57c44e9b7173&idate=2022-11-15&fdate=2022-11-16\n",
      "Fetching data from http://montreal.icea.decea.mil.br:5002/api/v1/esperas?token=a779d04f85c4bf6cfa586d30aaec57c44e9b7173&idate=2022-11-16&fdate=2022-11-17\n",
      "Fetching data from http://montreal.icea.decea.mil.br:5002/api/v1/esperas?token=a779d04f85c4bf6cfa586d30aaec57c44e9b7173&idate=2022-11-17&fdate=2022-11-18\n",
      "Fetching data from http://montreal.icea.decea.mil.br:5002/api/v1/esperas?token=a779d04f85c4bf6cfa586d30aaec57c44e9b7173&idate=2022-11-18&fdate=2022-11-19\n",
      "Fetching data from http://montreal.icea.decea.mil.br:5002/api/v1/esperas?token=a779d04f85c4bf6cfa586d30aaec57c44e9b7173&idate=2022-11-19&fdate=2022-11-20\n",
      "Fetching data from http://montreal.icea.decea.mil.br:5002/api/v1/esperas?token=a779d04f85c4bf6cfa586d30aaec57c44e9b7173&idate=2022-11-20&fdate=2022-11-21Fetching data from http://montreal.icea.decea.mil.br:5002/api/v1/esperas?token=a779d04f85c4bf6cfa586d30aaec57c44e9b7173&idate=2022-11-21&fdate=2022-11-22\n",
      "Fetching data from http://montreal.icea.decea.mil.br:5002/api/v1/esperas?token=a779d04f85c4bf6cfa586d30aaec57c44e9b7173&idate=2022-11-22&fdate=2022-11-23\n",
      "\n",
      "Fetching data from http://montreal.icea.decea.mil.br:5002/api/v1/esperas?token=a779d04f85c4bf6cfa586d30aaec57c44e9b7173&idate=2022-11-23&fdate=2022-11-24\n",
      "Fetching data from http://montreal.icea.decea.mil.br:5002/api/v1/esperas?token=a779d04f85c4bf6cfa586d30aaec57c44e9b7173&idate=2022-11-24&fdate=2022-11-25\n",
      "Fetching data from http://montreal.icea.decea.mil.br:5002/api/v1/esperas?token=a779d04f85c4bf6cfa586d30aaec57c44e9b7173&idate=2022-11-25&fdate=2022-11-26\n",
      "Fetching data from http://montreal.icea.decea.mil.br:5002/api/v1/esperas?token=a779d04f85c4bf6cfa586d30aaec57c44e9b7173&idate=2022-11-26&fdate=2022-11-27\n",
      "Fetching data from http://montreal.icea.decea.mil.br:5002/api/v1/esperas?token=a779d04f85c4bf6cfa586d30aaec57c44e9b7173&idate=2022-11-27&fdate=2022-11-28\n",
      "Fetching data from http://montreal.icea.decea.mil.br:5002/api/v1/esperas?token=a779d04f85c4bf6cfa586d30aaec57c44e9b7173&idate=2022-11-28&fdate=2022-11-29\n"
     ]
    },
    {
     "name": "stderr",
     "output_type": "stream",
     "text": [
      "Carregando dados de esperas, Parte 2: 100%|██████████| 106/106 [00:00<00:00, 226.58it/s]\n"
     ]
    },
    {
     "name": "stdout",
     "output_type": "stream",
     "text": [
      "Dados de esperas salvos em esperas_part_2.csv\n",
      "Processando parte 3/4\n",
      "Fetching data from http://montreal.icea.decea.mil.br:5002/api/v1/esperas?token=a779d04f85c4bf6cfa586d30aaec57c44e9b7173&idate=2022-11-29&fdate=2022-11-30\n",
      "Fetching data from http://montreal.icea.decea.mil.br:5002/api/v1/esperas?token=a779d04f85c4bf6cfa586d30aaec57c44e9b7173&idate=2022-11-30&fdate=2022-12-01\n",
      "Fetching data from http://montreal.icea.decea.mil.br:5002/api/v1/esperas?token=a779d04f85c4bf6cfa586d30aaec57c44e9b7173&idate=2022-12-01&fdate=2022-12-02\n",
      "Fetching data from http://montreal.icea.decea.mil.br:5002/api/v1/esperas?token=a779d04f85c4bf6cfa586d30aaec57c44e9b7173&idate=2022-12-02&fdate=2022-12-03\n",
      "Fetching data from http://montreal.icea.decea.mil.br:5002/api/v1/esperas?token=a779d04f85c4bf6cfa586d30aaec57c44e9b7173&idate=2022-12-03&fdate=2022-12-04\n",
      "Fetching data from http://montreal.icea.decea.mil.br:5002/api/v1/esperas?token=a779d04f85c4bf6cfa586d30aaec57c44e9b7173&idate=2022-12-04&fdate=2022-12-05\n",
      "Fetching data from http://montreal.icea.decea.mil.br:5002/api/v1/esperas?token=a779d04f85c4bf6cfa586d30aaec57c44e9b7173&idate=2022-12-05&fdate=2022-12-06\n",
      "Fetching data from http://montreal.icea.decea.mil.br:5002/api/v1/esperas?token=a779d04f85c4bf6cfa586d30aaec57c44e9b7173&idate=2022-12-06&fdate=2022-12-07\n",
      "Fetching data from http://montreal.icea.decea.mil.br:5002/api/v1/esperas?token=a779d04f85c4bf6cfa586d30aaec57c44e9b7173&idate=2022-12-07&fdate=2022-12-08\n",
      "Fetching data from http://montreal.icea.decea.mil.br:5002/api/v1/esperas?token=a779d04f85c4bf6cfa586d30aaec57c44e9b7173&idate=2022-12-08&fdate=2022-12-09\n"
     ]
    },
    {
     "name": "stderr",
     "output_type": "stream",
     "text": [
      "Carregando dados de esperas, Parte 3:   0%|          | 0/106 [00:00<?, ?it/s]"
     ]
    },
    {
     "name": "stdout",
     "output_type": "stream",
     "text": [
      "Fetching data from http://montreal.icea.decea.mil.br:5002/api/v1/esperas?token=a779d04f85c4bf6cfa586d30aaec57c44e9b7173&idate=2022-12-09&fdate=2022-12-10\n",
      "Fetching data from http://montreal.icea.decea.mil.br:5002/api/v1/esperas?token=a779d04f85c4bf6cfa586d30aaec57c44e9b7173&idate=2022-12-10&fdate=2022-12-11\n",
      "Fetching data from http://montreal.icea.decea.mil.br:5002/api/v1/esperas?token=a779d04f85c4bf6cfa586d30aaec57c44e9b7173&idate=2022-12-11&fdate=2022-12-12\n",
      "Fetching data from http://montreal.icea.decea.mil.br:5002/api/v1/esperas?token=a779d04f85c4bf6cfa586d30aaec57c44e9b7173&idate=2022-12-12&fdate=2022-12-13\n",
      "Fetching data from http://montreal.icea.decea.mil.br:5002/api/v1/esperas?token=a779d04f85c4bf6cfa586d30aaec57c44e9b7173&idate=2022-12-13&fdate=2022-12-14\n",
      "Fetching data from http://montreal.icea.decea.mil.br:5002/api/v1/esperas?token=a779d04f85c4bf6cfa586d30aaec57c44e9b7173&idate=2022-12-14&fdate=2022-12-15\n",
      "Fetching data from http://montreal.icea.decea.mil.br:5002/api/v1/esperas?token=a779d04f85c4bf6cfa586d30aaec57c44e9b7173&idate=2022-12-15&fdate=2022-12-16\n",
      "Fetching data from http://montreal.icea.decea.mil.br:5002/api/v1/esperas?token=a779d04f85c4bf6cfa586d30aaec57c44e9b7173&idate=2022-12-16&fdate=2022-12-17\n",
      "Fetching data from http://montreal.icea.decea.mil.br:5002/api/v1/esperas?token=a779d04f85c4bf6cfa586d30aaec57c44e9b7173&idate=2022-12-17&fdate=2022-12-18\n",
      "Fetching data from http://montreal.icea.decea.mil.br:5002/api/v1/esperas?token=a779d04f85c4bf6cfa586d30aaec57c44e9b7173&idate=2022-12-18&fdate=2022-12-19\n",
      "Fetching data from http://montreal.icea.decea.mil.br:5002/api/v1/esperas?token=a779d04f85c4bf6cfa586d30aaec57c44e9b7173&idate=2022-12-19&fdate=2022-12-20\n",
      "Fetching data from http://montreal.icea.decea.mil.br:5002/api/v1/esperas?token=a779d04f85c4bf6cfa586d30aaec57c44e9b7173&idate=2022-12-20&fdate=2022-12-21\n",
      "Fetching data from http://montreal.icea.decea.mil.br:5002/api/v1/esperas?token=a779d04f85c4bf6cfa586d30aaec57c44e9b7173&idate=2022-12-21&fdate=2022-12-22\n",
      "Fetching data from http://montreal.icea.decea.mil.br:5002/api/v1/esperas?token=a779d04f85c4bf6cfa586d30aaec57c44e9b7173&idate=2022-12-22&fdate=2022-12-23\n",
      "Fetching data from http://montreal.icea.decea.mil.br:5002/api/v1/esperas?token=a779d04f85c4bf6cfa586d30aaec57c44e9b7173&idate=2022-12-23&fdate=2022-12-24\n",
      "Fetching data from http://montreal.icea.decea.mil.br:5002/api/v1/esperas?token=a779d04f85c4bf6cfa586d30aaec57c44e9b7173&idate=2022-12-24&fdate=2022-12-25\n",
      "Fetching data from http://montreal.icea.decea.mil.br:5002/api/v1/esperas?token=a779d04f85c4bf6cfa586d30aaec57c44e9b7173&idate=2022-12-25&fdate=2022-12-26\n",
      "Fetching data from http://montreal.icea.decea.mil.br:5002/api/v1/esperas?token=a779d04f85c4bf6cfa586d30aaec57c44e9b7173&idate=2022-12-26&fdate=2022-12-27\n",
      "Fetching data from http://montreal.icea.decea.mil.br:5002/api/v1/esperas?token=a779d04f85c4bf6cfa586d30aaec57c44e9b7173&idate=2022-12-27&fdate=2022-12-28\n",
      "Fetching data from http://montreal.icea.decea.mil.br:5002/api/v1/esperas?token=a779d04f85c4bf6cfa586d30aaec57c44e9b7173&idate=2022-12-28&fdate=2022-12-29\n",
      "Fetching data from http://montreal.icea.decea.mil.br:5002/api/v1/esperas?token=a779d04f85c4bf6cfa586d30aaec57c44e9b7173&idate=2022-12-29&fdate=2022-12-30\n",
      "Fetching data from http://montreal.icea.decea.mil.br:5002/api/v1/esperas?token=a779d04f85c4bf6cfa586d30aaec57c44e9b7173&idate=2022-12-30&fdate=2022-12-31\n",
      "Fetching data from http://montreal.icea.decea.mil.br:5002/api/v1/esperas?token=a779d04f85c4bf6cfa586d30aaec57c44e9b7173&idate=2022-12-31&fdate=2023-01-01\n"
     ]
    },
    {
     "name": "stderr",
     "output_type": "stream",
     "text": [
      "Carregando dados de esperas, Parte 3:  20%|█▉        | 21/106 [00:00<00:00, 196.52it/s]"
     ]
    },
    {
     "name": "stdout",
     "output_type": "stream",
     "text": [
      "Fetching data from http://montreal.icea.decea.mil.br:5002/api/v1/esperas?token=a779d04f85c4bf6cfa586d30aaec57c44e9b7173&idate=2023-01-01&fdate=2023-01-02\n",
      "Fetching data from http://montreal.icea.decea.mil.br:5002/api/v1/esperas?token=a779d04f85c4bf6cfa586d30aaec57c44e9b7173&idate=2023-01-02&fdate=2023-01-03\n",
      "Fetching data from http://montreal.icea.decea.mil.br:5002/api/v1/esperas?token=a779d04f85c4bf6cfa586d30aaec57c44e9b7173&idate=2023-01-03&fdate=2023-01-04\n",
      "Fetching data from http://montreal.icea.decea.mil.br:5002/api/v1/esperas?token=a779d04f85c4bf6cfa586d30aaec57c44e9b7173&idate=2023-01-04&fdate=2023-01-05\n",
      "Fetching data from http://montreal.icea.decea.mil.br:5002/api/v1/esperas?token=a779d04f85c4bf6cfa586d30aaec57c44e9b7173&idate=2023-01-05&fdate=2023-01-06\n",
      "Fetching data from http://montreal.icea.decea.mil.br:5002/api/v1/esperas?token=a779d04f85c4bf6cfa586d30aaec57c44e9b7173&idate=2023-01-06&fdate=2023-01-07\n",
      "Fetching data from http://montreal.icea.decea.mil.br:5002/api/v1/esperas?token=a779d04f85c4bf6cfa586d30aaec57c44e9b7173&idate=2023-01-07&fdate=2023-01-08\n",
      "Fetching data from http://montreal.icea.decea.mil.br:5002/api/v1/esperas?token=a779d04f85c4bf6cfa586d30aaec57c44e9b7173&idate=2023-01-08&fdate=2023-01-09\n",
      "Fetching data from http://montreal.icea.decea.mil.br:5002/api/v1/esperas?token=a779d04f85c4bf6cfa586d30aaec57c44e9b7173&idate=2023-01-09&fdate=2023-01-10\n",
      "Fetching data from http://montreal.icea.decea.mil.br:5002/api/v1/esperas?token=a779d04f85c4bf6cfa586d30aaec57c44e9b7173&idate=2023-01-10&fdate=2023-01-11\n",
      "Fetching data from http://montreal.icea.decea.mil.br:5002/api/v1/esperas?token=a779d04f85c4bf6cfa586d30aaec57c44e9b7173&idate=2023-01-11&fdate=2023-01-12\n",
      "Fetching data from http://montreal.icea.decea.mil.br:5002/api/v1/esperas?token=a779d04f85c4bf6cfa586d30aaec57c44e9b7173&idate=2023-01-12&fdate=2023-01-13\n",
      "Fetching data from http://montreal.icea.decea.mil.br:5002/api/v1/esperas?token=a779d04f85c4bf6cfa586d30aaec57c44e9b7173&idate=2023-01-13&fdate=2023-01-14\n",
      "Fetching data from http://montreal.icea.decea.mil.br:5002/api/v1/esperas?token=a779d04f85c4bf6cfa586d30aaec57c44e9b7173&idate=2023-01-14&fdate=2023-01-15\n",
      "Fetching data from http://montreal.icea.decea.mil.br:5002/api/v1/esperas?token=a779d04f85c4bf6cfa586d30aaec57c44e9b7173&idate=2023-01-15&fdate=2023-01-16\n",
      "Fetching data from http://montreal.icea.decea.mil.br:5002/api/v1/esperas?token=a779d04f85c4bf6cfa586d30aaec57c44e9b7173&idate=2023-01-16&fdate=2023-01-17\n",
      "Fetching data from http://montreal.icea.decea.mil.br:5002/api/v1/esperas?token=a779d04f85c4bf6cfa586d30aaec57c44e9b7173&idate=2023-01-17&fdate=2023-01-18\n",
      "Fetching data from http://montreal.icea.decea.mil.br:5002/api/v1/esperas?token=a779d04f85c4bf6cfa586d30aaec57c44e9b7173&idate=2023-01-18&fdate=2023-01-19\n",
      "Fetching data from http://montreal.icea.decea.mil.br:5002/api/v1/esperas?token=a779d04f85c4bf6cfa586d30aaec57c44e9b7173&idate=2023-01-19&fdate=2023-01-20\n"
     ]
    },
    {
     "name": "stderr",
     "output_type": "stream",
     "text": [
      "Carregando dados de esperas, Parte 3:  39%|███▊      | 41/106 [00:00<00:00, 162.87it/s]"
     ]
    },
    {
     "name": "stdout",
     "output_type": "stream",
     "text": [
      "Fetching data from http://montreal.icea.decea.mil.br:5002/api/v1/esperas?token=a779d04f85c4bf6cfa586d30aaec57c44e9b7173&idate=2023-01-20&fdate=2023-01-21\n",
      "Fetching data from http://montreal.icea.decea.mil.br:5002/api/v1/esperas?token=a779d04f85c4bf6cfa586d30aaec57c44e9b7173&idate=2023-01-21&fdate=2023-01-22\n",
      "Fetching data from http://montreal.icea.decea.mil.br:5002/api/v1/esperas?token=a779d04f85c4bf6cfa586d30aaec57c44e9b7173&idate=2023-01-22&fdate=2023-01-23\n",
      "Fetching data from http://montreal.icea.decea.mil.br:5002/api/v1/esperas?token=a779d04f85c4bf6cfa586d30aaec57c44e9b7173&idate=2023-01-23&fdate=2023-01-24\n",
      "Fetching data from http://montreal.icea.decea.mil.br:5002/api/v1/esperas?token=a779d04f85c4bf6cfa586d30aaec57c44e9b7173&idate=2023-01-24&fdate=2023-01-25\n",
      "Fetching data from http://montreal.icea.decea.mil.br:5002/api/v1/esperas?token=a779d04f85c4bf6cfa586d30aaec57c44e9b7173&idate=2023-01-25&fdate=2023-01-26\n",
      "Fetching data from http://montreal.icea.decea.mil.br:5002/api/v1/esperas?token=a779d04f85c4bf6cfa586d30aaec57c44e9b7173&idate=2023-01-26&fdate=2023-01-27\n",
      "Fetching data from http://montreal.icea.decea.mil.br:5002/api/v1/esperas?token=a779d04f85c4bf6cfa586d30aaec57c44e9b7173&idate=2023-01-27&fdate=2023-01-28\n",
      "Fetching data from http://montreal.icea.decea.mil.br:5002/api/v1/esperas?token=a779d04f85c4bf6cfa586d30aaec57c44e9b7173&idate=2023-01-28&fdate=2023-01-29\n",
      "Fetching data from http://montreal.icea.decea.mil.br:5002/api/v1/esperas?token=a779d04f85c4bf6cfa586d30aaec57c44e9b7173&idate=2023-01-29&fdate=2023-01-30\n",
      "Fetching data from http://montreal.icea.decea.mil.br:5002/api/v1/esperas?token=a779d04f85c4bf6cfa586d30aaec57c44e9b7173&idate=2023-01-30&fdate=2023-01-31\n",
      "Fetching data from http://montreal.icea.decea.mil.br:5002/api/v1/esperas?token=a779d04f85c4bf6cfa586d30aaec57c44e9b7173&idate=2023-01-31&fdate=2023-02-01\n",
      "Fetching data from http://montreal.icea.decea.mil.br:5002/api/v1/esperas?token=a779d04f85c4bf6cfa586d30aaec57c44e9b7173&idate=2023-02-01&fdate=2023-02-02\n",
      "Fetching data from http://montreal.icea.decea.mil.br:5002/api/v1/esperas?token=a779d04f85c4bf6cfa586d30aaec57c44e9b7173&idate=2023-02-02&fdate=2023-02-03\n",
      "Fetching data from http://montreal.icea.decea.mil.br:5002/api/v1/esperas?token=a779d04f85c4bf6cfa586d30aaec57c44e9b7173&idate=2023-02-03&fdate=2023-02-04\n",
      "Fetching data from http://montreal.icea.decea.mil.br:5002/api/v1/esperas?token=a779d04f85c4bf6cfa586d30aaec57c44e9b7173&idate=2023-02-04&fdate=2023-02-05\n"
     ]
    },
    {
     "name": "stderr",
     "output_type": "stream",
     "text": [
      "Carregando dados de esperas, Parte 3:  59%|█████▉    | 63/106 [00:00<00:00, 183.07it/s]"
     ]
    },
    {
     "name": "stdout",
     "output_type": "stream",
     "text": [
      "Fetching data from http://montreal.icea.decea.mil.br:5002/api/v1/esperas?token=a779d04f85c4bf6cfa586d30aaec57c44e9b7173&idate=2023-02-05&fdate=2023-02-06\n",
      "Fetching data from http://montreal.icea.decea.mil.br:5002/api/v1/esperas?token=a779d04f85c4bf6cfa586d30aaec57c44e9b7173&idate=2023-02-06&fdate=2023-02-07\n",
      "Fetching data from http://montreal.icea.decea.mil.br:5002/api/v1/esperas?token=a779d04f85c4bf6cfa586d30aaec57c44e9b7173&idate=2023-02-07&fdate=2023-02-08\n",
      "Fetching data from http://montreal.icea.decea.mil.br:5002/api/v1/esperas?token=a779d04f85c4bf6cfa586d30aaec57c44e9b7173&idate=2023-02-08&fdate=2023-02-09\n",
      "Fetching data from http://montreal.icea.decea.mil.br:5002/api/v1/esperas?token=a779d04f85c4bf6cfa586d30aaec57c44e9b7173&idate=2023-02-09&fdate=2023-02-10\n",
      "Fetching data from http://montreal.icea.decea.mil.br:5002/api/v1/esperas?token=a779d04f85c4bf6cfa586d30aaec57c44e9b7173&idate=2023-02-10&fdate=2023-02-11\n",
      "Fetching data from http://montreal.icea.decea.mil.br:5002/api/v1/esperas?token=a779d04f85c4bf6cfa586d30aaec57c44e9b7173&idate=2023-02-11&fdate=2023-02-12\n",
      "Fetching data from http://montreal.icea.decea.mil.br:5002/api/v1/esperas?token=a779d04f85c4bf6cfa586d30aaec57c44e9b7173&idate=2023-02-12&fdate=2023-02-13\n",
      "Fetching data from http://montreal.icea.decea.mil.br:5002/api/v1/esperas?token=a779d04f85c4bf6cfa586d30aaec57c44e9b7173&idate=2023-02-13&fdate=2023-02-14\n",
      "Fetching data from http://montreal.icea.decea.mil.br:5002/api/v1/esperas?token=a779d04f85c4bf6cfa586d30aaec57c44e9b7173&idate=2023-02-14&fdate=2023-02-15\n",
      "Fetching data from http://montreal.icea.decea.mil.br:5002/api/v1/esperas?token=a779d04f85c4bf6cfa586d30aaec57c44e9b7173&idate=2023-02-15&fdate=2023-02-16\n",
      "Fetching data from http://montreal.icea.decea.mil.br:5002/api/v1/esperas?token=a779d04f85c4bf6cfa586d30aaec57c44e9b7173&idate=2023-02-16&fdate=2023-02-17\n",
      "Fetching data from http://montreal.icea.decea.mil.br:5002/api/v1/esperas?token=a779d04f85c4bf6cfa586d30aaec57c44e9b7173&idate=2023-02-17&fdate=2023-02-18\n",
      "Fetching data from http://montreal.icea.decea.mil.br:5002/api/v1/esperas?token=a779d04f85c4bf6cfa586d30aaec57c44e9b7173&idate=2023-02-18&fdate=2023-02-19\n",
      "Fetching data from http://montreal.icea.decea.mil.br:5002/api/v1/esperas?token=a779d04f85c4bf6cfa586d30aaec57c44e9b7173&idate=2023-02-19&fdate=2023-02-20\n",
      "Fetching data from http://montreal.icea.decea.mil.br:5002/api/v1/esperas?token=a779d04f85c4bf6cfa586d30aaec57c44e9b7173&idate=2023-02-20&fdate=2023-02-21\n",
      "Fetching data from http://montreal.icea.decea.mil.br:5002/api/v1/esperas?token=a779d04f85c4bf6cfa586d30aaec57c44e9b7173&idate=2023-02-21&fdate=2023-02-22\n",
      "Fetching data from http://montreal.icea.decea.mil.br:5002/api/v1/esperas?token=a779d04f85c4bf6cfa586d30aaec57c44e9b7173&idate=2023-02-22&fdate=2023-02-23\n",
      "Fetching data from http://montreal.icea.decea.mil.br:5002/api/v1/esperas?token=a779d04f85c4bf6cfa586d30aaec57c44e9b7173&idate=2023-02-23&fdate=2023-02-24\n",
      "Fetching data from http://montreal.icea.decea.mil.br:5002/api/v1/esperas?token=a779d04f85c4bf6cfa586d30aaec57c44e9b7173&idate=2023-02-24&fdate=2023-02-25\n",
      "Fetching data from http://montreal.icea.decea.mil.br:5002/api/v1/esperas?token=a779d04f85c4bf6cfa586d30aaec57c44e9b7173&idate=2023-02-25&fdate=2023-02-26\n",
      "Fetching data from http://montreal.icea.decea.mil.br:5002/api/v1/esperas?token=a779d04f85c4bf6cfa586d30aaec57c44e9b7173&idate=2023-02-26&fdate=2023-02-27\n",
      "Fetching data from http://montreal.icea.decea.mil.br:5002/api/v1/esperas?token=a779d04f85c4bf6cfa586d30aaec57c44e9b7173&idate=2023-02-27&fdate=2023-02-28\n",
      "Fetching data from http://montreal.icea.decea.mil.br:5002/api/v1/esperas?token=a779d04f85c4bf6cfa586d30aaec57c44e9b7173&idate=2023-02-28&fdate=2023-03-01\n",
      "Fetching data from http://montreal.icea.decea.mil.br:5002/api/v1/esperas?token=a779d04f85c4bf6cfa586d30aaec57c44e9b7173&idate=2023-03-01&fdate=2023-03-02\n",
      "Fetching data from http://montreal.icea.decea.mil.br:5002/api/v1/esperas?token=a779d04f85c4bf6cfa586d30aaec57c44e9b7173&idate=2023-03-02&fdate=2023-03-03\n",
      "Fetching data from http://montreal.icea.decea.mil.br:5002/api/v1/esperas?token=a779d04f85c4bf6cfa586d30aaec57c44e9b7173&idate=2023-03-03&fdate=2023-03-04\n",
      "Fetching data from http://montreal.icea.decea.mil.br:5002/api/v1/esperas?token=a779d04f85c4bf6cfa586d30aaec57c44e9b7173&idate=2023-03-04&fdate=2023-03-05\n",
      "Fetching data from http://montreal.icea.decea.mil.br:5002/api/v1/esperas?token=a779d04f85c4bf6cfa586d30aaec57c44e9b7173&idate=2023-03-05&fdate=2023-03-06\n"
     ]
    },
    {
     "name": "stderr",
     "output_type": "stream",
     "text": [
      "Carregando dados de esperas, Parte 3:  86%|████████▌ | 91/106 [00:00<00:00, 216.03it/s]"
     ]
    },
    {
     "name": "stdout",
     "output_type": "stream",
     "text": [
      "Fetching data from http://montreal.icea.decea.mil.br:5002/api/v1/esperas?token=a779d04f85c4bf6cfa586d30aaec57c44e9b7173&idate=2023-03-06&fdate=2023-03-07\n",
      "Fetching data from http://montreal.icea.decea.mil.br:5002/api/v1/esperas?token=a779d04f85c4bf6cfa586d30aaec57c44e9b7173&idate=2023-03-07&fdate=2023-03-08\n",
      "Fetching data from http://montreal.icea.decea.mil.br:5002/api/v1/esperas?token=a779d04f85c4bf6cfa586d30aaec57c44e9b7173&idate=2023-03-08&fdate=2023-03-09\n",
      "Fetching data from http://montreal.icea.decea.mil.br:5002/api/v1/esperas?token=a779d04f85c4bf6cfa586d30aaec57c44e9b7173&idate=2023-03-09&fdate=2023-03-10\n",
      "Fetching data from http://montreal.icea.decea.mil.br:5002/api/v1/esperas?token=a779d04f85c4bf6cfa586d30aaec57c44e9b7173&idate=2023-03-10&fdate=2023-03-11\n"
     ]
    },
    {
     "name": "stderr",
     "output_type": "stream",
     "text": [
      "Carregando dados de esperas, Parte 3: 100%|██████████| 106/106 [00:00<00:00, 207.64it/s]"
     ]
    },
    {
     "name": "stdout",
     "output_type": "stream",
     "text": [
      "Fetching data from http://montreal.icea.decea.mil.br:5002/api/v1/esperas?token=a779d04f85c4bf6cfa586d30aaec57c44e9b7173&idate=2023-03-11&fdate=2023-03-12\n",
      "Fetching data from http://montreal.icea.decea.mil.br:5002/api/v1/esperas?token=a779d04f85c4bf6cfa586d30aaec57c44e9b7173&idate=2023-03-12&fdate=2023-03-13\n",
      "Fetching data from http://montreal.icea.decea.mil.br:5002/api/v1/esperas?token=a779d04f85c4bf6cfa586d30aaec57c44e9b7173&idate=2023-03-13&fdate=2023-03-14\n",
      "Fetching data from http://montreal.icea.decea.mil.br:5002/api/v1/esperas?token=a779d04f85c4bf6cfa586d30aaec57c44e9b7173&idate=2023-03-14&fdate=2023-03-15\n",
      "Dados de esperas salvos em esperas_part_3.csv\n",
      "Processando parte 4/4\n",
      "Fetching data from http://montreal.icea.decea.mil.br:5002/api/v1/esperas?token=a779d04f85c4bf6cfa586d30aaec57c44e9b7173&idate=2023-03-15&fdate=2023-03-16\n",
      "Fetching data from http://montreal.icea.decea.mil.br:5002/api/v1/esperas?token=a779d04f85c4bf6cfa586d30aaec57c44e9b7173&idate=2023-03-16&fdate=2023-03-17\n",
      "Fetching data from http://montreal.icea.decea.mil.br:5002/api/v1/esperas?token=a779d04f85c4bf6cfa586d30aaec57c44e9b7173&idate=2023-03-17&fdate=2023-03-18\n",
      "Fetching data from http://montreal.icea.decea.mil.br:5002/api/v1/esperas?token=a779d04f85c4bf6cfa586d30aaec57c44e9b7173&idate=2023-03-18&fdate=2023-03-19\n"
     ]
    },
    {
     "name": "stderr",
     "output_type": "stream",
     "text": [
      "\n"
     ]
    },
    {
     "name": "stdout",
     "output_type": "stream",
     "text": [
      "Fetching data from http://montreal.icea.decea.mil.br:5002/api/v1/esperas?token=a779d04f85c4bf6cfa586d30aaec57c44e9b7173&idate=2023-03-19&fdate=2023-03-20\n",
      "Fetching data from http://montreal.icea.decea.mil.br:5002/api/v1/esperas?token=a779d04f85c4bf6cfa586d30aaec57c44e9b7173&idate=2023-03-20&fdate=2023-03-21\n",
      "Fetching data from http://montreal.icea.decea.mil.br:5002/api/v1/esperas?token=a779d04f85c4bf6cfa586d30aaec57c44e9b7173&idate=2023-03-21&fdate=2023-03-22\n",
      "Fetching data from http://montreal.icea.decea.mil.br:5002/api/v1/esperas?token=a779d04f85c4bf6cfa586d30aaec57c44e9b7173&idate=2023-03-22&fdate=2023-03-23\n",
      "Fetching data from http://montreal.icea.decea.mil.br:5002/api/v1/esperas?token=a779d04f85c4bf6cfa586d30aaec57c44e9b7173&idate=2023-03-23&fdate=2023-03-24\n",
      "Fetching data from http://montreal.icea.decea.mil.br:5002/api/v1/esperas?token=a779d04f85c4bf6cfa586d30aaec57c44e9b7173&idate=2023-03-24&fdate=2023-03-25\n"
     ]
    },
    {
     "name": "stderr",
     "output_type": "stream",
     "text": [
      "Carregando dados de esperas, Parte 4:   0%|          | 0/109 [00:00<?, ?it/s]"
     ]
    },
    {
     "name": "stdout",
     "output_type": "stream",
     "text": [
      "Fetching data from http://montreal.icea.decea.mil.br:5002/api/v1/esperas?token=a779d04f85c4bf6cfa586d30aaec57c44e9b7173&idate=2023-03-25&fdate=2023-03-26\n",
      "Fetching data from http://montreal.icea.decea.mil.br:5002/api/v1/esperas?token=a779d04f85c4bf6cfa586d30aaec57c44e9b7173&idate=2023-03-26&fdate=2023-03-27\n",
      "Fetching data from http://montreal.icea.decea.mil.br:5002/api/v1/esperas?token=a779d04f85c4bf6cfa586d30aaec57c44e9b7173&idate=2023-03-27&fdate=2023-03-28\n",
      "Fetching data from http://montreal.icea.decea.mil.br:5002/api/v1/esperas?token=a779d04f85c4bf6cfa586d30aaec57c44e9b7173&idate=2023-03-28&fdate=2023-03-29\n",
      "Fetching data from http://montreal.icea.decea.mil.br:5002/api/v1/esperas?token=a779d04f85c4bf6cfa586d30aaec57c44e9b7173&idate=2023-03-29&fdate=2023-03-30\n",
      "Fetching data from http://montreal.icea.decea.mil.br:5002/api/v1/esperas?token=a779d04f85c4bf6cfa586d30aaec57c44e9b7173&idate=2023-03-30&fdate=2023-03-31\n",
      "Fetching data from http://montreal.icea.decea.mil.br:5002/api/v1/esperas?token=a779d04f85c4bf6cfa586d30aaec57c44e9b7173&idate=2023-03-31&fdate=2023-04-01\n",
      "Fetching data from http://montreal.icea.decea.mil.br:5002/api/v1/esperas?token=a779d04f85c4bf6cfa586d30aaec57c44e9b7173&idate=2023-04-01&fdate=2023-04-02\n",
      "Fetching data from http://montreal.icea.decea.mil.br:5002/api/v1/esperas?token=a779d04f85c4bf6cfa586d30aaec57c44e9b7173&idate=2023-04-02&fdate=2023-04-03\n",
      "Fetching data from http://montreal.icea.decea.mil.br:5002/api/v1/esperas?token=a779d04f85c4bf6cfa586d30aaec57c44e9b7173&idate=2023-04-03&fdate=2023-04-04\n",
      "Fetching data from http://montreal.icea.decea.mil.br:5002/api/v1/esperas?token=a779d04f85c4bf6cfa586d30aaec57c44e9b7173&idate=2023-04-04&fdate=2023-04-05\n",
      "Fetching data from http://montreal.icea.decea.mil.br:5002/api/v1/esperas?token=a779d04f85c4bf6cfa586d30aaec57c44e9b7173&idate=2023-04-05&fdate=2023-04-06\n",
      "Fetching data from http://montreal.icea.decea.mil.br:5002/api/v1/esperas?token=a779d04f85c4bf6cfa586d30aaec57c44e9b7173&idate=2023-04-06&fdate=2023-04-07\n",
      "Fetching data from http://montreal.icea.decea.mil.br:5002/api/v1/esperas?token=a779d04f85c4bf6cfa586d30aaec57c44e9b7173&idate=2023-04-07&fdate=2023-04-08\n",
      "Fetching data from http://montreal.icea.decea.mil.br:5002/api/v1/esperas?token=a779d04f85c4bf6cfa586d30aaec57c44e9b7173&idate=2023-04-08&fdate=2023-04-09\n",
      "Fetching data from http://montreal.icea.decea.mil.br:5002/api/v1/esperas?token=a779d04f85c4bf6cfa586d30aaec57c44e9b7173&idate=2023-04-09&fdate=2023-04-10\n",
      "Fetching data from http://montreal.icea.decea.mil.br:5002/api/v1/esperas?token=a779d04f85c4bf6cfa586d30aaec57c44e9b7173&idate=2023-04-10&fdate=2023-04-11\n",
      "Fetching data from http://montreal.icea.decea.mil.br:5002/api/v1/esperas?token=a779d04f85c4bf6cfa586d30aaec57c44e9b7173&idate=2023-04-11&fdate=2023-04-12\n"
     ]
    },
    {
     "name": "stderr",
     "output_type": "stream",
     "text": [
      "Carregando dados de esperas, Parte 4:  17%|█▋        | 18/109 [00:00<00:00, 157.79it/s]"
     ]
    },
    {
     "name": "stdout",
     "output_type": "stream",
     "text": [
      "Fetching data from http://montreal.icea.decea.mil.br:5002/api/v1/esperas?token=a779d04f85c4bf6cfa586d30aaec57c44e9b7173&idate=2023-04-12&fdate=2023-04-13\n",
      "Fetching data from http://montreal.icea.decea.mil.br:5002/api/v1/esperas?token=a779d04f85c4bf6cfa586d30aaec57c44e9b7173&idate=2023-04-13&fdate=2023-04-14\n",
      "Fetching data from http://montreal.icea.decea.mil.br:5002/api/v1/esperas?token=a779d04f85c4bf6cfa586d30aaec57c44e9b7173&idate=2023-04-14&fdate=2023-04-15\n",
      "Fetching data from http://montreal.icea.decea.mil.br:5002/api/v1/esperas?token=a779d04f85c4bf6cfa586d30aaec57c44e9b7173&idate=2023-04-15&fdate=2023-04-16\n",
      "Fetching data from http://montreal.icea.decea.mil.br:5002/api/v1/esperas?token=a779d04f85c4bf6cfa586d30aaec57c44e9b7173&idate=2023-04-16&fdate=2023-04-17\n",
      "Fetching data from http://montreal.icea.decea.mil.br:5002/api/v1/esperas?token=a779d04f85c4bf6cfa586d30aaec57c44e9b7173&idate=2023-04-17&fdate=2023-04-18\n",
      "Fetching data from http://montreal.icea.decea.mil.br:5002/api/v1/esperas?token=a779d04f85c4bf6cfa586d30aaec57c44e9b7173&idate=2023-04-18&fdate=2023-04-19\n",
      "Fetching data from http://montreal.icea.decea.mil.br:5002/api/v1/esperas?token=a779d04f85c4bf6cfa586d30aaec57c44e9b7173&idate=2023-04-19&fdate=2023-04-20\n",
      "Fetching data from http://montreal.icea.decea.mil.br:5002/api/v1/esperas?token=a779d04f85c4bf6cfa586d30aaec57c44e9b7173&idate=2023-04-20&fdate=2023-04-21\n",
      "Fetching data from http://montreal.icea.decea.mil.br:5002/api/v1/esperas?token=a779d04f85c4bf6cfa586d30aaec57c44e9b7173&idate=2023-04-21&fdate=2023-04-22\n",
      "Fetching data from http://montreal.icea.decea.mil.br:5002/api/v1/esperas?token=a779d04f85c4bf6cfa586d30aaec57c44e9b7173&idate=2023-04-22&fdate=2023-04-23\n",
      "Fetching data from http://montreal.icea.decea.mil.br:5002/api/v1/esperas?token=a779d04f85c4bf6cfa586d30aaec57c44e9b7173&idate=2023-04-23&fdate=2023-04-24\n",
      "Fetching data from http://montreal.icea.decea.mil.br:5002/api/v1/esperas?token=a779d04f85c4bf6cfa586d30aaec57c44e9b7173&idate=2023-04-24&fdate=2023-04-25\n",
      "Fetching data from http://montreal.icea.decea.mil.br:5002/api/v1/esperas?token=a779d04f85c4bf6cfa586d30aaec57c44e9b7173&idate=2023-04-25&fdate=2023-04-26\n"
     ]
    },
    {
     "name": "stderr",
     "output_type": "stream",
     "text": [
      "Carregando dados de esperas, Parte 4:  32%|███▏      | 35/109 [00:00<00:00, 160.41it/s]"
     ]
    },
    {
     "name": "stdout",
     "output_type": "stream",
     "text": [
      "Fetching data from http://montreal.icea.decea.mil.br:5002/api/v1/esperas?token=a779d04f85c4bf6cfa586d30aaec57c44e9b7173&idate=2023-04-26&fdate=2023-04-27Fetching data from http://montreal.icea.decea.mil.br:5002/api/v1/esperas?token=a779d04f85c4bf6cfa586d30aaec57c44e9b7173&idate=2023-04-27&fdate=2023-04-28\n",
      "\n",
      "Fetching data from http://montreal.icea.decea.mil.br:5002/api/v1/esperas?token=a779d04f85c4bf6cfa586d30aaec57c44e9b7173&idate=2023-04-28&fdate=2023-04-29\n",
      "Fetching data from http://montreal.icea.decea.mil.br:5002/api/v1/esperas?token=a779d04f85c4bf6cfa586d30aaec57c44e9b7173&idate=2023-04-29&fdate=2023-04-30\n",
      "Fetching data from http://montreal.icea.decea.mil.br:5002/api/v1/esperas?token=a779d04f85c4bf6cfa586d30aaec57c44e9b7173&idate=2023-04-30&fdate=2023-05-01\n",
      "Fetching data from http://montreal.icea.decea.mil.br:5002/api/v1/esperas?token=a779d04f85c4bf6cfa586d30aaec57c44e9b7173&idate=2023-05-01&fdate=2023-05-02\n",
      "Fetching data from http://montreal.icea.decea.mil.br:5002/api/v1/esperas?token=a779d04f85c4bf6cfa586d30aaec57c44e9b7173&idate=2023-05-02&fdate=2023-05-03Fetching data from http://montreal.icea.decea.mil.br:5002/api/v1/esperas?token=a779d04f85c4bf6cfa586d30aaec57c44e9b7173&idate=2023-05-03&fdate=2023-05-04\n",
      "Fetching data from http://montreal.icea.decea.mil.br:5002/api/v1/esperas?token=a779d04f85c4bf6cfa586d30aaec57c44e9b7173&idate=2023-05-04&fdate=2023-05-05\n",
      "\n",
      "Fetching data from http://montreal.icea.decea.mil.br:5002/api/v1/esperas?token=a779d04f85c4bf6cfa586d30aaec57c44e9b7173&idate=2023-05-05&fdate=2023-05-06\n",
      "Fetching data from http://montreal.icea.decea.mil.br:5002/api/v1/esperas?token=a779d04f85c4bf6cfa586d30aaec57c44e9b7173&idate=2023-05-06&fdate=2023-05-07\n",
      "Fetching data from http://montreal.icea.decea.mil.br:5002/api/v1/esperas?token=a779d04f85c4bf6cfa586d30aaec57c44e9b7173&idate=2023-05-07&fdate=2023-05-08\n",
      "Fetching data from http://montreal.icea.decea.mil.br:5002/api/v1/esperas?token=a779d04f85c4bf6cfa586d30aaec57c44e9b7173&idate=2023-05-08&fdate=2023-05-09\n",
      "Fetching data from http://montreal.icea.decea.mil.br:5002/api/v1/esperas?token=a779d04f85c4bf6cfa586d30aaec57c44e9b7173&idate=2023-05-09&fdate=2023-05-10\n",
      "Fetching data from http://montreal.icea.decea.mil.br:5002/api/v1/esperas?token=a779d04f85c4bf6cfa586d30aaec57c44e9b7173&idate=2023-05-10&fdate=2023-05-11\n",
      "Fetching data from http://montreal.icea.decea.mil.br:5002/api/v1/esperas?token=a779d04f85c4bf6cfa586d30aaec57c44e9b7173&idate=2023-05-11&fdate=2023-05-12\n",
      "Fetching data from http://montreal.icea.decea.mil.br:5002/api/v1/esperas?token=a779d04f85c4bf6cfa586d30aaec57c44e9b7173&idate=2023-05-12&fdate=2023-05-13\n",
      "Fetching data from http://montreal.icea.decea.mil.br:5002/api/v1/esperas?token=a779d04f85c4bf6cfa586d30aaec57c44e9b7173&idate=2023-05-13&fdate=2023-05-14\n",
      "Fetching data from http://montreal.icea.decea.mil.br:5002/api/v1/esperas?token=a779d04f85c4bf6cfa586d30aaec57c44e9b7173&idate=2023-05-14&fdate=2023-05-15\n",
      "Fetching data from http://montreal.icea.decea.mil.br:5002/api/v1/esperas?token=a779d04f85c4bf6cfa586d30aaec57c44e9b7173&idate=2023-05-15&fdate=2023-05-16\n",
      "Fetching data from http://montreal.icea.decea.mil.br:5002/api/v1/esperas?token=a779d04f85c4bf6cfa586d30aaec57c44e9b7173&idate=2023-05-16&fdate=2023-05-17\n",
      "Fetching data from http://montreal.icea.decea.mil.br:5002/api/v1/esperas?token=a779d04f85c4bf6cfa586d30aaec57c44e9b7173&idate=2023-05-17&fdate=2023-05-18\n"
     ]
    },
    {
     "name": "stderr",
     "output_type": "stream",
     "text": [
      "Carregando dados de esperas, Parte 4:  50%|█████     | 55/109 [00:00<00:00, 175.44it/s]"
     ]
    },
    {
     "name": "stdout",
     "output_type": "stream",
     "text": [
      "Fetching data from http://montreal.icea.decea.mil.br:5002/api/v1/esperas?token=a779d04f85c4bf6cfa586d30aaec57c44e9b7173&idate=2023-05-18&fdate=2023-05-19\n",
      "Fetching data from http://montreal.icea.decea.mil.br:5002/api/v1/esperas?token=a779d04f85c4bf6cfa586d30aaec57c44e9b7173&idate=2023-05-19&fdate=2023-05-20\n",
      "Fetching data from http://montreal.icea.decea.mil.br:5002/api/v1/esperas?token=a779d04f85c4bf6cfa586d30aaec57c44e9b7173&idate=2023-05-20&fdate=2023-05-21Fetching data from http://montreal.icea.decea.mil.br:5002/api/v1/esperas?token=a779d04f85c4bf6cfa586d30aaec57c44e9b7173&idate=2023-05-21&fdate=2023-05-22\n",
      "\n",
      "Fetching data from http://montreal.icea.decea.mil.br:5002/api/v1/esperas?token=a779d04f85c4bf6cfa586d30aaec57c44e9b7173&idate=2023-05-22&fdate=2023-05-23\n",
      "Fetching data from http://montreal.icea.decea.mil.br:5002/api/v1/esperas?token=a779d04f85c4bf6cfa586d30aaec57c44e9b7173&idate=2023-05-23&fdate=2023-05-24\n",
      "Fetching data from http://montreal.icea.decea.mil.br:5002/api/v1/esperas?token=a779d04f85c4bf6cfa586d30aaec57c44e9b7173&idate=2023-05-24&fdate=2023-05-25\n",
      "Fetching data from http://montreal.icea.decea.mil.br:5002/api/v1/esperas?token=a779d04f85c4bf6cfa586d30aaec57c44e9b7173&idate=2023-05-25&fdate=2023-05-26\n",
      "Fetching data from http://montreal.icea.decea.mil.br:5002/api/v1/esperas?token=a779d04f85c4bf6cfa586d30aaec57c44e9b7173&idate=2023-05-26&fdate=2023-05-27\n",
      "Fetching data from http://montreal.icea.decea.mil.br:5002/api/v1/esperas?token=a779d04f85c4bf6cfa586d30aaec57c44e9b7173&idate=2023-05-27&fdate=2023-05-28\n",
      "Fetching data from http://montreal.icea.decea.mil.br:5002/api/v1/esperas?token=a779d04f85c4bf6cfa586d30aaec57c44e9b7173&idate=2023-05-28&fdate=2023-05-29\n",
      "Fetching data from http://montreal.icea.decea.mil.br:5002/api/v1/esperas?token=a779d04f85c4bf6cfa586d30aaec57c44e9b7173&idate=2023-05-29&fdate=2023-05-30\n",
      "Fetching data from http://montreal.icea.decea.mil.br:5002/api/v1/esperas?token=a779d04f85c4bf6cfa586d30aaec57c44e9b7173&idate=2023-05-30&fdate=2023-05-31\n",
      "Fetching data from http://montreal.icea.decea.mil.br:5002/api/v1/esperas?token=a779d04f85c4bf6cfa586d30aaec57c44e9b7173&idate=2023-05-31&fdate=2023-06-01\n",
      "Fetching data from http://montreal.icea.decea.mil.br:5002/api/v1/esperas?token=a779d04f85c4bf6cfa586d30aaec57c44e9b7173&idate=2023-06-01&fdate=2023-06-02\n",
      "Fetching data from http://montreal.icea.decea.mil.br:5002/api/v1/esperas?token=a779d04f85c4bf6cfa586d30aaec57c44e9b7173&idate=2023-06-02&fdate=2023-06-03\n",
      "Fetching data from http://montreal.icea.decea.mil.br:5002/api/v1/esperas?token=a779d04f85c4bf6cfa586d30aaec57c44e9b7173&idate=2023-06-03&fdate=2023-06-04\n",
      "Fetching data from http://montreal.icea.decea.mil.br:5002/api/v1/esperas?token=a779d04f85c4bf6cfa586d30aaec57c44e9b7173&idate=2023-06-04&fdate=2023-06-05\n",
      "Fetching data from http://montreal.icea.decea.mil.br:5002/api/v1/esperas?token=a779d04f85c4bf6cfa586d30aaec57c44e9b7173&idate=2023-06-05&fdate=2023-06-06\n",
      "Fetching data from http://montreal.icea.decea.mil.br:5002/api/v1/esperas?token=a779d04f85c4bf6cfa586d30aaec57c44e9b7173&idate=2023-06-06&fdate=2023-06-07\n",
      "Fetching data from http://montreal.icea.decea.mil.br:5002/api/v1/esperas?token=a779d04f85c4bf6cfa586d30aaec57c44e9b7173&idate=2023-06-07&fdate=2023-06-08\n",
      "Fetching data from http://montreal.icea.decea.mil.br:5002/api/v1/esperas?token=a779d04f85c4bf6cfa586d30aaec57c44e9b7173&idate=2023-06-08&fdate=2023-06-09\n",
      "Fetching data from http://montreal.icea.decea.mil.br:5002/api/v1/esperas?token=a779d04f85c4bf6cfa586d30aaec57c44e9b7173&idate=2023-06-09&fdate=2023-06-10\n",
      "Fetching data from http://montreal.icea.decea.mil.br:5002/api/v1/esperas?token=a779d04f85c4bf6cfa586d30aaec57c44e9b7173&idate=2023-06-10&fdate=2023-06-11\n"
     ]
    },
    {
     "name": "stderr",
     "output_type": "stream",
     "text": [
      "Carregando dados de esperas, Parte 4:  74%|███████▍  | 81/109 [00:00<00:00, 204.65it/s]"
     ]
    },
    {
     "name": "stdout",
     "output_type": "stream",
     "text": [
      "Fetching data from http://montreal.icea.decea.mil.br:5002/api/v1/esperas?token=a779d04f85c4bf6cfa586d30aaec57c44e9b7173&idate=2023-06-11&fdate=2023-06-12\n",
      "Fetching data from http://montreal.icea.decea.mil.br:5002/api/v1/esperas?token=a779d04f85c4bf6cfa586d30aaec57c44e9b7173&idate=2023-06-12&fdate=2023-06-13\n",
      "Fetching data from http://montreal.icea.decea.mil.br:5002/api/v1/esperas?token=a779d04f85c4bf6cfa586d30aaec57c44e9b7173&idate=2023-06-13&fdate=2023-06-14\n",
      "Fetching data from http://montreal.icea.decea.mil.br:5002/api/v1/esperas?token=a779d04f85c4bf6cfa586d30aaec57c44e9b7173&idate=2023-06-14&fdate=2023-06-15\n",
      "Fetching data from http://montreal.icea.decea.mil.br:5002/api/v1/esperas?token=a779d04f85c4bf6cfa586d30aaec57c44e9b7173&idate=2023-06-15&fdate=2023-06-16\n",
      "Fetching data from http://montreal.icea.decea.mil.br:5002/api/v1/esperas?token=a779d04f85c4bf6cfa586d30aaec57c44e9b7173&idate=2023-06-16&fdate=2023-06-17\n",
      "Fetching data from http://montreal.icea.decea.mil.br:5002/api/v1/esperas?token=a779d04f85c4bf6cfa586d30aaec57c44e9b7173&idate=2023-06-17&fdate=2023-06-18\n",
      "Fetching data from http://montreal.icea.decea.mil.br:5002/api/v1/esperas?token=a779d04f85c4bf6cfa586d30aaec57c44e9b7173&idate=2023-06-18&fdate=2023-06-19\n",
      "Fetching data from http://montreal.icea.decea.mil.br:5002/api/v1/esperas?token=a779d04f85c4bf6cfa586d30aaec57c44e9b7173&idate=2023-06-19&fdate=2023-06-20\n",
      "Fetching data from http://montreal.icea.decea.mil.br:5002/api/v1/esperas?token=a779d04f85c4bf6cfa586d30aaec57c44e9b7173&idate=2023-06-20&fdate=2023-06-21\n",
      "Fetching data from http://montreal.icea.decea.mil.br:5002/api/v1/esperas?token=a779d04f85c4bf6cfa586d30aaec57c44e9b7173&idate=2023-06-21&fdate=2023-06-22\n",
      "Fetching data from http://montreal.icea.decea.mil.br:5002/api/v1/esperas?token=a779d04f85c4bf6cfa586d30aaec57c44e9b7173&idate=2023-06-22&fdate=2023-06-23\n",
      "Fetching data from http://montreal.icea.decea.mil.br:5002/api/v1/esperas?token=a779d04f85c4bf6cfa586d30aaec57c44e9b7173&idate=2023-06-23&fdate=2023-06-24\n",
      "Fetching data from http://montreal.icea.decea.mil.br:5002/api/v1/esperas?token=a779d04f85c4bf6cfa586d30aaec57c44e9b7173&idate=2023-06-24&fdate=2023-06-25\n",
      "Fetching data from http://montreal.icea.decea.mil.br:5002/api/v1/esperas?token=a779d04f85c4bf6cfa586d30aaec57c44e9b7173&idate=2023-06-25&fdate=2023-06-26\n",
      "Fetching data from http://montreal.icea.decea.mil.br:5002/api/v1/esperas?token=a779d04f85c4bf6cfa586d30aaec57c44e9b7173&idate=2023-06-26&fdate=2023-06-27\n",
      "Fetching data from http://montreal.icea.decea.mil.br:5002/api/v1/esperas?token=a779d04f85c4bf6cfa586d30aaec57c44e9b7173&idate=2023-06-27&fdate=2023-06-28\n",
      "Fetching data from http://montreal.icea.decea.mil.br:5002/api/v1/esperas?token=a779d04f85c4bf6cfa586d30aaec57c44e9b7173&idate=2023-06-28&fdate=2023-06-29\n",
      "Fetching data from http://montreal.icea.decea.mil.br:5002/api/v1/esperas?token=a779d04f85c4bf6cfa586d30aaec57c44e9b7173&idate=2023-06-29&fdate=2023-06-30\n",
      "Fetching data from http://montreal.icea.decea.mil.br:5002/api/v1/esperas?token=a779d04f85c4bf6cfa586d30aaec57c44e9b7173&idate=2023-06-30&fdate=2023-07-01\n",
      "Fetching data from http://montreal.icea.decea.mil.br:5002/api/v1/esperas?token=a779d04f85c4bf6cfa586d30aaec57c44e9b7173&idate=2023-07-01&fdate=2023-07-02\n"
     ]
    },
    {
     "name": "stderr",
     "output_type": "stream",
     "text": [
      "Carregando dados de esperas, Parte 4: 100%|██████████| 109/109 [00:00<00:00, 191.69it/s]\n"
     ]
    },
    {
     "name": "stdout",
     "output_type": "stream",
     "text": [
      "Dados de esperas salvos em esperas_part_4.csv\n",
      "Processando satelite\n",
      "Processando parte 1/4\n",
      "Fetching data from http://montreal.icea.decea.mil.br:5002/api/v1/satelite?token=a779d04f85c4bf6cfa586d30aaec57c44e9b7173&idate=2022-05-01&fdate=2022-05-02\n",
      "Fetching data from http://montreal.icea.decea.mil.br:5002/api/v1/satelite?token=a779d04f85c4bf6cfa586d30aaec57c44e9b7173&idate=2022-05-02&fdate=2022-05-03\n",
      "Fetching data from http://montreal.icea.decea.mil.br:5002/api/v1/satelite?token=a779d04f85c4bf6cfa586d30aaec57c44e9b7173&idate=2022-05-03&fdate=2022-05-04\n",
      "Fetching data from http://montreal.icea.decea.mil.br:5002/api/v1/satelite?token=a779d04f85c4bf6cfa586d30aaec57c44e9b7173&idate=2022-05-04&fdate=2022-05-05\n",
      "Fetching data from http://montreal.icea.decea.mil.br:5002/api/v1/satelite?token=a779d04f85c4bf6cfa586d30aaec57c44e9b7173&idate=2022-05-05&fdate=2022-05-06\n",
      "Fetching data from http://montreal.icea.decea.mil.br:5002/api/v1/satelite?token=a779d04f85c4bf6cfa586d30aaec57c44e9b7173&idate=2022-05-06&fdate=2022-05-07\n",
      "Fetching data from http://montreal.icea.decea.mil.br:5002/api/v1/satelite?token=a779d04f85c4bf6cfa586d30aaec57c44e9b7173&idate=2022-05-07&fdate=2022-05-08\n",
      "Fetching data from http://montreal.icea.decea.mil.br:5002/api/v1/satelite?token=a779d04f85c4bf6cfa586d30aaec57c44e9b7173&idate=2022-05-08&fdate=2022-05-09\n",
      "Fetching data from http://montreal.icea.decea.mil.br:5002/api/v1/satelite?token=a779d04f85c4bf6cfa586d30aaec57c44e9b7173&idate=2022-05-09&fdate=2022-05-10\n",
      "Fetching data from http://montreal.icea.decea.mil.br:5002/api/v1/satelite?token=a779d04f85c4bf6cfa586d30aaec57c44e9b7173&idate=2022-05-10&fdate=2022-05-11\n"
     ]
    },
    {
     "name": "stderr",
     "output_type": "stream",
     "text": [
      "Carregando dados de satelite, Parte 1:   0%|          | 0/106 [00:00<?, ?it/s]"
     ]
    },
    {
     "name": "stdout",
     "output_type": "stream",
     "text": [
      "Fetching data from http://montreal.icea.decea.mil.br:5002/api/v1/satelite?token=a779d04f85c4bf6cfa586d30aaec57c44e9b7173&idate=2022-05-11&fdate=2022-05-12\n",
      "Fetching data from http://montreal.icea.decea.mil.br:5002/api/v1/satelite?token=a779d04f85c4bf6cfa586d30aaec57c44e9b7173&idate=2022-05-12&fdate=2022-05-13\n",
      "Fetching data from http://montreal.icea.decea.mil.br:5002/api/v1/satelite?token=a779d04f85c4bf6cfa586d30aaec57c44e9b7173&idate=2022-05-13&fdate=2022-05-14\n",
      "Fetching data from http://montreal.icea.decea.mil.br:5002/api/v1/satelite?token=a779d04f85c4bf6cfa586d30aaec57c44e9b7173&idate=2022-05-14&fdate=2022-05-15\n",
      "Fetching data from http://montreal.icea.decea.mil.br:5002/api/v1/satelite?token=a779d04f85c4bf6cfa586d30aaec57c44e9b7173&idate=2022-05-15&fdate=2022-05-16\n",
      "Fetching data from http://montreal.icea.decea.mil.br:5002/api/v1/satelite?token=a779d04f85c4bf6cfa586d30aaec57c44e9b7173&idate=2022-05-16&fdate=2022-05-17\n",
      "Fetching data from http://montreal.icea.decea.mil.br:5002/api/v1/satelite?token=a779d04f85c4bf6cfa586d30aaec57c44e9b7173&idate=2022-05-17&fdate=2022-05-18\n",
      "Fetching data from http://montreal.icea.decea.mil.br:5002/api/v1/satelite?token=a779d04f85c4bf6cfa586d30aaec57c44e9b7173&idate=2022-05-18&fdate=2022-05-19\n",
      "Fetching data from http://montreal.icea.decea.mil.br:5002/api/v1/satelite?token=a779d04f85c4bf6cfa586d30aaec57c44e9b7173&idate=2022-05-19&fdate=2022-05-20\n",
      "Fetching data from http://montreal.icea.decea.mil.br:5002/api/v1/satelite?token=a779d04f85c4bf6cfa586d30aaec57c44e9b7173&idate=2022-05-20&fdate=2022-05-21\n",
      "Fetching data from http://montreal.icea.decea.mil.br:5002/api/v1/satelite?token=a779d04f85c4bf6cfa586d30aaec57c44e9b7173&idate=2022-05-21&fdate=2022-05-22\n",
      "Fetching data from http://montreal.icea.decea.mil.br:5002/api/v1/satelite?token=a779d04f85c4bf6cfa586d30aaec57c44e9b7173&idate=2022-05-22&fdate=2022-05-23\n",
      "Fetching data from http://montreal.icea.decea.mil.br:5002/api/v1/satelite?token=a779d04f85c4bf6cfa586d30aaec57c44e9b7173&idate=2022-05-23&fdate=2022-05-24\n",
      "Fetching data from http://montreal.icea.decea.mil.br:5002/api/v1/satelite?token=a779d04f85c4bf6cfa586d30aaec57c44e9b7173&idate=2022-05-24&fdate=2022-05-25\n",
      "Fetching data from http://montreal.icea.decea.mil.br:5002/api/v1/satelite?token=a779d04f85c4bf6cfa586d30aaec57c44e9b7173&idate=2022-05-25&fdate=2022-05-26\n"
     ]
    },
    {
     "name": "stderr",
     "output_type": "stream",
     "text": [
      "Carregando dados de satelite, Parte 1:  20%|█▉        | 21/106 [00:00<00:00, 184.37it/s]"
     ]
    },
    {
     "name": "stdout",
     "output_type": "stream",
     "text": [
      "Fetching data from http://montreal.icea.decea.mil.br:5002/api/v1/satelite?token=a779d04f85c4bf6cfa586d30aaec57c44e9b7173&idate=2022-05-26&fdate=2022-05-27\n",
      "Fetching data from http://montreal.icea.decea.mil.br:5002/api/v1/satelite?token=a779d04f85c4bf6cfa586d30aaec57c44e9b7173&idate=2022-05-27&fdate=2022-05-28\n",
      "Fetching data from http://montreal.icea.decea.mil.br:5002/api/v1/satelite?token=a779d04f85c4bf6cfa586d30aaec57c44e9b7173&idate=2022-05-28&fdate=2022-05-29\n",
      "Fetching data from http://montreal.icea.decea.mil.br:5002/api/v1/satelite?token=a779d04f85c4bf6cfa586d30aaec57c44e9b7173&idate=2022-05-29&fdate=2022-05-30\n",
      "Fetching data from http://montreal.icea.decea.mil.br:5002/api/v1/satelite?token=a779d04f85c4bf6cfa586d30aaec57c44e9b7173&idate=2022-05-30&fdate=2022-05-31\n",
      "Fetching data from http://montreal.icea.decea.mil.br:5002/api/v1/satelite?token=a779d04f85c4bf6cfa586d30aaec57c44e9b7173&idate=2022-05-31&fdate=2022-06-01\n",
      "Fetching data from http://montreal.icea.decea.mil.br:5002/api/v1/satelite?token=a779d04f85c4bf6cfa586d30aaec57c44e9b7173&idate=2022-06-01&fdate=2022-06-02\n",
      "Fetching data from http://montreal.icea.decea.mil.br:5002/api/v1/satelite?token=a779d04f85c4bf6cfa586d30aaec57c44e9b7173&idate=2022-06-02&fdate=2022-06-03\n",
      "Fetching data from http://montreal.icea.decea.mil.br:5002/api/v1/satelite?token=a779d04f85c4bf6cfa586d30aaec57c44e9b7173&idate=2022-06-03&fdate=2022-06-04\n",
      "Fetching data from http://montreal.icea.decea.mil.br:5002/api/v1/satelite?token=a779d04f85c4bf6cfa586d30aaec57c44e9b7173&idate=2022-06-04&fdate=2022-06-05\n",
      "Fetching data from http://montreal.icea.decea.mil.br:5002/api/v1/satelite?token=a779d04f85c4bf6cfa586d30aaec57c44e9b7173&idate=2022-06-05&fdate=2022-06-06\n",
      "Fetching data from http://montreal.icea.decea.mil.br:5002/api/v1/satelite?token=a779d04f85c4bf6cfa586d30aaec57c44e9b7173&idate=2022-06-06&fdate=2022-06-07\n",
      "Fetching data from http://montreal.icea.decea.mil.br:5002/api/v1/satelite?token=a779d04f85c4bf6cfa586d30aaec57c44e9b7173&idate=2022-06-07&fdate=2022-06-08\n",
      "Fetching data from http://montreal.icea.decea.mil.br:5002/api/v1/satelite?token=a779d04f85c4bf6cfa586d30aaec57c44e9b7173&idate=2022-06-08&fdate=2022-06-09\n",
      "Fetching data from http://montreal.icea.decea.mil.br:5002/api/v1/satelite?token=a779d04f85c4bf6cfa586d30aaec57c44e9b7173&idate=2022-06-09&fdate=2022-06-10\n",
      "Fetching data from http://montreal.icea.decea.mil.br:5002/api/v1/satelite?token=a779d04f85c4bf6cfa586d30aaec57c44e9b7173&idate=2022-06-10&fdate=2022-06-11\n",
      "Fetching data from http://montreal.icea.decea.mil.br:5002/api/v1/satelite?token=a779d04f85c4bf6cfa586d30aaec57c44e9b7173&idate=2022-06-11&fdate=2022-06-12\n",
      "Fetching data from http://montreal.icea.decea.mil.br:5002/api/v1/satelite?token=a779d04f85c4bf6cfa586d30aaec57c44e9b7173&idate=2022-06-12&fdate=2022-06-13\n",
      "Fetching data from http://montreal.icea.decea.mil.br:5002/api/v1/satelite?token=a779d04f85c4bf6cfa586d30aaec57c44e9b7173&idate=2022-06-13&fdate=2022-06-14\n",
      "Fetching data from http://montreal.icea.decea.mil.br:5002/api/v1/satelite?token=a779d04f85c4bf6cfa586d30aaec57c44e9b7173&idate=2022-06-14&fdate=2022-06-15\n",
      "Fetching data from http://montreal.icea.decea.mil.br:5002/api/v1/satelite?token=a779d04f85c4bf6cfa586d30aaec57c44e9b7173&idate=2022-06-15&fdate=2022-06-16\n",
      "Fetching data from http://montreal.icea.decea.mil.br:5002/api/v1/satelite?token=a779d04f85c4bf6cfa586d30aaec57c44e9b7173&idate=2022-06-16&fdate=2022-06-17\n",
      "Fetching data from http://montreal.icea.decea.mil.br:5002/api/v1/satelite?token=a779d04f85c4bf6cfa586d30aaec57c44e9b7173&idate=2022-06-17&fdate=2022-06-18\n"
     ]
    },
    {
     "name": "stderr",
     "output_type": "stream",
     "text": [
      "Carregando dados de satelite, Parte 1:  42%|████▏     | 45/106 [00:00<00:00, 214.51it/s]"
     ]
    },
    {
     "name": "stdout",
     "output_type": "stream",
     "text": [
      "Fetching data from http://montreal.icea.decea.mil.br:5002/api/v1/satelite?token=a779d04f85c4bf6cfa586d30aaec57c44e9b7173&idate=2022-06-18&fdate=2022-06-19\n",
      "Fetching data from http://montreal.icea.decea.mil.br:5002/api/v1/satelite?token=a779d04f85c4bf6cfa586d30aaec57c44e9b7173&idate=2022-06-19&fdate=2022-06-20\n",
      "Fetching data from http://montreal.icea.decea.mil.br:5002/api/v1/satelite?token=a779d04f85c4bf6cfa586d30aaec57c44e9b7173&idate=2022-06-20&fdate=2022-06-21\n",
      "Fetching data from http://montreal.icea.decea.mil.br:5002/api/v1/satelite?token=a779d04f85c4bf6cfa586d30aaec57c44e9b7173&idate=2022-06-21&fdate=2022-06-22\n",
      "Fetching data from http://montreal.icea.decea.mil.br:5002/api/v1/satelite?token=a779d04f85c4bf6cfa586d30aaec57c44e9b7173&idate=2022-06-22&fdate=2022-06-23\n",
      "Fetching data from http://montreal.icea.decea.mil.br:5002/api/v1/satelite?token=a779d04f85c4bf6cfa586d30aaec57c44e9b7173&idate=2022-06-23&fdate=2022-06-24\n",
      "Fetching data from http://montreal.icea.decea.mil.br:5002/api/v1/satelite?token=a779d04f85c4bf6cfa586d30aaec57c44e9b7173&idate=2022-06-24&fdate=2022-06-25\n",
      "Fetching data from http://montreal.icea.decea.mil.br:5002/api/v1/satelite?token=a779d04f85c4bf6cfa586d30aaec57c44e9b7173&idate=2022-06-25&fdate=2022-06-26\n",
      "Fetching data from http://montreal.icea.decea.mil.br:5002/api/v1/satelite?token=a779d04f85c4bf6cfa586d30aaec57c44e9b7173&idate=2022-06-26&fdate=2022-06-27\n",
      "Fetching data from http://montreal.icea.decea.mil.br:5002/api/v1/satelite?token=a779d04f85c4bf6cfa586d30aaec57c44e9b7173&idate=2022-06-27&fdate=2022-06-28\n",
      "Fetching data from http://montreal.icea.decea.mil.br:5002/api/v1/satelite?token=a779d04f85c4bf6cfa586d30aaec57c44e9b7173&idate=2022-06-28&fdate=2022-06-29\n",
      "Fetching data from http://montreal.icea.decea.mil.br:5002/api/v1/satelite?token=a779d04f85c4bf6cfa586d30aaec57c44e9b7173&idate=2022-06-29&fdate=2022-06-30\n",
      "Fetching data from http://montreal.icea.decea.mil.br:5002/api/v1/satelite?token=a779d04f85c4bf6cfa586d30aaec57c44e9b7173&idate=2022-06-30&fdate=2022-07-01\n",
      "Fetching data from http://montreal.icea.decea.mil.br:5002/api/v1/satelite?token=a779d04f85c4bf6cfa586d30aaec57c44e9b7173&idate=2022-07-01&fdate=2022-07-02\n",
      "Fetching data from http://montreal.icea.decea.mil.br:5002/api/v1/satelite?token=a779d04f85c4bf6cfa586d30aaec57c44e9b7173&idate=2022-07-02&fdate=2022-07-03\n",
      "Fetching data from http://montreal.icea.decea.mil.br:5002/api/v1/satelite?token=a779d04f85c4bf6cfa586d30aaec57c44e9b7173&idate=2022-07-03&fdate=2022-07-04\n",
      "Fetching data from http://montreal.icea.decea.mil.br:5002/api/v1/satelite?token=a779d04f85c4bf6cfa586d30aaec57c44e9b7173&idate=2022-07-04&fdate=2022-07-05\n",
      "Fetching data from http://montreal.icea.decea.mil.br:5002/api/v1/satelite?token=a779d04f85c4bf6cfa586d30aaec57c44e9b7173&idate=2022-07-05&fdate=2022-07-06\n",
      "Fetching data from http://montreal.icea.decea.mil.br:5002/api/v1/satelite?token=a779d04f85c4bf6cfa586d30aaec57c44e9b7173&idate=2022-07-06&fdate=2022-07-07\n",
      "Fetching data from http://montreal.icea.decea.mil.br:5002/api/v1/satelite?token=a779d04f85c4bf6cfa586d30aaec57c44e9b7173&idate=2022-07-07&fdate=2022-07-08\n",
      "Fetching data from http://montreal.icea.decea.mil.br:5002/api/v1/satelite?token=a779d04f85c4bf6cfa586d30aaec57c44e9b7173&idate=2022-07-08&fdate=2022-07-09\n",
      "Fetching data from http://montreal.icea.decea.mil.br:5002/api/v1/satelite?token=a779d04f85c4bf6cfa586d30aaec57c44e9b7173&idate=2022-07-09&fdate=2022-07-10\n",
      "Fetching data from http://montreal.icea.decea.mil.br:5002/api/v1/satelite?token=a779d04f85c4bf6cfa586d30aaec57c44e9b7173&idate=2022-07-10&fdate=2022-07-11\n",
      "Fetching data from http://montreal.icea.decea.mil.br:5002/api/v1/satelite?token=a779d04f85c4bf6cfa586d30aaec57c44e9b7173&idate=2022-07-11&fdate=2022-07-12\n",
      "Fetching data from http://montreal.icea.decea.mil.br:5002/api/v1/satelite?token=a779d04f85c4bf6cfa586d30aaec57c44e9b7173&idate=2022-07-12&fdate=2022-07-13\n",
      "Fetching data from http://montreal.icea.decea.mil.br:5002/api/v1/satelite?token=a779d04f85c4bf6cfa586d30aaec57c44e9b7173&idate=2022-07-13&fdate=2022-07-14\n"
     ]
    },
    {
     "name": "stderr",
     "output_type": "stream",
     "text": [
      "Carregando dados de satelite, Parte 1:  63%|██████▎   | 67/106 [00:00<00:00, 215.23it/s]"
     ]
    },
    {
     "name": "stdout",
     "output_type": "stream",
     "text": [
      "Fetching data from http://montreal.icea.decea.mil.br:5002/api/v1/satelite?token=a779d04f85c4bf6cfa586d30aaec57c44e9b7173&idate=2022-07-14&fdate=2022-07-15\n",
      "Fetching data from http://montreal.icea.decea.mil.br:5002/api/v1/satelite?token=a779d04f85c4bf6cfa586d30aaec57c44e9b7173&idate=2022-07-15&fdate=2022-07-16\n",
      "Fetching data from http://montreal.icea.decea.mil.br:5002/api/v1/satelite?token=a779d04f85c4bf6cfa586d30aaec57c44e9b7173&idate=2022-07-16&fdate=2022-07-17\n",
      "Fetching data from http://montreal.icea.decea.mil.br:5002/api/v1/satelite?token=a779d04f85c4bf6cfa586d30aaec57c44e9b7173&idate=2022-07-17&fdate=2022-07-18\n",
      "Fetching data from http://montreal.icea.decea.mil.br:5002/api/v1/satelite?token=a779d04f85c4bf6cfa586d30aaec57c44e9b7173&idate=2022-07-18&fdate=2022-07-19\n",
      "Fetching data from http://montreal.icea.decea.mil.br:5002/api/v1/satelite?token=a779d04f85c4bf6cfa586d30aaec57c44e9b7173&idate=2022-07-19&fdate=2022-07-20\n",
      "Fetching data from http://montreal.icea.decea.mil.br:5002/api/v1/satelite?token=a779d04f85c4bf6cfa586d30aaec57c44e9b7173&idate=2022-07-20&fdate=2022-07-21\n",
      "Fetching data from http://montreal.icea.decea.mil.br:5002/api/v1/satelite?token=a779d04f85c4bf6cfa586d30aaec57c44e9b7173&idate=2022-07-21&fdate=2022-07-22\n",
      "Fetching data from http://montreal.icea.decea.mil.br:5002/api/v1/satelite?token=a779d04f85c4bf6cfa586d30aaec57c44e9b7173&idate=2022-07-22&fdate=2022-07-23\n",
      "Fetching data from http://montreal.icea.decea.mil.br:5002/api/v1/satelite?token=a779d04f85c4bf6cfa586d30aaec57c44e9b7173&idate=2022-07-23&fdate=2022-07-24\n",
      "Fetching data from http://montreal.icea.decea.mil.br:5002/api/v1/satelite?token=a779d04f85c4bf6cfa586d30aaec57c44e9b7173&idate=2022-07-24&fdate=2022-07-25\n",
      "Fetching data from http://montreal.icea.decea.mil.br:5002/api/v1/satelite?token=a779d04f85c4bf6cfa586d30aaec57c44e9b7173&idate=2022-07-25&fdate=2022-07-26\n",
      "Fetching data from http://montreal.icea.decea.mil.br:5002/api/v1/satelite?token=a779d04f85c4bf6cfa586d30aaec57c44e9b7173&idate=2022-07-26&fdate=2022-07-27\n",
      "Fetching data from http://montreal.icea.decea.mil.br:5002/api/v1/satelite?token=a779d04f85c4bf6cfa586d30aaec57c44e9b7173&idate=2022-07-27&fdate=2022-07-28\n",
      "Fetching data from http://montreal.icea.decea.mil.br:5002/api/v1/satelite?token=a779d04f85c4bf6cfa586d30aaec57c44e9b7173&idate=2022-07-28&fdate=2022-07-29\n",
      "Fetching data from http://montreal.icea.decea.mil.br:5002/api/v1/satelite?token=a779d04f85c4bf6cfa586d30aaec57c44e9b7173&idate=2022-07-29&fdate=2022-07-30\n",
      "Fetching data from http://montreal.icea.decea.mil.br:5002/api/v1/satelite?token=a779d04f85c4bf6cfa586d30aaec57c44e9b7173&idate=2022-07-30&fdate=2022-07-31\n",
      "Fetching data from http://montreal.icea.decea.mil.br:5002/api/v1/satelite?token=a779d04f85c4bf6cfa586d30aaec57c44e9b7173&idate=2022-07-31&fdate=2022-08-01\n",
      "Fetching data from http://montreal.icea.decea.mil.br:5002/api/v1/satelite?token=a779d04f85c4bf6cfa586d30aaec57c44e9b7173&idate=2022-08-01&fdate=2022-08-02\n",
      "Fetching data from http://montreal.icea.decea.mil.br:5002/api/v1/satelite?token=a779d04f85c4bf6cfa586d30aaec57c44e9b7173&idate=2022-08-02&fdate=2022-08-03\n",
      "Fetching data from http://montreal.icea.decea.mil.br:5002/api/v1/satelite?token=a779d04f85c4bf6cfa586d30aaec57c44e9b7173&idate=2022-08-03&fdate=2022-08-04\n",
      "Fetching data from http://montreal.icea.decea.mil.br:5002/api/v1/satelite?token=a779d04f85c4bf6cfa586d30aaec57c44e9b7173&idate=2022-08-04&fdate=2022-08-05\n",
      "Fetching data from http://montreal.icea.decea.mil.br:5002/api/v1/satelite?token=a779d04f85c4bf6cfa586d30aaec57c44e9b7173&idate=2022-08-05&fdate=2022-08-06\n",
      "Fetching data from http://montreal.icea.decea.mil.br:5002/api/v1/satelite?token=a779d04f85c4bf6cfa586d30aaec57c44e9b7173&idate=2022-08-06&fdate=2022-08-07\n",
      "Fetching data from http://montreal.icea.decea.mil.br:5002/api/v1/satelite?token=a779d04f85c4bf6cfa586d30aaec57c44e9b7173&idate=2022-08-07&fdate=2022-08-08\n"
     ]
    },
    {
     "name": "stderr",
     "output_type": "stream",
     "text": [
      "Carregando dados de satelite, Parte 1:  85%|████████▍ | 90/106 [00:00<00:00, 210.03it/s]"
     ]
    },
    {
     "name": "stdout",
     "output_type": "stream",
     "text": [
      "Fetching data from http://montreal.icea.decea.mil.br:5002/api/v1/satelite?token=a779d04f85c4bf6cfa586d30aaec57c44e9b7173&idate=2022-08-08&fdate=2022-08-09\n",
      "Fetching data from http://montreal.icea.decea.mil.br:5002/api/v1/satelite?token=a779d04f85c4bf6cfa586d30aaec57c44e9b7173&idate=2022-08-09&fdate=2022-08-10\n",
      "Fetching data from http://montreal.icea.decea.mil.br:5002/api/v1/satelite?token=a779d04f85c4bf6cfa586d30aaec57c44e9b7173&idate=2022-08-10&fdate=2022-08-11\n",
      "Fetching data from http://montreal.icea.decea.mil.br:5002/api/v1/satelite?token=a779d04f85c4bf6cfa586d30aaec57c44e9b7173&idate=2022-08-11&fdate=2022-08-12\n",
      "Fetching data from http://montreal.icea.decea.mil.br:5002/api/v1/satelite?token=a779d04f85c4bf6cfa586d30aaec57c44e9b7173&idate=2022-08-12&fdate=2022-08-13\n",
      "Fetching data from http://montreal.icea.decea.mil.br:5002/api/v1/satelite?token=a779d04f85c4bf6cfa586d30aaec57c44e9b7173&idate=2022-08-13&fdate=2022-08-14\n",
      "Fetching data from http://montreal.icea.decea.mil.br:5002/api/v1/satelite?token=a779d04f85c4bf6cfa586d30aaec57c44e9b7173&idate=2022-08-14&fdate=2022-08-15\n"
     ]
    },
    {
     "name": "stderr",
     "output_type": "stream",
     "text": [
      "Carregando dados de satelite, Parte 1: 100%|██████████| 106/106 [00:00<00:00, 212.30it/s]\n"
     ]
    },
    {
     "name": "stdout",
     "output_type": "stream",
     "text": [
      "Dados de satelite salvos em satelite_part_1.csv\n",
      "Processando parte 2/4\n",
      "Fetching data from http://montreal.icea.decea.mil.br:5002/api/v1/satelite?token=a779d04f85c4bf6cfa586d30aaec57c44e9b7173&idate=2022-08-15&fdate=2022-08-16\n",
      "Fetching data from http://montreal.icea.decea.mil.br:5002/api/v1/satelite?token=a779d04f85c4bf6cfa586d30aaec57c44e9b7173&idate=2022-08-16&fdate=2022-08-17\n",
      "Fetching data from http://montreal.icea.decea.mil.br:5002/api/v1/satelite?token=a779d04f85c4bf6cfa586d30aaec57c44e9b7173&idate=2022-08-17&fdate=2022-08-18\n",
      "Fetching data from http://montreal.icea.decea.mil.br:5002/api/v1/satelite?token=a779d04f85c4bf6cfa586d30aaec57c44e9b7173&idate=2022-08-18&fdate=2022-08-19\n",
      "Fetching data from http://montreal.icea.decea.mil.br:5002/api/v1/satelite?token=a779d04f85c4bf6cfa586d30aaec57c44e9b7173&idate=2022-08-19&fdate=2022-08-20\n",
      "Fetching data from http://montreal.icea.decea.mil.br:5002/api/v1/satelite?token=a779d04f85c4bf6cfa586d30aaec57c44e9b7173&idate=2022-08-20&fdate=2022-08-21\n",
      "Fetching data from http://montreal.icea.decea.mil.br:5002/api/v1/satelite?token=a779d04f85c4bf6cfa586d30aaec57c44e9b7173&idate=2022-08-21&fdate=2022-08-22\n",
      "Fetching data from http://montreal.icea.decea.mil.br:5002/api/v1/satelite?token=a779d04f85c4bf6cfa586d30aaec57c44e9b7173&idate=2022-08-22&fdate=2022-08-23\n",
      "Fetching data from http://montreal.icea.decea.mil.br:5002/api/v1/satelite?token=a779d04f85c4bf6cfa586d30aaec57c44e9b7173&idate=2022-08-23&fdate=2022-08-24\n",
      "Fetching data from http://montreal.icea.decea.mil.br:5002/api/v1/satelite?token=a779d04f85c4bf6cfa586d30aaec57c44e9b7173&idate=2022-08-24&fdate=2022-08-25\n"
     ]
    },
    {
     "name": "stderr",
     "output_type": "stream",
     "text": [
      "Carregando dados de satelite, Parte 2:   0%|          | 0/106 [00:00<?, ?it/s]"
     ]
    },
    {
     "name": "stdout",
     "output_type": "stream",
     "text": [
      "Fetching data from http://montreal.icea.decea.mil.br:5002/api/v1/satelite?token=a779d04f85c4bf6cfa586d30aaec57c44e9b7173&idate=2022-08-25&fdate=2022-08-26\n",
      "Fetching data from http://montreal.icea.decea.mil.br:5002/api/v1/satelite?token=a779d04f85c4bf6cfa586d30aaec57c44e9b7173&idate=2022-08-26&fdate=2022-08-27\n",
      "Fetching data from http://montreal.icea.decea.mil.br:5002/api/v1/satelite?token=a779d04f85c4bf6cfa586d30aaec57c44e9b7173&idate=2022-08-27&fdate=2022-08-28\n",
      "Fetching data from http://montreal.icea.decea.mil.br:5002/api/v1/satelite?token=a779d04f85c4bf6cfa586d30aaec57c44e9b7173&idate=2022-08-28&fdate=2022-08-29\n",
      "Fetching data from http://montreal.icea.decea.mil.br:5002/api/v1/satelite?token=a779d04f85c4bf6cfa586d30aaec57c44e9b7173&idate=2022-08-29&fdate=2022-08-30\n",
      "Fetching data from http://montreal.icea.decea.mil.br:5002/api/v1/satelite?token=a779d04f85c4bf6cfa586d30aaec57c44e9b7173&idate=2022-08-30&fdate=2022-08-31\n",
      "Fetching data from http://montreal.icea.decea.mil.br:5002/api/v1/satelite?token=a779d04f85c4bf6cfa586d30aaec57c44e9b7173&idate=2022-08-31&fdate=2022-09-01\n",
      "Fetching data from http://montreal.icea.decea.mil.br:5002/api/v1/satelite?token=a779d04f85c4bf6cfa586d30aaec57c44e9b7173&idate=2022-09-01&fdate=2022-09-02\n",
      "Fetching data from http://montreal.icea.decea.mil.br:5002/api/v1/satelite?token=a779d04f85c4bf6cfa586d30aaec57c44e9b7173&idate=2022-09-02&fdate=2022-09-03\n",
      "Fetching data from http://montreal.icea.decea.mil.br:5002/api/v1/satelite?token=a779d04f85c4bf6cfa586d30aaec57c44e9b7173&idate=2022-09-03&fdate=2022-09-04\n"
     ]
    },
    {
     "name": "stderr",
     "output_type": "stream",
     "text": [
      "Carregando dados de satelite, Parte 2:  10%|█         | 11/106 [00:00<00:00, 106.36it/s]"
     ]
    },
    {
     "name": "stdout",
     "output_type": "stream",
     "text": [
      "Fetching data from http://montreal.icea.decea.mil.br:5002/api/v1/satelite?token=a779d04f85c4bf6cfa586d30aaec57c44e9b7173&idate=2022-09-04&fdate=2022-09-05\n",
      "Fetching data from http://montreal.icea.decea.mil.br:5002/api/v1/satelite?token=a779d04f85c4bf6cfa586d30aaec57c44e9b7173&idate=2022-09-05&fdate=2022-09-06\n",
      "Fetching data from http://montreal.icea.decea.mil.br:5002/api/v1/satelite?token=a779d04f85c4bf6cfa586d30aaec57c44e9b7173&idate=2022-09-06&fdate=2022-09-07\n",
      "Fetching data from http://montreal.icea.decea.mil.br:5002/api/v1/satelite?token=a779d04f85c4bf6cfa586d30aaec57c44e9b7173&idate=2022-09-07&fdate=2022-09-08\n",
      "Fetching data from http://montreal.icea.decea.mil.br:5002/api/v1/satelite?token=a779d04f85c4bf6cfa586d30aaec57c44e9b7173&idate=2022-09-08&fdate=2022-09-09\n",
      "Fetching data from http://montreal.icea.decea.mil.br:5002/api/v1/satelite?token=a779d04f85c4bf6cfa586d30aaec57c44e9b7173&idate=2022-09-09&fdate=2022-09-10\n",
      "Fetching data from http://montreal.icea.decea.mil.br:5002/api/v1/satelite?token=a779d04f85c4bf6cfa586d30aaec57c44e9b7173&idate=2022-09-10&fdate=2022-09-11\n",
      "Fetching data from http://montreal.icea.decea.mil.br:5002/api/v1/satelite?token=a779d04f85c4bf6cfa586d30aaec57c44e9b7173&idate=2022-09-11&fdate=2022-09-12\n",
      "Fetching data from http://montreal.icea.decea.mil.br:5002/api/v1/satelite?token=a779d04f85c4bf6cfa586d30aaec57c44e9b7173&idate=2022-09-12&fdate=2022-09-13\n",
      "Fetching data from http://montreal.icea.decea.mil.br:5002/api/v1/satelite?token=a779d04f85c4bf6cfa586d30aaec57c44e9b7173&idate=2022-09-13&fdate=2022-09-14\n",
      "Fetching data from http://montreal.icea.decea.mil.br:5002/api/v1/satelite?token=a779d04f85c4bf6cfa586d30aaec57c44e9b7173&idate=2022-09-14&fdate=2022-09-15\n",
      "Fetching data from http://montreal.icea.decea.mil.br:5002/api/v1/satelite?token=a779d04f85c4bf6cfa586d30aaec57c44e9b7173&idate=2022-09-15&fdate=2022-09-16\n",
      "Fetching data from http://montreal.icea.decea.mil.br:5002/api/v1/satelite?token=a779d04f85c4bf6cfa586d30aaec57c44e9b7173&idate=2022-09-16&fdate=2022-09-17\n",
      "Fetching data from http://montreal.icea.decea.mil.br:5002/api/v1/satelite?token=a779d04f85c4bf6cfa586d30aaec57c44e9b7173&idate=2022-09-17&fdate=2022-09-18\n",
      "Fetching data from http://montreal.icea.decea.mil.br:5002/api/v1/satelite?token=a779d04f85c4bf6cfa586d30aaec57c44e9b7173&idate=2022-09-18&fdate=2022-09-19\n",
      "Fetching data from http://montreal.icea.decea.mil.br:5002/api/v1/satelite?token=a779d04f85c4bf6cfa586d30aaec57c44e9b7173&idate=2022-09-19&fdate=2022-09-20\n",
      "Fetching data from http://montreal.icea.decea.mil.br:5002/api/v1/satelite?token=a779d04f85c4bf6cfa586d30aaec57c44e9b7173&idate=2022-09-20&fdate=2022-09-21\n",
      "Fetching data from http://montreal.icea.decea.mil.br:5002/api/v1/satelite?token=a779d04f85c4bf6cfa586d30aaec57c44e9b7173&idate=2022-09-21&fdate=2022-09-22\n",
      "Fetching data from http://montreal.icea.decea.mil.br:5002/api/v1/satelite?token=a779d04f85c4bf6cfa586d30aaec57c44e9b7173&idate=2022-09-22&fdate=2022-09-23\n",
      "Fetching data from http://montreal.icea.decea.mil.br:5002/api/v1/satelite?token=a779d04f85c4bf6cfa586d30aaec57c44e9b7173&idate=2022-09-23&fdate=2022-09-24\n",
      "Fetching data from http://montreal.icea.decea.mil.br:5002/api/v1/satelite?token=a779d04f85c4bf6cfa586d30aaec57c44e9b7173&idate=2022-09-24&fdate=2022-09-25\n",
      "Fetching data from http://montreal.icea.decea.mil.br:5002/api/v1/satelite?token=a779d04f85c4bf6cfa586d30aaec57c44e9b7173&idate=2022-09-25&fdate=2022-09-26\n",
      "Fetching data from http://montreal.icea.decea.mil.br:5002/api/v1/satelite?token=a779d04f85c4bf6cfa586d30aaec57c44e9b7173&idate=2022-09-26&fdate=2022-09-27\n"
     ]
    },
    {
     "name": "stderr",
     "output_type": "stream",
     "text": [
      "Carregando dados de satelite, Parte 2:  39%|███▊      | 41/106 [00:00<00:00, 200.51it/s]"
     ]
    },
    {
     "name": "stdout",
     "output_type": "stream",
     "text": [
      "Fetching data from http://montreal.icea.decea.mil.br:5002/api/v1/satelite?token=a779d04f85c4bf6cfa586d30aaec57c44e9b7173&idate=2022-09-27&fdate=2022-09-28\n",
      "Fetching data from http://montreal.icea.decea.mil.br:5002/api/v1/satelite?token=a779d04f85c4bf6cfa586d30aaec57c44e9b7173&idate=2022-09-28&fdate=2022-09-29\n",
      "Fetching data from http://montreal.icea.decea.mil.br:5002/api/v1/satelite?token=a779d04f85c4bf6cfa586d30aaec57c44e9b7173&idate=2022-09-29&fdate=2022-09-30\n",
      "Fetching data from http://montreal.icea.decea.mil.br:5002/api/v1/satelite?token=a779d04f85c4bf6cfa586d30aaec57c44e9b7173&idate=2022-09-30&fdate=2022-10-01\n",
      "Fetching data from http://montreal.icea.decea.mil.br:5002/api/v1/satelite?token=a779d04f85c4bf6cfa586d30aaec57c44e9b7173&idate=2022-10-01&fdate=2022-10-02\n",
      "Fetching data from http://montreal.icea.decea.mil.br:5002/api/v1/satelite?token=a779d04f85c4bf6cfa586d30aaec57c44e9b7173&idate=2022-10-02&fdate=2022-10-03\n",
      "Fetching data from http://montreal.icea.decea.mil.br:5002/api/v1/satelite?token=a779d04f85c4bf6cfa586d30aaec57c44e9b7173&idate=2022-10-03&fdate=2022-10-04\n",
      "Fetching data from http://montreal.icea.decea.mil.br:5002/api/v1/satelite?token=a779d04f85c4bf6cfa586d30aaec57c44e9b7173&idate=2022-10-04&fdate=2022-10-05\n",
      "Fetching data from http://montreal.icea.decea.mil.br:5002/api/v1/satelite?token=a779d04f85c4bf6cfa586d30aaec57c44e9b7173&idate=2022-10-05&fdate=2022-10-06\n",
      "Fetching data from http://montreal.icea.decea.mil.br:5002/api/v1/satelite?token=a779d04f85c4bf6cfa586d30aaec57c44e9b7173&idate=2022-10-06&fdate=2022-10-07\n",
      "Fetching data from http://montreal.icea.decea.mil.br:5002/api/v1/satelite?token=a779d04f85c4bf6cfa586d30aaec57c44e9b7173&idate=2022-10-07&fdate=2022-10-08\n",
      "Fetching data from http://montreal.icea.decea.mil.br:5002/api/v1/satelite?token=a779d04f85c4bf6cfa586d30aaec57c44e9b7173&idate=2022-10-08&fdate=2022-10-09\n",
      "Fetching data from http://montreal.icea.decea.mil.br:5002/api/v1/satelite?token=a779d04f85c4bf6cfa586d30aaec57c44e9b7173&idate=2022-10-09&fdate=2022-10-10\n",
      "Fetching data from http://montreal.icea.decea.mil.br:5002/api/v1/satelite?token=a779d04f85c4bf6cfa586d30aaec57c44e9b7173&idate=2022-10-10&fdate=2022-10-11\n",
      "Fetching data from http://montreal.icea.decea.mil.br:5002/api/v1/satelite?token=a779d04f85c4bf6cfa586d30aaec57c44e9b7173&idate=2022-10-11&fdate=2022-10-12\n",
      "Fetching data from http://montreal.icea.decea.mil.br:5002/api/v1/satelite?token=a779d04f85c4bf6cfa586d30aaec57c44e9b7173&idate=2022-10-12&fdate=2022-10-13\n",
      "Fetching data from http://montreal.icea.decea.mil.br:5002/api/v1/satelite?token=a779d04f85c4bf6cfa586d30aaec57c44e9b7173&idate=2022-10-13&fdate=2022-10-14\n",
      "Fetching data from http://montreal.icea.decea.mil.br:5002/api/v1/satelite?token=a779d04f85c4bf6cfa586d30aaec57c44e9b7173&idate=2022-10-14&fdate=2022-10-15\n",
      "Fetching data from http://montreal.icea.decea.mil.br:5002/api/v1/satelite?token=a779d04f85c4bf6cfa586d30aaec57c44e9b7173&idate=2022-10-15&fdate=2022-10-16\n",
      "Fetching data from http://montreal.icea.decea.mil.br:5002/api/v1/satelite?token=a779d04f85c4bf6cfa586d30aaec57c44e9b7173&idate=2022-10-16&fdate=2022-10-17\n",
      "Fetching data from http://montreal.icea.decea.mil.br:5002/api/v1/satelite?token=a779d04f85c4bf6cfa586d30aaec57c44e9b7173&idate=2022-10-17&fdate=2022-10-18\n",
      "Fetching data from http://montreal.icea.decea.mil.br:5002/api/v1/satelite?token=a779d04f85c4bf6cfa586d30aaec57c44e9b7173&idate=2022-10-18&fdate=2022-10-19\n",
      "Fetching data from http://montreal.icea.decea.mil.br:5002/api/v1/satelite?token=a779d04f85c4bf6cfa586d30aaec57c44e9b7173&idate=2022-10-19&fdate=2022-10-20\n",
      "Fetching data from http://montreal.icea.decea.mil.br:5002/api/v1/satelite?token=a779d04f85c4bf6cfa586d30aaec57c44e9b7173&idate=2022-10-20&fdate=2022-10-21\n",
      "Fetching data from http://montreal.icea.decea.mil.br:5002/api/v1/satelite?token=a779d04f85c4bf6cfa586d30aaec57c44e9b7173&idate=2022-10-21&fdate=2022-10-22\n",
      "Fetching data from http://montreal.icea.decea.mil.br:5002/api/v1/satelite?token=a779d04f85c4bf6cfa586d30aaec57c44e9b7173&idate=2022-10-22&fdate=2022-10-23\n",
      "Fetching data from http://montreal.icea.decea.mil.br:5002/api/v1/satelite?token=a779d04f85c4bf6cfa586d30aaec57c44e9b7173&idate=2022-10-23&fdate=2022-10-24\n",
      "Fetching data from http://montreal.icea.decea.mil.br:5002/api/v1/satelite?token=a779d04f85c4bf6cfa586d30aaec57c44e9b7173&idate=2022-10-24&fdate=2022-10-25\n",
      "Fetching data from http://montreal.icea.decea.mil.br:5002/api/v1/satelite?token=a779d04f85c4bf6cfa586d30aaec57c44e9b7173&idate=2022-10-25&fdate=2022-10-26\n",
      "Fetching data from http://montreal.icea.decea.mil.br:5002/api/v1/satelite?token=a779d04f85c4bf6cfa586d30aaec57c44e9b7173&idate=2022-10-26&fdate=2022-10-27\n",
      "Fetching data from http://montreal.icea.decea.mil.br:5002/api/v1/satelite?token=a779d04f85c4bf6cfa586d30aaec57c44e9b7173&idate=2022-10-27&fdate=2022-10-28\n",
      "Fetching data from http://montreal.icea.decea.mil.br:5002/api/v1/satelite?token=a779d04f85c4bf6cfa586d30aaec57c44e9b7173&idate=2022-10-28&fdate=2022-10-29\n",
      "Fetching data from http://montreal.icea.decea.mil.br:5002/api/v1/satelite?token=a779d04f85c4bf6cfa586d30aaec57c44e9b7173&idate=2022-10-29&fdate=2022-10-30\n",
      "Fetching data from http://montreal.icea.decea.mil.br:5002/api/v1/satelite?token=a779d04f85c4bf6cfa586d30aaec57c44e9b7173&idate=2022-10-30&fdate=2022-10-31\n",
      "Fetching data from http://montreal.icea.decea.mil.br:5002/api/v1/satelite?token=a779d04f85c4bf6cfa586d30aaec57c44e9b7173&idate=2022-10-31&fdate=2022-11-01\n",
      "Fetching data from http://montreal.icea.decea.mil.br:5002/api/v1/satelite?token=a779d04f85c4bf6cfa586d30aaec57c44e9b7173&idate=2022-11-01&fdate=2022-11-02\n"
     ]
    },
    {
     "name": "stderr",
     "output_type": "stream",
     "text": [
      "Carregando dados de satelite, Parte 2:  65%|██████▌   | 69/106 [00:00<00:00, 230.37it/s]"
     ]
    },
    {
     "name": "stdout",
     "output_type": "stream",
     "text": [
      "Fetching data from http://montreal.icea.decea.mil.br:5002/api/v1/satelite?token=a779d04f85c4bf6cfa586d30aaec57c44e9b7173&idate=2022-11-02&fdate=2022-11-03\n",
      "Fetching data from http://montreal.icea.decea.mil.br:5002/api/v1/satelite?token=a779d04f85c4bf6cfa586d30aaec57c44e9b7173&idate=2022-11-03&fdate=2022-11-04\n",
      "Fetching data from http://montreal.icea.decea.mil.br:5002/api/v1/satelite?token=a779d04f85c4bf6cfa586d30aaec57c44e9b7173&idate=2022-11-04&fdate=2022-11-05\n",
      "Fetching data from http://montreal.icea.decea.mil.br:5002/api/v1/satelite?token=a779d04f85c4bf6cfa586d30aaec57c44e9b7173&idate=2022-11-05&fdate=2022-11-06\n",
      "Fetching data from http://montreal.icea.decea.mil.br:5002/api/v1/satelite?token=a779d04f85c4bf6cfa586d30aaec57c44e9b7173&idate=2022-11-06&fdate=2022-11-07\n",
      "Fetching data from http://montreal.icea.decea.mil.br:5002/api/v1/satelite?token=a779d04f85c4bf6cfa586d30aaec57c44e9b7173&idate=2022-11-07&fdate=2022-11-08\n",
      "Fetching data from http://montreal.icea.decea.mil.br:5002/api/v1/satelite?token=a779d04f85c4bf6cfa586d30aaec57c44e9b7173&idate=2022-11-08&fdate=2022-11-09\n",
      "Fetching data from http://montreal.icea.decea.mil.br:5002/api/v1/satelite?token=a779d04f85c4bf6cfa586d30aaec57c44e9b7173&idate=2022-11-09&fdate=2022-11-10\n",
      "Fetching data from http://montreal.icea.decea.mil.br:5002/api/v1/satelite?token=a779d04f85c4bf6cfa586d30aaec57c44e9b7173&idate=2022-11-10&fdate=2022-11-11\n",
      "Fetching data from http://montreal.icea.decea.mil.br:5002/api/v1/satelite?token=a779d04f85c4bf6cfa586d30aaec57c44e9b7173&idate=2022-11-11&fdate=2022-11-12\n",
      "Fetching data from http://montreal.icea.decea.mil.br:5002/api/v1/satelite?token=a779d04f85c4bf6cfa586d30aaec57c44e9b7173&idate=2022-11-12&fdate=2022-11-13\n",
      "Fetching data from http://montreal.icea.decea.mil.br:5002/api/v1/satelite?token=a779d04f85c4bf6cfa586d30aaec57c44e9b7173&idate=2022-11-13&fdate=2022-11-14\n",
      "Fetching data from http://montreal.icea.decea.mil.br:5002/api/v1/satelite?token=a779d04f85c4bf6cfa586d30aaec57c44e9b7173&idate=2022-11-14&fdate=2022-11-15\n"
     ]
    },
    {
     "name": "stderr",
     "output_type": "stream",
     "text": [
      "Carregando dados de satelite, Parte 2:  87%|████████▋ | 92/106 [00:00<00:00, 225.56it/s]"
     ]
    },
    {
     "name": "stdout",
     "output_type": "stream",
     "text": [
      "Fetching data from http://montreal.icea.decea.mil.br:5002/api/v1/satelite?token=a779d04f85c4bf6cfa586d30aaec57c44e9b7173&idate=2022-11-15&fdate=2022-11-16Fetching data from http://montreal.icea.decea.mil.br:5002/api/v1/satelite?token=a779d04f85c4bf6cfa586d30aaec57c44e9b7173&idate=2022-11-16&fdate=2022-11-17\n",
      "Fetching data from http://montreal.icea.decea.mil.br:5002/api/v1/satelite?token=a779d04f85c4bf6cfa586d30aaec57c44e9b7173&idate=2022-11-17&fdate=2022-11-18\n",
      "\n",
      "Fetching data from http://montreal.icea.decea.mil.br:5002/api/v1/satelite?token=a779d04f85c4bf6cfa586d30aaec57c44e9b7173&idate=2022-11-18&fdate=2022-11-19\n",
      "Fetching data from http://montreal.icea.decea.mil.br:5002/api/v1/satelite?token=a779d04f85c4bf6cfa586d30aaec57c44e9b7173&idate=2022-11-19&fdate=2022-11-20\n",
      "Fetching data from http://montreal.icea.decea.mil.br:5002/api/v1/satelite?token=a779d04f85c4bf6cfa586d30aaec57c44e9b7173&idate=2022-11-20&fdate=2022-11-21\n",
      "Fetching data from http://montreal.icea.decea.mil.br:5002/api/v1/satelite?token=a779d04f85c4bf6cfa586d30aaec57c44e9b7173&idate=2022-11-21&fdate=2022-11-22\n",
      "Fetching data from http://montreal.icea.decea.mil.br:5002/api/v1/satelite?token=a779d04f85c4bf6cfa586d30aaec57c44e9b7173&idate=2022-11-22&fdate=2022-11-23\n",
      "Fetching data from http://montreal.icea.decea.mil.br:5002/api/v1/satelite?token=a779d04f85c4bf6cfa586d30aaec57c44e9b7173&idate=2022-11-23&fdate=2022-11-24\n",
      "Fetching data from http://montreal.icea.decea.mil.br:5002/api/v1/satelite?token=a779d04f85c4bf6cfa586d30aaec57c44e9b7173&idate=2022-11-24&fdate=2022-11-25\n",
      "Fetching data from http://montreal.icea.decea.mil.br:5002/api/v1/satelite?token=a779d04f85c4bf6cfa586d30aaec57c44e9b7173&idate=2022-11-25&fdate=2022-11-26\n",
      "Fetching data from http://montreal.icea.decea.mil.br:5002/api/v1/satelite?token=a779d04f85c4bf6cfa586d30aaec57c44e9b7173&idate=2022-11-26&fdate=2022-11-27\n",
      "Fetching data from http://montreal.icea.decea.mil.br:5002/api/v1/satelite?token=a779d04f85c4bf6cfa586d30aaec57c44e9b7173&idate=2022-11-27&fdate=2022-11-28\n",
      "Fetching data from http://montreal.icea.decea.mil.br:5002/api/v1/satelite?token=a779d04f85c4bf6cfa586d30aaec57c44e9b7173&idate=2022-11-28&fdate=2022-11-29\n"
     ]
    },
    {
     "name": "stderr",
     "output_type": "stream",
     "text": [
      "Carregando dados de satelite, Parte 2: 100%|██████████| 106/106 [00:00<00:00, 200.15it/s]\n"
     ]
    },
    {
     "name": "stdout",
     "output_type": "stream",
     "text": [
      "Dados de satelite salvos em satelite_part_2.csv\n",
      "Processando parte 3/4\n",
      "Fetching data from http://montreal.icea.decea.mil.br:5002/api/v1/satelite?token=a779d04f85c4bf6cfa586d30aaec57c44e9b7173&idate=2022-11-29&fdate=2022-11-30\n",
      "Fetching data from http://montreal.icea.decea.mil.br:5002/api/v1/satelite?token=a779d04f85c4bf6cfa586d30aaec57c44e9b7173&idate=2022-11-30&fdate=2022-12-01\n",
      "Fetching data from http://montreal.icea.decea.mil.br:5002/api/v1/satelite?token=a779d04f85c4bf6cfa586d30aaec57c44e9b7173&idate=2022-12-01&fdate=2022-12-02\n",
      "Fetching data from http://montreal.icea.decea.mil.br:5002/api/v1/satelite?token=a779d04f85c4bf6cfa586d30aaec57c44e9b7173&idate=2022-12-02&fdate=2022-12-03\n",
      "Fetching data from http://montreal.icea.decea.mil.br:5002/api/v1/satelite?token=a779d04f85c4bf6cfa586d30aaec57c44e9b7173&idate=2022-12-03&fdate=2022-12-04\n",
      "Fetching data from http://montreal.icea.decea.mil.br:5002/api/v1/satelite?token=a779d04f85c4bf6cfa586d30aaec57c44e9b7173&idate=2022-12-04&fdate=2022-12-05\n",
      "Fetching data from http://montreal.icea.decea.mil.br:5002/api/v1/satelite?token=a779d04f85c4bf6cfa586d30aaec57c44e9b7173&idate=2022-12-05&fdate=2022-12-06\n",
      "Fetching data from http://montreal.icea.decea.mil.br:5002/api/v1/satelite?token=a779d04f85c4bf6cfa586d30aaec57c44e9b7173&idate=2022-12-06&fdate=2022-12-07\n",
      "Fetching data from http://montreal.icea.decea.mil.br:5002/api/v1/satelite?token=a779d04f85c4bf6cfa586d30aaec57c44e9b7173&idate=2022-12-07&fdate=2022-12-08\n",
      "Fetching data from http://montreal.icea.decea.mil.br:5002/api/v1/satelite?token=a779d04f85c4bf6cfa586d30aaec57c44e9b7173&idate=2022-12-08&fdate=2022-12-09\n"
     ]
    },
    {
     "name": "stderr",
     "output_type": "stream",
     "text": [
      "Carregando dados de satelite, Parte 3:   0%|          | 0/106 [00:00<?, ?it/s]"
     ]
    },
    {
     "name": "stdout",
     "output_type": "stream",
     "text": [
      "Fetching data from http://montreal.icea.decea.mil.br:5002/api/v1/satelite?token=a779d04f85c4bf6cfa586d30aaec57c44e9b7173&idate=2022-12-09&fdate=2022-12-10\n"
     ]
    },
    {
     "name": "stderr",
     "output_type": "stream",
     "text": [
      "Carregando dados de satelite, Parte 3:  20%|█▉        | 21/106 [00:00<00:00, 195.82it/s]"
     ]
    },
    {
     "name": "stdout",
     "output_type": "stream",
     "text": [
      "Fetching data from http://montreal.icea.decea.mil.br:5002/api/v1/satelite?token=a779d04f85c4bf6cfa586d30aaec57c44e9b7173&idate=2022-12-10&fdate=2022-12-11\n",
      "Fetching data from http://montreal.icea.decea.mil.br:5002/api/v1/satelite?token=a779d04f85c4bf6cfa586d30aaec57c44e9b7173&idate=2022-12-11&fdate=2022-12-12\n",
      "Fetching data from http://montreal.icea.decea.mil.br:5002/api/v1/satelite?token=a779d04f85c4bf6cfa586d30aaec57c44e9b7173&idate=2022-12-12&fdate=2022-12-13\n",
      "Fetching data from http://montreal.icea.decea.mil.br:5002/api/v1/satelite?token=a779d04f85c4bf6cfa586d30aaec57c44e9b7173&idate=2022-12-13&fdate=2022-12-14\n",
      "Fetching data from http://montreal.icea.decea.mil.br:5002/api/v1/satelite?token=a779d04f85c4bf6cfa586d30aaec57c44e9b7173&idate=2022-12-14&fdate=2022-12-15\n",
      "Fetching data from http://montreal.icea.decea.mil.br:5002/api/v1/satelite?token=a779d04f85c4bf6cfa586d30aaec57c44e9b7173&idate=2022-12-15&fdate=2022-12-16\n",
      "Fetching data from http://montreal.icea.decea.mil.br:5002/api/v1/satelite?token=a779d04f85c4bf6cfa586d30aaec57c44e9b7173&idate=2022-12-16&fdate=2022-12-17\n",
      "Fetching data from http://montreal.icea.decea.mil.br:5002/api/v1/satelite?token=a779d04f85c4bf6cfa586d30aaec57c44e9b7173&idate=2022-12-17&fdate=2022-12-18\n",
      "Fetching data from http://montreal.icea.decea.mil.br:5002/api/v1/satelite?token=a779d04f85c4bf6cfa586d30aaec57c44e9b7173&idate=2022-12-18&fdate=2022-12-19\n",
      "Fetching data from http://montreal.icea.decea.mil.br:5002/api/v1/satelite?token=a779d04f85c4bf6cfa586d30aaec57c44e9b7173&idate=2022-12-19&fdate=2022-12-20\n",
      "Fetching data from http://montreal.icea.decea.mil.br:5002/api/v1/satelite?token=a779d04f85c4bf6cfa586d30aaec57c44e9b7173&idate=2022-12-20&fdate=2022-12-21\n",
      "Fetching data from http://montreal.icea.decea.mil.br:5002/api/v1/satelite?token=a779d04f85c4bf6cfa586d30aaec57c44e9b7173&idate=2022-12-21&fdate=2022-12-22\n",
      "Fetching data from http://montreal.icea.decea.mil.br:5002/api/v1/satelite?token=a779d04f85c4bf6cfa586d30aaec57c44e9b7173&idate=2022-12-22&fdate=2022-12-23\n",
      "Fetching data from http://montreal.icea.decea.mil.br:5002/api/v1/satelite?token=a779d04f85c4bf6cfa586d30aaec57c44e9b7173&idate=2022-12-23&fdate=2022-12-24\n",
      "Fetching data from http://montreal.icea.decea.mil.br:5002/api/v1/satelite?token=a779d04f85c4bf6cfa586d30aaec57c44e9b7173&idate=2022-12-24&fdate=2022-12-25\n",
      "Fetching data from http://montreal.icea.decea.mil.br:5002/api/v1/satelite?token=a779d04f85c4bf6cfa586d30aaec57c44e9b7173&idate=2022-12-25&fdate=2022-12-26\n",
      "Fetching data from http://montreal.icea.decea.mil.br:5002/api/v1/satelite?token=a779d04f85c4bf6cfa586d30aaec57c44e9b7173&idate=2022-12-26&fdate=2022-12-27\n",
      "Fetching data from http://montreal.icea.decea.mil.br:5002/api/v1/satelite?token=a779d04f85c4bf6cfa586d30aaec57c44e9b7173&idate=2022-12-27&fdate=2022-12-28\n",
      "Fetching data from http://montreal.icea.decea.mil.br:5002/api/v1/satelite?token=a779d04f85c4bf6cfa586d30aaec57c44e9b7173&idate=2022-12-28&fdate=2022-12-29\n",
      "Fetching data from http://montreal.icea.decea.mil.br:5002/api/v1/satelite?token=a779d04f85c4bf6cfa586d30aaec57c44e9b7173&idate=2022-12-29&fdate=2022-12-30\n",
      "Fetching data from http://montreal.icea.decea.mil.br:5002/api/v1/satelite?token=a779d04f85c4bf6cfa586d30aaec57c44e9b7173&idate=2022-12-30&fdate=2022-12-31\n",
      "Fetching data from http://montreal.icea.decea.mil.br:5002/api/v1/satelite?token=a779d04f85c4bf6cfa586d30aaec57c44e9b7173&idate=2022-12-31&fdate=2023-01-01\n",
      "Fetching data from http://montreal.icea.decea.mil.br:5002/api/v1/satelite?token=a779d04f85c4bf6cfa586d30aaec57c44e9b7173&idate=2023-01-01&fdate=2023-01-02\n",
      "Fetching data from http://montreal.icea.decea.mil.br:5002/api/v1/satelite?token=a779d04f85c4bf6cfa586d30aaec57c44e9b7173&idate=2023-01-02&fdate=2023-01-03\n",
      "Fetching data from http://montreal.icea.decea.mil.br:5002/api/v1/satelite?token=a779d04f85c4bf6cfa586d30aaec57c44e9b7173&idate=2023-01-03&fdate=2023-01-04\n",
      "Fetching data from http://montreal.icea.decea.mil.br:5002/api/v1/satelite?token=a779d04f85c4bf6cfa586d30aaec57c44e9b7173&idate=2023-01-04&fdate=2023-01-05\n",
      "Fetching data from http://montreal.icea.decea.mil.br:5002/api/v1/satelite?token=a779d04f85c4bf6cfa586d30aaec57c44e9b7173&idate=2023-01-05&fdate=2023-01-06\n",
      "Fetching data from http://montreal.icea.decea.mil.br:5002/api/v1/satelite?token=a779d04f85c4bf6cfa586d30aaec57c44e9b7173&idate=2023-01-06&fdate=2023-01-07\n",
      "Fetching data from http://montreal.icea.decea.mil.br:5002/api/v1/satelite?token=a779d04f85c4bf6cfa586d30aaec57c44e9b7173&idate=2023-01-07&fdate=2023-01-08\n",
      "Fetching data from http://montreal.icea.decea.mil.br:5002/api/v1/satelite?token=a779d04f85c4bf6cfa586d30aaec57c44e9b7173&idate=2023-01-08&fdate=2023-01-09\n",
      "Fetching data from http://montreal.icea.decea.mil.br:5002/api/v1/satelite?token=a779d04f85c4bf6cfa586d30aaec57c44e9b7173&idate=2023-01-09&fdate=2023-01-10\n",
      "Fetching data from http://montreal.icea.decea.mil.br:5002/api/v1/satelite?token=a779d04f85c4bf6cfa586d30aaec57c44e9b7173&idate=2023-01-10&fdate=2023-01-11\n",
      "Fetching data from http://montreal.icea.decea.mil.br:5002/api/v1/satelite?token=a779d04f85c4bf6cfa586d30aaec57c44e9b7173&idate=2023-01-11&fdate=2023-01-12\n",
      "Fetching data from http://montreal.icea.decea.mil.br:5002/api/v1/satelite?token=a779d04f85c4bf6cfa586d30aaec57c44e9b7173&idate=2023-01-12&fdate=2023-01-13\n",
      "Fetching data from http://montreal.icea.decea.mil.br:5002/api/v1/satelite?token=a779d04f85c4bf6cfa586d30aaec57c44e9b7173&idate=2023-01-13&fdate=2023-01-14\n",
      "Fetching data from http://montreal.icea.decea.mil.br:5002/api/v1/satelite?token=a779d04f85c4bf6cfa586d30aaec57c44e9b7173&idate=2023-01-14&fdate=2023-01-15\n",
      "Fetching data from http://montreal.icea.decea.mil.br:5002/api/v1/satelite?token=a779d04f85c4bf6cfa586d30aaec57c44e9b7173&idate=2023-01-15&fdate=2023-01-16\n",
      "Fetching data from http://montreal.icea.decea.mil.br:5002/api/v1/satelite?token=a779d04f85c4bf6cfa586d30aaec57c44e9b7173&idate=2023-01-16&fdate=2023-01-17\n",
      "Fetching data from http://montreal.icea.decea.mil.br:5002/api/v1/satelite?token=a779d04f85c4bf6cfa586d30aaec57c44e9b7173&idate=2023-01-17&fdate=2023-01-18\n",
      "Fetching data from http://montreal.icea.decea.mil.br:5002/api/v1/satelite?token=a779d04f85c4bf6cfa586d30aaec57c44e9b7173&idate=2023-01-18&fdate=2023-01-19\n",
      "Fetching data from http://montreal.icea.decea.mil.br:5002/api/v1/satelite?token=a779d04f85c4bf6cfa586d30aaec57c44e9b7173&idate=2023-01-19&fdate=2023-01-20\n",
      "Fetching data from http://montreal.icea.decea.mil.br:5002/api/v1/satelite?token=a779d04f85c4bf6cfa586d30aaec57c44e9b7173&idate=2023-01-20&fdate=2023-01-21\n",
      "Fetching data from http://montreal.icea.decea.mil.br:5002/api/v1/satelite?token=a779d04f85c4bf6cfa586d30aaec57c44e9b7173&idate=2023-01-21&fdate=2023-01-22\n",
      "Fetching data from http://montreal.icea.decea.mil.br:5002/api/v1/satelite?token=a779d04f85c4bf6cfa586d30aaec57c44e9b7173&idate=2023-01-22&fdate=2023-01-23\n"
     ]
    },
    {
     "name": "stderr",
     "output_type": "stream",
     "text": [
      "Carregando dados de satelite, Parte 3:  43%|████▎     | 46/106 [00:00<00:00, 184.11it/s]"
     ]
    },
    {
     "name": "stdout",
     "output_type": "stream",
     "text": [
      "Fetching data from http://montreal.icea.decea.mil.br:5002/api/v1/satelite?token=a779d04f85c4bf6cfa586d30aaec57c44e9b7173&idate=2023-01-23&fdate=2023-01-24\n",
      "Fetching data from http://montreal.icea.decea.mil.br:5002/api/v1/satelite?token=a779d04f85c4bf6cfa586d30aaec57c44e9b7173&idate=2023-01-24&fdate=2023-01-25\n",
      "Fetching data from http://montreal.icea.decea.mil.br:5002/api/v1/satelite?token=a779d04f85c4bf6cfa586d30aaec57c44e9b7173&idate=2023-01-25&fdate=2023-01-26\n",
      "Fetching data from http://montreal.icea.decea.mil.br:5002/api/v1/satelite?token=a779d04f85c4bf6cfa586d30aaec57c44e9b7173&idate=2023-01-26&fdate=2023-01-27\n",
      "Fetching data from http://montreal.icea.decea.mil.br:5002/api/v1/satelite?token=a779d04f85c4bf6cfa586d30aaec57c44e9b7173&idate=2023-01-27&fdate=2023-01-28\n",
      "Fetching data from http://montreal.icea.decea.mil.br:5002/api/v1/satelite?token=a779d04f85c4bf6cfa586d30aaec57c44e9b7173&idate=2023-01-28&fdate=2023-01-29\n",
      "Fetching data from http://montreal.icea.decea.mil.br:5002/api/v1/satelite?token=a779d04f85c4bf6cfa586d30aaec57c44e9b7173&idate=2023-01-29&fdate=2023-01-30\n",
      "Fetching data from http://montreal.icea.decea.mil.br:5002/api/v1/satelite?token=a779d04f85c4bf6cfa586d30aaec57c44e9b7173&idate=2023-01-30&fdate=2023-01-31\n",
      "Fetching data from http://montreal.icea.decea.mil.br:5002/api/v1/satelite?token=a779d04f85c4bf6cfa586d30aaec57c44e9b7173&idate=2023-01-31&fdate=2023-02-01\n",
      "Fetching data from http://montreal.icea.decea.mil.br:5002/api/v1/satelite?token=a779d04f85c4bf6cfa586d30aaec57c44e9b7173&idate=2023-02-01&fdate=2023-02-02\n"
     ]
    },
    {
     "name": "stderr",
     "output_type": "stream",
     "text": [
      "Carregando dados de satelite, Parte 3:  61%|██████▏   | 65/106 [00:00<00:00, 122.31it/s]"
     ]
    },
    {
     "name": "stdout",
     "output_type": "stream",
     "text": [
      "Fetching data from http://montreal.icea.decea.mil.br:5002/api/v1/satelite?token=a779d04f85c4bf6cfa586d30aaec57c44e9b7173&idate=2023-02-02&fdate=2023-02-03\n",
      "Fetching data from http://montreal.icea.decea.mil.br:5002/api/v1/satelite?token=a779d04f85c4bf6cfa586d30aaec57c44e9b7173&idate=2023-02-03&fdate=2023-02-04\n",
      "Fetching data from http://montreal.icea.decea.mil.br:5002/api/v1/satelite?token=a779d04f85c4bf6cfa586d30aaec57c44e9b7173&idate=2023-02-04&fdate=2023-02-05\n",
      "Fetching data from http://montreal.icea.decea.mil.br:5002/api/v1/satelite?token=a779d04f85c4bf6cfa586d30aaec57c44e9b7173&idate=2023-02-05&fdate=2023-02-06\n",
      "Fetching data from http://montreal.icea.decea.mil.br:5002/api/v1/satelite?token=a779d04f85c4bf6cfa586d30aaec57c44e9b7173&idate=2023-02-06&fdate=2023-02-07\n",
      "Fetching data from http://montreal.icea.decea.mil.br:5002/api/v1/satelite?token=a779d04f85c4bf6cfa586d30aaec57c44e9b7173&idate=2023-02-07&fdate=2023-02-08\n",
      "Fetching data from http://montreal.icea.decea.mil.br:5002/api/v1/satelite?token=a779d04f85c4bf6cfa586d30aaec57c44e9b7173&idate=2023-02-08&fdate=2023-02-09\n",
      "Fetching data from http://montreal.icea.decea.mil.br:5002/api/v1/satelite?token=a779d04f85c4bf6cfa586d30aaec57c44e9b7173&idate=2023-02-09&fdate=2023-02-10\n",
      "Fetching data from http://montreal.icea.decea.mil.br:5002/api/v1/satelite?token=a779d04f85c4bf6cfa586d30aaec57c44e9b7173&idate=2023-02-10&fdate=2023-02-11\n",
      "Fetching data from http://montreal.icea.decea.mil.br:5002/api/v1/satelite?token=a779d04f85c4bf6cfa586d30aaec57c44e9b7173&idate=2023-02-11&fdate=2023-02-12\n",
      "Fetching data from http://montreal.icea.decea.mil.br:5002/api/v1/satelite?token=a779d04f85c4bf6cfa586d30aaec57c44e9b7173&idate=2023-02-12&fdate=2023-02-13\n",
      "Fetching data from http://montreal.icea.decea.mil.br:5002/api/v1/satelite?token=a779d04f85c4bf6cfa586d30aaec57c44e9b7173&idate=2023-02-13&fdate=2023-02-14\n",
      "Fetching data from http://montreal.icea.decea.mil.br:5002/api/v1/satelite?token=a779d04f85c4bf6cfa586d30aaec57c44e9b7173&idate=2023-02-14&fdate=2023-02-15\n",
      "Fetching data from http://montreal.icea.decea.mil.br:5002/api/v1/satelite?token=a779d04f85c4bf6cfa586d30aaec57c44e9b7173&idate=2023-02-15&fdate=2023-02-16\n",
      "Fetching data from http://montreal.icea.decea.mil.br:5002/api/v1/satelite?token=a779d04f85c4bf6cfa586d30aaec57c44e9b7173&idate=2023-02-16&fdate=2023-02-17\n",
      "Fetching data from http://montreal.icea.decea.mil.br:5002/api/v1/satelite?token=a779d04f85c4bf6cfa586d30aaec57c44e9b7173&idate=2023-02-17&fdate=2023-02-18\n",
      "Fetching data from http://montreal.icea.decea.mil.br:5002/api/v1/satelite?token=a779d04f85c4bf6cfa586d30aaec57c44e9b7173&idate=2023-02-18&fdate=2023-02-19\n",
      "Fetching data from http://montreal.icea.decea.mil.br:5002/api/v1/satelite?token=a779d04f85c4bf6cfa586d30aaec57c44e9b7173&idate=2023-02-19&fdate=2023-02-20\n",
      "Fetching data from http://montreal.icea.decea.mil.br:5002/api/v1/satelite?token=a779d04f85c4bf6cfa586d30aaec57c44e9b7173&idate=2023-02-20&fdate=2023-02-21\n",
      "Fetching data from http://montreal.icea.decea.mil.br:5002/api/v1/satelite?token=a779d04f85c4bf6cfa586d30aaec57c44e9b7173&idate=2023-02-21&fdate=2023-02-22\n",
      "Fetching data from http://montreal.icea.decea.mil.br:5002/api/v1/satelite?token=a779d04f85c4bf6cfa586d30aaec57c44e9b7173&idate=2023-02-22&fdate=2023-02-23\n",
      "Fetching data from http://montreal.icea.decea.mil.br:5002/api/v1/satelite?token=a779d04f85c4bf6cfa586d30aaec57c44e9b7173&idate=2023-02-23&fdate=2023-02-24\n",
      "Fetching data from http://montreal.icea.decea.mil.br:5002/api/v1/satelite?token=a779d04f85c4bf6cfa586d30aaec57c44e9b7173&idate=2023-02-24&fdate=2023-02-25\n",
      "Fetching data from http://montreal.icea.decea.mil.br:5002/api/v1/satelite?token=a779d04f85c4bf6cfa586d30aaec57c44e9b7173&idate=2023-02-25&fdate=2023-02-26\n",
      "Fetching data from http://montreal.icea.decea.mil.br:5002/api/v1/satelite?token=a779d04f85c4bf6cfa586d30aaec57c44e9b7173&idate=2023-02-26&fdate=2023-02-27\n",
      "Fetching data from http://montreal.icea.decea.mil.br:5002/api/v1/satelite?token=a779d04f85c4bf6cfa586d30aaec57c44e9b7173&idate=2023-02-27&fdate=2023-02-28\n",
      "Fetching data from http://montreal.icea.decea.mil.br:5002/api/v1/satelite?token=a779d04f85c4bf6cfa586d30aaec57c44e9b7173&idate=2023-02-28&fdate=2023-03-01\n",
      "Fetching data from http://montreal.icea.decea.mil.br:5002/api/v1/satelite?token=a779d04f85c4bf6cfa586d30aaec57c44e9b7173&idate=2023-03-01&fdate=2023-03-02\n",
      "Fetching data from http://montreal.icea.decea.mil.br:5002/api/v1/satelite?token=a779d04f85c4bf6cfa586d30aaec57c44e9b7173&idate=2023-03-02&fdate=2023-03-03\n",
      "Fetching data from http://montreal.icea.decea.mil.br:5002/api/v1/satelite?token=a779d04f85c4bf6cfa586d30aaec57c44e9b7173&idate=2023-03-03&fdate=2023-03-04\n",
      "Fetching data from http://montreal.icea.decea.mil.br:5002/api/v1/satelite?token=a779d04f85c4bf6cfa586d30aaec57c44e9b7173&idate=2023-03-04&fdate=2023-03-05\n",
      "Fetching data from http://montreal.icea.decea.mil.br:5002/api/v1/satelite?token=a779d04f85c4bf6cfa586d30aaec57c44e9b7173&idate=2023-03-05&fdate=2023-03-06\n"
     ]
    },
    {
     "name": "stderr",
     "output_type": "stream",
     "text": [
      "Carregando dados de satelite, Parte 3:  83%|████████▎ | 88/106 [00:00<00:00, 136.95it/s]"
     ]
    },
    {
     "name": "stdout",
     "output_type": "stream",
     "text": [
      "Fetching data from http://montreal.icea.decea.mil.br:5002/api/v1/satelite?token=a779d04f85c4bf6cfa586d30aaec57c44e9b7173&idate=2023-03-06&fdate=2023-03-07\n",
      "Fetching data from http://montreal.icea.decea.mil.br:5002/api/v1/satelite?token=a779d04f85c4bf6cfa586d30aaec57c44e9b7173&idate=2023-03-07&fdate=2023-03-08\n",
      "Fetching data from http://montreal.icea.decea.mil.br:5002/api/v1/satelite?token=a779d04f85c4bf6cfa586d30aaec57c44e9b7173&idate=2023-03-08&fdate=2023-03-09\n",
      "Fetching data from http://montreal.icea.decea.mil.br:5002/api/v1/satelite?token=a779d04f85c4bf6cfa586d30aaec57c44e9b7173&idate=2023-03-09&fdate=2023-03-10\n",
      "Fetching data from http://montreal.icea.decea.mil.br:5002/api/v1/satelite?token=a779d04f85c4bf6cfa586d30aaec57c44e9b7173&idate=2023-03-10&fdate=2023-03-11\n",
      "Fetching data from http://montreal.icea.decea.mil.br:5002/api/v1/satelite?token=a779d04f85c4bf6cfa586d30aaec57c44e9b7173&idate=2023-03-11&fdate=2023-03-12\n",
      "Fetching data from http://montreal.icea.decea.mil.br:5002/api/v1/satelite?token=a779d04f85c4bf6cfa586d30aaec57c44e9b7173&idate=2023-03-12&fdate=2023-03-13\n",
      "Fetching data from http://montreal.icea.decea.mil.br:5002/api/v1/satelite?token=a779d04f85c4bf6cfa586d30aaec57c44e9b7173&idate=2023-03-13&fdate=2023-03-14\n",
      "Fetching data from http://montreal.icea.decea.mil.br:5002/api/v1/satelite?token=a779d04f85c4bf6cfa586d30aaec57c44e9b7173&idate=2023-03-14&fdate=2023-03-15\n"
     ]
    },
    {
     "name": "stderr",
     "output_type": "stream",
     "text": [
      "Carregando dados de satelite, Parte 3: 100%|██████████| 106/106 [00:00<00:00, 160.26it/s]\n"
     ]
    },
    {
     "name": "stdout",
     "output_type": "stream",
     "text": [
      "Dados de satelite salvos em satelite_part_3.csv\n",
      "Processando parte 4/4\n",
      "Fetching data from http://montreal.icea.decea.mil.br:5002/api/v1/satelite?token=a779d04f85c4bf6cfa586d30aaec57c44e9b7173&idate=2023-03-15&fdate=2023-03-16\n",
      "Fetching data from http://montreal.icea.decea.mil.br:5002/api/v1/satelite?token=a779d04f85c4bf6cfa586d30aaec57c44e9b7173&idate=2023-03-16&fdate=2023-03-17\n",
      "Fetching data from http://montreal.icea.decea.mil.br:5002/api/v1/satelite?token=a779d04f85c4bf6cfa586d30aaec57c44e9b7173&idate=2023-03-17&fdate=2023-03-18\n",
      "Fetching data from http://montreal.icea.decea.mil.br:5002/api/v1/satelite?token=a779d04f85c4bf6cfa586d30aaec57c44e9b7173&idate=2023-03-18&fdate=2023-03-19\n",
      "Fetching data from http://montreal.icea.decea.mil.br:5002/api/v1/satelite?token=a779d04f85c4bf6cfa586d30aaec57c44e9b7173&idate=2023-03-19&fdate=2023-03-20\n",
      "Fetching data from http://montreal.icea.decea.mil.br:5002/api/v1/satelite?token=a779d04f85c4bf6cfa586d30aaec57c44e9b7173&idate=2023-03-20&fdate=2023-03-21\n",
      "Fetching data from http://montreal.icea.decea.mil.br:5002/api/v1/satelite?token=a779d04f85c4bf6cfa586d30aaec57c44e9b7173&idate=2023-03-21&fdate=2023-03-22\n",
      "Fetching data from http://montreal.icea.decea.mil.br:5002/api/v1/satelite?token=a779d04f85c4bf6cfa586d30aaec57c44e9b7173&idate=2023-03-22&fdate=2023-03-23\n",
      "Fetching data from http://montreal.icea.decea.mil.br:5002/api/v1/satelite?token=a779d04f85c4bf6cfa586d30aaec57c44e9b7173&idate=2023-03-23&fdate=2023-03-24\n",
      "Fetching data from http://montreal.icea.decea.mil.br:5002/api/v1/satelite?token=a779d04f85c4bf6cfa586d30aaec57c44e9b7173&idate=2023-03-24&fdate=2023-03-25\n"
     ]
    },
    {
     "name": "stderr",
     "output_type": "stream",
     "text": [
      "Carregando dados de satelite, Parte 4:   0%|          | 0/109 [00:00<?, ?it/s]"
     ]
    },
    {
     "name": "stdout",
     "output_type": "stream",
     "text": [
      "Fetching data from http://montreal.icea.decea.mil.br:5002/api/v1/satelite?token=a779d04f85c4bf6cfa586d30aaec57c44e9b7173&idate=2023-03-25&fdate=2023-03-26\n",
      "Fetching data from http://montreal.icea.decea.mil.br:5002/api/v1/satelite?token=a779d04f85c4bf6cfa586d30aaec57c44e9b7173&idate=2023-03-26&fdate=2023-03-27\n",
      "Fetching data from http://montreal.icea.decea.mil.br:5002/api/v1/satelite?token=a779d04f85c4bf6cfa586d30aaec57c44e9b7173&idate=2023-03-27&fdate=2023-03-28\n",
      "Fetching data from http://montreal.icea.decea.mil.br:5002/api/v1/satelite?token=a779d04f85c4bf6cfa586d30aaec57c44e9b7173&idate=2023-03-28&fdate=2023-03-29\n",
      "Fetching data from http://montreal.icea.decea.mil.br:5002/api/v1/satelite?token=a779d04f85c4bf6cfa586d30aaec57c44e9b7173&idate=2023-03-29&fdate=2023-03-30\n",
      "Fetching data from http://montreal.icea.decea.mil.br:5002/api/v1/satelite?token=a779d04f85c4bf6cfa586d30aaec57c44e9b7173&idate=2023-03-30&fdate=2023-03-31\n",
      "Fetching data from http://montreal.icea.decea.mil.br:5002/api/v1/satelite?token=a779d04f85c4bf6cfa586d30aaec57c44e9b7173&idate=2023-03-31&fdate=2023-04-01\n",
      "Fetching data from http://montreal.icea.decea.mil.br:5002/api/v1/satelite?token=a779d04f85c4bf6cfa586d30aaec57c44e9b7173&idate=2023-04-01&fdate=2023-04-02\n",
      "Fetching data from http://montreal.icea.decea.mil.br:5002/api/v1/satelite?token=a779d04f85c4bf6cfa586d30aaec57c44e9b7173&idate=2023-04-02&fdate=2023-04-03\n",
      "Fetching data from http://montreal.icea.decea.mil.br:5002/api/v1/satelite?token=a779d04f85c4bf6cfa586d30aaec57c44e9b7173&idate=2023-04-03&fdate=2023-04-04\n",
      "Fetching data from http://montreal.icea.decea.mil.br:5002/api/v1/satelite?token=a779d04f85c4bf6cfa586d30aaec57c44e9b7173&idate=2023-04-04&fdate=2023-04-05\n",
      "Fetching data from http://montreal.icea.decea.mil.br:5002/api/v1/satelite?token=a779d04f85c4bf6cfa586d30aaec57c44e9b7173&idate=2023-04-05&fdate=2023-04-06\n",
      "Fetching data from http://montreal.icea.decea.mil.br:5002/api/v1/satelite?token=a779d04f85c4bf6cfa586d30aaec57c44e9b7173&idate=2023-04-06&fdate=2023-04-07\n",
      "Fetching data from http://montreal.icea.decea.mil.br:5002/api/v1/satelite?token=a779d04f85c4bf6cfa586d30aaec57c44e9b7173&idate=2023-04-07&fdate=2023-04-08\n",
      "Fetching data from http://montreal.icea.decea.mil.br:5002/api/v1/satelite?token=a779d04f85c4bf6cfa586d30aaec57c44e9b7173&idate=2023-04-08&fdate=2023-04-09\n",
      "Fetching data from http://montreal.icea.decea.mil.br:5002/api/v1/satelite?token=a779d04f85c4bf6cfa586d30aaec57c44e9b7173&idate=2023-04-09&fdate=2023-04-10\n",
      "Fetching data from http://montreal.icea.decea.mil.br:5002/api/v1/satelite?token=a779d04f85c4bf6cfa586d30aaec57c44e9b7173&idate=2023-04-10&fdate=2023-04-11\n",
      "Fetching data from http://montreal.icea.decea.mil.br:5002/api/v1/satelite?token=a779d04f85c4bf6cfa586d30aaec57c44e9b7173&idate=2023-04-11&fdate=2023-04-12\n",
      "Fetching data from http://montreal.icea.decea.mil.br:5002/api/v1/satelite?token=a779d04f85c4bf6cfa586d30aaec57c44e9b7173&idate=2023-04-12&fdate=2023-04-13\n",
      "Fetching data from http://montreal.icea.decea.mil.br:5002/api/v1/satelite?token=a779d04f85c4bf6cfa586d30aaec57c44e9b7173&idate=2023-04-13&fdate=2023-04-14\n",
      "Fetching data from http://montreal.icea.decea.mil.br:5002/api/v1/satelite?token=a779d04f85c4bf6cfa586d30aaec57c44e9b7173&idate=2023-04-14&fdate=2023-04-15\n",
      "Fetching data from http://montreal.icea.decea.mil.br:5002/api/v1/satelite?token=a779d04f85c4bf6cfa586d30aaec57c44e9b7173&idate=2023-04-15&fdate=2023-04-16\n"
     ]
    },
    {
     "name": "stderr",
     "output_type": "stream",
     "text": [
      "Carregando dados de satelite, Parte 4:  32%|███▏      | 35/109 [00:00<00:00, 332.31it/s]"
     ]
    },
    {
     "name": "stdout",
     "output_type": "stream",
     "text": [
      "Fetching data from http://montreal.icea.decea.mil.br:5002/api/v1/satelite?token=a779d04f85c4bf6cfa586d30aaec57c44e9b7173&idate=2023-04-16&fdate=2023-04-17\n",
      "Fetching data from http://montreal.icea.decea.mil.br:5002/api/v1/satelite?token=a779d04f85c4bf6cfa586d30aaec57c44e9b7173&idate=2023-04-17&fdate=2023-04-18\n",
      "Fetching data from http://montreal.icea.decea.mil.br:5002/api/v1/satelite?token=a779d04f85c4bf6cfa586d30aaec57c44e9b7173&idate=2023-04-18&fdate=2023-04-19\n",
      "Fetching data from http://montreal.icea.decea.mil.br:5002/api/v1/satelite?token=a779d04f85c4bf6cfa586d30aaec57c44e9b7173&idate=2023-04-19&fdate=2023-04-20\n",
      "Fetching data from http://montreal.icea.decea.mil.br:5002/api/v1/satelite?token=a779d04f85c4bf6cfa586d30aaec57c44e9b7173&idate=2023-04-20&fdate=2023-04-21\n",
      "Fetching data from http://montreal.icea.decea.mil.br:5002/api/v1/satelite?token=a779d04f85c4bf6cfa586d30aaec57c44e9b7173&idate=2023-04-21&fdate=2023-04-22\n",
      "Fetching data from http://montreal.icea.decea.mil.br:5002/api/v1/satelite?token=a779d04f85c4bf6cfa586d30aaec57c44e9b7173&idate=2023-04-22&fdate=2023-04-23\n",
      "Fetching data from http://montreal.icea.decea.mil.br:5002/api/v1/satelite?token=a779d04f85c4bf6cfa586d30aaec57c44e9b7173&idate=2023-04-23&fdate=2023-04-24\n",
      "Fetching data from http://montreal.icea.decea.mil.br:5002/api/v1/satelite?token=a779d04f85c4bf6cfa586d30aaec57c44e9b7173&idate=2023-04-24&fdate=2023-04-25\n",
      "Fetching data from http://montreal.icea.decea.mil.br:5002/api/v1/satelite?token=a779d04f85c4bf6cfa586d30aaec57c44e9b7173&idate=2023-04-25&fdate=2023-04-26\n",
      "Fetching data from http://montreal.icea.decea.mil.br:5002/api/v1/satelite?token=a779d04f85c4bf6cfa586d30aaec57c44e9b7173&idate=2023-04-26&fdate=2023-04-27\n",
      "Fetching data from http://montreal.icea.decea.mil.br:5002/api/v1/satelite?token=a779d04f85c4bf6cfa586d30aaec57c44e9b7173&idate=2023-04-27&fdate=2023-04-28\n",
      "Fetching data from http://montreal.icea.decea.mil.br:5002/api/v1/satelite?token=a779d04f85c4bf6cfa586d30aaec57c44e9b7173&idate=2023-04-28&fdate=2023-04-29\n",
      "Fetching data from http://montreal.icea.decea.mil.br:5002/api/v1/satelite?token=a779d04f85c4bf6cfa586d30aaec57c44e9b7173&idate=2023-04-29&fdate=2023-04-30\n",
      "Fetching data from http://montreal.icea.decea.mil.br:5002/api/v1/satelite?token=a779d04f85c4bf6cfa586d30aaec57c44e9b7173&idate=2023-04-30&fdate=2023-05-01\n",
      "Fetching data from http://montreal.icea.decea.mil.br:5002/api/v1/satelite?token=a779d04f85c4bf6cfa586d30aaec57c44e9b7173&idate=2023-05-01&fdate=2023-05-02\n",
      "Fetching data from http://montreal.icea.decea.mil.br:5002/api/v1/satelite?token=a779d04f85c4bf6cfa586d30aaec57c44e9b7173&idate=2023-05-02&fdate=2023-05-03\n",
      "Fetching data from http://montreal.icea.decea.mil.br:5002/api/v1/satelite?token=a779d04f85c4bf6cfa586d30aaec57c44e9b7173&idate=2023-05-03&fdate=2023-05-04\n",
      "Fetching data from http://montreal.icea.decea.mil.br:5002/api/v1/satelite?token=a779d04f85c4bf6cfa586d30aaec57c44e9b7173&idate=2023-05-04&fdate=2023-05-05\n",
      "Fetching data from http://montreal.icea.decea.mil.br:5002/api/v1/satelite?token=a779d04f85c4bf6cfa586d30aaec57c44e9b7173&idate=2023-05-05&fdate=2023-05-06\n",
      "Fetching data from http://montreal.icea.decea.mil.br:5002/api/v1/satelite?token=a779d04f85c4bf6cfa586d30aaec57c44e9b7173&idate=2023-05-06&fdate=2023-05-07\n",
      "Fetching data from http://montreal.icea.decea.mil.br:5002/api/v1/satelite?token=a779d04f85c4bf6cfa586d30aaec57c44e9b7173&idate=2023-05-07&fdate=2023-05-08\n",
      "Fetching data from http://montreal.icea.decea.mil.br:5002/api/v1/satelite?token=a779d04f85c4bf6cfa586d30aaec57c44e9b7173&idate=2023-05-08&fdate=2023-05-09\n",
      "Fetching data from http://montreal.icea.decea.mil.br:5002/api/v1/satelite?token=a779d04f85c4bf6cfa586d30aaec57c44e9b7173&idate=2023-05-09&fdate=2023-05-10\n",
      "Fetching data from http://montreal.icea.decea.mil.br:5002/api/v1/satelite?token=a779d04f85c4bf6cfa586d30aaec57c44e9b7173&idate=2023-05-10&fdate=2023-05-11\n",
      "Fetching data from http://montreal.icea.decea.mil.br:5002/api/v1/satelite?token=a779d04f85c4bf6cfa586d30aaec57c44e9b7173&idate=2023-05-11&fdate=2023-05-12\n",
      "Fetching data from http://montreal.icea.decea.mil.br:5002/api/v1/satelite?token=a779d04f85c4bf6cfa586d30aaec57c44e9b7173&idate=2023-05-12&fdate=2023-05-13\n",
      "Fetching data from http://montreal.icea.decea.mil.br:5002/api/v1/satelite?token=a779d04f85c4bf6cfa586d30aaec57c44e9b7173&idate=2023-05-13&fdate=2023-05-14\n",
      "Fetching data from http://montreal.icea.decea.mil.br:5002/api/v1/satelite?token=a779d04f85c4bf6cfa586d30aaec57c44e9b7173&idate=2023-05-14&fdate=2023-05-15\n",
      "Fetching data from http://montreal.icea.decea.mil.br:5002/api/v1/satelite?token=a779d04f85c4bf6cfa586d30aaec57c44e9b7173&idate=2023-05-15&fdate=2023-05-16\n",
      "Fetching data from http://montreal.icea.decea.mil.br:5002/api/v1/satelite?token=a779d04f85c4bf6cfa586d30aaec57c44e9b7173&idate=2023-05-16&fdate=2023-05-17\n",
      "Fetching data from http://montreal.icea.decea.mil.br:5002/api/v1/satelite?token=a779d04f85c4bf6cfa586d30aaec57c44e9b7173&idate=2023-05-17&fdate=2023-05-18\n"
     ]
    },
    {
     "name": "stderr",
     "output_type": "stream",
     "text": [
      "Carregando dados de satelite, Parte 4:  63%|██████▎   | 69/109 [00:00<00:00, 262.59it/s]"
     ]
    },
    {
     "name": "stdout",
     "output_type": "stream",
     "text": [
      "Fetching data from http://montreal.icea.decea.mil.br:5002/api/v1/satelite?token=a779d04f85c4bf6cfa586d30aaec57c44e9b7173&idate=2023-05-18&fdate=2023-05-19\n",
      "Fetching data from http://montreal.icea.decea.mil.br:5002/api/v1/satelite?token=a779d04f85c4bf6cfa586d30aaec57c44e9b7173&idate=2023-05-19&fdate=2023-05-20\n",
      "Fetching data from http://montreal.icea.decea.mil.br:5002/api/v1/satelite?token=a779d04f85c4bf6cfa586d30aaec57c44e9b7173&idate=2023-05-20&fdate=2023-05-21\n",
      "Fetching data from http://montreal.icea.decea.mil.br:5002/api/v1/satelite?token=a779d04f85c4bf6cfa586d30aaec57c44e9b7173&idate=2023-05-21&fdate=2023-05-22\n",
      "Fetching data from http://montreal.icea.decea.mil.br:5002/api/v1/satelite?token=a779d04f85c4bf6cfa586d30aaec57c44e9b7173&idate=2023-05-22&fdate=2023-05-23\n",
      "Fetching data from http://montreal.icea.decea.mil.br:5002/api/v1/satelite?token=a779d04f85c4bf6cfa586d30aaec57c44e9b7173&idate=2023-05-23&fdate=2023-05-24\n",
      "Fetching data from http://montreal.icea.decea.mil.br:5002/api/v1/satelite?token=a779d04f85c4bf6cfa586d30aaec57c44e9b7173&idate=2023-05-24&fdate=2023-05-25\n",
      "Fetching data from http://montreal.icea.decea.mil.br:5002/api/v1/satelite?token=a779d04f85c4bf6cfa586d30aaec57c44e9b7173&idate=2023-05-25&fdate=2023-05-26\n",
      "Fetching data from http://montreal.icea.decea.mil.br:5002/api/v1/satelite?token=a779d04f85c4bf6cfa586d30aaec57c44e9b7173&idate=2023-05-26&fdate=2023-05-27\n",
      "Fetching data from http://montreal.icea.decea.mil.br:5002/api/v1/satelite?token=a779d04f85c4bf6cfa586d30aaec57c44e9b7173&idate=2023-05-27&fdate=2023-05-28\n",
      "Fetching data from http://montreal.icea.decea.mil.br:5002/api/v1/satelite?token=a779d04f85c4bf6cfa586d30aaec57c44e9b7173&idate=2023-05-28&fdate=2023-05-29\n",
      "Fetching data from http://montreal.icea.decea.mil.br:5002/api/v1/satelite?token=a779d04f85c4bf6cfa586d30aaec57c44e9b7173&idate=2023-05-29&fdate=2023-05-30\n",
      "Fetching data from http://montreal.icea.decea.mil.br:5002/api/v1/satelite?token=a779d04f85c4bf6cfa586d30aaec57c44e9b7173&idate=2023-05-30&fdate=2023-05-31\n",
      "Fetching data from http://montreal.icea.decea.mil.br:5002/api/v1/satelite?token=a779d04f85c4bf6cfa586d30aaec57c44e9b7173&idate=2023-05-31&fdate=2023-06-01\n",
      "Fetching data from http://montreal.icea.decea.mil.br:5002/api/v1/satelite?token=a779d04f85c4bf6cfa586d30aaec57c44e9b7173&idate=2023-06-01&fdate=2023-06-02\n",
      "Fetching data from http://montreal.icea.decea.mil.br:5002/api/v1/satelite?token=a779d04f85c4bf6cfa586d30aaec57c44e9b7173&idate=2023-06-02&fdate=2023-06-03\n",
      "Fetching data from http://montreal.icea.decea.mil.br:5002/api/v1/satelite?token=a779d04f85c4bf6cfa586d30aaec57c44e9b7173&idate=2023-06-03&fdate=2023-06-04\n",
      "Fetching data from http://montreal.icea.decea.mil.br:5002/api/v1/satelite?token=a779d04f85c4bf6cfa586d30aaec57c44e9b7173&idate=2023-06-04&fdate=2023-06-05\n",
      "Fetching data from http://montreal.icea.decea.mil.br:5002/api/v1/satelite?token=a779d04f85c4bf6cfa586d30aaec57c44e9b7173&idate=2023-06-05&fdate=2023-06-06\n",
      "Fetching data from http://montreal.icea.decea.mil.br:5002/api/v1/satelite?token=a779d04f85c4bf6cfa586d30aaec57c44e9b7173&idate=2023-06-06&fdate=2023-06-07\n",
      "Fetching data from http://montreal.icea.decea.mil.br:5002/api/v1/satelite?token=a779d04f85c4bf6cfa586d30aaec57c44e9b7173&idate=2023-06-07&fdate=2023-06-08\n",
      "Fetching data from http://montreal.icea.decea.mil.br:5002/api/v1/satelite?token=a779d04f85c4bf6cfa586d30aaec57c44e9b7173&idate=2023-06-08&fdate=2023-06-09\n",
      "Fetching data from http://montreal.icea.decea.mil.br:5002/api/v1/satelite?token=a779d04f85c4bf6cfa586d30aaec57c44e9b7173&idate=2023-06-09&fdate=2023-06-10\n",
      "Fetching data from http://montreal.icea.decea.mil.br:5002/api/v1/satelite?token=a779d04f85c4bf6cfa586d30aaec57c44e9b7173&idate=2023-06-10&fdate=2023-06-11\n",
      "Fetching data from http://montreal.icea.decea.mil.br:5002/api/v1/satelite?token=a779d04f85c4bf6cfa586d30aaec57c44e9b7173&idate=2023-06-11&fdate=2023-06-12\n",
      "Fetching data from http://montreal.icea.decea.mil.br:5002/api/v1/satelite?token=a779d04f85c4bf6cfa586d30aaec57c44e9b7173&idate=2023-06-12&fdate=2023-06-13\n",
      "Fetching data from http://montreal.icea.decea.mil.br:5002/api/v1/satelite?token=a779d04f85c4bf6cfa586d30aaec57c44e9b7173&idate=2023-06-13&fdate=2023-06-14\n",
      "Fetching data from http://montreal.icea.decea.mil.br:5002/api/v1/satelite?token=a779d04f85c4bf6cfa586d30aaec57c44e9b7173&idate=2023-06-14&fdate=2023-06-15\n",
      "Fetching data from http://montreal.icea.decea.mil.br:5002/api/v1/satelite?token=a779d04f85c4bf6cfa586d30aaec57c44e9b7173&idate=2023-06-15&fdate=2023-06-16\n",
      "Fetching data from http://montreal.icea.decea.mil.br:5002/api/v1/satelite?token=a779d04f85c4bf6cfa586d30aaec57c44e9b7173&idate=2023-06-16&fdate=2023-06-17\n",
      "Fetching data from http://montreal.icea.decea.mil.br:5002/api/v1/satelite?token=a779d04f85c4bf6cfa586d30aaec57c44e9b7173&idate=2023-06-17&fdate=2023-06-18\n",
      "Fetching data from http://montreal.icea.decea.mil.br:5002/api/v1/satelite?token=a779d04f85c4bf6cfa586d30aaec57c44e9b7173&idate=2023-06-18&fdate=2023-06-19\n",
      "Fetching data from http://montreal.icea.decea.mil.br:5002/api/v1/satelite?token=a779d04f85c4bf6cfa586d30aaec57c44e9b7173&idate=2023-06-19&fdate=2023-06-20\n"
     ]
    },
    {
     "name": "stderr",
     "output_type": "stream",
     "text": [
      "Carregando dados de satelite, Parte 4:  89%|████████▉ | 97/109 [00:00<00:00, 248.99it/s]"
     ]
    },
    {
     "name": "stdout",
     "output_type": "stream",
     "text": [
      "Fetching data from http://montreal.icea.decea.mil.br:5002/api/v1/satelite?token=a779d04f85c4bf6cfa586d30aaec57c44e9b7173&idate=2023-06-20&fdate=2023-06-21\n",
      "Fetching data from http://montreal.icea.decea.mil.br:5002/api/v1/satelite?token=a779d04f85c4bf6cfa586d30aaec57c44e9b7173&idate=2023-06-21&fdate=2023-06-22\n",
      "Fetching data from http://montreal.icea.decea.mil.br:5002/api/v1/satelite?token=a779d04f85c4bf6cfa586d30aaec57c44e9b7173&idate=2023-06-22&fdate=2023-06-23\n",
      "Fetching data from http://montreal.icea.decea.mil.br:5002/api/v1/satelite?token=a779d04f85c4bf6cfa586d30aaec57c44e9b7173&idate=2023-06-23&fdate=2023-06-24\n",
      "Fetching data from http://montreal.icea.decea.mil.br:5002/api/v1/satelite?token=a779d04f85c4bf6cfa586d30aaec57c44e9b7173&idate=2023-06-24&fdate=2023-06-25\n",
      "Fetching data from http://montreal.icea.decea.mil.br:5002/api/v1/satelite?token=a779d04f85c4bf6cfa586d30aaec57c44e9b7173&idate=2023-06-25&fdate=2023-06-26\n",
      "Fetching data from http://montreal.icea.decea.mil.br:5002/api/v1/satelite?token=a779d04f85c4bf6cfa586d30aaec57c44e9b7173&idate=2023-06-26&fdate=2023-06-27\n",
      "Fetching data from http://montreal.icea.decea.mil.br:5002/api/v1/satelite?token=a779d04f85c4bf6cfa586d30aaec57c44e9b7173&idate=2023-06-27&fdate=2023-06-28\n",
      "Fetching data from http://montreal.icea.decea.mil.br:5002/api/v1/satelite?token=a779d04f85c4bf6cfa586d30aaec57c44e9b7173&idate=2023-06-28&fdate=2023-06-29\n",
      "Fetching data from http://montreal.icea.decea.mil.br:5002/api/v1/satelite?token=a779d04f85c4bf6cfa586d30aaec57c44e9b7173&idate=2023-06-29&fdate=2023-06-30\n",
      "Fetching data from http://montreal.icea.decea.mil.br:5002/api/v1/satelite?token=a779d04f85c4bf6cfa586d30aaec57c44e9b7173&idate=2023-06-30&fdate=2023-07-01\n",
      "Fetching data from http://montreal.icea.decea.mil.br:5002/api/v1/satelite?token=a779d04f85c4bf6cfa586d30aaec57c44e9b7173&idate=2023-07-01&fdate=2023-07-02\n"
     ]
    },
    {
     "name": "stderr",
     "output_type": "stream",
     "text": [
      "Carregando dados de satelite, Parte 4: 100%|██████████| 109/109 [00:00<00:00, 258.74it/s]"
     ]
    },
    {
     "name": "stdout",
     "output_type": "stream",
     "text": [
      "Dados de satelite salvos em satelite_part_4.csv\n"
     ]
    },
    {
     "name": "stderr",
     "output_type": "stream",
     "text": [
      "\n"
     ]
    }
   ],
   "source": [
    "# Configurações iniciais\n",
    "endarr = [\"cat-62\", 'bimtra', 'tc-real','tc-prev', 'metaf','metar','esperas','satelite']\n",
    "base_url = \"http://montreal.icea.decea.mil.br:5002/api/v1/\"\n",
    "token = \"a779d04f85c4bf6cfa586d30aaec57c44e9b7173\"\n",
    "headers = {'accept': 'application/json'}\n",
    "directory = \"\"\n",
    "\n",
    "session = requests.Session()\n",
    "\n",
    "def fetch_data(date, endpoint, date_format):\n",
    "    idate = date.strftime(date_format)\n",
    "    fdate = (date + timedelta(days=1)).strftime(date_format)\n",
    "    final_url = f\"{base_url}{endpoint}?token={token}&idate={idate}&fdate={fdate}\"\n",
    "    print(f\"Fetching data from {final_url}\")\n",
    "    response = session.get(final_url, headers=headers)\n",
    "    if response.status_code == 200:\n",
    "        return response.json()\n",
    "    return None\n",
    "\n",
    "def process_dates(dates, endpoint, date_format, part_num):\n",
    "    all_data = []\n",
    "    with ThreadPoolExecutor(max_workers=10) as executor:\n",
    "        futures = [executor.submit(fetch_data, date, endpoint, date_format) for date in dates]\n",
    "        for future in tqdm(concurrent.futures.as_completed(futures), total=len(dates), desc=f\"Carregando dados de {endpoint}, Parte {part_num}\"):\n",
    "            data = future.result()\n",
    "            if data:\n",
    "                all_data.extend(data)\n",
    "    # Save data after processing this batch\n",
    "    save_data(endpoint, all_data, part_num)\n",
    "\n",
    "def save_data(endpoint, all_data, part_num):\n",
    "    all_data_df = pd.DataFrame(all_data)\n",
    "    filename = f\"{endpoint}_part_{part_num}.csv\"\n",
    "    all_data_df.to_csv(filename, index=False)\n",
    "    print(f\"Dados de {endpoint} salvos em {filename}\")\n",
    "\n",
    "# Iterar sobre cada endpoint\n",
    "for endpoint in endarr:\n",
    "    print(f\"Processando {endpoint}\")\n",
    "    total_dates = pd.date_range(start=\"2022-05-01\", end=\"2023-07-01\", freq='D')\n",
    "    parts = 4\n",
    "    dates_per_part = len(total_dates) // parts\n",
    "    extra_dates = len(total_dates) % parts\n",
    "\n",
    "    if endpoint == \"cat-62\":\n",
    "        date_format = '%Y-%m-%d %H:%M:%S.001'\n",
    "    else:\n",
    "        date_format = '%Y-%m-%d'\n",
    "\n",
    "    # Process each part\n",
    "    for part_num in range(parts):\n",
    "        start_idx = part_num * dates_per_part\n",
    "        if part_num == parts - 1:  # Last part includes any extra dates\n",
    "            end_idx = start_idx + dates_per_part + extra_dates\n",
    "        else:\n",
    "            end_idx = start_idx + dates_per_part\n",
    "        print(f\"Processando parte {part_num + 1}/{parts}\")\n",
    "        process_dates(total_dates[start_idx:end_idx], endpoint, date_format, part_num + 1)"
   ]
  },
  {
   "cell_type": "code",
   "execution_count": null,
   "metadata": {},
   "outputs": [],
   "source": []
  }
 ],
 "metadata": {
  "kernelspec": {
   "display_name": "Python 3",
   "language": "python",
   "name": "python3"
  },
  "language_info": {
   "codemirror_mode": {
    "name": "ipython",
    "version": 3
   },
   "file_extension": ".py",
   "mimetype": "text/x-python",
   "name": "python",
   "nbconvert_exporter": "python",
   "pygments_lexer": "ipython3",
   "version": "3.10.12"
  }
 },
 "nbformat": 4,
 "nbformat_minor": 2
}
