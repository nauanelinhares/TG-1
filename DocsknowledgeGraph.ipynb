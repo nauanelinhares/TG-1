{
 "cells": [
  {
   "cell_type": "code",
   "execution_count": 1,
   "metadata": {},
   "outputs": [
    {
     "name": "stderr",
     "output_type": "stream",
     "text": [
      "/usr/lib/python3/dist-packages/scipy/__init__.py:146: UserWarning: A NumPy version >=1.17.3 and <1.25.0 is required for this version of SciPy (detected version 1.26.4\n",
      "  warnings.warn(f\"A NumPy version >={np_minversion} and <{np_maxversion}\"\n",
      "/home/nauanelinhares/.local/lib/python3.10/site-packages/pydantic/_internal/_fields.py:132: UserWarning: Field \"model_id\" in DeployedModel has conflict with protected namespace \"model_\".\n",
      "\n",
      "You may be able to resolve this warning by setting `model_config['protected_namespaces'] = ()`.\n",
      "  warnings.warn(\n",
      "/home/nauanelinhares/.local/lib/python3.10/site-packages/pydantic/_internal/_fields.py:132: UserWarning: Field \"model_name\" in HuggingFaceLLM has conflict with protected namespace \"model_\".\n",
      "\n",
      "You may be able to resolve this warning by setting `model_config['protected_namespaces'] = ()`.\n",
      "  warnings.warn(\n",
      "/home/nauanelinhares/.local/lib/python3.10/site-packages/pydantic/_internal/_fields.py:132: UserWarning: Field \"model_kwargs\" in HuggingFaceLLM has conflict with protected namespace \"model_\".\n",
      "\n",
      "You may be able to resolve this warning by setting `model_config['protected_namespaces'] = ()`.\n",
      "  warnings.warn(\n",
      "/home/nauanelinhares/.local/lib/python3.10/site-packages/pydantic/_internal/_fields.py:132: UserWarning: Field \"model_name\" in HuggingFaceInferenceAPI has conflict with protected namespace \"model_\".\n",
      "\n",
      "You may be able to resolve this warning by setting `model_config['protected_namespaces'] = ()`.\n",
      "  warnings.warn(\n",
      "/home/nauanelinhares/.local/lib/python3.10/site-packages/pydantic/_internal/_fields.py:132: UserWarning: Field \"model_name\" in TextGenerationInference has conflict with protected namespace \"model_\".\n",
      "\n",
      "You may be able to resolve this warning by setting `model_config['protected_namespaces'] = ()`.\n",
      "  warnings.warn(\n"
     ]
    }
   ],
   "source": [
    "import os\n",
    "from IPython.display import Markdown, display\n",
    "from llama_index.core import (\n",
    "    KnowledgeGraphIndex,\n",
    "    PropertyGraphIndex,\n",
    "    Settings,\n",
    "    SimpleDirectoryReader,\n",
    "    StorageContext,\n",
    "    load_index_from_storage,\n",
    "    PromptTemplate\n",
    ")\n",
    "from llama_index.core.graph_stores import SimpleGraphStore\n",
    "from llama_index.core.indices.property_graph import SchemaLLMPathExtractor\n",
    "from llama_index.embeddings.huggingface import HuggingFaceEmbedding\n",
    "from llama_index.embeddings.openai import OpenAIEmbedding\n",
    "from llama_index.graph_stores.nebula import NebulaGraphStore\n",
    "from llama_index.llms.huggingface import HuggingFaceInferenceAPI\n",
    "from llama_index.llms.ollama import Ollama\n",
    "from llama_index.llms.openai import OpenAI\n",
    "from llama_index.postprocessor.cohere_rerank import CohereRerank\n",
    "from llama_index.readers.json import JSONReader\n",
    "from llama_index.core.response_synthesizers import TreeSummarize\n",
    "from llama_index.core.query_pipeline import InputComponent, Link, QueryPipeline\n",
    "from pyvis.network import Network\n",
    "from llama_index.core.node_parser import SentenceSplitter\n",
    "from llama_index.core import PropertyGraphIndex\n",
    "from llama_index.readers.web import SimpleWebPageReader\n",
    "from llama_index.graph_stores.neo4j import Neo4jPropertyGraphStore\n",
    "from llama_index.core.indices.property_graph import SimpleLLMPathExtractor"
   ]
  },
  {
   "cell_type": "code",
   "execution_count": 2,
   "metadata": {},
   "outputs": [],
   "source": [
    "import nest_asyncio\n",
    "\n",
    "nest_asyncio.apply()"
   ]
  },
  {
   "cell_type": "markdown",
   "metadata": {},
   "source": [
    "#### Variáveis de Ambiente"
   ]
  },
  {
   "cell_type": "code",
   "execution_count": 3,
   "metadata": {},
   "outputs": [],
   "source": [
    "from dotenv import load_dotenv\n",
    "\n",
    "# Load environment variables from .env file\n",
    "load_dotenv()\n",
    "\n",
    "# Get the COHERE_API_KEY from environment variables\n",
    "COHERE_API_KEY = os.getenv(\"COHERE_API_KEY\")\n",
    "HUGGING_FACE_TOKEN = os.getenv(\"HUGGING_FACE_TOKEN\")\n",
    "OPEN_API_KEY = os.getenv(\"OPEN_API_KEY\")\n",
    "NEO4J_API_KEY = os.getenv(\"NEO4J_API_KEY\")\n",
    "NEBULA_USER = os.getenv(\"NEBULA_USER\")\n",
    "NEBULA_PASSWORD = os.getenv(\"NEBULA_PASSWORD\")\n",
    "NEBULA_ADDRESS = os.getenv(\"NEBULA_ADDRESS\")"
   ]
  },
  {
   "cell_type": "markdown",
   "metadata": {},
   "source": [
    "#### Embeddings"
   ]
  },
  {
   "cell_type": "markdown",
   "metadata": {},
   "source": [
    "#### Carregando Arquivos"
   ]
  },
  {
   "cell_type": "code",
   "execution_count": 4,
   "metadata": {},
   "outputs": [],
   "source": [
    "\n",
    "graph_store = Neo4jPropertyGraphStore(\n",
    "    username=\"neo4j\",\n",
    "    password=\"llamaindex\",\n",
    "    url=\"bolt://localhost:7687\",\n",
    "    database=\"neo4j\",\n",
    ")\n"
   ]
  },
  {
   "cell_type": "markdown",
   "metadata": {},
   "source": [
    "#### Configurações"
   ]
  },
  {
   "cell_type": "code",
   "execution_count": null,
   "metadata": {},
   "outputs": [
    {
     "name": "stdout",
     "output_type": "stream",
     "text": [
      "7\n"
     ]
    }
   ],
   "source": [
    "docs = SimpleDirectoryReader(\"./Docs\").load_data()\n",
    "print(len(docs))\n",
    "\n"
   ]
  },
  {
   "cell_type": "code",
   "execution_count": 7,
   "metadata": {},
   "outputs": [
    {
     "name": "stderr",
     "output_type": "stream",
     "text": [
      "Some weights of the model checkpoint at dunzhang/stella_en_400M_v5 were not used when initializing NewModel: ['new.pooler.dense.bias', 'new.pooler.dense.weight']\n",
      "- This IS expected if you are initializing NewModel from the checkpoint of a model trained on another task or with another architecture (e.g. initializing a BertForSequenceClassification model from a BertForPreTraining model).\n",
      "- This IS NOT expected if you are initializing NewModel from the checkpoint of a model that you expect to be exactly identical (initializing a BertForSequenceClassification model from a BertForSequenceClassification model).\n"
     ]
    }
   ],
   "source": [
    "# Definindo LLM\n",
    "# llm = Ollama(model=\"llama3.1:8b\",\n",
    "#              request_timeout=1000, temperature=0.0)\n",
    "\n",
    "llm = OpenAI(model=\"gpt-4o-mini-2024-07-18\", api_key=OPEN_API_KEY)\n",
    "Settings.llm = llm\n",
    "# Definindo modelo de embedding pelo HuggingFace\n",
    "# Settings.embed_model = OpenAIEmbedding(model=\"text-embedding-3-large\", api_key=OPEN_API_KEY)\n",
    "Settings.embed_model = HuggingFaceEmbedding(\"dunzhang/stella_en_400M_v5\", trust_remote_code=True)\n",
    "Settings.chunk_size = 512"
   ]
  },
  {
   "cell_type": "code",
   "execution_count": 9,
   "metadata": {},
   "outputs": [
    {
     "data": {
      "application/vnd.jupyter.widget-view+json": {
       "model_id": "5879846d99e5432eabf6684448447fef",
       "version_major": 2,
       "version_minor": 0
      },
      "text/plain": [
       "Parsing nodes:   0%|          | 0/7 [00:00<?, ?it/s]"
      ]
     },
     "metadata": {},
     "output_type": "display_data"
    },
    {
     "name": "stderr",
     "output_type": "stream",
     "text": [
      "Extracting paths from text: 100%|██████████| 15/15 [00:13<00:00,  1.09it/s]\n",
      "Extracting implicit paths: 100%|██████████| 15/15 [00:00<00:00, 39469.61it/s]\n",
      "Generating embeddings: 100%|██████████| 2/2 [00:06<00:00,  3.25s/it]\n",
      "Generating embeddings: 100%|██████████| 28/28 [00:54<00:00,  1.94s/it]\n"
     ]
    }
   ],
   "source": [
    "\n",
    "if os.path.exists(\"./storages\"):\n",
    "    # Load the existing vector store\n",
    "\n",
    "    storage_context = StorageContext.from_defaults(persist_dir=\"storage\")\n",
    "    kg_index = load_index_from_storage(storage_context, index_id=\"vector_index\")\n",
    "\n",
    "    print(\"Loaded existing VectorStoreIndex.\")\n",
    "else:\n",
    "    \n",
    "    # create\n",
    "    index = PropertyGraphIndex.from_documents(\n",
    "        docs,\n",
    "        graph_store=graph_store,\n",
    "        kg_extractor = SimpleLLMPathExtractor(llm=llm,\n",
    "        max_paths_per_chunk=30,\n",
    "        num_workers=6,\n",
    "    ),\n",
    "        include_embeddings=True,\n",
    "        show_progress=True,\n",
    "        Settings=Settings,\n",
    "    )\n"
   ]
  },
  {
   "cell_type": "code",
   "execution_count": null,
   "metadata": {},
   "outputs": [
    {
     "name": "stdout",
     "output_type": "stream",
     "text": [
      "GraphIndex created.\n"
     ]
    }
   ],
   "source": [
    "if not os.path.exists(\"./storage\"):\n",
    "    print(\"GraphIndex created.\")\n",
    "    \n",
    "    # Save the index to the storage directory with id \"vector_index\"\n",
    "    \n",
    "    index.set_index_id(\"vector_index\")\n",
    "    index.storage_context.persist(\"./storage\")"
   ]
  },
  {
   "cell_type": "code",
   "execution_count": 20,
   "metadata": {},
   "outputs": [],
   "source": [
    "index.property_graph_store.save_networkx_graph(name=\"./kg1.html\")"
   ]
  }
 ],
 "metadata": {
  "kernelspec": {
   "display_name": "Python 3",
   "language": "python",
   "name": "python3"
  },
  "language_info": {
   "codemirror_mode": {
    "name": "ipython",
    "version": 3
   },
   "file_extension": ".py",
   "mimetype": "text/x-python",
   "name": "python",
   "nbconvert_exporter": "python",
   "pygments_lexer": "ipython3",
   "version": "3.10.12"
  }
 },
 "nbformat": 4,
 "nbformat_minor": 2
}
